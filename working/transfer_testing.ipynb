{
 "cells": [
  {
   "cell_type": "code",
   "execution_count": 1,
   "id": "6c017799-2a69-4d8a-9038-9328c5457d29",
   "metadata": {
    "tags": []
   },
   "outputs": [],
   "source": [
    "import copy\n",
    "\n",
    "import numpy as np\n",
    "\n",
    "import cytoxnet.models.models\n",
    "import cytoxnet.dataprep.io\n",
    "import cytoxnet.dataprep.featurize\n",
    "import cytoxnet.dataprep.dataprep\n",
    "import importlib\n",
    "import matplotlib.pyplot as plt"
   ]
  },
  {
   "cell_type": "markdown",
   "id": "a07b92d0-116d-4651-849d-58ff108cb786",
   "metadata": {},
   "source": [
    "# Ivestigate transfering data across datasets"
   ]
  },
  {
   "cell_type": "markdown",
   "id": "53756745-95b2-4c3f-9536-d384165ed3fa",
   "metadata": {},
   "source": [
    "## get and prepare data"
   ]
  },
  {
   "cell_type": "markdown",
   "id": "961b202c-92e4-462c-8bcc-6107bc311c2a",
   "metadata": {},
   "source": [
    "Get data"
   ]
  },
  {
   "cell_type": "code",
   "execution_count": 109,
   "id": "726a4f1a-7d50-4e2f-9cae-d17356970038",
   "metadata": {},
   "outputs": [
    {
     "data": {
      "text/html": [
       "<div>\n",
       "<style scoped>\n",
       "    .dataframe tbody tr th:only-of-type {\n",
       "        vertical-align: middle;\n",
       "    }\n",
       "\n",
       "    .dataframe tbody tr th {\n",
       "        vertical-align: top;\n",
       "    }\n",
       "\n",
       "    .dataframe thead th {\n",
       "        text-align: right;\n",
       "    }\n",
       "</style>\n",
       "<table border=\"1\" class=\"dataframe\">\n",
       "  <thead>\n",
       "    <tr style=\"text-align: right;\">\n",
       "      <th></th>\n",
       "      <th>algea_EC50</th>\n",
       "      <th>fish_LC50</th>\n",
       "      <th>daphnia_EC50</th>\n",
       "    </tr>\n",
       "  </thead>\n",
       "  <tbody>\n",
       "    <tr>\n",
       "      <th>count</th>\n",
       "      <td>1440.000000</td>\n",
       "      <td>2199.000000</td>\n",
       "      <td>2120.000000</td>\n",
       "    </tr>\n",
       "    <tr>\n",
       "      <th>mean</th>\n",
       "      <td>118.942882</td>\n",
       "      <td>202.975335</td>\n",
       "      <td>62.426641</td>\n",
       "    </tr>\n",
       "    <tr>\n",
       "      <th>std</th>\n",
       "      <td>596.983371</td>\n",
       "      <td>1308.709203</td>\n",
       "      <td>632.706477</td>\n",
       "    </tr>\n",
       "    <tr>\n",
       "      <th>min</th>\n",
       "      <td>0.000395</td>\n",
       "      <td>0.000130</td>\n",
       "      <td>0.000000</td>\n",
       "    </tr>\n",
       "    <tr>\n",
       "      <th>25%</th>\n",
       "      <td>3.200000</td>\n",
       "      <td>1.800000</td>\n",
       "      <td>1.000000</td>\n",
       "    </tr>\n",
       "    <tr>\n",
       "      <th>50%</th>\n",
       "      <td>15.000000</td>\n",
       "      <td>9.400000</td>\n",
       "      <td>6.455000</td>\n",
       "    </tr>\n",
       "    <tr>\n",
       "      <th>75%</th>\n",
       "      <td>56.325000</td>\n",
       "      <td>52.000000</td>\n",
       "      <td>31.075000</td>\n",
       "    </tr>\n",
       "    <tr>\n",
       "      <th>max</th>\n",
       "      <td>9120.000000</td>\n",
       "      <td>37700.000000</td>\n",
       "      <td>25000.000000</td>\n",
       "    </tr>\n",
       "  </tbody>\n",
       "</table>\n",
       "</div>"
      ],
      "text/plain": [
       "        algea_EC50     fish_LC50  daphnia_EC50\n",
       "count  1440.000000   2199.000000   2120.000000\n",
       "mean    118.942882    202.975335     62.426641\n",
       "std     596.983371   1308.709203    632.706477\n",
       "min       0.000395      0.000130      0.000000\n",
       "25%       3.200000      1.800000      1.000000\n",
       "50%      15.000000      9.400000      6.455000\n",
       "75%      56.325000     52.000000     31.075000\n",
       "max    9120.000000  37700.000000  25000.000000"
      ]
     },
     "execution_count": 109,
     "metadata": {},
     "output_type": "execute_result"
    }
   ],
   "source": [
    "## loading a dataset\n",
    "data_raw = cytoxnet.dataprep.io.load_lunghini(nans='keep')\n",
    "data_raw.describe()"
   ]
  },
  {
   "cell_type": "markdown",
   "id": "9c946b72-5990-4b72-92e9-a0f6a1012ea6",
   "metadata": {},
   "source": [
    "Take the log"
   ]
  },
  {
   "cell_type": "code",
   "execution_count": 110,
   "id": "ce98b25c-597a-45cb-8856-667ce37d0235",
   "metadata": {},
   "outputs": [],
   "source": [
    "def log_trans(row):\n",
    "    inp = row.values.reshape(-1)\n",
    "    out = []\n",
    "    for val in inp:\n",
    "        if not np.isnan(val):\n",
    "            val_ = np.log(val)\n",
    "            if np.isinf(val_):\n",
    "                out.append(np.nan)\n",
    "            else:\n",
    "                out.append(val_)\n",
    "        else:\n",
    "            out.append(val)\n",
    "    return out"
   ]
  },
  {
   "cell_type": "code",
   "execution_count": 111,
   "id": "5c0f0d3b-145f-4987-9672-c05f49fb5a01",
   "metadata": {},
   "outputs": [
    {
     "name": "stderr",
     "output_type": "stream",
     "text": [
      "/Users/ek/miniconda3/envs/cytoxnet/lib/python3.6/site-packages/ipykernel_launcher.py:6: RuntimeWarning: divide by zero encountered in log\n",
      "  \n"
     ]
    }
   ],
   "source": [
    "data_raw[['algea_EC50', 'fish_LC50', 'daphnia_EC50']] = data_raw[['algea_EC50', 'fish_LC50', 'daphnia_EC50']].apply(log_trans)"
   ]
  },
  {
   "cell_type": "code",
   "execution_count": 112,
   "id": "dbc35c81-1e44-4c09-bb71-6461275e9a37",
   "metadata": {},
   "outputs": [
    {
     "data": {
      "text/html": [
       "<div>\n",
       "<style scoped>\n",
       "    .dataframe tbody tr th:only-of-type {\n",
       "        vertical-align: middle;\n",
       "    }\n",
       "\n",
       "    .dataframe tbody tr th {\n",
       "        vertical-align: top;\n",
       "    }\n",
       "\n",
       "    .dataframe thead th {\n",
       "        text-align: right;\n",
       "    }\n",
       "</style>\n",
       "<table border=\"1\" class=\"dataframe\">\n",
       "  <thead>\n",
       "    <tr style=\"text-align: right;\">\n",
       "      <th></th>\n",
       "      <th>smiles</th>\n",
       "      <th>algea_EC50</th>\n",
       "      <th>fish_LC50</th>\n",
       "      <th>daphnia_EC50</th>\n",
       "    </tr>\n",
       "  </thead>\n",
       "  <tbody>\n",
       "    <tr>\n",
       "      <th>393</th>\n",
       "      <td>CC(C)=CC1C(C(=O)OC(C#N)c2cccc(Oc3ccccc3)c2)C1(C)C</td>\n",
       "      <td>NaN</td>\n",
       "      <td>-7.929542</td>\n",
       "      <td>NaN</td>\n",
       "    </tr>\n",
       "    <tr>\n",
       "      <th>729</th>\n",
       "      <td>CC1(C)C(C(=O)OC(C#N)c2cccc(Oc3ccccc3)c2)C1(C)C</td>\n",
       "      <td>NaN</td>\n",
       "      <td>-6.061745</td>\n",
       "      <td>NaN</td>\n",
       "    </tr>\n",
       "    <tr>\n",
       "      <th>1722</th>\n",
       "      <td>CCOP(=O)(NC(C)C)Oc1ccc(SC)c(C)c1</td>\n",
       "      <td>NaN</td>\n",
       "      <td>-4.111694</td>\n",
       "      <td>NaN</td>\n",
       "    </tr>\n",
       "    <tr>\n",
       "      <th>1731</th>\n",
       "      <td>CCOP(=S)(NC(C)C)Oc1ccccc1C(=O)OC(C)C</td>\n",
       "      <td>NaN</td>\n",
       "      <td>0.559616</td>\n",
       "      <td>NaN</td>\n",
       "    </tr>\n",
       "    <tr>\n",
       "      <th>1741</th>\n",
       "      <td>CCOP(=S)(OCC)Oc1ccc2c(C)c(Cl)c(=O)oc2c1</td>\n",
       "      <td>NaN</td>\n",
       "      <td>-0.116534</td>\n",
       "      <td>NaN</td>\n",
       "    </tr>\n",
       "    <tr>\n",
       "      <th>1746</th>\n",
       "      <td>CCOP(=S)(OCC)SCSP(=S)(OCC)OCC</td>\n",
       "      <td>NaN</td>\n",
       "      <td>-0.335447</td>\n",
       "      <td>NaN</td>\n",
       "    </tr>\n",
       "    <tr>\n",
       "      <th>1930</th>\n",
       "      <td>CN(c1c(Br)cc(Br)cc1Br)c1c(cc(cc1C(F)(F)F)[N+](...</td>\n",
       "      <td>NaN</td>\n",
       "      <td>-0.578034</td>\n",
       "      <td>NaN</td>\n",
       "    </tr>\n",
       "    <tr>\n",
       "      <th>2130</th>\n",
       "      <td>COP(=O)(OC)OC(=CCl)c1cc(Cl)c(Cl)cc1Cl</td>\n",
       "      <td>NaN</td>\n",
       "      <td>-0.636767</td>\n",
       "      <td>NaN</td>\n",
       "    </tr>\n",
       "    <tr>\n",
       "      <th>2141</th>\n",
       "      <td>COP(=S)(OC)Oc1ccc(Sc2ccc(OP(=S)(OC)OC)cc2)cc1</td>\n",
       "      <td>NaN</td>\n",
       "      <td>NaN</td>\n",
       "      <td>NaN</td>\n",
       "    </tr>\n",
       "    <tr>\n",
       "      <th>2147</th>\n",
       "      <td>COP(=S)(OC)Oc1nc(Cl)c(Cl)cc1Cl</td>\n",
       "      <td>NaN</td>\n",
       "      <td>-1.200645</td>\n",
       "      <td>NaN</td>\n",
       "    </tr>\n",
       "    <tr>\n",
       "      <th>2151</th>\n",
       "      <td>COP(=S)(OC)SCn1nnc2ccccc2c1=O</td>\n",
       "      <td>NaN</td>\n",
       "      <td>-1.448170</td>\n",
       "      <td>NaN</td>\n",
       "    </tr>\n",
       "    <tr>\n",
       "      <th>2269</th>\n",
       "      <td>COc1nn(CSP(=S)(OC)OC)c(=O)s1</td>\n",
       "      <td>NaN</td>\n",
       "      <td>-4.656463</td>\n",
       "      <td>NaN</td>\n",
       "    </tr>\n",
       "    <tr>\n",
       "      <th>2753</th>\n",
       "      <td>FC(F)C(F)(F)Oc1c(Cl)cc(NC(=O)NC(=O)c2c(F)cccc2...</td>\n",
       "      <td>NaN</td>\n",
       "      <td>NaN</td>\n",
       "      <td>NaN</td>\n",
       "    </tr>\n",
       "  </tbody>\n",
       "</table>\n",
       "</div>"
      ],
      "text/plain": [
       "                                                 smiles  algea_EC50  \\\n",
       "393   CC(C)=CC1C(C(=O)OC(C#N)c2cccc(Oc3ccccc3)c2)C1(C)C         NaN   \n",
       "729      CC1(C)C(C(=O)OC(C#N)c2cccc(Oc3ccccc3)c2)C1(C)C         NaN   \n",
       "1722                   CCOP(=O)(NC(C)C)Oc1ccc(SC)c(C)c1         NaN   \n",
       "1731               CCOP(=S)(NC(C)C)Oc1ccccc1C(=O)OC(C)C         NaN   \n",
       "1741            CCOP(=S)(OCC)Oc1ccc2c(C)c(Cl)c(=O)oc2c1         NaN   \n",
       "1746                      CCOP(=S)(OCC)SCSP(=S)(OCC)OCC         NaN   \n",
       "1930  CN(c1c(Br)cc(Br)cc1Br)c1c(cc(cc1C(F)(F)F)[N+](...         NaN   \n",
       "2130              COP(=O)(OC)OC(=CCl)c1cc(Cl)c(Cl)cc1Cl         NaN   \n",
       "2141      COP(=S)(OC)Oc1ccc(Sc2ccc(OP(=S)(OC)OC)cc2)cc1         NaN   \n",
       "2147                     COP(=S)(OC)Oc1nc(Cl)c(Cl)cc1Cl         NaN   \n",
       "2151                      COP(=S)(OC)SCn1nnc2ccccc2c1=O         NaN   \n",
       "2269                       COc1nn(CSP(=S)(OC)OC)c(=O)s1         NaN   \n",
       "2753  FC(F)C(F)(F)Oc1c(Cl)cc(NC(=O)NC(=O)c2c(F)cccc2...         NaN   \n",
       "\n",
       "      fish_LC50  daphnia_EC50  \n",
       "393   -7.929542           NaN  \n",
       "729   -6.061745           NaN  \n",
       "1722  -4.111694           NaN  \n",
       "1731   0.559616           NaN  \n",
       "1741  -0.116534           NaN  \n",
       "1746  -0.335447           NaN  \n",
       "1930  -0.578034           NaN  \n",
       "2130  -0.636767           NaN  \n",
       "2141        NaN           NaN  \n",
       "2147  -1.200645           NaN  \n",
       "2151  -1.448170           NaN  \n",
       "2269  -4.656463           NaN  \n",
       "2753        NaN           NaN  "
      ]
     },
     "execution_count": 112,
     "metadata": {},
     "output_type": "execute_result"
    }
   ],
   "source": [
    "data_raw[np.isinf(data_raw_[['algea_EC50', 'fish_LC50', 'daphnia_EC50']].values)]"
   ]
  },
  {
   "cell_type": "markdown",
   "id": "d2344e90-1b79-4da1-a017-00918d20cfdf",
   "metadata": {},
   "source": [
    "Add features"
   ]
  },
  {
   "cell_type": "code",
   "execution_count": 113,
   "id": "1dbe3cea-8d2d-4008-a9e5-328a737436c8",
   "metadata": {},
   "outputs": [],
   "source": [
    "data_all = cytoxnet.dataprep.featurize.molstr_to_Mol(data_raw, 'smiles')\n",
    "data_all = cytoxnet.dataprep.featurize.add_features(data_all, method='ConvMolFeaturizer')"
   ]
  },
  {
   "cell_type": "markdown",
   "id": "79982666-1215-4961-bb35-ce5d5fd33cdf",
   "metadata": {},
   "source": [
    "Pop some algea examples to act as a global test set"
   ]
  },
  {
   "cell_type": "code",
   "execution_count": 114,
   "id": "21da0222-4cb9-4b8e-a879-e6bb056ff500",
   "metadata": {},
   "outputs": [],
   "source": [
    "dataframe_algea_test = data_all[~data_all['algea_EC50'].isnull()].sample(frac=0.2)\n",
    "dataframe_all_dev = data_all.drop(dataframe_algea_test.index, axis=0)"
   ]
  },
  {
   "cell_type": "markdown",
   "id": "7b82710e-c1ec-4204-861d-fe306474fd92",
   "metadata": {},
   "source": [
    "Make add weights for sparsity data"
   ]
  },
  {
   "cell_type": "code",
   "execution_count": 115,
   "id": "6ca352f1-20b2-4f62-b7d2-3ccdf5c96532",
   "metadata": {},
   "outputs": [],
   "source": [
    "dataframe_all_dev['w'] = list(np.float64(\n",
    "        ~dataframe_all_dev[['algea_EC50', 'fish_LC50', 'daphnia_EC50']].isnull().values\n",
    "    )\n",
    ")\n",
    "dataframe_algea_test['w'] = list(np.float64(\n",
    "        ~dataframe_algea_test[['algea_EC50', 'fish_LC50', 'daphnia_EC50']].isnull().values\n",
    "    )\n",
    ")"
   ]
  },
  {
   "cell_type": "markdown",
   "id": "42e86668-0328-41ad-85d2-523011344b94",
   "metadata": {},
   "source": [
    "Create some deepchem datasets to use"
   ]
  },
  {
   "cell_type": "code",
   "execution_count": 116,
   "id": "5e65f5f3-ffe5-4820-8b28-1252fb60265e",
   "metadata": {},
   "outputs": [],
   "source": [
    "# algea global test set\n",
    "algea_test = cytoxnet.dataprep.dataprep.convert_to_dataset(\n",
    "    dataframe_algea_test,\n",
    "    X_col = ['ConvMolFeaturizer'],\n",
    "    y_col = 'algea_EC50'\n",
    ")\n",
    "# need this test set with all 3 tasks for multitask\n",
    "dataframe_algea_test_ = dataframe_algea_test.fillna(0.0)\n",
    "algea_test_multi = cytoxnet.dataprep.dataprep.convert_to_dataset(\n",
    "    dataframe_algea_test_,\n",
    "    X_col = ['ConvMolFeaturizer'],\n",
    "    y_col = ['algea_EC50', 'fish_LC50', 'daphnia_EC50'],\n",
    "    w_col = 'w'\n",
    ")\n",
    "# algea train set - the algea indexes in the dev set\n",
    "algea_train = cytoxnet.dataprep.dataprep.convert_to_dataset(\n",
    "    dataframe_all_dev[~dataframe_all_dev['algea_EC50'].isnull()],\n",
    "    X_col = ['ConvMolFeaturizer'],\n",
    "    y_col = 'algea_EC50'\n",
    ")\n",
    "# a fish dataset\n",
    "fish_train = cytoxnet.dataprep.dataprep.convert_to_dataset(\n",
    "    dataframe_all_dev[~dataframe_all_dev['fish_LC50'].isnull()],\n",
    "    X_col = ['ConvMolFeaturizer'],\n",
    "    y_col = 'fish_LC50'\n",
    ")\n",
    "# a multitasker of all but the algea test\n",
    "# first replace nans\n",
    "dataframe_all_dev_ = dataframe_all_dev.fillna(0.0)\n",
    "multi_train = cytoxnet.dataprep.dataprep.convert_to_dataset(\n",
    "    dataframe_all_dev_,\n",
    "    X_col = ['ConvMolFeaturizer'],\n",
    "    y_col = ['algea_EC50', 'fish_LC50', 'daphnia_EC50'],\n",
    "    w_col = 'w'\n",
    ")"
   ]
  },
  {
   "cell_type": "markdown",
   "id": "28783e99-5598-4ce3-a9fa-d234efe207e3",
   "metadata": {},
   "source": [
    "## Train a baseline model on just algea data"
   ]
  },
  {
   "cell_type": "code",
   "execution_count": 118,
   "id": "021c12de-03cf-4ffc-b7ca-6410a5a6dac9",
   "metadata": {},
   "outputs": [
    {
     "name": "stdout",
     "output_type": "stream",
     "text": [
      "WARNING: No tasks passed, assuming one target\n"
     ]
    }
   ],
   "source": [
    "baseline = cytoxnet.models.models.ToxModel(\n",
    "    'GraphCNN', \n",
    "    mode='regression')"
   ]
  },
  {
   "cell_type": "markdown",
   "id": "afc0298b-4050-4e15-b6e9-aa94af285c0d",
   "metadata": {},
   "source": [
    "Let's use 150 epochs as a baseline."
   ]
  },
  {
   "cell_type": "code",
   "execution_count": 119,
   "id": "f77fd24c-d060-41ed-83f7-b20740704e8b",
   "metadata": {
    "collapsed": true,
    "jupyter": {
     "outputs_hidden": true
    },
    "tags": []
   },
   "outputs": [
    {
     "name": "stderr",
     "output_type": "stream",
     "text": [
      "/Users/ek/miniconda3/envs/cytoxnet/lib/python3.6/site-packages/tensorflow/python/framework/indexed_slices.py:437: UserWarning: Converting sparse IndexedSlices(IndexedSlices(indices=Tensor(\"gradient_tape/private__graph_conv_keras_model_10/graph_pool_21/Reshape_14:0\", shape=(310,), dtype=int32), values=Tensor(\"gradient_tape/private__graph_conv_keras_model_10/graph_pool_21/Reshape_13:0\", shape=(310, 64), dtype=float32), dense_shape=Tensor(\"gradient_tape/private__graph_conv_keras_model_10/graph_pool_21/Cast_4:0\", shape=(2,), dtype=int32))) to a dense Tensor of unknown shape. This may consume a large amount of memory.\n",
      "  \"shape. This may consume a large amount of memory.\" % value)\n",
      "/Users/ek/miniconda3/envs/cytoxnet/lib/python3.6/site-packages/tensorflow/python/framework/indexed_slices.py:437: UserWarning: Converting sparse IndexedSlices(IndexedSlices(indices=Tensor(\"gradient_tape/private__graph_conv_keras_model_10/graph_pool_21/Reshape_17:0\", shape=(1278,), dtype=int32), values=Tensor(\"gradient_tape/private__graph_conv_keras_model_10/graph_pool_21/Reshape_16:0\", shape=(1278, 64), dtype=float32), dense_shape=Tensor(\"gradient_tape/private__graph_conv_keras_model_10/graph_pool_21/Cast_5:0\", shape=(2,), dtype=int32))) to a dense Tensor of unknown shape. This may consume a large amount of memory.\n",
      "  \"shape. This may consume a large amount of memory.\" % value)\n",
      "/Users/ek/miniconda3/envs/cytoxnet/lib/python3.6/site-packages/tensorflow/python/framework/indexed_slices.py:437: UserWarning: Converting sparse IndexedSlices(IndexedSlices(indices=Tensor(\"gradient_tape/private__graph_conv_keras_model_10/graph_pool_21/Reshape_20:0\", shape=(792,), dtype=int32), values=Tensor(\"gradient_tape/private__graph_conv_keras_model_10/graph_pool_21/Reshape_19:0\", shape=(792, 64), dtype=float32), dense_shape=Tensor(\"gradient_tape/private__graph_conv_keras_model_10/graph_pool_21/Cast_6:0\", shape=(2,), dtype=int32))) to a dense Tensor of unknown shape. This may consume a large amount of memory.\n",
      "  \"shape. This may consume a large amount of memory.\" % value)\n",
      "/Users/ek/miniconda3/envs/cytoxnet/lib/python3.6/site-packages/tensorflow/python/framework/indexed_slices.py:437: UserWarning: Converting sparse IndexedSlices(IndexedSlices(indices=Tensor(\"gradient_tape/private__graph_conv_keras_model_10/graph_pool_21/Reshape_23:0\", shape=(88,), dtype=int32), values=Tensor(\"gradient_tape/private__graph_conv_keras_model_10/graph_pool_21/Reshape_22:0\", shape=(88, 64), dtype=float32), dense_shape=Tensor(\"gradient_tape/private__graph_conv_keras_model_10/graph_pool_21/Cast_7:0\", shape=(2,), dtype=int32))) to a dense Tensor of unknown shape. This may consume a large amount of memory.\n",
      "  \"shape. This may consume a large amount of memory.\" % value)\n",
      "/Users/ek/miniconda3/envs/cytoxnet/lib/python3.6/site-packages/tensorflow/python/framework/indexed_slices.py:437: UserWarning: Converting sparse IndexedSlices(IndexedSlices(indices=Tensor(\"gradient_tape/private__graph_conv_keras_model_10/graph_conv_21/Reshape_11:0\", shape=(310,), dtype=int32), values=Tensor(\"gradient_tape/private__graph_conv_keras_model_10/graph_conv_21/Reshape_10:0\", shape=(310, 64), dtype=float32), dense_shape=Tensor(\"gradient_tape/private__graph_conv_keras_model_10/graph_conv_21/Cast:0\", shape=(2,), dtype=int32))) to a dense Tensor of unknown shape. This may consume a large amount of memory.\n",
      "  \"shape. This may consume a large amount of memory.\" % value)\n",
      "/Users/ek/miniconda3/envs/cytoxnet/lib/python3.6/site-packages/tensorflow/python/framework/indexed_slices.py:437: UserWarning: Converting sparse IndexedSlices(IndexedSlices(indices=Tensor(\"gradient_tape/private__graph_conv_keras_model_10/graph_conv_21/Reshape_13:0\", shape=(1278,), dtype=int32), values=Tensor(\"gradient_tape/private__graph_conv_keras_model_10/graph_conv_21/Reshape_12:0\", shape=(1278, 64), dtype=float32), dense_shape=Tensor(\"gradient_tape/private__graph_conv_keras_model_10/graph_conv_21/Cast_1:0\", shape=(2,), dtype=int32))) to a dense Tensor of unknown shape. This may consume a large amount of memory.\n",
      "  \"shape. This may consume a large amount of memory.\" % value)\n",
      "/Users/ek/miniconda3/envs/cytoxnet/lib/python3.6/site-packages/tensorflow/python/framework/indexed_slices.py:437: UserWarning: Converting sparse IndexedSlices(IndexedSlices(indices=Tensor(\"gradient_tape/private__graph_conv_keras_model_10/graph_conv_21/Reshape_15:0\", shape=(792,), dtype=int32), values=Tensor(\"gradient_tape/private__graph_conv_keras_model_10/graph_conv_21/Reshape_14:0\", shape=(792, 64), dtype=float32), dense_shape=Tensor(\"gradient_tape/private__graph_conv_keras_model_10/graph_conv_21/Cast_2:0\", shape=(2,), dtype=int32))) to a dense Tensor of unknown shape. This may consume a large amount of memory.\n",
      "  \"shape. This may consume a large amount of memory.\" % value)\n",
      "/Users/ek/miniconda3/envs/cytoxnet/lib/python3.6/site-packages/tensorflow/python/framework/indexed_slices.py:437: UserWarning: Converting sparse IndexedSlices(IndexedSlices(indices=Tensor(\"gradient_tape/private__graph_conv_keras_model_10/graph_conv_21/Reshape_17:0\", shape=(88,), dtype=int32), values=Tensor(\"gradient_tape/private__graph_conv_keras_model_10/graph_conv_21/Reshape_16:0\", shape=(88, 64), dtype=float32), dense_shape=Tensor(\"gradient_tape/private__graph_conv_keras_model_10/graph_conv_21/Cast_3:0\", shape=(2,), dtype=int32))) to a dense Tensor of unknown shape. This may consume a large amount of memory.\n",
      "  \"shape. This may consume a large amount of memory.\" % value)\n",
      "/Users/ek/miniconda3/envs/cytoxnet/lib/python3.6/site-packages/tensorflow/python/framework/indexed_slices.py:437: UserWarning: Converting sparse IndexedSlices(IndexedSlices(indices=Tensor(\"gradient_tape/private__graph_conv_keras_model_10/graph_conv_21/Reshape_19:0\", shape=(0,), dtype=int32), values=Tensor(\"gradient_tape/private__graph_conv_keras_model_10/graph_conv_21/Reshape_18:0\", shape=(0, 64), dtype=float32), dense_shape=Tensor(\"gradient_tape/private__graph_conv_keras_model_10/graph_conv_21/Cast_4:0\", shape=(2,), dtype=int32))) to a dense Tensor of unknown shape. This may consume a large amount of memory.\n",
      "  \"shape. This may consume a large amount of memory.\" % value)\n",
      "/Users/ek/miniconda3/envs/cytoxnet/lib/python3.6/site-packages/tensorflow/python/framework/indexed_slices.py:437: UserWarning: Converting sparse IndexedSlices(IndexedSlices(indices=Tensor(\"gradient_tape/private__graph_conv_keras_model_10/graph_conv_21/Reshape_21:0\", shape=(0,), dtype=int32), values=Tensor(\"gradient_tape/private__graph_conv_keras_model_10/graph_conv_21/Reshape_20:0\", shape=(0, 64), dtype=float32), dense_shape=Tensor(\"gradient_tape/private__graph_conv_keras_model_10/graph_conv_21/Cast_5:0\", shape=(2,), dtype=int32))) to a dense Tensor of unknown shape. This may consume a large amount of memory.\n",
      "  \"shape. This may consume a large amount of memory.\" % value)\n",
      "/Users/ek/miniconda3/envs/cytoxnet/lib/python3.6/site-packages/tensorflow/python/framework/indexed_slices.py:437: UserWarning: Converting sparse IndexedSlices(IndexedSlices(indices=Tensor(\"gradient_tape/private__graph_conv_keras_model_10/graph_conv_21/Reshape_23:0\", shape=(0,), dtype=int32), values=Tensor(\"gradient_tape/private__graph_conv_keras_model_10/graph_conv_21/Reshape_22:0\", shape=(0, 64), dtype=float32), dense_shape=Tensor(\"gradient_tape/private__graph_conv_keras_model_10/graph_conv_21/Cast_6:0\", shape=(2,), dtype=int32))) to a dense Tensor of unknown shape. This may consume a large amount of memory.\n",
      "  \"shape. This may consume a large amount of memory.\" % value)\n",
      "/Users/ek/miniconda3/envs/cytoxnet/lib/python3.6/site-packages/tensorflow/python/framework/indexed_slices.py:437: UserWarning: Converting sparse IndexedSlices(IndexedSlices(indices=Tensor(\"gradient_tape/private__graph_conv_keras_model_10/graph_conv_21/Reshape_25:0\", shape=(0,), dtype=int32), values=Tensor(\"gradient_tape/private__graph_conv_keras_model_10/graph_conv_21/Reshape_24:0\", shape=(0, 64), dtype=float32), dense_shape=Tensor(\"gradient_tape/private__graph_conv_keras_model_10/graph_conv_21/Cast_7:0\", shape=(2,), dtype=int32))) to a dense Tensor of unknown shape. This may consume a large amount of memory.\n",
      "  \"shape. This may consume a large amount of memory.\" % value)\n",
      "/Users/ek/miniconda3/envs/cytoxnet/lib/python3.6/site-packages/tensorflow/python/framework/indexed_slices.py:437: UserWarning: Converting sparse IndexedSlices(IndexedSlices(indices=Tensor(\"gradient_tape/private__graph_conv_keras_model_10/graph_conv_21/Reshape_27:0\", shape=(0,), dtype=int32), values=Tensor(\"gradient_tape/private__graph_conv_keras_model_10/graph_conv_21/Reshape_26:0\", shape=(0, 64), dtype=float32), dense_shape=Tensor(\"gradient_tape/private__graph_conv_keras_model_10/graph_conv_21/Cast_8:0\", shape=(2,), dtype=int32))) to a dense Tensor of unknown shape. This may consume a large amount of memory.\n",
      "  \"shape. This may consume a large amount of memory.\" % value)\n",
      "/Users/ek/miniconda3/envs/cytoxnet/lib/python3.6/site-packages/tensorflow/python/framework/indexed_slices.py:437: UserWarning: Converting sparse IndexedSlices(IndexedSlices(indices=Tensor(\"gradient_tape/private__graph_conv_keras_model_10/graph_conv_21/Reshape_29:0\", shape=(0,), dtype=int32), values=Tensor(\"gradient_tape/private__graph_conv_keras_model_10/graph_conv_21/Reshape_28:0\", shape=(0, 64), dtype=float32), dense_shape=Tensor(\"gradient_tape/private__graph_conv_keras_model_10/graph_conv_21/Cast_9:0\", shape=(2,), dtype=int32))) to a dense Tensor of unknown shape. This may consume a large amount of memory.\n",
      "  \"shape. This may consume a large amount of memory.\" % value)\n",
      "/Users/ek/miniconda3/envs/cytoxnet/lib/python3.6/site-packages/tensorflow/python/framework/indexed_slices.py:437: UserWarning: Converting sparse IndexedSlices(IndexedSlices(indices=Tensor(\"gradient_tape/private__graph_conv_keras_model_10/graph_pool_20/Reshape_14:0\", shape=(310,), dtype=int32), values=Tensor(\"gradient_tape/private__graph_conv_keras_model_10/graph_pool_20/Reshape_13:0\", shape=(310, 64), dtype=float32), dense_shape=Tensor(\"gradient_tape/private__graph_conv_keras_model_10/graph_pool_20/Cast_4:0\", shape=(2,), dtype=int32))) to a dense Tensor of unknown shape. This may consume a large amount of memory.\n",
      "  \"shape. This may consume a large amount of memory.\" % value)\n",
      "/Users/ek/miniconda3/envs/cytoxnet/lib/python3.6/site-packages/tensorflow/python/framework/indexed_slices.py:437: UserWarning: Converting sparse IndexedSlices(IndexedSlices(indices=Tensor(\"gradient_tape/private__graph_conv_keras_model_10/graph_pool_20/Reshape_17:0\", shape=(1278,), dtype=int32), values=Tensor(\"gradient_tape/private__graph_conv_keras_model_10/graph_pool_20/Reshape_16:0\", shape=(1278, 64), dtype=float32), dense_shape=Tensor(\"gradient_tape/private__graph_conv_keras_model_10/graph_pool_20/Cast_5:0\", shape=(2,), dtype=int32))) to a dense Tensor of unknown shape. This may consume a large amount of memory.\n",
      "  \"shape. This may consume a large amount of memory.\" % value)\n",
      "/Users/ek/miniconda3/envs/cytoxnet/lib/python3.6/site-packages/tensorflow/python/framework/indexed_slices.py:437: UserWarning: Converting sparse IndexedSlices(IndexedSlices(indices=Tensor(\"gradient_tape/private__graph_conv_keras_model_10/graph_pool_20/Reshape_20:0\", shape=(792,), dtype=int32), values=Tensor(\"gradient_tape/private__graph_conv_keras_model_10/graph_pool_20/Reshape_19:0\", shape=(792, 64), dtype=float32), dense_shape=Tensor(\"gradient_tape/private__graph_conv_keras_model_10/graph_pool_20/Cast_6:0\", shape=(2,), dtype=int32))) to a dense Tensor of unknown shape. This may consume a large amount of memory.\n",
      "  \"shape. This may consume a large amount of memory.\" % value)\n",
      "/Users/ek/miniconda3/envs/cytoxnet/lib/python3.6/site-packages/tensorflow/python/framework/indexed_slices.py:437: UserWarning: Converting sparse IndexedSlices(IndexedSlices(indices=Tensor(\"gradient_tape/private__graph_conv_keras_model_10/graph_pool_20/Reshape_23:0\", shape=(88,), dtype=int32), values=Tensor(\"gradient_tape/private__graph_conv_keras_model_10/graph_pool_20/Reshape_22:0\", shape=(88, 64), dtype=float32), dense_shape=Tensor(\"gradient_tape/private__graph_conv_keras_model_10/graph_pool_20/Cast_7:0\", shape=(2,), dtype=int32))) to a dense Tensor of unknown shape. This may consume a large amount of memory.\n",
      "  \"shape. This may consume a large amount of memory.\" % value)\n",
      "/Users/ek/miniconda3/envs/cytoxnet/lib/python3.6/site-packages/tensorflow/python/framework/indexed_slices.py:437: UserWarning: Converting sparse IndexedSlices(IndexedSlices(indices=Tensor(\"gradient_tape/private__graph_conv_keras_model_10/graph_pool_21/Reshape_14:0\", shape=(315,), dtype=int32), values=Tensor(\"gradient_tape/private__graph_conv_keras_model_10/graph_pool_21/Reshape_13:0\", shape=(315, 64), dtype=float32), dense_shape=Tensor(\"gradient_tape/private__graph_conv_keras_model_10/graph_pool_21/Cast_4:0\", shape=(2,), dtype=int32))) to a dense Tensor of unknown shape. This may consume a large amount of memory.\n",
      "  \"shape. This may consume a large amount of memory.\" % value)\n",
      "/Users/ek/miniconda3/envs/cytoxnet/lib/python3.6/site-packages/tensorflow/python/framework/indexed_slices.py:437: UserWarning: Converting sparse IndexedSlices(IndexedSlices(indices=Tensor(\"gradient_tape/private__graph_conv_keras_model_10/graph_pool_21/Reshape_17:0\", shape=(1214,), dtype=int32), values=Tensor(\"gradient_tape/private__graph_conv_keras_model_10/graph_pool_21/Reshape_16:0\", shape=(1214, 64), dtype=float32), dense_shape=Tensor(\"gradient_tape/private__graph_conv_keras_model_10/graph_pool_21/Cast_5:0\", shape=(2,), dtype=int32))) to a dense Tensor of unknown shape. This may consume a large amount of memory.\n",
      "  \"shape. This may consume a large amount of memory.\" % value)\n",
      "/Users/ek/miniconda3/envs/cytoxnet/lib/python3.6/site-packages/tensorflow/python/framework/indexed_slices.py:437: UserWarning: Converting sparse IndexedSlices(IndexedSlices(indices=Tensor(\"gradient_tape/private__graph_conv_keras_model_10/graph_pool_21/Reshape_20:0\", shape=(747,), dtype=int32), values=Tensor(\"gradient_tape/private__graph_conv_keras_model_10/graph_pool_21/Reshape_19:0\", shape=(747, 64), dtype=float32), dense_shape=Tensor(\"gradient_tape/private__graph_conv_keras_model_10/graph_pool_21/Cast_6:0\", shape=(2,), dtype=int32))) to a dense Tensor of unknown shape. This may consume a large amount of memory.\n",
      "  \"shape. This may consume a large amount of memory.\" % value)\n",
      "/Users/ek/miniconda3/envs/cytoxnet/lib/python3.6/site-packages/tensorflow/python/framework/indexed_slices.py:437: UserWarning: Converting sparse IndexedSlices(IndexedSlices(indices=Tensor(\"gradient_tape/private__graph_conv_keras_model_10/graph_pool_21/Reshape_23:0\", shape=(84,), dtype=int32), values=Tensor(\"gradient_tape/private__graph_conv_keras_model_10/graph_pool_21/Reshape_22:0\", shape=(84, 64), dtype=float32), dense_shape=Tensor(\"gradient_tape/private__graph_conv_keras_model_10/graph_pool_21/Cast_7:0\", shape=(2,), dtype=int32))) to a dense Tensor of unknown shape. This may consume a large amount of memory.\n",
      "  \"shape. This may consume a large amount of memory.\" % value)\n",
      "/Users/ek/miniconda3/envs/cytoxnet/lib/python3.6/site-packages/tensorflow/python/framework/indexed_slices.py:437: UserWarning: Converting sparse IndexedSlices(IndexedSlices(indices=Tensor(\"gradient_tape/private__graph_conv_keras_model_10/graph_conv_21/Reshape_11:0\", shape=(315,), dtype=int32), values=Tensor(\"gradient_tape/private__graph_conv_keras_model_10/graph_conv_21/Reshape_10:0\", shape=(315, 64), dtype=float32), dense_shape=Tensor(\"gradient_tape/private__graph_conv_keras_model_10/graph_conv_21/Cast:0\", shape=(2,), dtype=int32))) to a dense Tensor of unknown shape. This may consume a large amount of memory.\n",
      "  \"shape. This may consume a large amount of memory.\" % value)\n",
      "/Users/ek/miniconda3/envs/cytoxnet/lib/python3.6/site-packages/tensorflow/python/framework/indexed_slices.py:437: UserWarning: Converting sparse IndexedSlices(IndexedSlices(indices=Tensor(\"gradient_tape/private__graph_conv_keras_model_10/graph_conv_21/Reshape_13:0\", shape=(1214,), dtype=int32), values=Tensor(\"gradient_tape/private__graph_conv_keras_model_10/graph_conv_21/Reshape_12:0\", shape=(1214, 64), dtype=float32), dense_shape=Tensor(\"gradient_tape/private__graph_conv_keras_model_10/graph_conv_21/Cast_1:0\", shape=(2,), dtype=int32))) to a dense Tensor of unknown shape. This may consume a large amount of memory.\n",
      "  \"shape. This may consume a large amount of memory.\" % value)\n",
      "/Users/ek/miniconda3/envs/cytoxnet/lib/python3.6/site-packages/tensorflow/python/framework/indexed_slices.py:437: UserWarning: Converting sparse IndexedSlices(IndexedSlices(indices=Tensor(\"gradient_tape/private__graph_conv_keras_model_10/graph_conv_21/Reshape_15:0\", shape=(747,), dtype=int32), values=Tensor(\"gradient_tape/private__graph_conv_keras_model_10/graph_conv_21/Reshape_14:0\", shape=(747, 64), dtype=float32), dense_shape=Tensor(\"gradient_tape/private__graph_conv_keras_model_10/graph_conv_21/Cast_2:0\", shape=(2,), dtype=int32))) to a dense Tensor of unknown shape. This may consume a large amount of memory.\n",
      "  \"shape. This may consume a large amount of memory.\" % value)\n",
      "/Users/ek/miniconda3/envs/cytoxnet/lib/python3.6/site-packages/tensorflow/python/framework/indexed_slices.py:437: UserWarning: Converting sparse IndexedSlices(IndexedSlices(indices=Tensor(\"gradient_tape/private__graph_conv_keras_model_10/graph_conv_21/Reshape_17:0\", shape=(84,), dtype=int32), values=Tensor(\"gradient_tape/private__graph_conv_keras_model_10/graph_conv_21/Reshape_16:0\", shape=(84, 64), dtype=float32), dense_shape=Tensor(\"gradient_tape/private__graph_conv_keras_model_10/graph_conv_21/Cast_3:0\", shape=(2,), dtype=int32))) to a dense Tensor of unknown shape. This may consume a large amount of memory.\n",
      "  \"shape. This may consume a large amount of memory.\" % value)\n",
      "/Users/ek/miniconda3/envs/cytoxnet/lib/python3.6/site-packages/tensorflow/python/framework/indexed_slices.py:437: UserWarning: Converting sparse IndexedSlices(IndexedSlices(indices=Tensor(\"gradient_tape/private__graph_conv_keras_model_10/graph_pool_20/Reshape_14:0\", shape=(315,), dtype=int32), values=Tensor(\"gradient_tape/private__graph_conv_keras_model_10/graph_pool_20/Reshape_13:0\", shape=(315, 64), dtype=float32), dense_shape=Tensor(\"gradient_tape/private__graph_conv_keras_model_10/graph_pool_20/Cast_4:0\", shape=(2,), dtype=int32))) to a dense Tensor of unknown shape. This may consume a large amount of memory.\n",
      "  \"shape. This may consume a large amount of memory.\" % value)\n",
      "/Users/ek/miniconda3/envs/cytoxnet/lib/python3.6/site-packages/tensorflow/python/framework/indexed_slices.py:437: UserWarning: Converting sparse IndexedSlices(IndexedSlices(indices=Tensor(\"gradient_tape/private__graph_conv_keras_model_10/graph_pool_20/Reshape_17:0\", shape=(1214,), dtype=int32), values=Tensor(\"gradient_tape/private__graph_conv_keras_model_10/graph_pool_20/Reshape_16:0\", shape=(1214, 64), dtype=float32), dense_shape=Tensor(\"gradient_tape/private__graph_conv_keras_model_10/graph_pool_20/Cast_5:0\", shape=(2,), dtype=int32))) to a dense Tensor of unknown shape. This may consume a large amount of memory.\n",
      "  \"shape. This may consume a large amount of memory.\" % value)\n",
      "/Users/ek/miniconda3/envs/cytoxnet/lib/python3.6/site-packages/tensorflow/python/framework/indexed_slices.py:437: UserWarning: Converting sparse IndexedSlices(IndexedSlices(indices=Tensor(\"gradient_tape/private__graph_conv_keras_model_10/graph_pool_20/Reshape_20:0\", shape=(747,), dtype=int32), values=Tensor(\"gradient_tape/private__graph_conv_keras_model_10/graph_pool_20/Reshape_19:0\", shape=(747, 64), dtype=float32), dense_shape=Tensor(\"gradient_tape/private__graph_conv_keras_model_10/graph_pool_20/Cast_6:0\", shape=(2,), dtype=int32))) to a dense Tensor of unknown shape. This may consume a large amount of memory.\n",
      "  \"shape. This may consume a large amount of memory.\" % value)\n",
      "/Users/ek/miniconda3/envs/cytoxnet/lib/python3.6/site-packages/tensorflow/python/framework/indexed_slices.py:437: UserWarning: Converting sparse IndexedSlices(IndexedSlices(indices=Tensor(\"gradient_tape/private__graph_conv_keras_model_10/graph_pool_20/Reshape_23:0\", shape=(84,), dtype=int32), values=Tensor(\"gradient_tape/private__graph_conv_keras_model_10/graph_pool_20/Reshape_22:0\", shape=(84, 64), dtype=float32), dense_shape=Tensor(\"gradient_tape/private__graph_conv_keras_model_10/graph_pool_20/Cast_7:0\", shape=(2,), dtype=int32))) to a dense Tensor of unknown shape. This may consume a large amount of memory.\n",
      "  \"shape. This may consume a large amount of memory.\" % value)\n",
      "/Users/ek/miniconda3/envs/cytoxnet/lib/python3.6/site-packages/tensorflow/python/framework/indexed_slices.py:437: UserWarning: Converting sparse IndexedSlices(IndexedSlices(indices=Tensor(\"gradient_tape/private__graph_conv_keras_model_10/graph_pool_21/Reshape_14:0\", shape=(None,), dtype=int32), values=Tensor(\"gradient_tape/private__graph_conv_keras_model_10/graph_pool_21/Reshape_13:0\", shape=(None, 64), dtype=float32), dense_shape=Tensor(\"gradient_tape/private__graph_conv_keras_model_10/graph_pool_21/Cast_4:0\", shape=(2,), dtype=int32))) to a dense Tensor of unknown shape. This may consume a large amount of memory.\n",
      "  \"shape. This may consume a large amount of memory.\" % value)\n",
      "/Users/ek/miniconda3/envs/cytoxnet/lib/python3.6/site-packages/tensorflow/python/framework/indexed_slices.py:437: UserWarning: Converting sparse IndexedSlices(IndexedSlices(indices=Tensor(\"gradient_tape/private__graph_conv_keras_model_10/graph_pool_21/Reshape_17:0\", shape=(None,), dtype=int32), values=Tensor(\"gradient_tape/private__graph_conv_keras_model_10/graph_pool_21/Reshape_16:0\", shape=(None, 64), dtype=float32), dense_shape=Tensor(\"gradient_tape/private__graph_conv_keras_model_10/graph_pool_21/Cast_5:0\", shape=(2,), dtype=int32))) to a dense Tensor of unknown shape. This may consume a large amount of memory.\n",
      "  \"shape. This may consume a large amount of memory.\" % value)\n",
      "/Users/ek/miniconda3/envs/cytoxnet/lib/python3.6/site-packages/tensorflow/python/framework/indexed_slices.py:437: UserWarning: Converting sparse IndexedSlices(IndexedSlices(indices=Tensor(\"gradient_tape/private__graph_conv_keras_model_10/graph_pool_21/Reshape_20:0\", shape=(None,), dtype=int32), values=Tensor(\"gradient_tape/private__graph_conv_keras_model_10/graph_pool_21/Reshape_19:0\", shape=(None, 64), dtype=float32), dense_shape=Tensor(\"gradient_tape/private__graph_conv_keras_model_10/graph_pool_21/Cast_6:0\", shape=(2,), dtype=int32))) to a dense Tensor of unknown shape. This may consume a large amount of memory.\n",
      "  \"shape. This may consume a large amount of memory.\" % value)\n",
      "/Users/ek/miniconda3/envs/cytoxnet/lib/python3.6/site-packages/tensorflow/python/framework/indexed_slices.py:437: UserWarning: Converting sparse IndexedSlices(IndexedSlices(indices=Tensor(\"gradient_tape/private__graph_conv_keras_model_10/graph_pool_21/Reshape_23:0\", shape=(None,), dtype=int32), values=Tensor(\"gradient_tape/private__graph_conv_keras_model_10/graph_pool_21/Reshape_22:0\", shape=(None, 64), dtype=float32), dense_shape=Tensor(\"gradient_tape/private__graph_conv_keras_model_10/graph_pool_21/Cast_7:0\", shape=(2,), dtype=int32))) to a dense Tensor of unknown shape. This may consume a large amount of memory.\n",
      "  \"shape. This may consume a large amount of memory.\" % value)\n",
      "/Users/ek/miniconda3/envs/cytoxnet/lib/python3.6/site-packages/tensorflow/python/framework/indexed_slices.py:437: UserWarning: Converting sparse IndexedSlices(IndexedSlices(indices=Tensor(\"gradient_tape/private__graph_conv_keras_model_10/graph_conv_21/Reshape_11:0\", shape=(None,), dtype=int32), values=Tensor(\"gradient_tape/private__graph_conv_keras_model_10/graph_conv_21/Reshape_10:0\", shape=(None, 64), dtype=float32), dense_shape=Tensor(\"gradient_tape/private__graph_conv_keras_model_10/graph_conv_21/Cast:0\", shape=(2,), dtype=int32))) to a dense Tensor of unknown shape. This may consume a large amount of memory.\n",
      "  \"shape. This may consume a large amount of memory.\" % value)\n",
      "/Users/ek/miniconda3/envs/cytoxnet/lib/python3.6/site-packages/tensorflow/python/framework/indexed_slices.py:437: UserWarning: Converting sparse IndexedSlices(IndexedSlices(indices=Tensor(\"gradient_tape/private__graph_conv_keras_model_10/graph_conv_21/Reshape_13:0\", shape=(None,), dtype=int32), values=Tensor(\"gradient_tape/private__graph_conv_keras_model_10/graph_conv_21/Reshape_12:0\", shape=(None, 64), dtype=float32), dense_shape=Tensor(\"gradient_tape/private__graph_conv_keras_model_10/graph_conv_21/Cast_1:0\", shape=(2,), dtype=int32))) to a dense Tensor of unknown shape. This may consume a large amount of memory.\n",
      "  \"shape. This may consume a large amount of memory.\" % value)\n",
      "/Users/ek/miniconda3/envs/cytoxnet/lib/python3.6/site-packages/tensorflow/python/framework/indexed_slices.py:437: UserWarning: Converting sparse IndexedSlices(IndexedSlices(indices=Tensor(\"gradient_tape/private__graph_conv_keras_model_10/graph_conv_21/Reshape_15:0\", shape=(None,), dtype=int32), values=Tensor(\"gradient_tape/private__graph_conv_keras_model_10/graph_conv_21/Reshape_14:0\", shape=(None, 64), dtype=float32), dense_shape=Tensor(\"gradient_tape/private__graph_conv_keras_model_10/graph_conv_21/Cast_2:0\", shape=(2,), dtype=int32))) to a dense Tensor of unknown shape. This may consume a large amount of memory.\n",
      "  \"shape. This may consume a large amount of memory.\" % value)\n",
      "/Users/ek/miniconda3/envs/cytoxnet/lib/python3.6/site-packages/tensorflow/python/framework/indexed_slices.py:437: UserWarning: Converting sparse IndexedSlices(IndexedSlices(indices=Tensor(\"gradient_tape/private__graph_conv_keras_model_10/graph_conv_21/Reshape_17:0\", shape=(None,), dtype=int32), values=Tensor(\"gradient_tape/private__graph_conv_keras_model_10/graph_conv_21/Reshape_16:0\", shape=(None, 64), dtype=float32), dense_shape=Tensor(\"gradient_tape/private__graph_conv_keras_model_10/graph_conv_21/Cast_3:0\", shape=(2,), dtype=int32))) to a dense Tensor of unknown shape. This may consume a large amount of memory.\n",
      "  \"shape. This may consume a large amount of memory.\" % value)\n",
      "/Users/ek/miniconda3/envs/cytoxnet/lib/python3.6/site-packages/tensorflow/python/framework/indexed_slices.py:437: UserWarning: Converting sparse IndexedSlices(IndexedSlices(indices=Tensor(\"gradient_tape/private__graph_conv_keras_model_10/graph_pool_20/Reshape_14:0\", shape=(None,), dtype=int32), values=Tensor(\"gradient_tape/private__graph_conv_keras_model_10/graph_pool_20/Reshape_13:0\", shape=(None, 64), dtype=float32), dense_shape=Tensor(\"gradient_tape/private__graph_conv_keras_model_10/graph_pool_20/Cast_4:0\", shape=(2,), dtype=int32))) to a dense Tensor of unknown shape. This may consume a large amount of memory.\n",
      "  \"shape. This may consume a large amount of memory.\" % value)\n",
      "/Users/ek/miniconda3/envs/cytoxnet/lib/python3.6/site-packages/tensorflow/python/framework/indexed_slices.py:437: UserWarning: Converting sparse IndexedSlices(IndexedSlices(indices=Tensor(\"gradient_tape/private__graph_conv_keras_model_10/graph_pool_20/Reshape_17:0\", shape=(None,), dtype=int32), values=Tensor(\"gradient_tape/private__graph_conv_keras_model_10/graph_pool_20/Reshape_16:0\", shape=(None, 64), dtype=float32), dense_shape=Tensor(\"gradient_tape/private__graph_conv_keras_model_10/graph_pool_20/Cast_5:0\", shape=(2,), dtype=int32))) to a dense Tensor of unknown shape. This may consume a large amount of memory.\n",
      "  \"shape. This may consume a large amount of memory.\" % value)\n",
      "/Users/ek/miniconda3/envs/cytoxnet/lib/python3.6/site-packages/tensorflow/python/framework/indexed_slices.py:437: UserWarning: Converting sparse IndexedSlices(IndexedSlices(indices=Tensor(\"gradient_tape/private__graph_conv_keras_model_10/graph_pool_20/Reshape_20:0\", shape=(None,), dtype=int32), values=Tensor(\"gradient_tape/private__graph_conv_keras_model_10/graph_pool_20/Reshape_19:0\", shape=(None, 64), dtype=float32), dense_shape=Tensor(\"gradient_tape/private__graph_conv_keras_model_10/graph_pool_20/Cast_6:0\", shape=(2,), dtype=int32))) to a dense Tensor of unknown shape. This may consume a large amount of memory.\n",
      "  \"shape. This may consume a large amount of memory.\" % value)\n",
      "/Users/ek/miniconda3/envs/cytoxnet/lib/python3.6/site-packages/tensorflow/python/framework/indexed_slices.py:437: UserWarning: Converting sparse IndexedSlices(IndexedSlices(indices=Tensor(\"gradient_tape/private__graph_conv_keras_model_10/graph_pool_20/Reshape_23:0\", shape=(None,), dtype=int32), values=Tensor(\"gradient_tape/private__graph_conv_keras_model_10/graph_pool_20/Reshape_22:0\", shape=(None, 64), dtype=float32), dense_shape=Tensor(\"gradient_tape/private__graph_conv_keras_model_10/graph_pool_20/Cast_7:0\", shape=(2,), dtype=int32))) to a dense Tensor of unknown shape. This may consume a large amount of memory.\n",
      "  \"shape. This may consume a large amount of memory.\" % value)\n"
     ]
    }
   ],
   "source": [
    "train_losses = []\n",
    "test_losses = []\n",
    "for iteration in range(15):\n",
    "    train_losses.append(baseline.fit(algea_train, nb_epoch=10))\n",
    "    test_losses.append(baseline.fit(algea_test, checkpoint_interval=0))\n",
    "    baseline.model.restore()"
   ]
  },
  {
   "cell_type": "code",
   "execution_count": 120,
   "id": "c5053cf7-a789-41c9-ac38-30cee45de362",
   "metadata": {},
   "outputs": [
    {
     "data": {
      "text/plain": [
       "<matplotlib.legend.Legend at 0x1d0d61fd0>"
      ]
     },
     "execution_count": 120,
     "metadata": {},
     "output_type": "execute_result"
    },
    {
     "data": {
      "image/png": "[encoded data removed]",
      "text/plain": [
       "<Figure size 432x288 with 1 Axes>"
      ]
     },
     "metadata": {
      "needs_background": "light"
     },
     "output_type": "display_data"
    }
   ],
   "source": [
    "fig, ax = plt.subplots()\n",
    "ax.plot(train_losses, label='train')\n",
    "ax.plot(test_losses, label='test')\n",
    "plt.legend()"
   ]
  },
  {
   "cell_type": "code",
   "execution_count": 121,
   "id": "9d62b26a-3bfb-4409-a622-7054160e15ad",
   "metadata": {
    "tags": []
   },
   "outputs": [
    {
     "data": {
      "text/plain": [
       "{'metric-1': 0.4275586555237795}"
      ]
     },
     "execution_count": 121,
     "metadata": {},
     "output_type": "execute_result"
    }
   ],
   "source": [
    "baseline.evaluate(algea_test, metrics=['r2_score'])"
   ]
  },
  {
   "cell_type": "code",
   "execution_count": 122,
   "id": "a3397ff0-f6a5-4d38-8f06-83de672f8d6a",
   "metadata": {},
   "outputs": [
    {
     "name": "stdout",
     "output_type": "stream",
     "text": [
      "(288, 1)\n"
     ]
    },
    {
     "data": {
      "text/html": [
       "\n",
       "<div id=\"altair-viz-0ed3254daf564143a2e33507947bdffc\"></div>\n",
       "<script type=\"text/javascript\">\n",
       "  (function(spec, embedOpt){\n",
       "    let outputDiv = document.currentScript.previousElementSibling;\n",
       "    if (outputDiv.id !== \"altair-viz-0ed3254daf564143a2e33507947bdffc\") {\n",
       "      outputDiv = document.getElementById(\"altair-viz-0ed3254daf564143a2e33507947bdffc\");\n",
       "    }\n",
       "    const paths = {\n",
       "      \"vega\": \"https://cdn.jsdelivr.net/npm//vega@5?noext\",\n",
       "      \"vega-lib\": \"https://cdn.jsdelivr.net/npm//vega-lib?noext\",\n",
       "      \"vega-lite\": \"https://cdn.jsdelivr.net/npm//vega-lite@4.8.1?noext\",\n",
       "      \"vega-embed\": \"https://cdn.jsdelivr.net/npm//vega-embed@6?noext\",\n",
       "    };\n",
       "\n",
       "    function loadScript(lib) {\n",
       "      return new Promise(function(resolve, reject) {\n",
       "        var s = document.createElement('script');\n",
       "        s.src = paths[lib];\n",
       "        s.async = true;\n",
       "        s.onload = () => resolve(paths[lib]);\n",
       "        s.onerror = () => reject(`Error loading script: ${paths[lib]}`);\n",
       "        document.getElementsByTagName(\"head\")[0].appendChild(s);\n",
       "      });\n",
       "    }\n",
       "\n",
       "    function showError(err) {\n",
       "      outputDiv.innerHTML = `<div class=\"error\" style=\"color:red;\">${err}</div>`;\n",
       "      throw err;\n",
       "    }\n",
       "\n",
       "    function displayChart(vegaEmbed) {\n",
       "      vegaEmbed(outputDiv, spec, embedOpt)\n",
       "        .catch(err => showError(`Javascript Error: ${err.message}<br>This usually means there's a typo in your chart specification. See the javascript console for the full traceback.`));\n",
       "    }\n",
       "\n",
       "    if(typeof define === \"function\" && define.amd) {\n",
       "      requirejs.config({paths});\n",
       "      require([\"vega-embed\"], displayChart, err => showError(`Error loading script: ${err.message}`));\n",
       "    } else if (typeof vegaEmbed === \"function\") {\n",
       "      displayChart(vegaEmbed);\n",
       "    } else {\n",
       "      loadScript(\"vega\")\n",
       "        .then(() => loadScript(\"vega-lite\"))\n",
       "        .then(() => loadScript(\"vega-embed\"))\n",
       "        .catch(showError)\n",
       "        .then(() => displayChart(vegaEmbed));\n",
       "    }\n",
       "  })({\"config\": {\"view\": {\"continuousWidth\": 400, \"continuousHeight\": 300}}, \"layer\": [{\"mark\": \"point\", \"encoding\": {\"x\": {\"type\": \"quantitative\", \"field\": \"target: true\", \"scale\": {\"zero\": false}}, \"y\": {\"type\": \"quantitative\", \"field\": \"target: predicted\", \"scale\": {\"zero\": false}}}}, {\"mark\": \"line\", \"encoding\": {\"x\": {\"type\": \"quantitative\", \"field\": \"target: true\", \"scale\": {\"zero\": false}}, \"y\": {\"type\": \"quantitative\", \"field\": \"target: predicted\", \"scale\": {\"zero\": false}}}, \"transform\": [{\"on\": \"target: true\", \"regression\": \"target: predicted\"}]}, {\"data\": {\"name\": \"data-6d0ccddecc275bc21a7fa39a096b99f0\"}, \"mark\": {\"type\": \"line\", \"color\": \"black\"}, \"encoding\": {\"x\": {\"type\": \"quantitative\", \"field\": \"target: true\"}, \"y\": {\"type\": \"quantitative\", \"field\": \"target: predicted\"}}}], \"data\": {\"name\": \"data-7dd99d9bb427d855651afda4cc18e489\"}, \"$schema\": \"https://vega.github.io/schema/vega-lite/v4.8.1.json\", \"datasets\": {\"data-7dd99d9bb427d855651afda4cc18e489\": [{\"target: true\": 0.09531017980432493, \"target: predicted\": -0.3854101002216339}, {\"target: true\": 2.642622395779755, \"target: predicted\": 3.9266233444213867}, {\"target: true\": 6.665683717782408, \"target: predicted\": 4.740037441253662}, {\"target: true\": -0.9834994815676051, \"target: predicted\": 0.9793943762779236}, {\"target: true\": 4.6549122778829055, \"target: predicted\": 4.25632381439209}, {\"target: true\": 2.2728472747300894, \"target: predicted\": 2.6942858695983887}, {\"target: true\": 2.772588722239781, \"target: predicted\": 4.545812129974365}, {\"target: true\": 3.6635616461296463, \"target: predicted\": 4.912433624267578}, {\"target: true\": 1.9387416595767006, \"target: predicted\": 2.2770164012908936}, {\"target: true\": 3.9512437185814275, \"target: predicted\": 2.576146125793457}, {\"target: true\": 4.848116364598481, \"target: predicted\": 6.248207092285156}, {\"target: true\": 3.125443880075648, \"target: predicted\": 1.1105568408966064}, {\"target: true\": 1.8718021769015913, \"target: predicted\": 1.4082467555999756}, {\"target: true\": 6.439350371100098, \"target: predicted\": 3.5133423805236816}, {\"target: true\": 2.0215475632609334, \"target: predicted\": 0.9404067397117615}, {\"target: true\": 2.4336133554004498, \"target: predicted\": 3.1778981685638428}, {\"target: true\": -0.18632957819149348, \"target: predicted\": 1.7131749391555786}, {\"target: true\": -0.2744368457017603, \"target: predicted\": 2.0161569118499756}, {\"target: true\": 4.382026634673881, \"target: predicted\": 2.897822856903076}, {\"target: true\": -0.6931471805599453, \"target: predicted\": -1.3079382181167603}, {\"target: true\": 5.033309611135128, \"target: predicted\": 4.2726593017578125}, {\"target: true\": 3.8501476017100584, \"target: predicted\": 3.083455801010132}, {\"target: true\": 4.566429357671661, \"target: predicted\": 5.816835880279541}, {\"target: true\": 2.028148247292285, \"target: predicted\": 2.6045422554016113}, {\"target: true\": 1.4816045409242156, \"target: predicted\": 1.103989839553833}, {\"target: true\": 4.7059200890882344, \"target: predicted\": 3.571040153503418}, {\"target: true\": 7.7706452341291765, \"target: predicted\": 4.6320695877075195}, {\"target: true\": -0.6481738149172142, \"target: predicted\": 0.9483715295791626}, {\"target: true\": 1.3297240096314962, \"target: predicted\": 1.1541504859924316}, {\"target: true\": 2.4849066497880004, \"target: predicted\": -0.42441099882125854}, {\"target: true\": -3.912023005428146, \"target: predicted\": 4.319224834442139}, {\"target: true\": 2.9052603703899154, \"target: predicted\": 2.8563337326049805}, {\"target: true\": 1.9315214116032138, \"target: predicted\": 1.509961485862732}, {\"target: true\": -0.3011050927839216, \"target: predicted\": 2.862365961074829}, {\"target: true\": 6.345636360828596, \"target: predicted\": 5.079932689666748}, {\"target: true\": 3.7376696182833684, \"target: predicted\": 0.7719144821166992}, {\"target: true\": 0.02955880224154443, \"target: predicted\": 3.9133219718933105}, {\"target: true\": -0.6792442753909539, \"target: predicted\": -0.5679795145988464}, {\"target: true\": 3.8066624897703196, \"target: predicted\": 3.1849050521850586}, {\"target: true\": 3.2552077541155913, \"target: predicted\": 1.7455726861953735}, {\"target: true\": -1.7719568419318752, \"target: predicted\": 0.7365723252296448}, {\"target: true\": 3.214867803470662, \"target: predicted\": 1.9296493530273438}, {\"target: true\": 1.33500106673234, \"target: predicted\": 3.262794017791748}, {\"target: true\": 2.066862759472976, \"target: predicted\": 0.44134682416915894}, {\"target: true\": 2.3978952727983707, \"target: predicted\": 1.884299874305725}, {\"target: true\": 4.398146016553765, \"target: predicted\": 3.75454044342041}, {\"target: true\": -2.9759296462578115, \"target: predicted\": -0.6704880595207214}, {\"target: true\": 5.990914395802501, \"target: predicted\": 5.2062273025512695}, {\"target: true\": 3.8501476017100584, \"target: predicted\": 5.02490234375}, {\"target: true\": 5.033700567027251, \"target: predicted\": 1.8952668905258179}, {\"target: true\": -2.162823150618887, \"target: predicted\": -0.21595704555511475}, {\"target: true\": 4.6913478822291435, \"target: predicted\": 2.848446846008301}, {\"target: true\": 3.1780538303479458, \"target: predicted\": 4.347924709320068}, {\"target: true\": 1.2817668317659563, \"target: predicted\": 2.963890790939331}, {\"target: true\": 0.6418538861723947, \"target: predicted\": -0.22108179330825806}, {\"target: true\": 2.303584593327129, \"target: predicted\": 5.870559215545654}, {\"target: true\": 5.143416405330075, \"target: predicted\": 4.98876428604126}, {\"target: true\": 3.9415818076696905, \"target: predicted\": 5.120113849639893}, {\"target: true\": 1.0986122886681098, \"target: predicted\": 0.506887674331665}, {\"target: true\": 4.174387269895637, \"target: predicted\": 3.0785937309265137}, {\"target: true\": 2.4849066497880004, \"target: predicted\": 2.4141366481781006}, {\"target: true\": 3.6357423557008075, \"target: predicted\": 4.113380432128906}, {\"target: true\": -0.7113111511876165, \"target: predicted\": 0.5560153722763062}, {\"target: true\": 0.47000362924573563, \"target: predicted\": 1.171959400177002}, {\"target: true\": 4.841822087327094, \"target: predicted\": 5.351540565490723}, {\"target: true\": 0.47000362924573563, \"target: predicted\": 0.07103116065263748}, {\"target: true\": -0.3133418192323586, \"target: predicted\": -0.20745784044265747}, {\"target: true\": 0.6931471805599453, \"target: predicted\": 1.3143812417984009}, {\"target: true\": 3.091042453358316, \"target: predicted\": 3.1884958744049072}, {\"target: true\": 3.1780538303479458, \"target: predicted\": 2.3669729232788086}, {\"target: true\": 3.6109179126442243, \"target: predicted\": 3.6336965560913086}, {\"target: true\": 3.6888794541139363, \"target: predicted\": 4.207388877868652}, {\"target: true\": 3.044522437723423, \"target: predicted\": 5.607189655303955}, {\"target: true\": 2.3978952727983707, \"target: predicted\": 1.4870463609695435}, {\"target: true\": 2.990719731730447, \"target: predicted\": 3.1518783569335938}, {\"target: true\": 4.6443908991413725, \"target: predicted\": 3.172138214111328}, {\"target: true\": 1.5686159179138455, \"target: predicted\": 5.610142707824707}, {\"target: true\": 1.7227665977411035, \"target: predicted\": 2.020819664001465}, {\"target: true\": 4.143134726391533, \"target: predicted\": 3.293757438659668}, {\"target: true\": 0.5596157879354227, \"target: predicted\": 0.6278941035270691}, {\"target: true\": 6.946975992135418, \"target: predicted\": 4.62380313873291}, {\"target: true\": 1.5260563034950492, \"target: predicted\": 1.419664978981018}, {\"target: true\": 1.6863989535702288, \"target: predicted\": 1.9718893766403198}, {\"target: true\": -4.422848629194137, \"target: predicted\": -2.690668821334839}, {\"target: true\": -3.1190304898984844, \"target: predicted\": 0.029983170330524445}, {\"target: true\": 4.553876891600541, \"target: predicted\": 4.77886438369751}, {\"target: true\": 2.1400661634962708, \"target: predicted\": 3.1937789916992188}, {\"target: true\": 4.110873864173311, \"target: predicted\": 2.1496944427490234}, {\"target: true\": 4.990432586778736, \"target: predicted\": 3.4272592067718506}, {\"target: true\": 2.995732273553991, \"target: predicted\": 2.3985955715179443}, {\"target: true\": 3.1780538303479458, \"target: predicted\": 2.6377995014190674}, {\"target: true\": 4.605740023599796, \"target: predicted\": 3.1177330017089844}, {\"target: true\": 1.9300710850255671, \"target: predicted\": 4.740218162536621}, {\"target: true\": 2.2235418856535927, \"target: predicted\": 1.245506763458252}, {\"target: true\": 3.8918202981106265, \"target: predicted\": 2.476921796798706}, {\"target: true\": 0.9555114450274363, \"target: predicted\": 0.9014185070991516}, {\"target: true\": 1.9459101490553132, \"target: predicted\": 1.7224758863449097}, {\"target: true\": 9.118225083068378, \"target: predicted\": 3.1557319164276123}, {\"target: true\": 5.135798437050262, \"target: predicted\": 4.127352714538574}, {\"target: true\": -2.017406150760383, \"target: predicted\": -0.3054307699203491}, {\"target: true\": 3.4688560301359703, \"target: predicted\": 3.720982074737549}, {\"target: true\": 3.295836866004329, \"target: predicted\": -1.383960485458374}, {\"target: true\": 4.027135812528651, \"target: predicted\": 2.218492031097412}, {\"target: true\": 2.1804174590198384, \"target: predicted\": 4.585752487182617}, {\"target: true\": 2.2793164660546914, \"target: predicted\": 1.5768424272537231}, {\"target: true\": 1.5040773967762742, \"target: predicted\": 2.3877103328704834}, {\"target: true\": 3.4339872044851463, \"target: predicted\": 4.364967346191406}, {\"target: true\": 3.332204510175204, \"target: predicted\": 2.0146732330322266}, {\"target: true\": 4.286341384539473, \"target: predicted\": 1.8944071531295776}, {\"target: true\": 3.5263605246161616, \"target: predicted\": 3.699772834777832}, {\"target: true\": 1.5129270120532565, \"target: predicted\": 0.5484719276428223}, {\"target: true\": 2.4849066497880004, \"target: predicted\": 3.493382453918457}, {\"target: true\": 3.3798034889744826, \"target: predicted\": 3.029646396636963}, {\"target: true\": -2.659260036932778, \"target: predicted\": 0.2393588423728943}, {\"target: true\": 3.295836866004329, \"target: predicted\": 3.3302502632141113}, {\"target: true\": 2.9444389791664403, \"target: predicted\": 1.9672361612319946}, {\"target: true\": 4.176538799848087, \"target: predicted\": 3.1298789978027344}, {\"target: true\": -3.7722610630529876, \"target: predicted\": -1.265732765197754}, {\"target: true\": 1.3962446919730587, \"target: predicted\": 3.131234884262085}, {\"target: true\": 3.720862499966987, \"target: predicted\": 1.9741264581680298}, {\"target: true\": 1.873339456220478, \"target: predicted\": 4.341991424560547}, {\"target: true\": 1.4929040961781486, \"target: predicted\": 0.6306106448173523}, {\"target: true\": 2.5726122302071057, \"target: predicted\": 0.8412856459617615}, {\"target: true\": 0.6936470556015963, \"target: predicted\": 1.3934603929519653}, {\"target: true\": 3.0819099697950434, \"target: predicted\": 0.9801305532455444}, {\"target: true\": 4.0943445622221, \"target: predicted\": 0.6895312070846558}, {\"target: true\": -1.8325814637483102, \"target: predicted\": 2.270979881286621}, {\"target: true\": 4.477336814478207, \"target: predicted\": 3.2971863746643066}, {\"target: true\": 3.4657359027997265, \"target: predicted\": 3.6634182929992676}, {\"target: true\": -2.9187712324178627, \"target: predicted\": 0.9408707618713379}, {\"target: true\": 2.9402195636237325, \"target: predicted\": 2.495943069458008}, {\"target: true\": 3.971234865059992, \"target: predicted\": 4.643691539764404}, {\"target: true\": 2.4849066497880004, \"target: predicted\": 2.759488821029663}, {\"target: true\": 4.0809215418899605, \"target: predicted\": 2.5008444786071777}, {\"target: true\": 3.054944133185837, \"target: predicted\": 3.2538723945617676}, {\"target: true\": 3.091042453358316, \"target: predicted\": 3.639697551727295}, {\"target: true\": 2.3978952727983707, \"target: predicted\": 2.290773391723633}, {\"target: true\": 3.784189633918261, \"target: predicted\": 4.000121593475342}, {\"target: true\": 5.2192741592075835, \"target: predicted\": 3.6612372398376465}, {\"target: true\": 4.61512051684126, \"target: predicted\": 2.806008815765381}, {\"target: true\": 5.407171771460119, \"target: predicted\": 5.873239040374756}, {\"target: true\": 0.5933268452777344, \"target: predicted\": 0.7084916234016418}, {\"target: true\": 3.871201010907891, \"target: predicted\": 2.686131238937378}, {\"target: true\": 2.667228206581955, \"target: predicted\": 3.6176939010620117}, {\"target: true\": 3.927896354584436, \"target: predicted\": 3.9454267024993896}, {\"target: true\": 6.697034247666484, \"target: predicted\": 6.7154998779296875}, {\"target: true\": 1.423108334242607, \"target: predicted\": -0.08152642101049423}, {\"target: true\": 4.383275854074314, \"target: predicted\": 4.481216907501221}, {\"target: true\": 3.8066624897703196, \"target: predicted\": 3.7813358306884766}, {\"target: true\": 0.4706284340145776, \"target: predicted\": 1.5551785230636597}, {\"target: true\": 3.3775875160230218, \"target: predicted\": 3.986032485961914}, {\"target: true\": 6.956545443151569, \"target: predicted\": 3.09250807762146}, {\"target: true\": 2.925309809257445, \"target: predicted\": 3.993386745452881}, {\"target: true\": 1.4350845252893227, \"target: predicted\": 3.200590133666992}, {\"target: true\": 1.4655675420143985, \"target: predicted\": 3.714200496673584}, {\"target: true\": 4.04305126783455, \"target: predicted\": 3.90425443649292}, {\"target: true\": 3.367295829986474, \"target: predicted\": 1.955126404762268}, {\"target: true\": 0.30010459245033816, \"target: predicted\": 0.9457026124000549}, {\"target: true\": 2.8903717578961645, \"target: predicted\": 2.3666200637817383}, {\"target: true\": -0.6348782724359695, \"target: predicted\": 1.7733874320983887}, {\"target: true\": 2.5649493574615367, \"target: predicted\": 3.708031177520752}, {\"target: true\": 0.3364722366212129, \"target: predicted\": 2.2946925163269043}, {\"target: true\": 0.8775499035577244, \"target: predicted\": 1.6004538536071777}, {\"target: true\": 8.881836305004146, \"target: predicted\": 5.815293788909912}, {\"target: true\": -4.017383521085972, \"target: predicted\": -0.40586909651756287}, {\"target: true\": 3.0204248861443626, \"target: predicted\": 4.072603702545166}, {\"target: true\": 3.4210000089583352, \"target: predicted\": 3.2414894104003906}, {\"target: true\": 0.0, \"target: predicted\": 1.7857751846313477}, {\"target: true\": 2.5572273113676265, \"target: predicted\": 1.6099435091018677}, {\"target: true\": 0.3364722366212129, \"target: predicted\": 0.7489027380943298}, {\"target: true\": 1.7884205679625405, \"target: predicted\": 3.820587158203125}, {\"target: true\": 1.0438040521731147, \"target: predicted\": 1.9990731477737427}, {\"target: true\": 2.9444389791664403, \"target: predicted\": 3.5391597747802734}, {\"target: true\": 4.677490847567717, \"target: predicted\": 3.1342639923095703}, {\"target: true\": -0.46840490788203853, \"target: predicted\": 1.0151419639587402}, {\"target: true\": -0.9213032736976995, \"target: predicted\": 2.2586188316345215}, {\"target: true\": 3.332204510175204, \"target: predicted\": 3.632298231124878}, {\"target: true\": 2.772588722239781, \"target: predicted\": 2.3165392875671387}, {\"target: true\": 1.4350845252893227, \"target: predicted\": 3.63187575340271}, {\"target: true\": 1.1314021114911006, \"target: predicted\": 4.117483139038086}, {\"target: true\": 4.469350462845557, \"target: predicted\": 5.275338649749756}, {\"target: true\": 3.3843902633457743, \"target: predicted\": 1.4651089906692505}, {\"target: true\": 3.391147045808654, \"target: predicted\": 0.913383424282074}, {\"target: true\": 2.188295946591918, \"target: predicted\": 2.560880184173584}, {\"target: true\": 2.458733775483977, \"target: predicted\": 1.4216252565383911}, {\"target: true\": -2.577021938695806, \"target: predicted\": -2.495771884918213}, {\"target: true\": 4.6913478822291435, \"target: predicted\": 2.785154104232788}, {\"target: true\": 2.302585092994046, \"target: predicted\": 1.840929627418518}, {\"target: true\": 5.365976015021851, \"target: predicted\": 3.78338623046875}, {\"target: true\": 0.26236426446749106, \"target: predicted\": 1.8323453664779663}, {\"target: true\": 3.2228678461377385, \"target: predicted\": 2.3397321701049805}, {\"target: true\": 3.6888794541139363, \"target: predicted\": 2.3108625411987305}, {\"target: true\": 2.6602595372658615, \"target: predicted\": 3.1310126781463623}, {\"target: true\": -0.5108256237659907, \"target: predicted\": 0.7035709023475647}, {\"target: true\": 1.2237754316221157, \"target: predicted\": 2.4918911457061768}, {\"target: true\": 0.9162907318741551, \"target: predicted\": 0.37170493602752686}, {\"target: true\": 6.659293919683638, \"target: predicted\": 4.144916534423828}, {\"target: true\": -3.912023005428146, \"target: predicted\": -2.9773519039154053}, {\"target: true\": 3.871201010907891, \"target: predicted\": 2.826775312423706}, {\"target: true\": 4.102643365036796, \"target: predicted\": 4.769659042358398}, {\"target: true\": 2.1564025828159643, \"target: predicted\": 0.8606535792350769}, {\"target: true\": 2.050270164379556, \"target: predicted\": -0.6629550457000732}, {\"target: true\": 4.007333185232471, \"target: predicted\": 2.2651891708374023}, {\"target: true\": 2.28949985344539, \"target: predicted\": 2.04986572265625}, {\"target: true\": 2.458733775483977, \"target: predicted\": 2.054597854614258}, {\"target: true\": 2.0014800002101243, \"target: predicted\": 2.372133493423462}, {\"target: true\": 3.224857896545748, \"target: predicted\": 3.4797956943511963}, {\"target: true\": 4.533222954674703, \"target: predicted\": 5.056598663330078}, {\"target: true\": 0.8329091229351039, \"target: predicted\": -0.04388576000928879}, {\"target: true\": 5.135798437050262, \"target: predicted\": 4.028507232666016}, {\"target: true\": 1.6992786164338898, \"target: predicted\": 3.5793488025665283}, {\"target: true\": -0.4942963218147801, \"target: predicted\": 0.17058098316192627}, {\"target: true\": 3.9889840465642745, \"target: predicted\": 6.750770092010498}, {\"target: true\": -1.2039728043259361, \"target: predicted\": 2.320629835128784}, {\"target: true\": -1.6607312068216509, \"target: predicted\": 0.44149357080459595}, {\"target: true\": 5.521460917862246, \"target: predicted\": 2.839221954345703}, {\"target: true\": 3.949318790171843, \"target: predicted\": 2.1728250980377197}, {\"target: true\": 3.4719664525503626, \"target: predicted\": 5.044770240783691}, {\"target: true\": -1.7147984280919266, \"target: predicted\": -0.566950261592865}, {\"target: true\": 2.6026896854443837, \"target: predicted\": 2.860819101333618}, {\"target: true\": 3.6375861597263857, \"target: predicted\": 2.4753787517547607}, {\"target: true\": 1.5040773967762742, \"target: predicted\": 1.3854703903198242}, {\"target: true\": 4.155753190350744, \"target: predicted\": 4.12739372253418}, {\"target: true\": -1.2378743560016174, \"target: predicted\": -0.04127638787031174}, {\"target: true\": 0.6418538861723947, \"target: predicted\": -0.38924890756607056}, {\"target: true\": 2.3933394562625097, \"target: predicted\": 2.9490976333618164}, {\"target: true\": 1.8309801823813363, \"target: predicted\": 1.173924446105957}, {\"target: true\": 1.8687205103641833, \"target: predicted\": 4.056865692138672}, {\"target: true\": 4.143134726391533, \"target: predicted\": 3.8483893871307373}, {\"target: true\": 4.182050142641207, \"target: predicted\": 1.3086100816726685}, {\"target: true\": 2.3523271848888596, \"target: predicted\": 3.713222026824951}, {\"target: true\": 6.908265148976337, \"target: predicted\": 3.503472089767456}, {\"target: true\": 1.4829672483801515, \"target: predicted\": 3.484645366668701}, {\"target: true\": 1.1600209167967532, \"target: predicted\": 1.9520965814590454}, {\"target: true\": 1.423108334242607, \"target: predicted\": 0.7364480495452881}, {\"target: true\": 1.2809338454620642, \"target: predicted\": 1.1551405191421509}, {\"target: true\": 2.6741486494265287, \"target: predicted\": 2.188925266265869}, {\"target: true\": 2.3978952727983707, \"target: predicted\": 2.606858253479004}, {\"target: true\": 5.135798437050262, \"target: predicted\": 3.3411476612091064}, {\"target: true\": -0.8675005677047231, \"target: predicted\": 0.02808506041765213}, {\"target: true\": 4.23410650459726, \"target: predicted\": 3.934831142425537}, {\"target: true\": 0.3364722366212129, \"target: predicted\": 1.1857832670211792}, {\"target: true\": -0.6539264674066639, \"target: predicted\": -0.36716943979263306}, {\"target: true\": 1.8794650496471605, \"target: predicted\": 1.4206888675689697}, {\"target: true\": 1.5129270120532565, \"target: predicted\": 3.603682518005371}, {\"target: true\": 5.37989735354046, \"target: predicted\": 5.181653022766113}, {\"target: true\": -0.7339691750802004, \"target: predicted\": 0.0371333584189415}, {\"target: true\": 4.606629121224335, \"target: predicted\": 4.928611755371094}, {\"target: true\": 2.247072383063787, \"target: predicted\": 3.2616689205169678}, {\"target: true\": 2.5877640352277083, \"target: predicted\": 3.6437487602233887}, {\"target: true\": 0.3364722366212129, \"target: predicted\": -1.406301498413086}, {\"target: true\": 3.343568268825519, \"target: predicted\": -0.5711418390274048}, {\"target: true\": -0.6871651088823978, \"target: predicted\": 0.540015459060669}, {\"target: true\": 2.995732273553991, \"target: predicted\": 2.6323750019073486}, {\"target: true\": 3.1780538303479458, \"target: predicted\": 4.324487686157227}, {\"target: true\": 2.8909826823549203, \"target: predicted\": 6.100058555603027}, {\"target: true\": 0.1906203596086497, \"target: predicted\": 2.2832133769989014}, {\"target: true\": 2.028148247292285, \"target: predicted\": 1.9917751550674438}, {\"target: true\": -2.855970331178832, \"target: predicted\": 1.5954934358596802}, {\"target: true\": 1.8245492920510455, \"target: predicted\": 2.3683409690856934}, {\"target: true\": 2.1656192379208883, \"target: predicted\": 2.343808174133301}, {\"target: true\": 3.8480176754522337, \"target: predicted\": 3.3717265129089355}, {\"target: true\": 2.789015559925315, \"target: predicted\": 4.236616611480713}, {\"target: true\": 2.9444389791664403, \"target: predicted\": 2.069746494293213}, {\"target: true\": 2.128231705849268, \"target: predicted\": 1.8453171253204346}, {\"target: true\": -3.863232841258714, \"target: predicted\": 0.7081745862960815}, {\"target: true\": 4.394449154672439, \"target: predicted\": 1.2003141641616821}, {\"target: true\": 3.7612001156935624, \"target: predicted\": 1.9021466970443726}, {\"target: true\": 4.196299284745094, \"target: predicted\": 6.7090373039245605}, {\"target: true\": 0.5007752879124892, \"target: predicted\": 1.364141821861267}, {\"target: true\": 2.3978952727983707, \"target: predicted\": 1.8551623821258545}, {\"target: true\": 3.845883202923601, \"target: predicted\": 5.5268635749816895}, {\"target: true\": 2.803360380906535, \"target: predicted\": 1.7514723539352417}, {\"target: true\": 1.5706970841176697, \"target: predicted\": 5.239265441894531}, {\"target: true\": 3.673765816303888, \"target: predicted\": 3.4776968955993652}, {\"target: true\": 3.288401887516811, \"target: predicted\": 3.772864818572998}, {\"target: true\": 2.9338568698359038, \"target: predicted\": 2.6688179969787598}, {\"target: true\": 3.9219733362813143, \"target: predicted\": 3.376375913619995}, {\"target: true\": -2.312635428847547, \"target: predicted\": -1.2064458131790161}, {\"target: true\": -0.8153148145341529, \"target: predicted\": 2.224358081817627}, {\"target: true\": 4.7059200890882344, \"target: predicted\": 6.247766017913818}, {\"target: true\": 2.0541237336955462, \"target: predicted\": 2.6415963172912598}, {\"target: true\": -1.4271163556401458, \"target: predicted\": -1.160544991493225}, {\"target: true\": 3.6109179126442243, \"target: predicted\": 1.548740029335022}, {\"target: true\": 1.33500106673234, \"target: predicted\": 1.6063770055770874}, {\"target: true\": 3.4011973816621555, \"target: predicted\": 2.0218966007232666}, {\"target: true\": -2.9187712324178627, \"target: predicted\": -1.8380321264266968}, {\"target: true\": 4.204692619390966, \"target: predicted\": 3.843888282775879}], \"data-6d0ccddecc275bc21a7fa39a096b99f0\": [{\"target: true\": -4.422848629194137, \"target: predicted\": -4.422848629194137}, {\"target: true\": 9.118225083068378, \"target: predicted\": 9.118225083068378}]}}, {\"mode\": \"vega-lite\"});\n",
       "</script>"
      ],
      "text/plain": [
       "alt.LayerChart(...)"
      ]
     },
     "execution_count": 122,
     "metadata": {},
     "output_type": "execute_result"
    }
   ],
   "source": [
    "baseline.visualize('pair_predict', algea_test, untransform=False)"
   ]
  },
  {
   "cell_type": "markdown",
   "id": "a6b6e9e0-2bbd-4cbe-a3a6-351e4a31a132",
   "metadata": {},
   "source": [
    "## Lets try a raw transfer from fish data\n",
    "This involves no layer fixing - just retrain on a new dataset."
   ]
  },
  {
   "cell_type": "code",
   "execution_count": 135,
   "id": "bbc0ed88-8add-4fde-9e12-5866ffa25c74",
   "metadata": {},
   "outputs": [
    {
     "name": "stdout",
     "output_type": "stream",
     "text": [
      "WARNING: No tasks passed, assuming one target\n"
     ]
    }
   ],
   "source": [
    "fish_pretrain = cytoxnet.models.models.ToxModel(\n",
    "    'GraphCNN', \n",
    "    mode='regression')"
   ]
  },
  {
   "cell_type": "markdown",
   "id": "ddf8fd13-fef1-4650-ba15-f051aae1e170",
   "metadata": {},
   "source": [
    "Pretrain on fish data 300 epochs"
   ]
  },
  {
   "cell_type": "code",
   "execution_count": 136,
   "id": "5fc69157-a399-4b20-94f1-096b15554c47",
   "metadata": {
    "collapsed": true,
    "jupyter": {
     "outputs_hidden": true
    },
    "tags": []
   },
   "outputs": [
    {
     "name": "stderr",
     "output_type": "stream",
     "text": [
      "/Users/ek/miniconda3/envs/cytoxnet/lib/python3.6/site-packages/tensorflow/python/framework/indexed_slices.py:437: UserWarning: Converting sparse IndexedSlices(IndexedSlices(indices=Tensor(\"gradient_tape/private__graph_conv_keras_model_13/graph_pool_27/Reshape_14:0\", shape=(378,), dtype=int32), values=Tensor(\"gradient_tape/private__graph_conv_keras_model_13/graph_pool_27/Reshape_13:0\", shape=(378, 64), dtype=float32), dense_shape=Tensor(\"gradient_tape/private__graph_conv_keras_model_13/graph_pool_27/Cast_4:0\", shape=(2,), dtype=int32))) to a dense Tensor of unknown shape. This may consume a large amount of memory.\n",
      "  \"shape. This may consume a large amount of memory.\" % value)\n",
      "/Users/ek/miniconda3/envs/cytoxnet/lib/python3.6/site-packages/tensorflow/python/framework/indexed_slices.py:437: UserWarning: Converting sparse IndexedSlices(IndexedSlices(indices=Tensor(\"gradient_tape/private__graph_conv_keras_model_13/graph_pool_27/Reshape_17:0\", shape=(1270,), dtype=int32), values=Tensor(\"gradient_tape/private__graph_conv_keras_model_13/graph_pool_27/Reshape_16:0\", shape=(1270, 64), dtype=float32), dense_shape=Tensor(\"gradient_tape/private__graph_conv_keras_model_13/graph_pool_27/Cast_5:0\", shape=(2,), dtype=int32))) to a dense Tensor of unknown shape. This may consume a large amount of memory.\n",
      "  \"shape. This may consume a large amount of memory.\" % value)\n",
      "/Users/ek/miniconda3/envs/cytoxnet/lib/python3.6/site-packages/tensorflow/python/framework/indexed_slices.py:437: UserWarning: Converting sparse IndexedSlices(IndexedSlices(indices=Tensor(\"gradient_tape/private__graph_conv_keras_model_13/graph_pool_27/Reshape_20:0\", shape=(1002,), dtype=int32), values=Tensor(\"gradient_tape/private__graph_conv_keras_model_13/graph_pool_27/Reshape_19:0\", shape=(1002, 64), dtype=float32), dense_shape=Tensor(\"gradient_tape/private__graph_conv_keras_model_13/graph_pool_27/Cast_6:0\", shape=(2,), dtype=int32))) to a dense Tensor of unknown shape. This may consume a large amount of memory.\n",
      "  \"shape. This may consume a large amount of memory.\" % value)\n",
      "/Users/ek/miniconda3/envs/cytoxnet/lib/python3.6/site-packages/tensorflow/python/framework/indexed_slices.py:437: UserWarning: Converting sparse IndexedSlices(IndexedSlices(indices=Tensor(\"gradient_tape/private__graph_conv_keras_model_13/graph_pool_27/Reshape_23:0\", shape=(152,), dtype=int32), values=Tensor(\"gradient_tape/private__graph_conv_keras_model_13/graph_pool_27/Reshape_22:0\", shape=(152, 64), dtype=float32), dense_shape=Tensor(\"gradient_tape/private__graph_conv_keras_model_13/graph_pool_27/Cast_7:0\", shape=(2,), dtype=int32))) to a dense Tensor of unknown shape. This may consume a large amount of memory.\n",
      "  \"shape. This may consume a large amount of memory.\" % value)\n",
      "/Users/ek/miniconda3/envs/cytoxnet/lib/python3.6/site-packages/tensorflow/python/framework/indexed_slices.py:437: UserWarning: Converting sparse IndexedSlices(IndexedSlices(indices=Tensor(\"gradient_tape/private__graph_conv_keras_model_13/graph_conv_27/Reshape_11:0\", shape=(378,), dtype=int32), values=Tensor(\"gradient_tape/private__graph_conv_keras_model_13/graph_conv_27/Reshape_10:0\", shape=(378, 64), dtype=float32), dense_shape=Tensor(\"gradient_tape/private__graph_conv_keras_model_13/graph_conv_27/Cast:0\", shape=(2,), dtype=int32))) to a dense Tensor of unknown shape. This may consume a large amount of memory.\n",
      "  \"shape. This may consume a large amount of memory.\" % value)\n",
      "/Users/ek/miniconda3/envs/cytoxnet/lib/python3.6/site-packages/tensorflow/python/framework/indexed_slices.py:437: UserWarning: Converting sparse IndexedSlices(IndexedSlices(indices=Tensor(\"gradient_tape/private__graph_conv_keras_model_13/graph_conv_27/Reshape_13:0\", shape=(1270,), dtype=int32), values=Tensor(\"gradient_tape/private__graph_conv_keras_model_13/graph_conv_27/Reshape_12:0\", shape=(1270, 64), dtype=float32), dense_shape=Tensor(\"gradient_tape/private__graph_conv_keras_model_13/graph_conv_27/Cast_1:0\", shape=(2,), dtype=int32))) to a dense Tensor of unknown shape. This may consume a large amount of memory.\n",
      "  \"shape. This may consume a large amount of memory.\" % value)\n",
      "/Users/ek/miniconda3/envs/cytoxnet/lib/python3.6/site-packages/tensorflow/python/framework/indexed_slices.py:437: UserWarning: Converting sparse IndexedSlices(IndexedSlices(indices=Tensor(\"gradient_tape/private__graph_conv_keras_model_13/graph_conv_27/Reshape_15:0\", shape=(1002,), dtype=int32), values=Tensor(\"gradient_tape/private__graph_conv_keras_model_13/graph_conv_27/Reshape_14:0\", shape=(1002, 64), dtype=float32), dense_shape=Tensor(\"gradient_tape/private__graph_conv_keras_model_13/graph_conv_27/Cast_2:0\", shape=(2,), dtype=int32))) to a dense Tensor of unknown shape. This may consume a large amount of memory.\n",
      "  \"shape. This may consume a large amount of memory.\" % value)\n",
      "/Users/ek/miniconda3/envs/cytoxnet/lib/python3.6/site-packages/tensorflow/python/framework/indexed_slices.py:437: UserWarning: Converting sparse IndexedSlices(IndexedSlices(indices=Tensor(\"gradient_tape/private__graph_conv_keras_model_13/graph_conv_27/Reshape_17:0\", shape=(152,), dtype=int32), values=Tensor(\"gradient_tape/private__graph_conv_keras_model_13/graph_conv_27/Reshape_16:0\", shape=(152, 64), dtype=float32), dense_shape=Tensor(\"gradient_tape/private__graph_conv_keras_model_13/graph_conv_27/Cast_3:0\", shape=(2,), dtype=int32))) to a dense Tensor of unknown shape. This may consume a large amount of memory.\n",
      "  \"shape. This may consume a large amount of memory.\" % value)\n",
      "/Users/ek/miniconda3/envs/cytoxnet/lib/python3.6/site-packages/tensorflow/python/framework/indexed_slices.py:437: UserWarning: Converting sparse IndexedSlices(IndexedSlices(indices=Tensor(\"gradient_tape/private__graph_conv_keras_model_13/graph_conv_27/Reshape_19:0\", shape=(0,), dtype=int32), values=Tensor(\"gradient_tape/private__graph_conv_keras_model_13/graph_conv_27/Reshape_18:0\", shape=(0, 64), dtype=float32), dense_shape=Tensor(\"gradient_tape/private__graph_conv_keras_model_13/graph_conv_27/Cast_4:0\", shape=(2,), dtype=int32))) to a dense Tensor of unknown shape. This may consume a large amount of memory.\n",
      "  \"shape. This may consume a large amount of memory.\" % value)\n",
      "/Users/ek/miniconda3/envs/cytoxnet/lib/python3.6/site-packages/tensorflow/python/framework/indexed_slices.py:437: UserWarning: Converting sparse IndexedSlices(IndexedSlices(indices=Tensor(\"gradient_tape/private__graph_conv_keras_model_13/graph_conv_27/Reshape_21:0\", shape=(0,), dtype=int32), values=Tensor(\"gradient_tape/private__graph_conv_keras_model_13/graph_conv_27/Reshape_20:0\", shape=(0, 64), dtype=float32), dense_shape=Tensor(\"gradient_tape/private__graph_conv_keras_model_13/graph_conv_27/Cast_5:0\", shape=(2,), dtype=int32))) to a dense Tensor of unknown shape. This may consume a large amount of memory.\n",
      "  \"shape. This may consume a large amount of memory.\" % value)\n",
      "/Users/ek/miniconda3/envs/cytoxnet/lib/python3.6/site-packages/tensorflow/python/framework/indexed_slices.py:437: UserWarning: Converting sparse IndexedSlices(IndexedSlices(indices=Tensor(\"gradient_tape/private__graph_conv_keras_model_13/graph_conv_27/Reshape_23:0\", shape=(0,), dtype=int32), values=Tensor(\"gradient_tape/private__graph_conv_keras_model_13/graph_conv_27/Reshape_22:0\", shape=(0, 64), dtype=float32), dense_shape=Tensor(\"gradient_tape/private__graph_conv_keras_model_13/graph_conv_27/Cast_6:0\", shape=(2,), dtype=int32))) to a dense Tensor of unknown shape. This may consume a large amount of memory.\n",
      "  \"shape. This may consume a large amount of memory.\" % value)\n",
      "/Users/ek/miniconda3/envs/cytoxnet/lib/python3.6/site-packages/tensorflow/python/framework/indexed_slices.py:437: UserWarning: Converting sparse IndexedSlices(IndexedSlices(indices=Tensor(\"gradient_tape/private__graph_conv_keras_model_13/graph_conv_27/Reshape_25:0\", shape=(0,), dtype=int32), values=Tensor(\"gradient_tape/private__graph_conv_keras_model_13/graph_conv_27/Reshape_24:0\", shape=(0, 64), dtype=float32), dense_shape=Tensor(\"gradient_tape/private__graph_conv_keras_model_13/graph_conv_27/Cast_7:0\", shape=(2,), dtype=int32))) to a dense Tensor of unknown shape. This may consume a large amount of memory.\n",
      "  \"shape. This may consume a large amount of memory.\" % value)\n",
      "/Users/ek/miniconda3/envs/cytoxnet/lib/python3.6/site-packages/tensorflow/python/framework/indexed_slices.py:437: UserWarning: Converting sparse IndexedSlices(IndexedSlices(indices=Tensor(\"gradient_tape/private__graph_conv_keras_model_13/graph_conv_27/Reshape_27:0\", shape=(0,), dtype=int32), values=Tensor(\"gradient_tape/private__graph_conv_keras_model_13/graph_conv_27/Reshape_26:0\", shape=(0, 64), dtype=float32), dense_shape=Tensor(\"gradient_tape/private__graph_conv_keras_model_13/graph_conv_27/Cast_8:0\", shape=(2,), dtype=int32))) to a dense Tensor of unknown shape. This may consume a large amount of memory.\n",
      "  \"shape. This may consume a large amount of memory.\" % value)\n",
      "/Users/ek/miniconda3/envs/cytoxnet/lib/python3.6/site-packages/tensorflow/python/framework/indexed_slices.py:437: UserWarning: Converting sparse IndexedSlices(IndexedSlices(indices=Tensor(\"gradient_tape/private__graph_conv_keras_model_13/graph_conv_27/Reshape_29:0\", shape=(0,), dtype=int32), values=Tensor(\"gradient_tape/private__graph_conv_keras_model_13/graph_conv_27/Reshape_28:0\", shape=(0, 64), dtype=float32), dense_shape=Tensor(\"gradient_tape/private__graph_conv_keras_model_13/graph_conv_27/Cast_9:0\", shape=(2,), dtype=int32))) to a dense Tensor of unknown shape. This may consume a large amount of memory.\n",
      "  \"shape. This may consume a large amount of memory.\" % value)\n",
      "/Users/ek/miniconda3/envs/cytoxnet/lib/python3.6/site-packages/tensorflow/python/framework/indexed_slices.py:437: UserWarning: Converting sparse IndexedSlices(IndexedSlices(indices=Tensor(\"gradient_tape/private__graph_conv_keras_model_13/graph_pool_26/Reshape_14:0\", shape=(378,), dtype=int32), values=Tensor(\"gradient_tape/private__graph_conv_keras_model_13/graph_pool_26/Reshape_13:0\", shape=(378, 64), dtype=float32), dense_shape=Tensor(\"gradient_tape/private__graph_conv_keras_model_13/graph_pool_26/Cast_4:0\", shape=(2,), dtype=int32))) to a dense Tensor of unknown shape. This may consume a large amount of memory.\n",
      "  \"shape. This may consume a large amount of memory.\" % value)\n",
      "/Users/ek/miniconda3/envs/cytoxnet/lib/python3.6/site-packages/tensorflow/python/framework/indexed_slices.py:437: UserWarning: Converting sparse IndexedSlices(IndexedSlices(indices=Tensor(\"gradient_tape/private__graph_conv_keras_model_13/graph_pool_26/Reshape_17:0\", shape=(1270,), dtype=int32), values=Tensor(\"gradient_tape/private__graph_conv_keras_model_13/graph_pool_26/Reshape_16:0\", shape=(1270, 64), dtype=float32), dense_shape=Tensor(\"gradient_tape/private__graph_conv_keras_model_13/graph_pool_26/Cast_5:0\", shape=(2,), dtype=int32))) to a dense Tensor of unknown shape. This may consume a large amount of memory.\n",
      "  \"shape. This may consume a large amount of memory.\" % value)\n",
      "/Users/ek/miniconda3/envs/cytoxnet/lib/python3.6/site-packages/tensorflow/python/framework/indexed_slices.py:437: UserWarning: Converting sparse IndexedSlices(IndexedSlices(indices=Tensor(\"gradient_tape/private__graph_conv_keras_model_13/graph_pool_26/Reshape_20:0\", shape=(1002,), dtype=int32), values=Tensor(\"gradient_tape/private__graph_conv_keras_model_13/graph_pool_26/Reshape_19:0\", shape=(1002, 64), dtype=float32), dense_shape=Tensor(\"gradient_tape/private__graph_conv_keras_model_13/graph_pool_26/Cast_6:0\", shape=(2,), dtype=int32))) to a dense Tensor of unknown shape. This may consume a large amount of memory.\n",
      "  \"shape. This may consume a large amount of memory.\" % value)\n",
      "/Users/ek/miniconda3/envs/cytoxnet/lib/python3.6/site-packages/tensorflow/python/framework/indexed_slices.py:437: UserWarning: Converting sparse IndexedSlices(IndexedSlices(indices=Tensor(\"gradient_tape/private__graph_conv_keras_model_13/graph_pool_26/Reshape_23:0\", shape=(152,), dtype=int32), values=Tensor(\"gradient_tape/private__graph_conv_keras_model_13/graph_pool_26/Reshape_22:0\", shape=(152, 64), dtype=float32), dense_shape=Tensor(\"gradient_tape/private__graph_conv_keras_model_13/graph_pool_26/Cast_7:0\", shape=(2,), dtype=int32))) to a dense Tensor of unknown shape. This may consume a large amount of memory.\n",
      "  \"shape. This may consume a large amount of memory.\" % value)\n",
      "/Users/ek/miniconda3/envs/cytoxnet/lib/python3.6/site-packages/tensorflow/python/framework/indexed_slices.py:437: UserWarning: Converting sparse IndexedSlices(IndexedSlices(indices=Tensor(\"gradient_tape/private__graph_conv_keras_model_13/graph_pool_27/Reshape_14:0\", shape=(343,), dtype=int32), values=Tensor(\"gradient_tape/private__graph_conv_keras_model_13/graph_pool_27/Reshape_13:0\", shape=(343, 64), dtype=float32), dense_shape=Tensor(\"gradient_tape/private__graph_conv_keras_model_13/graph_pool_27/Cast_4:0\", shape=(2,), dtype=int32))) to a dense Tensor of unknown shape. This may consume a large amount of memory.\n",
      "  \"shape. This may consume a large amount of memory.\" % value)\n",
      "/Users/ek/miniconda3/envs/cytoxnet/lib/python3.6/site-packages/tensorflow/python/framework/indexed_slices.py:437: UserWarning: Converting sparse IndexedSlices(IndexedSlices(indices=Tensor(\"gradient_tape/private__graph_conv_keras_model_13/graph_pool_27/Reshape_17:0\", shape=(1110,), dtype=int32), values=Tensor(\"gradient_tape/private__graph_conv_keras_model_13/graph_pool_27/Reshape_16:0\", shape=(1110, 64), dtype=float32), dense_shape=Tensor(\"gradient_tape/private__graph_conv_keras_model_13/graph_pool_27/Cast_5:0\", shape=(2,), dtype=int32))) to a dense Tensor of unknown shape. This may consume a large amount of memory.\n",
      "  \"shape. This may consume a large amount of memory.\" % value)\n",
      "/Users/ek/miniconda3/envs/cytoxnet/lib/python3.6/site-packages/tensorflow/python/framework/indexed_slices.py:437: UserWarning: Converting sparse IndexedSlices(IndexedSlices(indices=Tensor(\"gradient_tape/private__graph_conv_keras_model_13/graph_pool_27/Reshape_20:0\", shape=(975,), dtype=int32), values=Tensor(\"gradient_tape/private__graph_conv_keras_model_13/graph_pool_27/Reshape_19:0\", shape=(975, 64), dtype=float32), dense_shape=Tensor(\"gradient_tape/private__graph_conv_keras_model_13/graph_pool_27/Cast_6:0\", shape=(2,), dtype=int32))) to a dense Tensor of unknown shape. This may consume a large amount of memory.\n",
      "  \"shape. This may consume a large amount of memory.\" % value)\n",
      "/Users/ek/miniconda3/envs/cytoxnet/lib/python3.6/site-packages/tensorflow/python/framework/indexed_slices.py:437: UserWarning: Converting sparse IndexedSlices(IndexedSlices(indices=Tensor(\"gradient_tape/private__graph_conv_keras_model_13/graph_pool_27/Reshape_23:0\", shape=(80,), dtype=int32), values=Tensor(\"gradient_tape/private__graph_conv_keras_model_13/graph_pool_27/Reshape_22:0\", shape=(80, 64), dtype=float32), dense_shape=Tensor(\"gradient_tape/private__graph_conv_keras_model_13/graph_pool_27/Cast_7:0\", shape=(2,), dtype=int32))) to a dense Tensor of unknown shape. This may consume a large amount of memory.\n",
      "  \"shape. This may consume a large amount of memory.\" % value)\n",
      "/Users/ek/miniconda3/envs/cytoxnet/lib/python3.6/site-packages/tensorflow/python/framework/indexed_slices.py:437: UserWarning: Converting sparse IndexedSlices(IndexedSlices(indices=Tensor(\"gradient_tape/private__graph_conv_keras_model_13/graph_conv_27/Reshape_11:0\", shape=(343,), dtype=int32), values=Tensor(\"gradient_tape/private__graph_conv_keras_model_13/graph_conv_27/Reshape_10:0\", shape=(343, 64), dtype=float32), dense_shape=Tensor(\"gradient_tape/private__graph_conv_keras_model_13/graph_conv_27/Cast:0\", shape=(2,), dtype=int32))) to a dense Tensor of unknown shape. This may consume a large amount of memory.\n",
      "  \"shape. This may consume a large amount of memory.\" % value)\n",
      "/Users/ek/miniconda3/envs/cytoxnet/lib/python3.6/site-packages/tensorflow/python/framework/indexed_slices.py:437: UserWarning: Converting sparse IndexedSlices(IndexedSlices(indices=Tensor(\"gradient_tape/private__graph_conv_keras_model_13/graph_conv_27/Reshape_13:0\", shape=(1110,), dtype=int32), values=Tensor(\"gradient_tape/private__graph_conv_keras_model_13/graph_conv_27/Reshape_12:0\", shape=(1110, 64), dtype=float32), dense_shape=Tensor(\"gradient_tape/private__graph_conv_keras_model_13/graph_conv_27/Cast_1:0\", shape=(2,), dtype=int32))) to a dense Tensor of unknown shape. This may consume a large amount of memory.\n",
      "  \"shape. This may consume a large amount of memory.\" % value)\n",
      "/Users/ek/miniconda3/envs/cytoxnet/lib/python3.6/site-packages/tensorflow/python/framework/indexed_slices.py:437: UserWarning: Converting sparse IndexedSlices(IndexedSlices(indices=Tensor(\"gradient_tape/private__graph_conv_keras_model_13/graph_conv_27/Reshape_15:0\", shape=(975,), dtype=int32), values=Tensor(\"gradient_tape/private__graph_conv_keras_model_13/graph_conv_27/Reshape_14:0\", shape=(975, 64), dtype=float32), dense_shape=Tensor(\"gradient_tape/private__graph_conv_keras_model_13/graph_conv_27/Cast_2:0\", shape=(2,), dtype=int32))) to a dense Tensor of unknown shape. This may consume a large amount of memory.\n",
      "  \"shape. This may consume a large amount of memory.\" % value)\n",
      "/Users/ek/miniconda3/envs/cytoxnet/lib/python3.6/site-packages/tensorflow/python/framework/indexed_slices.py:437: UserWarning: Converting sparse IndexedSlices(IndexedSlices(indices=Tensor(\"gradient_tape/private__graph_conv_keras_model_13/graph_conv_27/Reshape_17:0\", shape=(80,), dtype=int32), values=Tensor(\"gradient_tape/private__graph_conv_keras_model_13/graph_conv_27/Reshape_16:0\", shape=(80, 64), dtype=float32), dense_shape=Tensor(\"gradient_tape/private__graph_conv_keras_model_13/graph_conv_27/Cast_3:0\", shape=(2,), dtype=int32))) to a dense Tensor of unknown shape. This may consume a large amount of memory.\n",
      "  \"shape. This may consume a large amount of memory.\" % value)\n",
      "/Users/ek/miniconda3/envs/cytoxnet/lib/python3.6/site-packages/tensorflow/python/framework/indexed_slices.py:437: UserWarning: Converting sparse IndexedSlices(IndexedSlices(indices=Tensor(\"gradient_tape/private__graph_conv_keras_model_13/graph_pool_26/Reshape_14:0\", shape=(343,), dtype=int32), values=Tensor(\"gradient_tape/private__graph_conv_keras_model_13/graph_pool_26/Reshape_13:0\", shape=(343, 64), dtype=float32), dense_shape=Tensor(\"gradient_tape/private__graph_conv_keras_model_13/graph_pool_26/Cast_4:0\", shape=(2,), dtype=int32))) to a dense Tensor of unknown shape. This may consume a large amount of memory.\n",
      "  \"shape. This may consume a large amount of memory.\" % value)\n",
      "/Users/ek/miniconda3/envs/cytoxnet/lib/python3.6/site-packages/tensorflow/python/framework/indexed_slices.py:437: UserWarning: Converting sparse IndexedSlices(IndexedSlices(indices=Tensor(\"gradient_tape/private__graph_conv_keras_model_13/graph_pool_26/Reshape_17:0\", shape=(1110,), dtype=int32), values=Tensor(\"gradient_tape/private__graph_conv_keras_model_13/graph_pool_26/Reshape_16:0\", shape=(1110, 64), dtype=float32), dense_shape=Tensor(\"gradient_tape/private__graph_conv_keras_model_13/graph_pool_26/Cast_5:0\", shape=(2,), dtype=int32))) to a dense Tensor of unknown shape. This may consume a large amount of memory.\n",
      "  \"shape. This may consume a large amount of memory.\" % value)\n",
      "/Users/ek/miniconda3/envs/cytoxnet/lib/python3.6/site-packages/tensorflow/python/framework/indexed_slices.py:437: UserWarning: Converting sparse IndexedSlices(IndexedSlices(indices=Tensor(\"gradient_tape/private__graph_conv_keras_model_13/graph_pool_26/Reshape_20:0\", shape=(975,), dtype=int32), values=Tensor(\"gradient_tape/private__graph_conv_keras_model_13/graph_pool_26/Reshape_19:0\", shape=(975, 64), dtype=float32), dense_shape=Tensor(\"gradient_tape/private__graph_conv_keras_model_13/graph_pool_26/Cast_6:0\", shape=(2,), dtype=int32))) to a dense Tensor of unknown shape. This may consume a large amount of memory.\n",
      "  \"shape. This may consume a large amount of memory.\" % value)\n",
      "/Users/ek/miniconda3/envs/cytoxnet/lib/python3.6/site-packages/tensorflow/python/framework/indexed_slices.py:437: UserWarning: Converting sparse IndexedSlices(IndexedSlices(indices=Tensor(\"gradient_tape/private__graph_conv_keras_model_13/graph_pool_26/Reshape_23:0\", shape=(80,), dtype=int32), values=Tensor(\"gradient_tape/private__graph_conv_keras_model_13/graph_pool_26/Reshape_22:0\", shape=(80, 64), dtype=float32), dense_shape=Tensor(\"gradient_tape/private__graph_conv_keras_model_13/graph_pool_26/Cast_7:0\", shape=(2,), dtype=int32))) to a dense Tensor of unknown shape. This may consume a large amount of memory.\n",
      "  \"shape. This may consume a large amount of memory.\" % value)\n",
      "/Users/ek/miniconda3/envs/cytoxnet/lib/python3.6/site-packages/tensorflow/python/framework/indexed_slices.py:437: UserWarning: Converting sparse IndexedSlices(IndexedSlices(indices=Tensor(\"gradient_tape/private__graph_conv_keras_model_13/graph_pool_27/Reshape_14:0\", shape=(None,), dtype=int32), values=Tensor(\"gradient_tape/private__graph_conv_keras_model_13/graph_pool_27/Reshape_13:0\", shape=(None, 64), dtype=float32), dense_shape=Tensor(\"gradient_tape/private__graph_conv_keras_model_13/graph_pool_27/Cast_4:0\", shape=(2,), dtype=int32))) to a dense Tensor of unknown shape. This may consume a large amount of memory.\n",
      "  \"shape. This may consume a large amount of memory.\" % value)\n",
      "/Users/ek/miniconda3/envs/cytoxnet/lib/python3.6/site-packages/tensorflow/python/framework/indexed_slices.py:437: UserWarning: Converting sparse IndexedSlices(IndexedSlices(indices=Tensor(\"gradient_tape/private__graph_conv_keras_model_13/graph_pool_27/Reshape_17:0\", shape=(None,), dtype=int32), values=Tensor(\"gradient_tape/private__graph_conv_keras_model_13/graph_pool_27/Reshape_16:0\", shape=(None, 64), dtype=float32), dense_shape=Tensor(\"gradient_tape/private__graph_conv_keras_model_13/graph_pool_27/Cast_5:0\", shape=(2,), dtype=int32))) to a dense Tensor of unknown shape. This may consume a large amount of memory.\n",
      "  \"shape. This may consume a large amount of memory.\" % value)\n",
      "/Users/ek/miniconda3/envs/cytoxnet/lib/python3.6/site-packages/tensorflow/python/framework/indexed_slices.py:437: UserWarning: Converting sparse IndexedSlices(IndexedSlices(indices=Tensor(\"gradient_tape/private__graph_conv_keras_model_13/graph_pool_27/Reshape_20:0\", shape=(None,), dtype=int32), values=Tensor(\"gradient_tape/private__graph_conv_keras_model_13/graph_pool_27/Reshape_19:0\", shape=(None, 64), dtype=float32), dense_shape=Tensor(\"gradient_tape/private__graph_conv_keras_model_13/graph_pool_27/Cast_6:0\", shape=(2,), dtype=int32))) to a dense Tensor of unknown shape. This may consume a large amount of memory.\n",
      "  \"shape. This may consume a large amount of memory.\" % value)\n",
      "/Users/ek/miniconda3/envs/cytoxnet/lib/python3.6/site-packages/tensorflow/python/framework/indexed_slices.py:437: UserWarning: Converting sparse IndexedSlices(IndexedSlices(indices=Tensor(\"gradient_tape/private__graph_conv_keras_model_13/graph_pool_27/Reshape_23:0\", shape=(None,), dtype=int32), values=Tensor(\"gradient_tape/private__graph_conv_keras_model_13/graph_pool_27/Reshape_22:0\", shape=(None, 64), dtype=float32), dense_shape=Tensor(\"gradient_tape/private__graph_conv_keras_model_13/graph_pool_27/Cast_7:0\", shape=(2,), dtype=int32))) to a dense Tensor of unknown shape. This may consume a large amount of memory.\n",
      "  \"shape. This may consume a large amount of memory.\" % value)\n",
      "/Users/ek/miniconda3/envs/cytoxnet/lib/python3.6/site-packages/tensorflow/python/framework/indexed_slices.py:437: UserWarning: Converting sparse IndexedSlices(IndexedSlices(indices=Tensor(\"gradient_tape/private__graph_conv_keras_model_13/graph_conv_27/Reshape_11:0\", shape=(None,), dtype=int32), values=Tensor(\"gradient_tape/private__graph_conv_keras_model_13/graph_conv_27/Reshape_10:0\", shape=(None, 64), dtype=float32), dense_shape=Tensor(\"gradient_tape/private__graph_conv_keras_model_13/graph_conv_27/Cast:0\", shape=(2,), dtype=int32))) to a dense Tensor of unknown shape. This may consume a large amount of memory.\n",
      "  \"shape. This may consume a large amount of memory.\" % value)\n",
      "/Users/ek/miniconda3/envs/cytoxnet/lib/python3.6/site-packages/tensorflow/python/framework/indexed_slices.py:437: UserWarning: Converting sparse IndexedSlices(IndexedSlices(indices=Tensor(\"gradient_tape/private__graph_conv_keras_model_13/graph_conv_27/Reshape_13:0\", shape=(None,), dtype=int32), values=Tensor(\"gradient_tape/private__graph_conv_keras_model_13/graph_conv_27/Reshape_12:0\", shape=(None, 64), dtype=float32), dense_shape=Tensor(\"gradient_tape/private__graph_conv_keras_model_13/graph_conv_27/Cast_1:0\", shape=(2,), dtype=int32))) to a dense Tensor of unknown shape. This may consume a large amount of memory.\n",
      "  \"shape. This may consume a large amount of memory.\" % value)\n",
      "/Users/ek/miniconda3/envs/cytoxnet/lib/python3.6/site-packages/tensorflow/python/framework/indexed_slices.py:437: UserWarning: Converting sparse IndexedSlices(IndexedSlices(indices=Tensor(\"gradient_tape/private__graph_conv_keras_model_13/graph_conv_27/Reshape_15:0\", shape=(None,), dtype=int32), values=Tensor(\"gradient_tape/private__graph_conv_keras_model_13/graph_conv_27/Reshape_14:0\", shape=(None, 64), dtype=float32), dense_shape=Tensor(\"gradient_tape/private__graph_conv_keras_model_13/graph_conv_27/Cast_2:0\", shape=(2,), dtype=int32))) to a dense Tensor of unknown shape. This may consume a large amount of memory.\n",
      "  \"shape. This may consume a large amount of memory.\" % value)\n",
      "/Users/ek/miniconda3/envs/cytoxnet/lib/python3.6/site-packages/tensorflow/python/framework/indexed_slices.py:437: UserWarning: Converting sparse IndexedSlices(IndexedSlices(indices=Tensor(\"gradient_tape/private__graph_conv_keras_model_13/graph_conv_27/Reshape_17:0\", shape=(None,), dtype=int32), values=Tensor(\"gradient_tape/private__graph_conv_keras_model_13/graph_conv_27/Reshape_16:0\", shape=(None, 64), dtype=float32), dense_shape=Tensor(\"gradient_tape/private__graph_conv_keras_model_13/graph_conv_27/Cast_3:0\", shape=(2,), dtype=int32))) to a dense Tensor of unknown shape. This may consume a large amount of memory.\n",
      "  \"shape. This may consume a large amount of memory.\" % value)\n",
      "/Users/ek/miniconda3/envs/cytoxnet/lib/python3.6/site-packages/tensorflow/python/framework/indexed_slices.py:437: UserWarning: Converting sparse IndexedSlices(IndexedSlices(indices=Tensor(\"gradient_tape/private__graph_conv_keras_model_13/graph_pool_26/Reshape_14:0\", shape=(None,), dtype=int32), values=Tensor(\"gradient_tape/private__graph_conv_keras_model_13/graph_pool_26/Reshape_13:0\", shape=(None, 64), dtype=float32), dense_shape=Tensor(\"gradient_tape/private__graph_conv_keras_model_13/graph_pool_26/Cast_4:0\", shape=(2,), dtype=int32))) to a dense Tensor of unknown shape. This may consume a large amount of memory.\n",
      "  \"shape. This may consume a large amount of memory.\" % value)\n",
      "/Users/ek/miniconda3/envs/cytoxnet/lib/python3.6/site-packages/tensorflow/python/framework/indexed_slices.py:437: UserWarning: Converting sparse IndexedSlices(IndexedSlices(indices=Tensor(\"gradient_tape/private__graph_conv_keras_model_13/graph_pool_26/Reshape_17:0\", shape=(None,), dtype=int32), values=Tensor(\"gradient_tape/private__graph_conv_keras_model_13/graph_pool_26/Reshape_16:0\", shape=(None, 64), dtype=float32), dense_shape=Tensor(\"gradient_tape/private__graph_conv_keras_model_13/graph_pool_26/Cast_5:0\", shape=(2,), dtype=int32))) to a dense Tensor of unknown shape. This may consume a large amount of memory.\n",
      "  \"shape. This may consume a large amount of memory.\" % value)\n",
      "/Users/ek/miniconda3/envs/cytoxnet/lib/python3.6/site-packages/tensorflow/python/framework/indexed_slices.py:437: UserWarning: Converting sparse IndexedSlices(IndexedSlices(indices=Tensor(\"gradient_tape/private__graph_conv_keras_model_13/graph_pool_26/Reshape_20:0\", shape=(None,), dtype=int32), values=Tensor(\"gradient_tape/private__graph_conv_keras_model_13/graph_pool_26/Reshape_19:0\", shape=(None, 64), dtype=float32), dense_shape=Tensor(\"gradient_tape/private__graph_conv_keras_model_13/graph_pool_26/Cast_6:0\", shape=(2,), dtype=int32))) to a dense Tensor of unknown shape. This may consume a large amount of memory.\n",
      "  \"shape. This may consume a large amount of memory.\" % value)\n",
      "/Users/ek/miniconda3/envs/cytoxnet/lib/python3.6/site-packages/tensorflow/python/framework/indexed_slices.py:437: UserWarning: Converting sparse IndexedSlices(IndexedSlices(indices=Tensor(\"gradient_tape/private__graph_conv_keras_model_13/graph_pool_26/Reshape_23:0\", shape=(None,), dtype=int32), values=Tensor(\"gradient_tape/private__graph_conv_keras_model_13/graph_pool_26/Reshape_22:0\", shape=(None, 64), dtype=float32), dense_shape=Tensor(\"gradient_tape/private__graph_conv_keras_model_13/graph_pool_26/Cast_7:0\", shape=(2,), dtype=int32))) to a dense Tensor of unknown shape. This may consume a large amount of memory.\n",
      "  \"shape. This may consume a large amount of memory.\" % value)\n"
     ]
    }
   ],
   "source": [
    "train_losses = []\n",
    "test_losses = []\n",
    "for iteration in range(30):\n",
    "    train_losses.append(fish_pretrain.fit(fish_train, nb_epoch=10))\n",
    "    test_losses.append(fish_pretrain.fit(algea_test, checkpoint_interval=0))\n",
    "    baseline.model.restore()"
   ]
  },
  {
   "cell_type": "code",
   "execution_count": 137,
   "id": "91fc5942-c819-4213-a04a-ca38ba9305da",
   "metadata": {},
   "outputs": [
    {
     "data": {
      "text/plain": [
       "<matplotlib.legend.Legend at 0x1d2555470>"
      ]
     },
     "execution_count": 137,
     "metadata": {},
     "output_type": "execute_result"
    },
    {
     "data": {
      "image/png": "[encoded data removed]",
      "text/plain": [
       "<Figure size 432x288 with 1 Axes>"
      ]
     },
     "metadata": {
      "needs_background": "light"
     },
     "output_type": "display_data"
    }
   ],
   "source": [
    "fig, ax = plt.subplots()\n",
    "ax.plot(train_losses, label='fish train')\n",
    "ax.plot(test_losses, label='test')\n",
    "plt.legend()"
   ]
  },
  {
   "cell_type": "markdown",
   "id": "1abd3be2-948b-44b9-af65-df54cd81cf0d",
   "metadata": {},
   "source": [
    "Transfer to algea and monitor loss"
   ]
  },
  {
   "cell_type": "code",
   "execution_count": 138,
   "id": "03bddd8d-981d-4a0f-a4cd-0e8791d2a344",
   "metadata": {},
   "outputs": [],
   "source": [
    "train_losses = []\n",
    "test_losses = []\n",
    "for iteration in range(15):\n",
    "    train_losses.append(fish_pretrain.fit(algea_train, nb_epoch=10))\n",
    "    test_losses.append(fish_pretrain.fit(algea_test, checkpoint_interval=0))\n",
    "    baseline.model.restore()"
   ]
  },
  {
   "cell_type": "code",
   "execution_count": null,
   "id": "fd6b1b91-bd29-438a-814c-af721cc3ee99",
   "metadata": {},
   "outputs": [],
   "source": [
    "fig, ax = plt.subplots()\n",
    "ax.plot(train_losses, label='algea train')\n",
    "ax.plot(test_losses, label='test')\n",
    "plt.legend()"
   ]
  },
  {
   "cell_type": "code",
   "execution_count": null,
   "id": "580a89a5-c60d-4ec0-a458-8313f0580c6a",
   "metadata": {
    "tags": []
   },
   "outputs": [],
   "source": [
    "fish_pretrain.evaluate(algea_test, metrics=['r2_score'])"
   ]
  },
  {
   "cell_type": "code",
   "execution_count": null,
   "id": "9b50c29e-7e8b-4460-ba9b-5002150bd3f5",
   "metadata": {},
   "outputs": [],
   "source": [
    "fish_pretrain.visualize('pair_predict', algea_test, untransform=False)"
   ]
  },
  {
   "cell_type": "markdown",
   "id": "327d5258-4de9-4f76-a760-869e973a7173",
   "metadata": {},
   "source": [
    "## Try a sparse multitask predictor and see how well it does on algea"
   ]
  },
  {
   "cell_type": "code",
   "execution_count": null,
   "id": "46b0e1f6-cd19-4dab-a539-75729206b5e7",
   "metadata": {},
   "outputs": [],
   "source": [
    "multitask_model = cytoxnet.models.models.ToxModel(\n",
    "    'GraphCNN', \n",
    "    mode='regression',\n",
    "    tasks=['algea_EC50', 'fish_LC50', 'daphnia_EC50']\n",
    ")"
   ]
  },
  {
   "cell_type": "code",
   "execution_count": null,
   "id": "49719d6f-4747-4a07-8254-45f1b842c26f",
   "metadata": {
    "tags": []
   },
   "outputs": [],
   "source": [
    "multitask_model.fit(multi_train, nb_epoch=5)"
   ]
  },
  {
   "cell_type": "code",
   "execution_count": null,
   "id": "e875ad6e-3945-4e46-91d2-a4ed620c21e0",
   "metadata": {},
   "outputs": [],
   "source": [
    "multitask_model.predict(multi_train)"
   ]
  },
  {
   "cell_type": "code",
   "execution_count": null,
   "id": "b6423c43-0a9b-43c3-9a56-ac5738777aad",
   "metadata": {
    "tags": []
   },
   "outputs": [],
   "source": [
    "multitask_model.evaluate(algea_test_multi,\n",
    "                         metrics=['r2_score'],\n",
    "                         per_task_metrics=True,\n",
    "                         use_sample_weights=True)"
   ]
  },
  {
   "cell_type": "code",
   "execution_count": null,
   "id": "196915ea-dbb3-4224-b458-80c3345f83c9",
   "metadata": {},
   "outputs": [],
   "source": [
    "multitask_model.visualize('pair_predict', algea_test_multi, untransform=False, task='algea_EC50')"
   ]
  }
 ],
 "metadata": {
  "kernelspec": {
   "display_name": "Python 3",
   "language": "python",
   "name": "python3"
  },
  "language_info": {
   "codemirror_mode": {
    "name": "ipython",
    "version": 3
   },
   "file_extension": ".py",
   "mimetype": "text/x-python",
   "name": "python",
   "nbconvert_exporter": "python",
   "pygments_lexer": "ipython3",
   "version": "3.6.13"
  }
 },
 "nbformat": 4,
 "nbformat_minor": 5
}
