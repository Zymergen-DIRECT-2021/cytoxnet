{
 "cells": [
  {
   "cell_type": "markdown",
   "id": "8503cbc6-a636-4046-aab1-aacb2c6953c0",
   "metadata": {},
   "source": [
    "# Multitask learning did not perform excitingly well. Can transfer learning do better?\n",
    "The multitask learning tests were only marginally promising, likely due to the poor data overlap."
   ]
  },
  {
   "cell_type": "code",
   "execution_count": 1,
   "id": "46c3faa5-99ca-474d-80ba-36667e910965",
   "metadata": {},
   "outputs": [],
   "source": [
    "import deepchem as dc\n",
    "import numpy as np\n",
    "import pandas as pd\n",
    "import optuna\n",
    "\n",
    "import cytoxnet.dataprep.io as io\n",
    "import cytoxnet.dataprep.dataprep as dataprep\n",
    "import cytoxnet.dataprep.featurize as feat\n",
    "from cytoxnet.models.models import ToxModel\n",
    "import cytoxnet.models.opt as opt"
   ]
  },
  {
   "cell_type": "markdown",
   "id": "b3fc2c1c-b582-4c17-a1f8-a0202d2050eb",
   "metadata": {},
   "source": [
    "## Prepare the two datasets - rat and algea\n",
    "We must extract the independant test set from the algea data."
   ]
  },
  {
   "cell_type": "code",
   "execution_count": 2,
   "id": "113c1710-8634-48b9-9369-2bed8fe7aa20",
   "metadata": {},
   "outputs": [],
   "source": [
    "rat_df = io.load_data('zhu_rat_LD50')\n",
    "algea_df = io.load_data('lunghini_algea_EC50')"
   ]
  },
  {
   "cell_type": "code",
   "execution_count": 3,
   "id": "3a45e371-2e5a-46c7-9dd7-97febc179537",
   "metadata": {},
   "outputs": [],
   "source": [
    "rat_f = feat.add_features(rat_df, method='ConvMolFeaturizer')\n",
    "algea_f = feat.add_features(algea_df, method='ConvMolFeaturizer')"
   ]
  },
  {
   "cell_type": "code",
   "execution_count": 4,
   "id": "c165f0a5-2509-442a-9875-8938265778f5",
   "metadata": {},
   "outputs": [],
   "source": [
    "rat = dataprep.convert_to_dataset(\n",
    "    rat_f,\n",
    "    X_col='ConvMolFeaturizer',\n",
    "    y_col=[\n",
    "        'rat_LD50'\n",
    "    ]\n",
    ")\n",
    "algea = dataprep.convert_to_dataset(\n",
    "    algea_f,\n",
    "    X_col='ConvMolFeaturizer',\n",
    "    y_col=[\n",
    "        'algea_EC50'\n",
    "    ]\n",
    ")"
   ]
  },
  {
   "cell_type": "code",
   "execution_count": 5,
   "id": "cf565a1c-17c7-43e3-9eef-d25e0d6533c3",
   "metadata": {},
   "outputs": [],
   "source": [
    "rat_normed, rat_transformations = dataprep.data_transformation(\n",
    "    rat, transformations = ['NormalizationTransformer'],\n",
    "    to_transform = ['y']\n",
    ")\n",
    "algea_normed, algea_transformations = dataprep.data_transformation(\n",
    "    algea, transformations = ['NormalizationTransformer'],\n",
    "    to_transform = ['y']\n",
    ")"
   ]
  },
  {
   "cell_type": "code",
   "execution_count": 6,
   "id": "4ffbc29e-eb23-4e2c-a154-b766b6817882",
   "metadata": {},
   "outputs": [],
   "source": [
    "algea_dev, algea_test = dataprep.data_splitting(algea_normed, split_type='tt')"
   ]
  },
  {
   "cell_type": "markdown",
   "id": "fa4d66b4-8f9d-4513-b8d5-8afc269aa8e4",
   "metadata": {},
   "source": [
    "Retrieve optimum hyperparameters for single task graph models."
   ]
  },
  {
   "cell_type": "code",
   "execution_count": 48,
   "id": "0f646e54-1832-415e-8cb4-9ea676b00cde",
   "metadata": {},
   "outputs": [],
   "source": [
    "study = optuna.load_study(\n",
    "    study_name='opt',\n",
    "    storage=\"sqlite:///graph_r.db\"\n",
    ")"
   ]
  },
  {
   "cell_type": "code",
   "execution_count": 49,
   "id": "f9dc1f5a-c085-44dd-a95b-421b904ec58e",
   "metadata": {
    "collapsed": true,
    "jupyter": {
     "outputs_hidden": true
    },
    "tags": []
   },
   "outputs": [
    {
     "name": "stderr",
     "output_type": "stream",
     "text": [
      "/Users/ek/miniconda3/envs/cytoxnet/lib/python3.6/site-packages/optuna/distributions.py:430: UserWarning: Choices for a categorical distribution should be a tuple of None, bool, int, float and str for persistent storage but contains [32] which is of type list.\n",
      "  warnings.warn(message)\n",
      "/Users/ek/miniconda3/envs/cytoxnet/lib/python3.6/site-packages/optuna/distributions.py:430: UserWarning: Choices for a categorical distribution should be a tuple of None, bool, int, float and str for persistent storage but contains [64] which is of type list.\n",
      "  warnings.warn(message)\n",
      "/Users/ek/miniconda3/envs/cytoxnet/lib/python3.6/site-packages/optuna/distributions.py:430: UserWarning: Choices for a categorical distribution should be a tuple of None, bool, int, float and str for persistent storage but contains [128] which is of type list.\n",
      "  warnings.warn(message)\n",
      "/Users/ek/miniconda3/envs/cytoxnet/lib/python3.6/site-packages/optuna/distributions.py:430: UserWarning: Choices for a categorical distribution should be a tuple of None, bool, int, float and str for persistent storage but contains [32, 32] which is of type list.\n",
      "  warnings.warn(message)\n",
      "/Users/ek/miniconda3/envs/cytoxnet/lib/python3.6/site-packages/optuna/distributions.py:430: UserWarning: Choices for a categorical distribution should be a tuple of None, bool, int, float and str for persistent storage but contains [64, 64] which is of type list.\n",
      "  warnings.warn(message)\n",
      "/Users/ek/miniconda3/envs/cytoxnet/lib/python3.6/site-packages/optuna/distributions.py:430: UserWarning: Choices for a categorical distribution should be a tuple of None, bool, int, float and str for persistent storage but contains [128, 128] which is of type list.\n",
      "  warnings.warn(message)\n",
      "/Users/ek/miniconda3/envs/cytoxnet/lib/python3.6/site-packages/optuna/distributions.py:430: UserWarning: Choices for a categorical distribution should be a tuple of None, bool, int, float and str for persistent storage but contains [32, 32, 32] which is of type list.\n",
      "  warnings.warn(message)\n",
      "/Users/ek/miniconda3/envs/cytoxnet/lib/python3.6/site-packages/optuna/distributions.py:430: UserWarning: Choices for a categorical distribution should be a tuple of None, bool, int, float and str for persistent storage but contains [64, 64, 64] which is of type list.\n",
      "  warnings.warn(message)\n",
      "/Users/ek/miniconda3/envs/cytoxnet/lib/python3.6/site-packages/optuna/distributions.py:430: UserWarning: Choices for a categorical distribution should be a tuple of None, bool, int, float and str for persistent storage but contains [128, 128, 128] which is of type list.\n",
      "  warnings.warn(message)\n"
     ]
    }
   ],
   "source": [
    "study_results = study.trials_dataframe()"
   ]
  },
  {
   "cell_type": "code",
   "execution_count": 50,
   "id": "13478462-4a60-460e-a872-a140104a9585",
   "metadata": {},
   "outputs": [],
   "source": [
    "params = study.best_params"
   ]
  },
  {
   "cell_type": "code",
   "execution_count": 51,
   "id": "3dd42333-6d85-4a04-84b7-4d74e2fca8b5",
   "metadata": {},
   "outputs": [
    {
     "data": {
      "text/plain": [
       "{'batch_size': 50,\n",
       " 'dense_layer_size': 76,\n",
       " 'dropout': 0.0024988702928001455,\n",
       " 'graph_conv_layers': [128, 128, 128],\n",
       " 'number_atom_features': 25}"
      ]
     },
     "execution_count": 51,
     "metadata": {},
     "output_type": "execute_result"
    }
   ],
   "source": [
    "params"
   ]
  },
  {
   "cell_type": "code",
   "execution_count": 52,
   "id": "94c50973-5460-4a7c-ad57-f98ffbda22ed",
   "metadata": {},
   "outputs": [
    {
     "data": {
      "text/plain": [
       "0.5364451592127468"
      ]
     },
     "execution_count": 52,
     "metadata": {},
     "output_type": "execute_result"
    }
   ],
   "source": [
    "study.best_value"
   ]
  },
  {
   "cell_type": "markdown",
   "id": "ad3b0d9b-0f19-4a38-bc43-41c1bdfd8c2e",
   "metadata": {},
   "source": [
    "### Train a baseline graph model"
   ]
  },
  {
   "cell_type": "code",
   "execution_count": 30,
   "id": "71804a40-ca99-45af-9df2-3ce7a780f1d2",
   "metadata": {},
   "outputs": [
    {
     "name": "stdout",
     "output_type": "stream",
     "text": [
      "WARNING: No tasks passed, assuming one target\n"
     ]
    }
   ],
   "source": [
    "baseline = ToxModel(\n",
    "    'GraphCNN',\n",
    "    mode='regression',\n",
    "    transformers = algea_transformations,\n",
    "    **params\n",
    ")"
   ]
  },
  {
   "cell_type": "code",
   "execution_count": 31,
   "id": "119eb22c-1a9c-4e0b-a1c0-b2237882b2f2",
   "metadata": {
    "collapsed": true,
    "jupyter": {
     "outputs_hidden": true
    },
    "tags": []
   },
   "outputs": [
    {
     "name": "stderr",
     "output_type": "stream",
     "text": [
      "/Users/ek/miniconda3/envs/cytoxnet/lib/python3.6/site-packages/tensorflow/python/framework/indexed_slices.py:437: UserWarning: Converting sparse IndexedSlices(IndexedSlices(indices=Tensor(\"gradient_tape/private__graph_conv_keras_model_6/graph_pool_20/Reshape_14:0\", shape=(179,), dtype=int32), values=Tensor(\"gradient_tape/private__graph_conv_keras_model_6/graph_pool_20/Reshape_13:0\", shape=(179, 128), dtype=float32), dense_shape=Tensor(\"gradient_tape/private__graph_conv_keras_model_6/graph_pool_20/Cast_4:0\", shape=(2,), dtype=int32))) to a dense Tensor of unknown shape. This may consume a large amount of memory.\n",
      "  \"shape. This may consume a large amount of memory.\" % value)\n",
      "/Users/ek/miniconda3/envs/cytoxnet/lib/python3.6/site-packages/tensorflow/python/framework/indexed_slices.py:437: UserWarning: Converting sparse IndexedSlices(IndexedSlices(indices=Tensor(\"gradient_tape/private__graph_conv_keras_model_6/graph_pool_20/Reshape_17:0\", shape=(688,), dtype=int32), values=Tensor(\"gradient_tape/private__graph_conv_keras_model_6/graph_pool_20/Reshape_16:0\", shape=(688, 128), dtype=float32), dense_shape=Tensor(\"gradient_tape/private__graph_conv_keras_model_6/graph_pool_20/Cast_5:0\", shape=(2,), dtype=int32))) to a dense Tensor of unknown shape. This may consume a large amount of memory.\n",
      "  \"shape. This may consume a large amount of memory.\" % value)\n",
      "/Users/ek/miniconda3/envs/cytoxnet/lib/python3.6/site-packages/tensorflow/python/framework/indexed_slices.py:437: UserWarning: Converting sparse IndexedSlices(IndexedSlices(indices=Tensor(\"gradient_tape/private__graph_conv_keras_model_6/graph_pool_20/Reshape_20:0\", shape=(447,), dtype=int32), values=Tensor(\"gradient_tape/private__graph_conv_keras_model_6/graph_pool_20/Reshape_19:0\", shape=(447, 128), dtype=float32), dense_shape=Tensor(\"gradient_tape/private__graph_conv_keras_model_6/graph_pool_20/Cast_6:0\", shape=(2,), dtype=int32))) to a dense Tensor of unknown shape. This may consume a large amount of memory.\n",
      "  \"shape. This may consume a large amount of memory.\" % value)\n",
      "/Users/ek/miniconda3/envs/cytoxnet/lib/python3.6/site-packages/tensorflow/python/framework/indexed_slices.py:437: UserWarning: Converting sparse IndexedSlices(IndexedSlices(indices=Tensor(\"gradient_tape/private__graph_conv_keras_model_6/graph_pool_20/Reshape_23:0\", shape=(72,), dtype=int32), values=Tensor(\"gradient_tape/private__graph_conv_keras_model_6/graph_pool_20/Reshape_22:0\", shape=(72, 128), dtype=float32), dense_shape=Tensor(\"gradient_tape/private__graph_conv_keras_model_6/graph_pool_20/Cast_7:0\", shape=(2,), dtype=int32))) to a dense Tensor of unknown shape. This may consume a large amount of memory.\n",
      "  \"shape. This may consume a large amount of memory.\" % value)\n",
      "/Users/ek/miniconda3/envs/cytoxnet/lib/python3.6/site-packages/tensorflow/python/framework/indexed_slices.py:437: UserWarning: Converting sparse IndexedSlices(IndexedSlices(indices=Tensor(\"gradient_tape/private__graph_conv_keras_model_6/graph_conv_20/Reshape_11:0\", shape=(179,), dtype=int32), values=Tensor(\"gradient_tape/private__graph_conv_keras_model_6/graph_conv_20/Reshape_10:0\", shape=(179, 128), dtype=float32), dense_shape=Tensor(\"gradient_tape/private__graph_conv_keras_model_6/graph_conv_20/Cast:0\", shape=(2,), dtype=int32))) to a dense Tensor of unknown shape. This may consume a large amount of memory.\n",
      "  \"shape. This may consume a large amount of memory.\" % value)\n",
      "/Users/ek/miniconda3/envs/cytoxnet/lib/python3.6/site-packages/tensorflow/python/framework/indexed_slices.py:437: UserWarning: Converting sparse IndexedSlices(IndexedSlices(indices=Tensor(\"gradient_tape/private__graph_conv_keras_model_6/graph_conv_20/Reshape_13:0\", shape=(688,), dtype=int32), values=Tensor(\"gradient_tape/private__graph_conv_keras_model_6/graph_conv_20/Reshape_12:0\", shape=(688, 128), dtype=float32), dense_shape=Tensor(\"gradient_tape/private__graph_conv_keras_model_6/graph_conv_20/Cast_1:0\", shape=(2,), dtype=int32))) to a dense Tensor of unknown shape. This may consume a large amount of memory.\n",
      "  \"shape. This may consume a large amount of memory.\" % value)\n",
      "/Users/ek/miniconda3/envs/cytoxnet/lib/python3.6/site-packages/tensorflow/python/framework/indexed_slices.py:437: UserWarning: Converting sparse IndexedSlices(IndexedSlices(indices=Tensor(\"gradient_tape/private__graph_conv_keras_model_6/graph_conv_20/Reshape_15:0\", shape=(447,), dtype=int32), values=Tensor(\"gradient_tape/private__graph_conv_keras_model_6/graph_conv_20/Reshape_14:0\", shape=(447, 128), dtype=float32), dense_shape=Tensor(\"gradient_tape/private__graph_conv_keras_model_6/graph_conv_20/Cast_2:0\", shape=(2,), dtype=int32))) to a dense Tensor of unknown shape. This may consume a large amount of memory.\n",
      "  \"shape. This may consume a large amount of memory.\" % value)\n",
      "/Users/ek/miniconda3/envs/cytoxnet/lib/python3.6/site-packages/tensorflow/python/framework/indexed_slices.py:437: UserWarning: Converting sparse IndexedSlices(IndexedSlices(indices=Tensor(\"gradient_tape/private__graph_conv_keras_model_6/graph_conv_20/Reshape_17:0\", shape=(72,), dtype=int32), values=Tensor(\"gradient_tape/private__graph_conv_keras_model_6/graph_conv_20/Reshape_16:0\", shape=(72, 128), dtype=float32), dense_shape=Tensor(\"gradient_tape/private__graph_conv_keras_model_6/graph_conv_20/Cast_3:0\", shape=(2,), dtype=int32))) to a dense Tensor of unknown shape. This may consume a large amount of memory.\n",
      "  \"shape. This may consume a large amount of memory.\" % value)\n",
      "/Users/ek/miniconda3/envs/cytoxnet/lib/python3.6/site-packages/tensorflow/python/framework/indexed_slices.py:437: UserWarning: Converting sparse IndexedSlices(IndexedSlices(indices=Tensor(\"gradient_tape/private__graph_conv_keras_model_6/graph_conv_20/Reshape_19:0\", shape=(0,), dtype=int32), values=Tensor(\"gradient_tape/private__graph_conv_keras_model_6/graph_conv_20/Reshape_18:0\", shape=(0, 128), dtype=float32), dense_shape=Tensor(\"gradient_tape/private__graph_conv_keras_model_6/graph_conv_20/Cast_4:0\", shape=(2,), dtype=int32))) to a dense Tensor of unknown shape. This may consume a large amount of memory.\n",
      "  \"shape. This may consume a large amount of memory.\" % value)\n",
      "/Users/ek/miniconda3/envs/cytoxnet/lib/python3.6/site-packages/tensorflow/python/framework/indexed_slices.py:437: UserWarning: Converting sparse IndexedSlices(IndexedSlices(indices=Tensor(\"gradient_tape/private__graph_conv_keras_model_6/graph_conv_20/Reshape_21:0\", shape=(0,), dtype=int32), values=Tensor(\"gradient_tape/private__graph_conv_keras_model_6/graph_conv_20/Reshape_20:0\", shape=(0, 128), dtype=float32), dense_shape=Tensor(\"gradient_tape/private__graph_conv_keras_model_6/graph_conv_20/Cast_5:0\", shape=(2,), dtype=int32))) to a dense Tensor of unknown shape. This may consume a large amount of memory.\n",
      "  \"shape. This may consume a large amount of memory.\" % value)\n",
      "/Users/ek/miniconda3/envs/cytoxnet/lib/python3.6/site-packages/tensorflow/python/framework/indexed_slices.py:437: UserWarning: Converting sparse IndexedSlices(IndexedSlices(indices=Tensor(\"gradient_tape/private__graph_conv_keras_model_6/graph_conv_20/Reshape_23:0\", shape=(0,), dtype=int32), values=Tensor(\"gradient_tape/private__graph_conv_keras_model_6/graph_conv_20/Reshape_22:0\", shape=(0, 128), dtype=float32), dense_shape=Tensor(\"gradient_tape/private__graph_conv_keras_model_6/graph_conv_20/Cast_6:0\", shape=(2,), dtype=int32))) to a dense Tensor of unknown shape. This may consume a large amount of memory.\n",
      "  \"shape. This may consume a large amount of memory.\" % value)\n",
      "/Users/ek/miniconda3/envs/cytoxnet/lib/python3.6/site-packages/tensorflow/python/framework/indexed_slices.py:437: UserWarning: Converting sparse IndexedSlices(IndexedSlices(indices=Tensor(\"gradient_tape/private__graph_conv_keras_model_6/graph_conv_20/Reshape_25:0\", shape=(0,), dtype=int32), values=Tensor(\"gradient_tape/private__graph_conv_keras_model_6/graph_conv_20/Reshape_24:0\", shape=(0, 128), dtype=float32), dense_shape=Tensor(\"gradient_tape/private__graph_conv_keras_model_6/graph_conv_20/Cast_7:0\", shape=(2,), dtype=int32))) to a dense Tensor of unknown shape. This may consume a large amount of memory.\n",
      "  \"shape. This may consume a large amount of memory.\" % value)\n",
      "/Users/ek/miniconda3/envs/cytoxnet/lib/python3.6/site-packages/tensorflow/python/framework/indexed_slices.py:437: UserWarning: Converting sparse IndexedSlices(IndexedSlices(indices=Tensor(\"gradient_tape/private__graph_conv_keras_model_6/graph_conv_20/Reshape_27:0\", shape=(0,), dtype=int32), values=Tensor(\"gradient_tape/private__graph_conv_keras_model_6/graph_conv_20/Reshape_26:0\", shape=(0, 128), dtype=float32), dense_shape=Tensor(\"gradient_tape/private__graph_conv_keras_model_6/graph_conv_20/Cast_8:0\", shape=(2,), dtype=int32))) to a dense Tensor of unknown shape. This may consume a large amount of memory.\n",
      "  \"shape. This may consume a large amount of memory.\" % value)\n",
      "/Users/ek/miniconda3/envs/cytoxnet/lib/python3.6/site-packages/tensorflow/python/framework/indexed_slices.py:437: UserWarning: Converting sparse IndexedSlices(IndexedSlices(indices=Tensor(\"gradient_tape/private__graph_conv_keras_model_6/graph_conv_20/Reshape_29:0\", shape=(0,), dtype=int32), values=Tensor(\"gradient_tape/private__graph_conv_keras_model_6/graph_conv_20/Reshape_28:0\", shape=(0, 128), dtype=float32), dense_shape=Tensor(\"gradient_tape/private__graph_conv_keras_model_6/graph_conv_20/Cast_9:0\", shape=(2,), dtype=int32))) to a dense Tensor of unknown shape. This may consume a large amount of memory.\n",
      "  \"shape. This may consume a large amount of memory.\" % value)\n",
      "/Users/ek/miniconda3/envs/cytoxnet/lib/python3.6/site-packages/tensorflow/python/framework/indexed_slices.py:437: UserWarning: Converting sparse IndexedSlices(IndexedSlices(indices=Tensor(\"gradient_tape/private__graph_conv_keras_model_6/graph_pool_19/Reshape_14:0\", shape=(179,), dtype=int32), values=Tensor(\"gradient_tape/private__graph_conv_keras_model_6/graph_pool_19/Reshape_13:0\", shape=(179, 128), dtype=float32), dense_shape=Tensor(\"gradient_tape/private__graph_conv_keras_model_6/graph_pool_19/Cast_4:0\", shape=(2,), dtype=int32))) to a dense Tensor of unknown shape. This may consume a large amount of memory.\n",
      "  \"shape. This may consume a large amount of memory.\" % value)\n",
      "/Users/ek/miniconda3/envs/cytoxnet/lib/python3.6/site-packages/tensorflow/python/framework/indexed_slices.py:437: UserWarning: Converting sparse IndexedSlices(IndexedSlices(indices=Tensor(\"gradient_tape/private__graph_conv_keras_model_6/graph_pool_19/Reshape_17:0\", shape=(688,), dtype=int32), values=Tensor(\"gradient_tape/private__graph_conv_keras_model_6/graph_pool_19/Reshape_16:0\", shape=(688, 128), dtype=float32), dense_shape=Tensor(\"gradient_tape/private__graph_conv_keras_model_6/graph_pool_19/Cast_5:0\", shape=(2,), dtype=int32))) to a dense Tensor of unknown shape. This may consume a large amount of memory.\n",
      "  \"shape. This may consume a large amount of memory.\" % value)\n",
      "/Users/ek/miniconda3/envs/cytoxnet/lib/python3.6/site-packages/tensorflow/python/framework/indexed_slices.py:437: UserWarning: Converting sparse IndexedSlices(IndexedSlices(indices=Tensor(\"gradient_tape/private__graph_conv_keras_model_6/graph_pool_19/Reshape_20:0\", shape=(447,), dtype=int32), values=Tensor(\"gradient_tape/private__graph_conv_keras_model_6/graph_pool_19/Reshape_19:0\", shape=(447, 128), dtype=float32), dense_shape=Tensor(\"gradient_tape/private__graph_conv_keras_model_6/graph_pool_19/Cast_6:0\", shape=(2,), dtype=int32))) to a dense Tensor of unknown shape. This may consume a large amount of memory.\n",
      "  \"shape. This may consume a large amount of memory.\" % value)\n",
      "/Users/ek/miniconda3/envs/cytoxnet/lib/python3.6/site-packages/tensorflow/python/framework/indexed_slices.py:437: UserWarning: Converting sparse IndexedSlices(IndexedSlices(indices=Tensor(\"gradient_tape/private__graph_conv_keras_model_6/graph_pool_19/Reshape_23:0\", shape=(72,), dtype=int32), values=Tensor(\"gradient_tape/private__graph_conv_keras_model_6/graph_pool_19/Reshape_22:0\", shape=(72, 128), dtype=float32), dense_shape=Tensor(\"gradient_tape/private__graph_conv_keras_model_6/graph_pool_19/Cast_7:0\", shape=(2,), dtype=int32))) to a dense Tensor of unknown shape. This may consume a large amount of memory.\n",
      "  \"shape. This may consume a large amount of memory.\" % value)\n",
      "/Users/ek/miniconda3/envs/cytoxnet/lib/python3.6/site-packages/tensorflow/python/framework/indexed_slices.py:437: UserWarning: Converting sparse IndexedSlices(IndexedSlices(indices=Tensor(\"gradient_tape/private__graph_conv_keras_model_6/graph_conv_19/Reshape_11:0\", shape=(179,), dtype=int32), values=Tensor(\"gradient_tape/private__graph_conv_keras_model_6/graph_conv_19/Reshape_10:0\", shape=(179, 128), dtype=float32), dense_shape=Tensor(\"gradient_tape/private__graph_conv_keras_model_6/graph_conv_19/Cast:0\", shape=(2,), dtype=int32))) to a dense Tensor of unknown shape. This may consume a large amount of memory.\n",
      "  \"shape. This may consume a large amount of memory.\" % value)\n",
      "/Users/ek/miniconda3/envs/cytoxnet/lib/python3.6/site-packages/tensorflow/python/framework/indexed_slices.py:437: UserWarning: Converting sparse IndexedSlices(IndexedSlices(indices=Tensor(\"gradient_tape/private__graph_conv_keras_model_6/graph_conv_19/Reshape_13:0\", shape=(688,), dtype=int32), values=Tensor(\"gradient_tape/private__graph_conv_keras_model_6/graph_conv_19/Reshape_12:0\", shape=(688, 128), dtype=float32), dense_shape=Tensor(\"gradient_tape/private__graph_conv_keras_model_6/graph_conv_19/Cast_1:0\", shape=(2,), dtype=int32))) to a dense Tensor of unknown shape. This may consume a large amount of memory.\n",
      "  \"shape. This may consume a large amount of memory.\" % value)\n",
      "/Users/ek/miniconda3/envs/cytoxnet/lib/python3.6/site-packages/tensorflow/python/framework/indexed_slices.py:437: UserWarning: Converting sparse IndexedSlices(IndexedSlices(indices=Tensor(\"gradient_tape/private__graph_conv_keras_model_6/graph_conv_19/Reshape_15:0\", shape=(447,), dtype=int32), values=Tensor(\"gradient_tape/private__graph_conv_keras_model_6/graph_conv_19/Reshape_14:0\", shape=(447, 128), dtype=float32), dense_shape=Tensor(\"gradient_tape/private__graph_conv_keras_model_6/graph_conv_19/Cast_2:0\", shape=(2,), dtype=int32))) to a dense Tensor of unknown shape. This may consume a large amount of memory.\n",
      "  \"shape. This may consume a large amount of memory.\" % value)\n",
      "/Users/ek/miniconda3/envs/cytoxnet/lib/python3.6/site-packages/tensorflow/python/framework/indexed_slices.py:437: UserWarning: Converting sparse IndexedSlices(IndexedSlices(indices=Tensor(\"gradient_tape/private__graph_conv_keras_model_6/graph_conv_19/Reshape_17:0\", shape=(72,), dtype=int32), values=Tensor(\"gradient_tape/private__graph_conv_keras_model_6/graph_conv_19/Reshape_16:0\", shape=(72, 128), dtype=float32), dense_shape=Tensor(\"gradient_tape/private__graph_conv_keras_model_6/graph_conv_19/Cast_3:0\", shape=(2,), dtype=int32))) to a dense Tensor of unknown shape. This may consume a large amount of memory.\n",
      "  \"shape. This may consume a large amount of memory.\" % value)\n",
      "/Users/ek/miniconda3/envs/cytoxnet/lib/python3.6/site-packages/tensorflow/python/framework/indexed_slices.py:437: UserWarning: Converting sparse IndexedSlices(IndexedSlices(indices=Tensor(\"gradient_tape/private__graph_conv_keras_model_6/graph_conv_19/Reshape_19:0\", shape=(0,), dtype=int32), values=Tensor(\"gradient_tape/private__graph_conv_keras_model_6/graph_conv_19/Reshape_18:0\", shape=(0, 128), dtype=float32), dense_shape=Tensor(\"gradient_tape/private__graph_conv_keras_model_6/graph_conv_19/Cast_4:0\", shape=(2,), dtype=int32))) to a dense Tensor of unknown shape. This may consume a large amount of memory.\n",
      "  \"shape. This may consume a large amount of memory.\" % value)\n",
      "/Users/ek/miniconda3/envs/cytoxnet/lib/python3.6/site-packages/tensorflow/python/framework/indexed_slices.py:437: UserWarning: Converting sparse IndexedSlices(IndexedSlices(indices=Tensor(\"gradient_tape/private__graph_conv_keras_model_6/graph_conv_19/Reshape_21:0\", shape=(0,), dtype=int32), values=Tensor(\"gradient_tape/private__graph_conv_keras_model_6/graph_conv_19/Reshape_20:0\", shape=(0, 128), dtype=float32), dense_shape=Tensor(\"gradient_tape/private__graph_conv_keras_model_6/graph_conv_19/Cast_5:0\", shape=(2,), dtype=int32))) to a dense Tensor of unknown shape. This may consume a large amount of memory.\n",
      "  \"shape. This may consume a large amount of memory.\" % value)\n",
      "/Users/ek/miniconda3/envs/cytoxnet/lib/python3.6/site-packages/tensorflow/python/framework/indexed_slices.py:437: UserWarning: Converting sparse IndexedSlices(IndexedSlices(indices=Tensor(\"gradient_tape/private__graph_conv_keras_model_6/graph_conv_19/Reshape_23:0\", shape=(0,), dtype=int32), values=Tensor(\"gradient_tape/private__graph_conv_keras_model_6/graph_conv_19/Reshape_22:0\", shape=(0, 128), dtype=float32), dense_shape=Tensor(\"gradient_tape/private__graph_conv_keras_model_6/graph_conv_19/Cast_6:0\", shape=(2,), dtype=int32))) to a dense Tensor of unknown shape. This may consume a large amount of memory.\n",
      "  \"shape. This may consume a large amount of memory.\" % value)\n",
      "/Users/ek/miniconda3/envs/cytoxnet/lib/python3.6/site-packages/tensorflow/python/framework/indexed_slices.py:437: UserWarning: Converting sparse IndexedSlices(IndexedSlices(indices=Tensor(\"gradient_tape/private__graph_conv_keras_model_6/graph_conv_19/Reshape_25:0\", shape=(0,), dtype=int32), values=Tensor(\"gradient_tape/private__graph_conv_keras_model_6/graph_conv_19/Reshape_24:0\", shape=(0, 128), dtype=float32), dense_shape=Tensor(\"gradient_tape/private__graph_conv_keras_model_6/graph_conv_19/Cast_7:0\", shape=(2,), dtype=int32))) to a dense Tensor of unknown shape. This may consume a large amount of memory.\n",
      "  \"shape. This may consume a large amount of memory.\" % value)\n",
      "/Users/ek/miniconda3/envs/cytoxnet/lib/python3.6/site-packages/tensorflow/python/framework/indexed_slices.py:437: UserWarning: Converting sparse IndexedSlices(IndexedSlices(indices=Tensor(\"gradient_tape/private__graph_conv_keras_model_6/graph_conv_19/Reshape_27:0\", shape=(0,), dtype=int32), values=Tensor(\"gradient_tape/private__graph_conv_keras_model_6/graph_conv_19/Reshape_26:0\", shape=(0, 128), dtype=float32), dense_shape=Tensor(\"gradient_tape/private__graph_conv_keras_model_6/graph_conv_19/Cast_8:0\", shape=(2,), dtype=int32))) to a dense Tensor of unknown shape. This may consume a large amount of memory.\n",
      "  \"shape. This may consume a large amount of memory.\" % value)\n",
      "/Users/ek/miniconda3/envs/cytoxnet/lib/python3.6/site-packages/tensorflow/python/framework/indexed_slices.py:437: UserWarning: Converting sparse IndexedSlices(IndexedSlices(indices=Tensor(\"gradient_tape/private__graph_conv_keras_model_6/graph_conv_19/Reshape_29:0\", shape=(0,), dtype=int32), values=Tensor(\"gradient_tape/private__graph_conv_keras_model_6/graph_conv_19/Reshape_28:0\", shape=(0, 128), dtype=float32), dense_shape=Tensor(\"gradient_tape/private__graph_conv_keras_model_6/graph_conv_19/Cast_9:0\", shape=(2,), dtype=int32))) to a dense Tensor of unknown shape. This may consume a large amount of memory.\n",
      "  \"shape. This may consume a large amount of memory.\" % value)\n",
      "/Users/ek/miniconda3/envs/cytoxnet/lib/python3.6/site-packages/tensorflow/python/framework/indexed_slices.py:437: UserWarning: Converting sparse IndexedSlices(IndexedSlices(indices=Tensor(\"gradient_tape/private__graph_conv_keras_model_6/graph_pool_18/Reshape_14:0\", shape=(179,), dtype=int32), values=Tensor(\"gradient_tape/private__graph_conv_keras_model_6/graph_pool_18/Reshape_13:0\", shape=(179, 128), dtype=float32), dense_shape=Tensor(\"gradient_tape/private__graph_conv_keras_model_6/graph_pool_18/Cast_4:0\", shape=(2,), dtype=int32))) to a dense Tensor of unknown shape. This may consume a large amount of memory.\n",
      "  \"shape. This may consume a large amount of memory.\" % value)\n",
      "/Users/ek/miniconda3/envs/cytoxnet/lib/python3.6/site-packages/tensorflow/python/framework/indexed_slices.py:437: UserWarning: Converting sparse IndexedSlices(IndexedSlices(indices=Tensor(\"gradient_tape/private__graph_conv_keras_model_6/graph_pool_18/Reshape_17:0\", shape=(688,), dtype=int32), values=Tensor(\"gradient_tape/private__graph_conv_keras_model_6/graph_pool_18/Reshape_16:0\", shape=(688, 128), dtype=float32), dense_shape=Tensor(\"gradient_tape/private__graph_conv_keras_model_6/graph_pool_18/Cast_5:0\", shape=(2,), dtype=int32))) to a dense Tensor of unknown shape. This may consume a large amount of memory.\n",
      "  \"shape. This may consume a large amount of memory.\" % value)\n",
      "/Users/ek/miniconda3/envs/cytoxnet/lib/python3.6/site-packages/tensorflow/python/framework/indexed_slices.py:437: UserWarning: Converting sparse IndexedSlices(IndexedSlices(indices=Tensor(\"gradient_tape/private__graph_conv_keras_model_6/graph_pool_18/Reshape_20:0\", shape=(447,), dtype=int32), values=Tensor(\"gradient_tape/private__graph_conv_keras_model_6/graph_pool_18/Reshape_19:0\", shape=(447, 128), dtype=float32), dense_shape=Tensor(\"gradient_tape/private__graph_conv_keras_model_6/graph_pool_18/Cast_6:0\", shape=(2,), dtype=int32))) to a dense Tensor of unknown shape. This may consume a large amount of memory.\n",
      "  \"shape. This may consume a large amount of memory.\" % value)\n",
      "/Users/ek/miniconda3/envs/cytoxnet/lib/python3.6/site-packages/tensorflow/python/framework/indexed_slices.py:437: UserWarning: Converting sparse IndexedSlices(IndexedSlices(indices=Tensor(\"gradient_tape/private__graph_conv_keras_model_6/graph_pool_18/Reshape_23:0\", shape=(72,), dtype=int32), values=Tensor(\"gradient_tape/private__graph_conv_keras_model_6/graph_pool_18/Reshape_22:0\", shape=(72, 128), dtype=float32), dense_shape=Tensor(\"gradient_tape/private__graph_conv_keras_model_6/graph_pool_18/Cast_7:0\", shape=(2,), dtype=int32))) to a dense Tensor of unknown shape. This may consume a large amount of memory.\n",
      "  \"shape. This may consume a large amount of memory.\" % value)\n",
      "/Users/ek/miniconda3/envs/cytoxnet/lib/python3.6/site-packages/tensorflow/python/framework/indexed_slices.py:437: UserWarning: Converting sparse IndexedSlices(IndexedSlices(indices=Tensor(\"gradient_tape/private__graph_conv_keras_model_6/graph_pool_20/Reshape_14:0\", shape=(161,), dtype=int32), values=Tensor(\"gradient_tape/private__graph_conv_keras_model_6/graph_pool_20/Reshape_13:0\", shape=(161, 128), dtype=float32), dense_shape=Tensor(\"gradient_tape/private__graph_conv_keras_model_6/graph_pool_20/Cast_4:0\", shape=(2,), dtype=int32))) to a dense Tensor of unknown shape. This may consume a large amount of memory.\n",
      "  \"shape. This may consume a large amount of memory.\" % value)\n",
      "/Users/ek/miniconda3/envs/cytoxnet/lib/python3.6/site-packages/tensorflow/python/framework/indexed_slices.py:437: UserWarning: Converting sparse IndexedSlices(IndexedSlices(indices=Tensor(\"gradient_tape/private__graph_conv_keras_model_6/graph_pool_20/Reshape_17:0\", shape=(614,), dtype=int32), values=Tensor(\"gradient_tape/private__graph_conv_keras_model_6/graph_pool_20/Reshape_16:0\", shape=(614, 128), dtype=float32), dense_shape=Tensor(\"gradient_tape/private__graph_conv_keras_model_6/graph_pool_20/Cast_5:0\", shape=(2,), dtype=int32))) to a dense Tensor of unknown shape. This may consume a large amount of memory.\n",
      "  \"shape. This may consume a large amount of memory.\" % value)\n",
      "/Users/ek/miniconda3/envs/cytoxnet/lib/python3.6/site-packages/tensorflow/python/framework/indexed_slices.py:437: UserWarning: Converting sparse IndexedSlices(IndexedSlices(indices=Tensor(\"gradient_tape/private__graph_conv_keras_model_6/graph_pool_20/Reshape_20:0\", shape=(405,), dtype=int32), values=Tensor(\"gradient_tape/private__graph_conv_keras_model_6/graph_pool_20/Reshape_19:0\", shape=(405, 128), dtype=float32), dense_shape=Tensor(\"gradient_tape/private__graph_conv_keras_model_6/graph_pool_20/Cast_6:0\", shape=(2,), dtype=int32))) to a dense Tensor of unknown shape. This may consume a large amount of memory.\n",
      "  \"shape. This may consume a large amount of memory.\" % value)\n",
      "/Users/ek/miniconda3/envs/cytoxnet/lib/python3.6/site-packages/tensorflow/python/framework/indexed_slices.py:437: UserWarning: Converting sparse IndexedSlices(IndexedSlices(indices=Tensor(\"gradient_tape/private__graph_conv_keras_model_6/graph_pool_20/Reshape_23:0\", shape=(32,), dtype=int32), values=Tensor(\"gradient_tape/private__graph_conv_keras_model_6/graph_pool_20/Reshape_22:0\", shape=(32, 128), dtype=float32), dense_shape=Tensor(\"gradient_tape/private__graph_conv_keras_model_6/graph_pool_20/Cast_7:0\", shape=(2,), dtype=int32))) to a dense Tensor of unknown shape. This may consume a large amount of memory.\n",
      "  \"shape. This may consume a large amount of memory.\" % value)\n",
      "/Users/ek/miniconda3/envs/cytoxnet/lib/python3.6/site-packages/tensorflow/python/framework/indexed_slices.py:437: UserWarning: Converting sparse IndexedSlices(IndexedSlices(indices=Tensor(\"gradient_tape/private__graph_conv_keras_model_6/graph_conv_20/Reshape_11:0\", shape=(161,), dtype=int32), values=Tensor(\"gradient_tape/private__graph_conv_keras_model_6/graph_conv_20/Reshape_10:0\", shape=(161, 128), dtype=float32), dense_shape=Tensor(\"gradient_tape/private__graph_conv_keras_model_6/graph_conv_20/Cast:0\", shape=(2,), dtype=int32))) to a dense Tensor of unknown shape. This may consume a large amount of memory.\n",
      "  \"shape. This may consume a large amount of memory.\" % value)\n",
      "/Users/ek/miniconda3/envs/cytoxnet/lib/python3.6/site-packages/tensorflow/python/framework/indexed_slices.py:437: UserWarning: Converting sparse IndexedSlices(IndexedSlices(indices=Tensor(\"gradient_tape/private__graph_conv_keras_model_6/graph_conv_20/Reshape_13:0\", shape=(614,), dtype=int32), values=Tensor(\"gradient_tape/private__graph_conv_keras_model_6/graph_conv_20/Reshape_12:0\", shape=(614, 128), dtype=float32), dense_shape=Tensor(\"gradient_tape/private__graph_conv_keras_model_6/graph_conv_20/Cast_1:0\", shape=(2,), dtype=int32))) to a dense Tensor of unknown shape. This may consume a large amount of memory.\n",
      "  \"shape. This may consume a large amount of memory.\" % value)\n",
      "/Users/ek/miniconda3/envs/cytoxnet/lib/python3.6/site-packages/tensorflow/python/framework/indexed_slices.py:437: UserWarning: Converting sparse IndexedSlices(IndexedSlices(indices=Tensor(\"gradient_tape/private__graph_conv_keras_model_6/graph_conv_20/Reshape_15:0\", shape=(405,), dtype=int32), values=Tensor(\"gradient_tape/private__graph_conv_keras_model_6/graph_conv_20/Reshape_14:0\", shape=(405, 128), dtype=float32), dense_shape=Tensor(\"gradient_tape/private__graph_conv_keras_model_6/graph_conv_20/Cast_2:0\", shape=(2,), dtype=int32))) to a dense Tensor of unknown shape. This may consume a large amount of memory.\n",
      "  \"shape. This may consume a large amount of memory.\" % value)\n",
      "/Users/ek/miniconda3/envs/cytoxnet/lib/python3.6/site-packages/tensorflow/python/framework/indexed_slices.py:437: UserWarning: Converting sparse IndexedSlices(IndexedSlices(indices=Tensor(\"gradient_tape/private__graph_conv_keras_model_6/graph_conv_20/Reshape_17:0\", shape=(32,), dtype=int32), values=Tensor(\"gradient_tape/private__graph_conv_keras_model_6/graph_conv_20/Reshape_16:0\", shape=(32, 128), dtype=float32), dense_shape=Tensor(\"gradient_tape/private__graph_conv_keras_model_6/graph_conv_20/Cast_3:0\", shape=(2,), dtype=int32))) to a dense Tensor of unknown shape. This may consume a large amount of memory.\n",
      "  \"shape. This may consume a large amount of memory.\" % value)\n",
      "/Users/ek/miniconda3/envs/cytoxnet/lib/python3.6/site-packages/tensorflow/python/framework/indexed_slices.py:437: UserWarning: Converting sparse IndexedSlices(IndexedSlices(indices=Tensor(\"gradient_tape/private__graph_conv_keras_model_6/graph_pool_19/Reshape_14:0\", shape=(161,), dtype=int32), values=Tensor(\"gradient_tape/private__graph_conv_keras_model_6/graph_pool_19/Reshape_13:0\", shape=(161, 128), dtype=float32), dense_shape=Tensor(\"gradient_tape/private__graph_conv_keras_model_6/graph_pool_19/Cast_4:0\", shape=(2,), dtype=int32))) to a dense Tensor of unknown shape. This may consume a large amount of memory.\n",
      "  \"shape. This may consume a large amount of memory.\" % value)\n",
      "/Users/ek/miniconda3/envs/cytoxnet/lib/python3.6/site-packages/tensorflow/python/framework/indexed_slices.py:437: UserWarning: Converting sparse IndexedSlices(IndexedSlices(indices=Tensor(\"gradient_tape/private__graph_conv_keras_model_6/graph_pool_19/Reshape_17:0\", shape=(614,), dtype=int32), values=Tensor(\"gradient_tape/private__graph_conv_keras_model_6/graph_pool_19/Reshape_16:0\", shape=(614, 128), dtype=float32), dense_shape=Tensor(\"gradient_tape/private__graph_conv_keras_model_6/graph_pool_19/Cast_5:0\", shape=(2,), dtype=int32))) to a dense Tensor of unknown shape. This may consume a large amount of memory.\n",
      "  \"shape. This may consume a large amount of memory.\" % value)\n",
      "/Users/ek/miniconda3/envs/cytoxnet/lib/python3.6/site-packages/tensorflow/python/framework/indexed_slices.py:437: UserWarning: Converting sparse IndexedSlices(IndexedSlices(indices=Tensor(\"gradient_tape/private__graph_conv_keras_model_6/graph_pool_19/Reshape_20:0\", shape=(405,), dtype=int32), values=Tensor(\"gradient_tape/private__graph_conv_keras_model_6/graph_pool_19/Reshape_19:0\", shape=(405, 128), dtype=float32), dense_shape=Tensor(\"gradient_tape/private__graph_conv_keras_model_6/graph_pool_19/Cast_6:0\", shape=(2,), dtype=int32))) to a dense Tensor of unknown shape. This may consume a large amount of memory.\n",
      "  \"shape. This may consume a large amount of memory.\" % value)\n",
      "/Users/ek/miniconda3/envs/cytoxnet/lib/python3.6/site-packages/tensorflow/python/framework/indexed_slices.py:437: UserWarning: Converting sparse IndexedSlices(IndexedSlices(indices=Tensor(\"gradient_tape/private__graph_conv_keras_model_6/graph_pool_19/Reshape_23:0\", shape=(32,), dtype=int32), values=Tensor(\"gradient_tape/private__graph_conv_keras_model_6/graph_pool_19/Reshape_22:0\", shape=(32, 128), dtype=float32), dense_shape=Tensor(\"gradient_tape/private__graph_conv_keras_model_6/graph_pool_19/Cast_7:0\", shape=(2,), dtype=int32))) to a dense Tensor of unknown shape. This may consume a large amount of memory.\n",
      "  \"shape. This may consume a large amount of memory.\" % value)\n",
      "/Users/ek/miniconda3/envs/cytoxnet/lib/python3.6/site-packages/tensorflow/python/framework/indexed_slices.py:437: UserWarning: Converting sparse IndexedSlices(IndexedSlices(indices=Tensor(\"gradient_tape/private__graph_conv_keras_model_6/graph_conv_19/Reshape_11:0\", shape=(161,), dtype=int32), values=Tensor(\"gradient_tape/private__graph_conv_keras_model_6/graph_conv_19/Reshape_10:0\", shape=(161, 128), dtype=float32), dense_shape=Tensor(\"gradient_tape/private__graph_conv_keras_model_6/graph_conv_19/Cast:0\", shape=(2,), dtype=int32))) to a dense Tensor of unknown shape. This may consume a large amount of memory.\n",
      "  \"shape. This may consume a large amount of memory.\" % value)\n",
      "/Users/ek/miniconda3/envs/cytoxnet/lib/python3.6/site-packages/tensorflow/python/framework/indexed_slices.py:437: UserWarning: Converting sparse IndexedSlices(IndexedSlices(indices=Tensor(\"gradient_tape/private__graph_conv_keras_model_6/graph_conv_19/Reshape_13:0\", shape=(614,), dtype=int32), values=Tensor(\"gradient_tape/private__graph_conv_keras_model_6/graph_conv_19/Reshape_12:0\", shape=(614, 128), dtype=float32), dense_shape=Tensor(\"gradient_tape/private__graph_conv_keras_model_6/graph_conv_19/Cast_1:0\", shape=(2,), dtype=int32))) to a dense Tensor of unknown shape. This may consume a large amount of memory.\n",
      "  \"shape. This may consume a large amount of memory.\" % value)\n",
      "/Users/ek/miniconda3/envs/cytoxnet/lib/python3.6/site-packages/tensorflow/python/framework/indexed_slices.py:437: UserWarning: Converting sparse IndexedSlices(IndexedSlices(indices=Tensor(\"gradient_tape/private__graph_conv_keras_model_6/graph_conv_19/Reshape_15:0\", shape=(405,), dtype=int32), values=Tensor(\"gradient_tape/private__graph_conv_keras_model_6/graph_conv_19/Reshape_14:0\", shape=(405, 128), dtype=float32), dense_shape=Tensor(\"gradient_tape/private__graph_conv_keras_model_6/graph_conv_19/Cast_2:0\", shape=(2,), dtype=int32))) to a dense Tensor of unknown shape. This may consume a large amount of memory.\n",
      "  \"shape. This may consume a large amount of memory.\" % value)\n",
      "/Users/ek/miniconda3/envs/cytoxnet/lib/python3.6/site-packages/tensorflow/python/framework/indexed_slices.py:437: UserWarning: Converting sparse IndexedSlices(IndexedSlices(indices=Tensor(\"gradient_tape/private__graph_conv_keras_model_6/graph_conv_19/Reshape_17:0\", shape=(32,), dtype=int32), values=Tensor(\"gradient_tape/private__graph_conv_keras_model_6/graph_conv_19/Reshape_16:0\", shape=(32, 128), dtype=float32), dense_shape=Tensor(\"gradient_tape/private__graph_conv_keras_model_6/graph_conv_19/Cast_3:0\", shape=(2,), dtype=int32))) to a dense Tensor of unknown shape. This may consume a large amount of memory.\n",
      "  \"shape. This may consume a large amount of memory.\" % value)\n",
      "/Users/ek/miniconda3/envs/cytoxnet/lib/python3.6/site-packages/tensorflow/python/framework/indexed_slices.py:437: UserWarning: Converting sparse IndexedSlices(IndexedSlices(indices=Tensor(\"gradient_tape/private__graph_conv_keras_model_6/graph_pool_18/Reshape_14:0\", shape=(161,), dtype=int32), values=Tensor(\"gradient_tape/private__graph_conv_keras_model_6/graph_pool_18/Reshape_13:0\", shape=(161, 128), dtype=float32), dense_shape=Tensor(\"gradient_tape/private__graph_conv_keras_model_6/graph_pool_18/Cast_4:0\", shape=(2,), dtype=int32))) to a dense Tensor of unknown shape. This may consume a large amount of memory.\n",
      "  \"shape. This may consume a large amount of memory.\" % value)\n",
      "/Users/ek/miniconda3/envs/cytoxnet/lib/python3.6/site-packages/tensorflow/python/framework/indexed_slices.py:437: UserWarning: Converting sparse IndexedSlices(IndexedSlices(indices=Tensor(\"gradient_tape/private__graph_conv_keras_model_6/graph_pool_18/Reshape_17:0\", shape=(614,), dtype=int32), values=Tensor(\"gradient_tape/private__graph_conv_keras_model_6/graph_pool_18/Reshape_16:0\", shape=(614, 128), dtype=float32), dense_shape=Tensor(\"gradient_tape/private__graph_conv_keras_model_6/graph_pool_18/Cast_5:0\", shape=(2,), dtype=int32))) to a dense Tensor of unknown shape. This may consume a large amount of memory.\n",
      "  \"shape. This may consume a large amount of memory.\" % value)\n",
      "/Users/ek/miniconda3/envs/cytoxnet/lib/python3.6/site-packages/tensorflow/python/framework/indexed_slices.py:437: UserWarning: Converting sparse IndexedSlices(IndexedSlices(indices=Tensor(\"gradient_tape/private__graph_conv_keras_model_6/graph_pool_18/Reshape_20:0\", shape=(405,), dtype=int32), values=Tensor(\"gradient_tape/private__graph_conv_keras_model_6/graph_pool_18/Reshape_19:0\", shape=(405, 128), dtype=float32), dense_shape=Tensor(\"gradient_tape/private__graph_conv_keras_model_6/graph_pool_18/Cast_6:0\", shape=(2,), dtype=int32))) to a dense Tensor of unknown shape. This may consume a large amount of memory.\n",
      "  \"shape. This may consume a large amount of memory.\" % value)\n",
      "/Users/ek/miniconda3/envs/cytoxnet/lib/python3.6/site-packages/tensorflow/python/framework/indexed_slices.py:437: UserWarning: Converting sparse IndexedSlices(IndexedSlices(indices=Tensor(\"gradient_tape/private__graph_conv_keras_model_6/graph_pool_18/Reshape_23:0\", shape=(32,), dtype=int32), values=Tensor(\"gradient_tape/private__graph_conv_keras_model_6/graph_pool_18/Reshape_22:0\", shape=(32, 128), dtype=float32), dense_shape=Tensor(\"gradient_tape/private__graph_conv_keras_model_6/graph_pool_18/Cast_7:0\", shape=(2,), dtype=int32))) to a dense Tensor of unknown shape. This may consume a large amount of memory.\n",
      "  \"shape. This may consume a large amount of memory.\" % value)\n",
      "/Users/ek/miniconda3/envs/cytoxnet/lib/python3.6/site-packages/tensorflow/python/framework/indexed_slices.py:437: UserWarning: Converting sparse IndexedSlices(IndexedSlices(indices=Tensor(\"gradient_tape/private__graph_conv_keras_model_6/graph_pool_20/Reshape_14:0\", shape=(None,), dtype=int32), values=Tensor(\"gradient_tape/private__graph_conv_keras_model_6/graph_pool_20/Reshape_13:0\", shape=(None, 128), dtype=float32), dense_shape=Tensor(\"gradient_tape/private__graph_conv_keras_model_6/graph_pool_20/Cast_4:0\", shape=(2,), dtype=int32))) to a dense Tensor of unknown shape. This may consume a large amount of memory.\n",
      "  \"shape. This may consume a large amount of memory.\" % value)\n",
      "/Users/ek/miniconda3/envs/cytoxnet/lib/python3.6/site-packages/tensorflow/python/framework/indexed_slices.py:437: UserWarning: Converting sparse IndexedSlices(IndexedSlices(indices=Tensor(\"gradient_tape/private__graph_conv_keras_model_6/graph_pool_20/Reshape_17:0\", shape=(None,), dtype=int32), values=Tensor(\"gradient_tape/private__graph_conv_keras_model_6/graph_pool_20/Reshape_16:0\", shape=(None, 128), dtype=float32), dense_shape=Tensor(\"gradient_tape/private__graph_conv_keras_model_6/graph_pool_20/Cast_5:0\", shape=(2,), dtype=int32))) to a dense Tensor of unknown shape. This may consume a large amount of memory.\n",
      "  \"shape. This may consume a large amount of memory.\" % value)\n",
      "/Users/ek/miniconda3/envs/cytoxnet/lib/python3.6/site-packages/tensorflow/python/framework/indexed_slices.py:437: UserWarning: Converting sparse IndexedSlices(IndexedSlices(indices=Tensor(\"gradient_tape/private__graph_conv_keras_model_6/graph_pool_20/Reshape_20:0\", shape=(None,), dtype=int32), values=Tensor(\"gradient_tape/private__graph_conv_keras_model_6/graph_pool_20/Reshape_19:0\", shape=(None, 128), dtype=float32), dense_shape=Tensor(\"gradient_tape/private__graph_conv_keras_model_6/graph_pool_20/Cast_6:0\", shape=(2,), dtype=int32))) to a dense Tensor of unknown shape. This may consume a large amount of memory.\n",
      "  \"shape. This may consume a large amount of memory.\" % value)\n",
      "/Users/ek/miniconda3/envs/cytoxnet/lib/python3.6/site-packages/tensorflow/python/framework/indexed_slices.py:437: UserWarning: Converting sparse IndexedSlices(IndexedSlices(indices=Tensor(\"gradient_tape/private__graph_conv_keras_model_6/graph_pool_20/Reshape_23:0\", shape=(None,), dtype=int32), values=Tensor(\"gradient_tape/private__graph_conv_keras_model_6/graph_pool_20/Reshape_22:0\", shape=(None, 128), dtype=float32), dense_shape=Tensor(\"gradient_tape/private__graph_conv_keras_model_6/graph_pool_20/Cast_7:0\", shape=(2,), dtype=int32))) to a dense Tensor of unknown shape. This may consume a large amount of memory.\n",
      "  \"shape. This may consume a large amount of memory.\" % value)\n",
      "/Users/ek/miniconda3/envs/cytoxnet/lib/python3.6/site-packages/tensorflow/python/framework/indexed_slices.py:437: UserWarning: Converting sparse IndexedSlices(IndexedSlices(indices=Tensor(\"gradient_tape/private__graph_conv_keras_model_6/graph_conv_20/Reshape_11:0\", shape=(None,), dtype=int32), values=Tensor(\"gradient_tape/private__graph_conv_keras_model_6/graph_conv_20/Reshape_10:0\", shape=(None, 128), dtype=float32), dense_shape=Tensor(\"gradient_tape/private__graph_conv_keras_model_6/graph_conv_20/Cast:0\", shape=(2,), dtype=int32))) to a dense Tensor of unknown shape. This may consume a large amount of memory.\n",
      "  \"shape. This may consume a large amount of memory.\" % value)\n",
      "/Users/ek/miniconda3/envs/cytoxnet/lib/python3.6/site-packages/tensorflow/python/framework/indexed_slices.py:437: UserWarning: Converting sparse IndexedSlices(IndexedSlices(indices=Tensor(\"gradient_tape/private__graph_conv_keras_model_6/graph_conv_20/Reshape_13:0\", shape=(None,), dtype=int32), values=Tensor(\"gradient_tape/private__graph_conv_keras_model_6/graph_conv_20/Reshape_12:0\", shape=(None, 128), dtype=float32), dense_shape=Tensor(\"gradient_tape/private__graph_conv_keras_model_6/graph_conv_20/Cast_1:0\", shape=(2,), dtype=int32))) to a dense Tensor of unknown shape. This may consume a large amount of memory.\n",
      "  \"shape. This may consume a large amount of memory.\" % value)\n",
      "/Users/ek/miniconda3/envs/cytoxnet/lib/python3.6/site-packages/tensorflow/python/framework/indexed_slices.py:437: UserWarning: Converting sparse IndexedSlices(IndexedSlices(indices=Tensor(\"gradient_tape/private__graph_conv_keras_model_6/graph_conv_20/Reshape_15:0\", shape=(None,), dtype=int32), values=Tensor(\"gradient_tape/private__graph_conv_keras_model_6/graph_conv_20/Reshape_14:0\", shape=(None, 128), dtype=float32), dense_shape=Tensor(\"gradient_tape/private__graph_conv_keras_model_6/graph_conv_20/Cast_2:0\", shape=(2,), dtype=int32))) to a dense Tensor of unknown shape. This may consume a large amount of memory.\n",
      "  \"shape. This may consume a large amount of memory.\" % value)\n",
      "/Users/ek/miniconda3/envs/cytoxnet/lib/python3.6/site-packages/tensorflow/python/framework/indexed_slices.py:437: UserWarning: Converting sparse IndexedSlices(IndexedSlices(indices=Tensor(\"gradient_tape/private__graph_conv_keras_model_6/graph_conv_20/Reshape_17:0\", shape=(None,), dtype=int32), values=Tensor(\"gradient_tape/private__graph_conv_keras_model_6/graph_conv_20/Reshape_16:0\", shape=(None, 128), dtype=float32), dense_shape=Tensor(\"gradient_tape/private__graph_conv_keras_model_6/graph_conv_20/Cast_3:0\", shape=(2,), dtype=int32))) to a dense Tensor of unknown shape. This may consume a large amount of memory.\n",
      "  \"shape. This may consume a large amount of memory.\" % value)\n",
      "/Users/ek/miniconda3/envs/cytoxnet/lib/python3.6/site-packages/tensorflow/python/framework/indexed_slices.py:437: UserWarning: Converting sparse IndexedSlices(IndexedSlices(indices=Tensor(\"gradient_tape/private__graph_conv_keras_model_6/graph_pool_19/Reshape_14:0\", shape=(None,), dtype=int32), values=Tensor(\"gradient_tape/private__graph_conv_keras_model_6/graph_pool_19/Reshape_13:0\", shape=(None, 128), dtype=float32), dense_shape=Tensor(\"gradient_tape/private__graph_conv_keras_model_6/graph_pool_19/Cast_4:0\", shape=(2,), dtype=int32))) to a dense Tensor of unknown shape. This may consume a large amount of memory.\n",
      "  \"shape. This may consume a large amount of memory.\" % value)\n",
      "/Users/ek/miniconda3/envs/cytoxnet/lib/python3.6/site-packages/tensorflow/python/framework/indexed_slices.py:437: UserWarning: Converting sparse IndexedSlices(IndexedSlices(indices=Tensor(\"gradient_tape/private__graph_conv_keras_model_6/graph_pool_19/Reshape_17:0\", shape=(None,), dtype=int32), values=Tensor(\"gradient_tape/private__graph_conv_keras_model_6/graph_pool_19/Reshape_16:0\", shape=(None, 128), dtype=float32), dense_shape=Tensor(\"gradient_tape/private__graph_conv_keras_model_6/graph_pool_19/Cast_5:0\", shape=(2,), dtype=int32))) to a dense Tensor of unknown shape. This may consume a large amount of memory.\n",
      "  \"shape. This may consume a large amount of memory.\" % value)\n",
      "/Users/ek/miniconda3/envs/cytoxnet/lib/python3.6/site-packages/tensorflow/python/framework/indexed_slices.py:437: UserWarning: Converting sparse IndexedSlices(IndexedSlices(indices=Tensor(\"gradient_tape/private__graph_conv_keras_model_6/graph_pool_19/Reshape_20:0\", shape=(None,), dtype=int32), values=Tensor(\"gradient_tape/private__graph_conv_keras_model_6/graph_pool_19/Reshape_19:0\", shape=(None, 128), dtype=float32), dense_shape=Tensor(\"gradient_tape/private__graph_conv_keras_model_6/graph_pool_19/Cast_6:0\", shape=(2,), dtype=int32))) to a dense Tensor of unknown shape. This may consume a large amount of memory.\n",
      "  \"shape. This may consume a large amount of memory.\" % value)\n",
      "/Users/ek/miniconda3/envs/cytoxnet/lib/python3.6/site-packages/tensorflow/python/framework/indexed_slices.py:437: UserWarning: Converting sparse IndexedSlices(IndexedSlices(indices=Tensor(\"gradient_tape/private__graph_conv_keras_model_6/graph_pool_19/Reshape_23:0\", shape=(None,), dtype=int32), values=Tensor(\"gradient_tape/private__graph_conv_keras_model_6/graph_pool_19/Reshape_22:0\", shape=(None, 128), dtype=float32), dense_shape=Tensor(\"gradient_tape/private__graph_conv_keras_model_6/graph_pool_19/Cast_7:0\", shape=(2,), dtype=int32))) to a dense Tensor of unknown shape. This may consume a large amount of memory.\n",
      "  \"shape. This may consume a large amount of memory.\" % value)\n",
      "/Users/ek/miniconda3/envs/cytoxnet/lib/python3.6/site-packages/tensorflow/python/framework/indexed_slices.py:437: UserWarning: Converting sparse IndexedSlices(IndexedSlices(indices=Tensor(\"gradient_tape/private__graph_conv_keras_model_6/graph_conv_19/Reshape_11:0\", shape=(None,), dtype=int32), values=Tensor(\"gradient_tape/private__graph_conv_keras_model_6/graph_conv_19/Reshape_10:0\", shape=(None, 128), dtype=float32), dense_shape=Tensor(\"gradient_tape/private__graph_conv_keras_model_6/graph_conv_19/Cast:0\", shape=(2,), dtype=int32))) to a dense Tensor of unknown shape. This may consume a large amount of memory.\n",
      "  \"shape. This may consume a large amount of memory.\" % value)\n",
      "/Users/ek/miniconda3/envs/cytoxnet/lib/python3.6/site-packages/tensorflow/python/framework/indexed_slices.py:437: UserWarning: Converting sparse IndexedSlices(IndexedSlices(indices=Tensor(\"gradient_tape/private__graph_conv_keras_model_6/graph_conv_19/Reshape_13:0\", shape=(None,), dtype=int32), values=Tensor(\"gradient_tape/private__graph_conv_keras_model_6/graph_conv_19/Reshape_12:0\", shape=(None, 128), dtype=float32), dense_shape=Tensor(\"gradient_tape/private__graph_conv_keras_model_6/graph_conv_19/Cast_1:0\", shape=(2,), dtype=int32))) to a dense Tensor of unknown shape. This may consume a large amount of memory.\n",
      "  \"shape. This may consume a large amount of memory.\" % value)\n",
      "/Users/ek/miniconda3/envs/cytoxnet/lib/python3.6/site-packages/tensorflow/python/framework/indexed_slices.py:437: UserWarning: Converting sparse IndexedSlices(IndexedSlices(indices=Tensor(\"gradient_tape/private__graph_conv_keras_model_6/graph_conv_19/Reshape_15:0\", shape=(None,), dtype=int32), values=Tensor(\"gradient_tape/private__graph_conv_keras_model_6/graph_conv_19/Reshape_14:0\", shape=(None, 128), dtype=float32), dense_shape=Tensor(\"gradient_tape/private__graph_conv_keras_model_6/graph_conv_19/Cast_2:0\", shape=(2,), dtype=int32))) to a dense Tensor of unknown shape. This may consume a large amount of memory.\n",
      "  \"shape. This may consume a large amount of memory.\" % value)\n",
      "/Users/ek/miniconda3/envs/cytoxnet/lib/python3.6/site-packages/tensorflow/python/framework/indexed_slices.py:437: UserWarning: Converting sparse IndexedSlices(IndexedSlices(indices=Tensor(\"gradient_tape/private__graph_conv_keras_model_6/graph_conv_19/Reshape_17:0\", shape=(None,), dtype=int32), values=Tensor(\"gradient_tape/private__graph_conv_keras_model_6/graph_conv_19/Reshape_16:0\", shape=(None, 128), dtype=float32), dense_shape=Tensor(\"gradient_tape/private__graph_conv_keras_model_6/graph_conv_19/Cast_3:0\", shape=(2,), dtype=int32))) to a dense Tensor of unknown shape. This may consume a large amount of memory.\n",
      "  \"shape. This may consume a large amount of memory.\" % value)\n",
      "/Users/ek/miniconda3/envs/cytoxnet/lib/python3.6/site-packages/tensorflow/python/framework/indexed_slices.py:437: UserWarning: Converting sparse IndexedSlices(IndexedSlices(indices=Tensor(\"gradient_tape/private__graph_conv_keras_model_6/graph_pool_18/Reshape_14:0\", shape=(None,), dtype=int32), values=Tensor(\"gradient_tape/private__graph_conv_keras_model_6/graph_pool_18/Reshape_13:0\", shape=(None, 128), dtype=float32), dense_shape=Tensor(\"gradient_tape/private__graph_conv_keras_model_6/graph_pool_18/Cast_4:0\", shape=(2,), dtype=int32))) to a dense Tensor of unknown shape. This may consume a large amount of memory.\n",
      "  \"shape. This may consume a large amount of memory.\" % value)\n",
      "/Users/ek/miniconda3/envs/cytoxnet/lib/python3.6/site-packages/tensorflow/python/framework/indexed_slices.py:437: UserWarning: Converting sparse IndexedSlices(IndexedSlices(indices=Tensor(\"gradient_tape/private__graph_conv_keras_model_6/graph_pool_18/Reshape_17:0\", shape=(None,), dtype=int32), values=Tensor(\"gradient_tape/private__graph_conv_keras_model_6/graph_pool_18/Reshape_16:0\", shape=(None, 128), dtype=float32), dense_shape=Tensor(\"gradient_tape/private__graph_conv_keras_model_6/graph_pool_18/Cast_5:0\", shape=(2,), dtype=int32))) to a dense Tensor of unknown shape. This may consume a large amount of memory.\n",
      "  \"shape. This may consume a large amount of memory.\" % value)\n",
      "/Users/ek/miniconda3/envs/cytoxnet/lib/python3.6/site-packages/tensorflow/python/framework/indexed_slices.py:437: UserWarning: Converting sparse IndexedSlices(IndexedSlices(indices=Tensor(\"gradient_tape/private__graph_conv_keras_model_6/graph_pool_18/Reshape_20:0\", shape=(None,), dtype=int32), values=Tensor(\"gradient_tape/private__graph_conv_keras_model_6/graph_pool_18/Reshape_19:0\", shape=(None, 128), dtype=float32), dense_shape=Tensor(\"gradient_tape/private__graph_conv_keras_model_6/graph_pool_18/Cast_6:0\", shape=(2,), dtype=int32))) to a dense Tensor of unknown shape. This may consume a large amount of memory.\n",
      "  \"shape. This may consume a large amount of memory.\" % value)\n",
      "/Users/ek/miniconda3/envs/cytoxnet/lib/python3.6/site-packages/tensorflow/python/framework/indexed_slices.py:437: UserWarning: Converting sparse IndexedSlices(IndexedSlices(indices=Tensor(\"gradient_tape/private__graph_conv_keras_model_6/graph_pool_18/Reshape_23:0\", shape=(None,), dtype=int32), values=Tensor(\"gradient_tape/private__graph_conv_keras_model_6/graph_pool_18/Reshape_22:0\", shape=(None, 128), dtype=float32), dense_shape=Tensor(\"gradient_tape/private__graph_conv_keras_model_6/graph_pool_18/Cast_7:0\", shape=(2,), dtype=int32))) to a dense Tensor of unknown shape. This may consume a large amount of memory.\n",
      "  \"shape. This may consume a large amount of memory.\" % value)\n"
     ]
    },
    {
     "data": {
      "text/plain": [
       "0.06913197994232177"
      ]
     },
     "execution_count": 31,
     "metadata": {},
     "output_type": "execute_result"
    }
   ],
   "source": [
    "baseline.fit(algea_dev, nb_epoch=100)"
   ]
  },
  {
   "cell_type": "code",
   "execution_count": 32,
   "id": "91d8469c-c1fb-4839-bd0e-f26187d844c9",
   "metadata": {
    "tags": []
   },
   "outputs": [
    {
     "name": "stdout",
     "output_type": "stream",
     "text": [
      "WARNING:tensorflow:5 out of the last 40 calls to <function KerasModel._compute_model at 0x1cd761840> triggered tf.function retracing. Tracing is expensive and the excessive number of tracings could be due to (1) creating @tf.function repeatedly in a loop, (2) passing tensors with different shapes, (3) passing Python objects instead of tensors. For (1), please define your @tf.function outside of the loop. For (2), @tf.function has experimental_relax_shapes=True option that relaxes argument shapes that can avoid unnecessary retracing. For (3), please refer to https://www.tensorflow.org/guide/function#controlling_retracing and https://www.tensorflow.org/api_docs/python/tf/function for  more details.\n",
      "WARNING:tensorflow:6 out of the last 41 calls to <function KerasModel._compute_model at 0x1cd761840> triggered tf.function retracing. Tracing is expensive and the excessive number of tracings could be due to (1) creating @tf.function repeatedly in a loop, (2) passing tensors with different shapes, (3) passing Python objects instead of tensors. For (1), please define your @tf.function outside of the loop. For (2), @tf.function has experimental_relax_shapes=True option that relaxes argument shapes that can avoid unnecessary retracing. For (3), please refer to https://www.tensorflow.org/guide/function#controlling_retracing and https://www.tensorflow.org/api_docs/python/tf/function for  more details.\n",
      "WARNING:tensorflow:7 out of the last 42 calls to <function KerasModel._compute_model at 0x1cd761840> triggered tf.function retracing. Tracing is expensive and the excessive number of tracings could be due to (1) creating @tf.function repeatedly in a loop, (2) passing tensors with different shapes, (3) passing Python objects instead of tensors. For (1), please define your @tf.function outside of the loop. For (2), @tf.function has experimental_relax_shapes=True option that relaxes argument shapes that can avoid unnecessary retracing. For (3), please refer to https://www.tensorflow.org/guide/function#controlling_retracing and https://www.tensorflow.org/api_docs/python/tf/function for  more details.\n"
     ]
    },
    {
     "data": {
      "text/plain": [
       "{'metric-1': 0.37941328545557207, 'metric-2': 2.797050558108971}"
      ]
     },
     "execution_count": 32,
     "metadata": {},
     "output_type": "execute_result"
    }
   ],
   "source": [
    "baseline.evaluate(algea_test, ['r2_score', 'mean_squared_error'], untransform=True)"
   ]
  },
  {
   "cell_type": "code",
   "execution_count": 44,
   "id": "2b8aec2b-6869-4c5a-afd2-840345e3644c",
   "metadata": {},
   "outputs": [
    {
     "name": "stdout",
     "output_type": "stream",
     "text": [
      "(288, 1)\n"
     ]
    },
    {
     "data": {
      "text/html": [
       "\n",
       "<div id=\"altair-viz-5d0a5eb795ca46658b924ee360834e83\"></div>\n",
       "<script type=\"text/javascript\">\n",
       "  (function(spec, embedOpt){\n",
       "    let outputDiv = document.currentScript.previousElementSibling;\n",
       "    if (outputDiv.id !== \"altair-viz-5d0a5eb795ca46658b924ee360834e83\") {\n",
       "      outputDiv = document.getElementById(\"altair-viz-5d0a5eb795ca46658b924ee360834e83\");\n",
       "    }\n",
       "    const paths = {\n",
       "      \"vega\": \"https://cdn.jsdelivr.net/npm//vega@5?noext\",\n",
       "      \"vega-lib\": \"https://cdn.jsdelivr.net/npm//vega-lib?noext\",\n",
       "      \"vega-lite\": \"https://cdn.jsdelivr.net/npm//vega-lite@4.8.1?noext\",\n",
       "      \"vega-embed\": \"https://cdn.jsdelivr.net/npm//vega-embed@6?noext\",\n",
       "    };\n",
       "\n",
       "    function loadScript(lib) {\n",
       "      return new Promise(function(resolve, reject) {\n",
       "        var s = document.createElement('script');\n",
       "        s.src = paths[lib];\n",
       "        s.async = true;\n",
       "        s.onload = () => resolve(paths[lib]);\n",
       "        s.onerror = () => reject(`Error loading script: ${paths[lib]}`);\n",
       "        document.getElementsByTagName(\"head\")[0].appendChild(s);\n",
       "      });\n",
       "    }\n",
       "\n",
       "    function showError(err) {\n",
       "      outputDiv.innerHTML = `<div class=\"error\" style=\"color:red;\">${err}</div>`;\n",
       "      throw err;\n",
       "    }\n",
       "\n",
       "    function displayChart(vegaEmbed) {\n",
       "      vegaEmbed(outputDiv, spec, embedOpt)\n",
       "        .catch(err => showError(`Javascript Error: ${err.message}<br>This usually means there's a typo in your chart specification. See the javascript console for the full traceback.`));\n",
       "    }\n",
       "\n",
       "    if(typeof define === \"function\" && define.amd) {\n",
       "      requirejs.config({paths});\n",
       "      require([\"vega-embed\"], displayChart, err => showError(`Error loading script: ${err.message}`));\n",
       "    } else if (typeof vegaEmbed === \"function\") {\n",
       "      displayChart(vegaEmbed);\n",
       "    } else {\n",
       "      loadScript(\"vega\")\n",
       "        .then(() => loadScript(\"vega-lite\"))\n",
       "        .then(() => loadScript(\"vega-embed\"))\n",
       "        .catch(showError)\n",
       "        .then(() => displayChart(vegaEmbed));\n",
       "    }\n",
       "  })({\"config\": {\"view\": {\"continuousWidth\": 400, \"continuousHeight\": 300}}, \"layer\": [{\"mark\": \"point\", \"encoding\": {\"x\": {\"type\": \"quantitative\", \"field\": \"target: true\", \"scale\": {\"zero\": false}}, \"y\": {\"type\": \"quantitative\", \"field\": \"target: predicted\", \"scale\": {\"zero\": false}}}}, {\"mark\": \"line\", \"encoding\": {\"x\": {\"type\": \"quantitative\", \"field\": \"target: true\", \"scale\": {\"zero\": false}}, \"y\": {\"type\": \"quantitative\", \"field\": \"target: predicted\", \"scale\": {\"zero\": false}}}, \"transform\": [{\"on\": \"target: true\", \"regression\": \"target: predicted\"}]}, {\"data\": {\"name\": \"data-b50e8c9187d2230f7576e04a0dce8ed1\"}, \"mark\": {\"type\": \"line\", \"color\": \"black\"}, \"encoding\": {\"x\": {\"type\": \"quantitative\", \"field\": \"target: true\"}, \"y\": {\"type\": \"quantitative\", \"field\": \"target: predicted\"}}}], \"data\": {\"name\": \"data-c71023dd0babebc2ae19cc5d172b3402\"}, \"$schema\": \"https://vega.github.io/schema/vega-lite/v4.8.1.json\", \"datasets\": {\"data-c71023dd0babebc2ae19cc5d172b3402\": [{\"target: true\": 6.434546518787452, \"target: predicted\": 6.312726372606746}, {\"target: true\": 0.4700036292457357, \"target: predicted\": 2.5902690120099043}, {\"target: true\": 3.949318790171843, \"target: predicted\": 2.1831736497130927}, {\"target: true\": 1.9466241797889705, \"target: predicted\": 1.8892559230412393}, {\"target: true\": 2.0149030205422647, \"target: predicted\": 2.581465204101387}, {\"target: true\": 3.4011973816621555, \"target: predicted\": 3.5389362754405944}, {\"target: true\": 4.382026634673881, \"target: predicted\": 1.703407894975202}, {\"target: true\": 2.2192034840549946, \"target: predicted\": 4.0436319006011265}, {\"target: true\": 1.6928595205731731, \"target: predicted\": 2.2751964298056153}, {\"target: true\": 2.3513752571634776, \"target: predicted\": 2.696117605259069}, {\"target: true\": 1.1275236321625297, \"target: predicted\": 1.65131126895701}, {\"target: true\": 2.2728472747300894, \"target: predicted\": 3.423164347052768}, {\"target: true\": 1.631199404215613, \"target: predicted\": 1.8897237193679894}, {\"target: true\": 2.6390573296152584, \"target: predicted\": 2.500052863430601}, {\"target: true\": 1.2669476034873246, \"target: predicted\": 2.237572309502579}, {\"target: true\": 2.174751721484161, \"target: predicted\": 5.353429146167907}, {\"target: true\": 2.4849066497880004, \"target: predicted\": 0.7071758218037814}, {\"target: true\": 1.308332819650179, \"target: predicted\": -0.3505432326108511}, {\"target: true\": 2.631888840136646, \"target: predicted\": 3.039596095991458}, {\"target: true\": -0.7113111511876165, \"target: predicted\": 1.6538032903165054}, {\"target: true\": 0.6936470556015963, \"target: predicted\": 1.3978087656979548}, {\"target: true\": 2.312535423847214, \"target: predicted\": 2.471927807641082}, {\"target: true\": 2.4849066497880004, \"target: predicted\": 2.7328241869777603}, {\"target: true\": 2.5877640352277083, \"target: predicted\": 3.0872832955265768}, {\"target: true\": 0.18232155679395445, \"target: predicted\": 1.1732532332255534}, {\"target: true\": 4.032469158504013, \"target: predicted\": 1.7160360865560529}, {\"target: true\": 3.7841896339182615, \"target: predicted\": 5.781025918656961}, {\"target: true\": 1.5260563034950492, \"target: predicted\": 2.571349432179096}, {\"target: true\": 1.8946168546677629, \"target: predicted\": 3.562498655090259}, {\"target: true\": 0.6931471805599454, \"target: predicted\": 2.8553843054138626}, {\"target: true\": 3.4339872044851463, \"target: predicted\": 3.898263754707187}, {\"target: true\": 2.4849066497880004, \"target: predicted\": 2.057711199706291}, {\"target: true\": 4.430816798843313, \"target: predicted\": 5.133243398201151}, {\"target: true\": 2.429217743927412, \"target: predicted\": -0.007661190942195528}, {\"target: true\": 1.6486586255873816, \"target: predicted\": 3.006680204013712}, {\"target: true\": 1.2178757094949273, \"target: predicted\": -0.9291414404322946}, {\"target: true\": 7.733254406894402, \"target: predicted\": 6.07543264469027}, {\"target: true\": 4.110873864173311, \"target: predicted\": 2.450322877460243}, {\"target: true\": 2.5649493574615367, \"target: predicted\": 3.6274576157722196}, {\"target: true\": 3.828641396489095, \"target: predicted\": 2.9648384292296153}, {\"target: true\": 2.7278528283983903, \"target: predicted\": 1.8572135191186405}, {\"target: true\": 4.276666119016055, \"target: predicted\": 3.6034867103251624}, {\"target: true\": 2.3702437414678603, \"target: predicted\": 2.6791101822759216}, {\"target: true\": 0.0, \"target: predicted\": 3.113971618289518}, {\"target: true\": 0.9932517730102837, \"target: predicted\": 2.5122642719266164}, {\"target: true\": 3.0445224377234235, \"target: predicted\": 1.9924850318031337}, {\"target: true\": 1.5129270120532563, \"target: predicted\": 1.971587796641219}, {\"target: true\": 5.298317366548035, \"target: predicted\": 4.1388308673017065}, {\"target: true\": 4.008023855755574, \"target: predicted\": 1.4390118602914381}, {\"target: true\": 8.766914796271609, \"target: predicted\": 6.219393552868286}, {\"target: true\": 3.9376907521767235, \"target: predicted\": -0.14274929387763713}, {\"target: true\": 0.8329091229351038, \"target: predicted\": 1.1782890589335935}, {\"target: true\": 5.143416405330075, \"target: predicted\": 4.255764973908629}, {\"target: true\": 4.30406509320417, \"target: predicted\": 3.377773968001532}, {\"target: true\": 3.8856790300885438, \"target: predicted\": 3.0021035674599177}, {\"target: true\": 4.68213122712422, \"target: predicted\": 3.5589723035130083}, {\"target: true\": 2.4849066497880004, \"target: predicted\": 1.6935737455386266}, {\"target: true\": 0.33647223662121295, \"target: predicted\": 0.9140399059984983}, {\"target: true\": 3.942552210462969, \"target: predicted\": 6.196200931751239}, {\"target: true\": 3.0910424533583165, \"target: predicted\": 3.373971137248965}, {\"target: true\": -0.648173814917214, \"target: predicted\": 1.017743878765378}, {\"target: true\": 2.322387720290225, \"target: predicted\": 4.666411074771454}, {\"target: true\": 4.4549866267219445, \"target: predicted\": 4.143822467538017}, {\"target: true\": 1.4929040961781486, \"target: predicted\": 1.374625101638473}, {\"target: true\": 2.3978952727983707, \"target: predicted\": -1.495815285461886}, {\"target: true\": 3.9357395320454622, \"target: predicted\": 0.8859397970138387}, {\"target: true\": 4.155753190350744, \"target: predicted\": 2.667968092503776}, {\"target: true\": 0.4700036292457357, \"target: predicted\": 0.12344186110083477}, {\"target: true\": 0.5306282510621703, \"target: predicted\": 1.0851882829676847}, {\"target: true\": 3.737669618283368, \"target: predicted\": -0.17057411329618777}, {\"target: true\": 1.7404661748405046, \"target: predicted\": 4.430161403877433}, {\"target: true\": 3.635742355700808, \"target: predicted\": 4.7181610346710645}, {\"target: true\": 1.7047480922384253, \"target: predicted\": 4.404610137586198}, {\"target: true\": 2.281361456542419, \"target: predicted\": 4.041285151519018}, {\"target: true\": 3.1780538303479458, \"target: predicted\": 4.116902310933562}, {\"target: true\": 2.4849066497880004, \"target: predicted\": 0.5085918375580609}, {\"target: true\": 1.6639260977181702, \"target: predicted\": 3.2150729360405688}, {\"target: true\": 0.4054651081081646, \"target: predicted\": 4.323899631359563}, {\"target: true\": 3.3672958299864737, \"target: predicted\": -0.6095715406175732}, {\"target: true\": -0.6539264674066634, \"target: predicted\": 0.6537073664378541}, {\"target: true\": 4.382026634673881, \"target: predicted\": 1.539592549071506}, {\"target: true\": 3.5263605246161616, \"target: predicted\": 3.9494128919798}, {\"target: true\": 2.7013612129514133, \"target: predicted\": 2.118149400478722}, {\"target: true\": -0.8209805520698303, \"target: predicted\": 0.6281087956863531}, {\"target: true\": 4.131961425793407, \"target: predicted\": 2.0454384213705503}, {\"target: true\": 3.218875824868201, \"target: predicted\": 4.0140002747268255}, {\"target: true\": 6.717804695023692, \"target: predicted\": 3.3617263497181162}, {\"target: true\": 4.553876891600541, \"target: predicted\": 3.9720855838959865}, {\"target: true\": -0.693147180559945, \"target: predicted\": -1.6616482085821653}, {\"target: true\": 1.8251942453142924, \"target: predicted\": 1.1034489242628394}, {\"target: true\": 5.196838197598184, \"target: predicted\": 3.1861937030017526}, {\"target: true\": 4.59511985013459, \"target: predicted\": 0.9557212934705661}, {\"target: true\": 6.956545443151568, \"target: predicted\": 4.4856769667591045}, {\"target: true\": 1.5040773967762742, \"target: predicted\": 1.218954100280049}, {\"target: true\": 2.248128907197987, \"target: predicted\": 2.3590334389616263}, {\"target: true\": 0.2546422183735806, \"target: predicted\": -0.5156898211951901}, {\"target: true\": 2.26176309847379, \"target: predicted\": 4.131374676694693}, {\"target: true\": 2.151762203259462, \"target: predicted\": 3.999825171313643}, {\"target: true\": 1.5706970841176695, \"target: predicted\": 3.450466718098018}, {\"target: true\": 5.9140434001393976, \"target: predicted\": 4.40982118573286}, {\"target: true\": 6.481776190626265, \"target: predicted\": 4.331222305827243}, {\"target: true\": -3.540459448995663, \"target: predicted\": 1.3078556956961263}, {\"target: true\": 2.5877640352277083, \"target: predicted\": 3.4370455470145895}, {\"target: true\": 3.2148678034706624, \"target: predicted\": 1.726399961975201}, {\"target: true\": 0.39877611995736784, \"target: predicted\": 0.7026916948601538}, {\"target: true\": 1.5953389880545987, \"target: predicted\": 1.5089522745429376}, {\"target: true\": 4.448516375942715, \"target: predicted\": 2.630883704896061}, {\"target: true\": 3.3904734182991803, \"target: predicted\": 2.9570477485041478}, {\"target: true\": 3.258096538021482, \"target: predicted\": 4.161342052273668}, {\"target: true\": 4.219507705176107, \"target: predicted\": 3.5342080686783124}, {\"target: true\": 4.543294782270004, \"target: predicted\": 5.469194356762559}, {\"target: true\": 2.1198634561787517, \"target: predicted\": 1.5625414402549596}, {\"target: true\": 4.394449154672439, \"target: predicted\": 2.627988615946127}, {\"target: true\": 2.263844264677615, \"target: predicted\": 2.4895296853431135}, {\"target: true\": 4.0163830207523885, \"target: predicted\": 3.1797114524509413}, {\"target: true\": 4.23410650459726, \"target: predicted\": 2.581833668059278}, {\"target: true\": 3.0910424533583165, \"target: predicted\": 2.5568867232456527}, {\"target: true\": 4.477336814478207, \"target: predicted\": 3.687439671390437}, {\"target: true\": 3.0204248861443626, \"target: predicted\": 2.3374297858612607}, {\"target: true\": 3.517497837358316, \"target: predicted\": 0.5905333793838279}, {\"target: true\": 0.5766133643039937, \"target: predicted\": -1.6859769764697612}, {\"target: true\": 5.187385805840755, \"target: predicted\": 3.975896252073923}, {\"target: true\": 4.700480365792417, \"target: predicted\": 3.4658907012484503}, {\"target: true\": 6.1092475827643655, \"target: predicted\": 3.514404854125584}, {\"target: true\": 2.9444389791664403, \"target: predicted\": 3.112720849172939}, {\"target: true\": 3.3221541743217022, \"target: predicted\": 1.428987653289649}, {\"target: true\": -0.4620354595965588, \"target: predicted\": 1.8289309800631002}, {\"target: true\": 1.9657127763514932, \"target: predicted\": 0.6188385210143179}, {\"target: true\": -0.5108256237659905, \"target: predicted\": 0.36987248750403756}, {\"target: true\": -0.4780358009429997, \"target: predicted\": -1.1436556915119231}, {\"target: true\": 4.176538799848087, \"target: predicted\": 4.462804420495992}, {\"target: true\": 3.49650756146648, \"target: predicted\": 2.076670596457057}, {\"target: true\": 2.2235418856535927, \"target: predicted\": 2.0853341004560555}, {\"target: true\": 0.33647223662121295, \"target: predicted\": 1.842582655424811}, {\"target: true\": 2.8015405441895487, \"target: predicted\": 5.814992760392867}, {\"target: true\": 0.10705907229340772, \"target: predicted\": 0.6969051557649222}, {\"target: true\": 4.158883083359672, \"target: predicted\": 3.5840959402825114}, {\"target: true\": 4.841822087327094, \"target: predicted\": 3.651184721308671}, {\"target: true\": -0.4004775665971252, \"target: predicted\": 0.246333390666853}, {\"target: true\": 1.6639260977181702, \"target: predicted\": 3.1091142339626616}, {\"target: true\": 6.665683717782406, \"target: predicted\": 5.668332139083059}, {\"target: true\": 4.174387269895637, \"target: predicted\": 2.027652888999924}, {\"target: true\": 6.075346031088683, \"target: predicted\": 3.455768386475516}, {\"target: true\": -1.5606477482646683, \"target: predicted\": 1.6708140022192275}, {\"target: true\": -0.16251892949777513, \"target: predicted\": -0.07567156921940965}, {\"target: true\": 4.189654742026425, \"target: predicted\": 4.0487449809306675}, {\"target: true\": 4.867534450455581, \"target: predicted\": 2.761709997855726}, {\"target: true\": 0.8754687373538999, \"target: predicted\": -5.241875367455942}, {\"target: true\": 3.1354942159291497, \"target: predicted\": 3.294409303678066}, {\"target: true\": -1.1086626245216111, \"target: predicted\": 3.4359629326583963}, {\"target: true\": 2.312535423847214, \"target: predicted\": 1.2968529301553282}, {\"target: true\": 1.01160091167848, \"target: predicted\": 3.593188753251534}, {\"target: true\": 1.1693813595563172, \"target: predicted\": 0.1927997167255282}, {\"target: true\": 4.663439094112067, \"target: predicted\": 3.643808164541574}, {\"target: true\": 3.7612001156935615, \"target: predicted\": 1.377196756837885}, {\"target: true\": 3.4339872044851463, \"target: predicted\": 4.210261022166547}, {\"target: true\": 4.469350462845557, \"target: predicted\": 1.5002194233248203}, {\"target: true\": 3.8264651170664994, \"target: predicted\": 3.5329745139067414}, {\"target: true\": 2.4849066497880004, \"target: predicted\": 3.0299332852693244}, {\"target: true\": 3.258096538021482, \"target: predicted\": 1.231391534525564}, {\"target: true\": 3.2196355362144433, \"target: predicted\": 2.012036609019887}, {\"target: true\": 2.3978952727983707, \"target: predicted\": 3.0371309807931643}, {\"target: true\": 2.3978952727983707, \"target: predicted\": -0.22668588032204973}, {\"target: true\": 1.8794650496471603, \"target: predicted\": 2.4689974152884786}, {\"target: true\": 0.6931471805599454, \"target: predicted\": 0.9632768514349443}, {\"target: true\": 2.4336133554004498, \"target: predicted\": 1.9693439137670872}, {\"target: true\": 4.219507705176107, \"target: predicted\": 4.432358402153371}, {\"target: true\": -1.5945492999403497, \"target: predicted\": -3.222137260734816}, {\"target: true\": 3.688879454113936, \"target: predicted\": 3.3014541694071977}, {\"target: true\": 4.314323110193153, \"target: predicted\": 2.6124256059666493}, {\"target: true\": -1.0498221244986778, \"target: predicted\": -1.4613913538821013}, {\"target: true\": 3.288401887516811, \"target: predicted\": 4.542849165428283}, {\"target: true\": 3.5681232529781366, \"target: predicted\": 2.3196981707785564}, {\"target: true\": -2.441847160327554, \"target: predicted\": -3.3738519017758426}, {\"target: true\": 3.555348061489413, \"target: predicted\": 2.99614040638582}, {\"target: true\": -0.744440474947496, \"target: predicted\": -0.7533051634598702}, {\"target: true\": -2.10373423424888, \"target: predicted\": 0.20696138455236346}, {\"target: true\": 1.6639260977181702, \"target: predicted\": 2.6321247647021933}, {\"target: true\": -1.1394342831883648, \"target: predicted\": 1.1979707933930925}, {\"target: true\": 3.610917912644224, \"target: predicted\": 2.6718936979242986}, {\"target: true\": 3.8501476017100575, \"target: predicted\": 4.015327038878685}, {\"target: true\": 2.827313621929028, \"target: predicted\": 0.7867317073286408}, {\"target: true\": 6.908316121680465, \"target: predicted\": 3.5474611549783672}, {\"target: true\": 4.5321692931036015, \"target: predicted\": 4.765579837375779}, {\"target: true\": 4.4067192472642525, \"target: predicted\": 2.9156885351963817}, {\"target: true\": 0.9932517730102837, \"target: predicted\": 2.432575080193461}, {\"target: true\": 1.8309801823813363, \"target: predicted\": 1.5519826088797417}, {\"target: true\": 1.9459101490553128, \"target: predicted\": 1.0490209441052294}, {\"target: true\": -0.15782408519356705, \"target: predicted\": 0.665360358376283}, {\"target: true\": 1.4816045409242156, \"target: predicted\": 4.087507627222668}, {\"target: true\": 3.6635616461296463, \"target: predicted\": 4.592078273439359}, {\"target: true\": 1.1631508098056809, \"target: predicted\": 0.12579504806806785}, {\"target: true\": 3.4011973816621555, \"target: predicted\": 3.223845254293583}, {\"target: true\": 2.3978952727983707, \"target: predicted\": 0.8303409614876147}, {\"target: true\": 6.131887140770232, \"target: predicted\": 3.6355086109831785}, {\"target: true\": 4.545420181582316, \"target: predicted\": 3.9589651740111176}, {\"target: true\": 2.186051276738094, \"target: predicted\": 2.2119679656475686}, {\"target: true\": 3.951243718581428, \"target: predicted\": 2.4120823821392414}, {\"target: true\": 1.4816045409242156, \"target: predicted\": 2.6382554332493138}, {\"target: true\": 0.5025918188388871, \"target: predicted\": -0.9028334427308171}, {\"target: true\": 3.5351453541718936, \"target: predicted\": 1.4986082725952623}, {\"target: true\": 5.2417470150596435, \"target: predicted\": 3.867485765418552}, {\"target: true\": 1.3350010667323402, \"target: predicted\": 1.9537020921775867}, {\"target: true\": 1.4350845252893227, \"target: predicted\": 1.9048914466996392}, {\"target: true\": 3.9415818076696905, \"target: predicted\": 2.7812388325435045}, {\"target: true\": 4.58700621536042, \"target: predicted\": 4.232841764288664}, {\"target: true\": -1.7921595492493951, \"target: predicted\": 1.056965154395527}, {\"target: true\": 4.127134385045092, \"target: predicted\": 2.1136230773967206}, {\"target: true\": 3.49650756146648, \"target: predicted\": 1.055774985371538}, {\"target: true\": 2.7080502011022096, \"target: predicted\": 3.684467187864978}, {\"target: true\": 4.0809215418899605, \"target: predicted\": 2.8256008994000372}, {\"target: true\": 1.5040773967762742, \"target: predicted\": 0.7061040538844836}, {\"target: true\": 3.951243718581428, \"target: predicted\": 4.126851642532266}, {\"target: true\": 4.418840607796597, \"target: predicted\": 2.885046021403422}, {\"target: true\": 4.4200447018614035, \"target: predicted\": 4.55377845510624}, {\"target: true\": 1.9021075263969205, \"target: predicted\": -0.10509466359726849}, {\"target: true\": -2.5770219386958066, \"target: predicted\": -2.5278477380436337}, {\"target: true\": -1.4696759700589417, \"target: predicted\": 0.998694036726306}, {\"target: true\": 4.178992036282385, \"target: predicted\": 4.357503432356024}, {\"target: true\": 3.828641396489095, \"target: predicted\": 2.218646396752164}, {\"target: true\": 3.8264651170664994, \"target: predicted\": 3.6059623570637966}, {\"target: true\": 3.6027767550605247, \"target: predicted\": 2.0541947848647766}, {\"target: true\": 5.990914395802501, \"target: predicted\": 4.445089040080125}, {\"target: true\": 0.2623642644674913, \"target: predicted\": 0.41583884734292953}, {\"target: true\": 4.45898767581001, \"target: predicted\": 3.6116360932153153}, {\"target: true\": -0.6348782724359694, \"target: predicted\": 2.8453188119748583}, {\"target: true\": 4.027135812528651, \"target: predicted\": 4.90286871734582}, {\"target: true\": 1.4310286924600613, \"target: predicted\": 2.5033428326605422}, {\"target: true\": 5.081404364984463, \"target: predicted\": 6.7723941696164}, {\"target: true\": 3.3435682688255186, \"target: predicted\": -0.7164938961308844}, {\"target: true\": -2.5639498571284536, \"target: predicted\": -3.3911860474290867}, {\"target: true\": 2.3978952727983707, \"target: predicted\": 2.377167281910622}, {\"target: true\": 3.202746442938317, \"target: predicted\": 2.160026093791921}, {\"target: true\": 3.2552077541155917, \"target: predicted\": 0.7778798951897345}, {\"target: true\": 3.1354942159291497, \"target: predicted\": 3.588410093063435}, {\"target: true\": -0.693147180559945, \"target: predicted\": -0.8642481181878048}, {\"target: true\": 3.7612001156935615, \"target: predicted\": 2.2348327444623237}, {\"target: true\": 4.378269585796169, \"target: predicted\": 3.4263481611551585}, {\"target: true\": 1.8325814637483104, \"target: predicted\": 1.5064724291835698}, {\"target: true\": 4.298645025734831, \"target: predicted\": 3.8612079876974734}, {\"target: true\": 0.9555114450274362, \"target: predicted\": 2.2512625771865338}, {\"target: true\": 4.189654742026425, \"target: predicted\": 5.495187737817055}, {\"target: true\": 0.09531017980432432, \"target: predicted\": 1.3162147297149167}, {\"target: true\": 3.157000421150113, \"target: predicted\": 3.216969103140935}, {\"target: true\": 2.933856869835904, \"target: predicted\": 1.4834744841145435}, {\"target: true\": -0.4004775665971252, \"target: predicted\": 1.7511442533614119}, {\"target: true\": 5.240465771336915, \"target: predicted\": 4.427295425364586}, {\"target: true\": 2.4849066497880004, \"target: predicted\": 1.6926612452991616}, {\"target: true\": -4.8283137373023015, \"target: predicted\": -4.459446159057831}, {\"target: true\": -3.119030489898483, \"target: predicted\": -0.08850003500925929}, {\"target: true\": 2.8903717578961645, \"target: predicted\": 2.3168937720364715}, {\"target: true\": 3.4210000089583352, \"target: predicted\": 5.469501135984171}, {\"target: true\": 1.840549633397487, \"target: predicted\": 1.8575629843177115}, {\"target: true\": 4.092676505121403, \"target: predicted\": 5.365389897006119}, {\"target: true\": 1.4655675420143983, \"target: predicted\": 3.8549744354481232}, {\"target: true\": 1.9671123567059163, \"target: predicted\": 3.411324796399737}, {\"target: true\": 3.8712010109078916, \"target: predicted\": 3.558663634912066}, {\"target: true\": 1.0986122886681098, \"target: predicted\": 1.6533364036909142}, {\"target: true\": 4.244200317766478, \"target: predicted\": 3.266653621547597}, {\"target: true\": 3.0130809118886037, \"target: predicted\": 2.5660471340084885}, {\"target: true\": 2.8094026953624978, \"target: predicted\": 3.98172281802015}, {\"target: true\": 0.6830968447064438, \"target: predicted\": -0.1873548807367258}, {\"target: true\": 5.135798437050261, \"target: predicted\": 3.4981325396559013}, {\"target: true\": -2.2072749131897202, \"target: predicted\": -0.9783918214550891}, {\"target: true\": 2.151762203259462, \"target: predicted\": 2.6848019025195833}, {\"target: true\": -1.3862943611198908, \"target: predicted\": 1.1723452115148711}, {\"target: true\": 1.2809338454620642, \"target: predicted\": 4.1243691380464345}, {\"target: true\": 1.9878743481543453, \"target: predicted\": 0.9537773320708474}, {\"target: true\": 2.3978952727983707, \"target: predicted\": 1.7809931578586835}, {\"target: true\": 0.5877866649021191, \"target: predicted\": 0.38138930417666916}, {\"target: true\": 4.286341384539473, \"target: predicted\": 2.900757260189054}, {\"target: true\": 3.0910424533583165, \"target: predicted\": 3.302906052456923}, {\"target: true\": 4.23410650459726, \"target: predicted\": 3.9948016615597544}, {\"target: true\": -2.764620552590605, \"target: predicted\": -2.1216476966297844}, {\"target: true\": 2.9957322735539913, \"target: predicted\": 1.0745751494309772}, {\"target: true\": 3.1780538303479458, \"target: predicted\": 3.507276855705924}, {\"target: true\": 2.714694743820879, \"target: predicted\": 1.7149295400616773}, {\"target: true\": -2.918771232417864, \"target: predicted\": -1.8058520769466408}, {\"target: true\": 4.276666119016055, \"target: predicted\": 4.194866359384239}, {\"target: true\": 1.5040773967762742, \"target: predicted\": -1.0066882859360629}, {\"target: true\": 6.439350371100098, \"target: predicted\": 3.5272843331573487}, {\"target: true\": 1.4996230464268936, \"target: predicted\": 2.391358060174544}, {\"target: true\": 4.174387269895637, \"target: predicted\": 2.8486416704005473}, {\"target: true\": 3.6635616461296463, \"target: predicted\": 3.314968409916891}, {\"target: true\": 8.842171048611718, \"target: predicted\": 4.592946828115144}, {\"target: true\": 0.9932517730102837, \"target: predicted\": 1.661631058858454}, {\"target: true\": 3.49650756146648, \"target: predicted\": 3.3634255315290584}, {\"target: true\": 3.8264651170664994, \"target: predicted\": 4.612573280734983}], \"data-b50e8c9187d2230f7576e04a0dce8ed1\": [{\"target: true\": -4.8283137373023015, \"target: predicted\": -4.8283137373023015}, {\"target: true\": 8.842171048611718, \"target: predicted\": 8.842171048611718}]}}, {\"mode\": \"vega-lite\"});\n",
       "</script>"
      ],
      "text/plain": [
       "alt.LayerChart(...)"
      ]
     },
     "execution_count": 44,
     "metadata": {},
     "output_type": "execute_result"
    }
   ],
   "source": [
    "baseline.visualize('pair_predict', algea_test, untransform=True)"
   ]
  },
  {
   "cell_type": "markdown",
   "id": "3b0efc71-4a1d-42a5-9b62-7bfcb3040621",
   "metadata": {},
   "source": [
    "> We know that the graphs can outperform RFR fir single task models from our model screening, howvere this is not the case for the algea dataset which is quite small, and graphs need a lot of data. In this case the baseline R2 is 0.38, quite a bit worse than the RFR base;ine."
   ]
  },
  {
   "cell_type": "markdown",
   "id": "b2bd2f62-2ffd-46c3-a794-c5dca88b46d5",
   "metadata": {},
   "source": [
    "### Train a transfer model"
   ]
  },
  {
   "cell_type": "markdown",
   "id": "460e9404-82c3-4bf8-9d27-dedaa3956c11",
   "metadata": {},
   "source": [
    "We are still using the same hyperparameters."
   ]
  },
  {
   "cell_type": "code",
   "execution_count": 36,
   "id": "7aa7a624-b591-453e-b731-cd3b2e9e5ed5",
   "metadata": {},
   "outputs": [
    {
     "name": "stdout",
     "output_type": "stream",
     "text": [
      "WARNING: No tasks passed, assuming one target\n"
     ]
    }
   ],
   "source": [
    "transfer = ToxModel(\n",
    "    'GraphCNN',\n",
    "    mode='regression',\n",
    "    transformers = rat_transformations,\n",
    "    **params\n",
    ")"
   ]
  },
  {
   "cell_type": "markdown",
   "id": "b526ba03-797e-4932-b826-3434fbe5eed8",
   "metadata": {},
   "source": [
    "In this case we trian on rat data, which has a lot of examples, and for longer. The hope is that the foundation relationship between the compound graphs and toxicity is mostly independant of the species, it is just to what extent the species is affected that is different."
   ]
  },
  {
   "cell_type": "code",
   "execution_count": 37,
   "id": "9f8d4874-e899-480b-b72e-747aeb621bfa",
   "metadata": {
    "collapsed": true,
    "jupyter": {
     "outputs_hidden": true
    },
    "tags": []
   },
   "outputs": [
    {
     "name": "stderr",
     "output_type": "stream",
     "text": [
      "/Users/ek/miniconda3/envs/cytoxnet/lib/python3.6/site-packages/tensorflow/python/framework/indexed_slices.py:437: UserWarning: Converting sparse IndexedSlices(IndexedSlices(indices=Tensor(\"gradient_tape/private__graph_conv_keras_model_8/graph_pool_26/Reshape_14:0\", shape=(217,), dtype=int32), values=Tensor(\"gradient_tape/private__graph_conv_keras_model_8/graph_pool_26/Reshape_13:0\", shape=(217, 128), dtype=float32), dense_shape=Tensor(\"gradient_tape/private__graph_conv_keras_model_8/graph_pool_26/Cast_4:0\", shape=(2,), dtype=int32))) to a dense Tensor of unknown shape. This may consume a large amount of memory.\n",
      "  \"shape. This may consume a large amount of memory.\" % value)\n",
      "/Users/ek/miniconda3/envs/cytoxnet/lib/python3.6/site-packages/tensorflow/python/framework/indexed_slices.py:437: UserWarning: Converting sparse IndexedSlices(IndexedSlices(indices=Tensor(\"gradient_tape/private__graph_conv_keras_model_8/graph_pool_26/Reshape_17:0\", shape=(670,), dtype=int32), values=Tensor(\"gradient_tape/private__graph_conv_keras_model_8/graph_pool_26/Reshape_16:0\", shape=(670, 128), dtype=float32), dense_shape=Tensor(\"gradient_tape/private__graph_conv_keras_model_8/graph_pool_26/Cast_5:0\", shape=(2,), dtype=int32))) to a dense Tensor of unknown shape. This may consume a large amount of memory.\n",
      "  \"shape. This may consume a large amount of memory.\" % value)\n",
      "/Users/ek/miniconda3/envs/cytoxnet/lib/python3.6/site-packages/tensorflow/python/framework/indexed_slices.py:437: UserWarning: Converting sparse IndexedSlices(IndexedSlices(indices=Tensor(\"gradient_tape/private__graph_conv_keras_model_8/graph_pool_26/Reshape_20:0\", shape=(561,), dtype=int32), values=Tensor(\"gradient_tape/private__graph_conv_keras_model_8/graph_pool_26/Reshape_19:0\", shape=(561, 128), dtype=float32), dense_shape=Tensor(\"gradient_tape/private__graph_conv_keras_model_8/graph_pool_26/Cast_6:0\", shape=(2,), dtype=int32))) to a dense Tensor of unknown shape. This may consume a large amount of memory.\n",
      "  \"shape. This may consume a large amount of memory.\" % value)\n",
      "/Users/ek/miniconda3/envs/cytoxnet/lib/python3.6/site-packages/tensorflow/python/framework/indexed_slices.py:437: UserWarning: Converting sparse IndexedSlices(IndexedSlices(indices=Tensor(\"gradient_tape/private__graph_conv_keras_model_8/graph_pool_26/Reshape_23:0\", shape=(92,), dtype=int32), values=Tensor(\"gradient_tape/private__graph_conv_keras_model_8/graph_pool_26/Reshape_22:0\", shape=(92, 128), dtype=float32), dense_shape=Tensor(\"gradient_tape/private__graph_conv_keras_model_8/graph_pool_26/Cast_7:0\", shape=(2,), dtype=int32))) to a dense Tensor of unknown shape. This may consume a large amount of memory.\n",
      "  \"shape. This may consume a large amount of memory.\" % value)\n",
      "/Users/ek/miniconda3/envs/cytoxnet/lib/python3.6/site-packages/tensorflow/python/framework/indexed_slices.py:437: UserWarning: Converting sparse IndexedSlices(IndexedSlices(indices=Tensor(\"gradient_tape/private__graph_conv_keras_model_8/graph_conv_26/Reshape_11:0\", shape=(217,), dtype=int32), values=Tensor(\"gradient_tape/private__graph_conv_keras_model_8/graph_conv_26/Reshape_10:0\", shape=(217, 128), dtype=float32), dense_shape=Tensor(\"gradient_tape/private__graph_conv_keras_model_8/graph_conv_26/Cast:0\", shape=(2,), dtype=int32))) to a dense Tensor of unknown shape. This may consume a large amount of memory.\n",
      "  \"shape. This may consume a large amount of memory.\" % value)\n",
      "/Users/ek/miniconda3/envs/cytoxnet/lib/python3.6/site-packages/tensorflow/python/framework/indexed_slices.py:437: UserWarning: Converting sparse IndexedSlices(IndexedSlices(indices=Tensor(\"gradient_tape/private__graph_conv_keras_model_8/graph_conv_26/Reshape_13:0\", shape=(670,), dtype=int32), values=Tensor(\"gradient_tape/private__graph_conv_keras_model_8/graph_conv_26/Reshape_12:0\", shape=(670, 128), dtype=float32), dense_shape=Tensor(\"gradient_tape/private__graph_conv_keras_model_8/graph_conv_26/Cast_1:0\", shape=(2,), dtype=int32))) to a dense Tensor of unknown shape. This may consume a large amount of memory.\n",
      "  \"shape. This may consume a large amount of memory.\" % value)\n",
      "/Users/ek/miniconda3/envs/cytoxnet/lib/python3.6/site-packages/tensorflow/python/framework/indexed_slices.py:437: UserWarning: Converting sparse IndexedSlices(IndexedSlices(indices=Tensor(\"gradient_tape/private__graph_conv_keras_model_8/graph_conv_26/Reshape_15:0\", shape=(561,), dtype=int32), values=Tensor(\"gradient_tape/private__graph_conv_keras_model_8/graph_conv_26/Reshape_14:0\", shape=(561, 128), dtype=float32), dense_shape=Tensor(\"gradient_tape/private__graph_conv_keras_model_8/graph_conv_26/Cast_2:0\", shape=(2,), dtype=int32))) to a dense Tensor of unknown shape. This may consume a large amount of memory.\n",
      "  \"shape. This may consume a large amount of memory.\" % value)\n",
      "/Users/ek/miniconda3/envs/cytoxnet/lib/python3.6/site-packages/tensorflow/python/framework/indexed_slices.py:437: UserWarning: Converting sparse IndexedSlices(IndexedSlices(indices=Tensor(\"gradient_tape/private__graph_conv_keras_model_8/graph_conv_26/Reshape_17:0\", shape=(92,), dtype=int32), values=Tensor(\"gradient_tape/private__graph_conv_keras_model_8/graph_conv_26/Reshape_16:0\", shape=(92, 128), dtype=float32), dense_shape=Tensor(\"gradient_tape/private__graph_conv_keras_model_8/graph_conv_26/Cast_3:0\", shape=(2,), dtype=int32))) to a dense Tensor of unknown shape. This may consume a large amount of memory.\n",
      "  \"shape. This may consume a large amount of memory.\" % value)\n",
      "/Users/ek/miniconda3/envs/cytoxnet/lib/python3.6/site-packages/tensorflow/python/framework/indexed_slices.py:437: UserWarning: Converting sparse IndexedSlices(IndexedSlices(indices=Tensor(\"gradient_tape/private__graph_conv_keras_model_8/graph_conv_26/Reshape_19:0\", shape=(0,), dtype=int32), values=Tensor(\"gradient_tape/private__graph_conv_keras_model_8/graph_conv_26/Reshape_18:0\", shape=(0, 128), dtype=float32), dense_shape=Tensor(\"gradient_tape/private__graph_conv_keras_model_8/graph_conv_26/Cast_4:0\", shape=(2,), dtype=int32))) to a dense Tensor of unknown shape. This may consume a large amount of memory.\n",
      "  \"shape. This may consume a large amount of memory.\" % value)\n",
      "/Users/ek/miniconda3/envs/cytoxnet/lib/python3.6/site-packages/tensorflow/python/framework/indexed_slices.py:437: UserWarning: Converting sparse IndexedSlices(IndexedSlices(indices=Tensor(\"gradient_tape/private__graph_conv_keras_model_8/graph_conv_26/Reshape_21:0\", shape=(0,), dtype=int32), values=Tensor(\"gradient_tape/private__graph_conv_keras_model_8/graph_conv_26/Reshape_20:0\", shape=(0, 128), dtype=float32), dense_shape=Tensor(\"gradient_tape/private__graph_conv_keras_model_8/graph_conv_26/Cast_5:0\", shape=(2,), dtype=int32))) to a dense Tensor of unknown shape. This may consume a large amount of memory.\n",
      "  \"shape. This may consume a large amount of memory.\" % value)\n",
      "/Users/ek/miniconda3/envs/cytoxnet/lib/python3.6/site-packages/tensorflow/python/framework/indexed_slices.py:437: UserWarning: Converting sparse IndexedSlices(IndexedSlices(indices=Tensor(\"gradient_tape/private__graph_conv_keras_model_8/graph_conv_26/Reshape_23:0\", shape=(0,), dtype=int32), values=Tensor(\"gradient_tape/private__graph_conv_keras_model_8/graph_conv_26/Reshape_22:0\", shape=(0, 128), dtype=float32), dense_shape=Tensor(\"gradient_tape/private__graph_conv_keras_model_8/graph_conv_26/Cast_6:0\", shape=(2,), dtype=int32))) to a dense Tensor of unknown shape. This may consume a large amount of memory.\n",
      "  \"shape. This may consume a large amount of memory.\" % value)\n",
      "/Users/ek/miniconda3/envs/cytoxnet/lib/python3.6/site-packages/tensorflow/python/framework/indexed_slices.py:437: UserWarning: Converting sparse IndexedSlices(IndexedSlices(indices=Tensor(\"gradient_tape/private__graph_conv_keras_model_8/graph_conv_26/Reshape_25:0\", shape=(0,), dtype=int32), values=Tensor(\"gradient_tape/private__graph_conv_keras_model_8/graph_conv_26/Reshape_24:0\", shape=(0, 128), dtype=float32), dense_shape=Tensor(\"gradient_tape/private__graph_conv_keras_model_8/graph_conv_26/Cast_7:0\", shape=(2,), dtype=int32))) to a dense Tensor of unknown shape. This may consume a large amount of memory.\n",
      "  \"shape. This may consume a large amount of memory.\" % value)\n",
      "/Users/ek/miniconda3/envs/cytoxnet/lib/python3.6/site-packages/tensorflow/python/framework/indexed_slices.py:437: UserWarning: Converting sparse IndexedSlices(IndexedSlices(indices=Tensor(\"gradient_tape/private__graph_conv_keras_model_8/graph_conv_26/Reshape_27:0\", shape=(0,), dtype=int32), values=Tensor(\"gradient_tape/private__graph_conv_keras_model_8/graph_conv_26/Reshape_26:0\", shape=(0, 128), dtype=float32), dense_shape=Tensor(\"gradient_tape/private__graph_conv_keras_model_8/graph_conv_26/Cast_8:0\", shape=(2,), dtype=int32))) to a dense Tensor of unknown shape. This may consume a large amount of memory.\n",
      "  \"shape. This may consume a large amount of memory.\" % value)\n",
      "/Users/ek/miniconda3/envs/cytoxnet/lib/python3.6/site-packages/tensorflow/python/framework/indexed_slices.py:437: UserWarning: Converting sparse IndexedSlices(IndexedSlices(indices=Tensor(\"gradient_tape/private__graph_conv_keras_model_8/graph_conv_26/Reshape_29:0\", shape=(0,), dtype=int32), values=Tensor(\"gradient_tape/private__graph_conv_keras_model_8/graph_conv_26/Reshape_28:0\", shape=(0, 128), dtype=float32), dense_shape=Tensor(\"gradient_tape/private__graph_conv_keras_model_8/graph_conv_26/Cast_9:0\", shape=(2,), dtype=int32))) to a dense Tensor of unknown shape. This may consume a large amount of memory.\n",
      "  \"shape. This may consume a large amount of memory.\" % value)\n",
      "/Users/ek/miniconda3/envs/cytoxnet/lib/python3.6/site-packages/tensorflow/python/framework/indexed_slices.py:437: UserWarning: Converting sparse IndexedSlices(IndexedSlices(indices=Tensor(\"gradient_tape/private__graph_conv_keras_model_8/graph_pool_25/Reshape_14:0\", shape=(217,), dtype=int32), values=Tensor(\"gradient_tape/private__graph_conv_keras_model_8/graph_pool_25/Reshape_13:0\", shape=(217, 128), dtype=float32), dense_shape=Tensor(\"gradient_tape/private__graph_conv_keras_model_8/graph_pool_25/Cast_4:0\", shape=(2,), dtype=int32))) to a dense Tensor of unknown shape. This may consume a large amount of memory.\n",
      "  \"shape. This may consume a large amount of memory.\" % value)\n",
      "/Users/ek/miniconda3/envs/cytoxnet/lib/python3.6/site-packages/tensorflow/python/framework/indexed_slices.py:437: UserWarning: Converting sparse IndexedSlices(IndexedSlices(indices=Tensor(\"gradient_tape/private__graph_conv_keras_model_8/graph_pool_25/Reshape_17:0\", shape=(670,), dtype=int32), values=Tensor(\"gradient_tape/private__graph_conv_keras_model_8/graph_pool_25/Reshape_16:0\", shape=(670, 128), dtype=float32), dense_shape=Tensor(\"gradient_tape/private__graph_conv_keras_model_8/graph_pool_25/Cast_5:0\", shape=(2,), dtype=int32))) to a dense Tensor of unknown shape. This may consume a large amount of memory.\n",
      "  \"shape. This may consume a large amount of memory.\" % value)\n",
      "/Users/ek/miniconda3/envs/cytoxnet/lib/python3.6/site-packages/tensorflow/python/framework/indexed_slices.py:437: UserWarning: Converting sparse IndexedSlices(IndexedSlices(indices=Tensor(\"gradient_tape/private__graph_conv_keras_model_8/graph_pool_25/Reshape_20:0\", shape=(561,), dtype=int32), values=Tensor(\"gradient_tape/private__graph_conv_keras_model_8/graph_pool_25/Reshape_19:0\", shape=(561, 128), dtype=float32), dense_shape=Tensor(\"gradient_tape/private__graph_conv_keras_model_8/graph_pool_25/Cast_6:0\", shape=(2,), dtype=int32))) to a dense Tensor of unknown shape. This may consume a large amount of memory.\n",
      "  \"shape. This may consume a large amount of memory.\" % value)\n",
      "/Users/ek/miniconda3/envs/cytoxnet/lib/python3.6/site-packages/tensorflow/python/framework/indexed_slices.py:437: UserWarning: Converting sparse IndexedSlices(IndexedSlices(indices=Tensor(\"gradient_tape/private__graph_conv_keras_model_8/graph_pool_25/Reshape_23:0\", shape=(92,), dtype=int32), values=Tensor(\"gradient_tape/private__graph_conv_keras_model_8/graph_pool_25/Reshape_22:0\", shape=(92, 128), dtype=float32), dense_shape=Tensor(\"gradient_tape/private__graph_conv_keras_model_8/graph_pool_25/Cast_7:0\", shape=(2,), dtype=int32))) to a dense Tensor of unknown shape. This may consume a large amount of memory.\n",
      "  \"shape. This may consume a large amount of memory.\" % value)\n",
      "/Users/ek/miniconda3/envs/cytoxnet/lib/python3.6/site-packages/tensorflow/python/framework/indexed_slices.py:437: UserWarning: Converting sparse IndexedSlices(IndexedSlices(indices=Tensor(\"gradient_tape/private__graph_conv_keras_model_8/graph_conv_25/Reshape_11:0\", shape=(217,), dtype=int32), values=Tensor(\"gradient_tape/private__graph_conv_keras_model_8/graph_conv_25/Reshape_10:0\", shape=(217, 128), dtype=float32), dense_shape=Tensor(\"gradient_tape/private__graph_conv_keras_model_8/graph_conv_25/Cast:0\", shape=(2,), dtype=int32))) to a dense Tensor of unknown shape. This may consume a large amount of memory.\n",
      "  \"shape. This may consume a large amount of memory.\" % value)\n",
      "/Users/ek/miniconda3/envs/cytoxnet/lib/python3.6/site-packages/tensorflow/python/framework/indexed_slices.py:437: UserWarning: Converting sparse IndexedSlices(IndexedSlices(indices=Tensor(\"gradient_tape/private__graph_conv_keras_model_8/graph_conv_25/Reshape_13:0\", shape=(670,), dtype=int32), values=Tensor(\"gradient_tape/private__graph_conv_keras_model_8/graph_conv_25/Reshape_12:0\", shape=(670, 128), dtype=float32), dense_shape=Tensor(\"gradient_tape/private__graph_conv_keras_model_8/graph_conv_25/Cast_1:0\", shape=(2,), dtype=int32))) to a dense Tensor of unknown shape. This may consume a large amount of memory.\n",
      "  \"shape. This may consume a large amount of memory.\" % value)\n",
      "/Users/ek/miniconda3/envs/cytoxnet/lib/python3.6/site-packages/tensorflow/python/framework/indexed_slices.py:437: UserWarning: Converting sparse IndexedSlices(IndexedSlices(indices=Tensor(\"gradient_tape/private__graph_conv_keras_model_8/graph_conv_25/Reshape_15:0\", shape=(561,), dtype=int32), values=Tensor(\"gradient_tape/private__graph_conv_keras_model_8/graph_conv_25/Reshape_14:0\", shape=(561, 128), dtype=float32), dense_shape=Tensor(\"gradient_tape/private__graph_conv_keras_model_8/graph_conv_25/Cast_2:0\", shape=(2,), dtype=int32))) to a dense Tensor of unknown shape. This may consume a large amount of memory.\n",
      "  \"shape. This may consume a large amount of memory.\" % value)\n",
      "/Users/ek/miniconda3/envs/cytoxnet/lib/python3.6/site-packages/tensorflow/python/framework/indexed_slices.py:437: UserWarning: Converting sparse IndexedSlices(IndexedSlices(indices=Tensor(\"gradient_tape/private__graph_conv_keras_model_8/graph_conv_25/Reshape_17:0\", shape=(92,), dtype=int32), values=Tensor(\"gradient_tape/private__graph_conv_keras_model_8/graph_conv_25/Reshape_16:0\", shape=(92, 128), dtype=float32), dense_shape=Tensor(\"gradient_tape/private__graph_conv_keras_model_8/graph_conv_25/Cast_3:0\", shape=(2,), dtype=int32))) to a dense Tensor of unknown shape. This may consume a large amount of memory.\n",
      "  \"shape. This may consume a large amount of memory.\" % value)\n",
      "/Users/ek/miniconda3/envs/cytoxnet/lib/python3.6/site-packages/tensorflow/python/framework/indexed_slices.py:437: UserWarning: Converting sparse IndexedSlices(IndexedSlices(indices=Tensor(\"gradient_tape/private__graph_conv_keras_model_8/graph_conv_25/Reshape_19:0\", shape=(0,), dtype=int32), values=Tensor(\"gradient_tape/private__graph_conv_keras_model_8/graph_conv_25/Reshape_18:0\", shape=(0, 128), dtype=float32), dense_shape=Tensor(\"gradient_tape/private__graph_conv_keras_model_8/graph_conv_25/Cast_4:0\", shape=(2,), dtype=int32))) to a dense Tensor of unknown shape. This may consume a large amount of memory.\n",
      "  \"shape. This may consume a large amount of memory.\" % value)\n",
      "/Users/ek/miniconda3/envs/cytoxnet/lib/python3.6/site-packages/tensorflow/python/framework/indexed_slices.py:437: UserWarning: Converting sparse IndexedSlices(IndexedSlices(indices=Tensor(\"gradient_tape/private__graph_conv_keras_model_8/graph_conv_25/Reshape_21:0\", shape=(0,), dtype=int32), values=Tensor(\"gradient_tape/private__graph_conv_keras_model_8/graph_conv_25/Reshape_20:0\", shape=(0, 128), dtype=float32), dense_shape=Tensor(\"gradient_tape/private__graph_conv_keras_model_8/graph_conv_25/Cast_5:0\", shape=(2,), dtype=int32))) to a dense Tensor of unknown shape. This may consume a large amount of memory.\n",
      "  \"shape. This may consume a large amount of memory.\" % value)\n",
      "/Users/ek/miniconda3/envs/cytoxnet/lib/python3.6/site-packages/tensorflow/python/framework/indexed_slices.py:437: UserWarning: Converting sparse IndexedSlices(IndexedSlices(indices=Tensor(\"gradient_tape/private__graph_conv_keras_model_8/graph_conv_25/Reshape_23:0\", shape=(0,), dtype=int32), values=Tensor(\"gradient_tape/private__graph_conv_keras_model_8/graph_conv_25/Reshape_22:0\", shape=(0, 128), dtype=float32), dense_shape=Tensor(\"gradient_tape/private__graph_conv_keras_model_8/graph_conv_25/Cast_6:0\", shape=(2,), dtype=int32))) to a dense Tensor of unknown shape. This may consume a large amount of memory.\n",
      "  \"shape. This may consume a large amount of memory.\" % value)\n",
      "/Users/ek/miniconda3/envs/cytoxnet/lib/python3.6/site-packages/tensorflow/python/framework/indexed_slices.py:437: UserWarning: Converting sparse IndexedSlices(IndexedSlices(indices=Tensor(\"gradient_tape/private__graph_conv_keras_model_8/graph_conv_25/Reshape_25:0\", shape=(0,), dtype=int32), values=Tensor(\"gradient_tape/private__graph_conv_keras_model_8/graph_conv_25/Reshape_24:0\", shape=(0, 128), dtype=float32), dense_shape=Tensor(\"gradient_tape/private__graph_conv_keras_model_8/graph_conv_25/Cast_7:0\", shape=(2,), dtype=int32))) to a dense Tensor of unknown shape. This may consume a large amount of memory.\n",
      "  \"shape. This may consume a large amount of memory.\" % value)\n",
      "/Users/ek/miniconda3/envs/cytoxnet/lib/python3.6/site-packages/tensorflow/python/framework/indexed_slices.py:437: UserWarning: Converting sparse IndexedSlices(IndexedSlices(indices=Tensor(\"gradient_tape/private__graph_conv_keras_model_8/graph_conv_25/Reshape_27:0\", shape=(0,), dtype=int32), values=Tensor(\"gradient_tape/private__graph_conv_keras_model_8/graph_conv_25/Reshape_26:0\", shape=(0, 128), dtype=float32), dense_shape=Tensor(\"gradient_tape/private__graph_conv_keras_model_8/graph_conv_25/Cast_8:0\", shape=(2,), dtype=int32))) to a dense Tensor of unknown shape. This may consume a large amount of memory.\n",
      "  \"shape. This may consume a large amount of memory.\" % value)\n",
      "/Users/ek/miniconda3/envs/cytoxnet/lib/python3.6/site-packages/tensorflow/python/framework/indexed_slices.py:437: UserWarning: Converting sparse IndexedSlices(IndexedSlices(indices=Tensor(\"gradient_tape/private__graph_conv_keras_model_8/graph_conv_25/Reshape_29:0\", shape=(0,), dtype=int32), values=Tensor(\"gradient_tape/private__graph_conv_keras_model_8/graph_conv_25/Reshape_28:0\", shape=(0, 128), dtype=float32), dense_shape=Tensor(\"gradient_tape/private__graph_conv_keras_model_8/graph_conv_25/Cast_9:0\", shape=(2,), dtype=int32))) to a dense Tensor of unknown shape. This may consume a large amount of memory.\n",
      "  \"shape. This may consume a large amount of memory.\" % value)\n",
      "/Users/ek/miniconda3/envs/cytoxnet/lib/python3.6/site-packages/tensorflow/python/framework/indexed_slices.py:437: UserWarning: Converting sparse IndexedSlices(IndexedSlices(indices=Tensor(\"gradient_tape/private__graph_conv_keras_model_8/graph_pool_24/Reshape_14:0\", shape=(217,), dtype=int32), values=Tensor(\"gradient_tape/private__graph_conv_keras_model_8/graph_pool_24/Reshape_13:0\", shape=(217, 128), dtype=float32), dense_shape=Tensor(\"gradient_tape/private__graph_conv_keras_model_8/graph_pool_24/Cast_4:0\", shape=(2,), dtype=int32))) to a dense Tensor of unknown shape. This may consume a large amount of memory.\n",
      "  \"shape. This may consume a large amount of memory.\" % value)\n",
      "/Users/ek/miniconda3/envs/cytoxnet/lib/python3.6/site-packages/tensorflow/python/framework/indexed_slices.py:437: UserWarning: Converting sparse IndexedSlices(IndexedSlices(indices=Tensor(\"gradient_tape/private__graph_conv_keras_model_8/graph_pool_24/Reshape_17:0\", shape=(670,), dtype=int32), values=Tensor(\"gradient_tape/private__graph_conv_keras_model_8/graph_pool_24/Reshape_16:0\", shape=(670, 128), dtype=float32), dense_shape=Tensor(\"gradient_tape/private__graph_conv_keras_model_8/graph_pool_24/Cast_5:0\", shape=(2,), dtype=int32))) to a dense Tensor of unknown shape. This may consume a large amount of memory.\n",
      "  \"shape. This may consume a large amount of memory.\" % value)\n",
      "/Users/ek/miniconda3/envs/cytoxnet/lib/python3.6/site-packages/tensorflow/python/framework/indexed_slices.py:437: UserWarning: Converting sparse IndexedSlices(IndexedSlices(indices=Tensor(\"gradient_tape/private__graph_conv_keras_model_8/graph_pool_24/Reshape_20:0\", shape=(561,), dtype=int32), values=Tensor(\"gradient_tape/private__graph_conv_keras_model_8/graph_pool_24/Reshape_19:0\", shape=(561, 128), dtype=float32), dense_shape=Tensor(\"gradient_tape/private__graph_conv_keras_model_8/graph_pool_24/Cast_6:0\", shape=(2,), dtype=int32))) to a dense Tensor of unknown shape. This may consume a large amount of memory.\n",
      "  \"shape. This may consume a large amount of memory.\" % value)\n",
      "/Users/ek/miniconda3/envs/cytoxnet/lib/python3.6/site-packages/tensorflow/python/framework/indexed_slices.py:437: UserWarning: Converting sparse IndexedSlices(IndexedSlices(indices=Tensor(\"gradient_tape/private__graph_conv_keras_model_8/graph_pool_24/Reshape_23:0\", shape=(92,), dtype=int32), values=Tensor(\"gradient_tape/private__graph_conv_keras_model_8/graph_pool_24/Reshape_22:0\", shape=(92, 128), dtype=float32), dense_shape=Tensor(\"gradient_tape/private__graph_conv_keras_model_8/graph_pool_24/Cast_7:0\", shape=(2,), dtype=int32))) to a dense Tensor of unknown shape. This may consume a large amount of memory.\n",
      "  \"shape. This may consume a large amount of memory.\" % value)\n",
      "/Users/ek/miniconda3/envs/cytoxnet/lib/python3.6/site-packages/tensorflow/python/framework/indexed_slices.py:437: UserWarning: Converting sparse IndexedSlices(IndexedSlices(indices=Tensor(\"gradient_tape/private__graph_conv_keras_model_8/graph_pool_26/Reshape_14:0\", shape=(200,), dtype=int32), values=Tensor(\"gradient_tape/private__graph_conv_keras_model_8/graph_pool_26/Reshape_13:0\", shape=(200, 128), dtype=float32), dense_shape=Tensor(\"gradient_tape/private__graph_conv_keras_model_8/graph_pool_26/Cast_4:0\", shape=(2,), dtype=int32))) to a dense Tensor of unknown shape. This may consume a large amount of memory.\n",
      "  \"shape. This may consume a large amount of memory.\" % value)\n",
      "/Users/ek/miniconda3/envs/cytoxnet/lib/python3.6/site-packages/tensorflow/python/framework/indexed_slices.py:437: UserWarning: Converting sparse IndexedSlices(IndexedSlices(indices=Tensor(\"gradient_tape/private__graph_conv_keras_model_8/graph_pool_26/Reshape_17:0\", shape=(728,), dtype=int32), values=Tensor(\"gradient_tape/private__graph_conv_keras_model_8/graph_pool_26/Reshape_16:0\", shape=(728, 128), dtype=float32), dense_shape=Tensor(\"gradient_tape/private__graph_conv_keras_model_8/graph_pool_26/Cast_5:0\", shape=(2,), dtype=int32))) to a dense Tensor of unknown shape. This may consume a large amount of memory.\n",
      "  \"shape. This may consume a large amount of memory.\" % value)\n",
      "/Users/ek/miniconda3/envs/cytoxnet/lib/python3.6/site-packages/tensorflow/python/framework/indexed_slices.py:437: UserWarning: Converting sparse IndexedSlices(IndexedSlices(indices=Tensor(\"gradient_tape/private__graph_conv_keras_model_8/graph_pool_26/Reshape_20:0\", shape=(630,), dtype=int32), values=Tensor(\"gradient_tape/private__graph_conv_keras_model_8/graph_pool_26/Reshape_19:0\", shape=(630, 128), dtype=float32), dense_shape=Tensor(\"gradient_tape/private__graph_conv_keras_model_8/graph_pool_26/Cast_6:0\", shape=(2,), dtype=int32))) to a dense Tensor of unknown shape. This may consume a large amount of memory.\n",
      "  \"shape. This may consume a large amount of memory.\" % value)\n",
      "/Users/ek/miniconda3/envs/cytoxnet/lib/python3.6/site-packages/tensorflow/python/framework/indexed_slices.py:437: UserWarning: Converting sparse IndexedSlices(IndexedSlices(indices=Tensor(\"gradient_tape/private__graph_conv_keras_model_8/graph_pool_26/Reshape_23:0\", shape=(80,), dtype=int32), values=Tensor(\"gradient_tape/private__graph_conv_keras_model_8/graph_pool_26/Reshape_22:0\", shape=(80, 128), dtype=float32), dense_shape=Tensor(\"gradient_tape/private__graph_conv_keras_model_8/graph_pool_26/Cast_7:0\", shape=(2,), dtype=int32))) to a dense Tensor of unknown shape. This may consume a large amount of memory.\n",
      "  \"shape. This may consume a large amount of memory.\" % value)\n",
      "/Users/ek/miniconda3/envs/cytoxnet/lib/python3.6/site-packages/tensorflow/python/framework/indexed_slices.py:437: UserWarning: Converting sparse IndexedSlices(IndexedSlices(indices=Tensor(\"gradient_tape/private__graph_conv_keras_model_8/graph_conv_26/Reshape_11:0\", shape=(200,), dtype=int32), values=Tensor(\"gradient_tape/private__graph_conv_keras_model_8/graph_conv_26/Reshape_10:0\", shape=(200, 128), dtype=float32), dense_shape=Tensor(\"gradient_tape/private__graph_conv_keras_model_8/graph_conv_26/Cast:0\", shape=(2,), dtype=int32))) to a dense Tensor of unknown shape. This may consume a large amount of memory.\n",
      "  \"shape. This may consume a large amount of memory.\" % value)\n",
      "/Users/ek/miniconda3/envs/cytoxnet/lib/python3.6/site-packages/tensorflow/python/framework/indexed_slices.py:437: UserWarning: Converting sparse IndexedSlices(IndexedSlices(indices=Tensor(\"gradient_tape/private__graph_conv_keras_model_8/graph_conv_26/Reshape_13:0\", shape=(728,), dtype=int32), values=Tensor(\"gradient_tape/private__graph_conv_keras_model_8/graph_conv_26/Reshape_12:0\", shape=(728, 128), dtype=float32), dense_shape=Tensor(\"gradient_tape/private__graph_conv_keras_model_8/graph_conv_26/Cast_1:0\", shape=(2,), dtype=int32))) to a dense Tensor of unknown shape. This may consume a large amount of memory.\n",
      "  \"shape. This may consume a large amount of memory.\" % value)\n",
      "/Users/ek/miniconda3/envs/cytoxnet/lib/python3.6/site-packages/tensorflow/python/framework/indexed_slices.py:437: UserWarning: Converting sparse IndexedSlices(IndexedSlices(indices=Tensor(\"gradient_tape/private__graph_conv_keras_model_8/graph_conv_26/Reshape_15:0\", shape=(630,), dtype=int32), values=Tensor(\"gradient_tape/private__graph_conv_keras_model_8/graph_conv_26/Reshape_14:0\", shape=(630, 128), dtype=float32), dense_shape=Tensor(\"gradient_tape/private__graph_conv_keras_model_8/graph_conv_26/Cast_2:0\", shape=(2,), dtype=int32))) to a dense Tensor of unknown shape. This may consume a large amount of memory.\n",
      "  \"shape. This may consume a large amount of memory.\" % value)\n",
      "/Users/ek/miniconda3/envs/cytoxnet/lib/python3.6/site-packages/tensorflow/python/framework/indexed_slices.py:437: UserWarning: Converting sparse IndexedSlices(IndexedSlices(indices=Tensor(\"gradient_tape/private__graph_conv_keras_model_8/graph_conv_26/Reshape_17:0\", shape=(80,), dtype=int32), values=Tensor(\"gradient_tape/private__graph_conv_keras_model_8/graph_conv_26/Reshape_16:0\", shape=(80, 128), dtype=float32), dense_shape=Tensor(\"gradient_tape/private__graph_conv_keras_model_8/graph_conv_26/Cast_3:0\", shape=(2,), dtype=int32))) to a dense Tensor of unknown shape. This may consume a large amount of memory.\n",
      "  \"shape. This may consume a large amount of memory.\" % value)\n",
      "/Users/ek/miniconda3/envs/cytoxnet/lib/python3.6/site-packages/tensorflow/python/framework/indexed_slices.py:437: UserWarning: Converting sparse IndexedSlices(IndexedSlices(indices=Tensor(\"gradient_tape/private__graph_conv_keras_model_8/graph_pool_25/Reshape_14:0\", shape=(200,), dtype=int32), values=Tensor(\"gradient_tape/private__graph_conv_keras_model_8/graph_pool_25/Reshape_13:0\", shape=(200, 128), dtype=float32), dense_shape=Tensor(\"gradient_tape/private__graph_conv_keras_model_8/graph_pool_25/Cast_4:0\", shape=(2,), dtype=int32))) to a dense Tensor of unknown shape. This may consume a large amount of memory.\n",
      "  \"shape. This may consume a large amount of memory.\" % value)\n",
      "/Users/ek/miniconda3/envs/cytoxnet/lib/python3.6/site-packages/tensorflow/python/framework/indexed_slices.py:437: UserWarning: Converting sparse IndexedSlices(IndexedSlices(indices=Tensor(\"gradient_tape/private__graph_conv_keras_model_8/graph_pool_25/Reshape_17:0\", shape=(728,), dtype=int32), values=Tensor(\"gradient_tape/private__graph_conv_keras_model_8/graph_pool_25/Reshape_16:0\", shape=(728, 128), dtype=float32), dense_shape=Tensor(\"gradient_tape/private__graph_conv_keras_model_8/graph_pool_25/Cast_5:0\", shape=(2,), dtype=int32))) to a dense Tensor of unknown shape. This may consume a large amount of memory.\n",
      "  \"shape. This may consume a large amount of memory.\" % value)\n",
      "/Users/ek/miniconda3/envs/cytoxnet/lib/python3.6/site-packages/tensorflow/python/framework/indexed_slices.py:437: UserWarning: Converting sparse IndexedSlices(IndexedSlices(indices=Tensor(\"gradient_tape/private__graph_conv_keras_model_8/graph_pool_25/Reshape_20:0\", shape=(630,), dtype=int32), values=Tensor(\"gradient_tape/private__graph_conv_keras_model_8/graph_pool_25/Reshape_19:0\", shape=(630, 128), dtype=float32), dense_shape=Tensor(\"gradient_tape/private__graph_conv_keras_model_8/graph_pool_25/Cast_6:0\", shape=(2,), dtype=int32))) to a dense Tensor of unknown shape. This may consume a large amount of memory.\n",
      "  \"shape. This may consume a large amount of memory.\" % value)\n",
      "/Users/ek/miniconda3/envs/cytoxnet/lib/python3.6/site-packages/tensorflow/python/framework/indexed_slices.py:437: UserWarning: Converting sparse IndexedSlices(IndexedSlices(indices=Tensor(\"gradient_tape/private__graph_conv_keras_model_8/graph_pool_25/Reshape_23:0\", shape=(80,), dtype=int32), values=Tensor(\"gradient_tape/private__graph_conv_keras_model_8/graph_pool_25/Reshape_22:0\", shape=(80, 128), dtype=float32), dense_shape=Tensor(\"gradient_tape/private__graph_conv_keras_model_8/graph_pool_25/Cast_7:0\", shape=(2,), dtype=int32))) to a dense Tensor of unknown shape. This may consume a large amount of memory.\n",
      "  \"shape. This may consume a large amount of memory.\" % value)\n",
      "/Users/ek/miniconda3/envs/cytoxnet/lib/python3.6/site-packages/tensorflow/python/framework/indexed_slices.py:437: UserWarning: Converting sparse IndexedSlices(IndexedSlices(indices=Tensor(\"gradient_tape/private__graph_conv_keras_model_8/graph_conv_25/Reshape_11:0\", shape=(200,), dtype=int32), values=Tensor(\"gradient_tape/private__graph_conv_keras_model_8/graph_conv_25/Reshape_10:0\", shape=(200, 128), dtype=float32), dense_shape=Tensor(\"gradient_tape/private__graph_conv_keras_model_8/graph_conv_25/Cast:0\", shape=(2,), dtype=int32))) to a dense Tensor of unknown shape. This may consume a large amount of memory.\n",
      "  \"shape. This may consume a large amount of memory.\" % value)\n",
      "/Users/ek/miniconda3/envs/cytoxnet/lib/python3.6/site-packages/tensorflow/python/framework/indexed_slices.py:437: UserWarning: Converting sparse IndexedSlices(IndexedSlices(indices=Tensor(\"gradient_tape/private__graph_conv_keras_model_8/graph_conv_25/Reshape_13:0\", shape=(728,), dtype=int32), values=Tensor(\"gradient_tape/private__graph_conv_keras_model_8/graph_conv_25/Reshape_12:0\", shape=(728, 128), dtype=float32), dense_shape=Tensor(\"gradient_tape/private__graph_conv_keras_model_8/graph_conv_25/Cast_1:0\", shape=(2,), dtype=int32))) to a dense Tensor of unknown shape. This may consume a large amount of memory.\n",
      "  \"shape. This may consume a large amount of memory.\" % value)\n",
      "/Users/ek/miniconda3/envs/cytoxnet/lib/python3.6/site-packages/tensorflow/python/framework/indexed_slices.py:437: UserWarning: Converting sparse IndexedSlices(IndexedSlices(indices=Tensor(\"gradient_tape/private__graph_conv_keras_model_8/graph_conv_25/Reshape_15:0\", shape=(630,), dtype=int32), values=Tensor(\"gradient_tape/private__graph_conv_keras_model_8/graph_conv_25/Reshape_14:0\", shape=(630, 128), dtype=float32), dense_shape=Tensor(\"gradient_tape/private__graph_conv_keras_model_8/graph_conv_25/Cast_2:0\", shape=(2,), dtype=int32))) to a dense Tensor of unknown shape. This may consume a large amount of memory.\n",
      "  \"shape. This may consume a large amount of memory.\" % value)\n",
      "/Users/ek/miniconda3/envs/cytoxnet/lib/python3.6/site-packages/tensorflow/python/framework/indexed_slices.py:437: UserWarning: Converting sparse IndexedSlices(IndexedSlices(indices=Tensor(\"gradient_tape/private__graph_conv_keras_model_8/graph_conv_25/Reshape_17:0\", shape=(80,), dtype=int32), values=Tensor(\"gradient_tape/private__graph_conv_keras_model_8/graph_conv_25/Reshape_16:0\", shape=(80, 128), dtype=float32), dense_shape=Tensor(\"gradient_tape/private__graph_conv_keras_model_8/graph_conv_25/Cast_3:0\", shape=(2,), dtype=int32))) to a dense Tensor of unknown shape. This may consume a large amount of memory.\n",
      "  \"shape. This may consume a large amount of memory.\" % value)\n",
      "/Users/ek/miniconda3/envs/cytoxnet/lib/python3.6/site-packages/tensorflow/python/framework/indexed_slices.py:437: UserWarning: Converting sparse IndexedSlices(IndexedSlices(indices=Tensor(\"gradient_tape/private__graph_conv_keras_model_8/graph_pool_24/Reshape_14:0\", shape=(200,), dtype=int32), values=Tensor(\"gradient_tape/private__graph_conv_keras_model_8/graph_pool_24/Reshape_13:0\", shape=(200, 128), dtype=float32), dense_shape=Tensor(\"gradient_tape/private__graph_conv_keras_model_8/graph_pool_24/Cast_4:0\", shape=(2,), dtype=int32))) to a dense Tensor of unknown shape. This may consume a large amount of memory.\n",
      "  \"shape. This may consume a large amount of memory.\" % value)\n",
      "/Users/ek/miniconda3/envs/cytoxnet/lib/python3.6/site-packages/tensorflow/python/framework/indexed_slices.py:437: UserWarning: Converting sparse IndexedSlices(IndexedSlices(indices=Tensor(\"gradient_tape/private__graph_conv_keras_model_8/graph_pool_24/Reshape_17:0\", shape=(728,), dtype=int32), values=Tensor(\"gradient_tape/private__graph_conv_keras_model_8/graph_pool_24/Reshape_16:0\", shape=(728, 128), dtype=float32), dense_shape=Tensor(\"gradient_tape/private__graph_conv_keras_model_8/graph_pool_24/Cast_5:0\", shape=(2,), dtype=int32))) to a dense Tensor of unknown shape. This may consume a large amount of memory.\n",
      "  \"shape. This may consume a large amount of memory.\" % value)\n",
      "/Users/ek/miniconda3/envs/cytoxnet/lib/python3.6/site-packages/tensorflow/python/framework/indexed_slices.py:437: UserWarning: Converting sparse IndexedSlices(IndexedSlices(indices=Tensor(\"gradient_tape/private__graph_conv_keras_model_8/graph_pool_24/Reshape_20:0\", shape=(630,), dtype=int32), values=Tensor(\"gradient_tape/private__graph_conv_keras_model_8/graph_pool_24/Reshape_19:0\", shape=(630, 128), dtype=float32), dense_shape=Tensor(\"gradient_tape/private__graph_conv_keras_model_8/graph_pool_24/Cast_6:0\", shape=(2,), dtype=int32))) to a dense Tensor of unknown shape. This may consume a large amount of memory.\n",
      "  \"shape. This may consume a large amount of memory.\" % value)\n",
      "/Users/ek/miniconda3/envs/cytoxnet/lib/python3.6/site-packages/tensorflow/python/framework/indexed_slices.py:437: UserWarning: Converting sparse IndexedSlices(IndexedSlices(indices=Tensor(\"gradient_tape/private__graph_conv_keras_model_8/graph_pool_24/Reshape_23:0\", shape=(80,), dtype=int32), values=Tensor(\"gradient_tape/private__graph_conv_keras_model_8/graph_pool_24/Reshape_22:0\", shape=(80, 128), dtype=float32), dense_shape=Tensor(\"gradient_tape/private__graph_conv_keras_model_8/graph_pool_24/Cast_7:0\", shape=(2,), dtype=int32))) to a dense Tensor of unknown shape. This may consume a large amount of memory.\n",
      "  \"shape. This may consume a large amount of memory.\" % value)\n",
      "/Users/ek/miniconda3/envs/cytoxnet/lib/python3.6/site-packages/tensorflow/python/framework/indexed_slices.py:437: UserWarning: Converting sparse IndexedSlices(IndexedSlices(indices=Tensor(\"gradient_tape/private__graph_conv_keras_model_8/graph_pool_26/Reshape_14:0\", shape=(None,), dtype=int32), values=Tensor(\"gradient_tape/private__graph_conv_keras_model_8/graph_pool_26/Reshape_13:0\", shape=(None, 128), dtype=float32), dense_shape=Tensor(\"gradient_tape/private__graph_conv_keras_model_8/graph_pool_26/Cast_4:0\", shape=(2,), dtype=int32))) to a dense Tensor of unknown shape. This may consume a large amount of memory.\n",
      "  \"shape. This may consume a large amount of memory.\" % value)\n",
      "/Users/ek/miniconda3/envs/cytoxnet/lib/python3.6/site-packages/tensorflow/python/framework/indexed_slices.py:437: UserWarning: Converting sparse IndexedSlices(IndexedSlices(indices=Tensor(\"gradient_tape/private__graph_conv_keras_model_8/graph_pool_26/Reshape_17:0\", shape=(None,), dtype=int32), values=Tensor(\"gradient_tape/private__graph_conv_keras_model_8/graph_pool_26/Reshape_16:0\", shape=(None, 128), dtype=float32), dense_shape=Tensor(\"gradient_tape/private__graph_conv_keras_model_8/graph_pool_26/Cast_5:0\", shape=(2,), dtype=int32))) to a dense Tensor of unknown shape. This may consume a large amount of memory.\n",
      "  \"shape. This may consume a large amount of memory.\" % value)\n",
      "/Users/ek/miniconda3/envs/cytoxnet/lib/python3.6/site-packages/tensorflow/python/framework/indexed_slices.py:437: UserWarning: Converting sparse IndexedSlices(IndexedSlices(indices=Tensor(\"gradient_tape/private__graph_conv_keras_model_8/graph_pool_26/Reshape_20:0\", shape=(None,), dtype=int32), values=Tensor(\"gradient_tape/private__graph_conv_keras_model_8/graph_pool_26/Reshape_19:0\", shape=(None, 128), dtype=float32), dense_shape=Tensor(\"gradient_tape/private__graph_conv_keras_model_8/graph_pool_26/Cast_6:0\", shape=(2,), dtype=int32))) to a dense Tensor of unknown shape. This may consume a large amount of memory.\n",
      "  \"shape. This may consume a large amount of memory.\" % value)\n",
      "/Users/ek/miniconda3/envs/cytoxnet/lib/python3.6/site-packages/tensorflow/python/framework/indexed_slices.py:437: UserWarning: Converting sparse IndexedSlices(IndexedSlices(indices=Tensor(\"gradient_tape/private__graph_conv_keras_model_8/graph_pool_26/Reshape_23:0\", shape=(None,), dtype=int32), values=Tensor(\"gradient_tape/private__graph_conv_keras_model_8/graph_pool_26/Reshape_22:0\", shape=(None, 128), dtype=float32), dense_shape=Tensor(\"gradient_tape/private__graph_conv_keras_model_8/graph_pool_26/Cast_7:0\", shape=(2,), dtype=int32))) to a dense Tensor of unknown shape. This may consume a large amount of memory.\n",
      "  \"shape. This may consume a large amount of memory.\" % value)\n",
      "/Users/ek/miniconda3/envs/cytoxnet/lib/python3.6/site-packages/tensorflow/python/framework/indexed_slices.py:437: UserWarning: Converting sparse IndexedSlices(IndexedSlices(indices=Tensor(\"gradient_tape/private__graph_conv_keras_model_8/graph_conv_26/Reshape_11:0\", shape=(None,), dtype=int32), values=Tensor(\"gradient_tape/private__graph_conv_keras_model_8/graph_conv_26/Reshape_10:0\", shape=(None, 128), dtype=float32), dense_shape=Tensor(\"gradient_tape/private__graph_conv_keras_model_8/graph_conv_26/Cast:0\", shape=(2,), dtype=int32))) to a dense Tensor of unknown shape. This may consume a large amount of memory.\n",
      "  \"shape. This may consume a large amount of memory.\" % value)\n",
      "/Users/ek/miniconda3/envs/cytoxnet/lib/python3.6/site-packages/tensorflow/python/framework/indexed_slices.py:437: UserWarning: Converting sparse IndexedSlices(IndexedSlices(indices=Tensor(\"gradient_tape/private__graph_conv_keras_model_8/graph_conv_26/Reshape_13:0\", shape=(None,), dtype=int32), values=Tensor(\"gradient_tape/private__graph_conv_keras_model_8/graph_conv_26/Reshape_12:0\", shape=(None, 128), dtype=float32), dense_shape=Tensor(\"gradient_tape/private__graph_conv_keras_model_8/graph_conv_26/Cast_1:0\", shape=(2,), dtype=int32))) to a dense Tensor of unknown shape. This may consume a large amount of memory.\n",
      "  \"shape. This may consume a large amount of memory.\" % value)\n",
      "/Users/ek/miniconda3/envs/cytoxnet/lib/python3.6/site-packages/tensorflow/python/framework/indexed_slices.py:437: UserWarning: Converting sparse IndexedSlices(IndexedSlices(indices=Tensor(\"gradient_tape/private__graph_conv_keras_model_8/graph_conv_26/Reshape_15:0\", shape=(None,), dtype=int32), values=Tensor(\"gradient_tape/private__graph_conv_keras_model_8/graph_conv_26/Reshape_14:0\", shape=(None, 128), dtype=float32), dense_shape=Tensor(\"gradient_tape/private__graph_conv_keras_model_8/graph_conv_26/Cast_2:0\", shape=(2,), dtype=int32))) to a dense Tensor of unknown shape. This may consume a large amount of memory.\n",
      "  \"shape. This may consume a large amount of memory.\" % value)\n",
      "/Users/ek/miniconda3/envs/cytoxnet/lib/python3.6/site-packages/tensorflow/python/framework/indexed_slices.py:437: UserWarning: Converting sparse IndexedSlices(IndexedSlices(indices=Tensor(\"gradient_tape/private__graph_conv_keras_model_8/graph_conv_26/Reshape_17:0\", shape=(None,), dtype=int32), values=Tensor(\"gradient_tape/private__graph_conv_keras_model_8/graph_conv_26/Reshape_16:0\", shape=(None, 128), dtype=float32), dense_shape=Tensor(\"gradient_tape/private__graph_conv_keras_model_8/graph_conv_26/Cast_3:0\", shape=(2,), dtype=int32))) to a dense Tensor of unknown shape. This may consume a large amount of memory.\n",
      "  \"shape. This may consume a large amount of memory.\" % value)\n",
      "/Users/ek/miniconda3/envs/cytoxnet/lib/python3.6/site-packages/tensorflow/python/framework/indexed_slices.py:437: UserWarning: Converting sparse IndexedSlices(IndexedSlices(indices=Tensor(\"gradient_tape/private__graph_conv_keras_model_8/graph_pool_25/Reshape_14:0\", shape=(None,), dtype=int32), values=Tensor(\"gradient_tape/private__graph_conv_keras_model_8/graph_pool_25/Reshape_13:0\", shape=(None, 128), dtype=float32), dense_shape=Tensor(\"gradient_tape/private__graph_conv_keras_model_8/graph_pool_25/Cast_4:0\", shape=(2,), dtype=int32))) to a dense Tensor of unknown shape. This may consume a large amount of memory.\n",
      "  \"shape. This may consume a large amount of memory.\" % value)\n",
      "/Users/ek/miniconda3/envs/cytoxnet/lib/python3.6/site-packages/tensorflow/python/framework/indexed_slices.py:437: UserWarning: Converting sparse IndexedSlices(IndexedSlices(indices=Tensor(\"gradient_tape/private__graph_conv_keras_model_8/graph_pool_25/Reshape_17:0\", shape=(None,), dtype=int32), values=Tensor(\"gradient_tape/private__graph_conv_keras_model_8/graph_pool_25/Reshape_16:0\", shape=(None, 128), dtype=float32), dense_shape=Tensor(\"gradient_tape/private__graph_conv_keras_model_8/graph_pool_25/Cast_5:0\", shape=(2,), dtype=int32))) to a dense Tensor of unknown shape. This may consume a large amount of memory.\n",
      "  \"shape. This may consume a large amount of memory.\" % value)\n",
      "/Users/ek/miniconda3/envs/cytoxnet/lib/python3.6/site-packages/tensorflow/python/framework/indexed_slices.py:437: UserWarning: Converting sparse IndexedSlices(IndexedSlices(indices=Tensor(\"gradient_tape/private__graph_conv_keras_model_8/graph_pool_25/Reshape_20:0\", shape=(None,), dtype=int32), values=Tensor(\"gradient_tape/private__graph_conv_keras_model_8/graph_pool_25/Reshape_19:0\", shape=(None, 128), dtype=float32), dense_shape=Tensor(\"gradient_tape/private__graph_conv_keras_model_8/graph_pool_25/Cast_6:0\", shape=(2,), dtype=int32))) to a dense Tensor of unknown shape. This may consume a large amount of memory.\n",
      "  \"shape. This may consume a large amount of memory.\" % value)\n",
      "/Users/ek/miniconda3/envs/cytoxnet/lib/python3.6/site-packages/tensorflow/python/framework/indexed_slices.py:437: UserWarning: Converting sparse IndexedSlices(IndexedSlices(indices=Tensor(\"gradient_tape/private__graph_conv_keras_model_8/graph_pool_25/Reshape_23:0\", shape=(None,), dtype=int32), values=Tensor(\"gradient_tape/private__graph_conv_keras_model_8/graph_pool_25/Reshape_22:0\", shape=(None, 128), dtype=float32), dense_shape=Tensor(\"gradient_tape/private__graph_conv_keras_model_8/graph_pool_25/Cast_7:0\", shape=(2,), dtype=int32))) to a dense Tensor of unknown shape. This may consume a large amount of memory.\n",
      "  \"shape. This may consume a large amount of memory.\" % value)\n",
      "/Users/ek/miniconda3/envs/cytoxnet/lib/python3.6/site-packages/tensorflow/python/framework/indexed_slices.py:437: UserWarning: Converting sparse IndexedSlices(IndexedSlices(indices=Tensor(\"gradient_tape/private__graph_conv_keras_model_8/graph_conv_25/Reshape_11:0\", shape=(None,), dtype=int32), values=Tensor(\"gradient_tape/private__graph_conv_keras_model_8/graph_conv_25/Reshape_10:0\", shape=(None, 128), dtype=float32), dense_shape=Tensor(\"gradient_tape/private__graph_conv_keras_model_8/graph_conv_25/Cast:0\", shape=(2,), dtype=int32))) to a dense Tensor of unknown shape. This may consume a large amount of memory.\n",
      "  \"shape. This may consume a large amount of memory.\" % value)\n",
      "/Users/ek/miniconda3/envs/cytoxnet/lib/python3.6/site-packages/tensorflow/python/framework/indexed_slices.py:437: UserWarning: Converting sparse IndexedSlices(IndexedSlices(indices=Tensor(\"gradient_tape/private__graph_conv_keras_model_8/graph_conv_25/Reshape_13:0\", shape=(None,), dtype=int32), values=Tensor(\"gradient_tape/private__graph_conv_keras_model_8/graph_conv_25/Reshape_12:0\", shape=(None, 128), dtype=float32), dense_shape=Tensor(\"gradient_tape/private__graph_conv_keras_model_8/graph_conv_25/Cast_1:0\", shape=(2,), dtype=int32))) to a dense Tensor of unknown shape. This may consume a large amount of memory.\n",
      "  \"shape. This may consume a large amount of memory.\" % value)\n",
      "/Users/ek/miniconda3/envs/cytoxnet/lib/python3.6/site-packages/tensorflow/python/framework/indexed_slices.py:437: UserWarning: Converting sparse IndexedSlices(IndexedSlices(indices=Tensor(\"gradient_tape/private__graph_conv_keras_model_8/graph_conv_25/Reshape_15:0\", shape=(None,), dtype=int32), values=Tensor(\"gradient_tape/private__graph_conv_keras_model_8/graph_conv_25/Reshape_14:0\", shape=(None, 128), dtype=float32), dense_shape=Tensor(\"gradient_tape/private__graph_conv_keras_model_8/graph_conv_25/Cast_2:0\", shape=(2,), dtype=int32))) to a dense Tensor of unknown shape. This may consume a large amount of memory.\n",
      "  \"shape. This may consume a large amount of memory.\" % value)\n",
      "/Users/ek/miniconda3/envs/cytoxnet/lib/python3.6/site-packages/tensorflow/python/framework/indexed_slices.py:437: UserWarning: Converting sparse IndexedSlices(IndexedSlices(indices=Tensor(\"gradient_tape/private__graph_conv_keras_model_8/graph_conv_25/Reshape_17:0\", shape=(None,), dtype=int32), values=Tensor(\"gradient_tape/private__graph_conv_keras_model_8/graph_conv_25/Reshape_16:0\", shape=(None, 128), dtype=float32), dense_shape=Tensor(\"gradient_tape/private__graph_conv_keras_model_8/graph_conv_25/Cast_3:0\", shape=(2,), dtype=int32))) to a dense Tensor of unknown shape. This may consume a large amount of memory.\n",
      "  \"shape. This may consume a large amount of memory.\" % value)\n",
      "/Users/ek/miniconda3/envs/cytoxnet/lib/python3.6/site-packages/tensorflow/python/framework/indexed_slices.py:437: UserWarning: Converting sparse IndexedSlices(IndexedSlices(indices=Tensor(\"gradient_tape/private__graph_conv_keras_model_8/graph_pool_24/Reshape_14:0\", shape=(None,), dtype=int32), values=Tensor(\"gradient_tape/private__graph_conv_keras_model_8/graph_pool_24/Reshape_13:0\", shape=(None, 128), dtype=float32), dense_shape=Tensor(\"gradient_tape/private__graph_conv_keras_model_8/graph_pool_24/Cast_4:0\", shape=(2,), dtype=int32))) to a dense Tensor of unknown shape. This may consume a large amount of memory.\n",
      "  \"shape. This may consume a large amount of memory.\" % value)\n",
      "/Users/ek/miniconda3/envs/cytoxnet/lib/python3.6/site-packages/tensorflow/python/framework/indexed_slices.py:437: UserWarning: Converting sparse IndexedSlices(IndexedSlices(indices=Tensor(\"gradient_tape/private__graph_conv_keras_model_8/graph_pool_24/Reshape_17:0\", shape=(None,), dtype=int32), values=Tensor(\"gradient_tape/private__graph_conv_keras_model_8/graph_pool_24/Reshape_16:0\", shape=(None, 128), dtype=float32), dense_shape=Tensor(\"gradient_tape/private__graph_conv_keras_model_8/graph_pool_24/Cast_5:0\", shape=(2,), dtype=int32))) to a dense Tensor of unknown shape. This may consume a large amount of memory.\n",
      "  \"shape. This may consume a large amount of memory.\" % value)\n",
      "/Users/ek/miniconda3/envs/cytoxnet/lib/python3.6/site-packages/tensorflow/python/framework/indexed_slices.py:437: UserWarning: Converting sparse IndexedSlices(IndexedSlices(indices=Tensor(\"gradient_tape/private__graph_conv_keras_model_8/graph_pool_24/Reshape_20:0\", shape=(None,), dtype=int32), values=Tensor(\"gradient_tape/private__graph_conv_keras_model_8/graph_pool_24/Reshape_19:0\", shape=(None, 128), dtype=float32), dense_shape=Tensor(\"gradient_tape/private__graph_conv_keras_model_8/graph_pool_24/Cast_6:0\", shape=(2,), dtype=int32))) to a dense Tensor of unknown shape. This may consume a large amount of memory.\n",
      "  \"shape. This may consume a large amount of memory.\" % value)\n",
      "/Users/ek/miniconda3/envs/cytoxnet/lib/python3.6/site-packages/tensorflow/python/framework/indexed_slices.py:437: UserWarning: Converting sparse IndexedSlices(IndexedSlices(indices=Tensor(\"gradient_tape/private__graph_conv_keras_model_8/graph_pool_24/Reshape_23:0\", shape=(None,), dtype=int32), values=Tensor(\"gradient_tape/private__graph_conv_keras_model_8/graph_pool_24/Reshape_22:0\", shape=(None, 128), dtype=float32), dense_shape=Tensor(\"gradient_tape/private__graph_conv_keras_model_8/graph_pool_24/Cast_7:0\", shape=(2,), dtype=int32))) to a dense Tensor of unknown shape. This may consume a large amount of memory.\n",
      "  \"shape. This may consume a large amount of memory.\" % value)\n"
     ]
    },
    {
     "data": {
      "text/plain": [
       "0.027182610034942628"
      ]
     },
     "execution_count": 37,
     "metadata": {},
     "output_type": "execute_result"
    }
   ],
   "source": [
    "transfer.fit(rat_normed, nb_epoch=200)"
   ]
  },
  {
   "cell_type": "markdown",
   "id": "352ae472-c98e-46ca-83ea-d3e34a7a845f",
   "metadata": {},
   "source": [
    "Switch to new target"
   ]
  },
  {
   "cell_type": "code",
   "execution_count": 38,
   "id": "0d607ed5-e120-4f41-9682-25c2cc5111ee",
   "metadata": {},
   "outputs": [],
   "source": [
    "transfer.transformers = algea_transformations"
   ]
  },
  {
   "cell_type": "markdown",
   "id": "d1f070be-0060-4000-8323-822d4f6a2af3",
   "metadata": {},
   "source": [
    "Fix all but the dense output layer - this allows the learned relationship between molecule and toxic function learned from tyhe rat data to remain, but the exact relationship/mechanism between the toxicity and the species of interest to be retrained."
   ]
  },
  {
   "cell_type": "code",
   "execution_count": 39,
   "id": "dd895090-5c98-45a8-b676-f901e53f50d8",
   "metadata": {},
   "outputs": [],
   "source": [
    "for layer in transfer._model.model.layers[:-1]:\n",
    "    layer.trainable = False"
   ]
  },
  {
   "cell_type": "code",
   "execution_count": 45,
   "id": "16863858-a8e2-4a63-b853-73f37a252df0",
   "metadata": {},
   "outputs": [
    {
     "data": {
      "text/plain": [
       "0.021781232357025147"
      ]
     },
     "execution_count": 45,
     "metadata": {},
     "output_type": "execute_result"
    }
   ],
   "source": [
    "transfer.fit(algea_dev, nb_epoch=100)"
   ]
  },
  {
   "cell_type": "code",
   "execution_count": 46,
   "id": "13196abb-ce31-44fd-8cfc-8b928a94f180",
   "metadata": {},
   "outputs": [
    {
     "data": {
      "text/plain": [
       "{'metric-1': 0.39858004705650507, 'metric-2': 2.7106639178915977}"
      ]
     },
     "execution_count": 46,
     "metadata": {},
     "output_type": "execute_result"
    }
   ],
   "source": [
    "transfer.evaluate(algea_test, ['r2_score', 'mean_squared_error'], untransform=True)"
   ]
  },
  {
   "cell_type": "code",
   "execution_count": 47,
   "id": "0a9f819c-e1fd-446b-8f3e-97281a5eaa4c",
   "metadata": {},
   "outputs": [
    {
     "name": "stdout",
     "output_type": "stream",
     "text": [
      "(288, 1)\n"
     ]
    },
    {
     "data": {
      "text/html": [
       "\n",
       "<div id=\"altair-viz-3a5c3fb6cf294775ab9e281423796130\"></div>\n",
       "<script type=\"text/javascript\">\n",
       "  (function(spec, embedOpt){\n",
       "    let outputDiv = document.currentScript.previousElementSibling;\n",
       "    if (outputDiv.id !== \"altair-viz-3a5c3fb6cf294775ab9e281423796130\") {\n",
       "      outputDiv = document.getElementById(\"altair-viz-3a5c3fb6cf294775ab9e281423796130\");\n",
       "    }\n",
       "    const paths = {\n",
       "      \"vega\": \"https://cdn.jsdelivr.net/npm//vega@5?noext\",\n",
       "      \"vega-lib\": \"https://cdn.jsdelivr.net/npm//vega-lib?noext\",\n",
       "      \"vega-lite\": \"https://cdn.jsdelivr.net/npm//vega-lite@4.8.1?noext\",\n",
       "      \"vega-embed\": \"https://cdn.jsdelivr.net/npm//vega-embed@6?noext\",\n",
       "    };\n",
       "\n",
       "    function loadScript(lib) {\n",
       "      return new Promise(function(resolve, reject) {\n",
       "        var s = document.createElement('script');\n",
       "        s.src = paths[lib];\n",
       "        s.async = true;\n",
       "        s.onload = () => resolve(paths[lib]);\n",
       "        s.onerror = () => reject(`Error loading script: ${paths[lib]}`);\n",
       "        document.getElementsByTagName(\"head\")[0].appendChild(s);\n",
       "      });\n",
       "    }\n",
       "\n",
       "    function showError(err) {\n",
       "      outputDiv.innerHTML = `<div class=\"error\" style=\"color:red;\">${err}</div>`;\n",
       "      throw err;\n",
       "    }\n",
       "\n",
       "    function displayChart(vegaEmbed) {\n",
       "      vegaEmbed(outputDiv, spec, embedOpt)\n",
       "        .catch(err => showError(`Javascript Error: ${err.message}<br>This usually means there's a typo in your chart specification. See the javascript console for the full traceback.`));\n",
       "    }\n",
       "\n",
       "    if(typeof define === \"function\" && define.amd) {\n",
       "      requirejs.config({paths});\n",
       "      require([\"vega-embed\"], displayChart, err => showError(`Error loading script: ${err.message}`));\n",
       "    } else if (typeof vegaEmbed === \"function\") {\n",
       "      displayChart(vegaEmbed);\n",
       "    } else {\n",
       "      loadScript(\"vega\")\n",
       "        .then(() => loadScript(\"vega-lite\"))\n",
       "        .then(() => loadScript(\"vega-embed\"))\n",
       "        .catch(showError)\n",
       "        .then(() => displayChart(vegaEmbed));\n",
       "    }\n",
       "  })({\"config\": {\"view\": {\"continuousWidth\": 400, \"continuousHeight\": 300}}, \"layer\": [{\"mark\": \"point\", \"encoding\": {\"x\": {\"type\": \"quantitative\", \"field\": \"target: true\", \"scale\": {\"zero\": false}}, \"y\": {\"type\": \"quantitative\", \"field\": \"target: predicted\", \"scale\": {\"zero\": false}}}}, {\"mark\": \"line\", \"encoding\": {\"x\": {\"type\": \"quantitative\", \"field\": \"target: true\", \"scale\": {\"zero\": false}}, \"y\": {\"type\": \"quantitative\", \"field\": \"target: predicted\", \"scale\": {\"zero\": false}}}, \"transform\": [{\"on\": \"target: true\", \"regression\": \"target: predicted\"}]}, {\"data\": {\"name\": \"data-b50e8c9187d2230f7576e04a0dce8ed1\"}, \"mark\": {\"type\": \"line\", \"color\": \"black\"}, \"encoding\": {\"x\": {\"type\": \"quantitative\", \"field\": \"target: true\"}, \"y\": {\"type\": \"quantitative\", \"field\": \"target: predicted\"}}}], \"data\": {\"name\": \"data-79c4271cac56154928d014158eef96eb\"}, \"$schema\": \"https://vega.github.io/schema/vega-lite/v4.8.1.json\", \"datasets\": {\"data-79c4271cac56154928d014158eef96eb\": [{\"target: true\": 6.434546518787452, \"target: predicted\": 5.997572302171717}, {\"target: true\": 0.4700036292457357, \"target: predicted\": 2.833116850375494}, {\"target: true\": 3.949318790171843, \"target: predicted\": 1.9120666796025532}, {\"target: true\": 1.9466241797889705, \"target: predicted\": 0.7293679115999798}, {\"target: true\": 2.0149030205422647, \"target: predicted\": 2.693731126728268}, {\"target: true\": 3.4011973816621555, \"target: predicted\": 3.4286690187427418}, {\"target: true\": 4.382026634673881, \"target: predicted\": 3.5917389695121757}, {\"target: true\": 2.2192034840549946, \"target: predicted\": 3.44161987432698}, {\"target: true\": 1.6928595205731731, \"target: predicted\": 3.903113861424772}, {\"target: true\": 2.3513752571634776, \"target: predicted\": 2.73963751626768}, {\"target: true\": 1.1275236321625297, \"target: predicted\": 1.53550092318947}, {\"target: true\": 2.2728472747300894, \"target: predicted\": 2.824523533319761}, {\"target: true\": 1.631199404215613, \"target: predicted\": 2.6295839518709214}, {\"target: true\": 2.6390573296152584, \"target: predicted\": 2.1563797316386975}, {\"target: true\": 1.2669476034873246, \"target: predicted\": 2.018105295428426}, {\"target: true\": 2.174751721484161, \"target: predicted\": 4.817832372177217}, {\"target: true\": 2.4849066497880004, \"target: predicted\": 0.17790035123577663}, {\"target: true\": 1.308332819650179, \"target: predicted\": -1.3748922092498663}, {\"target: true\": 2.631888840136646, \"target: predicted\": 3.2480622688926486}, {\"target: true\": -0.7113111511876165, \"target: predicted\": 2.2084012898170213}, {\"target: true\": 0.6936470556015963, \"target: predicted\": 2.335360513126893}, {\"target: true\": 2.312535423847214, \"target: predicted\": 2.032594805557553}, {\"target: true\": 2.4849066497880004, \"target: predicted\": 1.9214284842065839}, {\"target: true\": 2.5877640352277083, \"target: predicted\": 2.753367250986532}, {\"target: true\": 0.18232155679395445, \"target: predicted\": 2.1388691739376244}, {\"target: true\": 4.032469158504013, \"target: predicted\": 2.09195742466352}, {\"target: true\": 3.7841896339182615, \"target: predicted\": 6.1381370859922395}, {\"target: true\": 1.5260563034950492, \"target: predicted\": 3.682155007426911}, {\"target: true\": 1.8946168546677629, \"target: predicted\": 3.549290144146994}, {\"target: true\": 0.6931471805599454, \"target: predicted\": 2.5592999679836312}, {\"target: true\": 3.4339872044851463, \"target: predicted\": 3.659783636525382}, {\"target: true\": 2.4849066497880004, \"target: predicted\": 2.331869884814385}, {\"target: true\": 4.430816798843313, \"target: predicted\": 4.190153127702573}, {\"target: true\": 2.429217743927412, \"target: predicted\": 1.0349281336584277}, {\"target: true\": 1.6486586255873816, \"target: predicted\": 2.890061273869867}, {\"target: true\": 1.2178757094949273, \"target: predicted\": -0.7495683910068469}, {\"target: true\": 7.733254406894402, \"target: predicted\": 5.526494893272165}, {\"target: true\": 4.110873864173311, \"target: predicted\": 3.6692285738199404}, {\"target: true\": 2.5649493574615367, \"target: predicted\": 1.5842499888966564}, {\"target: true\": 3.828641396489095, \"target: predicted\": 1.9476886176316968}, {\"target: true\": 2.7278528283983903, \"target: predicted\": 0.731681631532316}, {\"target: true\": 4.276666119016055, \"target: predicted\": 3.9527667502219064}, {\"target: true\": 2.3702437414678603, \"target: predicted\": 2.6478462901086224}, {\"target: true\": 0.0, \"target: predicted\": 1.5480870585859714}, {\"target: true\": 0.9932517730102837, \"target: predicted\": 1.1694558606799401}, {\"target: true\": 3.0445224377234235, \"target: predicted\": 0.8788075999734453}, {\"target: true\": 1.5129270120532563, \"target: predicted\": 2.658706442498498}, {\"target: true\": 5.298317366548035, \"target: predicted\": 4.691535201380043}, {\"target: true\": 4.008023855755574, \"target: predicted\": 1.629666189465405}, {\"target: true\": 8.766914796271609, \"target: predicted\": 5.43625589719837}, {\"target: true\": 3.9376907521767235, \"target: predicted\": -0.7535181734850949}, {\"target: true\": 0.8329091229351038, \"target: predicted\": 0.4444280956430693}, {\"target: true\": 5.143416405330075, \"target: predicted\": 5.773814927500798}, {\"target: true\": 4.30406509320417, \"target: predicted\": 4.618998430043815}, {\"target: true\": 3.8856790300885438, \"target: predicted\": 2.387436600891996}, {\"target: true\": 4.68213122712422, \"target: predicted\": 1.0490017704038785}, {\"target: true\": 2.4849066497880004, \"target: predicted\": 0.6490848249640377}, {\"target: true\": 0.33647223662121295, \"target: predicted\": 1.1250126204892223}, {\"target: true\": 3.942552210462969, \"target: predicted\": 5.589688893751689}, {\"target: true\": 3.0910424533583165, \"target: predicted\": 3.338340242162256}, {\"target: true\": -0.648173814917214, \"target: predicted\": 2.4006636207549956}, {\"target: true\": 2.322387720290225, \"target: predicted\": 4.89151396743351}, {\"target: true\": 4.4549866267219445, \"target: predicted\": 5.353854046586161}, {\"target: true\": 1.4929040961781486, \"target: predicted\": 0.49203275729226403}, {\"target: true\": 2.3978952727983707, \"target: predicted\": 1.009685745899172}, {\"target: true\": 3.9357395320454622, \"target: predicted\": 1.3021620160961223}, {\"target: true\": 4.155753190350744, \"target: predicted\": 3.655299089719681}, {\"target: true\": 0.4700036292457357, \"target: predicted\": 0.3436036769294084}, {\"target: true\": 0.5306282510621703, \"target: predicted\": 1.703709635851933}, {\"target: true\": 3.737669618283368, \"target: predicted\": 3.0718056400077653}, {\"target: true\": 1.7404661748405046, \"target: predicted\": 2.347766807601966}, {\"target: true\": 3.635742355700808, \"target: predicted\": 3.396507723876366}, {\"target: true\": 1.7047480922384253, \"target: predicted\": 4.953127886976905}, {\"target: true\": 2.281361456542419, \"target: predicted\": 4.437375613976158}, {\"target: true\": 3.1780538303479458, \"target: predicted\": 3.6165660437038536}, {\"target: true\": 2.4849066497880004, \"target: predicted\": 1.219045210349971}, {\"target: true\": 1.6639260977181702, \"target: predicted\": 2.562605961949373}, {\"target: true\": 0.4054651081081646, \"target: predicted\": 4.14610371813668}, {\"target: true\": 3.3672958299864737, \"target: predicted\": 1.1676150453962468}, {\"target: true\": -0.6539264674066634, \"target: predicted\": 1.155824198743727}, {\"target: true\": 4.382026634673881, \"target: predicted\": 1.7348977604092415}, {\"target: true\": 3.5263605246161616, \"target: predicted\": 4.826890196640125}, {\"target: true\": 2.7013612129514133, \"target: predicted\": 2.6901214850122117}, {\"target: true\": -0.8209805520698303, \"target: predicted\": -0.06618772470605183}, {\"target: true\": 4.131961425793407, \"target: predicted\": 2.283954280311351}, {\"target: true\": 3.218875824868201, \"target: predicted\": 3.479177446491387}, {\"target: true\": 6.717804695023692, \"target: predicted\": 3.905096310181216}, {\"target: true\": 4.553876891600541, \"target: predicted\": 3.4103555448033545}, {\"target: true\": -0.693147180559945, \"target: predicted\": -1.3004170746748982}, {\"target: true\": 1.8251942453142924, \"target: predicted\": 1.081553117136418}, {\"target: true\": 5.196838197598184, \"target: predicted\": 4.596822854822503}, {\"target: true\": 4.59511985013459, \"target: predicted\": 2.7574389509143353}, {\"target: true\": 6.956545443151568, \"target: predicted\": 2.404764011257813}, {\"target: true\": 1.5040773967762742, \"target: predicted\": 1.608005295169036}, {\"target: true\": 2.248128907197987, \"target: predicted\": 2.257599992816284}, {\"target: true\": 0.2546422183735806, \"target: predicted\": -1.3769601699152547}, {\"target: true\": 2.26176309847379, \"target: predicted\": 3.7172994223246043}, {\"target: true\": 2.151762203259462, \"target: predicted\": 3.172841599229394}, {\"target: true\": 1.5706970841176695, \"target: predicted\": 4.011153749823379}, {\"target: true\": 5.9140434001393976, \"target: predicted\": 3.949995660537642}, {\"target: true\": 6.481776190626265, \"target: predicted\": 4.930538187797222}, {\"target: true\": -3.540459448995663, \"target: predicted\": 1.8183373701128045}, {\"target: true\": 2.5877640352277083, \"target: predicted\": 2.896814545389041}, {\"target: true\": 3.2148678034706624, \"target: predicted\": 3.214138113134203}, {\"target: true\": 0.39877611995736784, \"target: predicted\": 2.2753610332326306}, {\"target: true\": 1.5953389880545987, \"target: predicted\": 2.3121763242398194}, {\"target: true\": 4.448516375942715, \"target: predicted\": 2.4264859080145924}, {\"target: true\": 3.3904734182991803, \"target: predicted\": 3.227367057365039}, {\"target: true\": 3.258096538021482, \"target: predicted\": 4.215182225528556}, {\"target: true\": 4.219507705176107, \"target: predicted\": 3.8388014883358057}, {\"target: true\": 4.543294782270004, \"target: predicted\": 6.440249120796096}, {\"target: true\": 2.1198634561787517, \"target: predicted\": 1.5292409896065098}, {\"target: true\": 4.394449154672439, \"target: predicted\": 2.8998337035816566}, {\"target: true\": 2.263844264677615, \"target: predicted\": 3.1293004327033187}, {\"target: true\": 4.0163830207523885, \"target: predicted\": 1.8592714030942679}, {\"target: true\": 4.23410650459726, \"target: predicted\": 1.3205038307254622}, {\"target: true\": 3.0910424533583165, \"target: predicted\": 2.5854675218215655}, {\"target: true\": 4.477336814478207, \"target: predicted\": 3.3669265514278823}, {\"target: true\": 3.0204248861443626, \"target: predicted\": 3.858161748401125}, {\"target: true\": 3.517497837358316, \"target: predicted\": 2.067898348181055}, {\"target: true\": 0.5766133643039937, \"target: predicted\": -1.4686238979580306}, {\"target: true\": 5.187385805840755, \"target: predicted\": 3.7175419626489896}, {\"target: true\": 4.700480365792417, \"target: predicted\": 2.9512247513855447}, {\"target: true\": 6.1092475827643655, \"target: predicted\": 4.557509489444261}, {\"target: true\": 2.9444389791664403, \"target: predicted\": 2.345580620774417}, {\"target: true\": 3.3221541743217022, \"target: predicted\": 2.3573224485298705}, {\"target: true\": -0.4620354595965588, \"target: predicted\": 1.472560239494215}, {\"target: true\": 1.9657127763514932, \"target: predicted\": 1.5321103270159435}, {\"target: true\": -0.5108256237659905, \"target: predicted\": 0.7699540188766409}, {\"target: true\": -0.4780358009429997, \"target: predicted\": -1.086351516197681}, {\"target: true\": 4.176538799848087, \"target: predicted\": 2.0044265389629823}, {\"target: true\": 3.49650756146648, \"target: predicted\": 2.7226173574683066}, {\"target: true\": 2.2235418856535927, \"target: predicted\": 4.6316372581305245}, {\"target: true\": 0.33647223662121295, \"target: predicted\": 0.9307259245644781}, {\"target: true\": 2.8015405441895487, \"target: predicted\": 6.241203988039787}, {\"target: true\": 0.10705907229340772, \"target: predicted\": 1.0608487386202061}, {\"target: true\": 4.158883083359672, \"target: predicted\": 3.205912595254745}, {\"target: true\": 4.841822087327094, \"target: predicted\": 3.947108548967102}, {\"target: true\": -0.4004775665971252, \"target: predicted\": 1.2775138031477018}, {\"target: true\": 1.6639260977181702, \"target: predicted\": 1.7579629533870196}, {\"target: true\": 6.665683717782406, \"target: predicted\": 5.603865116797067}, {\"target: true\": 4.174387269895637, \"target: predicted\": 2.2766936404650115}, {\"target: true\": 6.075346031088683, \"target: predicted\": 5.2778741263402225}, {\"target: true\": -1.5606477482646683, \"target: predicted\": 1.5345038907192328}, {\"target: true\": -0.16251892949777513, \"target: predicted\": 0.8416356711234318}, {\"target: true\": 4.189654742026425, \"target: predicted\": 2.9819879055475873}, {\"target: true\": 4.867534450455581, \"target: predicted\": 2.9855363698607023}, {\"target: true\": 0.8754687373538999, \"target: predicted\": -2.931728181456119}, {\"target: true\": 3.1354942159291497, \"target: predicted\": 2.6201721311974002}, {\"target: true\": -1.1086626245216111, \"target: predicted\": 4.377372145392199}, {\"target: true\": 2.312535423847214, \"target: predicted\": 0.8703903450804804}, {\"target: true\": 1.01160091167848, \"target: predicted\": 3.791936623659895}, {\"target: true\": 1.1693813595563172, \"target: predicted\": 0.6874596586542658}, {\"target: true\": 4.663439094112067, \"target: predicted\": 4.343307755701247}, {\"target: true\": 3.7612001156935615, \"target: predicted\": 2.547029848774356}, {\"target: true\": 3.4339872044851463, \"target: predicted\": 3.885126550339383}, {\"target: true\": 4.469350462845557, \"target: predicted\": 1.720127782415101}, {\"target: true\": 3.8264651170664994, \"target: predicted\": 3.4799152841083285}, {\"target: true\": 2.4849066497880004, \"target: predicted\": 2.04160329622684}, {\"target: true\": 3.258096538021482, \"target: predicted\": 3.413056097659292}, {\"target: true\": 3.2196355362144433, \"target: predicted\": 3.8151587750761022}, {\"target: true\": 2.3978952727983707, \"target: predicted\": 0.9822130508061566}, {\"target: true\": 2.3978952727983707, \"target: predicted\": 0.1593654000526845}, {\"target: true\": 1.8794650496471603, \"target: predicted\": 1.620599897784017}, {\"target: true\": 0.6931471805599454, \"target: predicted\": 0.8623355711108611}, {\"target: true\": 2.4336133554004498, \"target: predicted\": 1.8837977860643975}, {\"target: true\": 4.219507705176107, \"target: predicted\": 4.0876397438217555}, {\"target: true\": -1.5945492999403497, \"target: predicted\": -3.8044109411465694}, {\"target: true\": 3.688879454113936, \"target: predicted\": 2.547105493924575}, {\"target: true\": 4.314323110193153, \"target: predicted\": 1.4159871840037406}, {\"target: true\": -1.0498221244986778, \"target: predicted\": -0.36058717313008914}, {\"target: true\": 3.288401887516811, \"target: predicted\": 3.9634632963571907}, {\"target: true\": 3.5681232529781366, \"target: predicted\": 2.028048189142005}, {\"target: true\": -2.441847160327554, \"target: predicted\": -3.4623728222453947}, {\"target: true\": 3.555348061489413, \"target: predicted\": 5.3341163305168795}, {\"target: true\": -0.744440474947496, \"target: predicted\": -1.706944608505978}, {\"target: true\": -2.10373423424888, \"target: predicted\": 0.6687254129403462}, {\"target: true\": 1.6639260977181702, \"target: predicted\": 2.724972363837858}, {\"target: true\": -1.1394342831883648, \"target: predicted\": 1.5928209133084759}, {\"target: true\": 3.610917912644224, \"target: predicted\": 2.8168104571008556}, {\"target: true\": 3.8501476017100575, \"target: predicted\": 4.455217092968062}, {\"target: true\": 2.827313621929028, \"target: predicted\": 2.0172016122925016}, {\"target: true\": 6.908316121680465, \"target: predicted\": 3.153939688594174}, {\"target: true\": 4.5321692931036015, \"target: predicted\": 4.398077643540606}, {\"target: true\": 4.4067192472642525, \"target: predicted\": 4.467163708449803}, {\"target: true\": 0.9932517730102837, \"target: predicted\": 1.173538039665325}, {\"target: true\": 1.8309801823813363, \"target: predicted\": 2.555376636816006}, {\"target: true\": 1.9459101490553128, \"target: predicted\": 0.9063751838950429}, {\"target: true\": -0.15782408519356705, \"target: predicted\": 0.524547855932469}, {\"target: true\": 1.4816045409242156, \"target: predicted\": 4.167913593492084}, {\"target: true\": 3.6635616461296463, \"target: predicted\": 4.639762009112372}, {\"target: true\": 1.1631508098056809, \"target: predicted\": 1.080941378095513}, {\"target: true\": 3.4011973816621555, \"target: predicted\": 3.5366701398765734}, {\"target: true\": 2.3978952727983707, \"target: predicted\": 2.0602092041003317}, {\"target: true\": 6.131887140770232, \"target: predicted\": 3.739918371895399}, {\"target: true\": 4.545420181582316, \"target: predicted\": 4.397199571991159}, {\"target: true\": 2.186051276738094, \"target: predicted\": 3.079683232182421}, {\"target: true\": 3.951243718581428, \"target: predicted\": 3.032144488878745}, {\"target: true\": 1.4816045409242156, \"target: predicted\": 1.4419602717246904}, {\"target: true\": 0.5025918188388871, \"target: predicted\": -1.2289806218789572}, {\"target: true\": 3.5351453541718936, \"target: predicted\": 0.07686040332445065}, {\"target: true\": 5.2417470150596435, \"target: predicted\": 4.720781533825011}, {\"target: true\": 1.3350010667323402, \"target: predicted\": 2.9072989212232474}, {\"target: true\": 1.4350845252893227, \"target: predicted\": 2.7546802471612355}, {\"target: true\": 3.9415818076696905, \"target: predicted\": 3.328118420077933}, {\"target: true\": 4.58700621536042, \"target: predicted\": 5.642049892922082}, {\"target: true\": -1.7921595492493951, \"target: predicted\": 0.6467683059512124}, {\"target: true\": 4.127134385045092, \"target: predicted\": 1.6644090762669288}, {\"target: true\": 3.49650756146648, \"target: predicted\": 0.9212858856607757}, {\"target: true\": 2.7080502011022096, \"target: predicted\": 1.7761651638769633}, {\"target: true\": 4.0809215418899605, \"target: predicted\": 4.327060912864015}, {\"target: true\": 1.5040773967762742, \"target: predicted\": 2.6654503370980334}, {\"target: true\": 3.951243718581428, \"target: predicted\": 3.1943164246502462}, {\"target: true\": 4.418840607796597, \"target: predicted\": 3.2663727338205106}, {\"target: true\": 4.4200447018614035, \"target: predicted\": 3.992459251052405}, {\"target: true\": 1.9021075263969205, \"target: predicted\": 1.4749183248523043}, {\"target: true\": -2.5770219386958066, \"target: predicted\": -3.388444627998007}, {\"target: true\": -1.4696759700589417, \"target: predicted\": 0.9041676890672701}, {\"target: true\": 4.178992036282385, \"target: predicted\": 3.7043414990621306}, {\"target: true\": 3.828641396489095, \"target: predicted\": 2.294444919088152}, {\"target: true\": 3.8264651170664994, \"target: predicted\": 1.846496539695785}, {\"target: true\": 3.6027767550605247, \"target: predicted\": 3.1829248668295045}, {\"target: true\": 5.990914395802501, \"target: predicted\": 4.035584964056877}, {\"target: true\": 0.2623642644674913, \"target: predicted\": 0.3054373747356225}, {\"target: true\": 4.45898767581001, \"target: predicted\": 3.264015138301507}, {\"target: true\": -0.6348782724359694, \"target: predicted\": 2.235019075751636}, {\"target: true\": 4.027135812528651, \"target: predicted\": 2.970246812550762}, {\"target: true\": 1.4310286924600613, \"target: predicted\": 1.1260664742933895}, {\"target: true\": 5.081404364984463, \"target: predicted\": 6.829915273668552}, {\"target: true\": 3.3435682688255186, \"target: predicted\": 0.5703203794474871}, {\"target: true\": -2.5639498571284536, \"target: predicted\": -0.39762684542698956}, {\"target: true\": 2.3978952727983707, \"target: predicted\": 2.2812522229496506}, {\"target: true\": 3.202746442938317, \"target: predicted\": 2.7350051780121514}, {\"target: true\": 3.2552077541155917, \"target: predicted\": 3.0910282552900306}, {\"target: true\": 3.1354942159291497, \"target: predicted\": 2.786854907636947}, {\"target: true\": -0.693147180559945, \"target: predicted\": -1.3217259146227431}, {\"target: true\": 3.7612001156935615, \"target: predicted\": 3.860511436517747}, {\"target: true\": 4.378269585796169, \"target: predicted\": 3.4914867528275106}, {\"target: true\": 1.8325814637483104, \"target: predicted\": 3.0861741598827486}, {\"target: true\": 4.298645025734831, \"target: predicted\": 4.397077532081831}, {\"target: true\": 0.9555114450274362, \"target: predicted\": 2.6270205014761934}, {\"target: true\": 4.189654742026425, \"target: predicted\": 3.934500650719798}, {\"target: true\": 0.09531017980432432, \"target: predicted\": -0.11607797552866694}, {\"target: true\": 3.157000421150113, \"target: predicted\": 3.8554360038207856}, {\"target: true\": 2.933856869835904, \"target: predicted\": 2.7847129112926203}, {\"target: true\": -0.4004775665971252, \"target: predicted\": 2.928165156568745}, {\"target: true\": 5.240465771336915, \"target: predicted\": 3.009783054712953}, {\"target: true\": 2.4849066497880004, \"target: predicted\": 0.5612065733747957}, {\"target: true\": -4.8283137373023015, \"target: predicted\": -3.7574339732970676}, {\"target: true\": -3.119030489898483, \"target: predicted\": -0.0032431222981119667}, {\"target: true\": 2.8903717578961645, \"target: predicted\": 3.1083810848055395}, {\"target: true\": 3.4210000089583352, \"target: predicted\": 5.274832925388755}, {\"target: true\": 1.840549633397487, \"target: predicted\": 1.966918300592197}, {\"target: true\": 4.092676505121403, \"target: predicted\": 4.596489484336244}, {\"target: true\": 1.4655675420143983, \"target: predicted\": 4.148370273562774}, {\"target: true\": 1.9671123567059163, \"target: predicted\": 1.6372321040275928}, {\"target: true\": 3.8712010109078916, \"target: predicted\": 2.2800259807758576}, {\"target: true\": 1.0986122886681098, \"target: predicted\": 1.31923318813741}, {\"target: true\": 4.244200317766478, \"target: predicted\": 4.3973964873035705}, {\"target: true\": 3.0130809118886037, \"target: predicted\": 2.758637237271743}, {\"target: true\": 2.8094026953624978, \"target: predicted\": 2.367975329009524}, {\"target: true\": 0.6830968447064438, \"target: predicted\": 0.30944201919145753}, {\"target: true\": 5.135798437050261, \"target: predicted\": 3.75697204968363}, {\"target: true\": -2.2072749131897202, \"target: predicted\": 0.594836685727856}, {\"target: true\": 2.151762203259462, \"target: predicted\": 3.2193679850971537}, {\"target: true\": -1.3862943611198908, \"target: predicted\": 0.6283373406082926}, {\"target: true\": 1.2809338454620642, \"target: predicted\": 2.999620153272926}, {\"target: true\": 1.9878743481543453, \"target: predicted\": 1.0388191354464031}, {\"target: true\": 2.3978952727983707, \"target: predicted\": 2.0681446672641006}, {\"target: true\": 0.5877866649021191, \"target: predicted\": 2.681346332690202}, {\"target: true\": 4.286341384539473, \"target: predicted\": 1.2077653358407465}, {\"target: true\": 3.0910424533583165, \"target: predicted\": 4.020074699250367}, {\"target: true\": 4.23410650459726, \"target: predicted\": 3.5651347591179334}, {\"target: true\": -2.764620552590605, \"target: predicted\": -2.3452082959423155}, {\"target: true\": 2.9957322735539913, \"target: predicted\": 1.6469395250950218}, {\"target: true\": 3.1780538303479458, \"target: predicted\": 4.257704316825541}, {\"target: true\": 2.714694743820879, \"target: predicted\": 1.2094705356747402}, {\"target: true\": -2.918771232417864, \"target: predicted\": -2.5275403990059244}, {\"target: true\": 4.276666119016055, \"target: predicted\": 4.643493183404417}, {\"target: true\": 1.5040773967762742, \"target: predicted\": 0.15085927435418922}, {\"target: true\": 6.439350371100098, \"target: predicted\": 2.830395234438875}, {\"target: true\": 1.4996230464268936, \"target: predicted\": 1.5461501648644878}, {\"target: true\": 4.174387269895637, \"target: predicted\": 3.564536945502462}, {\"target: true\": 3.6635616461296463, \"target: predicted\": 3.9853176770923726}, {\"target: true\": 8.842171048611718, \"target: predicted\": 6.463263160577936}, {\"target: true\": 0.9932517730102837, \"target: predicted\": 1.271613481430586}, {\"target: true\": 3.49650756146648, \"target: predicted\": 4.37276331941278}, {\"target: true\": 3.8264651170664994, \"target: predicted\": 4.989166887998932}], \"data-b50e8c9187d2230f7576e04a0dce8ed1\": [{\"target: true\": -4.8283137373023015, \"target: predicted\": -4.8283137373023015}, {\"target: true\": 8.842171048611718, \"target: predicted\": 8.842171048611718}]}}, {\"mode\": \"vega-lite\"});\n",
       "</script>"
      ],
      "text/plain": [
       "alt.LayerChart(...)"
      ]
     },
     "execution_count": 47,
     "metadata": {},
     "output_type": "execute_result"
    }
   ],
   "source": [
    "transfer.visualize('pair_predict', algea_test, untransform=True)"
   ]
  },
  {
   "cell_type": "markdown",
   "id": "029629c8-b457-4c48-8e06-4a7a01599fef",
   "metadata": {},
   "source": [
    "> We can recover a bit of the accuracy, up to an R2 of 0.399. This indicates that we can transfer knowledge between species, but better curation of data and an optimization of the fixing strategy (here we decided to fix all but the output regressor, but maybe another scheme of fixing layers would be optimum) since it is still not better than the RFR natively better suited for smaller datasets."
   ]
  },
  {
   "cell_type": "code",
   "execution_count": null,
   "id": "8292226f-f838-4368-ab31-c327144e1473",
   "metadata": {},
   "outputs": [],
   "source": []
  }
 ],
 "metadata": {
  "kernelspec": {
   "display_name": "Python 3",
   "language": "python",
   "name": "python3"
  },
  "language_info": {
   "codemirror_mode": {
    "name": "ipython",
    "version": 3
   },
   "file_extension": ".py",
   "mimetype": "text/x-python",
   "name": "python",
   "nbconvert_exporter": "python",
   "pygments_lexer": "ipython3",
   "version": "3.6.13"
  }
 },
 "nbformat": 4,
 "nbformat_minor": 5
}
