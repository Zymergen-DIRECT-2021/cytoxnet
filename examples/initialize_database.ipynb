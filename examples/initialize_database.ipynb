{
 "cells": [
  {
   "cell_type": "markdown",
   "id": "abcf44bd-5c4d-4b8e-9f49-3ac16ee35725",
   "metadata": {},
   "source": [
    "# Creating and adding to the multitask database\n",
    "Individual datasets and targets are cleaned and connected to a compounds codex containing unique molecules and already computed features. This minimizes the required time featurizing such that data in the database can be quickly called upon or even to speed up the use of data not in the dataset."
   ]
  },
  {
   "cell_type": "code",
   "execution_count": 1,
   "id": "a9c7968f-a72b-4f5e-ad54-2a0e61851ea4",
   "metadata": {},
   "outputs": [],
   "source": [
    "import cytoxnet.dataprep.io as io\n",
    "import pandas as pd"
   ]
  },
  {
   "cell_type": "markdown",
   "id": "45fa5a03-0c8e-4808-af28-460f9135a9b7",
   "metadata": {},
   "source": [
    "### Initialize the compounds database"
   ]
  },
  {
   "cell_type": "code",
   "execution_count": 2,
   "id": "65924ac6-2171-463d-b1d4-e77643cb0fd2",
   "metadata": {},
   "outputs": [
    {
     "name": "stdout",
     "output_type": "stream",
     "text": [
      "Help on function create_compound_codex in module cytoxnet.dataprep.io:\n",
      "\n",
      "create_compound_codex(db_path='./database', id_col='smiles', featurizers=None, **kwargs)\n",
      "    Create a compound codex for a combined database.\n",
      "    \n",
      "    Creates a master csv file that tracks the unique canonicalized smiles of\n",
      "    all data in the database, and stores deatures for those data.\n",
      "    \n",
      "    Parameters\n",
      "    ----------\n",
      "    db_path : str\n",
      "        The path to the folder to contain database files. Will create direcory\n",
      "        if it does not exist.\n",
      "    id_col : str\n",
      "        The column in all dataframes representing the compound id.\n",
      "    featurizers : str or list of str\n",
      "        The featurizer/s to initialize the compounds codex with.\n",
      "\n"
     ]
    }
   ],
   "source": [
    "help(io.create_compound_codex)"
   ]
  },
  {
   "cell_type": "markdown",
   "id": "47386f5e-3598-47c8-9c66-cd2aa83b830c",
   "metadata": {},
   "source": [
    "- A folder to store the cleaned data files and the master compounds codex must be specified, default './database'\n",
    "- The column name to contain unique identifiers must be specified, default 'smiles'\n",
    "- Features initially specified will be computed for future data."
   ]
  },
  {
   "cell_type": "code",
   "execution_count": 3,
   "id": "9b664401-978a-4d1a-9da2-cb6985422bb6",
   "metadata": {},
   "outputs": [],
   "source": [
    "io.create_compound_codex(featurizers=['CircularFingerprint'])"
   ]
  },
  {
   "cell_type": "code",
   "execution_count": 4,
   "id": "1671b726-3107-4f8e-a432-c1610b8098c9",
   "metadata": {},
   "outputs": [
    {
     "data": {
      "text/html": [
       "<div>\n",
       "<style scoped>\n",
       "    .dataframe tbody tr th:only-of-type {\n",
       "        vertical-align: middle;\n",
       "    }\n",
       "\n",
       "    .dataframe tbody tr th {\n",
       "        vertical-align: top;\n",
       "    }\n",
       "\n",
       "    .dataframe thead th {\n",
       "        text-align: right;\n",
       "    }\n",
       "</style>\n",
       "<table border=\"1\" class=\"dataframe\">\n",
       "  <thead>\n",
       "    <tr style=\"text-align: right;\">\n",
       "      <th></th>\n",
       "      <th>smiles</th>\n",
       "      <th>CircularFingerprint</th>\n",
       "    </tr>\n",
       "  </thead>\n",
       "  <tbody>\n",
       "  </tbody>\n",
       "</table>\n",
       "</div>"
      ],
      "text/plain": [
       "Empty DataFrame\n",
       "Columns: [smiles, CircularFingerprint]\n",
       "Index: []"
      ]
     },
     "execution_count": 4,
     "metadata": {},
     "output_type": "execute_result"
    }
   ],
   "source": [
    "pd.read_csv('./database/compounds.csv', index_col=0)"
   ]
  },
  {
   "cell_type": "markdown",
   "id": "41b0e577-db55-4488-b3ab-578ae502de9e",
   "metadata": {},
   "source": [
    "It is an empty file ready to have datasets added"
   ]
  },
  {
   "cell_type": "markdown",
   "id": "6a704798-3dad-4051-b03b-02f3cf7cdabf",
   "metadata": {},
   "source": [
    "## Adding data to the database"
   ]
  },
  {
   "cell_type": "code",
   "execution_count": 5,
   "id": "2c8dbd52-a22e-4c38-9ebe-a5a78b287550",
   "metadata": {},
   "outputs": [
    {
     "name": "stdout",
     "output_type": "stream",
     "text": [
      "Help on function add_datasets in module cytoxnet.dataprep.io:\n",
      "\n",
      "add_datasets(dataframes, names, id_col='smiles', db_path='./database', new_featurizers=None, **kwargs)\n",
      "    Add a new set of data to the tracked database.\n",
      "    \n",
      "    Update the compounds csv with new dataset/s canonicalized, and saves\n",
      "    csvs to the database folder with foreign keys tracked.\n",
      "    \n",
      "    Parameters\n",
      "    ----------\n",
      "    dataframes : dataframe or string or list of them\n",
      "        The datasets to add. If it is a string object, we will attempt to load\n",
      "        the file at the string path or a file in the package data.\n",
      "    id_col : str\n",
      "        The column in all dataframes representing the compound id\n",
      "    db_path : str\n",
      "        The path to the folder containing database files.\n",
      "    new_featurizers : str or list of str, default None\n",
      "        Featurizer names to apply to the new data as well as all current data.\n",
      "\n"
     ]
    }
   ],
   "source": [
    "help(io.add_datasets)"
   ]
  },
  {
   "cell_type": "markdown",
   "id": "b5b9a452-9aec-482b-86d6-b863171810db",
   "metadata": {},
   "source": [
    "- Datasets can be added from dataframes in memory, csv files, or datasets already in the package\n",
    "- New features can be asked for\n",
    "- datasets added must be names"
   ]
  },
  {
   "cell_type": "code",
   "execution_count": 6,
   "id": "068e9d1f-a960-4306-b955-5d66961a2e9c",
   "metadata": {},
   "outputs": [],
   "source": [
    "## adding datasets from the package\n",
    "io.add_datasets(['zhu_rat_LD50', 'lunghini_algea_EC50'], names = ['rat', 'algea'])"
   ]
  },
  {
   "cell_type": "markdown",
   "id": "2b94a8d9-0ba3-47c7-8168-91d522764712",
   "metadata": {},
   "source": [
    "We can see that the compounds we added to the codex and featurized"
   ]
  },
  {
   "cell_type": "code",
   "execution_count": 7,
   "id": "39dc5289-6517-4332-9309-468fa875f221",
   "metadata": {},
   "outputs": [
    {
     "data": {
      "text/html": [
       "<div>\n",
       "<style scoped>\n",
       "    .dataframe tbody tr th:only-of-type {\n",
       "        vertical-align: middle;\n",
       "    }\n",
       "\n",
       "    .dataframe tbody tr th {\n",
       "        vertical-align: top;\n",
       "    }\n",
       "\n",
       "    .dataframe thead th {\n",
       "        text-align: right;\n",
       "    }\n",
       "</style>\n",
       "<table border=\"1\" class=\"dataframe\">\n",
       "  <thead>\n",
       "    <tr style=\"text-align: right;\">\n",
       "      <th></th>\n",
       "      <th>smiles</th>\n",
       "      <th>CircularFingerprint</th>\n",
       "    </tr>\n",
       "  </thead>\n",
       "  <tbody>\n",
       "    <tr>\n",
       "      <th>0</th>\n",
       "      <td>[O-][N+](=Nc1ccccc1)c1ccccc1</td>\n",
       "      <td>[0. 0. 0. ... 0. 0. 0.]</td>\n",
       "    </tr>\n",
       "    <tr>\n",
       "      <th>1</th>\n",
       "      <td>BrC(Br)Br</td>\n",
       "      <td>[0. 1. 0. ... 0. 0. 0.]</td>\n",
       "    </tr>\n",
       "    <tr>\n",
       "      <th>2</th>\n",
       "      <td>C=CBr</td>\n",
       "      <td>[0. 0. 0. ... 0. 0. 0.]</td>\n",
       "    </tr>\n",
       "    <tr>\n",
       "      <th>3</th>\n",
       "      <td>Brc1ccc(-c2ccc(Br)c(Br)c2Br)c(Br)c1Br</td>\n",
       "      <td>[0. 0. 0. ... 0. 0. 0.]</td>\n",
       "    </tr>\n",
       "    <tr>\n",
       "      <th>4</th>\n",
       "      <td>S=C=Nc1ccc(Br)cc1</td>\n",
       "      <td>[0. 0. 0. ... 0. 0. 0.]</td>\n",
       "    </tr>\n",
       "    <tr>\n",
       "      <th>...</th>\n",
       "      <td>...</td>\n",
       "      <td>...</td>\n",
       "    </tr>\n",
       "    <tr>\n",
       "      <th>8239</th>\n",
       "      <td>c1ccc2c3c(ccc2c1)-c1cccc2cccc-3c12</td>\n",
       "      <td>[0. 0. 0. ... 0. 0. 0.]</td>\n",
       "    </tr>\n",
       "    <tr>\n",
       "      <th>8240</th>\n",
       "      <td>c1ccc2cc3c(ccc4ccccc43)cc2c1</td>\n",
       "      <td>[0. 0. 0. ... 0. 0. 0.]</td>\n",
       "    </tr>\n",
       "    <tr>\n",
       "      <th>8241</th>\n",
       "      <td>c1ccoc1</td>\n",
       "      <td>[0. 0. 0. ... 0. 0. 0.]</td>\n",
       "    </tr>\n",
       "    <tr>\n",
       "      <th>8242</th>\n",
       "      <td>c1ccc2[nH]cnc2c1</td>\n",
       "      <td>[0. 0. 0. ... 0. 0. 0.]</td>\n",
       "    </tr>\n",
       "    <tr>\n",
       "      <th>8243</th>\n",
       "      <td>c1ncncn1</td>\n",
       "      <td>[0. 0. 0. ... 0. 0. 0.]</td>\n",
       "    </tr>\n",
       "  </tbody>\n",
       "</table>\n",
       "<p>8244 rows × 2 columns</p>\n",
       "</div>"
      ],
      "text/plain": [
       "                                     smiles      CircularFingerprint\n",
       "0              [O-][N+](=Nc1ccccc1)c1ccccc1  [0. 0. 0. ... 0. 0. 0.]\n",
       "1                                 BrC(Br)Br  [0. 1. 0. ... 0. 0. 0.]\n",
       "2                                     C=CBr  [0. 0. 0. ... 0. 0. 0.]\n",
       "3     Brc1ccc(-c2ccc(Br)c(Br)c2Br)c(Br)c1Br  [0. 0. 0. ... 0. 0. 0.]\n",
       "4                         S=C=Nc1ccc(Br)cc1  [0. 0. 0. ... 0. 0. 0.]\n",
       "...                                     ...                      ...\n",
       "8239     c1ccc2c3c(ccc2c1)-c1cccc2cccc-3c12  [0. 0. 0. ... 0. 0. 0.]\n",
       "8240           c1ccc2cc3c(ccc4ccccc43)cc2c1  [0. 0. 0. ... 0. 0. 0.]\n",
       "8241                                c1ccoc1  [0. 0. 0. ... 0. 0. 0.]\n",
       "8242                       c1ccc2[nH]cnc2c1  [0. 0. 0. ... 0. 0. 0.]\n",
       "8243                               c1ncncn1  [0. 0. 0. ... 0. 0. 0.]\n",
       "\n",
       "[8244 rows x 2 columns]"
      ]
     },
     "execution_count": 7,
     "metadata": {},
     "output_type": "execute_result"
    }
   ],
   "source": [
    "codex = pd.read_csv('./database/compounds.csv', index_col=0)\n",
    "codex"
   ]
  },
  {
   "cell_type": "markdown",
   "id": "d588a959-7c3f-4c25-afd4-c5d1a13afc99",
   "metadata": {},
   "source": [
    "Additionally, the cleaned datasets were added to the database under the specified names, and contain the foreign key that matches them to the compounds codex."
   ]
  },
  {
   "cell_type": "code",
   "execution_count": 8,
   "id": "65b4a1c5-5ca5-40de-b755-bb7fcc3bfe54",
   "metadata": {},
   "outputs": [
    {
     "data": {
      "text/html": [
       "<div>\n",
       "<style scoped>\n",
       "    .dataframe tbody tr th:only-of-type {\n",
       "        vertical-align: middle;\n",
       "    }\n",
       "\n",
       "    .dataframe tbody tr th {\n",
       "        vertical-align: top;\n",
       "    }\n",
       "\n",
       "    .dataframe thead th {\n",
       "        text-align: right;\n",
       "    }\n",
       "</style>\n",
       "<table border=\"1\" class=\"dataframe\">\n",
       "  <thead>\n",
       "    <tr style=\"text-align: right;\">\n",
       "      <th></th>\n",
       "      <th>chemical_formula</th>\n",
       "      <th>smiles</th>\n",
       "      <th>casnum</th>\n",
       "      <th>molecular_weight</th>\n",
       "      <th>species</th>\n",
       "      <th>algea_EC50</th>\n",
       "      <th>units</th>\n",
       "      <th>source</th>\n",
       "      <th>foreign_key</th>\n",
       "    </tr>\n",
       "  </thead>\n",
       "  <tbody>\n",
       "    <tr>\n",
       "      <th>0</th>\n",
       "      <td>C10H10Br2O2</td>\n",
       "      <td>BrC(Br)c1ccccc1OCC1CO1</td>\n",
       "      <td>30171-80-3</td>\n",
       "      <td>321.993195</td>\n",
       "      <td>algea</td>\n",
       "      <td>-0.879477</td>\n",
       "      <td>log(mg/L)</td>\n",
       "      <td>NITE, Literature set</td>\n",
       "      <td>7342</td>\n",
       "    </tr>\n",
       "    <tr>\n",
       "      <th>1</th>\n",
       "      <td>C8H7Br</td>\n",
       "      <td>BrC=Cc1ccccc1</td>\n",
       "      <td>103-64-0</td>\n",
       "      <td>183.045181</td>\n",
       "      <td>algea</td>\n",
       "      <td>3.919991</td>\n",
       "      <td>log(mg/L)</td>\n",
       "      <td>ECHA</td>\n",
       "      <td>4438</td>\n",
       "    </tr>\n",
       "    <tr>\n",
       "      <th>2</th>\n",
       "      <td>C9H15Br6O4P</td>\n",
       "      <td>O=P(OCC(Br)CBr)(OCC(Br)CBr)OCC(Br)CBr</td>\n",
       "      <td>126-72-7</td>\n",
       "      <td>697.610779</td>\n",
       "      <td>algea</td>\n",
       "      <td>0.875469</td>\n",
       "      <td>log(mg/L)</td>\n",
       "      <td>NITE, ECOTOX, OASIS, Literature set</td>\n",
       "      <td>10</td>\n",
       "    </tr>\n",
       "    <tr>\n",
       "      <th>3</th>\n",
       "      <td>C9H9Br</td>\n",
       "      <td>BrCC=Cc1ccccc1</td>\n",
       "      <td>4392-24-9</td>\n",
       "      <td>197.071762</td>\n",
       "      <td>algea</td>\n",
       "      <td>2.940220</td>\n",
       "      <td>log(mg/L)</td>\n",
       "      <td>Literature set</td>\n",
       "      <td>7343</td>\n",
       "    </tr>\n",
       "    <tr>\n",
       "      <th>4</th>\n",
       "      <td>C2H4Br2</td>\n",
       "      <td>BrCCBr</td>\n",
       "      <td>106-93-4</td>\n",
       "      <td>187.861160</td>\n",
       "      <td>algea</td>\n",
       "      <td>3.255786</td>\n",
       "      <td>log(mg/L)</td>\n",
       "      <td>ECHA, ECOTOX</td>\n",
       "      <td>12</td>\n",
       "    </tr>\n",
       "    <tr>\n",
       "      <th>...</th>\n",
       "      <td>...</td>\n",
       "      <td>...</td>\n",
       "      <td>...</td>\n",
       "      <td>...</td>\n",
       "      <td>...</td>\n",
       "      <td>...</td>\n",
       "      <td>...</td>\n",
       "      <td>...</td>\n",
       "      <td>...</td>\n",
       "    </tr>\n",
       "    <tr>\n",
       "      <th>1435</th>\n",
       "      <td>C4H4S</td>\n",
       "      <td>c1ccsc1</td>\n",
       "      <td>110-02-1</td>\n",
       "      <td>84.139557</td>\n",
       "      <td>algea</td>\n",
       "      <td>4.382027</td>\n",
       "      <td>log(mg/L)</td>\n",
       "      <td>NITE, VEGA, Literature set</td>\n",
       "      <td>3468</td>\n",
       "    </tr>\n",
       "    <tr>\n",
       "      <th>1436</th>\n",
       "      <td>C7H6N2</td>\n",
       "      <td>c1ccc2[nH]cnc2c1</td>\n",
       "      <td>51-17-2</td>\n",
       "      <td>118.135941</td>\n",
       "      <td>algea</td>\n",
       "      <td>3.288402</td>\n",
       "      <td>log(mg/L)</td>\n",
       "      <td>ECHA</td>\n",
       "      <td>8242</td>\n",
       "    </tr>\n",
       "    <tr>\n",
       "      <th>1437</th>\n",
       "      <td>C7H5NS</td>\n",
       "      <td>c1ccc2scnc2c1</td>\n",
       "      <td>95-16-9</td>\n",
       "      <td>135.186295</td>\n",
       "      <td>algea</td>\n",
       "      <td>3.885679</td>\n",
       "      <td>log(mg/L)</td>\n",
       "      <td>ECHA, NITE, ECOTOX, OASIS, Literature set, VEGA</td>\n",
       "      <td>3469</td>\n",
       "    </tr>\n",
       "    <tr>\n",
       "      <th>1438</th>\n",
       "      <td>C2H3N3</td>\n",
       "      <td>c1nc[nH]n1</td>\n",
       "      <td>288-88-0</td>\n",
       "      <td>69.065323</td>\n",
       "      <td>algea</td>\n",
       "      <td>3.942552</td>\n",
       "      <td>log(mg/L)</td>\n",
       "      <td>ECHA, ECOTOX</td>\n",
       "      <td>2862</td>\n",
       "    </tr>\n",
       "    <tr>\n",
       "      <th>1439</th>\n",
       "      <td>C3H3N3</td>\n",
       "      <td>c1ncncn1</td>\n",
       "      <td>290-87-9</td>\n",
       "      <td>81.076019</td>\n",
       "      <td>algea</td>\n",
       "      <td>5.476464</td>\n",
       "      <td>log(mg/L)</td>\n",
       "      <td>Literature set</td>\n",
       "      <td>8243</td>\n",
       "    </tr>\n",
       "  </tbody>\n",
       "</table>\n",
       "<p>1440 rows × 9 columns</p>\n",
       "</div>"
      ],
      "text/plain": [
       "     chemical_formula                                 smiles      casnum  \\\n",
       "0         C10H10Br2O2                 BrC(Br)c1ccccc1OCC1CO1  30171-80-3   \n",
       "1              C8H7Br                          BrC=Cc1ccccc1    103-64-0   \n",
       "2         C9H15Br6O4P  O=P(OCC(Br)CBr)(OCC(Br)CBr)OCC(Br)CBr    126-72-7   \n",
       "3              C9H9Br                         BrCC=Cc1ccccc1   4392-24-9   \n",
       "4             C2H4Br2                                 BrCCBr    106-93-4   \n",
       "...               ...                                    ...         ...   \n",
       "1435            C4H4S                                c1ccsc1    110-02-1   \n",
       "1436           C7H6N2                       c1ccc2[nH]cnc2c1     51-17-2   \n",
       "1437           C7H5NS                          c1ccc2scnc2c1     95-16-9   \n",
       "1438           C2H3N3                             c1nc[nH]n1    288-88-0   \n",
       "1439           C3H3N3                               c1ncncn1    290-87-9   \n",
       "\n",
       "      molecular_weight species  algea_EC50      units  \\\n",
       "0           321.993195   algea   -0.879477  log(mg/L)   \n",
       "1           183.045181   algea    3.919991  log(mg/L)   \n",
       "2           697.610779   algea    0.875469  log(mg/L)   \n",
       "3           197.071762   algea    2.940220  log(mg/L)   \n",
       "4           187.861160   algea    3.255786  log(mg/L)   \n",
       "...                ...     ...         ...        ...   \n",
       "1435         84.139557   algea    4.382027  log(mg/L)   \n",
       "1436        118.135941   algea    3.288402  log(mg/L)   \n",
       "1437        135.186295   algea    3.885679  log(mg/L)   \n",
       "1438         69.065323   algea    3.942552  log(mg/L)   \n",
       "1439         81.076019   algea    5.476464  log(mg/L)   \n",
       "\n",
       "                                               source  foreign_key  \n",
       "0                                NITE, Literature set         7342  \n",
       "1                                                ECHA         4438  \n",
       "2                 NITE, ECOTOX, OASIS, Literature set           10  \n",
       "3                                      Literature set         7343  \n",
       "4                                        ECHA, ECOTOX           12  \n",
       "...                                               ...          ...  \n",
       "1435                       NITE, VEGA, Literature set         3468  \n",
       "1436                                             ECHA         8242  \n",
       "1437  ECHA, NITE, ECOTOX, OASIS, Literature set, VEGA         3469  \n",
       "1438                                     ECHA, ECOTOX         2862  \n",
       "1439                                   Literature set         8243  \n",
       "\n",
       "[1440 rows x 9 columns]"
      ]
     },
     "execution_count": 8,
     "metadata": {},
     "output_type": "execute_result"
    }
   ],
   "source": [
    "algea = pd.read_csv('./database/algea.csv', index_col=0)\n",
    "algea"
   ]
  },
  {
   "cell_type": "code",
   "execution_count": 9,
   "id": "bbc95448-ba17-4c3b-aa26-f7a3470dde9c",
   "metadata": {},
   "outputs": [
    {
     "name": "stdout",
     "output_type": "stream",
     "text": [
      "Example in dataset: \n",
      "=====================\n",
      "chemical_formula                        C9H9N5\n",
      "smiles                 Nc1nc(N)nc(-c2ccccc2)n1\n",
      "casnum                                 91-76-9\n",
      "molecular_weight                       187.201\n",
      "species                                  algea\n",
      "algea_EC50                             4.23048\n",
      "units                                log(mg/L)\n",
      "source              ECHA, NITE, Literature set\n",
      "foreign_key                               8085\n",
      "Name: 1200, dtype: object\n",
      "Foreign key: \n",
      "=====================\n",
      "8085\n",
      "That compound with features in the codex: \n",
      "=====================\n",
      "smiles                 Nc1nc(N)nc(-c2ccccc2)n1\n",
      "CircularFingerprint    [0. 0. 0. ... 0. 0. 0.]\n",
      "Name: 8085, dtype: object\n"
     ]
    }
   ],
   "source": [
    "## a specific example in the dataset\n",
    "print('Example in dataset: ')\n",
    "print('=====================')\n",
    "print(algea.iloc[1200])\n",
    "print('Foreign key: ')\n",
    "print('=====================')\n",
    "print(algea.iloc[1200]['foreign_key'])\n",
    "print('That compound with features in the codex: ')\n",
    "print('=====================')\n",
    "print(codex.loc[algea.iloc[1200]['foreign_key']])"
   ]
  },
  {
   "cell_type": "markdown",
   "id": "0052ec9f-72f4-4461-8811-13c8507dfba0",
   "metadata": {},
   "source": [
    "We can also add datasets in memory an add new features"
   ]
  },
  {
   "cell_type": "code",
   "execution_count": 10,
   "id": "c24b3696-3396-4a53-b375-bb6f3824e7f7",
   "metadata": {},
   "outputs": [],
   "source": [
    "my_data = pd.DataFrame({'smiles': ['O', 'C'], 'target': [1, 2]})"
   ]
  },
  {
   "cell_type": "code",
   "execution_count": 11,
   "id": "9f8c5860-f9d4-4dc2-ae41-fa75f62452be",
   "metadata": {},
   "outputs": [],
   "source": [
    "io.add_datasets([my_data], names = ['my_data'], new_featurizers=['RDKitDescriptors'])"
   ]
  },
  {
   "cell_type": "code",
   "execution_count": null,
   "id": "a7d3988c-6948-4d37-8e8d-456bb87848de",
   "metadata": {},
   "outputs": [],
   "source": []
  }
 ],
 "metadata": {
  "kernelspec": {
   "display_name": "Python 3",
   "language": "python",
   "name": "python3"
  },
  "language_info": {
   "codemirror_mode": {
    "name": "ipython",
    "version": 3
   },
   "file_extension": ".py",
   "mimetype": "text/x-python",
   "name": "python",
   "nbconvert_exporter": "python",
   "pygments_lexer": "ipython3",
   "version": "3.6.13"
  }
 },
 "nbformat": 4,
 "nbformat_minor": 5
}
