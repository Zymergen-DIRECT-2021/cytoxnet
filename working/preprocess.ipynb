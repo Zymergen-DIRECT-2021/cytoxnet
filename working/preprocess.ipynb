{
 "cells": [
  {
   "cell_type": "code",
   "execution_count": 110,
   "id": "086a5687",
   "metadata": {},
   "outputs": [],
   "source": [
    "import pandas as pd\n",
    "import numpy\n",
    "from sklearn import preprocessing\n",
    "import deepchem"
   ]
  },
  {
   "cell_type": "code",
   "execution_count": 107,
   "id": "71fbf72d",
   "metadata": {},
   "outputs": [],
   "source": [
    "def preprocess(dataframe):\n",
    "    \"\"\"\n",
    "    Drops rows with missing values and converts categorical values to integers\n",
    "    \n",
    "    \"\"\"\n",
    "    \n",
    "    # drops all rows with NaNs, although this can be modified to only look at rows in specific columns\n",
    "    dataframe = dataframe.dropna() \n",
    "    \n",
    "    # convert categorical values, if any exist, into integers\n",
    "    for column in dataframe:\n",
    "        if dataframe[column].dtype == object:\n",
    "            l1 = preprocessing.LabelEncoder()\n",
    "            l1.fit(dataframe[column])\n",
    "            dataframe[column] = l1.transform(dataframe[column])\n",
    "        else:\n",
    "            continue\n",
    "\n",
    "    return dataframe"
   ]
  },
  {
   "cell_type": "code",
   "execution_count": 112,
   "id": "da6f48dc",
   "metadata": {},
   "outputs": [],
   "source": [
    "def df_to_dataset(dataframe, X, y, w, ids):\n",
    "    \"\"\"\n",
    "    Converts dataframe to DeepChem dataset object\n",
    "    \"\"\"\n",
    "    \n",
    "    to_dataset = deepchem.data.NumpyDataset(X, y, w, ids)\n",
    "    dataset = to_dataset.from_dataframe(dataframe)\n",
    "    \n",
    "    return dataset\n",
    "    "
   ]
  },
  {
   "cell_type": "markdown",
   "id": "69c0d8f1",
   "metadata": {},
   "source": [
    "## Test dataframe\n",
    "### with strings, numerals, and NaNs"
   ]
  },
  {
   "cell_type": "code",
   "execution_count": 114,
   "id": "f47f9dfb",
   "metadata": {},
   "outputs": [
    {
     "name": "stdout",
     "output_type": "stream",
     "text": [
      "            Brand  Price  Color\n",
      "0     Honda Civic  22000   Blue\n",
      "1  Toyota Corolla  25000  Black\n",
      "2      Ford Focus  27000    NaN\n",
      "3         Audi A4  35000   Pink\n"
     ]
    }
   ],
   "source": [
    "cars = {'id': [1, 2, 3, 4],\n",
    "        'Brand': ['Honda Civic','Toyota Corolla','Ford Focus','Audi A4'],\n",
    "        'Price': [22000,25000,27000,35000],\n",
    "        'Color': ['Blue', 'Black', np.NaN, 'Pink']\n",
    "        }\n",
    "\n",
    "df = pd.DataFrame(cars, columns = ['Brand', 'Price', 'Color'])\n",
    "\n",
    "print (df)"
   ]
  },
  {
   "cell_type": "code",
   "execution_count": 115,
   "id": "8b1d006e",
   "metadata": {},
   "outputs": [
    {
     "name": "stderr",
     "output_type": "stream",
     "text": [
      "/Users/Rory/opt/miniconda3/envs/cytoxnet/lib/python3.7/site-packages/ipykernel_launcher.py:15: SettingWithCopyWarning: \n",
      "A value is trying to be set on a copy of a slice from a DataFrame.\n",
      "Try using .loc[row_indexer,col_indexer] = value instead\n",
      "\n",
      "See the caveats in the documentation: https://pandas.pydata.org/pandas-docs/stable/user_guide/indexing.html#returning-a-view-versus-a-copy\n",
      "  from ipykernel import kernelapp as app\n"
     ]
    }
   ],
   "source": [
    "df1 = preprocess(df)"
   ]
  },
  {
   "cell_type": "code",
   "execution_count": 120,
   "id": "9188e92c",
   "metadata": {},
   "outputs": [
    {
     "name": "stdout",
     "output_type": "stream",
     "text": [
      "<NumpyDataset X.shape: (3, 0), y.shape: (3, 0), w.shape: (3, 0), ids: [0 1 2], task_names: []>\n"
     ]
    }
   ],
   "source": [
    "dataset = df_to_dataset(df1, X='Brand', y='Color', w='Price', ids='id')\n",
    "print(dataset)"
   ]
  },
  {
   "cell_type": "code",
   "execution_count": null,
   "id": "ce11a113",
   "metadata": {},
   "outputs": [],
   "source": []
  }
 ],
 "metadata": {
  "kernelspec": {
   "display_name": "Python 3",
   "language": "python",
   "name": "python3"
  },
  "language_info": {
   "codemirror_mode": {
    "name": "ipython",
    "version": 3
   },
   "file_extension": ".py",
   "mimetype": "text/x-python",
   "name": "python",
   "nbconvert_exporter": "python",
   "pygments_lexer": "ipython3",
   "version": "3.7.10"
  }
 },
 "nbformat": 4,
 "nbformat_minor": 5
}
