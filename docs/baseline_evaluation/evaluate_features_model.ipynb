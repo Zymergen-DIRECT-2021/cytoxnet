{
 "cells": [
  {
   "cell_type": "markdown",
   "id": "3fa7d4df-c70f-4a51-9c01-1c751b728c57",
   "metadata": {},
   "source": [
    "# Determine which featurizer and model performs the best for baseline training on a single dataset\n",
    "\n",
    "For each dataset, evaluate and store the results using the packages `evaluate function`"
   ]
  },
  {
   "cell_type": "markdown",
   "id": "07417596-d7b4-493e-9553-ff882439077f",
   "metadata": {},
   "source": [
    "## first create a featurized database to ease computation time"
   ]
  },
  {
   "cell_type": "code",
   "execution_count": 1,
   "id": "7e026781-75db-429e-9948-459fbf4c716e",
   "metadata": {},
   "outputs": [],
   "source": [
    "import cytoxnet.dataprep.io as io\n",
    "import cytoxnet.dataprep.dataprep\n",
    "import cytoxnet.dataprep.featurize\n",
    "import cytoxnet.models.models\n",
    "import cytoxnet.dataprep.io\n",
    "\n",
    "import cytoxnet.models.evaluate as ev\n",
    "\n",
    "import numpy as np\n",
    "import pandas as pd\n",
    "from joblib import Parallel, delayed"
   ]
  },
  {
   "cell_type": "code",
   "execution_count": 2,
   "id": "75c95f9c-fb69-4b1c-b75d-d4787538958e",
   "metadata": {
    "collapsed": true,
    "jupyter": {
     "outputs_hidden": true
    },
    "tags": []
   },
   "outputs": [
    {
     "name": "stdout",
     "output_type": "stream",
     "text": [
      "\u001b[33mWARNING: Value for scheme.headers does not match. Please report this to <https://github.com/pypa/pip/issues/9617>\n",
      "distutils: /Users/ek/miniconda3/envs/cytoxnet/include/python3.6m/UNKNOWN\n",
      "sysconfig: /Users/ek/miniconda3/envs/cytoxnet/include/python3.6m\u001b[0m\n",
      "\u001b[33mWARNING: Additional context:\n",
      "user = False\n",
      "home = None\n",
      "root = None\n",
      "prefix = None\u001b[0m\n",
      "Collecting mordred\n",
      "  Downloading mordred-1.2.0.tar.gz (128 kB)\n",
      "\u001b[K     |████████████████████████████████| 128 kB 25.8 MB/s eta 0:00:01\n",
      "\u001b[?25hRequirement already satisfied: six==1.* in /Users/ek/miniconda3/envs/cytoxnet/lib/python3.6/site-packages (from mordred) (1.15.0)\n",
      "Requirement already satisfied: numpy==1.* in /Users/ek/miniconda3/envs/cytoxnet/lib/python3.6/site-packages (from mordred) (1.19.5)\n",
      "Collecting networkx==2.*\n",
      "  Using cached networkx-2.5.1-py3-none-any.whl (1.6 MB)\n",
      "Collecting decorator<5,>=4.3\n",
      "  Using cached decorator-4.4.2-py2.py3-none-any.whl (9.2 kB)\n",
      "Building wheels for collected packages: mordred\n",
      "  Building wheel for mordred (setup.py) ... \u001b[?25ldone\n",
      "\u001b[?25h  Created wheel for mordred: filename=mordred-1.2.0-py3-none-any.whl size=176721 sha256=1fe51ec7697aebc47d0891b7f6cf0b3ffbfc7667e34346ea9f4e92a75ef734d4\n",
      "  Stored in directory: /Users/ek/Library/Caches/pip/wheels/94/e8/c6/0561efc609b8b695a4c0a98e76e439a97f33eadfd0dba949ee\n",
      "Successfully built mordred\n",
      "Installing collected packages: decorator, networkx, mordred\n",
      "  Attempting uninstall: decorator\n",
      "    Found existing installation: decorator 5.0.7\n",
      "    Uninstalling decorator-5.0.7:\n",
      "      Successfully uninstalled decorator-5.0.7\n",
      "\u001b[33mWARNING: Value for scheme.headers does not match. Please report this to <https://github.com/pypa/pip/issues/9617>\n",
      "distutils: /Users/ek/miniconda3/envs/cytoxnet/include/python3.6m/UNKNOWN\n",
      "sysconfig: /Users/ek/miniconda3/envs/cytoxnet/include/python3.6m\u001b[0m\n",
      "\u001b[33mWARNING: Additional context:\n",
      "user = False\n",
      "home = None\n",
      "root = None\n",
      "prefix = None\u001b[0m\n",
      "Successfully installed decorator-4.4.2 mordred-1.2.0 networkx-2.5.1\n"
     ]
    }
   ],
   "source": [
    "!pip install mordred"
   ]
  },
  {
   "cell_type": "code",
   "execution_count": 6,
   "id": "5ac9648c-85f3-426a-8806-e1202b46db7a",
   "metadata": {},
   "outputs": [],
   "source": [
    "io.create_compound_codex()"
   ]
  },
  {
   "cell_type": "code",
   "execution_count": 7,
   "id": "15a05786-3207-475d-8391-f0eb2c3c8697",
   "metadata": {},
   "outputs": [],
   "source": [
    "io.add_datasets(['zhu_rat_LD50', 'lunghini_fish_LC50', 'lunghini_algea_EC50', 'lunghini_daphnia_EC50', 'chembl_ecoli_MIC'],\n",
    "                names=['rat', 'fish', 'algea', 'daphnia', 'ecoli'],\n",
    "                new_featurizers=['CircularFingerprint', 'RDKitDescriptors', 'MACCSKeysFingerprint']#, 'MordredDescriptors', 'RDKitDescriptors', 'MACCSKeysFingerprint']\n",
    "               )"
   ]
  },
  {
   "cell_type": "code",
   "execution_count": null,
   "id": "bcba443c-4d0f-4356-8a7b-89bd495258d7",
   "metadata": {},
   "outputs": [
    {
     "name": "stderr",
     "output_type": "stream",
     "text": [
      "/Users/ek/miniconda3/envs/cytoxnet/lib/python3.6/site-packages/numpy/core/fromnumeric.py:87: RuntimeWarning: overflow encountered in reduce\n",
      "  return ufunc.reduce(obj, axis, dtype, out, **passkwargs)\n"
     ]
    }
   ],
   "source": [
    "io.add_datasets([], names=[], new_featurizers=['MordredDescriptors'])"
   ]
  },
  {
   "cell_type": "markdown",
   "id": "63d30540-abdd-489d-99d9-a0ea8c57ef6f",
   "metadata": {},
   "source": [
    "## Evaluate functions"
   ]
  },
  {
   "cell_type": "code",
   "execution_count": 3,
   "id": "be1b90ca-c72c-4ac3-acb0-db43a72edc73",
   "metadata": {},
   "outputs": [
    {
     "name": "stdout",
     "output_type": "stream",
     "text": [
      "WARNING: No tasks passed, assuming one target\n",
      "WARNING: No tasks passed, assuming one target\n",
      "WARNING: No tasks passed, assuming one target\n",
      "WARNING: No tasks passed, assuming one target\n",
      "WARNING: No tasks passed, assuming one target\n"
     ]
    },
    {
     "data": {
      "text/plain": [
       "{'datafile': 'lunghini_fish_LC50',\n",
       " 'model': 'LASSO',\n",
       " 'featurizer': 'CircularFingerprint',\n",
       " 'r2': -0.0009277980099478445,\n",
       " 'MSE': 7.25365073383424}"
      ]
     },
     "execution_count": 3,
     "metadata": {},
     "output_type": "execute_result"
    }
   ],
   "source": [
    "ev.evaluate_crossval('lunghini_fish_LC50', \"LASSO\", 'CircularFingerprint', 'fish_LC50', codex='./database/compounds.csv')"
   ]
  },
  {
   "cell_type": "code",
   "execution_count": 3,
   "id": "15085aa9-4adf-4b6b-b295-0318d2f7d167",
   "metadata": {},
   "outputs": [],
   "source": [
    "datafiles = ['lunghini_fish_LC50', 'lunghini_algea_EC50']\n",
    "ml_models = ['LASSO']\n",
    "feat_methods = ['CircularFingerprint']\n",
    "targets_codex = {\n",
    "    'zhu_rat_LD50': 'rat_LD50', \n",
    "    'lunghini_fish_LC50': 'fish_LC50',\n",
    "    'lunghini_algea_EC50': 'algea_EC50',\n",
    "    'lunghini_daphnia_EC50': 'daphnia_EC50',\n",
    "    'chembl_ecoli_MIC': 'ecoli_MIC'\n",
    "}"
   ]
  },
  {
   "cell_type": "code",
   "execution_count": 5,
   "id": "1031342a-186e-4fee-b992-0efa6ae45e30",
   "metadata": {},
   "outputs": [
    {
     "data": {
      "text/html": [
       "<div>\n",
       "<style scoped>\n",
       "    .dataframe tbody tr th:only-of-type {\n",
       "        vertical-align: middle;\n",
       "    }\n",
       "\n",
       "    .dataframe tbody tr th {\n",
       "        vertical-align: top;\n",
       "    }\n",
       "\n",
       "    .dataframe thead th {\n",
       "        text-align: right;\n",
       "    }\n",
       "</style>\n",
       "<table border=\"1\" class=\"dataframe\">\n",
       "  <thead>\n",
       "    <tr style=\"text-align: right;\">\n",
       "      <th></th>\n",
       "      <th>datafile</th>\n",
       "      <th>model</th>\n",
       "      <th>featurizer</th>\n",
       "      <th>r2</th>\n",
       "      <th>MSE</th>\n",
       "    </tr>\n",
       "  </thead>\n",
       "  <tbody>\n",
       "    <tr>\n",
       "      <th>0</th>\n",
       "      <td>lunghini_fish_LC50</td>\n",
       "      <td>LASSO</td>\n",
       "      <td>CircularFingerprint</td>\n",
       "      <td>-0.001684</td>\n",
       "      <td>7.255701</td>\n",
       "    </tr>\n",
       "    <tr>\n",
       "      <th>1</th>\n",
       "      <td>lunghini_algea_EC50</td>\n",
       "      <td>LASSO</td>\n",
       "      <td>CircularFingerprint</td>\n",
       "      <td>-0.003870</td>\n",
       "      <td>5.521518</td>\n",
       "    </tr>\n",
       "  </tbody>\n",
       "</table>\n",
       "</div>"
      ],
      "text/plain": [
       "              datafile  model           featurizer        r2       MSE\n",
       "0   lunghini_fish_LC50  LASSO  CircularFingerprint -0.001684  7.255701\n",
       "1  lunghini_algea_EC50  LASSO  CircularFingerprint -0.003870  5.521518"
      ]
     },
     "execution_count": 5,
     "metadata": {},
     "output_type": "execute_result"
    }
   ],
   "source": [
    "ev.grid_evaluate_crossval(\n",
    "    datafiles=datafiles,\n",
    "    ml_models=ml_models,\n",
    "    feat_methods=feat_methods, \n",
    "    targets_codex=targets_codex, \n",
    "    parallel=True,\n",
    "    codex='./database/compounds.csv'\n",
    ")"
   ]
  },
  {
   "cell_type": "code",
   "execution_count": null,
   "id": "4c0da12a-0509-4672-b74e-69a727ded98e",
   "metadata": {},
   "outputs": [],
   "source": []
  }
 ],
 "metadata": {
  "kernelspec": {
   "display_name": "Python 3",
   "language": "python",
   "name": "python3"
  },
  "language_info": {
   "codemirror_mode": {
    "name": "ipython",
    "version": 3
   },
   "file_extension": ".py",
   "mimetype": "text/x-python",
   "name": "python",
   "nbconvert_exporter": "python",
   "pygments_lexer": "ipython3",
   "version": "3.6.13"
  }
 },
 "nbformat": 4,
 "nbformat_minor": 5
}
