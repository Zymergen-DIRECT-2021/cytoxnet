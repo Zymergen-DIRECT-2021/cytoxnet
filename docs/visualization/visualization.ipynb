{
 "cells": [
  {
   "cell_type": "markdown",
   "id": "a3b7f7a5-0505-416f-a9b6-987017ee0e37",
   "metadata": {},
   "source": [
    "# Visualization\n",
    "Here the results of the top performing models are compared.\n",
    "\n",
    "For regression:\n",
    "- baseline rfr\n",
    "- baseline graph\n",
    "- multitask graph\n",
    "- transfer graph\n",
    "\n",
    "For classification:\n",
    "- baseline rfc\n",
    "- multitask graph\n",
    "\n",
    "Most of the processing here is repetition from notebooks in the doc/multitask* and transfer notebooks.\n",
    "***\n",
    "***\n"
   ]
  },
  {
   "cell_type": "code",
   "execution_count": 1,
   "id": "6c89626c-6fe1-4628-92cd-d67dd108ad1f",
   "metadata": {},
   "outputs": [],
   "source": [
    "import deepchem as dc\n",
    "import numpy as np\n",
    "import pandas as pd\n",
    "import optuna\n",
    "from functools import reduce\n",
    "\n",
    "import cytoxnet.dataprep.io as io\n",
    "import cytoxnet.dataprep.dataprep as dataprep\n",
    "import cytoxnet.dataprep.featurize as feat\n",
    "from cytoxnet.models.models import ToxModel"
   ]
  },
  {
   "cell_type": "markdown",
   "id": "54cf83ab-e000-4d9b-9f7c-80dccbf6abb0",
   "metadata": {},
   "source": [
    "## Prepare the datasets to use, just as before"
   ]
  },
  {
   "cell_type": "code",
   "execution_count": 2,
   "id": "71f8803b-2b94-4d15-ac5e-bc7c8594a663",
   "metadata": {},
   "outputs": [],
   "source": [
    "## !!!!!!temporary until database query works\n",
    "fish = io.load_data('../database/fish.csv', cols=['smiles', 'fish_LC50'])\n",
    "daphnia = io.load_data('../database/daphnia.csv', cols=['smiles', 'daphnia_EC50'])\n",
    "algea = io.load_data('../database/algea.csv', cols=['smiles', 'algea_EC50'])\n",
    "rat  = io.load_data('../database/rat.csv', cols=['smiles', 'rat_LD50'])\n",
    "ecoli  = io.load_data('../database/ecoli.csv', cols=['smiles', 'ecoli_MIC'])\n",
    "\n",
    "raw = reduce(\n",
    "    lambda x, y: pd.merge(x, y, how='outer', on = 'smiles'),\n",
    "    [fish, daphnia, algea, rat, ecoli]\n",
    ")\n",
    "multitask_names = [\n",
    "    'fish_LC50',\n",
    "    'daphnia_EC50',\n",
    "    'algea_EC50',\n",
    "    'rat_LD50',\n",
    "    'ecoli_MIC'\n",
    "]"
   ]
  },
  {
   "cell_type": "code",
   "execution_count": 3,
   "id": "3c8fea80-991e-40a1-baf3-f582e16b57bf",
   "metadata": {},
   "outputs": [],
   "source": [
    "data_f = feat.add_features(raw, method='RDKitDescriptors', codex='../database/compounds.csv')\n",
    "data_f = feat.add_features(data_f, method='ConvMolFeaturizer')"
   ]
  },
  {
   "cell_type": "markdown",
   "id": "4f40752f-2f26-4d53-b60d-0f19522260b7",
   "metadata": {},
   "source": [
    "Get test indexes"
   ]
  },
  {
   "cell_type": "code",
   "execution_count": 4,
   "id": "c7bd0356-da59-401c-864b-de1afc00301a",
   "metadata": {},
   "outputs": [],
   "source": [
    "algea_only = data_f[~data_f.isna()['algea_EC50']]\n",
    "algea_index = algea_only.index\n",
    "test_index = algea_only.sample(frac=.2, random_state=0).index\n",
    "baseline_index = algea_only.drop(index=test_index).index"
   ]
  },
  {
   "cell_type": "markdown",
   "id": "0d1ad206-a7a0-42f2-a1f2-3d417265a016",
   "metadata": {},
   "source": [
    "### Regression data"
   ]
  },
  {
   "cell_type": "markdown",
   "id": "1d26a72f-3bae-4ab1-811e-f15b7827270f",
   "metadata": {},
   "source": [
    "#### Baseline RFR and graph"
   ]
  },
  {
   "cell_type": "code",
   "execution_count": 5,
   "id": "b5fe093f-5dda-4b16-a82d-f51aaa94a2d5",
   "metadata": {},
   "outputs": [],
   "source": [
    "# create the dataset\n",
    "baseline_rfr = dataprep.convert_to_dataset(\n",
    "    data_f,\n",
    "    X_col='RDKitDescriptors',\n",
    "    y_col=[\n",
    "        'algea_EC50'\n",
    "    ]\n",
    ").select(np.isin(data_f.index, algea_index))\n",
    "\n",
    "baseline_graph = dataprep.convert_to_dataset(\n",
    "    data_f,\n",
    "    X_col='ConvMolFeaturizer',\n",
    "    y_col=[\n",
    "        'algea_EC50'\n",
    "    ]\n",
    ").select(np.isin(data_f.index, algea_index))"
   ]
  },
  {
   "cell_type": "markdown",
   "id": "96ad09f5-fbc9-4f7d-a8f1-e8189548f144",
   "metadata": {},
   "source": [
    "#### Multitask graph"
   ]
  },
  {
   "cell_type": "code",
   "execution_count": 6,
   "id": "7eee3712-82a7-4810-827e-788f38c8e57a",
   "metadata": {},
   "outputs": [],
   "source": [
    "sp_graph_r = dataprep.convert_to_dataset(\n",
    "    data_f,\n",
    "    X_col='ConvMolFeaturizer',\n",
    "    y_col=multitask_names,\n",
    ")"
   ]
  },
  {
   "cell_type": "code",
   "execution_count": 7,
   "id": "bfc70456-63a0-4609-bb85-c26eedb869fb",
   "metadata": {},
   "outputs": [],
   "source": [
    "sp_graph_r = dataprep.handle_sparsity(sp_graph_r)"
   ]
  },
  {
   "cell_type": "markdown",
   "id": "1e7c0b5c-7876-49ad-9d33-90e1aaf5b6b7",
   "metadata": {},
   "source": [
    "### Rat set (for transfer)"
   ]
  },
  {
   "cell_type": "code",
   "execution_count": 8,
   "id": "67b495db-b15c-494c-af36-d7628d7ec77d",
   "metadata": {},
   "outputs": [],
   "source": [
    "rat_r = feat.add_features(rat, method='ConvMolFeaturizer')"
   ]
  },
  {
   "cell_type": "code",
   "execution_count": 9,
   "id": "c63a8613-1715-419e-a95c-511a4e125af8",
   "metadata": {},
   "outputs": [],
   "source": [
    "trans_graph_r = dataprep.convert_to_dataset(\n",
    "    rat_r,\n",
    "    X_col='ConvMolFeaturizer',\n",
    "    y_col=['rat_LD50']\n",
    ")"
   ]
  },
  {
   "cell_type": "markdown",
   "id": "64e316ce-94c6-461a-8711-c1805a1bb54a",
   "metadata": {},
   "source": [
    "### Classification data"
   ]
  },
  {
   "cell_type": "markdown",
   "id": "44e764af-22e1-4118-bb43-190c1d79bc1c",
   "metadata": {},
   "source": [
    "First binarize"
   ]
  },
  {
   "cell_type": "code",
   "execution_count": 10,
   "id": "b4a0802c-c0ef-405b-b443-609b1efc3563",
   "metadata": {},
   "outputs": [],
   "source": [
    "binarized = dataprep.binarize_targets(data_f, target_cols=multitask_names, percentile = .9)"
   ]
  },
  {
   "cell_type": "markdown",
   "id": "71c683d7-b75b-4642-9634-c5f505755684",
   "metadata": {},
   "source": [
    "#### Baseline rfr and graph"
   ]
  },
  {
   "cell_type": "code",
   "execution_count": 11,
   "id": "4791e943-d83c-4c60-bc5c-71b9d1cc1aca",
   "metadata": {},
   "outputs": [],
   "source": [
    "# create the dataset\n",
    "baseline_rfc = dataprep.convert_to_dataset(\n",
    "    binarized,\n",
    "    X_col='RDKitDescriptors',\n",
    "    y_col=[\n",
    "        'algea_EC50'\n",
    "    ]\n",
    ").select(np.isin(data_f.index, algea_index))"
   ]
  },
  {
   "cell_type": "markdown",
   "id": "ada6982c-26ec-4e48-8f68-f404bcb2afb2",
   "metadata": {},
   "source": [
    "#### Multitask graph"
   ]
  },
  {
   "cell_type": "code",
   "execution_count": 12,
   "id": "050709e0-2d52-430d-8f2f-e7d469498721",
   "metadata": {},
   "outputs": [],
   "source": [
    "sp_graph_c = dataprep.convert_to_dataset(\n",
    "    binarized,\n",
    "    X_col='ConvMolFeaturizer',\n",
    "    y_col=multitask_names,\n",
    "    w_label='w'\n",
    ")"
   ]
  },
  {
   "cell_type": "markdown",
   "id": "8fa42c12-17f0-43dc-a397-2af221ef42b2",
   "metadata": {},
   "source": [
    "## Conduct regression predictions"
   ]
  },
  {
   "cell_type": "markdown",
   "id": "6876f83e-f0d0-4915-b2d5-7f4b3f3ff22a",
   "metadata": {},
   "source": [
    "### baseline g"
   ]
  },
  {
   "cell_type": "code",
   "execution_count": 240,
   "id": "5e95b515-2a66-4473-b71c-32de7092c84b",
   "metadata": {},
   "outputs": [],
   "source": [
    "baseline_rfr_study = optuna.load_study(\n",
    "    study_name='opt',\n",
    "    storage=\"sqlite:///../multitask_learning/regression/baseline_r.db\"\n",
    ")"
   ]
  },
  {
   "cell_type": "code",
   "execution_count": 241,
   "id": "b5e6494d-428a-4663-8da5-babdbf1a8c5b",
   "metadata": {},
   "outputs": [],
   "source": [
    "baseline_rfr_params = baseline_rfr_study.best_params"
   ]
  },
  {
   "cell_type": "code",
   "execution_count": 242,
   "id": "51dc2c96-0687-49b0-8bba-4058d1a2fced",
   "metadata": {},
   "outputs": [],
   "source": [
    "# normalize it\n",
    "baseline_rfr_normed, baseline_rfr_transformations = dataprep.data_transformation(\n",
    "    baseline_rfr, transformations = ['NormalizationTransformer'],\n",
    "    to_transform = ['y']\n",
    ")\n",
    "# split out dev and test\n",
    "baseline_rfr_test = baseline_rfr_normed.select(np.isin(baseline_rfr_normed.ids, test_index))\n",
    "baseline_rfr_dev = baseline_rfr_normed.select(np.isin(baseline_rfr_normed.ids, baseline_index))"
   ]
  },
  {
   "cell_type": "markdown",
   "id": "5aebde7b-252a-4c56-9a50-c7d06c917b3f",
   "metadata": {},
   "source": [
    "Get the original unnormed test vector for plotting"
   ]
  },
  {
   "cell_type": "code",
   "execution_count": 243,
   "id": "d24a58ca-6427-424b-b17c-6e8910ac197a",
   "metadata": {},
   "outputs": [],
   "source": [
    "true = data_f.loc[baseline_rfr_test.ids, 'algea_EC50']"
   ]
  },
  {
   "cell_type": "code",
   "execution_count": 244,
   "id": "7f5fd295-3fa0-492b-8de5-307e810a7337",
   "metadata": {},
   "outputs": [
    {
     "name": "stdout",
     "output_type": "stream",
     "text": [
      "WARNING: No tasks passed, assuming one target\n"
     ]
    }
   ],
   "source": [
    "baseline_rfr_model = ToxModel('RFR', **baseline_rfr_params, transformers=baseline_rfr_transformations)"
   ]
  },
  {
   "cell_type": "code",
   "execution_count": 245,
   "id": "d5f1c61f-5f66-492b-a4f9-477edaa49f34",
   "metadata": {},
   "outputs": [],
   "source": [
    "baseline_rfr_model.fit(baseline_rfr_dev)"
   ]
  },
  {
   "cell_type": "code",
   "execution_count": 246,
   "id": "70eae340-02d1-4481-8e44-9709a8e848ce",
   "metadata": {},
   "outputs": [],
   "source": [
    "baseline_rfr_preds = baseline_rfr_model.predict(baseline_rfr_test, untransform=True)"
   ]
  },
  {
   "cell_type": "markdown",
   "id": "50ba7a3c-1edd-4dfa-bd63-779b07cc6d69",
   "metadata": {},
   "source": [
    "### baseline graph"
   ]
  },
  {
   "cell_type": "code",
   "execution_count": 247,
   "id": "d7edfb7f-0301-4e93-aa80-e501d6fe1697",
   "metadata": {},
   "outputs": [],
   "source": [
    "baseline_g_study = optuna.load_study(\n",
    "    study_name='opt',\n",
    "    storage=\"sqlite:///../transfer_testing/graph_r.db\"\n",
    ")"
   ]
  },
  {
   "cell_type": "code",
   "execution_count": 248,
   "id": "e974fb5e-f16c-4422-acb4-e8ceb4d2e369",
   "metadata": {
    "collapsed": true,
    "jupyter": {
     "outputs_hidden": true
    },
    "tags": []
   },
   "outputs": [
    {
     "name": "stderr",
     "output_type": "stream",
     "text": [
      "/Users/ek/miniconda3/envs/cytoxnet/lib/python3.6/site-packages/optuna/distributions.py:430: UserWarning: Choices for a categorical distribution should be a tuple of None, bool, int, float and str for persistent storage but contains [32] which is of type list.\n",
      "  warnings.warn(message)\n",
      "/Users/ek/miniconda3/envs/cytoxnet/lib/python3.6/site-packages/optuna/distributions.py:430: UserWarning: Choices for a categorical distribution should be a tuple of None, bool, int, float and str for persistent storage but contains [64] which is of type list.\n",
      "  warnings.warn(message)\n",
      "/Users/ek/miniconda3/envs/cytoxnet/lib/python3.6/site-packages/optuna/distributions.py:430: UserWarning: Choices for a categorical distribution should be a tuple of None, bool, int, float and str for persistent storage but contains [128] which is of type list.\n",
      "  warnings.warn(message)\n",
      "/Users/ek/miniconda3/envs/cytoxnet/lib/python3.6/site-packages/optuna/distributions.py:430: UserWarning: Choices for a categorical distribution should be a tuple of None, bool, int, float and str for persistent storage but contains [32, 32] which is of type list.\n",
      "  warnings.warn(message)\n",
      "/Users/ek/miniconda3/envs/cytoxnet/lib/python3.6/site-packages/optuna/distributions.py:430: UserWarning: Choices for a categorical distribution should be a tuple of None, bool, int, float and str for persistent storage but contains [64, 64] which is of type list.\n",
      "  warnings.warn(message)\n",
      "/Users/ek/miniconda3/envs/cytoxnet/lib/python3.6/site-packages/optuna/distributions.py:430: UserWarning: Choices for a categorical distribution should be a tuple of None, bool, int, float and str for persistent storage but contains [128, 128] which is of type list.\n",
      "  warnings.warn(message)\n",
      "/Users/ek/miniconda3/envs/cytoxnet/lib/python3.6/site-packages/optuna/distributions.py:430: UserWarning: Choices for a categorical distribution should be a tuple of None, bool, int, float and str for persistent storage but contains [32, 32, 32] which is of type list.\n",
      "  warnings.warn(message)\n",
      "/Users/ek/miniconda3/envs/cytoxnet/lib/python3.6/site-packages/optuna/distributions.py:430: UserWarning: Choices for a categorical distribution should be a tuple of None, bool, int, float and str for persistent storage but contains [64, 64, 64] which is of type list.\n",
      "  warnings.warn(message)\n",
      "/Users/ek/miniconda3/envs/cytoxnet/lib/python3.6/site-packages/optuna/distributions.py:430: UserWarning: Choices for a categorical distribution should be a tuple of None, bool, int, float and str for persistent storage but contains [128, 128, 128] which is of type list.\n",
      "  warnings.warn(message)\n"
     ]
    }
   ],
   "source": [
    "baseline_g_params = baseline_g_study.best_params"
   ]
  },
  {
   "cell_type": "code",
   "execution_count": 249,
   "id": "ffe8f32f-db30-4d7d-9684-c911b1d2d682",
   "metadata": {},
   "outputs": [],
   "source": [
    "# normalize it\n",
    "baseline_g_normed, baseline_g_transformations = dataprep.data_transformation(\n",
    "    baseline_graph, transformations = ['NormalizationTransformer'],\n",
    "    to_transform = ['y']\n",
    ")\n",
    "# split out dev and test\n",
    "baseline_g_test = baseline_g_normed.select(np.isin(baseline_g_normed.ids, test_index))\n",
    "baseline_g_dev = baseline_g_normed.select(np.isin(baseline_g_normed.ids, baseline_index))"
   ]
  },
  {
   "cell_type": "code",
   "execution_count": 250,
   "id": "9c36de5b-bc7f-4404-ac34-3d83293dd305",
   "metadata": {},
   "outputs": [
    {
     "name": "stdout",
     "output_type": "stream",
     "text": [
      "WARNING: No tasks passed, assuming one target\n"
     ]
    }
   ],
   "source": [
    "baseline_g_model = ToxModel(\n",
    "    'GraphCNN',\n",
    "    **baseline_g_params,\n",
    "    transformers=baseline_g_transformations,\n",
    "    mode='regression'\n",
    ")"
   ]
  },
  {
   "cell_type": "code",
   "execution_count": 251,
   "id": "25b68a91-3509-4abb-826d-c5756de036d1",
   "metadata": {
    "collapsed": true,
    "jupyter": {
     "outputs_hidden": true
    },
    "tags": []
   },
   "outputs": [
    {
     "name": "stderr",
     "output_type": "stream",
     "text": [
      "/Users/ek/miniconda3/envs/cytoxnet/lib/python3.6/site-packages/tensorflow/python/framework/indexed_slices.py:437: UserWarning: Converting sparse IndexedSlices(IndexedSlices(indices=Tensor(\"gradient_tape/private__graph_conv_keras_model_4/graph_pool_10/Reshape_14:0\", shape=(159,), dtype=int32), values=Tensor(\"gradient_tape/private__graph_conv_keras_model_4/graph_pool_10/Reshape_13:0\", shape=(159, 128), dtype=float32), dense_shape=Tensor(\"gradient_tape/private__graph_conv_keras_model_4/graph_pool_10/Cast_4:0\", shape=(2,), dtype=int32))) to a dense Tensor of unknown shape. This may consume a large amount of memory.\n",
      "  \"shape. This may consume a large amount of memory.\" % value)\n",
      "/Users/ek/miniconda3/envs/cytoxnet/lib/python3.6/site-packages/tensorflow/python/framework/indexed_slices.py:437: UserWarning: Converting sparse IndexedSlices(IndexedSlices(indices=Tensor(\"gradient_tape/private__graph_conv_keras_model_4/graph_pool_10/Reshape_17:0\", shape=(586,), dtype=int32), values=Tensor(\"gradient_tape/private__graph_conv_keras_model_4/graph_pool_10/Reshape_16:0\", shape=(586, 128), dtype=float32), dense_shape=Tensor(\"gradient_tape/private__graph_conv_keras_model_4/graph_pool_10/Cast_5:0\", shape=(2,), dtype=int32))) to a dense Tensor of unknown shape. This may consume a large amount of memory.\n",
      "  \"shape. This may consume a large amount of memory.\" % value)\n",
      "/Users/ek/miniconda3/envs/cytoxnet/lib/python3.6/site-packages/tensorflow/python/framework/indexed_slices.py:437: UserWarning: Converting sparse IndexedSlices(IndexedSlices(indices=Tensor(\"gradient_tape/private__graph_conv_keras_model_4/graph_pool_10/Reshape_20:0\", shape=(357,), dtype=int32), values=Tensor(\"gradient_tape/private__graph_conv_keras_model_4/graph_pool_10/Reshape_19:0\", shape=(357, 128), dtype=float32), dense_shape=Tensor(\"gradient_tape/private__graph_conv_keras_model_4/graph_pool_10/Cast_6:0\", shape=(2,), dtype=int32))) to a dense Tensor of unknown shape. This may consume a large amount of memory.\n",
      "  \"shape. This may consume a large amount of memory.\" % value)\n",
      "/Users/ek/miniconda3/envs/cytoxnet/lib/python3.6/site-packages/tensorflow/python/framework/indexed_slices.py:437: UserWarning: Converting sparse IndexedSlices(IndexedSlices(indices=Tensor(\"gradient_tape/private__graph_conv_keras_model_4/graph_pool_10/Reshape_23:0\", shape=(60,), dtype=int32), values=Tensor(\"gradient_tape/private__graph_conv_keras_model_4/graph_pool_10/Reshape_22:0\", shape=(60, 128), dtype=float32), dense_shape=Tensor(\"gradient_tape/private__graph_conv_keras_model_4/graph_pool_10/Cast_7:0\", shape=(2,), dtype=int32))) to a dense Tensor of unknown shape. This may consume a large amount of memory.\n",
      "  \"shape. This may consume a large amount of memory.\" % value)\n",
      "/Users/ek/miniconda3/envs/cytoxnet/lib/python3.6/site-packages/tensorflow/python/framework/indexed_slices.py:437: UserWarning: Converting sparse IndexedSlices(IndexedSlices(indices=Tensor(\"gradient_tape/private__graph_conv_keras_model_4/graph_conv_10/Reshape_11:0\", shape=(159,), dtype=int32), values=Tensor(\"gradient_tape/private__graph_conv_keras_model_4/graph_conv_10/Reshape_10:0\", shape=(159, 128), dtype=float32), dense_shape=Tensor(\"gradient_tape/private__graph_conv_keras_model_4/graph_conv_10/Cast:0\", shape=(2,), dtype=int32))) to a dense Tensor of unknown shape. This may consume a large amount of memory.\n",
      "  \"shape. This may consume a large amount of memory.\" % value)\n",
      "/Users/ek/miniconda3/envs/cytoxnet/lib/python3.6/site-packages/tensorflow/python/framework/indexed_slices.py:437: UserWarning: Converting sparse IndexedSlices(IndexedSlices(indices=Tensor(\"gradient_tape/private__graph_conv_keras_model_4/graph_conv_10/Reshape_13:0\", shape=(586,), dtype=int32), values=Tensor(\"gradient_tape/private__graph_conv_keras_model_4/graph_conv_10/Reshape_12:0\", shape=(586, 128), dtype=float32), dense_shape=Tensor(\"gradient_tape/private__graph_conv_keras_model_4/graph_conv_10/Cast_1:0\", shape=(2,), dtype=int32))) to a dense Tensor of unknown shape. This may consume a large amount of memory.\n",
      "  \"shape. This may consume a large amount of memory.\" % value)\n",
      "/Users/ek/miniconda3/envs/cytoxnet/lib/python3.6/site-packages/tensorflow/python/framework/indexed_slices.py:437: UserWarning: Converting sparse IndexedSlices(IndexedSlices(indices=Tensor(\"gradient_tape/private__graph_conv_keras_model_4/graph_conv_10/Reshape_15:0\", shape=(357,), dtype=int32), values=Tensor(\"gradient_tape/private__graph_conv_keras_model_4/graph_conv_10/Reshape_14:0\", shape=(357, 128), dtype=float32), dense_shape=Tensor(\"gradient_tape/private__graph_conv_keras_model_4/graph_conv_10/Cast_2:0\", shape=(2,), dtype=int32))) to a dense Tensor of unknown shape. This may consume a large amount of memory.\n",
      "  \"shape. This may consume a large amount of memory.\" % value)\n",
      "/Users/ek/miniconda3/envs/cytoxnet/lib/python3.6/site-packages/tensorflow/python/framework/indexed_slices.py:437: UserWarning: Converting sparse IndexedSlices(IndexedSlices(indices=Tensor(\"gradient_tape/private__graph_conv_keras_model_4/graph_conv_10/Reshape_17:0\", shape=(60,), dtype=int32), values=Tensor(\"gradient_tape/private__graph_conv_keras_model_4/graph_conv_10/Reshape_16:0\", shape=(60, 128), dtype=float32), dense_shape=Tensor(\"gradient_tape/private__graph_conv_keras_model_4/graph_conv_10/Cast_3:0\", shape=(2,), dtype=int32))) to a dense Tensor of unknown shape. This may consume a large amount of memory.\n",
      "  \"shape. This may consume a large amount of memory.\" % value)\n",
      "/Users/ek/miniconda3/envs/cytoxnet/lib/python3.6/site-packages/tensorflow/python/framework/indexed_slices.py:437: UserWarning: Converting sparse IndexedSlices(IndexedSlices(indices=Tensor(\"gradient_tape/private__graph_conv_keras_model_4/graph_conv_10/Reshape_19:0\", shape=(0,), dtype=int32), values=Tensor(\"gradient_tape/private__graph_conv_keras_model_4/graph_conv_10/Reshape_18:0\", shape=(0, 128), dtype=float32), dense_shape=Tensor(\"gradient_tape/private__graph_conv_keras_model_4/graph_conv_10/Cast_4:0\", shape=(2,), dtype=int32))) to a dense Tensor of unknown shape. This may consume a large amount of memory.\n",
      "  \"shape. This may consume a large amount of memory.\" % value)\n",
      "/Users/ek/miniconda3/envs/cytoxnet/lib/python3.6/site-packages/tensorflow/python/framework/indexed_slices.py:437: UserWarning: Converting sparse IndexedSlices(IndexedSlices(indices=Tensor(\"gradient_tape/private__graph_conv_keras_model_4/graph_conv_10/Reshape_21:0\", shape=(0,), dtype=int32), values=Tensor(\"gradient_tape/private__graph_conv_keras_model_4/graph_conv_10/Reshape_20:0\", shape=(0, 128), dtype=float32), dense_shape=Tensor(\"gradient_tape/private__graph_conv_keras_model_4/graph_conv_10/Cast_5:0\", shape=(2,), dtype=int32))) to a dense Tensor of unknown shape. This may consume a large amount of memory.\n",
      "  \"shape. This may consume a large amount of memory.\" % value)\n",
      "/Users/ek/miniconda3/envs/cytoxnet/lib/python3.6/site-packages/tensorflow/python/framework/indexed_slices.py:437: UserWarning: Converting sparse IndexedSlices(IndexedSlices(indices=Tensor(\"gradient_tape/private__graph_conv_keras_model_4/graph_conv_10/Reshape_23:0\", shape=(0,), dtype=int32), values=Tensor(\"gradient_tape/private__graph_conv_keras_model_4/graph_conv_10/Reshape_22:0\", shape=(0, 128), dtype=float32), dense_shape=Tensor(\"gradient_tape/private__graph_conv_keras_model_4/graph_conv_10/Cast_6:0\", shape=(2,), dtype=int32))) to a dense Tensor of unknown shape. This may consume a large amount of memory.\n",
      "  \"shape. This may consume a large amount of memory.\" % value)\n",
      "/Users/ek/miniconda3/envs/cytoxnet/lib/python3.6/site-packages/tensorflow/python/framework/indexed_slices.py:437: UserWarning: Converting sparse IndexedSlices(IndexedSlices(indices=Tensor(\"gradient_tape/private__graph_conv_keras_model_4/graph_conv_10/Reshape_25:0\", shape=(0,), dtype=int32), values=Tensor(\"gradient_tape/private__graph_conv_keras_model_4/graph_conv_10/Reshape_24:0\", shape=(0, 128), dtype=float32), dense_shape=Tensor(\"gradient_tape/private__graph_conv_keras_model_4/graph_conv_10/Cast_7:0\", shape=(2,), dtype=int32))) to a dense Tensor of unknown shape. This may consume a large amount of memory.\n",
      "  \"shape. This may consume a large amount of memory.\" % value)\n",
      "/Users/ek/miniconda3/envs/cytoxnet/lib/python3.6/site-packages/tensorflow/python/framework/indexed_slices.py:437: UserWarning: Converting sparse IndexedSlices(IndexedSlices(indices=Tensor(\"gradient_tape/private__graph_conv_keras_model_4/graph_conv_10/Reshape_27:0\", shape=(0,), dtype=int32), values=Tensor(\"gradient_tape/private__graph_conv_keras_model_4/graph_conv_10/Reshape_26:0\", shape=(0, 128), dtype=float32), dense_shape=Tensor(\"gradient_tape/private__graph_conv_keras_model_4/graph_conv_10/Cast_8:0\", shape=(2,), dtype=int32))) to a dense Tensor of unknown shape. This may consume a large amount of memory.\n",
      "  \"shape. This may consume a large amount of memory.\" % value)\n",
      "/Users/ek/miniconda3/envs/cytoxnet/lib/python3.6/site-packages/tensorflow/python/framework/indexed_slices.py:437: UserWarning: Converting sparse IndexedSlices(IndexedSlices(indices=Tensor(\"gradient_tape/private__graph_conv_keras_model_4/graph_conv_10/Reshape_29:0\", shape=(0,), dtype=int32), values=Tensor(\"gradient_tape/private__graph_conv_keras_model_4/graph_conv_10/Reshape_28:0\", shape=(0, 128), dtype=float32), dense_shape=Tensor(\"gradient_tape/private__graph_conv_keras_model_4/graph_conv_10/Cast_9:0\", shape=(2,), dtype=int32))) to a dense Tensor of unknown shape. This may consume a large amount of memory.\n",
      "  \"shape. This may consume a large amount of memory.\" % value)\n",
      "/Users/ek/miniconda3/envs/cytoxnet/lib/python3.6/site-packages/tensorflow/python/framework/indexed_slices.py:437: UserWarning: Converting sparse IndexedSlices(IndexedSlices(indices=Tensor(\"gradient_tape/private__graph_conv_keras_model_4/graph_pool_9/Reshape_14:0\", shape=(159,), dtype=int32), values=Tensor(\"gradient_tape/private__graph_conv_keras_model_4/graph_pool_9/Reshape_13:0\", shape=(159, 128), dtype=float32), dense_shape=Tensor(\"gradient_tape/private__graph_conv_keras_model_4/graph_pool_9/Cast_4:0\", shape=(2,), dtype=int32))) to a dense Tensor of unknown shape. This may consume a large amount of memory.\n",
      "  \"shape. This may consume a large amount of memory.\" % value)\n",
      "/Users/ek/miniconda3/envs/cytoxnet/lib/python3.6/site-packages/tensorflow/python/framework/indexed_slices.py:437: UserWarning: Converting sparse IndexedSlices(IndexedSlices(indices=Tensor(\"gradient_tape/private__graph_conv_keras_model_4/graph_pool_9/Reshape_17:0\", shape=(586,), dtype=int32), values=Tensor(\"gradient_tape/private__graph_conv_keras_model_4/graph_pool_9/Reshape_16:0\", shape=(586, 128), dtype=float32), dense_shape=Tensor(\"gradient_tape/private__graph_conv_keras_model_4/graph_pool_9/Cast_5:0\", shape=(2,), dtype=int32))) to a dense Tensor of unknown shape. This may consume a large amount of memory.\n",
      "  \"shape. This may consume a large amount of memory.\" % value)\n",
      "/Users/ek/miniconda3/envs/cytoxnet/lib/python3.6/site-packages/tensorflow/python/framework/indexed_slices.py:437: UserWarning: Converting sparse IndexedSlices(IndexedSlices(indices=Tensor(\"gradient_tape/private__graph_conv_keras_model_4/graph_pool_9/Reshape_20:0\", shape=(357,), dtype=int32), values=Tensor(\"gradient_tape/private__graph_conv_keras_model_4/graph_pool_9/Reshape_19:0\", shape=(357, 128), dtype=float32), dense_shape=Tensor(\"gradient_tape/private__graph_conv_keras_model_4/graph_pool_9/Cast_6:0\", shape=(2,), dtype=int32))) to a dense Tensor of unknown shape. This may consume a large amount of memory.\n",
      "  \"shape. This may consume a large amount of memory.\" % value)\n",
      "/Users/ek/miniconda3/envs/cytoxnet/lib/python3.6/site-packages/tensorflow/python/framework/indexed_slices.py:437: UserWarning: Converting sparse IndexedSlices(IndexedSlices(indices=Tensor(\"gradient_tape/private__graph_conv_keras_model_4/graph_pool_9/Reshape_23:0\", shape=(60,), dtype=int32), values=Tensor(\"gradient_tape/private__graph_conv_keras_model_4/graph_pool_9/Reshape_22:0\", shape=(60, 128), dtype=float32), dense_shape=Tensor(\"gradient_tape/private__graph_conv_keras_model_4/graph_pool_9/Cast_7:0\", shape=(2,), dtype=int32))) to a dense Tensor of unknown shape. This may consume a large amount of memory.\n",
      "  \"shape. This may consume a large amount of memory.\" % value)\n",
      "/Users/ek/miniconda3/envs/cytoxnet/lib/python3.6/site-packages/tensorflow/python/framework/indexed_slices.py:437: UserWarning: Converting sparse IndexedSlices(IndexedSlices(indices=Tensor(\"gradient_tape/private__graph_conv_keras_model_4/graph_conv_9/Reshape_11:0\", shape=(159,), dtype=int32), values=Tensor(\"gradient_tape/private__graph_conv_keras_model_4/graph_conv_9/Reshape_10:0\", shape=(159, 128), dtype=float32), dense_shape=Tensor(\"gradient_tape/private__graph_conv_keras_model_4/graph_conv_9/Cast:0\", shape=(2,), dtype=int32))) to a dense Tensor of unknown shape. This may consume a large amount of memory.\n",
      "  \"shape. This may consume a large amount of memory.\" % value)\n",
      "/Users/ek/miniconda3/envs/cytoxnet/lib/python3.6/site-packages/tensorflow/python/framework/indexed_slices.py:437: UserWarning: Converting sparse IndexedSlices(IndexedSlices(indices=Tensor(\"gradient_tape/private__graph_conv_keras_model_4/graph_conv_9/Reshape_13:0\", shape=(586,), dtype=int32), values=Tensor(\"gradient_tape/private__graph_conv_keras_model_4/graph_conv_9/Reshape_12:0\", shape=(586, 128), dtype=float32), dense_shape=Tensor(\"gradient_tape/private__graph_conv_keras_model_4/graph_conv_9/Cast_1:0\", shape=(2,), dtype=int32))) to a dense Tensor of unknown shape. This may consume a large amount of memory.\n",
      "  \"shape. This may consume a large amount of memory.\" % value)\n",
      "/Users/ek/miniconda3/envs/cytoxnet/lib/python3.6/site-packages/tensorflow/python/framework/indexed_slices.py:437: UserWarning: Converting sparse IndexedSlices(IndexedSlices(indices=Tensor(\"gradient_tape/private__graph_conv_keras_model_4/graph_conv_9/Reshape_15:0\", shape=(357,), dtype=int32), values=Tensor(\"gradient_tape/private__graph_conv_keras_model_4/graph_conv_9/Reshape_14:0\", shape=(357, 128), dtype=float32), dense_shape=Tensor(\"gradient_tape/private__graph_conv_keras_model_4/graph_conv_9/Cast_2:0\", shape=(2,), dtype=int32))) to a dense Tensor of unknown shape. This may consume a large amount of memory.\n",
      "  \"shape. This may consume a large amount of memory.\" % value)\n",
      "/Users/ek/miniconda3/envs/cytoxnet/lib/python3.6/site-packages/tensorflow/python/framework/indexed_slices.py:437: UserWarning: Converting sparse IndexedSlices(IndexedSlices(indices=Tensor(\"gradient_tape/private__graph_conv_keras_model_4/graph_conv_9/Reshape_17:0\", shape=(60,), dtype=int32), values=Tensor(\"gradient_tape/private__graph_conv_keras_model_4/graph_conv_9/Reshape_16:0\", shape=(60, 128), dtype=float32), dense_shape=Tensor(\"gradient_tape/private__graph_conv_keras_model_4/graph_conv_9/Cast_3:0\", shape=(2,), dtype=int32))) to a dense Tensor of unknown shape. This may consume a large amount of memory.\n",
      "  \"shape. This may consume a large amount of memory.\" % value)\n",
      "/Users/ek/miniconda3/envs/cytoxnet/lib/python3.6/site-packages/tensorflow/python/framework/indexed_slices.py:437: UserWarning: Converting sparse IndexedSlices(IndexedSlices(indices=Tensor(\"gradient_tape/private__graph_conv_keras_model_4/graph_conv_9/Reshape_19:0\", shape=(0,), dtype=int32), values=Tensor(\"gradient_tape/private__graph_conv_keras_model_4/graph_conv_9/Reshape_18:0\", shape=(0, 128), dtype=float32), dense_shape=Tensor(\"gradient_tape/private__graph_conv_keras_model_4/graph_conv_9/Cast_4:0\", shape=(2,), dtype=int32))) to a dense Tensor of unknown shape. This may consume a large amount of memory.\n",
      "  \"shape. This may consume a large amount of memory.\" % value)\n",
      "/Users/ek/miniconda3/envs/cytoxnet/lib/python3.6/site-packages/tensorflow/python/framework/indexed_slices.py:437: UserWarning: Converting sparse IndexedSlices(IndexedSlices(indices=Tensor(\"gradient_tape/private__graph_conv_keras_model_4/graph_conv_9/Reshape_21:0\", shape=(0,), dtype=int32), values=Tensor(\"gradient_tape/private__graph_conv_keras_model_4/graph_conv_9/Reshape_20:0\", shape=(0, 128), dtype=float32), dense_shape=Tensor(\"gradient_tape/private__graph_conv_keras_model_4/graph_conv_9/Cast_5:0\", shape=(2,), dtype=int32))) to a dense Tensor of unknown shape. This may consume a large amount of memory.\n",
      "  \"shape. This may consume a large amount of memory.\" % value)\n",
      "/Users/ek/miniconda3/envs/cytoxnet/lib/python3.6/site-packages/tensorflow/python/framework/indexed_slices.py:437: UserWarning: Converting sparse IndexedSlices(IndexedSlices(indices=Tensor(\"gradient_tape/private__graph_conv_keras_model_4/graph_conv_9/Reshape_23:0\", shape=(0,), dtype=int32), values=Tensor(\"gradient_tape/private__graph_conv_keras_model_4/graph_conv_9/Reshape_22:0\", shape=(0, 128), dtype=float32), dense_shape=Tensor(\"gradient_tape/private__graph_conv_keras_model_4/graph_conv_9/Cast_6:0\", shape=(2,), dtype=int32))) to a dense Tensor of unknown shape. This may consume a large amount of memory.\n",
      "  \"shape. This may consume a large amount of memory.\" % value)\n",
      "/Users/ek/miniconda3/envs/cytoxnet/lib/python3.6/site-packages/tensorflow/python/framework/indexed_slices.py:437: UserWarning: Converting sparse IndexedSlices(IndexedSlices(indices=Tensor(\"gradient_tape/private__graph_conv_keras_model_4/graph_conv_9/Reshape_25:0\", shape=(0,), dtype=int32), values=Tensor(\"gradient_tape/private__graph_conv_keras_model_4/graph_conv_9/Reshape_24:0\", shape=(0, 128), dtype=float32), dense_shape=Tensor(\"gradient_tape/private__graph_conv_keras_model_4/graph_conv_9/Cast_7:0\", shape=(2,), dtype=int32))) to a dense Tensor of unknown shape. This may consume a large amount of memory.\n",
      "  \"shape. This may consume a large amount of memory.\" % value)\n",
      "/Users/ek/miniconda3/envs/cytoxnet/lib/python3.6/site-packages/tensorflow/python/framework/indexed_slices.py:437: UserWarning: Converting sparse IndexedSlices(IndexedSlices(indices=Tensor(\"gradient_tape/private__graph_conv_keras_model_4/graph_conv_9/Reshape_27:0\", shape=(0,), dtype=int32), values=Tensor(\"gradient_tape/private__graph_conv_keras_model_4/graph_conv_9/Reshape_26:0\", shape=(0, 128), dtype=float32), dense_shape=Tensor(\"gradient_tape/private__graph_conv_keras_model_4/graph_conv_9/Cast_8:0\", shape=(2,), dtype=int32))) to a dense Tensor of unknown shape. This may consume a large amount of memory.\n",
      "  \"shape. This may consume a large amount of memory.\" % value)\n",
      "/Users/ek/miniconda3/envs/cytoxnet/lib/python3.6/site-packages/tensorflow/python/framework/indexed_slices.py:437: UserWarning: Converting sparse IndexedSlices(IndexedSlices(indices=Tensor(\"gradient_tape/private__graph_conv_keras_model_4/graph_conv_9/Reshape_29:0\", shape=(0,), dtype=int32), values=Tensor(\"gradient_tape/private__graph_conv_keras_model_4/graph_conv_9/Reshape_28:0\", shape=(0, 128), dtype=float32), dense_shape=Tensor(\"gradient_tape/private__graph_conv_keras_model_4/graph_conv_9/Cast_9:0\", shape=(2,), dtype=int32))) to a dense Tensor of unknown shape. This may consume a large amount of memory.\n",
      "  \"shape. This may consume a large amount of memory.\" % value)\n",
      "/Users/ek/miniconda3/envs/cytoxnet/lib/python3.6/site-packages/tensorflow/python/framework/indexed_slices.py:437: UserWarning: Converting sparse IndexedSlices(IndexedSlices(indices=Tensor(\"gradient_tape/private__graph_conv_keras_model_4/graph_pool_8/Reshape_14:0\", shape=(159,), dtype=int32), values=Tensor(\"gradient_tape/private__graph_conv_keras_model_4/graph_pool_8/Reshape_13:0\", shape=(159, 128), dtype=float32), dense_shape=Tensor(\"gradient_tape/private__graph_conv_keras_model_4/graph_pool_8/Cast_4:0\", shape=(2,), dtype=int32))) to a dense Tensor of unknown shape. This may consume a large amount of memory.\n",
      "  \"shape. This may consume a large amount of memory.\" % value)\n",
      "/Users/ek/miniconda3/envs/cytoxnet/lib/python3.6/site-packages/tensorflow/python/framework/indexed_slices.py:437: UserWarning: Converting sparse IndexedSlices(IndexedSlices(indices=Tensor(\"gradient_tape/private__graph_conv_keras_model_4/graph_pool_8/Reshape_17:0\", shape=(586,), dtype=int32), values=Tensor(\"gradient_tape/private__graph_conv_keras_model_4/graph_pool_8/Reshape_16:0\", shape=(586, 128), dtype=float32), dense_shape=Tensor(\"gradient_tape/private__graph_conv_keras_model_4/graph_pool_8/Cast_5:0\", shape=(2,), dtype=int32))) to a dense Tensor of unknown shape. This may consume a large amount of memory.\n",
      "  \"shape. This may consume a large amount of memory.\" % value)\n",
      "/Users/ek/miniconda3/envs/cytoxnet/lib/python3.6/site-packages/tensorflow/python/framework/indexed_slices.py:437: UserWarning: Converting sparse IndexedSlices(IndexedSlices(indices=Tensor(\"gradient_tape/private__graph_conv_keras_model_4/graph_pool_8/Reshape_20:0\", shape=(357,), dtype=int32), values=Tensor(\"gradient_tape/private__graph_conv_keras_model_4/graph_pool_8/Reshape_19:0\", shape=(357, 128), dtype=float32), dense_shape=Tensor(\"gradient_tape/private__graph_conv_keras_model_4/graph_pool_8/Cast_6:0\", shape=(2,), dtype=int32))) to a dense Tensor of unknown shape. This may consume a large amount of memory.\n",
      "  \"shape. This may consume a large amount of memory.\" % value)\n",
      "/Users/ek/miniconda3/envs/cytoxnet/lib/python3.6/site-packages/tensorflow/python/framework/indexed_slices.py:437: UserWarning: Converting sparse IndexedSlices(IndexedSlices(indices=Tensor(\"gradient_tape/private__graph_conv_keras_model_4/graph_pool_8/Reshape_23:0\", shape=(60,), dtype=int32), values=Tensor(\"gradient_tape/private__graph_conv_keras_model_4/graph_pool_8/Reshape_22:0\", shape=(60, 128), dtype=float32), dense_shape=Tensor(\"gradient_tape/private__graph_conv_keras_model_4/graph_pool_8/Cast_7:0\", shape=(2,), dtype=int32))) to a dense Tensor of unknown shape. This may consume a large amount of memory.\n",
      "  \"shape. This may consume a large amount of memory.\" % value)\n",
      "/Users/ek/miniconda3/envs/cytoxnet/lib/python3.6/site-packages/tensorflow/python/framework/indexed_slices.py:437: UserWarning: Converting sparse IndexedSlices(IndexedSlices(indices=Tensor(\"gradient_tape/private__graph_conv_keras_model_4/graph_pool_10/Reshape_14:0\", shape=(170,), dtype=int32), values=Tensor(\"gradient_tape/private__graph_conv_keras_model_4/graph_pool_10/Reshape_13:0\", shape=(170, 128), dtype=float32), dense_shape=Tensor(\"gradient_tape/private__graph_conv_keras_model_4/graph_pool_10/Cast_4:0\", shape=(2,), dtype=int32))) to a dense Tensor of unknown shape. This may consume a large amount of memory.\n",
      "  \"shape. This may consume a large amount of memory.\" % value)\n",
      "/Users/ek/miniconda3/envs/cytoxnet/lib/python3.6/site-packages/tensorflow/python/framework/indexed_slices.py:437: UserWarning: Converting sparse IndexedSlices(IndexedSlices(indices=Tensor(\"gradient_tape/private__graph_conv_keras_model_4/graph_pool_10/Reshape_17:0\", shape=(594,), dtype=int32), values=Tensor(\"gradient_tape/private__graph_conv_keras_model_4/graph_pool_10/Reshape_16:0\", shape=(594, 128), dtype=float32), dense_shape=Tensor(\"gradient_tape/private__graph_conv_keras_model_4/graph_pool_10/Cast_5:0\", shape=(2,), dtype=int32))) to a dense Tensor of unknown shape. This may consume a large amount of memory.\n",
      "  \"shape. This may consume a large amount of memory.\" % value)\n",
      "/Users/ek/miniconda3/envs/cytoxnet/lib/python3.6/site-packages/tensorflow/python/framework/indexed_slices.py:437: UserWarning: Converting sparse IndexedSlices(IndexedSlices(indices=Tensor(\"gradient_tape/private__graph_conv_keras_model_4/graph_pool_10/Reshape_20:0\", shape=(420,), dtype=int32), values=Tensor(\"gradient_tape/private__graph_conv_keras_model_4/graph_pool_10/Reshape_19:0\", shape=(420, 128), dtype=float32), dense_shape=Tensor(\"gradient_tape/private__graph_conv_keras_model_4/graph_pool_10/Cast_6:0\", shape=(2,), dtype=int32))) to a dense Tensor of unknown shape. This may consume a large amount of memory.\n",
      "  \"shape. This may consume a large amount of memory.\" % value)\n",
      "/Users/ek/miniconda3/envs/cytoxnet/lib/python3.6/site-packages/tensorflow/python/framework/indexed_slices.py:437: UserWarning: Converting sparse IndexedSlices(IndexedSlices(indices=Tensor(\"gradient_tape/private__graph_conv_keras_model_4/graph_conv_10/Reshape_11:0\", shape=(170,), dtype=int32), values=Tensor(\"gradient_tape/private__graph_conv_keras_model_4/graph_conv_10/Reshape_10:0\", shape=(170, 128), dtype=float32), dense_shape=Tensor(\"gradient_tape/private__graph_conv_keras_model_4/graph_conv_10/Cast:0\", shape=(2,), dtype=int32))) to a dense Tensor of unknown shape. This may consume a large amount of memory.\n",
      "  \"shape. This may consume a large amount of memory.\" % value)\n",
      "/Users/ek/miniconda3/envs/cytoxnet/lib/python3.6/site-packages/tensorflow/python/framework/indexed_slices.py:437: UserWarning: Converting sparse IndexedSlices(IndexedSlices(indices=Tensor(\"gradient_tape/private__graph_conv_keras_model_4/graph_conv_10/Reshape_13:0\", shape=(594,), dtype=int32), values=Tensor(\"gradient_tape/private__graph_conv_keras_model_4/graph_conv_10/Reshape_12:0\", shape=(594, 128), dtype=float32), dense_shape=Tensor(\"gradient_tape/private__graph_conv_keras_model_4/graph_conv_10/Cast_1:0\", shape=(2,), dtype=int32))) to a dense Tensor of unknown shape. This may consume a large amount of memory.\n",
      "  \"shape. This may consume a large amount of memory.\" % value)\n",
      "/Users/ek/miniconda3/envs/cytoxnet/lib/python3.6/site-packages/tensorflow/python/framework/indexed_slices.py:437: UserWarning: Converting sparse IndexedSlices(IndexedSlices(indices=Tensor(\"gradient_tape/private__graph_conv_keras_model_4/graph_conv_10/Reshape_15:0\", shape=(420,), dtype=int32), values=Tensor(\"gradient_tape/private__graph_conv_keras_model_4/graph_conv_10/Reshape_14:0\", shape=(420, 128), dtype=float32), dense_shape=Tensor(\"gradient_tape/private__graph_conv_keras_model_4/graph_conv_10/Cast_2:0\", shape=(2,), dtype=int32))) to a dense Tensor of unknown shape. This may consume a large amount of memory.\n",
      "  \"shape. This may consume a large amount of memory.\" % value)\n",
      "/Users/ek/miniconda3/envs/cytoxnet/lib/python3.6/site-packages/tensorflow/python/framework/indexed_slices.py:437: UserWarning: Converting sparse IndexedSlices(IndexedSlices(indices=Tensor(\"gradient_tape/private__graph_conv_keras_model_4/graph_pool_9/Reshape_14:0\", shape=(170,), dtype=int32), values=Tensor(\"gradient_tape/private__graph_conv_keras_model_4/graph_pool_9/Reshape_13:0\", shape=(170, 128), dtype=float32), dense_shape=Tensor(\"gradient_tape/private__graph_conv_keras_model_4/graph_pool_9/Cast_4:0\", shape=(2,), dtype=int32))) to a dense Tensor of unknown shape. This may consume a large amount of memory.\n",
      "  \"shape. This may consume a large amount of memory.\" % value)\n",
      "/Users/ek/miniconda3/envs/cytoxnet/lib/python3.6/site-packages/tensorflow/python/framework/indexed_slices.py:437: UserWarning: Converting sparse IndexedSlices(IndexedSlices(indices=Tensor(\"gradient_tape/private__graph_conv_keras_model_4/graph_pool_9/Reshape_17:0\", shape=(594,), dtype=int32), values=Tensor(\"gradient_tape/private__graph_conv_keras_model_4/graph_pool_9/Reshape_16:0\", shape=(594, 128), dtype=float32), dense_shape=Tensor(\"gradient_tape/private__graph_conv_keras_model_4/graph_pool_9/Cast_5:0\", shape=(2,), dtype=int32))) to a dense Tensor of unknown shape. This may consume a large amount of memory.\n",
      "  \"shape. This may consume a large amount of memory.\" % value)\n",
      "/Users/ek/miniconda3/envs/cytoxnet/lib/python3.6/site-packages/tensorflow/python/framework/indexed_slices.py:437: UserWarning: Converting sparse IndexedSlices(IndexedSlices(indices=Tensor(\"gradient_tape/private__graph_conv_keras_model_4/graph_pool_9/Reshape_20:0\", shape=(420,), dtype=int32), values=Tensor(\"gradient_tape/private__graph_conv_keras_model_4/graph_pool_9/Reshape_19:0\", shape=(420, 128), dtype=float32), dense_shape=Tensor(\"gradient_tape/private__graph_conv_keras_model_4/graph_pool_9/Cast_6:0\", shape=(2,), dtype=int32))) to a dense Tensor of unknown shape. This may consume a large amount of memory.\n",
      "  \"shape. This may consume a large amount of memory.\" % value)\n",
      "/Users/ek/miniconda3/envs/cytoxnet/lib/python3.6/site-packages/tensorflow/python/framework/indexed_slices.py:437: UserWarning: Converting sparse IndexedSlices(IndexedSlices(indices=Tensor(\"gradient_tape/private__graph_conv_keras_model_4/graph_conv_9/Reshape_11:0\", shape=(170,), dtype=int32), values=Tensor(\"gradient_tape/private__graph_conv_keras_model_4/graph_conv_9/Reshape_10:0\", shape=(170, 128), dtype=float32), dense_shape=Tensor(\"gradient_tape/private__graph_conv_keras_model_4/graph_conv_9/Cast:0\", shape=(2,), dtype=int32))) to a dense Tensor of unknown shape. This may consume a large amount of memory.\n",
      "  \"shape. This may consume a large amount of memory.\" % value)\n",
      "/Users/ek/miniconda3/envs/cytoxnet/lib/python3.6/site-packages/tensorflow/python/framework/indexed_slices.py:437: UserWarning: Converting sparse IndexedSlices(IndexedSlices(indices=Tensor(\"gradient_tape/private__graph_conv_keras_model_4/graph_conv_9/Reshape_13:0\", shape=(594,), dtype=int32), values=Tensor(\"gradient_tape/private__graph_conv_keras_model_4/graph_conv_9/Reshape_12:0\", shape=(594, 128), dtype=float32), dense_shape=Tensor(\"gradient_tape/private__graph_conv_keras_model_4/graph_conv_9/Cast_1:0\", shape=(2,), dtype=int32))) to a dense Tensor of unknown shape. This may consume a large amount of memory.\n",
      "  \"shape. This may consume a large amount of memory.\" % value)\n",
      "/Users/ek/miniconda3/envs/cytoxnet/lib/python3.6/site-packages/tensorflow/python/framework/indexed_slices.py:437: UserWarning: Converting sparse IndexedSlices(IndexedSlices(indices=Tensor(\"gradient_tape/private__graph_conv_keras_model_4/graph_conv_9/Reshape_15:0\", shape=(420,), dtype=int32), values=Tensor(\"gradient_tape/private__graph_conv_keras_model_4/graph_conv_9/Reshape_14:0\", shape=(420, 128), dtype=float32), dense_shape=Tensor(\"gradient_tape/private__graph_conv_keras_model_4/graph_conv_9/Cast_2:0\", shape=(2,), dtype=int32))) to a dense Tensor of unknown shape. This may consume a large amount of memory.\n",
      "  \"shape. This may consume a large amount of memory.\" % value)\n",
      "/Users/ek/miniconda3/envs/cytoxnet/lib/python3.6/site-packages/tensorflow/python/framework/indexed_slices.py:437: UserWarning: Converting sparse IndexedSlices(IndexedSlices(indices=Tensor(\"gradient_tape/private__graph_conv_keras_model_4/graph_pool_8/Reshape_14:0\", shape=(170,), dtype=int32), values=Tensor(\"gradient_tape/private__graph_conv_keras_model_4/graph_pool_8/Reshape_13:0\", shape=(170, 128), dtype=float32), dense_shape=Tensor(\"gradient_tape/private__graph_conv_keras_model_4/graph_pool_8/Cast_4:0\", shape=(2,), dtype=int32))) to a dense Tensor of unknown shape. This may consume a large amount of memory.\n",
      "  \"shape. This may consume a large amount of memory.\" % value)\n",
      "/Users/ek/miniconda3/envs/cytoxnet/lib/python3.6/site-packages/tensorflow/python/framework/indexed_slices.py:437: UserWarning: Converting sparse IndexedSlices(IndexedSlices(indices=Tensor(\"gradient_tape/private__graph_conv_keras_model_4/graph_pool_8/Reshape_17:0\", shape=(594,), dtype=int32), values=Tensor(\"gradient_tape/private__graph_conv_keras_model_4/graph_pool_8/Reshape_16:0\", shape=(594, 128), dtype=float32), dense_shape=Tensor(\"gradient_tape/private__graph_conv_keras_model_4/graph_pool_8/Cast_5:0\", shape=(2,), dtype=int32))) to a dense Tensor of unknown shape. This may consume a large amount of memory.\n",
      "  \"shape. This may consume a large amount of memory.\" % value)\n",
      "/Users/ek/miniconda3/envs/cytoxnet/lib/python3.6/site-packages/tensorflow/python/framework/indexed_slices.py:437: UserWarning: Converting sparse IndexedSlices(IndexedSlices(indices=Tensor(\"gradient_tape/private__graph_conv_keras_model_4/graph_pool_8/Reshape_20:0\", shape=(420,), dtype=int32), values=Tensor(\"gradient_tape/private__graph_conv_keras_model_4/graph_pool_8/Reshape_19:0\", shape=(420, 128), dtype=float32), dense_shape=Tensor(\"gradient_tape/private__graph_conv_keras_model_4/graph_pool_8/Cast_6:0\", shape=(2,), dtype=int32))) to a dense Tensor of unknown shape. This may consume a large amount of memory.\n",
      "  \"shape. This may consume a large amount of memory.\" % value)\n",
      "/Users/ek/miniconda3/envs/cytoxnet/lib/python3.6/site-packages/tensorflow/python/framework/indexed_slices.py:437: UserWarning: Converting sparse IndexedSlices(IndexedSlices(indices=Tensor(\"gradient_tape/private__graph_conv_keras_model_4/graph_pool_10/Reshape_14:0\", shape=(None,), dtype=int32), values=Tensor(\"gradient_tape/private__graph_conv_keras_model_4/graph_pool_10/Reshape_13:0\", shape=(None, 128), dtype=float32), dense_shape=Tensor(\"gradient_tape/private__graph_conv_keras_model_4/graph_pool_10/Cast_4:0\", shape=(2,), dtype=int32))) to a dense Tensor of unknown shape. This may consume a large amount of memory.\n",
      "  \"shape. This may consume a large amount of memory.\" % value)\n",
      "/Users/ek/miniconda3/envs/cytoxnet/lib/python3.6/site-packages/tensorflow/python/framework/indexed_slices.py:437: UserWarning: Converting sparse IndexedSlices(IndexedSlices(indices=Tensor(\"gradient_tape/private__graph_conv_keras_model_4/graph_pool_10/Reshape_17:0\", shape=(None,), dtype=int32), values=Tensor(\"gradient_tape/private__graph_conv_keras_model_4/graph_pool_10/Reshape_16:0\", shape=(None, 128), dtype=float32), dense_shape=Tensor(\"gradient_tape/private__graph_conv_keras_model_4/graph_pool_10/Cast_5:0\", shape=(2,), dtype=int32))) to a dense Tensor of unknown shape. This may consume a large amount of memory.\n",
      "  \"shape. This may consume a large amount of memory.\" % value)\n",
      "/Users/ek/miniconda3/envs/cytoxnet/lib/python3.6/site-packages/tensorflow/python/framework/indexed_slices.py:437: UserWarning: Converting sparse IndexedSlices(IndexedSlices(indices=Tensor(\"gradient_tape/private__graph_conv_keras_model_4/graph_pool_10/Reshape_20:0\", shape=(None,), dtype=int32), values=Tensor(\"gradient_tape/private__graph_conv_keras_model_4/graph_pool_10/Reshape_19:0\", shape=(None, 128), dtype=float32), dense_shape=Tensor(\"gradient_tape/private__graph_conv_keras_model_4/graph_pool_10/Cast_6:0\", shape=(2,), dtype=int32))) to a dense Tensor of unknown shape. This may consume a large amount of memory.\n",
      "  \"shape. This may consume a large amount of memory.\" % value)\n",
      "/Users/ek/miniconda3/envs/cytoxnet/lib/python3.6/site-packages/tensorflow/python/framework/indexed_slices.py:437: UserWarning: Converting sparse IndexedSlices(IndexedSlices(indices=Tensor(\"gradient_tape/private__graph_conv_keras_model_4/graph_pool_10/Reshape_23:0\", shape=(None,), dtype=int32), values=Tensor(\"gradient_tape/private__graph_conv_keras_model_4/graph_pool_10/Reshape_22:0\", shape=(None, 128), dtype=float32), dense_shape=Tensor(\"gradient_tape/private__graph_conv_keras_model_4/graph_pool_10/Cast_7:0\", shape=(2,), dtype=int32))) to a dense Tensor of unknown shape. This may consume a large amount of memory.\n",
      "  \"shape. This may consume a large amount of memory.\" % value)\n",
      "/Users/ek/miniconda3/envs/cytoxnet/lib/python3.6/site-packages/tensorflow/python/framework/indexed_slices.py:437: UserWarning: Converting sparse IndexedSlices(IndexedSlices(indices=Tensor(\"gradient_tape/private__graph_conv_keras_model_4/graph_conv_10/Reshape_11:0\", shape=(None,), dtype=int32), values=Tensor(\"gradient_tape/private__graph_conv_keras_model_4/graph_conv_10/Reshape_10:0\", shape=(None, 128), dtype=float32), dense_shape=Tensor(\"gradient_tape/private__graph_conv_keras_model_4/graph_conv_10/Cast:0\", shape=(2,), dtype=int32))) to a dense Tensor of unknown shape. This may consume a large amount of memory.\n",
      "  \"shape. This may consume a large amount of memory.\" % value)\n",
      "/Users/ek/miniconda3/envs/cytoxnet/lib/python3.6/site-packages/tensorflow/python/framework/indexed_slices.py:437: UserWarning: Converting sparse IndexedSlices(IndexedSlices(indices=Tensor(\"gradient_tape/private__graph_conv_keras_model_4/graph_conv_10/Reshape_13:0\", shape=(None,), dtype=int32), values=Tensor(\"gradient_tape/private__graph_conv_keras_model_4/graph_conv_10/Reshape_12:0\", shape=(None, 128), dtype=float32), dense_shape=Tensor(\"gradient_tape/private__graph_conv_keras_model_4/graph_conv_10/Cast_1:0\", shape=(2,), dtype=int32))) to a dense Tensor of unknown shape. This may consume a large amount of memory.\n",
      "  \"shape. This may consume a large amount of memory.\" % value)\n",
      "/Users/ek/miniconda3/envs/cytoxnet/lib/python3.6/site-packages/tensorflow/python/framework/indexed_slices.py:437: UserWarning: Converting sparse IndexedSlices(IndexedSlices(indices=Tensor(\"gradient_tape/private__graph_conv_keras_model_4/graph_conv_10/Reshape_15:0\", shape=(None,), dtype=int32), values=Tensor(\"gradient_tape/private__graph_conv_keras_model_4/graph_conv_10/Reshape_14:0\", shape=(None, 128), dtype=float32), dense_shape=Tensor(\"gradient_tape/private__graph_conv_keras_model_4/graph_conv_10/Cast_2:0\", shape=(2,), dtype=int32))) to a dense Tensor of unknown shape. This may consume a large amount of memory.\n",
      "  \"shape. This may consume a large amount of memory.\" % value)\n",
      "/Users/ek/miniconda3/envs/cytoxnet/lib/python3.6/site-packages/tensorflow/python/framework/indexed_slices.py:437: UserWarning: Converting sparse IndexedSlices(IndexedSlices(indices=Tensor(\"gradient_tape/private__graph_conv_keras_model_4/graph_conv_10/Reshape_17:0\", shape=(None,), dtype=int32), values=Tensor(\"gradient_tape/private__graph_conv_keras_model_4/graph_conv_10/Reshape_16:0\", shape=(None, 128), dtype=float32), dense_shape=Tensor(\"gradient_tape/private__graph_conv_keras_model_4/graph_conv_10/Cast_3:0\", shape=(2,), dtype=int32))) to a dense Tensor of unknown shape. This may consume a large amount of memory.\n",
      "  \"shape. This may consume a large amount of memory.\" % value)\n",
      "/Users/ek/miniconda3/envs/cytoxnet/lib/python3.6/site-packages/tensorflow/python/framework/indexed_slices.py:437: UserWarning: Converting sparse IndexedSlices(IndexedSlices(indices=Tensor(\"gradient_tape/private__graph_conv_keras_model_4/graph_pool_9/Reshape_14:0\", shape=(None,), dtype=int32), values=Tensor(\"gradient_tape/private__graph_conv_keras_model_4/graph_pool_9/Reshape_13:0\", shape=(None, 128), dtype=float32), dense_shape=Tensor(\"gradient_tape/private__graph_conv_keras_model_4/graph_pool_9/Cast_4:0\", shape=(2,), dtype=int32))) to a dense Tensor of unknown shape. This may consume a large amount of memory.\n",
      "  \"shape. This may consume a large amount of memory.\" % value)\n",
      "/Users/ek/miniconda3/envs/cytoxnet/lib/python3.6/site-packages/tensorflow/python/framework/indexed_slices.py:437: UserWarning: Converting sparse IndexedSlices(IndexedSlices(indices=Tensor(\"gradient_tape/private__graph_conv_keras_model_4/graph_pool_9/Reshape_17:0\", shape=(None,), dtype=int32), values=Tensor(\"gradient_tape/private__graph_conv_keras_model_4/graph_pool_9/Reshape_16:0\", shape=(None, 128), dtype=float32), dense_shape=Tensor(\"gradient_tape/private__graph_conv_keras_model_4/graph_pool_9/Cast_5:0\", shape=(2,), dtype=int32))) to a dense Tensor of unknown shape. This may consume a large amount of memory.\n",
      "  \"shape. This may consume a large amount of memory.\" % value)\n",
      "/Users/ek/miniconda3/envs/cytoxnet/lib/python3.6/site-packages/tensorflow/python/framework/indexed_slices.py:437: UserWarning: Converting sparse IndexedSlices(IndexedSlices(indices=Tensor(\"gradient_tape/private__graph_conv_keras_model_4/graph_pool_9/Reshape_20:0\", shape=(None,), dtype=int32), values=Tensor(\"gradient_tape/private__graph_conv_keras_model_4/graph_pool_9/Reshape_19:0\", shape=(None, 128), dtype=float32), dense_shape=Tensor(\"gradient_tape/private__graph_conv_keras_model_4/graph_pool_9/Cast_6:0\", shape=(2,), dtype=int32))) to a dense Tensor of unknown shape. This may consume a large amount of memory.\n",
      "  \"shape. This may consume a large amount of memory.\" % value)\n",
      "/Users/ek/miniconda3/envs/cytoxnet/lib/python3.6/site-packages/tensorflow/python/framework/indexed_slices.py:437: UserWarning: Converting sparse IndexedSlices(IndexedSlices(indices=Tensor(\"gradient_tape/private__graph_conv_keras_model_4/graph_pool_9/Reshape_23:0\", shape=(None,), dtype=int32), values=Tensor(\"gradient_tape/private__graph_conv_keras_model_4/graph_pool_9/Reshape_22:0\", shape=(None, 128), dtype=float32), dense_shape=Tensor(\"gradient_tape/private__graph_conv_keras_model_4/graph_pool_9/Cast_7:0\", shape=(2,), dtype=int32))) to a dense Tensor of unknown shape. This may consume a large amount of memory.\n",
      "  \"shape. This may consume a large amount of memory.\" % value)\n",
      "/Users/ek/miniconda3/envs/cytoxnet/lib/python3.6/site-packages/tensorflow/python/framework/indexed_slices.py:437: UserWarning: Converting sparse IndexedSlices(IndexedSlices(indices=Tensor(\"gradient_tape/private__graph_conv_keras_model_4/graph_conv_9/Reshape_11:0\", shape=(None,), dtype=int32), values=Tensor(\"gradient_tape/private__graph_conv_keras_model_4/graph_conv_9/Reshape_10:0\", shape=(None, 128), dtype=float32), dense_shape=Tensor(\"gradient_tape/private__graph_conv_keras_model_4/graph_conv_9/Cast:0\", shape=(2,), dtype=int32))) to a dense Tensor of unknown shape. This may consume a large amount of memory.\n",
      "  \"shape. This may consume a large amount of memory.\" % value)\n",
      "/Users/ek/miniconda3/envs/cytoxnet/lib/python3.6/site-packages/tensorflow/python/framework/indexed_slices.py:437: UserWarning: Converting sparse IndexedSlices(IndexedSlices(indices=Tensor(\"gradient_tape/private__graph_conv_keras_model_4/graph_conv_9/Reshape_13:0\", shape=(None,), dtype=int32), values=Tensor(\"gradient_tape/private__graph_conv_keras_model_4/graph_conv_9/Reshape_12:0\", shape=(None, 128), dtype=float32), dense_shape=Tensor(\"gradient_tape/private__graph_conv_keras_model_4/graph_conv_9/Cast_1:0\", shape=(2,), dtype=int32))) to a dense Tensor of unknown shape. This may consume a large amount of memory.\n",
      "  \"shape. This may consume a large amount of memory.\" % value)\n",
      "/Users/ek/miniconda3/envs/cytoxnet/lib/python3.6/site-packages/tensorflow/python/framework/indexed_slices.py:437: UserWarning: Converting sparse IndexedSlices(IndexedSlices(indices=Tensor(\"gradient_tape/private__graph_conv_keras_model_4/graph_conv_9/Reshape_15:0\", shape=(None,), dtype=int32), values=Tensor(\"gradient_tape/private__graph_conv_keras_model_4/graph_conv_9/Reshape_14:0\", shape=(None, 128), dtype=float32), dense_shape=Tensor(\"gradient_tape/private__graph_conv_keras_model_4/graph_conv_9/Cast_2:0\", shape=(2,), dtype=int32))) to a dense Tensor of unknown shape. This may consume a large amount of memory.\n",
      "  \"shape. This may consume a large amount of memory.\" % value)\n",
      "/Users/ek/miniconda3/envs/cytoxnet/lib/python3.6/site-packages/tensorflow/python/framework/indexed_slices.py:437: UserWarning: Converting sparse IndexedSlices(IndexedSlices(indices=Tensor(\"gradient_tape/private__graph_conv_keras_model_4/graph_conv_9/Reshape_17:0\", shape=(None,), dtype=int32), values=Tensor(\"gradient_tape/private__graph_conv_keras_model_4/graph_conv_9/Reshape_16:0\", shape=(None, 128), dtype=float32), dense_shape=Tensor(\"gradient_tape/private__graph_conv_keras_model_4/graph_conv_9/Cast_3:0\", shape=(2,), dtype=int32))) to a dense Tensor of unknown shape. This may consume a large amount of memory.\n",
      "  \"shape. This may consume a large amount of memory.\" % value)\n",
      "/Users/ek/miniconda3/envs/cytoxnet/lib/python3.6/site-packages/tensorflow/python/framework/indexed_slices.py:437: UserWarning: Converting sparse IndexedSlices(IndexedSlices(indices=Tensor(\"gradient_tape/private__graph_conv_keras_model_4/graph_pool_8/Reshape_14:0\", shape=(None,), dtype=int32), values=Tensor(\"gradient_tape/private__graph_conv_keras_model_4/graph_pool_8/Reshape_13:0\", shape=(None, 128), dtype=float32), dense_shape=Tensor(\"gradient_tape/private__graph_conv_keras_model_4/graph_pool_8/Cast_4:0\", shape=(2,), dtype=int32))) to a dense Tensor of unknown shape. This may consume a large amount of memory.\n",
      "  \"shape. This may consume a large amount of memory.\" % value)\n",
      "/Users/ek/miniconda3/envs/cytoxnet/lib/python3.6/site-packages/tensorflow/python/framework/indexed_slices.py:437: UserWarning: Converting sparse IndexedSlices(IndexedSlices(indices=Tensor(\"gradient_tape/private__graph_conv_keras_model_4/graph_pool_8/Reshape_17:0\", shape=(None,), dtype=int32), values=Tensor(\"gradient_tape/private__graph_conv_keras_model_4/graph_pool_8/Reshape_16:0\", shape=(None, 128), dtype=float32), dense_shape=Tensor(\"gradient_tape/private__graph_conv_keras_model_4/graph_pool_8/Cast_5:0\", shape=(2,), dtype=int32))) to a dense Tensor of unknown shape. This may consume a large amount of memory.\n",
      "  \"shape. This may consume a large amount of memory.\" % value)\n",
      "/Users/ek/miniconda3/envs/cytoxnet/lib/python3.6/site-packages/tensorflow/python/framework/indexed_slices.py:437: UserWarning: Converting sparse IndexedSlices(IndexedSlices(indices=Tensor(\"gradient_tape/private__graph_conv_keras_model_4/graph_pool_8/Reshape_20:0\", shape=(None,), dtype=int32), values=Tensor(\"gradient_tape/private__graph_conv_keras_model_4/graph_pool_8/Reshape_19:0\", shape=(None, 128), dtype=float32), dense_shape=Tensor(\"gradient_tape/private__graph_conv_keras_model_4/graph_pool_8/Cast_6:0\", shape=(2,), dtype=int32))) to a dense Tensor of unknown shape. This may consume a large amount of memory.\n",
      "  \"shape. This may consume a large amount of memory.\" % value)\n",
      "/Users/ek/miniconda3/envs/cytoxnet/lib/python3.6/site-packages/tensorflow/python/framework/indexed_slices.py:437: UserWarning: Converting sparse IndexedSlices(IndexedSlices(indices=Tensor(\"gradient_tape/private__graph_conv_keras_model_4/graph_pool_8/Reshape_23:0\", shape=(None,), dtype=int32), values=Tensor(\"gradient_tape/private__graph_conv_keras_model_4/graph_pool_8/Reshape_22:0\", shape=(None, 128), dtype=float32), dense_shape=Tensor(\"gradient_tape/private__graph_conv_keras_model_4/graph_pool_8/Cast_7:0\", shape=(2,), dtype=int32))) to a dense Tensor of unknown shape. This may consume a large amount of memory.\n",
      "  \"shape. This may consume a large amount of memory.\" % value)\n"
     ]
    },
    {
     "data": {
      "text/plain": [
       "0.042908916473388674"
      ]
     },
     "execution_count": 251,
     "metadata": {},
     "output_type": "execute_result"
    }
   ],
   "source": [
    "baseline_g_model.fit(baseline_g_dev, nb_epoch=100)"
   ]
  },
  {
   "cell_type": "code",
   "execution_count": 252,
   "id": "dd951d39-a7d0-4308-8980-8ac75e3ce154",
   "metadata": {},
   "outputs": [],
   "source": [
    "baseline_g_preds = baseline_g_model.predict(baseline_g_test, untransform=True)"
   ]
  },
  {
   "cell_type": "markdown",
   "id": "a8fd6a17-f840-41d0-b8fb-e4c39be656f5",
   "metadata": {},
   "source": [
    "### multitask graph"
   ]
  },
  {
   "cell_type": "code",
   "execution_count": 253,
   "id": "7a17776e-326c-43c1-90c5-02e271b67667",
   "metadata": {},
   "outputs": [],
   "source": [
    "sparse_g_r_study = optuna.load_study(\n",
    "    study_name='opt',\n",
    "    storage=\"sqlite:///../multitask_learning/regression/graph_r.db\"\n",
    ")"
   ]
  },
  {
   "cell_type": "code",
   "execution_count": 254,
   "id": "ae45af1c-ab5e-4c83-ae9b-7afa3c6278b8",
   "metadata": {
    "tags": []
   },
   "outputs": [],
   "source": [
    "sparse_g_r_params = sparse_g_r_study.best_params"
   ]
  },
  {
   "cell_type": "code",
   "execution_count": 255,
   "id": "a71bd1ca-650b-413e-b31c-6efffbe8e5a3",
   "metadata": {},
   "outputs": [],
   "source": [
    "# normalize it\n",
    "sparse_g_r_normed, sparse_g_r_transformations = dataprep.data_transformation(\n",
    "    sp_graph_r, transformations = ['NormalizationTransformer'],\n",
    "    to_transform = ['y']\n",
    ")\n",
    "# split out dev and test\n",
    "sparse_g_r_test = sparse_g_r_normed.select(np.isin(sparse_g_r_normed.ids, test_index))\n",
    "sparse_g_r_dev = sparse_g_r_normed.select(np.isin(sparse_g_r_normed.ids, baseline_index))"
   ]
  },
  {
   "cell_type": "code",
   "execution_count": 256,
   "id": "a25fcc26-2ce2-47e0-bca6-23abbaf818bd",
   "metadata": {},
   "outputs": [],
   "source": [
    "sparse_g_model = ToxModel(\n",
    "    'GraphCNN',\n",
    "    **sparse_g_r_params,\n",
    "    transformers=sparse_g_r_transformations,\n",
    "    mode='regression',\n",
    "    tasks = multitask_names\n",
    ")"
   ]
  },
  {
   "cell_type": "code",
   "execution_count": 257,
   "id": "c614d1ab-a5da-4128-be86-b351b6515ba6",
   "metadata": {
    "tags": []
   },
   "outputs": [
    {
     "name": "stderr",
     "output_type": "stream",
     "text": [
      "/Users/ek/miniconda3/envs/cytoxnet/lib/python3.6/site-packages/tensorflow/python/framework/indexed_slices.py:437: UserWarning: Converting sparse IndexedSlices(IndexedSlices(indices=Tensor(\"gradient_tape/private__graph_conv_keras_model_5/graph_pool_11/Reshape_14:0\", shape=(927,), dtype=int32), values=Tensor(\"gradient_tape/private__graph_conv_keras_model_5/graph_pool_11/Reshape_13:0\", shape=(927, 128), dtype=float32), dense_shape=Tensor(\"gradient_tape/private__graph_conv_keras_model_5/graph_pool_11/Cast_4:0\", shape=(2,), dtype=int32))) to a dense Tensor of unknown shape. This may consume a large amount of memory.\n",
      "  \"shape. This may consume a large amount of memory.\" % value)\n",
      "/Users/ek/miniconda3/envs/cytoxnet/lib/python3.6/site-packages/tensorflow/python/framework/indexed_slices.py:437: UserWarning: Converting sparse IndexedSlices(IndexedSlices(indices=Tensor(\"gradient_tape/private__graph_conv_keras_model_5/graph_pool_11/Reshape_17:0\", shape=(3610,), dtype=int32), values=Tensor(\"gradient_tape/private__graph_conv_keras_model_5/graph_pool_11/Reshape_16:0\", shape=(3610, 128), dtype=float32), dense_shape=Tensor(\"gradient_tape/private__graph_conv_keras_model_5/graph_pool_11/Cast_5:0\", shape=(2,), dtype=int32))) to a dense Tensor of unknown shape. This may consume a large amount of memory.\n",
      "  \"shape. This may consume a large amount of memory.\" % value)\n",
      "/Users/ek/miniconda3/envs/cytoxnet/lib/python3.6/site-packages/tensorflow/python/framework/indexed_slices.py:437: UserWarning: Converting sparse IndexedSlices(IndexedSlices(indices=Tensor(\"gradient_tape/private__graph_conv_keras_model_5/graph_pool_11/Reshape_20:0\", shape=(2397,), dtype=int32), values=Tensor(\"gradient_tape/private__graph_conv_keras_model_5/graph_pool_11/Reshape_19:0\", shape=(2397, 128), dtype=float32), dense_shape=Tensor(\"gradient_tape/private__graph_conv_keras_model_5/graph_pool_11/Cast_6:0\", shape=(2,), dtype=int32))) to a dense Tensor of unknown shape. This may consume a large amount of memory.\n",
      "  \"shape. This may consume a large amount of memory.\" % value)\n",
      "/Users/ek/miniconda3/envs/cytoxnet/lib/python3.6/site-packages/tensorflow/python/framework/indexed_slices.py:437: UserWarning: Converting sparse IndexedSlices(IndexedSlices(indices=Tensor(\"gradient_tape/private__graph_conv_keras_model_5/graph_pool_11/Reshape_23:0\", shape=(368,), dtype=int32), values=Tensor(\"gradient_tape/private__graph_conv_keras_model_5/graph_pool_11/Reshape_22:0\", shape=(368, 128), dtype=float32), dense_shape=Tensor(\"gradient_tape/private__graph_conv_keras_model_5/graph_pool_11/Cast_7:0\", shape=(2,), dtype=int32))) to a dense Tensor of unknown shape. This may consume a large amount of memory.\n",
      "  \"shape. This may consume a large amount of memory.\" % value)\n",
      "/Users/ek/miniconda3/envs/cytoxnet/lib/python3.6/site-packages/tensorflow/python/framework/indexed_slices.py:437: UserWarning: Converting sparse IndexedSlices(IndexedSlices(indices=Tensor(\"gradient_tape/private__graph_conv_keras_model_5/graph_pool_11/Reshape_14:0\", shape=(915,), dtype=int32), values=Tensor(\"gradient_tape/private__graph_conv_keras_model_5/graph_pool_11/Reshape_13:0\", shape=(915, 128), dtype=float32), dense_shape=Tensor(\"gradient_tape/private__graph_conv_keras_model_5/graph_pool_11/Cast_4:0\", shape=(2,), dtype=int32))) to a dense Tensor of unknown shape. This may consume a large amount of memory.\n",
      "  \"shape. This may consume a large amount of memory.\" % value)\n",
      "/Users/ek/miniconda3/envs/cytoxnet/lib/python3.6/site-packages/tensorflow/python/framework/indexed_slices.py:437: UserWarning: Converting sparse IndexedSlices(IndexedSlices(indices=Tensor(\"gradient_tape/private__graph_conv_keras_model_5/graph_pool_11/Reshape_17:0\", shape=(3686,), dtype=int32), values=Tensor(\"gradient_tape/private__graph_conv_keras_model_5/graph_pool_11/Reshape_16:0\", shape=(3686, 128), dtype=float32), dense_shape=Tensor(\"gradient_tape/private__graph_conv_keras_model_5/graph_pool_11/Cast_5:0\", shape=(2,), dtype=int32))) to a dense Tensor of unknown shape. This may consume a large amount of memory.\n",
      "  \"shape. This may consume a large amount of memory.\" % value)\n",
      "/Users/ek/miniconda3/envs/cytoxnet/lib/python3.6/site-packages/tensorflow/python/framework/indexed_slices.py:437: UserWarning: Converting sparse IndexedSlices(IndexedSlices(indices=Tensor(\"gradient_tape/private__graph_conv_keras_model_5/graph_pool_11/Reshape_20:0\", shape=(2217,), dtype=int32), values=Tensor(\"gradient_tape/private__graph_conv_keras_model_5/graph_pool_11/Reshape_19:0\", shape=(2217, 128), dtype=float32), dense_shape=Tensor(\"gradient_tape/private__graph_conv_keras_model_5/graph_pool_11/Cast_6:0\", shape=(2,), dtype=int32))) to a dense Tensor of unknown shape. This may consume a large amount of memory.\n",
      "  \"shape. This may consume a large amount of memory.\" % value)\n",
      "/Users/ek/miniconda3/envs/cytoxnet/lib/python3.6/site-packages/tensorflow/python/framework/indexed_slices.py:437: UserWarning: Converting sparse IndexedSlices(IndexedSlices(indices=Tensor(\"gradient_tape/private__graph_conv_keras_model_5/graph_pool_11/Reshape_23:0\", shape=(328,), dtype=int32), values=Tensor(\"gradient_tape/private__graph_conv_keras_model_5/graph_pool_11/Reshape_22:0\", shape=(328, 128), dtype=float32), dense_shape=Tensor(\"gradient_tape/private__graph_conv_keras_model_5/graph_pool_11/Cast_7:0\", shape=(2,), dtype=int32))) to a dense Tensor of unknown shape. This may consume a large amount of memory.\n",
      "  \"shape. This may consume a large amount of memory.\" % value)\n",
      "/Users/ek/miniconda3/envs/cytoxnet/lib/python3.6/site-packages/tensorflow/python/framework/indexed_slices.py:437: UserWarning: Converting sparse IndexedSlices(IndexedSlices(indices=Tensor(\"gradient_tape/private__graph_conv_keras_model_5/graph_pool_11/Reshape_14:0\", shape=(None,), dtype=int32), values=Tensor(\"gradient_tape/private__graph_conv_keras_model_5/graph_pool_11/Reshape_13:0\", shape=(None, 128), dtype=float32), dense_shape=Tensor(\"gradient_tape/private__graph_conv_keras_model_5/graph_pool_11/Cast_4:0\", shape=(2,), dtype=int32))) to a dense Tensor of unknown shape. This may consume a large amount of memory.\n",
      "  \"shape. This may consume a large amount of memory.\" % value)\n",
      "/Users/ek/miniconda3/envs/cytoxnet/lib/python3.6/site-packages/tensorflow/python/framework/indexed_slices.py:437: UserWarning: Converting sparse IndexedSlices(IndexedSlices(indices=Tensor(\"gradient_tape/private__graph_conv_keras_model_5/graph_pool_11/Reshape_17:0\", shape=(None,), dtype=int32), values=Tensor(\"gradient_tape/private__graph_conv_keras_model_5/graph_pool_11/Reshape_16:0\", shape=(None, 128), dtype=float32), dense_shape=Tensor(\"gradient_tape/private__graph_conv_keras_model_5/graph_pool_11/Cast_5:0\", shape=(2,), dtype=int32))) to a dense Tensor of unknown shape. This may consume a large amount of memory.\n",
      "  \"shape. This may consume a large amount of memory.\" % value)\n",
      "/Users/ek/miniconda3/envs/cytoxnet/lib/python3.6/site-packages/tensorflow/python/framework/indexed_slices.py:437: UserWarning: Converting sparse IndexedSlices(IndexedSlices(indices=Tensor(\"gradient_tape/private__graph_conv_keras_model_5/graph_pool_11/Reshape_20:0\", shape=(None,), dtype=int32), values=Tensor(\"gradient_tape/private__graph_conv_keras_model_5/graph_pool_11/Reshape_19:0\", shape=(None, 128), dtype=float32), dense_shape=Tensor(\"gradient_tape/private__graph_conv_keras_model_5/graph_pool_11/Cast_6:0\", shape=(2,), dtype=int32))) to a dense Tensor of unknown shape. This may consume a large amount of memory.\n",
      "  \"shape. This may consume a large amount of memory.\" % value)\n",
      "/Users/ek/miniconda3/envs/cytoxnet/lib/python3.6/site-packages/tensorflow/python/framework/indexed_slices.py:437: UserWarning: Converting sparse IndexedSlices(IndexedSlices(indices=Tensor(\"gradient_tape/private__graph_conv_keras_model_5/graph_pool_11/Reshape_23:0\", shape=(None,), dtype=int32), values=Tensor(\"gradient_tape/private__graph_conv_keras_model_5/graph_pool_11/Reshape_22:0\", shape=(None, 128), dtype=float32), dense_shape=Tensor(\"gradient_tape/private__graph_conv_keras_model_5/graph_pool_11/Cast_7:0\", shape=(2,), dtype=int32))) to a dense Tensor of unknown shape. This may consume a large amount of memory.\n",
      "  \"shape. This may consume a large amount of memory.\" % value)\n"
     ]
    },
    {
     "data": {
      "text/plain": [
       "0.42761138916015623"
      ]
     },
     "execution_count": 257,
     "metadata": {},
     "output_type": "execute_result"
    }
   ],
   "source": [
    "sparse_g_model.fit(sparse_g_r_dev, nb_epoch=50)"
   ]
  },
  {
   "cell_type": "code",
   "execution_count": 258,
   "id": "216fabd5-aa55-4162-bf66-c9b9e8444abc",
   "metadata": {},
   "outputs": [
    {
     "name": "stdout",
     "output_type": "stream",
     "text": [
      "WARNING:tensorflow:5 out of the last 16 calls to <function KerasModel._compute_model at 0x1e50b0378> triggered tf.function retracing. Tracing is expensive and the excessive number of tracings could be due to (1) creating @tf.function repeatedly in a loop, (2) passing tensors with different shapes, (3) passing Python objects instead of tensors. For (1), please define your @tf.function outside of the loop. For (2), @tf.function has experimental_relax_shapes=True option that relaxes argument shapes that can avoid unnecessary retracing. For (3), please refer to https://www.tensorflow.org/guide/function#controlling_retracing and https://www.tensorflow.org/api_docs/python/tf/function for  more details.\n",
      "WARNING:tensorflow:6 out of the last 17 calls to <function KerasModel._compute_model at 0x1e50b0378> triggered tf.function retracing. Tracing is expensive and the excessive number of tracings could be due to (1) creating @tf.function repeatedly in a loop, (2) passing tensors with different shapes, (3) passing Python objects instead of tensors. For (1), please define your @tf.function outside of the loop. For (2), @tf.function has experimental_relax_shapes=True option that relaxes argument shapes that can avoid unnecessary retracing. For (3), please refer to https://www.tensorflow.org/guide/function#controlling_retracing and https://www.tensorflow.org/api_docs/python/tf/function for  more details.\n"
     ]
    }
   ],
   "source": [
    "sparse_g_preds = sparse_g_model.predict(sparse_g_r_test, untransform=True)[:,2]"
   ]
  },
  {
   "cell_type": "markdown",
   "id": "ef110bc8-d9a2-47b4-a52d-53fd358cd2a5",
   "metadata": {},
   "source": [
    "### transfer learn"
   ]
  },
  {
   "cell_type": "code",
   "execution_count": 68,
   "id": "1982556f-6ede-4da4-a1d7-0bff0348f8eb",
   "metadata": {},
   "outputs": [],
   "source": [
    "trans_graph_r_normed, trans_graph_r_transformations = dataprep.data_transformation(\n",
    "    trans_graph_r, transformations = ['NormalizationTransformer'],\n",
    "    to_transform = ['y']\n",
    ")"
   ]
  },
  {
   "cell_type": "code",
   "execution_count": 69,
   "id": "4e759cd6-5df1-41b1-a96a-f80a31915b48",
   "metadata": {},
   "outputs": [
    {
     "name": "stdout",
     "output_type": "stream",
     "text": [
      "WARNING: No tasks passed, assuming one target\n"
     ]
    }
   ],
   "source": [
    "transfer = ToxModel(\n",
    "    'GraphCNN',\n",
    "    mode='regression',\n",
    "    transformers = trans_graph_r_transformations,\n",
    "    **baseline_g_params\n",
    ")"
   ]
  },
  {
   "cell_type": "code",
   "execution_count": 70,
   "id": "9a09b4c0-a2d5-4356-bf15-0cdd30243489",
   "metadata": {
    "collapsed": true,
    "jupyter": {
     "outputs_hidden": true
    },
    "tags": []
   },
   "outputs": [
    {
     "name": "stderr",
     "output_type": "stream",
     "text": [
      "/Users/ek/miniconda3/envs/cytoxnet/lib/python3.6/site-packages/tensorflow/python/framework/indexed_slices.py:437: UserWarning: Converting sparse IndexedSlices(IndexedSlices(indices=Tensor(\"gradient_tape/private__graph_conv_keras_model_2/graph_pool_6/Reshape_14:0\", shape=(197,), dtype=int32), values=Tensor(\"gradient_tape/private__graph_conv_keras_model_2/graph_pool_6/Reshape_13:0\", shape=(197, 128), dtype=float32), dense_shape=Tensor(\"gradient_tape/private__graph_conv_keras_model_2/graph_pool_6/Cast_4:0\", shape=(2,), dtype=int32))) to a dense Tensor of unknown shape. This may consume a large amount of memory.\n",
      "  \"shape. This may consume a large amount of memory.\" % value)\n",
      "/Users/ek/miniconda3/envs/cytoxnet/lib/python3.6/site-packages/tensorflow/python/framework/indexed_slices.py:437: UserWarning: Converting sparse IndexedSlices(IndexedSlices(indices=Tensor(\"gradient_tape/private__graph_conv_keras_model_2/graph_pool_6/Reshape_17:0\", shape=(814,), dtype=int32), values=Tensor(\"gradient_tape/private__graph_conv_keras_model_2/graph_pool_6/Reshape_16:0\", shape=(814, 128), dtype=float32), dense_shape=Tensor(\"gradient_tape/private__graph_conv_keras_model_2/graph_pool_6/Cast_5:0\", shape=(2,), dtype=int32))) to a dense Tensor of unknown shape. This may consume a large amount of memory.\n",
      "  \"shape. This may consume a large amount of memory.\" % value)\n",
      "/Users/ek/miniconda3/envs/cytoxnet/lib/python3.6/site-packages/tensorflow/python/framework/indexed_slices.py:437: UserWarning: Converting sparse IndexedSlices(IndexedSlices(indices=Tensor(\"gradient_tape/private__graph_conv_keras_model_2/graph_pool_6/Reshape_20:0\", shape=(573,), dtype=int32), values=Tensor(\"gradient_tape/private__graph_conv_keras_model_2/graph_pool_6/Reshape_19:0\", shape=(573, 128), dtype=float32), dense_shape=Tensor(\"gradient_tape/private__graph_conv_keras_model_2/graph_pool_6/Cast_6:0\", shape=(2,), dtype=int32))) to a dense Tensor of unknown shape. This may consume a large amount of memory.\n",
      "  \"shape. This may consume a large amount of memory.\" % value)\n",
      "/Users/ek/miniconda3/envs/cytoxnet/lib/python3.6/site-packages/tensorflow/python/framework/indexed_slices.py:437: UserWarning: Converting sparse IndexedSlices(IndexedSlices(indices=Tensor(\"gradient_tape/private__graph_conv_keras_model_2/graph_pool_6/Reshape_23:0\", shape=(104,), dtype=int32), values=Tensor(\"gradient_tape/private__graph_conv_keras_model_2/graph_pool_6/Reshape_22:0\", shape=(104, 128), dtype=float32), dense_shape=Tensor(\"gradient_tape/private__graph_conv_keras_model_2/graph_pool_6/Cast_7:0\", shape=(2,), dtype=int32))) to a dense Tensor of unknown shape. This may consume a large amount of memory.\n",
      "  \"shape. This may consume a large amount of memory.\" % value)\n",
      "/Users/ek/miniconda3/envs/cytoxnet/lib/python3.6/site-packages/tensorflow/python/framework/indexed_slices.py:437: UserWarning: Converting sparse IndexedSlices(IndexedSlices(indices=Tensor(\"gradient_tape/private__graph_conv_keras_model_2/graph_conv_6/Reshape_11:0\", shape=(197,), dtype=int32), values=Tensor(\"gradient_tape/private__graph_conv_keras_model_2/graph_conv_6/Reshape_10:0\", shape=(197, 128), dtype=float32), dense_shape=Tensor(\"gradient_tape/private__graph_conv_keras_model_2/graph_conv_6/Cast:0\", shape=(2,), dtype=int32))) to a dense Tensor of unknown shape. This may consume a large amount of memory.\n",
      "  \"shape. This may consume a large amount of memory.\" % value)\n",
      "/Users/ek/miniconda3/envs/cytoxnet/lib/python3.6/site-packages/tensorflow/python/framework/indexed_slices.py:437: UserWarning: Converting sparse IndexedSlices(IndexedSlices(indices=Tensor(\"gradient_tape/private__graph_conv_keras_model_2/graph_conv_6/Reshape_13:0\", shape=(814,), dtype=int32), values=Tensor(\"gradient_tape/private__graph_conv_keras_model_2/graph_conv_6/Reshape_12:0\", shape=(814, 128), dtype=float32), dense_shape=Tensor(\"gradient_tape/private__graph_conv_keras_model_2/graph_conv_6/Cast_1:0\", shape=(2,), dtype=int32))) to a dense Tensor of unknown shape. This may consume a large amount of memory.\n",
      "  \"shape. This may consume a large amount of memory.\" % value)\n",
      "/Users/ek/miniconda3/envs/cytoxnet/lib/python3.6/site-packages/tensorflow/python/framework/indexed_slices.py:437: UserWarning: Converting sparse IndexedSlices(IndexedSlices(indices=Tensor(\"gradient_tape/private__graph_conv_keras_model_2/graph_conv_6/Reshape_15:0\", shape=(573,), dtype=int32), values=Tensor(\"gradient_tape/private__graph_conv_keras_model_2/graph_conv_6/Reshape_14:0\", shape=(573, 128), dtype=float32), dense_shape=Tensor(\"gradient_tape/private__graph_conv_keras_model_2/graph_conv_6/Cast_2:0\", shape=(2,), dtype=int32))) to a dense Tensor of unknown shape. This may consume a large amount of memory.\n",
      "  \"shape. This may consume a large amount of memory.\" % value)\n",
      "/Users/ek/miniconda3/envs/cytoxnet/lib/python3.6/site-packages/tensorflow/python/framework/indexed_slices.py:437: UserWarning: Converting sparse IndexedSlices(IndexedSlices(indices=Tensor(\"gradient_tape/private__graph_conv_keras_model_2/graph_conv_6/Reshape_17:0\", shape=(104,), dtype=int32), values=Tensor(\"gradient_tape/private__graph_conv_keras_model_2/graph_conv_6/Reshape_16:0\", shape=(104, 128), dtype=float32), dense_shape=Tensor(\"gradient_tape/private__graph_conv_keras_model_2/graph_conv_6/Cast_3:0\", shape=(2,), dtype=int32))) to a dense Tensor of unknown shape. This may consume a large amount of memory.\n",
      "  \"shape. This may consume a large amount of memory.\" % value)\n",
      "/Users/ek/miniconda3/envs/cytoxnet/lib/python3.6/site-packages/tensorflow/python/framework/indexed_slices.py:437: UserWarning: Converting sparse IndexedSlices(IndexedSlices(indices=Tensor(\"gradient_tape/private__graph_conv_keras_model_2/graph_conv_6/Reshape_19:0\", shape=(0,), dtype=int32), values=Tensor(\"gradient_tape/private__graph_conv_keras_model_2/graph_conv_6/Reshape_18:0\", shape=(0, 128), dtype=float32), dense_shape=Tensor(\"gradient_tape/private__graph_conv_keras_model_2/graph_conv_6/Cast_4:0\", shape=(2,), dtype=int32))) to a dense Tensor of unknown shape. This may consume a large amount of memory.\n",
      "  \"shape. This may consume a large amount of memory.\" % value)\n",
      "/Users/ek/miniconda3/envs/cytoxnet/lib/python3.6/site-packages/tensorflow/python/framework/indexed_slices.py:437: UserWarning: Converting sparse IndexedSlices(IndexedSlices(indices=Tensor(\"gradient_tape/private__graph_conv_keras_model_2/graph_conv_6/Reshape_21:0\", shape=(0,), dtype=int32), values=Tensor(\"gradient_tape/private__graph_conv_keras_model_2/graph_conv_6/Reshape_20:0\", shape=(0, 128), dtype=float32), dense_shape=Tensor(\"gradient_tape/private__graph_conv_keras_model_2/graph_conv_6/Cast_5:0\", shape=(2,), dtype=int32))) to a dense Tensor of unknown shape. This may consume a large amount of memory.\n",
      "  \"shape. This may consume a large amount of memory.\" % value)\n",
      "/Users/ek/miniconda3/envs/cytoxnet/lib/python3.6/site-packages/tensorflow/python/framework/indexed_slices.py:437: UserWarning: Converting sparse IndexedSlices(IndexedSlices(indices=Tensor(\"gradient_tape/private__graph_conv_keras_model_2/graph_conv_6/Reshape_23:0\", shape=(0,), dtype=int32), values=Tensor(\"gradient_tape/private__graph_conv_keras_model_2/graph_conv_6/Reshape_22:0\", shape=(0, 128), dtype=float32), dense_shape=Tensor(\"gradient_tape/private__graph_conv_keras_model_2/graph_conv_6/Cast_6:0\", shape=(2,), dtype=int32))) to a dense Tensor of unknown shape. This may consume a large amount of memory.\n",
      "  \"shape. This may consume a large amount of memory.\" % value)\n",
      "/Users/ek/miniconda3/envs/cytoxnet/lib/python3.6/site-packages/tensorflow/python/framework/indexed_slices.py:437: UserWarning: Converting sparse IndexedSlices(IndexedSlices(indices=Tensor(\"gradient_tape/private__graph_conv_keras_model_2/graph_conv_6/Reshape_25:0\", shape=(0,), dtype=int32), values=Tensor(\"gradient_tape/private__graph_conv_keras_model_2/graph_conv_6/Reshape_24:0\", shape=(0, 128), dtype=float32), dense_shape=Tensor(\"gradient_tape/private__graph_conv_keras_model_2/graph_conv_6/Cast_7:0\", shape=(2,), dtype=int32))) to a dense Tensor of unknown shape. This may consume a large amount of memory.\n",
      "  \"shape. This may consume a large amount of memory.\" % value)\n",
      "/Users/ek/miniconda3/envs/cytoxnet/lib/python3.6/site-packages/tensorflow/python/framework/indexed_slices.py:437: UserWarning: Converting sparse IndexedSlices(IndexedSlices(indices=Tensor(\"gradient_tape/private__graph_conv_keras_model_2/graph_conv_6/Reshape_27:0\", shape=(0,), dtype=int32), values=Tensor(\"gradient_tape/private__graph_conv_keras_model_2/graph_conv_6/Reshape_26:0\", shape=(0, 128), dtype=float32), dense_shape=Tensor(\"gradient_tape/private__graph_conv_keras_model_2/graph_conv_6/Cast_8:0\", shape=(2,), dtype=int32))) to a dense Tensor of unknown shape. This may consume a large amount of memory.\n",
      "  \"shape. This may consume a large amount of memory.\" % value)\n",
      "/Users/ek/miniconda3/envs/cytoxnet/lib/python3.6/site-packages/tensorflow/python/framework/indexed_slices.py:437: UserWarning: Converting sparse IndexedSlices(IndexedSlices(indices=Tensor(\"gradient_tape/private__graph_conv_keras_model_2/graph_conv_6/Reshape_29:0\", shape=(0,), dtype=int32), values=Tensor(\"gradient_tape/private__graph_conv_keras_model_2/graph_conv_6/Reshape_28:0\", shape=(0, 128), dtype=float32), dense_shape=Tensor(\"gradient_tape/private__graph_conv_keras_model_2/graph_conv_6/Cast_9:0\", shape=(2,), dtype=int32))) to a dense Tensor of unknown shape. This may consume a large amount of memory.\n",
      "  \"shape. This may consume a large amount of memory.\" % value)\n",
      "/Users/ek/miniconda3/envs/cytoxnet/lib/python3.6/site-packages/tensorflow/python/framework/indexed_slices.py:437: UserWarning: Converting sparse IndexedSlices(IndexedSlices(indices=Tensor(\"gradient_tape/private__graph_conv_keras_model_2/graph_pool_5/Reshape_14:0\", shape=(197,), dtype=int32), values=Tensor(\"gradient_tape/private__graph_conv_keras_model_2/graph_pool_5/Reshape_13:0\", shape=(197, 128), dtype=float32), dense_shape=Tensor(\"gradient_tape/private__graph_conv_keras_model_2/graph_pool_5/Cast_4:0\", shape=(2,), dtype=int32))) to a dense Tensor of unknown shape. This may consume a large amount of memory.\n",
      "  \"shape. This may consume a large amount of memory.\" % value)\n",
      "/Users/ek/miniconda3/envs/cytoxnet/lib/python3.6/site-packages/tensorflow/python/framework/indexed_slices.py:437: UserWarning: Converting sparse IndexedSlices(IndexedSlices(indices=Tensor(\"gradient_tape/private__graph_conv_keras_model_2/graph_pool_5/Reshape_17:0\", shape=(814,), dtype=int32), values=Tensor(\"gradient_tape/private__graph_conv_keras_model_2/graph_pool_5/Reshape_16:0\", shape=(814, 128), dtype=float32), dense_shape=Tensor(\"gradient_tape/private__graph_conv_keras_model_2/graph_pool_5/Cast_5:0\", shape=(2,), dtype=int32))) to a dense Tensor of unknown shape. This may consume a large amount of memory.\n",
      "  \"shape. This may consume a large amount of memory.\" % value)\n",
      "/Users/ek/miniconda3/envs/cytoxnet/lib/python3.6/site-packages/tensorflow/python/framework/indexed_slices.py:437: UserWarning: Converting sparse IndexedSlices(IndexedSlices(indices=Tensor(\"gradient_tape/private__graph_conv_keras_model_2/graph_pool_5/Reshape_20:0\", shape=(573,), dtype=int32), values=Tensor(\"gradient_tape/private__graph_conv_keras_model_2/graph_pool_5/Reshape_19:0\", shape=(573, 128), dtype=float32), dense_shape=Tensor(\"gradient_tape/private__graph_conv_keras_model_2/graph_pool_5/Cast_6:0\", shape=(2,), dtype=int32))) to a dense Tensor of unknown shape. This may consume a large amount of memory.\n",
      "  \"shape. This may consume a large amount of memory.\" % value)\n",
      "/Users/ek/miniconda3/envs/cytoxnet/lib/python3.6/site-packages/tensorflow/python/framework/indexed_slices.py:437: UserWarning: Converting sparse IndexedSlices(IndexedSlices(indices=Tensor(\"gradient_tape/private__graph_conv_keras_model_2/graph_pool_5/Reshape_23:0\", shape=(104,), dtype=int32), values=Tensor(\"gradient_tape/private__graph_conv_keras_model_2/graph_pool_5/Reshape_22:0\", shape=(104, 128), dtype=float32), dense_shape=Tensor(\"gradient_tape/private__graph_conv_keras_model_2/graph_pool_5/Cast_7:0\", shape=(2,), dtype=int32))) to a dense Tensor of unknown shape. This may consume a large amount of memory.\n",
      "  \"shape. This may consume a large amount of memory.\" % value)\n",
      "/Users/ek/miniconda3/envs/cytoxnet/lib/python3.6/site-packages/tensorflow/python/framework/indexed_slices.py:437: UserWarning: Converting sparse IndexedSlices(IndexedSlices(indices=Tensor(\"gradient_tape/private__graph_conv_keras_model_2/graph_conv_5/Reshape_11:0\", shape=(197,), dtype=int32), values=Tensor(\"gradient_tape/private__graph_conv_keras_model_2/graph_conv_5/Reshape_10:0\", shape=(197, 128), dtype=float32), dense_shape=Tensor(\"gradient_tape/private__graph_conv_keras_model_2/graph_conv_5/Cast:0\", shape=(2,), dtype=int32))) to a dense Tensor of unknown shape. This may consume a large amount of memory.\n",
      "  \"shape. This may consume a large amount of memory.\" % value)\n",
      "/Users/ek/miniconda3/envs/cytoxnet/lib/python3.6/site-packages/tensorflow/python/framework/indexed_slices.py:437: UserWarning: Converting sparse IndexedSlices(IndexedSlices(indices=Tensor(\"gradient_tape/private__graph_conv_keras_model_2/graph_conv_5/Reshape_13:0\", shape=(814,), dtype=int32), values=Tensor(\"gradient_tape/private__graph_conv_keras_model_2/graph_conv_5/Reshape_12:0\", shape=(814, 128), dtype=float32), dense_shape=Tensor(\"gradient_tape/private__graph_conv_keras_model_2/graph_conv_5/Cast_1:0\", shape=(2,), dtype=int32))) to a dense Tensor of unknown shape. This may consume a large amount of memory.\n",
      "  \"shape. This may consume a large amount of memory.\" % value)\n",
      "/Users/ek/miniconda3/envs/cytoxnet/lib/python3.6/site-packages/tensorflow/python/framework/indexed_slices.py:437: UserWarning: Converting sparse IndexedSlices(IndexedSlices(indices=Tensor(\"gradient_tape/private__graph_conv_keras_model_2/graph_conv_5/Reshape_15:0\", shape=(573,), dtype=int32), values=Tensor(\"gradient_tape/private__graph_conv_keras_model_2/graph_conv_5/Reshape_14:0\", shape=(573, 128), dtype=float32), dense_shape=Tensor(\"gradient_tape/private__graph_conv_keras_model_2/graph_conv_5/Cast_2:0\", shape=(2,), dtype=int32))) to a dense Tensor of unknown shape. This may consume a large amount of memory.\n",
      "  \"shape. This may consume a large amount of memory.\" % value)\n",
      "/Users/ek/miniconda3/envs/cytoxnet/lib/python3.6/site-packages/tensorflow/python/framework/indexed_slices.py:437: UserWarning: Converting sparse IndexedSlices(IndexedSlices(indices=Tensor(\"gradient_tape/private__graph_conv_keras_model_2/graph_conv_5/Reshape_17:0\", shape=(104,), dtype=int32), values=Tensor(\"gradient_tape/private__graph_conv_keras_model_2/graph_conv_5/Reshape_16:0\", shape=(104, 128), dtype=float32), dense_shape=Tensor(\"gradient_tape/private__graph_conv_keras_model_2/graph_conv_5/Cast_3:0\", shape=(2,), dtype=int32))) to a dense Tensor of unknown shape. This may consume a large amount of memory.\n",
      "  \"shape. This may consume a large amount of memory.\" % value)\n",
      "/Users/ek/miniconda3/envs/cytoxnet/lib/python3.6/site-packages/tensorflow/python/framework/indexed_slices.py:437: UserWarning: Converting sparse IndexedSlices(IndexedSlices(indices=Tensor(\"gradient_tape/private__graph_conv_keras_model_2/graph_conv_5/Reshape_19:0\", shape=(0,), dtype=int32), values=Tensor(\"gradient_tape/private__graph_conv_keras_model_2/graph_conv_5/Reshape_18:0\", shape=(0, 128), dtype=float32), dense_shape=Tensor(\"gradient_tape/private__graph_conv_keras_model_2/graph_conv_5/Cast_4:0\", shape=(2,), dtype=int32))) to a dense Tensor of unknown shape. This may consume a large amount of memory.\n",
      "  \"shape. This may consume a large amount of memory.\" % value)\n",
      "/Users/ek/miniconda3/envs/cytoxnet/lib/python3.6/site-packages/tensorflow/python/framework/indexed_slices.py:437: UserWarning: Converting sparse IndexedSlices(IndexedSlices(indices=Tensor(\"gradient_tape/private__graph_conv_keras_model_2/graph_conv_5/Reshape_21:0\", shape=(0,), dtype=int32), values=Tensor(\"gradient_tape/private__graph_conv_keras_model_2/graph_conv_5/Reshape_20:0\", shape=(0, 128), dtype=float32), dense_shape=Tensor(\"gradient_tape/private__graph_conv_keras_model_2/graph_conv_5/Cast_5:0\", shape=(2,), dtype=int32))) to a dense Tensor of unknown shape. This may consume a large amount of memory.\n",
      "  \"shape. This may consume a large amount of memory.\" % value)\n",
      "/Users/ek/miniconda3/envs/cytoxnet/lib/python3.6/site-packages/tensorflow/python/framework/indexed_slices.py:437: UserWarning: Converting sparse IndexedSlices(IndexedSlices(indices=Tensor(\"gradient_tape/private__graph_conv_keras_model_2/graph_conv_5/Reshape_23:0\", shape=(0,), dtype=int32), values=Tensor(\"gradient_tape/private__graph_conv_keras_model_2/graph_conv_5/Reshape_22:0\", shape=(0, 128), dtype=float32), dense_shape=Tensor(\"gradient_tape/private__graph_conv_keras_model_2/graph_conv_5/Cast_6:0\", shape=(2,), dtype=int32))) to a dense Tensor of unknown shape. This may consume a large amount of memory.\n",
      "  \"shape. This may consume a large amount of memory.\" % value)\n",
      "/Users/ek/miniconda3/envs/cytoxnet/lib/python3.6/site-packages/tensorflow/python/framework/indexed_slices.py:437: UserWarning: Converting sparse IndexedSlices(IndexedSlices(indices=Tensor(\"gradient_tape/private__graph_conv_keras_model_2/graph_conv_5/Reshape_25:0\", shape=(0,), dtype=int32), values=Tensor(\"gradient_tape/private__graph_conv_keras_model_2/graph_conv_5/Reshape_24:0\", shape=(0, 128), dtype=float32), dense_shape=Tensor(\"gradient_tape/private__graph_conv_keras_model_2/graph_conv_5/Cast_7:0\", shape=(2,), dtype=int32))) to a dense Tensor of unknown shape. This may consume a large amount of memory.\n",
      "  \"shape. This may consume a large amount of memory.\" % value)\n",
      "/Users/ek/miniconda3/envs/cytoxnet/lib/python3.6/site-packages/tensorflow/python/framework/indexed_slices.py:437: UserWarning: Converting sparse IndexedSlices(IndexedSlices(indices=Tensor(\"gradient_tape/private__graph_conv_keras_model_2/graph_conv_5/Reshape_27:0\", shape=(0,), dtype=int32), values=Tensor(\"gradient_tape/private__graph_conv_keras_model_2/graph_conv_5/Reshape_26:0\", shape=(0, 128), dtype=float32), dense_shape=Tensor(\"gradient_tape/private__graph_conv_keras_model_2/graph_conv_5/Cast_8:0\", shape=(2,), dtype=int32))) to a dense Tensor of unknown shape. This may consume a large amount of memory.\n",
      "  \"shape. This may consume a large amount of memory.\" % value)\n",
      "/Users/ek/miniconda3/envs/cytoxnet/lib/python3.6/site-packages/tensorflow/python/framework/indexed_slices.py:437: UserWarning: Converting sparse IndexedSlices(IndexedSlices(indices=Tensor(\"gradient_tape/private__graph_conv_keras_model_2/graph_conv_5/Reshape_29:0\", shape=(0,), dtype=int32), values=Tensor(\"gradient_tape/private__graph_conv_keras_model_2/graph_conv_5/Reshape_28:0\", shape=(0, 128), dtype=float32), dense_shape=Tensor(\"gradient_tape/private__graph_conv_keras_model_2/graph_conv_5/Cast_9:0\", shape=(2,), dtype=int32))) to a dense Tensor of unknown shape. This may consume a large amount of memory.\n",
      "  \"shape. This may consume a large amount of memory.\" % value)\n",
      "/Users/ek/miniconda3/envs/cytoxnet/lib/python3.6/site-packages/tensorflow/python/framework/indexed_slices.py:437: UserWarning: Converting sparse IndexedSlices(IndexedSlices(indices=Tensor(\"gradient_tape/private__graph_conv_keras_model_2/graph_pool_4/Reshape_14:0\", shape=(197,), dtype=int32), values=Tensor(\"gradient_tape/private__graph_conv_keras_model_2/graph_pool_4/Reshape_13:0\", shape=(197, 128), dtype=float32), dense_shape=Tensor(\"gradient_tape/private__graph_conv_keras_model_2/graph_pool_4/Cast_4:0\", shape=(2,), dtype=int32))) to a dense Tensor of unknown shape. This may consume a large amount of memory.\n",
      "  \"shape. This may consume a large amount of memory.\" % value)\n",
      "/Users/ek/miniconda3/envs/cytoxnet/lib/python3.6/site-packages/tensorflow/python/framework/indexed_slices.py:437: UserWarning: Converting sparse IndexedSlices(IndexedSlices(indices=Tensor(\"gradient_tape/private__graph_conv_keras_model_2/graph_pool_4/Reshape_17:0\", shape=(814,), dtype=int32), values=Tensor(\"gradient_tape/private__graph_conv_keras_model_2/graph_pool_4/Reshape_16:0\", shape=(814, 128), dtype=float32), dense_shape=Tensor(\"gradient_tape/private__graph_conv_keras_model_2/graph_pool_4/Cast_5:0\", shape=(2,), dtype=int32))) to a dense Tensor of unknown shape. This may consume a large amount of memory.\n",
      "  \"shape. This may consume a large amount of memory.\" % value)\n",
      "/Users/ek/miniconda3/envs/cytoxnet/lib/python3.6/site-packages/tensorflow/python/framework/indexed_slices.py:437: UserWarning: Converting sparse IndexedSlices(IndexedSlices(indices=Tensor(\"gradient_tape/private__graph_conv_keras_model_2/graph_pool_4/Reshape_20:0\", shape=(573,), dtype=int32), values=Tensor(\"gradient_tape/private__graph_conv_keras_model_2/graph_pool_4/Reshape_19:0\", shape=(573, 128), dtype=float32), dense_shape=Tensor(\"gradient_tape/private__graph_conv_keras_model_2/graph_pool_4/Cast_6:0\", shape=(2,), dtype=int32))) to a dense Tensor of unknown shape. This may consume a large amount of memory.\n",
      "  \"shape. This may consume a large amount of memory.\" % value)\n",
      "/Users/ek/miniconda3/envs/cytoxnet/lib/python3.6/site-packages/tensorflow/python/framework/indexed_slices.py:437: UserWarning: Converting sparse IndexedSlices(IndexedSlices(indices=Tensor(\"gradient_tape/private__graph_conv_keras_model_2/graph_pool_4/Reshape_23:0\", shape=(104,), dtype=int32), values=Tensor(\"gradient_tape/private__graph_conv_keras_model_2/graph_pool_4/Reshape_22:0\", shape=(104, 128), dtype=float32), dense_shape=Tensor(\"gradient_tape/private__graph_conv_keras_model_2/graph_pool_4/Cast_7:0\", shape=(2,), dtype=int32))) to a dense Tensor of unknown shape. This may consume a large amount of memory.\n",
      "  \"shape. This may consume a large amount of memory.\" % value)\n",
      "/Users/ek/miniconda3/envs/cytoxnet/lib/python3.6/site-packages/tensorflow/python/framework/indexed_slices.py:437: UserWarning: Converting sparse IndexedSlices(IndexedSlices(indices=Tensor(\"gradient_tape/private__graph_conv_keras_model_2/graph_pool_6/Reshape_14:0\", shape=(217,), dtype=int32), values=Tensor(\"gradient_tape/private__graph_conv_keras_model_2/graph_pool_6/Reshape_13:0\", shape=(217, 128), dtype=float32), dense_shape=Tensor(\"gradient_tape/private__graph_conv_keras_model_2/graph_pool_6/Cast_4:0\", shape=(2,), dtype=int32))) to a dense Tensor of unknown shape. This may consume a large amount of memory.\n",
      "  \"shape. This may consume a large amount of memory.\" % value)\n",
      "/Users/ek/miniconda3/envs/cytoxnet/lib/python3.6/site-packages/tensorflow/python/framework/indexed_slices.py:437: UserWarning: Converting sparse IndexedSlices(IndexedSlices(indices=Tensor(\"gradient_tape/private__graph_conv_keras_model_2/graph_pool_6/Reshape_17:0\", shape=(650,), dtype=int32), values=Tensor(\"gradient_tape/private__graph_conv_keras_model_2/graph_pool_6/Reshape_16:0\", shape=(650, 128), dtype=float32), dense_shape=Tensor(\"gradient_tape/private__graph_conv_keras_model_2/graph_pool_6/Cast_5:0\", shape=(2,), dtype=int32))) to a dense Tensor of unknown shape. This may consume a large amount of memory.\n",
      "  \"shape. This may consume a large amount of memory.\" % value)\n",
      "/Users/ek/miniconda3/envs/cytoxnet/lib/python3.6/site-packages/tensorflow/python/framework/indexed_slices.py:437: UserWarning: Converting sparse IndexedSlices(IndexedSlices(indices=Tensor(\"gradient_tape/private__graph_conv_keras_model_2/graph_pool_6/Reshape_20:0\", shape=(525,), dtype=int32), values=Tensor(\"gradient_tape/private__graph_conv_keras_model_2/graph_pool_6/Reshape_19:0\", shape=(525, 128), dtype=float32), dense_shape=Tensor(\"gradient_tape/private__graph_conv_keras_model_2/graph_pool_6/Cast_6:0\", shape=(2,), dtype=int32))) to a dense Tensor of unknown shape. This may consume a large amount of memory.\n",
      "  \"shape. This may consume a large amount of memory.\" % value)\n",
      "/Users/ek/miniconda3/envs/cytoxnet/lib/python3.6/site-packages/tensorflow/python/framework/indexed_slices.py:437: UserWarning: Converting sparse IndexedSlices(IndexedSlices(indices=Tensor(\"gradient_tape/private__graph_conv_keras_model_2/graph_pool_6/Reshape_23:0\", shape=(132,), dtype=int32), values=Tensor(\"gradient_tape/private__graph_conv_keras_model_2/graph_pool_6/Reshape_22:0\", shape=(132, 128), dtype=float32), dense_shape=Tensor(\"gradient_tape/private__graph_conv_keras_model_2/graph_pool_6/Cast_7:0\", shape=(2,), dtype=int32))) to a dense Tensor of unknown shape. This may consume a large amount of memory.\n",
      "  \"shape. This may consume a large amount of memory.\" % value)\n",
      "/Users/ek/miniconda3/envs/cytoxnet/lib/python3.6/site-packages/tensorflow/python/framework/indexed_slices.py:437: UserWarning: Converting sparse IndexedSlices(IndexedSlices(indices=Tensor(\"gradient_tape/private__graph_conv_keras_model_2/graph_conv_6/Reshape_11:0\", shape=(217,), dtype=int32), values=Tensor(\"gradient_tape/private__graph_conv_keras_model_2/graph_conv_6/Reshape_10:0\", shape=(217, 128), dtype=float32), dense_shape=Tensor(\"gradient_tape/private__graph_conv_keras_model_2/graph_conv_6/Cast:0\", shape=(2,), dtype=int32))) to a dense Tensor of unknown shape. This may consume a large amount of memory.\n",
      "  \"shape. This may consume a large amount of memory.\" % value)\n",
      "/Users/ek/miniconda3/envs/cytoxnet/lib/python3.6/site-packages/tensorflow/python/framework/indexed_slices.py:437: UserWarning: Converting sparse IndexedSlices(IndexedSlices(indices=Tensor(\"gradient_tape/private__graph_conv_keras_model_2/graph_conv_6/Reshape_13:0\", shape=(650,), dtype=int32), values=Tensor(\"gradient_tape/private__graph_conv_keras_model_2/graph_conv_6/Reshape_12:0\", shape=(650, 128), dtype=float32), dense_shape=Tensor(\"gradient_tape/private__graph_conv_keras_model_2/graph_conv_6/Cast_1:0\", shape=(2,), dtype=int32))) to a dense Tensor of unknown shape. This may consume a large amount of memory.\n",
      "  \"shape. This may consume a large amount of memory.\" % value)\n",
      "/Users/ek/miniconda3/envs/cytoxnet/lib/python3.6/site-packages/tensorflow/python/framework/indexed_slices.py:437: UserWarning: Converting sparse IndexedSlices(IndexedSlices(indices=Tensor(\"gradient_tape/private__graph_conv_keras_model_2/graph_conv_6/Reshape_15:0\", shape=(525,), dtype=int32), values=Tensor(\"gradient_tape/private__graph_conv_keras_model_2/graph_conv_6/Reshape_14:0\", shape=(525, 128), dtype=float32), dense_shape=Tensor(\"gradient_tape/private__graph_conv_keras_model_2/graph_conv_6/Cast_2:0\", shape=(2,), dtype=int32))) to a dense Tensor of unknown shape. This may consume a large amount of memory.\n",
      "  \"shape. This may consume a large amount of memory.\" % value)\n",
      "/Users/ek/miniconda3/envs/cytoxnet/lib/python3.6/site-packages/tensorflow/python/framework/indexed_slices.py:437: UserWarning: Converting sparse IndexedSlices(IndexedSlices(indices=Tensor(\"gradient_tape/private__graph_conv_keras_model_2/graph_conv_6/Reshape_17:0\", shape=(132,), dtype=int32), values=Tensor(\"gradient_tape/private__graph_conv_keras_model_2/graph_conv_6/Reshape_16:0\", shape=(132, 128), dtype=float32), dense_shape=Tensor(\"gradient_tape/private__graph_conv_keras_model_2/graph_conv_6/Cast_3:0\", shape=(2,), dtype=int32))) to a dense Tensor of unknown shape. This may consume a large amount of memory.\n",
      "  \"shape. This may consume a large amount of memory.\" % value)\n",
      "/Users/ek/miniconda3/envs/cytoxnet/lib/python3.6/site-packages/tensorflow/python/framework/indexed_slices.py:437: UserWarning: Converting sparse IndexedSlices(IndexedSlices(indices=Tensor(\"gradient_tape/private__graph_conv_keras_model_2/graph_pool_5/Reshape_14:0\", shape=(217,), dtype=int32), values=Tensor(\"gradient_tape/private__graph_conv_keras_model_2/graph_pool_5/Reshape_13:0\", shape=(217, 128), dtype=float32), dense_shape=Tensor(\"gradient_tape/private__graph_conv_keras_model_2/graph_pool_5/Cast_4:0\", shape=(2,), dtype=int32))) to a dense Tensor of unknown shape. This may consume a large amount of memory.\n",
      "  \"shape. This may consume a large amount of memory.\" % value)\n",
      "/Users/ek/miniconda3/envs/cytoxnet/lib/python3.6/site-packages/tensorflow/python/framework/indexed_slices.py:437: UserWarning: Converting sparse IndexedSlices(IndexedSlices(indices=Tensor(\"gradient_tape/private__graph_conv_keras_model_2/graph_pool_5/Reshape_17:0\", shape=(650,), dtype=int32), values=Tensor(\"gradient_tape/private__graph_conv_keras_model_2/graph_pool_5/Reshape_16:0\", shape=(650, 128), dtype=float32), dense_shape=Tensor(\"gradient_tape/private__graph_conv_keras_model_2/graph_pool_5/Cast_5:0\", shape=(2,), dtype=int32))) to a dense Tensor of unknown shape. This may consume a large amount of memory.\n",
      "  \"shape. This may consume a large amount of memory.\" % value)\n",
      "/Users/ek/miniconda3/envs/cytoxnet/lib/python3.6/site-packages/tensorflow/python/framework/indexed_slices.py:437: UserWarning: Converting sparse IndexedSlices(IndexedSlices(indices=Tensor(\"gradient_tape/private__graph_conv_keras_model_2/graph_pool_5/Reshape_20:0\", shape=(525,), dtype=int32), values=Tensor(\"gradient_tape/private__graph_conv_keras_model_2/graph_pool_5/Reshape_19:0\", shape=(525, 128), dtype=float32), dense_shape=Tensor(\"gradient_tape/private__graph_conv_keras_model_2/graph_pool_5/Cast_6:0\", shape=(2,), dtype=int32))) to a dense Tensor of unknown shape. This may consume a large amount of memory.\n",
      "  \"shape. This may consume a large amount of memory.\" % value)\n",
      "/Users/ek/miniconda3/envs/cytoxnet/lib/python3.6/site-packages/tensorflow/python/framework/indexed_slices.py:437: UserWarning: Converting sparse IndexedSlices(IndexedSlices(indices=Tensor(\"gradient_tape/private__graph_conv_keras_model_2/graph_pool_5/Reshape_23:0\", shape=(132,), dtype=int32), values=Tensor(\"gradient_tape/private__graph_conv_keras_model_2/graph_pool_5/Reshape_22:0\", shape=(132, 128), dtype=float32), dense_shape=Tensor(\"gradient_tape/private__graph_conv_keras_model_2/graph_pool_5/Cast_7:0\", shape=(2,), dtype=int32))) to a dense Tensor of unknown shape. This may consume a large amount of memory.\n",
      "  \"shape. This may consume a large amount of memory.\" % value)\n",
      "/Users/ek/miniconda3/envs/cytoxnet/lib/python3.6/site-packages/tensorflow/python/framework/indexed_slices.py:437: UserWarning: Converting sparse IndexedSlices(IndexedSlices(indices=Tensor(\"gradient_tape/private__graph_conv_keras_model_2/graph_conv_5/Reshape_11:0\", shape=(217,), dtype=int32), values=Tensor(\"gradient_tape/private__graph_conv_keras_model_2/graph_conv_5/Reshape_10:0\", shape=(217, 128), dtype=float32), dense_shape=Tensor(\"gradient_tape/private__graph_conv_keras_model_2/graph_conv_5/Cast:0\", shape=(2,), dtype=int32))) to a dense Tensor of unknown shape. This may consume a large amount of memory.\n",
      "  \"shape. This may consume a large amount of memory.\" % value)\n",
      "/Users/ek/miniconda3/envs/cytoxnet/lib/python3.6/site-packages/tensorflow/python/framework/indexed_slices.py:437: UserWarning: Converting sparse IndexedSlices(IndexedSlices(indices=Tensor(\"gradient_tape/private__graph_conv_keras_model_2/graph_conv_5/Reshape_13:0\", shape=(650,), dtype=int32), values=Tensor(\"gradient_tape/private__graph_conv_keras_model_2/graph_conv_5/Reshape_12:0\", shape=(650, 128), dtype=float32), dense_shape=Tensor(\"gradient_tape/private__graph_conv_keras_model_2/graph_conv_5/Cast_1:0\", shape=(2,), dtype=int32))) to a dense Tensor of unknown shape. This may consume a large amount of memory.\n",
      "  \"shape. This may consume a large amount of memory.\" % value)\n",
      "/Users/ek/miniconda3/envs/cytoxnet/lib/python3.6/site-packages/tensorflow/python/framework/indexed_slices.py:437: UserWarning: Converting sparse IndexedSlices(IndexedSlices(indices=Tensor(\"gradient_tape/private__graph_conv_keras_model_2/graph_conv_5/Reshape_15:0\", shape=(525,), dtype=int32), values=Tensor(\"gradient_tape/private__graph_conv_keras_model_2/graph_conv_5/Reshape_14:0\", shape=(525, 128), dtype=float32), dense_shape=Tensor(\"gradient_tape/private__graph_conv_keras_model_2/graph_conv_5/Cast_2:0\", shape=(2,), dtype=int32))) to a dense Tensor of unknown shape. This may consume a large amount of memory.\n",
      "  \"shape. This may consume a large amount of memory.\" % value)\n",
      "/Users/ek/miniconda3/envs/cytoxnet/lib/python3.6/site-packages/tensorflow/python/framework/indexed_slices.py:437: UserWarning: Converting sparse IndexedSlices(IndexedSlices(indices=Tensor(\"gradient_tape/private__graph_conv_keras_model_2/graph_conv_5/Reshape_17:0\", shape=(132,), dtype=int32), values=Tensor(\"gradient_tape/private__graph_conv_keras_model_2/graph_conv_5/Reshape_16:0\", shape=(132, 128), dtype=float32), dense_shape=Tensor(\"gradient_tape/private__graph_conv_keras_model_2/graph_conv_5/Cast_3:0\", shape=(2,), dtype=int32))) to a dense Tensor of unknown shape. This may consume a large amount of memory.\n",
      "  \"shape. This may consume a large amount of memory.\" % value)\n",
      "/Users/ek/miniconda3/envs/cytoxnet/lib/python3.6/site-packages/tensorflow/python/framework/indexed_slices.py:437: UserWarning: Converting sparse IndexedSlices(IndexedSlices(indices=Tensor(\"gradient_tape/private__graph_conv_keras_model_2/graph_pool_4/Reshape_14:0\", shape=(217,), dtype=int32), values=Tensor(\"gradient_tape/private__graph_conv_keras_model_2/graph_pool_4/Reshape_13:0\", shape=(217, 128), dtype=float32), dense_shape=Tensor(\"gradient_tape/private__graph_conv_keras_model_2/graph_pool_4/Cast_4:0\", shape=(2,), dtype=int32))) to a dense Tensor of unknown shape. This may consume a large amount of memory.\n",
      "  \"shape. This may consume a large amount of memory.\" % value)\n",
      "/Users/ek/miniconda3/envs/cytoxnet/lib/python3.6/site-packages/tensorflow/python/framework/indexed_slices.py:437: UserWarning: Converting sparse IndexedSlices(IndexedSlices(indices=Tensor(\"gradient_tape/private__graph_conv_keras_model_2/graph_pool_4/Reshape_17:0\", shape=(650,), dtype=int32), values=Tensor(\"gradient_tape/private__graph_conv_keras_model_2/graph_pool_4/Reshape_16:0\", shape=(650, 128), dtype=float32), dense_shape=Tensor(\"gradient_tape/private__graph_conv_keras_model_2/graph_pool_4/Cast_5:0\", shape=(2,), dtype=int32))) to a dense Tensor of unknown shape. This may consume a large amount of memory.\n",
      "  \"shape. This may consume a large amount of memory.\" % value)\n",
      "/Users/ek/miniconda3/envs/cytoxnet/lib/python3.6/site-packages/tensorflow/python/framework/indexed_slices.py:437: UserWarning: Converting sparse IndexedSlices(IndexedSlices(indices=Tensor(\"gradient_tape/private__graph_conv_keras_model_2/graph_pool_4/Reshape_20:0\", shape=(525,), dtype=int32), values=Tensor(\"gradient_tape/private__graph_conv_keras_model_2/graph_pool_4/Reshape_19:0\", shape=(525, 128), dtype=float32), dense_shape=Tensor(\"gradient_tape/private__graph_conv_keras_model_2/graph_pool_4/Cast_6:0\", shape=(2,), dtype=int32))) to a dense Tensor of unknown shape. This may consume a large amount of memory.\n",
      "  \"shape. This may consume a large amount of memory.\" % value)\n",
      "/Users/ek/miniconda3/envs/cytoxnet/lib/python3.6/site-packages/tensorflow/python/framework/indexed_slices.py:437: UserWarning: Converting sparse IndexedSlices(IndexedSlices(indices=Tensor(\"gradient_tape/private__graph_conv_keras_model_2/graph_pool_4/Reshape_23:0\", shape=(132,), dtype=int32), values=Tensor(\"gradient_tape/private__graph_conv_keras_model_2/graph_pool_4/Reshape_22:0\", shape=(132, 128), dtype=float32), dense_shape=Tensor(\"gradient_tape/private__graph_conv_keras_model_2/graph_pool_4/Cast_7:0\", shape=(2,), dtype=int32))) to a dense Tensor of unknown shape. This may consume a large amount of memory.\n",
      "  \"shape. This may consume a large amount of memory.\" % value)\n",
      "/Users/ek/miniconda3/envs/cytoxnet/lib/python3.6/site-packages/tensorflow/python/framework/indexed_slices.py:437: UserWarning: Converting sparse IndexedSlices(IndexedSlices(indices=Tensor(\"gradient_tape/private__graph_conv_keras_model_2/graph_pool_6/Reshape_14:0\", shape=(None,), dtype=int32), values=Tensor(\"gradient_tape/private__graph_conv_keras_model_2/graph_pool_6/Reshape_13:0\", shape=(None, 128), dtype=float32), dense_shape=Tensor(\"gradient_tape/private__graph_conv_keras_model_2/graph_pool_6/Cast_4:0\", shape=(2,), dtype=int32))) to a dense Tensor of unknown shape. This may consume a large amount of memory.\n",
      "  \"shape. This may consume a large amount of memory.\" % value)\n",
      "/Users/ek/miniconda3/envs/cytoxnet/lib/python3.6/site-packages/tensorflow/python/framework/indexed_slices.py:437: UserWarning: Converting sparse IndexedSlices(IndexedSlices(indices=Tensor(\"gradient_tape/private__graph_conv_keras_model_2/graph_pool_6/Reshape_17:0\", shape=(None,), dtype=int32), values=Tensor(\"gradient_tape/private__graph_conv_keras_model_2/graph_pool_6/Reshape_16:0\", shape=(None, 128), dtype=float32), dense_shape=Tensor(\"gradient_tape/private__graph_conv_keras_model_2/graph_pool_6/Cast_5:0\", shape=(2,), dtype=int32))) to a dense Tensor of unknown shape. This may consume a large amount of memory.\n",
      "  \"shape. This may consume a large amount of memory.\" % value)\n",
      "/Users/ek/miniconda3/envs/cytoxnet/lib/python3.6/site-packages/tensorflow/python/framework/indexed_slices.py:437: UserWarning: Converting sparse IndexedSlices(IndexedSlices(indices=Tensor(\"gradient_tape/private__graph_conv_keras_model_2/graph_pool_6/Reshape_20:0\", shape=(None,), dtype=int32), values=Tensor(\"gradient_tape/private__graph_conv_keras_model_2/graph_pool_6/Reshape_19:0\", shape=(None, 128), dtype=float32), dense_shape=Tensor(\"gradient_tape/private__graph_conv_keras_model_2/graph_pool_6/Cast_6:0\", shape=(2,), dtype=int32))) to a dense Tensor of unknown shape. This may consume a large amount of memory.\n",
      "  \"shape. This may consume a large amount of memory.\" % value)\n",
      "/Users/ek/miniconda3/envs/cytoxnet/lib/python3.6/site-packages/tensorflow/python/framework/indexed_slices.py:437: UserWarning: Converting sparse IndexedSlices(IndexedSlices(indices=Tensor(\"gradient_tape/private__graph_conv_keras_model_2/graph_pool_6/Reshape_23:0\", shape=(None,), dtype=int32), values=Tensor(\"gradient_tape/private__graph_conv_keras_model_2/graph_pool_6/Reshape_22:0\", shape=(None, 128), dtype=float32), dense_shape=Tensor(\"gradient_tape/private__graph_conv_keras_model_2/graph_pool_6/Cast_7:0\", shape=(2,), dtype=int32))) to a dense Tensor of unknown shape. This may consume a large amount of memory.\n",
      "  \"shape. This may consume a large amount of memory.\" % value)\n",
      "/Users/ek/miniconda3/envs/cytoxnet/lib/python3.6/site-packages/tensorflow/python/framework/indexed_slices.py:437: UserWarning: Converting sparse IndexedSlices(IndexedSlices(indices=Tensor(\"gradient_tape/private__graph_conv_keras_model_2/graph_conv_6/Reshape_11:0\", shape=(None,), dtype=int32), values=Tensor(\"gradient_tape/private__graph_conv_keras_model_2/graph_conv_6/Reshape_10:0\", shape=(None, 128), dtype=float32), dense_shape=Tensor(\"gradient_tape/private__graph_conv_keras_model_2/graph_conv_6/Cast:0\", shape=(2,), dtype=int32))) to a dense Tensor of unknown shape. This may consume a large amount of memory.\n",
      "  \"shape. This may consume a large amount of memory.\" % value)\n",
      "/Users/ek/miniconda3/envs/cytoxnet/lib/python3.6/site-packages/tensorflow/python/framework/indexed_slices.py:437: UserWarning: Converting sparse IndexedSlices(IndexedSlices(indices=Tensor(\"gradient_tape/private__graph_conv_keras_model_2/graph_conv_6/Reshape_13:0\", shape=(None,), dtype=int32), values=Tensor(\"gradient_tape/private__graph_conv_keras_model_2/graph_conv_6/Reshape_12:0\", shape=(None, 128), dtype=float32), dense_shape=Tensor(\"gradient_tape/private__graph_conv_keras_model_2/graph_conv_6/Cast_1:0\", shape=(2,), dtype=int32))) to a dense Tensor of unknown shape. This may consume a large amount of memory.\n",
      "  \"shape. This may consume a large amount of memory.\" % value)\n",
      "/Users/ek/miniconda3/envs/cytoxnet/lib/python3.6/site-packages/tensorflow/python/framework/indexed_slices.py:437: UserWarning: Converting sparse IndexedSlices(IndexedSlices(indices=Tensor(\"gradient_tape/private__graph_conv_keras_model_2/graph_conv_6/Reshape_15:0\", shape=(None,), dtype=int32), values=Tensor(\"gradient_tape/private__graph_conv_keras_model_2/graph_conv_6/Reshape_14:0\", shape=(None, 128), dtype=float32), dense_shape=Tensor(\"gradient_tape/private__graph_conv_keras_model_2/graph_conv_6/Cast_2:0\", shape=(2,), dtype=int32))) to a dense Tensor of unknown shape. This may consume a large amount of memory.\n",
      "  \"shape. This may consume a large amount of memory.\" % value)\n",
      "/Users/ek/miniconda3/envs/cytoxnet/lib/python3.6/site-packages/tensorflow/python/framework/indexed_slices.py:437: UserWarning: Converting sparse IndexedSlices(IndexedSlices(indices=Tensor(\"gradient_tape/private__graph_conv_keras_model_2/graph_conv_6/Reshape_17:0\", shape=(None,), dtype=int32), values=Tensor(\"gradient_tape/private__graph_conv_keras_model_2/graph_conv_6/Reshape_16:0\", shape=(None, 128), dtype=float32), dense_shape=Tensor(\"gradient_tape/private__graph_conv_keras_model_2/graph_conv_6/Cast_3:0\", shape=(2,), dtype=int32))) to a dense Tensor of unknown shape. This may consume a large amount of memory.\n",
      "  \"shape. This may consume a large amount of memory.\" % value)\n",
      "/Users/ek/miniconda3/envs/cytoxnet/lib/python3.6/site-packages/tensorflow/python/framework/indexed_slices.py:437: UserWarning: Converting sparse IndexedSlices(IndexedSlices(indices=Tensor(\"gradient_tape/private__graph_conv_keras_model_2/graph_pool_5/Reshape_14:0\", shape=(None,), dtype=int32), values=Tensor(\"gradient_tape/private__graph_conv_keras_model_2/graph_pool_5/Reshape_13:0\", shape=(None, 128), dtype=float32), dense_shape=Tensor(\"gradient_tape/private__graph_conv_keras_model_2/graph_pool_5/Cast_4:0\", shape=(2,), dtype=int32))) to a dense Tensor of unknown shape. This may consume a large amount of memory.\n",
      "  \"shape. This may consume a large amount of memory.\" % value)\n",
      "/Users/ek/miniconda3/envs/cytoxnet/lib/python3.6/site-packages/tensorflow/python/framework/indexed_slices.py:437: UserWarning: Converting sparse IndexedSlices(IndexedSlices(indices=Tensor(\"gradient_tape/private__graph_conv_keras_model_2/graph_pool_5/Reshape_17:0\", shape=(None,), dtype=int32), values=Tensor(\"gradient_tape/private__graph_conv_keras_model_2/graph_pool_5/Reshape_16:0\", shape=(None, 128), dtype=float32), dense_shape=Tensor(\"gradient_tape/private__graph_conv_keras_model_2/graph_pool_5/Cast_5:0\", shape=(2,), dtype=int32))) to a dense Tensor of unknown shape. This may consume a large amount of memory.\n",
      "  \"shape. This may consume a large amount of memory.\" % value)\n",
      "/Users/ek/miniconda3/envs/cytoxnet/lib/python3.6/site-packages/tensorflow/python/framework/indexed_slices.py:437: UserWarning: Converting sparse IndexedSlices(IndexedSlices(indices=Tensor(\"gradient_tape/private__graph_conv_keras_model_2/graph_pool_5/Reshape_20:0\", shape=(None,), dtype=int32), values=Tensor(\"gradient_tape/private__graph_conv_keras_model_2/graph_pool_5/Reshape_19:0\", shape=(None, 128), dtype=float32), dense_shape=Tensor(\"gradient_tape/private__graph_conv_keras_model_2/graph_pool_5/Cast_6:0\", shape=(2,), dtype=int32))) to a dense Tensor of unknown shape. This may consume a large amount of memory.\n",
      "  \"shape. This may consume a large amount of memory.\" % value)\n",
      "/Users/ek/miniconda3/envs/cytoxnet/lib/python3.6/site-packages/tensorflow/python/framework/indexed_slices.py:437: UserWarning: Converting sparse IndexedSlices(IndexedSlices(indices=Tensor(\"gradient_tape/private__graph_conv_keras_model_2/graph_pool_5/Reshape_23:0\", shape=(None,), dtype=int32), values=Tensor(\"gradient_tape/private__graph_conv_keras_model_2/graph_pool_5/Reshape_22:0\", shape=(None, 128), dtype=float32), dense_shape=Tensor(\"gradient_tape/private__graph_conv_keras_model_2/graph_pool_5/Cast_7:0\", shape=(2,), dtype=int32))) to a dense Tensor of unknown shape. This may consume a large amount of memory.\n",
      "  \"shape. This may consume a large amount of memory.\" % value)\n",
      "/Users/ek/miniconda3/envs/cytoxnet/lib/python3.6/site-packages/tensorflow/python/framework/indexed_slices.py:437: UserWarning: Converting sparse IndexedSlices(IndexedSlices(indices=Tensor(\"gradient_tape/private__graph_conv_keras_model_2/graph_conv_5/Reshape_11:0\", shape=(None,), dtype=int32), values=Tensor(\"gradient_tape/private__graph_conv_keras_model_2/graph_conv_5/Reshape_10:0\", shape=(None, 128), dtype=float32), dense_shape=Tensor(\"gradient_tape/private__graph_conv_keras_model_2/graph_conv_5/Cast:0\", shape=(2,), dtype=int32))) to a dense Tensor of unknown shape. This may consume a large amount of memory.\n",
      "  \"shape. This may consume a large amount of memory.\" % value)\n",
      "/Users/ek/miniconda3/envs/cytoxnet/lib/python3.6/site-packages/tensorflow/python/framework/indexed_slices.py:437: UserWarning: Converting sparse IndexedSlices(IndexedSlices(indices=Tensor(\"gradient_tape/private__graph_conv_keras_model_2/graph_conv_5/Reshape_13:0\", shape=(None,), dtype=int32), values=Tensor(\"gradient_tape/private__graph_conv_keras_model_2/graph_conv_5/Reshape_12:0\", shape=(None, 128), dtype=float32), dense_shape=Tensor(\"gradient_tape/private__graph_conv_keras_model_2/graph_conv_5/Cast_1:0\", shape=(2,), dtype=int32))) to a dense Tensor of unknown shape. This may consume a large amount of memory.\n",
      "  \"shape. This may consume a large amount of memory.\" % value)\n",
      "/Users/ek/miniconda3/envs/cytoxnet/lib/python3.6/site-packages/tensorflow/python/framework/indexed_slices.py:437: UserWarning: Converting sparse IndexedSlices(IndexedSlices(indices=Tensor(\"gradient_tape/private__graph_conv_keras_model_2/graph_conv_5/Reshape_15:0\", shape=(None,), dtype=int32), values=Tensor(\"gradient_tape/private__graph_conv_keras_model_2/graph_conv_5/Reshape_14:0\", shape=(None, 128), dtype=float32), dense_shape=Tensor(\"gradient_tape/private__graph_conv_keras_model_2/graph_conv_5/Cast_2:0\", shape=(2,), dtype=int32))) to a dense Tensor of unknown shape. This may consume a large amount of memory.\n",
      "  \"shape. This may consume a large amount of memory.\" % value)\n",
      "/Users/ek/miniconda3/envs/cytoxnet/lib/python3.6/site-packages/tensorflow/python/framework/indexed_slices.py:437: UserWarning: Converting sparse IndexedSlices(IndexedSlices(indices=Tensor(\"gradient_tape/private__graph_conv_keras_model_2/graph_conv_5/Reshape_17:0\", shape=(None,), dtype=int32), values=Tensor(\"gradient_tape/private__graph_conv_keras_model_2/graph_conv_5/Reshape_16:0\", shape=(None, 128), dtype=float32), dense_shape=Tensor(\"gradient_tape/private__graph_conv_keras_model_2/graph_conv_5/Cast_3:0\", shape=(2,), dtype=int32))) to a dense Tensor of unknown shape. This may consume a large amount of memory.\n",
      "  \"shape. This may consume a large amount of memory.\" % value)\n",
      "/Users/ek/miniconda3/envs/cytoxnet/lib/python3.6/site-packages/tensorflow/python/framework/indexed_slices.py:437: UserWarning: Converting sparse IndexedSlices(IndexedSlices(indices=Tensor(\"gradient_tape/private__graph_conv_keras_model_2/graph_pool_4/Reshape_14:0\", shape=(None,), dtype=int32), values=Tensor(\"gradient_tape/private__graph_conv_keras_model_2/graph_pool_4/Reshape_13:0\", shape=(None, 128), dtype=float32), dense_shape=Tensor(\"gradient_tape/private__graph_conv_keras_model_2/graph_pool_4/Cast_4:0\", shape=(2,), dtype=int32))) to a dense Tensor of unknown shape. This may consume a large amount of memory.\n",
      "  \"shape. This may consume a large amount of memory.\" % value)\n",
      "/Users/ek/miniconda3/envs/cytoxnet/lib/python3.6/site-packages/tensorflow/python/framework/indexed_slices.py:437: UserWarning: Converting sparse IndexedSlices(IndexedSlices(indices=Tensor(\"gradient_tape/private__graph_conv_keras_model_2/graph_pool_4/Reshape_17:0\", shape=(None,), dtype=int32), values=Tensor(\"gradient_tape/private__graph_conv_keras_model_2/graph_pool_4/Reshape_16:0\", shape=(None, 128), dtype=float32), dense_shape=Tensor(\"gradient_tape/private__graph_conv_keras_model_2/graph_pool_4/Cast_5:0\", shape=(2,), dtype=int32))) to a dense Tensor of unknown shape. This may consume a large amount of memory.\n",
      "  \"shape. This may consume a large amount of memory.\" % value)\n",
      "/Users/ek/miniconda3/envs/cytoxnet/lib/python3.6/site-packages/tensorflow/python/framework/indexed_slices.py:437: UserWarning: Converting sparse IndexedSlices(IndexedSlices(indices=Tensor(\"gradient_tape/private__graph_conv_keras_model_2/graph_pool_4/Reshape_20:0\", shape=(None,), dtype=int32), values=Tensor(\"gradient_tape/private__graph_conv_keras_model_2/graph_pool_4/Reshape_19:0\", shape=(None, 128), dtype=float32), dense_shape=Tensor(\"gradient_tape/private__graph_conv_keras_model_2/graph_pool_4/Cast_6:0\", shape=(2,), dtype=int32))) to a dense Tensor of unknown shape. This may consume a large amount of memory.\n",
      "  \"shape. This may consume a large amount of memory.\" % value)\n",
      "/Users/ek/miniconda3/envs/cytoxnet/lib/python3.6/site-packages/tensorflow/python/framework/indexed_slices.py:437: UserWarning: Converting sparse IndexedSlices(IndexedSlices(indices=Tensor(\"gradient_tape/private__graph_conv_keras_model_2/graph_pool_4/Reshape_23:0\", shape=(None,), dtype=int32), values=Tensor(\"gradient_tape/private__graph_conv_keras_model_2/graph_pool_4/Reshape_22:0\", shape=(None, 128), dtype=float32), dense_shape=Tensor(\"gradient_tape/private__graph_conv_keras_model_2/graph_pool_4/Cast_7:0\", shape=(2,), dtype=int32))) to a dense Tensor of unknown shape. This may consume a large amount of memory.\n",
      "  \"shape. This may consume a large amount of memory.\" % value)\n"
     ]
    },
    {
     "data": {
      "text/plain": [
       "0.027444281578063966"
      ]
     },
     "execution_count": 70,
     "metadata": {},
     "output_type": "execute_result"
    }
   ],
   "source": [
    "transfer.fit(trans_graph_r_normed, nb_epoch=200)"
   ]
  },
  {
   "cell_type": "code",
   "execution_count": 71,
   "id": "468e939f-6afe-495a-bf7d-f40ff94d655a",
   "metadata": {},
   "outputs": [],
   "source": [
    "transfer.transformers = baseline_g_transformations"
   ]
  },
  {
   "cell_type": "code",
   "execution_count": 72,
   "id": "25ad1d6f-b608-4128-a4bb-57f62cfc1156",
   "metadata": {},
   "outputs": [],
   "source": [
    "for layer in transfer._model.model.layers[:-1]:\n",
    "    layer.trainable = False"
   ]
  },
  {
   "cell_type": "code",
   "execution_count": 74,
   "id": "bfc42922-b5ea-42ea-b500-b3b977739393",
   "metadata": {},
   "outputs": [
    {
     "data": {
      "text/plain": [
       "0.01749937891960144"
      ]
     },
     "execution_count": 74,
     "metadata": {},
     "output_type": "execute_result"
    }
   ],
   "source": [
    "transfer.fit(baseline_g_dev, nb_epoch=100)"
   ]
  },
  {
   "cell_type": "code",
   "execution_count": 238,
   "id": "b17d01a2-3501-47c9-901d-7faca344c553",
   "metadata": {},
   "outputs": [],
   "source": [
    "transfer_preds = transfer.predict(baseline_g_test, untransform=True)"
   ]
  },
  {
   "cell_type": "markdown",
   "id": "24a35e1b-426a-4162-a583-a5ed469b91c8",
   "metadata": {},
   "source": [
    "### Visualize"
   ]
  },
  {
   "cell_type": "code",
   "execution_count": 259,
   "id": "778f8cfd-5a5f-4270-8c71-01319ce976c0",
   "metadata": {},
   "outputs": [],
   "source": [
    "import seaborn as sns\n",
    "import matplotlib.pyplot as plt\n",
    "sns.set_context('talk')\n",
    "sns.set_style('whitegrid')"
   ]
  },
  {
   "cell_type": "code",
   "execution_count": 260,
   "id": "1b82be93-44da-46e9-8bd8-f885ba75bcfe",
   "metadata": {},
   "outputs": [],
   "source": [
    "dfs = []\n",
    "preds = {\n",
    "    'Baseline RFR': baseline_rfr_preds.reshape(-1),\n",
    "    'Baseline GNN': baseline_g_preds.reshape(-1),\n",
    "    'Multitask GNN': sparse_g_preds.reshape(-1),\n",
    "    'Transfer GNN': transfer_preds.reshape(-1)\n",
    "}\n",
    "for name, preds_ in preds.items():\n",
    "    df = pd.DataFrame({'True': true.values, 'Predicted': preds_, 'Model': name})\n",
    "    dfs.append(df)\n",
    "df = pd.concat(dfs)"
   ]
  },
  {
   "cell_type": "code",
   "execution_count": 261,
   "id": "dc1aaa08-316f-441b-8e45-e9faf9015cb4",
   "metadata": {},
   "outputs": [],
   "source": [
    "minv = df[['True', 'Predicted']].min().min()\n",
    "maxv = df[['True', 'Predicted']].max().max()"
   ]
  },
  {
   "cell_type": "code",
   "execution_count": 262,
   "id": "25177166-59d2-49a9-b121-8a092348c980",
   "metadata": {},
   "outputs": [
    {
     "data": {
      "image/png": "[encoded data removed]",
      "text/plain": [
       "<Figure size 525.9x360 with 1 Axes>"
      ]
     },
     "metadata": {},
     "output_type": "display_data"
    }
   ],
   "source": [
    "g = sns.lmplot(data = df, x='True', y='Predicted', hue='Model', scatter_kws={'s':5})\n",
    "g.axes[0][0].plot([minv, maxv], [minv, maxv], c='k', linewidth=3)\n",
    "g.axes[0][0].set_xlim([minv, maxv])\n",
    "g.axes[0][0].set_ylim([minv, maxv])\n",
    "fig = plt.gcf()"
   ]
  },
  {
   "cell_type": "code",
   "execution_count": 263,
   "id": "13d63365-fa40-41ec-ad4b-bf0f7f89b101",
   "metadata": {},
   "outputs": [],
   "source": [
    "fig.savefig('all_model_regression.png', dpi=300)"
   ]
  },
  {
   "cell_type": "markdown",
   "id": "aa667f97-9c2d-454e-b796-be8705368375",
   "metadata": {},
   "source": [
    "## Classification models"
   ]
  },
  {
   "cell_type": "markdown",
   "id": "febd2c8d-2621-476d-900a-7b72c0ceafd7",
   "metadata": {},
   "source": [
    "### baseline"
   ]
  },
  {
   "cell_type": "code",
   "execution_count": 308,
   "id": "95144632-4cd1-41f4-b0b8-a9910c035e5f",
   "metadata": {},
   "outputs": [],
   "source": [
    "baseline_rfc_study = optuna.load_study(\n",
    "    study_name='opt',\n",
    "    storage=\"sqlite:///../multitask_learning/classification/baseline_c.db\"\n",
    ")"
   ]
  },
  {
   "cell_type": "code",
   "execution_count": 309,
   "id": "bac24371-acdf-4714-8ecc-8873c3fbb9e7",
   "metadata": {},
   "outputs": [],
   "source": [
    "baseline_rfc_params = baseline_rfc_study.best_params"
   ]
  },
  {
   "cell_type": "code",
   "execution_count": 310,
   "id": "385fd726-2757-42ae-afdf-3e827bb3994b",
   "metadata": {},
   "outputs": [],
   "source": [
    "# split out dev and test\n",
    "baseline_rfc_test = baseline_rfc.select(np.isin(baseline_rfc.ids, test_index))\n",
    "baseline_rfc_dev = baseline_rfc.select(np.isin(baseline_rfc.ids, baseline_index))"
   ]
  },
  {
   "cell_type": "markdown",
   "id": "6e6c892f-b5b0-4bac-bca3-f6ab94777bd2",
   "metadata": {},
   "source": [
    "Get the original unnormed test vector for plotting"
   ]
  },
  {
   "cell_type": "code",
   "execution_count": 311,
   "id": "b844793b-8d4c-4241-a79c-d6bccc4db9d8",
   "metadata": {},
   "outputs": [],
   "source": [
    "true = binarized.loc[baseline_rfc_test.ids, 'algea_EC50']"
   ]
  },
  {
   "cell_type": "code",
   "execution_count": 312,
   "id": "2e82abc7-7b2d-426a-941e-ebeaf7ef1c86",
   "metadata": {},
   "outputs": [
    {
     "name": "stdout",
     "output_type": "stream",
     "text": [
      "WARNING: No tasks passed, assuming one target\n"
     ]
    }
   ],
   "source": [
    "baseline_rfc_model = ToxModel('RFC', **baseline_rfc_params)"
   ]
  },
  {
   "cell_type": "code",
   "execution_count": 313,
   "id": "365a9e22-a67d-4e6a-a485-06f97ccdc1c6",
   "metadata": {},
   "outputs": [],
   "source": [
    "baseline_rfc_model.fit(baseline_rfc_dev)"
   ]
  },
  {
   "cell_type": "code",
   "execution_count": 314,
   "id": "a41fa358-c621-4768-bfc4-708811468ea8",
   "metadata": {},
   "outputs": [],
   "source": [
    "baseline_rfc_preds = np.argmax(baseline_rfc_model.predict(baseline_rfc_test), axis=1)"
   ]
  },
  {
   "cell_type": "markdown",
   "id": "495c287d-9474-4ac7-8b94-6852f8cf1b68",
   "metadata": {},
   "source": [
    "### graph multitask"
   ]
  },
  {
   "cell_type": "code",
   "execution_count": 315,
   "id": "d87460e4-ca79-4c6d-bc88-9986b93ef228",
   "metadata": {},
   "outputs": [],
   "source": [
    "sparse_g_c_study = optuna.load_study(\n",
    "    study_name='opt',\n",
    "    storage=\"sqlite:///../multitask_learning/classification/graph_c.db\"\n",
    ")"
   ]
  },
  {
   "cell_type": "code",
   "execution_count": 316,
   "id": "2b448d4f-0a72-4a76-9977-53b2a6a15be9",
   "metadata": {
    "tags": []
   },
   "outputs": [
    {
     "name": "stderr",
     "output_type": "stream",
     "text": [
      "/Users/ek/miniconda3/envs/cytoxnet/lib/python3.6/site-packages/optuna/distributions.py:430: UserWarning: Choices for a categorical distribution should be a tuple of None, bool, int, float and str for persistent storage but contains [32] which is of type list.\n",
      "  warnings.warn(message)\n",
      "/Users/ek/miniconda3/envs/cytoxnet/lib/python3.6/site-packages/optuna/distributions.py:430: UserWarning: Choices for a categorical distribution should be a tuple of None, bool, int, float and str for persistent storage but contains [64] which is of type list.\n",
      "  warnings.warn(message)\n",
      "/Users/ek/miniconda3/envs/cytoxnet/lib/python3.6/site-packages/optuna/distributions.py:430: UserWarning: Choices for a categorical distribution should be a tuple of None, bool, int, float and str for persistent storage but contains [128] which is of type list.\n",
      "  warnings.warn(message)\n",
      "/Users/ek/miniconda3/envs/cytoxnet/lib/python3.6/site-packages/optuna/distributions.py:430: UserWarning: Choices for a categorical distribution should be a tuple of None, bool, int, float and str for persistent storage but contains [32, 32] which is of type list.\n",
      "  warnings.warn(message)\n",
      "/Users/ek/miniconda3/envs/cytoxnet/lib/python3.6/site-packages/optuna/distributions.py:430: UserWarning: Choices for a categorical distribution should be a tuple of None, bool, int, float and str for persistent storage but contains [64, 64] which is of type list.\n",
      "  warnings.warn(message)\n",
      "/Users/ek/miniconda3/envs/cytoxnet/lib/python3.6/site-packages/optuna/distributions.py:430: UserWarning: Choices for a categorical distribution should be a tuple of None, bool, int, float and str for persistent storage but contains [128, 128] which is of type list.\n",
      "  warnings.warn(message)\n",
      "/Users/ek/miniconda3/envs/cytoxnet/lib/python3.6/site-packages/optuna/distributions.py:430: UserWarning: Choices for a categorical distribution should be a tuple of None, bool, int, float and str for persistent storage but contains [32, 32, 32] which is of type list.\n",
      "  warnings.warn(message)\n",
      "/Users/ek/miniconda3/envs/cytoxnet/lib/python3.6/site-packages/optuna/distributions.py:430: UserWarning: Choices for a categorical distribution should be a tuple of None, bool, int, float and str for persistent storage but contains [64, 64, 64] which is of type list.\n",
      "  warnings.warn(message)\n",
      "/Users/ek/miniconda3/envs/cytoxnet/lib/python3.6/site-packages/optuna/distributions.py:430: UserWarning: Choices for a categorical distribution should be a tuple of None, bool, int, float and str for persistent storage but contains [128, 128, 128] which is of type list.\n",
      "  warnings.warn(message)\n"
     ]
    }
   ],
   "source": [
    "sparse_g_c_params = sparse_g_c_study.best_params"
   ]
  },
  {
   "cell_type": "code",
   "execution_count": 317,
   "id": "90a9fba2-8c4e-4626-b174-465cd2a0fba5",
   "metadata": {},
   "outputs": [],
   "source": [
    "# split out dev and test\n",
    "sparse_g_c_test = sp_graph_c.select(np.isin(sp_graph_c.ids, test_index))\n",
    "sparse_g_c_dev = sp_graph_c.select(np.isin(sp_graph_c.ids, baseline_index))"
   ]
  },
  {
   "cell_type": "code",
   "execution_count": 318,
   "id": "4e0a508a-3a13-4d51-a15e-f6585df6a46a",
   "metadata": {},
   "outputs": [],
   "source": [
    "sparse_g_model = ToxModel(\n",
    "    'GraphCNN',\n",
    "    **sparse_g_c_params,\n",
    "    mode='classification',\n",
    "    tasks = multitask_names\n",
    ")"
   ]
  },
  {
   "cell_type": "code",
   "execution_count": 319,
   "id": "af43edd8-e02b-493c-8e21-aa61b84e3854",
   "metadata": {
    "tags": []
   },
   "outputs": [
    {
     "name": "stderr",
     "output_type": "stream",
     "text": [
      "/Users/ek/miniconda3/envs/cytoxnet/lib/python3.6/site-packages/tensorflow/python/framework/indexed_slices.py:437: UserWarning: Converting sparse IndexedSlices(IndexedSlices(indices=Tensor(\"gradient_tape/private__graph_conv_keras_model_10/graph_pool_16/Reshape_14:0\", shape=(967,), dtype=int32), values=Tensor(\"gradient_tape/private__graph_conv_keras_model_10/graph_pool_16/Reshape_13:0\", shape=(967, 64), dtype=float32), dense_shape=Tensor(\"gradient_tape/private__graph_conv_keras_model_10/graph_pool_16/Cast_4:0\", shape=(2,), dtype=int32))) to a dense Tensor of unknown shape. This may consume a large amount of memory.\n",
      "  \"shape. This may consume a large amount of memory.\" % value)\n",
      "/Users/ek/miniconda3/envs/cytoxnet/lib/python3.6/site-packages/tensorflow/python/framework/indexed_slices.py:437: UserWarning: Converting sparse IndexedSlices(IndexedSlices(indices=Tensor(\"gradient_tape/private__graph_conv_keras_model_10/graph_pool_16/Reshape_17:0\", shape=(3470,), dtype=int32), values=Tensor(\"gradient_tape/private__graph_conv_keras_model_10/graph_pool_16/Reshape_16:0\", shape=(3470, 64), dtype=float32), dense_shape=Tensor(\"gradient_tape/private__graph_conv_keras_model_10/graph_pool_16/Cast_5:0\", shape=(2,), dtype=int32))) to a dense Tensor of unknown shape. This may consume a large amount of memory.\n",
      "  \"shape. This may consume a large amount of memory.\" % value)\n",
      "/Users/ek/miniconda3/envs/cytoxnet/lib/python3.6/site-packages/tensorflow/python/framework/indexed_slices.py:437: UserWarning: Converting sparse IndexedSlices(IndexedSlices(indices=Tensor(\"gradient_tape/private__graph_conv_keras_model_10/graph_pool_16/Reshape_20:0\", shape=(2277,), dtype=int32), values=Tensor(\"gradient_tape/private__graph_conv_keras_model_10/graph_pool_16/Reshape_19:0\", shape=(2277, 64), dtype=float32), dense_shape=Tensor(\"gradient_tape/private__graph_conv_keras_model_10/graph_pool_16/Cast_6:0\", shape=(2,), dtype=int32))) to a dense Tensor of unknown shape. This may consume a large amount of memory.\n",
      "  \"shape. This may consume a large amount of memory.\" % value)\n",
      "/Users/ek/miniconda3/envs/cytoxnet/lib/python3.6/site-packages/tensorflow/python/framework/indexed_slices.py:437: UserWarning: Converting sparse IndexedSlices(IndexedSlices(indices=Tensor(\"gradient_tape/private__graph_conv_keras_model_10/graph_pool_16/Reshape_23:0\", shape=(368,), dtype=int32), values=Tensor(\"gradient_tape/private__graph_conv_keras_model_10/graph_pool_16/Reshape_22:0\", shape=(368, 64), dtype=float32), dense_shape=Tensor(\"gradient_tape/private__graph_conv_keras_model_10/graph_pool_16/Cast_7:0\", shape=(2,), dtype=int32))) to a dense Tensor of unknown shape. This may consume a large amount of memory.\n",
      "  \"shape. This may consume a large amount of memory.\" % value)\n",
      "/Users/ek/miniconda3/envs/cytoxnet/lib/python3.6/site-packages/tensorflow/python/framework/indexed_slices.py:437: UserWarning: Converting sparse IndexedSlices(IndexedSlices(indices=Tensor(\"gradient_tape/private__graph_conv_keras_model_10/graph_pool_16/Reshape_14:0\", shape=(886,), dtype=int32), values=Tensor(\"gradient_tape/private__graph_conv_keras_model_10/graph_pool_16/Reshape_13:0\", shape=(886, 64), dtype=float32), dense_shape=Tensor(\"gradient_tape/private__graph_conv_keras_model_10/graph_pool_16/Cast_4:0\", shape=(2,), dtype=int32))) to a dense Tensor of unknown shape. This may consume a large amount of memory.\n",
      "  \"shape. This may consume a large amount of memory.\" % value)\n",
      "/Users/ek/miniconda3/envs/cytoxnet/lib/python3.6/site-packages/tensorflow/python/framework/indexed_slices.py:437: UserWarning: Converting sparse IndexedSlices(IndexedSlices(indices=Tensor(\"gradient_tape/private__graph_conv_keras_model_10/graph_pool_16/Reshape_17:0\", shape=(3606,), dtype=int32), values=Tensor(\"gradient_tape/private__graph_conv_keras_model_10/graph_pool_16/Reshape_16:0\", shape=(3606, 64), dtype=float32), dense_shape=Tensor(\"gradient_tape/private__graph_conv_keras_model_10/graph_pool_16/Cast_5:0\", shape=(2,), dtype=int32))) to a dense Tensor of unknown shape. This may consume a large amount of memory.\n",
      "  \"shape. This may consume a large amount of memory.\" % value)\n",
      "/Users/ek/miniconda3/envs/cytoxnet/lib/python3.6/site-packages/tensorflow/python/framework/indexed_slices.py:437: UserWarning: Converting sparse IndexedSlices(IndexedSlices(indices=Tensor(\"gradient_tape/private__graph_conv_keras_model_10/graph_pool_16/Reshape_20:0\", shape=(2250,), dtype=int32), values=Tensor(\"gradient_tape/private__graph_conv_keras_model_10/graph_pool_16/Reshape_19:0\", shape=(2250, 64), dtype=float32), dense_shape=Tensor(\"gradient_tape/private__graph_conv_keras_model_10/graph_pool_16/Cast_6:0\", shape=(2,), dtype=int32))) to a dense Tensor of unknown shape. This may consume a large amount of memory.\n",
      "  \"shape. This may consume a large amount of memory.\" % value)\n",
      "/Users/ek/miniconda3/envs/cytoxnet/lib/python3.6/site-packages/tensorflow/python/framework/indexed_slices.py:437: UserWarning: Converting sparse IndexedSlices(IndexedSlices(indices=Tensor(\"gradient_tape/private__graph_conv_keras_model_10/graph_pool_16/Reshape_23:0\", shape=(364,), dtype=int32), values=Tensor(\"gradient_tape/private__graph_conv_keras_model_10/graph_pool_16/Reshape_22:0\", shape=(364, 64), dtype=float32), dense_shape=Tensor(\"gradient_tape/private__graph_conv_keras_model_10/graph_pool_16/Cast_7:0\", shape=(2,), dtype=int32))) to a dense Tensor of unknown shape. This may consume a large amount of memory.\n",
      "  \"shape. This may consume a large amount of memory.\" % value)\n",
      "/Users/ek/miniconda3/envs/cytoxnet/lib/python3.6/site-packages/tensorflow/python/framework/indexed_slices.py:437: UserWarning: Converting sparse IndexedSlices(IndexedSlices(indices=Tensor(\"gradient_tape/private__graph_conv_keras_model_10/graph_pool_16/Reshape_14:0\", shape=(None,), dtype=int32), values=Tensor(\"gradient_tape/private__graph_conv_keras_model_10/graph_pool_16/Reshape_13:0\", shape=(None, 64), dtype=float32), dense_shape=Tensor(\"gradient_tape/private__graph_conv_keras_model_10/graph_pool_16/Cast_4:0\", shape=(2,), dtype=int32))) to a dense Tensor of unknown shape. This may consume a large amount of memory.\n",
      "  \"shape. This may consume a large amount of memory.\" % value)\n",
      "/Users/ek/miniconda3/envs/cytoxnet/lib/python3.6/site-packages/tensorflow/python/framework/indexed_slices.py:437: UserWarning: Converting sparse IndexedSlices(IndexedSlices(indices=Tensor(\"gradient_tape/private__graph_conv_keras_model_10/graph_pool_16/Reshape_17:0\", shape=(None,), dtype=int32), values=Tensor(\"gradient_tape/private__graph_conv_keras_model_10/graph_pool_16/Reshape_16:0\", shape=(None, 64), dtype=float32), dense_shape=Tensor(\"gradient_tape/private__graph_conv_keras_model_10/graph_pool_16/Cast_5:0\", shape=(2,), dtype=int32))) to a dense Tensor of unknown shape. This may consume a large amount of memory.\n",
      "  \"shape. This may consume a large amount of memory.\" % value)\n",
      "/Users/ek/miniconda3/envs/cytoxnet/lib/python3.6/site-packages/tensorflow/python/framework/indexed_slices.py:437: UserWarning: Converting sparse IndexedSlices(IndexedSlices(indices=Tensor(\"gradient_tape/private__graph_conv_keras_model_10/graph_pool_16/Reshape_20:0\", shape=(None,), dtype=int32), values=Tensor(\"gradient_tape/private__graph_conv_keras_model_10/graph_pool_16/Reshape_19:0\", shape=(None, 64), dtype=float32), dense_shape=Tensor(\"gradient_tape/private__graph_conv_keras_model_10/graph_pool_16/Cast_6:0\", shape=(2,), dtype=int32))) to a dense Tensor of unknown shape. This may consume a large amount of memory.\n",
      "  \"shape. This may consume a large amount of memory.\" % value)\n",
      "/Users/ek/miniconda3/envs/cytoxnet/lib/python3.6/site-packages/tensorflow/python/framework/indexed_slices.py:437: UserWarning: Converting sparse IndexedSlices(IndexedSlices(indices=Tensor(\"gradient_tape/private__graph_conv_keras_model_10/graph_pool_16/Reshape_23:0\", shape=(None,), dtype=int32), values=Tensor(\"gradient_tape/private__graph_conv_keras_model_10/graph_pool_16/Reshape_22:0\", shape=(None, 64), dtype=float32), dense_shape=Tensor(\"gradient_tape/private__graph_conv_keras_model_10/graph_pool_16/Cast_7:0\", shape=(2,), dtype=int32))) to a dense Tensor of unknown shape. This may consume a large amount of memory.\n",
      "  \"shape. This may consume a large amount of memory.\" % value)\n"
     ]
    },
    {
     "data": {
      "text/plain": [
       "0.03509611368179321"
      ]
     },
     "execution_count": 319,
     "metadata": {},
     "output_type": "execute_result"
    }
   ],
   "source": [
    "sparse_g_model.fit(sparse_g_c_dev, nb_epoch=50)"
   ]
  },
  {
   "cell_type": "code",
   "execution_count": 320,
   "id": "181736bd-bf27-4d4f-b071-d9afa42a8ff8",
   "metadata": {},
   "outputs": [
    {
     "name": "stdout",
     "output_type": "stream",
     "text": [
      "WARNING:tensorflow:11 out of the last 11 calls to <function KerasModel._compute_model at 0x1d8a81a60> triggered tf.function retracing. Tracing is expensive and the excessive number of tracings could be due to (1) creating @tf.function repeatedly in a loop, (2) passing tensors with different shapes, (3) passing Python objects instead of tensors. For (1), please define your @tf.function outside of the loop. For (2), @tf.function has experimental_relax_shapes=True option that relaxes argument shapes that can avoid unnecessary retracing. For (3), please refer to https://www.tensorflow.org/guide/function#controlling_retracing and https://www.tensorflow.org/api_docs/python/tf/function for  more details.\n",
      "WARNING:tensorflow:11 out of the last 11 calls to <function KerasModel._compute_model at 0x1d8a81a60> triggered tf.function retracing. Tracing is expensive and the excessive number of tracings could be due to (1) creating @tf.function repeatedly in a loop, (2) passing tensors with different shapes, (3) passing Python objects instead of tensors. For (1), please define your @tf.function outside of the loop. For (2), @tf.function has experimental_relax_shapes=True option that relaxes argument shapes that can avoid unnecessary retracing. For (3), please refer to https://www.tensorflow.org/guide/function#controlling_retracing and https://www.tensorflow.org/api_docs/python/tf/function for  more details.\n"
     ]
    }
   ],
   "source": [
    "sparse_g_preds = np.argmax(sparse_g_model.predict(sparse_g_c_test), axis=2)[:,2]"
   ]
  },
  {
   "cell_type": "markdown",
   "id": "9f3dcc3b-48ea-41e1-9da6-5a2b0692f64f",
   "metadata": {},
   "source": [
    "### visualize"
   ]
  },
  {
   "cell_type": "code",
   "execution_count": 334,
   "id": "a14ccdc3-69ad-4620-99a6-51a078ee8fdb",
   "metadata": {},
   "outputs": [],
   "source": [
    "import sklearn.metrics"
   ]
  },
  {
   "cell_type": "code",
   "execution_count": 335,
   "id": "564067fa-3560-4bb5-9c74-9460bbb05a55",
   "metadata": {},
   "outputs": [],
   "source": [
    "dfs = []\n",
    "preds = {\n",
    "    'Baseline RFC': baseline_rfc_preds.reshape(-1),\n",
    "    'Multitask GNN': sparse_g_preds.reshape(-1)\n",
    "}\n",
    "for name, preds_ in preds.items():\n",
    "    fpr, tpr, thresholds = sklearn.metrics.roc_curve(\n",
    "        true.values, preds_\n",
    "    )\n",
    "    df = pd.DataFrame({'False positive rate': fpr, 'True positive rate':tpr, 'thresholds':thresholds, 'Model':name})\n",
    "    \n",
    "    dfs.append(df)\n",
    "df = pd.concat(dfs)"
   ]
  },
  {
   "cell_type": "code",
   "execution_count": 336,
   "id": "62070d90-b972-43f0-9f02-abff7e0f57e6",
   "metadata": {},
   "outputs": [
    {
     "data": {
      "text/html": [
       "<div>\n",
       "<style scoped>\n",
       "    .dataframe tbody tr th:only-of-type {\n",
       "        vertical-align: middle;\n",
       "    }\n",
       "\n",
       "    .dataframe tbody tr th {\n",
       "        vertical-align: top;\n",
       "    }\n",
       "\n",
       "    .dataframe thead th {\n",
       "        text-align: right;\n",
       "    }\n",
       "</style>\n",
       "<table border=\"1\" class=\"dataframe\">\n",
       "  <thead>\n",
       "    <tr style=\"text-align: right;\">\n",
       "      <th></th>\n",
       "      <th>False positive rate</th>\n",
       "      <th>True positive rate</th>\n",
       "      <th>thresholds</th>\n",
       "      <th>Model</th>\n",
       "    </tr>\n",
       "  </thead>\n",
       "  <tbody>\n",
       "    <tr>\n",
       "      <th>0</th>\n",
       "      <td>0.000000</td>\n",
       "      <td>0.000000</td>\n",
       "      <td>2</td>\n",
       "      <td>Baseline RFC</td>\n",
       "    </tr>\n",
       "    <tr>\n",
       "      <th>1</th>\n",
       "      <td>0.866667</td>\n",
       "      <td>0.988417</td>\n",
       "      <td>1</td>\n",
       "      <td>Baseline RFC</td>\n",
       "    </tr>\n",
       "    <tr>\n",
       "      <th>2</th>\n",
       "      <td>1.000000</td>\n",
       "      <td>1.000000</td>\n",
       "      <td>0</td>\n",
       "      <td>Baseline RFC</td>\n",
       "    </tr>\n",
       "    <tr>\n",
       "      <th>0</th>\n",
       "      <td>0.000000</td>\n",
       "      <td>0.000000</td>\n",
       "      <td>2</td>\n",
       "      <td>Multitask GNN</td>\n",
       "    </tr>\n",
       "    <tr>\n",
       "      <th>1</th>\n",
       "      <td>0.866667</td>\n",
       "      <td>0.984556</td>\n",
       "      <td>1</td>\n",
       "      <td>Multitask GNN</td>\n",
       "    </tr>\n",
       "    <tr>\n",
       "      <th>2</th>\n",
       "      <td>1.000000</td>\n",
       "      <td>1.000000</td>\n",
       "      <td>0</td>\n",
       "      <td>Multitask GNN</td>\n",
       "    </tr>\n",
       "  </tbody>\n",
       "</table>\n",
       "</div>"
      ],
      "text/plain": [
       "   False positive rate  True positive rate  thresholds          Model\n",
       "0             0.000000            0.000000           2   Baseline RFC\n",
       "1             0.866667            0.988417           1   Baseline RFC\n",
       "2             1.000000            1.000000           0   Baseline RFC\n",
       "0             0.000000            0.000000           2  Multitask GNN\n",
       "1             0.866667            0.984556           1  Multitask GNN\n",
       "2             1.000000            1.000000           0  Multitask GNN"
      ]
     },
     "execution_count": 336,
     "metadata": {},
     "output_type": "execute_result"
    }
   ],
   "source": [
    "df"
   ]
  },
  {
   "cell_type": "code",
   "execution_count": 337,
   "id": "52e5e7d4-aa10-43e1-975c-587a3fa62888",
   "metadata": {},
   "outputs": [
    {
     "data": {
      "image/png": "[encoded data removed]",
      "text/plain": [
       "<Figure size 432x288 with 1 Axes>"
      ]
     },
     "metadata": {},
     "output_type": "display_data"
    }
   ],
   "source": [
    "g = sns.lineplot(data=df, x='False positive rate', y='True positive rate', hue='Model')\n",
    "g.axes.plot([0, 1], [0, 1], c='k', linewidth=3)\n",
    "fig = plt.gcf()"
   ]
  },
  {
   "cell_type": "code",
   "execution_count": 338,
   "id": "807d0be4-4e7f-4b14-9dc8-46ad8a18d7e9",
   "metadata": {},
   "outputs": [],
   "source": [
    "fig.savefig('all_model_classification.png', dpi=300, bbox_inches='tight')"
   ]
  },
  {
   "cell_type": "markdown",
   "id": "aa11ccb1-d7b3-4fa6-a616-49243ba18beb",
   "metadata": {},
   "source": [
    "## Data visualization final pres"
   ]
  },
  {
   "cell_type": "markdown",
   "id": "23e15c0d-1534-470d-ba50-affbc7155137",
   "metadata": {},
   "source": [
    "Create a plot to show the binarization of unlogged targets - very biased"
   ]
  },
  {
   "cell_type": "code",
   "execution_count": 326,
   "id": "356355b8-13e9-40ac-abc4-346f6b780369",
   "metadata": {},
   "outputs": [],
   "source": [
    "data = io.load_data('chembl_ecoli_MIC')"
   ]
  },
  {
   "cell_type": "code",
   "execution_count": 327,
   "id": "0170ef7a-eb74-4642-8399-9d6c51e3fbcc",
   "metadata": {},
   "outputs": [],
   "source": [
    "data['ecoli_MIC'] = data['ecoli_MIC'].apply(lambda x: np.exp(x))"
   ]
  },
  {
   "cell_type": "code",
   "execution_count": 328,
   "id": "b7c7dfb6-8b5e-4b7c-bf77-09b96fcd27a3",
   "metadata": {},
   "outputs": [],
   "source": [
    "ninty_percentile = data.quantile(.9)['ecoli_MIC']"
   ]
  },
  {
   "cell_type": "code",
   "execution_count": 329,
   "id": "7327e9a8-6267-41f0-9d5b-4fa78be9603f",
   "metadata": {},
   "outputs": [
    {
     "data": {
      "text/plain": [
       "132.00000000000009"
      ]
     },
     "execution_count": 329,
     "metadata": {},
     "output_type": "execute_result"
    }
   ],
   "source": [
    "ninty_percentile"
   ]
  },
  {
   "cell_type": "code",
   "execution_count": 330,
   "id": "07a3efbf-21cf-46ea-a909-0e9974527722",
   "metadata": {},
   "outputs": [],
   "source": [
    "data = data['ecoli_MIC'].values"
   ]
  },
  {
   "cell_type": "code",
   "execution_count": 331,
   "id": "7123f635-c691-44ca-aaca-824c9d38ef68",
   "metadata": {},
   "outputs": [
    {
     "data": {
      "text/plain": [
       "Text(0.5, 0.98, 'KDE of E. coli MIC')"
      ]
     },
     "execution_count": 331,
     "metadata": {},
     "output_type": "execute_result"
    },
    {
     "data": {
      "image/png": "[encoded data removed]",
      "text/plain": [
       "<Figure size 432x288 with 2 Axes>"
      ]
     },
     "metadata": {},
     "output_type": "display_data"
    }
   ],
   "source": [
    "fig, (ax1, ax2) = plt.subplots(1,2, sharey=True)\n",
    "sns.kdeplot(x=data, ax=ax1, color='k', gridsize=500)\n",
    "sns.kdeplot(x=data, ax=ax2, color='k', gridsize=500)\n",
    "ax1.set_xlim([-10, 1e3])\n",
    "ax2.set_xlim([.5e4, 1e4])\n",
    "ax2.set_ylim([-.001, .005])\n",
    "ax1.set_xlabel('MIC [ug/mL]')\n",
    "ax1.spines['right'].set_visible(False)\n",
    "ax2.spines['left'].set_visible(False)\n",
    "ax1.yaxis.tick_left()\n",
    "ax1.tick_params(labeltop=False)  # don't put tick labels at the top\n",
    "ax2.yaxis.tick_right()\n",
    "\n",
    "leftxy = ax1.lines[0].get_xydata()\n",
    "toxdata = leftxy[leftxy[:,0]<=ninty_percentile]\n",
    "nontoxdata = leftxy[leftxy[:,0]>=ninty_percentile]\n",
    "ax1.fill_between(toxdata[:,0],toxdata[:,1], color=\"red\", alpha=0.3, label='Toxic')\n",
    "ax1.fill_between(nontoxdata[:,0],nontoxdata[:,1], color=\"green\", alpha=0.3, label='Nontoxic')\n",
    "ax1.legend()\n",
    "fig.suptitle('KDE of E. coli MIC')"
   ]
  },
  {
   "cell_type": "code",
   "execution_count": 333,
   "id": "671e616d-2a73-474d-b2b3-c84cc7e961b5",
   "metadata": {},
   "outputs": [],
   "source": [
    "fig.savefig('kde_binarized.png', dpi=300, bbox_inches='tight')"
   ]
  },
  {
   "cell_type": "code",
   "execution_count": null,
   "id": "53e1a287-ae4a-49ac-a1b9-a6b49027966b",
   "metadata": {},
   "outputs": [],
   "source": []
  }
 ],
 "metadata": {
  "kernelspec": {
   "display_name": "Python 3",
   "language": "python",
   "name": "python3"
  },
  "language_info": {
   "codemirror_mode": {
    "name": "ipython",
    "version": 3
   },
   "file_extension": ".py",
   "mimetype": "text/x-python",
   "name": "python",
   "nbconvert_exporter": "python",
   "pygments_lexer": "ipython3",
   "version": "3.6.13"
  }
 },
 "nbformat": 4,
 "nbformat_minor": 5
}
