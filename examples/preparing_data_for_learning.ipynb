{
 "cells": [
  {
   "cell_type": "markdown",
   "id": "5b741732-158a-4787-b8ec-19d016ee48af",
   "metadata": {},
   "source": [
    "# Preparing data for machine learning\n",
    "This notebook showcases the minimal necessary steps of turning a raw set of data into one ready to be learned.\n",
    "\n",
    "__Key Steps__\n",
    "- Featurizing molecule strings in the dataset\n",
    "- Selecting and converting data to `deepchem` dataset for learning\n",
    "\n",
    "__Additional Tools__\n",
    "- Handling sparse target datasets\n",
    "- Binarizing continuous variables\n",
    "- Transforming data before learning\n",
    "- Splitting data into different sets\n",
    "\n",
    "***\n",
    "***"
   ]
  },
  {
   "cell_type": "code",
   "execution_count": 1,
   "id": "284310e2-c8d8-4a3a-bef8-773edeade4a9",
   "metadata": {},
   "outputs": [],
   "source": [
    "import cytoxnet.dataprep.dataprep\n",
    "import cytoxnet.dataprep.database\n",
    "import cytoxnet.dataprep.featurize"
   ]
  },
  {
   "cell_type": "markdown",
   "id": "3e9d2b93-c728-428b-abc6-150ce3683735",
   "metadata": {},
   "source": [
    "## Loading data\n",
    "This step assume you have already converted your (or the packages) raw data into a accessible database. See the `initialize_database` notebook for details. Otherwise, __we can start from and dataframe we are unterested in__.\n",
    "\n",
    "Query our database - we will ask for two targets, algea and daphnia toxicity. We can also ask for previously computed features."
   ]
  },
  {
   "cell_type": "code",
   "execution_count": 27,
   "id": "a0c4f9cf-f132-448d-b70e-9e9962eab844",
   "metadata": {},
   "outputs": [
    {
     "name": "stderr",
     "output_type": "stream",
     "text": [
      "/Users/ek/miniconda3/envs/cytoxnet/lib/python3.6/site-packages/sqlalchemy/sql/compiler.py:362: SAWarning: SELECT statement has a cartesian product between FROM element(s) \"daphnia\", \"algea\" and FROM element \"compounds\".  Apply join condition(s) between each element to resolve.\n",
      "  util.warn(message)\n"
     ]
    }
   ],
   "source": [
    "dataframe_in = cytoxnet.dataprep.database.query_to_dataframe(['algea', 'daphnia'], features_list=['circularfingerprint'])"
   ]
  },
  {
   "cell_type": "code",
   "execution_count": 28,
   "id": "0960bc99-e0d9-46fa-b211-90b17d0c014a",
   "metadata": {},
   "outputs": [
    {
     "data": {
      "text/html": [
       "<div>\n",
       "<style scoped>\n",
       "    .dataframe tbody tr th:only-of-type {\n",
       "        vertical-align: middle;\n",
       "    }\n",
       "\n",
       "    .dataframe tbody tr th {\n",
       "        vertical-align: top;\n",
       "    }\n",
       "\n",
       "    .dataframe thead th {\n",
       "        text-align: right;\n",
       "    }\n",
       "</style>\n",
       "<table border=\"1\" class=\"dataframe\">\n",
       "  <thead>\n",
       "    <tr style=\"text-align: right;\">\n",
       "      <th></th>\n",
       "      <th>algea_ids</th>\n",
       "      <th>algea_molecular_weight</th>\n",
       "      <th>algea_algea_ec50</th>\n",
       "      <th>algea_foreign_key</th>\n",
       "      <th>daphnia_ids</th>\n",
       "      <th>daphnia_molecular_weight</th>\n",
       "      <th>daphnia_daphnia_ec50</th>\n",
       "      <th>daphnia_foreign_key</th>\n",
       "    </tr>\n",
       "  </thead>\n",
       "  <tbody>\n",
       "    <tr>\n",
       "      <th>count</th>\n",
       "      <td>1440.000000</td>\n",
       "      <td>1440.000000</td>\n",
       "      <td>1440.000000</td>\n",
       "      <td>1440.000000</td>\n",
       "      <td>864.000000</td>\n",
       "      <td>864.000000</td>\n",
       "      <td>864.000000</td>\n",
       "      <td>864.000000</td>\n",
       "    </tr>\n",
       "    <tr>\n",
       "      <th>mean</th>\n",
       "      <td>719.500000</td>\n",
       "      <td>189.630547</td>\n",
       "      <td>2.460036</td>\n",
       "      <td>719.500000</td>\n",
       "      <td>1035.429398</td>\n",
       "      <td>185.846149</td>\n",
       "      <td>1.919594</td>\n",
       "      <td>700.663194</td>\n",
       "    </tr>\n",
       "    <tr>\n",
       "      <th>std</th>\n",
       "      <td>415.836506</td>\n",
       "      <td>83.114704</td>\n",
       "      <td>2.348855</td>\n",
       "      <td>415.836506</td>\n",
       "      <td>623.908342</td>\n",
       "      <td>75.766279</td>\n",
       "      <td>2.124350</td>\n",
       "      <td>419.677776</td>\n",
       "    </tr>\n",
       "    <tr>\n",
       "      <th>min</th>\n",
       "      <td>0.000000</td>\n",
       "      <td>24.021400</td>\n",
       "      <td>-7.836625</td>\n",
       "      <td>0.000000</td>\n",
       "      <td>2.000000</td>\n",
       "      <td>44.052559</td>\n",
       "      <td>-8.568486</td>\n",
       "      <td>0.000000</td>\n",
       "    </tr>\n",
       "    <tr>\n",
       "      <th>25%</th>\n",
       "      <td>359.750000</td>\n",
       "      <td>136.181038</td>\n",
       "      <td>1.163151</td>\n",
       "      <td>359.750000</td>\n",
       "      <td>472.500000</td>\n",
       "      <td>136.234039</td>\n",
       "      <td>0.630736</td>\n",
       "      <td>323.500000</td>\n",
       "    </tr>\n",
       "    <tr>\n",
       "      <th>50%</th>\n",
       "      <td>719.500000</td>\n",
       "      <td>172.588982</td>\n",
       "      <td>2.708050</td>\n",
       "      <td>719.500000</td>\n",
       "      <td>1019.500000</td>\n",
       "      <td>172.192474</td>\n",
       "      <td>2.162748</td>\n",
       "      <td>706.500000</td>\n",
       "    </tr>\n",
       "    <tr>\n",
       "      <th>75%</th>\n",
       "      <td>1079.250000</td>\n",
       "      <td>224.447578</td>\n",
       "      <td>4.031138</td>\n",
       "      <td>1079.250000</td>\n",
       "      <td>1595.000000</td>\n",
       "      <td>218.200092</td>\n",
       "      <td>3.470380</td>\n",
       "      <td>1046.250000</td>\n",
       "    </tr>\n",
       "    <tr>\n",
       "      <th>max</th>\n",
       "      <td>1439.000000</td>\n",
       "      <td>801.375671</td>\n",
       "      <td>9.118225</td>\n",
       "      <td>1439.000000</td>\n",
       "      <td>2106.000000</td>\n",
       "      <td>801.375671</td>\n",
       "      <td>7.333023</td>\n",
       "      <td>1438.000000</td>\n",
       "    </tr>\n",
       "  </tbody>\n",
       "</table>\n",
       "</div>"
      ],
      "text/plain": [
       "         algea_ids  algea_molecular_weight  algea_algea_ec50  \\\n",
       "count  1440.000000             1440.000000       1440.000000   \n",
       "mean    719.500000              189.630547          2.460036   \n",
       "std     415.836506               83.114704          2.348855   \n",
       "min       0.000000               24.021400         -7.836625   \n",
       "25%     359.750000              136.181038          1.163151   \n",
       "50%     719.500000              172.588982          2.708050   \n",
       "75%    1079.250000              224.447578          4.031138   \n",
       "max    1439.000000              801.375671          9.118225   \n",
       "\n",
       "       algea_foreign_key  daphnia_ids  daphnia_molecular_weight  \\\n",
       "count        1440.000000   864.000000                864.000000   \n",
       "mean          719.500000  1035.429398                185.846149   \n",
       "std           415.836506   623.908342                 75.766279   \n",
       "min             0.000000     2.000000                 44.052559   \n",
       "25%           359.750000   472.500000                136.234039   \n",
       "50%           719.500000  1019.500000                172.192474   \n",
       "75%          1079.250000  1595.000000                218.200092   \n",
       "max          1439.000000  2106.000000                801.375671   \n",
       "\n",
       "       daphnia_daphnia_ec50  daphnia_foreign_key  \n",
       "count            864.000000           864.000000  \n",
       "mean               1.919594           700.663194  \n",
       "std                2.124350           419.677776  \n",
       "min               -8.568486             0.000000  \n",
       "25%                0.630736           323.500000  \n",
       "50%                2.162748           706.500000  \n",
       "75%                3.470380          1046.250000  \n",
       "max                7.333023          1438.000000  "
      ]
     },
     "execution_count": 28,
     "metadata": {},
     "output_type": "execute_result"
    }
   ],
   "source": [
    "dataframe_in.describe()"
   ]
  },
  {
   "cell_type": "markdown",
   "id": "85d00103-b439-4d80-9b19-a636a7c0b042",
   "metadata": {},
   "source": [
    "## <span style='color:blue'>Key step:</span> adding features"
   ]
  },
  {
   "cell_type": "markdown",
   "id": "de0d955d-06ae-49ce-9bc5-6f9b869c1bc6",
   "metadata": {},
   "source": [
    "We can add features to a dataframe by pointing towards the column containing the chemical identifier, and giving a feature name. By default smiles will be canonicalized before retrieving features,  but this can be turned off with the `canonicalize` keyword bool."
   ]
  },
  {
   "cell_type": "code",
   "execution_count": 8,
   "id": "8a50cb8e-3485-4021-ad6e-2a88e6a9f683",
   "metadata": {},
   "outputs": [],
   "source": [
    "dataframe_feats = cytoxnet.dataprep.featurize.add_features(dataframe_in, id_col='smiles', method='RDKitDescriptors')"
   ]
  },
  {
   "cell_type": "code",
   "execution_count": 9,
   "id": "4197f0f1-f68d-4035-a108-096b21c26b81",
   "metadata": {},
   "outputs": [
    {
     "data": {
      "text/plain": [
       "0       [5.637361111111112, 0.1308531746031747, 5.6373...\n",
       "1       [3.2055144557823128, 1.217013888888889, 3.2055...\n",
       "2       [12.499231859410429, -3.573032407407408, 12.49...\n",
       "3       [3.3200393282312923, 0.918545918367347, 3.3200...\n",
       "4       [3.201388888888889, 1.0486111111111112, 3.2013...\n",
       "                              ...                        \n",
       "1435    [2.0416666666666665, 1.7129629629629628, 2.041...\n",
       "1436    [4.063148148148148, 1.025462962962963, 4.06314...\n",
       "1437    [4.137222222222222, 1.0995370370370372, 4.1372...\n",
       "1438    [3.5555555555555554, 1.4444444444444444, 3.555...\n",
       "1439    [3.5625, 1.4375, 3.5625, 1.4375, 0.43639752184...\n",
       "Name: RDKitDescriptors, Length: 1440, dtype: object"
      ]
     },
     "execution_count": 9,
     "metadata": {},
     "output_type": "execute_result"
    }
   ],
   "source": [
    "dataframe_feats['RDKitDescriptors']"
   ]
  },
  {
   "cell_type": "markdown",
   "id": "8d9a0ef0-2e27-4065-8034-bbb1b3da57f6",
   "metadata": {},
   "source": [
    "We can also specify a compounds codex - _this saves time by retrieving the already computed and saved features_ for molecules in our database instead of computing them again. In preparing our database in the previous example notebook, we computed the circular fingerprint. If features are not found in the database, they will simply be computed as normal."
   ]
  },
  {
   "cell_type": "code",
   "execution_count": 10,
   "id": "a5059d4a-165d-427a-b10d-a53d53d0fdce",
   "metadata": {},
   "outputs": [],
   "source": [
    "dataframe_feats = cytoxnet.dataprep.featurize.add_features(\n",
    "    dataframe_in,\n",
    "    id_col='smiles',\n",
    "    method='CircularFingerprint',\n",
    "    codex='database/compounds.csv'\n",
    ")"
   ]
  },
  {
   "cell_type": "code",
   "execution_count": 11,
   "id": "0bc0ef97-0f3b-427b-9bd8-094ca0d6c8e0",
   "metadata": {},
   "outputs": [
    {
     "data": {
      "text/plain": [
       "0       [0.0, 1.0, 0.0, 0.0, 0.0, 0.0, 0.0, 0.0, 0.0, ...\n",
       "1       [0.0, 0.0, 0.0, 0.0, 0.0, 0.0, 0.0, 0.0, 0.0, ...\n",
       "2       [0.0, 1.0, 0.0, 0.0, 0.0, 0.0, 0.0, 0.0, 0.0, ...\n",
       "3       [0.0, 0.0, 0.0, 0.0, 0.0, 0.0, 0.0, 0.0, 0.0, ...\n",
       "4       [0.0, 0.0, 0.0, 0.0, 0.0, 0.0, 0.0, 0.0, 0.0, ...\n",
       "                              ...                        \n",
       "1435    [0.0, 0.0, 0.0, 0.0, 0.0, 0.0, 0.0, 0.0, 0.0, ...\n",
       "1436    [0.0, 0.0, 0.0, 0.0, 0.0, 0.0, 0.0, 0.0, 0.0, ...\n",
       "1437    [0.0, 0.0, 0.0, 0.0, 0.0, 0.0, 0.0, 0.0, 0.0, ...\n",
       "1438    [0.0, 0.0, 0.0, 0.0, 0.0, 0.0, 0.0, 0.0, 0.0, ...\n",
       "1439    [0.0, 0.0, 0.0, 0.0, 0.0, 0.0, 0.0, 0.0, 0.0, ...\n",
       "Name: CircularFingerprint, Length: 1440, dtype: object"
      ]
     },
     "execution_count": 11,
     "metadata": {},
     "output_type": "execute_result"
    }
   ],
   "source": [
    "dataframe_feats['CircularFingerprint']"
   ]
  },
  {
   "cell_type": "markdown",
   "id": "6dbc6c99-2382-4103-82fc-6a3f08595011",
   "metadata": {},
   "source": [
    "_Note: this was unnecessary, because we retrieved the circular fingerprint when initially querying the database, but we can retrospectively add features from the database as shown here._"
   ]
  },
  {
   "cell_type": "markdown",
   "id": "e2f30ad1-e966-4b00-9fc5-4ddcffc54877",
   "metadata": {},
   "source": [
    "## Handling sparse datasets\n",
    "If we have a sparse target matrix, we can deal with the NAs for neural network models by replacing them with any value (in this case 0) and setting their weights to 0.0 so that they do not impact training or evaluation. We simply have to specify our targets."
   ]
  },
  {
   "cell_type": "code",
   "execution_count": 15,
   "id": "202bf99b-4acc-44ef-adc3-f21409ae0657",
   "metadata": {},
   "outputs": [],
   "source": [
    "dataframe_weighted = cytoxnet.dataprep.dataprep.handle_sparsity(\n",
    "    dataframe_feats,\n",
    "    y_col=['algea_algea_ec50', 'daphnia_daphnia_ec50']\n",
    ")"
   ]
  },
  {
   "cell_type": "markdown",
   "id": "3745238e-469b-4d21-b1bd-fb44b2976843",
   "metadata": {},
   "source": [
    "For each target specified, the function added a column of weights:"
   ]
  },
  {
   "cell_type": "code",
   "execution_count": 17,
   "id": "befe1f7e-0510-45c8-86b2-10d5adfc89f6",
   "metadata": {},
   "outputs": [
    {
     "name": "stdout",
     "output_type": "stream",
     "text": [
      "Column:  w_algea_algea_ec50\n",
      "Column:  w_daphnia_daphnia_ec50\n"
     ]
    }
   ],
   "source": [
    "for c in dataframe_weighted.columns:\n",
    "    if 'w_' in c:\n",
    "        print('Column: ', c)"
   ]
  },
  {
   "cell_type": "markdown",
   "id": "88066f2e-3423-41f7-b575-19fd532dad7d",
   "metadata": {},
   "source": [
    "The 'w_' is a default value, but can be chosen.\n",
    "\n",
    "_Note: this function can be used directly on deepchem `datasets` without having to specify columns - simply pass your dataset with y labels (see __Key step: converting to dataset__)._"
   ]
  },
  {
   "cell_type": "markdown",
   "id": "6e5f7dc1-237b-425c-ae2f-a538b0e5036f",
   "metadata": {},
   "source": [
    "## Binarizing targets\n",
    "If we have a continuous variable and wish to convert to binary nontoxic/toxic values, we specifify either a value to consider as threshold between the two or a percentile to compute on the data. We can also specify whether we want values larger than the threshold to be positive or negative. This function will handle sparisity (see above) if it finds it. In this case we ask the threshold to be the 20th percentile in each target."
   ]
  },
  {
   "cell_type": "code",
   "execution_count": 21,
   "id": "e3bbe164-f9ee-4641-8b4e-02a12a167a34",
   "metadata": {},
   "outputs": [],
   "source": [
    "dataframe_binarized = cytoxnet.dataprep.dataprep.binarize_targets(\n",
    "    dataframe_weighted,\n",
    "    target_cols=['algea_algea_ec50', 'daphnia_daphnia_ec50'],\n",
    "    percentile = 0.2,\n",
    "    high_positive=False\n",
    ")"
   ]
  },
  {
   "cell_type": "code",
   "execution_count": 22,
   "id": "92f36db5-5f76-449d-ba2f-2259b5b4fd00",
   "metadata": {},
   "outputs": [
    {
     "data": {
      "text/html": [
       "<div>\n",
       "<style scoped>\n",
       "    .dataframe tbody tr th:only-of-type {\n",
       "        vertical-align: middle;\n",
       "    }\n",
       "\n",
       "    .dataframe tbody tr th {\n",
       "        vertical-align: top;\n",
       "    }\n",
       "\n",
       "    .dataframe thead th {\n",
       "        text-align: right;\n",
       "    }\n",
       "</style>\n",
       "<table border=\"1\" class=\"dataframe\">\n",
       "  <thead>\n",
       "    <tr style=\"text-align: right;\">\n",
       "      <th></th>\n",
       "      <th>algea_algea_ec50</th>\n",
       "      <th>daphnia_daphnia_ec50</th>\n",
       "    </tr>\n",
       "  </thead>\n",
       "  <tbody>\n",
       "    <tr>\n",
       "      <th>0</th>\n",
       "      <td>True</td>\n",
       "      <td>False</td>\n",
       "    </tr>\n",
       "    <tr>\n",
       "      <th>1</th>\n",
       "      <td>False</td>\n",
       "      <td>False</td>\n",
       "    </tr>\n",
       "    <tr>\n",
       "      <th>2</th>\n",
       "      <td>False</td>\n",
       "      <td>False</td>\n",
       "    </tr>\n",
       "    <tr>\n",
       "      <th>3</th>\n",
       "      <td>False</td>\n",
       "      <td>True</td>\n",
       "    </tr>\n",
       "    <tr>\n",
       "      <th>4</th>\n",
       "      <td>False</td>\n",
       "      <td>False</td>\n",
       "    </tr>\n",
       "    <tr>\n",
       "      <th>...</th>\n",
       "      <td>...</td>\n",
       "      <td>...</td>\n",
       "    </tr>\n",
       "    <tr>\n",
       "      <th>1435</th>\n",
       "      <td>False</td>\n",
       "      <td>False</td>\n",
       "    </tr>\n",
       "    <tr>\n",
       "      <th>1436</th>\n",
       "      <td>False</td>\n",
       "      <td>False</td>\n",
       "    </tr>\n",
       "    <tr>\n",
       "      <th>1437</th>\n",
       "      <td>False</td>\n",
       "      <td>False</td>\n",
       "    </tr>\n",
       "    <tr>\n",
       "      <th>1438</th>\n",
       "      <td>False</td>\n",
       "      <td>False</td>\n",
       "    </tr>\n",
       "    <tr>\n",
       "      <th>1439</th>\n",
       "      <td>False</td>\n",
       "      <td>True</td>\n",
       "    </tr>\n",
       "  </tbody>\n",
       "</table>\n",
       "<p>1440 rows × 2 columns</p>\n",
       "</div>"
      ],
      "text/plain": [
       "      algea_algea_ec50  daphnia_daphnia_ec50\n",
       "0                 True                 False\n",
       "1                False                 False\n",
       "2                False                 False\n",
       "3                False                  True\n",
       "4                False                 False\n",
       "...                ...                   ...\n",
       "1435             False                 False\n",
       "1436             False                 False\n",
       "1437             False                 False\n",
       "1438             False                 False\n",
       "1439             False                  True\n",
       "\n",
       "[1440 rows x 2 columns]"
      ]
     },
     "execution_count": 22,
     "metadata": {},
     "output_type": "execute_result"
    }
   ],
   "source": [
    "dataframe_binarized[['algea_algea_ec50', 'daphnia_daphnia_ec50']]"
   ]
  },
  {
   "cell_type": "markdown",
   "id": "cb6e82d8-982f-4988-8747-87ecc01291ea",
   "metadata": {},
   "source": [
    "The defailt choice is to consider low values as positive (`high_positive` parameter), which is sensible for toxicity metrics where a low value means it is more toxic."
   ]
  },
  {
   "cell_type": "markdown",
   "id": "8f2b75b3-d5aa-491e-9f9a-d2028c146e70",
   "metadata": {},
   "source": [
    "## <span style='color:blue'>Key step:</span> converting to dataset\n",
    "We can convert our data into a deepchem `dataset`, removing all of the fluff in our dataframe and making it machine ready. We simply pass the names of columns containing featurized input data, columns containing our targets, and any weights for the samples."
   ]
  },
  {
   "cell_type": "code",
   "execution_count": 23,
   "id": "6bc2285e-b870-4294-8ebd-5f709965abd9",
   "metadata": {},
   "outputs": [],
   "source": [
    "dataset = cytoxnet.dataprep.dataprep.convert_to_dataset(\n",
    "    dataframe_weighted,\n",
    "    X_col='CircularFingerprint',\n",
    "    y_col=['algea_algea_ec50', 'daphnia_daphnia_ec50'],\n",
    "    w_label='w'\n",
    ")"
   ]
  },
  {
   "cell_type": "markdown",
   "id": "fe954355-68d8-4d4a-b39d-29647bfaca2b",
   "metadata": {},
   "source": [
    "In this case, we had handled the sparsity in the data which added columns with a 'w' weight label. We could also pass the columns containing weights directly using the `w_col` parameter."
   ]
  },
  {
   "cell_type": "code",
   "execution_count": 24,
   "id": "1bc0f631-f405-45bc-9674-f201c04bb9b4",
   "metadata": {},
   "outputs": [
    {
     "data": {
      "text/plain": [
       "<NumpyDataset X.shape: (1440, 2048), y.shape: (1440, 2), w.shape: (1440, 2), task_names: [0 1]>"
      ]
     },
     "execution_count": 24,
     "metadata": {},
     "output_type": "execute_result"
    }
   ],
   "source": [
    "dataset"
   ]
  },
  {
   "cell_type": "markdown",
   "id": "121b3a10-5c5c-4c14-8b4e-408f4ed25de2",
   "metadata": {},
   "source": [
    "This is ready to be put into a ToxModel"
   ]
  },
  {
   "cell_type": "markdown",
   "id": "b61a8d11-6a18-48bb-93aa-65a57675b7e0",
   "metadata": {},
   "source": [
    "## Applying transformations\n",
    "If we want to transform our data, we can ask for deepchem transformers by name, and targeting wither the X or y data. The transformers are also returned, in order to untransform data after learning. In this case, let's apply normalization to the y data."
   ]
  },
  {
   "cell_type": "code",
   "execution_count": 29,
   "id": "a49fd55a-8ba9-4fb1-a00a-6501117be138",
   "metadata": {},
   "outputs": [],
   "source": [
    "dataset_normed, transformations = cytoxnet.dataprep.dataprep.data_transformation(\n",
    "    dataset,\n",
    "    transformations=['NormalizationTransformer'],\n",
    "    to_transform='y'\n",
    ")"
   ]
  },
  {
   "cell_type": "markdown",
   "id": "6487519b-427d-432f-9fdf-bb60db4cbf19",
   "metadata": {},
   "source": [
    "## Splitting Data"
   ]
  },
  {
   "cell_type": "markdown",
   "id": "e257c2bd-2aad-4431-81b5-d017c734d287",
   "metadata": {},
   "source": [
    "In almost all cases, we want to split our dataset into some form of training, validation and testing. As an example, we create 5 cross validation folds from an initial training set. See documentation for the full function options. Random splitter is used here, though deepchem has more informed splitting options such as scaffold."
   ]
  },
  {
   "cell_type": "code",
   "execution_count": 30,
   "id": "faf4697c-a763-4e07-b66a-9bd57a0420e0",
   "metadata": {},
   "outputs": [],
   "source": [
    "# first do a train test split\n",
    "dev, test = cytoxnet.dataprep.dataprep.data_splitting(\n",
    "    dataset_normed,\n",
    "    splitter='RandomSplitter',\n",
    "    split_type='tt'\n",
    ")"
   ]
  },
  {
   "cell_type": "code",
   "execution_count": 31,
   "id": "d809a4ef-c693-49ce-a79d-90c012a26387",
   "metadata": {},
   "outputs": [],
   "source": [
    "# and now a k fold split of the dev set\n",
    "folds = cytoxnet.dataprep.dataprep.data_splitting(\n",
    "    dev,\n",
    "    splitter='RandomSplitter',\n",
    "    split_type='k_fold_split',\n",
    "    k=5\n",
    ")"
   ]
  },
  {
   "cell_type": "code",
   "execution_count": 32,
   "id": "c224e3ec-eafb-498b-97de-d0759d0abeef",
   "metadata": {},
   "outputs": [
    {
     "data": {
      "text/plain": [
       "[(<DiskDataset X.shape: (922, 2048), y.shape: (922, 2), w.shape: (922, 2), ids: [798 585 1179 ... 605 1013 510], task_names: [0 1]>,\n",
       "  <DiskDataset X.shape: (230, 2048), y.shape: (230, 2), w.shape: (230, 2), ids: [233 295 906 ... 752 451 947], task_names: [0 1]>),\n",
       " (<DiskDataset X.shape: (922, 2048), y.shape: (922, 2), w.shape: (922, 2), ids: [233 295 906 ... 935 548 497], task_names: [0 1]>,\n",
       "  <DiskDataset X.shape: (230, 2048), y.shape: (230, 2), w.shape: (230, 2), ids: [815 1336 956 ... 997 1071 654], task_names: [0 1]>),\n",
       " (<DiskDataset X.shape: (922, 2048), y.shape: (922, 2), w.shape: (922, 2), ids: [233 295 906 ... 592 637 632], task_names: [0 1]>,\n",
       "  <DiskDataset X.shape: (230, 2048), y.shape: (230, 2), w.shape: (230, 2), ids: [146 1099 951 ... 718 1437 835], task_names: [0 1]>),\n",
       " (<DiskDataset X.shape: (921, 2048), y.shape: (921, 2), w.shape: (921, 2), ids: [233 295 906 ... 485 219 50], task_names: [0 1]>,\n",
       "  <DiskDataset X.shape: (231, 2048), y.shape: (231, 2), w.shape: (231, 2), ids: [869 1225 1221 ... 744 153 971], task_names: [0 1]>),\n",
       " (<DiskDataset X.shape: (921, 2048), y.shape: (921, 2), w.shape: (921, 2), ids: [233 295 906 ... 744 153 971], task_names: [0 1]>,\n",
       "  <DiskDataset X.shape: (231, 2048), y.shape: (231, 2), w.shape: (231, 2), ids: [867 438 941 ... 1304 333 817], task_names: [0 1]>)]"
      ]
     },
     "execution_count": 32,
     "metadata": {},
     "output_type": "execute_result"
    }
   ],
   "source": [
    "folds"
   ]
  },
  {
   "cell_type": "code",
   "execution_count": null,
   "id": "49f7b6e9-faf2-4046-8422-6082051fdc2b",
   "metadata": {},
   "outputs": [],
   "source": []
  }
 ],
 "metadata": {
  "kernelspec": {
   "display_name": "Python 3",
   "language": "python",
   "name": "python3"
  },
  "language_info": {
   "codemirror_mode": {
    "name": "ipython",
    "version": 3
   },
   "file_extension": ".py",
   "mimetype": "text/x-python",
   "name": "python",
   "nbconvert_exporter": "python",
   "pygments_lexer": "ipython3",
   "version": "3.6.13"
  }
 },
 "nbformat": 4,
 "nbformat_minor": 5
}
