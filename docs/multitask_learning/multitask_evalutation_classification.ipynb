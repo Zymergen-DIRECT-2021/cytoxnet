{
 "cells": [
  {
   "cell_type": "markdown",
   "id": "2d9d7d8f-27e0-4dd4-a4dc-05e04aad1183",
   "metadata": {},
   "source": [
    "# Multitask learning capability evaluation\n",
    "\n",
    "Random forests performed well both as classifiers and as regressors, with the descripor based features (Mordred and RDKit) performing the best. Can a multitask model with imputation or a graph neural net do better?"
   ]
  },
  {
   "cell_type": "code",
   "execution_count": 1,
   "id": "0bf726f1-085c-421f-8a18-53acef392c99",
   "metadata": {},
   "outputs": [],
   "source": [
    "import deepchem as dc\n",
    "import numpy as np\n",
    "import pandas as pd\n",
    "import optuna\n",
    "from functools import reduce\n",
    "\n",
    "import cytoxnet.dataprep.io as io\n",
    "import cytoxnet.dataprep.dataprep as dataprep\n",
    "import cytoxnet.dataprep.featurize as feat\n",
    "from cytoxnet.models.models import ToxModel\n",
    "import cytoxnet.models.opt as opt"
   ]
  },
  {
   "cell_type": "markdown",
   "id": "3fad26f7-a7e2-44a3-852b-e381347ca333",
   "metadata": {},
   "source": [
    "## Contents\n",
    "This notebook contains en evaluation of the optimized models for classification tasks. The overall goal was to leverage all of our datasets (see data report section) in order to produce the best possible classifier of toxicity in a single test microbe, in this case algea. Continuous toxicity metrics are binirized by labeling the most toxic 90% of each dataset as toxic. For this reason precision score is a more valuable metric than recal score.\n",
    "\n",
    "Models tested:\n",
    "- RFC w/ RDKitDescriptors baseline: train on algea data alone\n",
    "- RFC w/ RDKitDescriptor imputed with mean: train on all species (originally sparse)\n",
    "- RFC w/ RDKitDescriptor imputed with iterative imputer: train on all species (originally sparse)\n",
    "- GCNN w/ 0.0 wighted sparse data: train on all species (sparse)"
   ]
  },
  {
   "cell_type": "markdown",
   "id": "91adbe1f-aa4e-43e3-87e0-6a2151de7785",
   "metadata": {},
   "source": [
    "## Create the datasets to use\n",
    "Multitask learning would have the most benefit for small target datasets, so we will use the smallest in the package (Lunghini algea data) as the ultimate goal"
   ]
  },
  {
   "cell_type": "code",
   "execution_count": 2,
   "id": "422f4b77-b932-477d-bc5d-1af7a4a0b68d",
   "metadata": {},
   "outputs": [],
   "source": [
    "## !!!!!!temporary until database query works\n",
    "fish = io.load_data('../database/fish.csv', cols=['smiles', 'fish_LC50'])\n",
    "daphnia = io.load_data('../database/daphnia.csv', cols=['smiles', 'daphnia_EC50'])\n",
    "algea = io.load_data('../database/algea.csv', cols=['smiles', 'algea_EC50'])\n",
    "rat  = io.load_data('../database/rat.csv', cols=['smiles', 'rat_LD50'])\n",
    "ecoli  = io.load_data('../database/ecoli.csv', cols=['smiles', 'ecoli_MIC'])\n",
    "\n",
    "raw = reduce(\n",
    "    lambda x, y: pd.merge(x, y, how='outer', on = 'smiles'),\n",
    "    [fish, daphnia, algea, rat, ecoli]\n",
    ")\n",
    "multitask_names = [\n",
    "    'fish_LC50',\n",
    "    'daphnia_EC50',\n",
    "    'algea_EC50',\n",
    "    'rat_LD50',\n",
    "    'ecoli_MIC'\n",
    "]"
   ]
  },
  {
   "cell_type": "code",
   "execution_count": 3,
   "id": "d736b477-0548-467f-961e-7aa9783775f1",
   "metadata": {},
   "outputs": [
    {
     "data": {
      "text/html": [
       "<div>\n",
       "<style scoped>\n",
       "    .dataframe tbody tr th:only-of-type {\n",
       "        vertical-align: middle;\n",
       "    }\n",
       "\n",
       "    .dataframe tbody tr th {\n",
       "        vertical-align: top;\n",
       "    }\n",
       "\n",
       "    .dataframe thead th {\n",
       "        text-align: right;\n",
       "    }\n",
       "</style>\n",
       "<table border=\"1\" class=\"dataframe\">\n",
       "  <thead>\n",
       "    <tr style=\"text-align: right;\">\n",
       "      <th></th>\n",
       "      <th>fish_LC50</th>\n",
       "      <th>daphnia_EC50</th>\n",
       "      <th>algea_EC50</th>\n",
       "      <th>rat_LD50</th>\n",
       "      <th>ecoli_MIC</th>\n",
       "    </tr>\n",
       "  </thead>\n",
       "  <tbody>\n",
       "    <tr>\n",
       "      <th>count</th>\n",
       "      <td>2211.000000</td>\n",
       "      <td>2143.000000</td>\n",
       "      <td>1444.000000</td>\n",
       "      <td>7393.000000</td>\n",
       "      <td>5271.000000</td>\n",
       "    </tr>\n",
       "    <tr>\n",
       "      <th>mean</th>\n",
       "      <td>2.156074</td>\n",
       "      <td>1.523104</td>\n",
       "      <td>2.457666</td>\n",
       "      <td>-2.544144</td>\n",
       "      <td>2.840188</td>\n",
       "    </tr>\n",
       "    <tr>\n",
       "      <th>std</th>\n",
       "      <td>2.710465</td>\n",
       "      <td>2.795524</td>\n",
       "      <td>2.350359</td>\n",
       "      <td>0.958268</td>\n",
       "      <td>2.364505</td>\n",
       "    </tr>\n",
       "    <tr>\n",
       "      <th>min</th>\n",
       "      <td>-8.947976</td>\n",
       "      <td>-10.724468</td>\n",
       "      <td>-7.836625</td>\n",
       "      <td>-10.207000</td>\n",
       "      <td>-11.042922</td>\n",
       "    </tr>\n",
       "    <tr>\n",
       "      <th>25%</th>\n",
       "      <td>0.569557</td>\n",
       "      <td>0.066566</td>\n",
       "      <td>1.162368</td>\n",
       "      <td>-3.035000</td>\n",
       "      <td>1.832581</td>\n",
       "    </tr>\n",
       "    <tr>\n",
       "      <th>50%</th>\n",
       "      <td>2.225704</td>\n",
       "      <td>1.916923</td>\n",
       "      <td>2.708050</td>\n",
       "      <td>-2.367000</td>\n",
       "      <td>3.465736</td>\n",
       "    </tr>\n",
       "    <tr>\n",
       "      <th>75%</th>\n",
       "      <td>3.947383</td>\n",
       "      <td>3.502550</td>\n",
       "      <td>4.033795</td>\n",
       "      <td>-1.856000</td>\n",
       "      <td>4.158883</td>\n",
       "    </tr>\n",
       "    <tr>\n",
       "      <th>max</th>\n",
       "      <td>10.537415</td>\n",
       "      <td>10.126631</td>\n",
       "      <td>9.118225</td>\n",
       "      <td>0.343000</td>\n",
       "      <td>9.433484</td>\n",
       "    </tr>\n",
       "  </tbody>\n",
       "</table>\n",
       "</div>"
      ],
      "text/plain": [
       "         fish_LC50  daphnia_EC50   algea_EC50     rat_LD50    ecoli_MIC\n",
       "count  2211.000000   2143.000000  1444.000000  7393.000000  5271.000000\n",
       "mean      2.156074      1.523104     2.457666    -2.544144     2.840188\n",
       "std       2.710465      2.795524     2.350359     0.958268     2.364505\n",
       "min      -8.947976    -10.724468    -7.836625   -10.207000   -11.042922\n",
       "25%       0.569557      0.066566     1.162368    -3.035000     1.832581\n",
       "50%       2.225704      1.916923     2.708050    -2.367000     3.465736\n",
       "75%       3.947383      3.502550     4.033795    -1.856000     4.158883\n",
       "max      10.537415     10.126631     9.118225     0.343000     9.433484"
      ]
     },
     "execution_count": 3,
     "metadata": {},
     "output_type": "execute_result"
    }
   ],
   "source": [
    "raw.describe()"
   ]
  },
  {
   "cell_type": "markdown",
   "id": "2fad8f39-8faa-4e02-b29f-07cc738c3e79",
   "metadata": {},
   "source": [
    "add features - RDKit for RFCs, graphs for graph cnn"
   ]
  },
  {
   "cell_type": "code",
   "execution_count": 4,
   "id": "acf1c55a-2233-4992-be78-e21ebdece98f",
   "metadata": {},
   "outputs": [],
   "source": [
    "data_f = feat.add_features(raw, method='RDKitDescriptors', codex='../database/compounds.csv')\n",
    "data_f = feat.add_features(data_f, method='ConvMolFeaturizer')"
   ]
  },
  {
   "cell_type": "markdown",
   "id": "6f32bb5d-6a60-4605-b39d-cfc5aa053e83",
   "metadata": {},
   "source": [
    "identify an independant algea test set by index"
   ]
  },
  {
   "cell_type": "code",
   "execution_count": 5,
   "id": "42a9f5ac-00a8-400f-bc54-3b1270b7ac8c",
   "metadata": {},
   "outputs": [],
   "source": [
    "algea_only = data_f[~data_f.isna()['algea_EC50']]\n",
    "algea_index = algea_only.index\n",
    "test_index = algea_only.sample(frac=.2, random_state=0).index\n",
    "baseline_index = algea_only.drop(index=test_index).index"
   ]
  },
  {
   "cell_type": "markdown",
   "id": "e0f31fb9-9200-4f32-8f60-32f34a827eb9",
   "metadata": {},
   "source": [
    "## Baseline model\n",
    "As a baseline we are using random forest classifier, which we know is capable for single tasks."
   ]
  },
  {
   "cell_type": "code",
   "execution_count": 6,
   "id": "8c0e8f4e-0d49-45ae-a191-813639a0003f",
   "metadata": {},
   "outputs": [],
   "source": [
    "baseline_frame = data_f.loc[algea_index]"
   ]
  },
  {
   "cell_type": "code",
   "execution_count": 7,
   "id": "45960a54-eb61-4830-8f9d-4727e0168069",
   "metadata": {},
   "outputs": [],
   "source": [
    "baseline_frame = dataprep.binarize_targets(baseline_frame, target_cols=['algea_EC50'], percentile=.9)"
   ]
  },
  {
   "cell_type": "code",
   "execution_count": 8,
   "id": "57b0aa92-95ec-4234-a9b1-ac23ed0fe1d0",
   "metadata": {},
   "outputs": [],
   "source": [
    "# create the dataset\n",
    "baseline = dataprep.convert_to_dataset(\n",
    "    baseline_frame,\n",
    "    X_col='RDKitDescriptors',\n",
    "    y_col=[\n",
    "        'algea_EC50'\n",
    "    ]\n",
    ")"
   ]
  },
  {
   "cell_type": "code",
   "execution_count": 9,
   "id": "60b7def6-96af-4651-8d50-cdefc17eb430",
   "metadata": {},
   "outputs": [],
   "source": [
    "# split out dev and test\n",
    "baseline_test = baseline.select(np.isin(baseline.ids, test_index))\n",
    "baseline_dev = baseline.select(np.isin(baseline.ids, baseline_index))"
   ]
  },
  {
   "cell_type": "markdown",
   "id": "dc7d26e8-8e6d-4db8-8d64-df51a870597d",
   "metadata": {},
   "source": [
    "retrieve hyperparmeter optimization"
   ]
  },
  {
   "cell_type": "code",
   "execution_count": 10,
   "id": "a0cbb172-1a93-4828-a6dd-47fed94a09ef",
   "metadata": {
    "tags": []
   },
   "outputs": [],
   "source": [
    "baseline_study = optuna.load_study(\n",
    "    study_name='opt',\n",
    "    storage=\"sqlite:///classification/baseline_c.db\"\n",
    ")"
   ]
  },
  {
   "cell_type": "code",
   "execution_count": 11,
   "id": "c1f7efdb-1982-44de-bded-53fb2b3e875b",
   "metadata": {
    "tags": []
   },
   "outputs": [
    {
     "data": {
      "text/html": [
       "<div>\n",
       "<style scoped>\n",
       "    .dataframe tbody tr th:only-of-type {\n",
       "        vertical-align: middle;\n",
       "    }\n",
       "\n",
       "    .dataframe tbody tr th {\n",
       "        vertical-align: top;\n",
       "    }\n",
       "\n",
       "    .dataframe thead th {\n",
       "        text-align: right;\n",
       "    }\n",
       "</style>\n",
       "<table border=\"1\" class=\"dataframe\">\n",
       "  <thead>\n",
       "    <tr style=\"text-align: right;\">\n",
       "      <th></th>\n",
       "      <th>number</th>\n",
       "      <th>value</th>\n",
       "      <th>datetime_start</th>\n",
       "      <th>datetime_complete</th>\n",
       "      <th>duration</th>\n",
       "      <th>params_criterion</th>\n",
       "      <th>params_max_depth</th>\n",
       "      <th>params_max_features</th>\n",
       "      <th>params_min_samples_leaf</th>\n",
       "      <th>params_min_samples_split</th>\n",
       "      <th>params_n_estimators</th>\n",
       "      <th>state</th>\n",
       "    </tr>\n",
       "  </thead>\n",
       "  <tbody>\n",
       "    <tr>\n",
       "      <th>0</th>\n",
       "      <td>0</td>\n",
       "      <td>0.902879</td>\n",
       "      <td>2021-06-01 14:36:35.577049</td>\n",
       "      <td>2021-06-01 14:36:40.581215</td>\n",
       "      <td>0 days 00:00:05.004166</td>\n",
       "      <td>gini</td>\n",
       "      <td>45.0</td>\n",
       "      <td>sqrt</td>\n",
       "      <td>8</td>\n",
       "      <td>10</td>\n",
       "      <td>225</td>\n",
       "      <td>COMPLETE</td>\n",
       "    </tr>\n",
       "    <tr>\n",
       "      <th>1</th>\n",
       "      <td>1</td>\n",
       "      <td>0.909396</td>\n",
       "      <td>2021-06-01 14:36:35.577139</td>\n",
       "      <td>2021-06-01 14:36:39.563972</td>\n",
       "      <td>0 days 00:00:03.986833</td>\n",
       "      <td>entropy</td>\n",
       "      <td>45.0</td>\n",
       "      <td>sqrt</td>\n",
       "      <td>1</td>\n",
       "      <td>4</td>\n",
       "      <td>195</td>\n",
       "      <td>COMPLETE</td>\n",
       "    </tr>\n",
       "    <tr>\n",
       "      <th>2</th>\n",
       "      <td>2</td>\n",
       "      <td>0.904460</td>\n",
       "      <td>2021-06-01 14:36:35.577589</td>\n",
       "      <td>2021-06-01 14:36:38.643183</td>\n",
       "      <td>0 days 00:00:03.065594</td>\n",
       "      <td>gini</td>\n",
       "      <td>40.0</td>\n",
       "      <td>auto</td>\n",
       "      <td>7</td>\n",
       "      <td>4</td>\n",
       "      <td>30</td>\n",
       "      <td>COMPLETE</td>\n",
       "    </tr>\n",
       "    <tr>\n",
       "      <th>3</th>\n",
       "      <td>3</td>\n",
       "      <td>0.902165</td>\n",
       "      <td>2021-06-01 14:36:35.577392</td>\n",
       "      <td>2021-06-01 14:36:38.604757</td>\n",
       "      <td>0 days 00:00:03.027365</td>\n",
       "      <td>entropy</td>\n",
       "      <td>5.0</td>\n",
       "      <td>auto</td>\n",
       "      <td>4</td>\n",
       "      <td>5</td>\n",
       "      <td>90</td>\n",
       "      <td>COMPLETE</td>\n",
       "    </tr>\n",
       "    <tr>\n",
       "      <th>4</th>\n",
       "      <td>4</td>\n",
       "      <td>0.903548</td>\n",
       "      <td>2021-06-01 14:36:35.577500</td>\n",
       "      <td>2021-06-01 14:36:38.722385</td>\n",
       "      <td>0 days 00:00:03.144885</td>\n",
       "      <td>entropy</td>\n",
       "      <td>NaN</td>\n",
       "      <td>log2</td>\n",
       "      <td>5</td>\n",
       "      <td>3</td>\n",
       "      <td>130</td>\n",
       "      <td>COMPLETE</td>\n",
       "    </tr>\n",
       "    <tr>\n",
       "      <th>...</th>\n",
       "      <td>...</td>\n",
       "      <td>...</td>\n",
       "      <td>...</td>\n",
       "      <td>...</td>\n",
       "      <td>...</td>\n",
       "      <td>...</td>\n",
       "      <td>...</td>\n",
       "      <td>...</td>\n",
       "      <td>...</td>\n",
       "      <td>...</td>\n",
       "      <td>...</td>\n",
       "      <td>...</td>\n",
       "    </tr>\n",
       "    <tr>\n",
       "      <th>555</th>\n",
       "      <td>555</td>\n",
       "      <td>0.913974</td>\n",
       "      <td>2021-06-01 15:11:37.425130</td>\n",
       "      <td>2021-06-01 15:11:39.262270</td>\n",
       "      <td>0 days 00:00:01.837140</td>\n",
       "      <td>gini</td>\n",
       "      <td>25.0</td>\n",
       "      <td>auto</td>\n",
       "      <td>1</td>\n",
       "      <td>4</td>\n",
       "      <td>10</td>\n",
       "      <td>COMPLETE</td>\n",
       "    </tr>\n",
       "    <tr>\n",
       "      <th>556</th>\n",
       "      <td>556</td>\n",
       "      <td>0.913418</td>\n",
       "      <td>2021-06-01 15:11:37.994200</td>\n",
       "      <td>2021-06-01 15:11:39.656718</td>\n",
       "      <td>0 days 00:00:01.662518</td>\n",
       "      <td>gini</td>\n",
       "      <td>45.0</td>\n",
       "      <td>auto</td>\n",
       "      <td>1</td>\n",
       "      <td>4</td>\n",
       "      <td>10</td>\n",
       "      <td>COMPLETE</td>\n",
       "    </tr>\n",
       "    <tr>\n",
       "      <th>557</th>\n",
       "      <td>557</td>\n",
       "      <td>0.918903</td>\n",
       "      <td>2021-06-01 15:11:38.448374</td>\n",
       "      <td>2021-06-01 15:11:40.084326</td>\n",
       "      <td>0 days 00:00:01.635952</td>\n",
       "      <td>gini</td>\n",
       "      <td>25.0</td>\n",
       "      <td>auto</td>\n",
       "      <td>1</td>\n",
       "      <td>4</td>\n",
       "      <td>10</td>\n",
       "      <td>COMPLETE</td>\n",
       "    </tr>\n",
       "    <tr>\n",
       "      <th>558</th>\n",
       "      <td>558</td>\n",
       "      <td>0.910264</td>\n",
       "      <td>2021-06-01 15:11:38.896578</td>\n",
       "      <td>2021-06-01 15:11:40.373885</td>\n",
       "      <td>0 days 00:00:01.477307</td>\n",
       "      <td>gini</td>\n",
       "      <td>45.0</td>\n",
       "      <td>auto</td>\n",
       "      <td>1</td>\n",
       "      <td>4</td>\n",
       "      <td>10</td>\n",
       "      <td>COMPLETE</td>\n",
       "    </tr>\n",
       "    <tr>\n",
       "      <th>559</th>\n",
       "      <td>559</td>\n",
       "      <td>0.914498</td>\n",
       "      <td>2021-06-01 15:11:39.546902</td>\n",
       "      <td>2021-06-01 15:11:40.954528</td>\n",
       "      <td>0 days 00:00:01.407626</td>\n",
       "      <td>entropy</td>\n",
       "      <td>45.0</td>\n",
       "      <td>auto</td>\n",
       "      <td>1</td>\n",
       "      <td>4</td>\n",
       "      <td>10</td>\n",
       "      <td>COMPLETE</td>\n",
       "    </tr>\n",
       "  </tbody>\n",
       "</table>\n",
       "<p>560 rows × 12 columns</p>\n",
       "</div>"
      ],
      "text/plain": [
       "     number     value             datetime_start          datetime_complete  \\\n",
       "0         0  0.902879 2021-06-01 14:36:35.577049 2021-06-01 14:36:40.581215   \n",
       "1         1  0.909396 2021-06-01 14:36:35.577139 2021-06-01 14:36:39.563972   \n",
       "2         2  0.904460 2021-06-01 14:36:35.577589 2021-06-01 14:36:38.643183   \n",
       "3         3  0.902165 2021-06-01 14:36:35.577392 2021-06-01 14:36:38.604757   \n",
       "4         4  0.903548 2021-06-01 14:36:35.577500 2021-06-01 14:36:38.722385   \n",
       "..      ...       ...                        ...                        ...   \n",
       "555     555  0.913974 2021-06-01 15:11:37.425130 2021-06-01 15:11:39.262270   \n",
       "556     556  0.913418 2021-06-01 15:11:37.994200 2021-06-01 15:11:39.656718   \n",
       "557     557  0.918903 2021-06-01 15:11:38.448374 2021-06-01 15:11:40.084326   \n",
       "558     558  0.910264 2021-06-01 15:11:38.896578 2021-06-01 15:11:40.373885   \n",
       "559     559  0.914498 2021-06-01 15:11:39.546902 2021-06-01 15:11:40.954528   \n",
       "\n",
       "                  duration params_criterion  params_max_depth  \\\n",
       "0   0 days 00:00:05.004166             gini              45.0   \n",
       "1   0 days 00:00:03.986833          entropy              45.0   \n",
       "2   0 days 00:00:03.065594             gini              40.0   \n",
       "3   0 days 00:00:03.027365          entropy               5.0   \n",
       "4   0 days 00:00:03.144885          entropy               NaN   \n",
       "..                     ...              ...               ...   \n",
       "555 0 days 00:00:01.837140             gini              25.0   \n",
       "556 0 days 00:00:01.662518             gini              45.0   \n",
       "557 0 days 00:00:01.635952             gini              25.0   \n",
       "558 0 days 00:00:01.477307             gini              45.0   \n",
       "559 0 days 00:00:01.407626          entropy              45.0   \n",
       "\n",
       "    params_max_features  params_min_samples_leaf  params_min_samples_split  \\\n",
       "0                  sqrt                        8                        10   \n",
       "1                  sqrt                        1                         4   \n",
       "2                  auto                        7                         4   \n",
       "3                  auto                        4                         5   \n",
       "4                  log2                        5                         3   \n",
       "..                  ...                      ...                       ...   \n",
       "555                auto                        1                         4   \n",
       "556                auto                        1                         4   \n",
       "557                auto                        1                         4   \n",
       "558                auto                        1                         4   \n",
       "559                auto                        1                         4   \n",
       "\n",
       "     params_n_estimators     state  \n",
       "0                    225  COMPLETE  \n",
       "1                    195  COMPLETE  \n",
       "2                     30  COMPLETE  \n",
       "3                     90  COMPLETE  \n",
       "4                    130  COMPLETE  \n",
       "..                   ...       ...  \n",
       "555                   10  COMPLETE  \n",
       "556                   10  COMPLETE  \n",
       "557                   10  COMPLETE  \n",
       "558                   10  COMPLETE  \n",
       "559                   10  COMPLETE  \n",
       "\n",
       "[560 rows x 12 columns]"
      ]
     },
     "execution_count": 11,
     "metadata": {},
     "output_type": "execute_result"
    }
   ],
   "source": [
    "baseline_results = baseline_study.trials_dataframe()\n",
    "baseline_results"
   ]
  },
  {
   "cell_type": "code",
   "execution_count": 12,
   "id": "2cf87049-80d1-4987-9d54-416534e861f2",
   "metadata": {},
   "outputs": [],
   "source": [
    "baseline_params = baseline_study.best_params"
   ]
  },
  {
   "cell_type": "code",
   "execution_count": 50,
   "id": "c365f966-7a32-4ae0-ac41-a00da9809f88",
   "metadata": {},
   "outputs": [
    {
     "data": {
      "text/plain": [
       "{'criterion': 'gini',\n",
       " 'max_depth': None,\n",
       " 'max_features': 'auto',\n",
       " 'min_samples_leaf': 1,\n",
       " 'min_samples_split': 5,\n",
       " 'n_estimators': 10}"
      ]
     },
     "execution_count": 50,
     "metadata": {},
     "output_type": "execute_result"
    }
   ],
   "source": [
    "baseline_params"
   ]
  },
  {
   "cell_type": "code",
   "execution_count": 51,
   "id": "45ff1c54-a0a1-4d8e-bb1d-e696d91ced0d",
   "metadata": {},
   "outputs": [
    {
     "data": {
      "text/plain": [
       "0.9236651223187223"
      ]
     },
     "execution_count": 51,
     "metadata": {},
     "output_type": "execute_result"
    }
   ],
   "source": [
    "baseline_study.best_value"
   ]
  },
  {
   "cell_type": "markdown",
   "id": "c7645a35-42c4-4516-9e2a-1f99399cbe0b",
   "metadata": {},
   "source": [
    "train the baseline model with best identified hyperparameters"
   ]
  },
  {
   "cell_type": "code",
   "execution_count": 13,
   "id": "b54f466b-f570-4113-839a-cc6f45311653",
   "metadata": {},
   "outputs": [
    {
     "name": "stdout",
     "output_type": "stream",
     "text": [
      "WARNING: No tasks passed, assuming one target\n"
     ]
    }
   ],
   "source": [
    "baseline_model = ToxModel('RFC', **baseline_params)"
   ]
  },
  {
   "cell_type": "code",
   "execution_count": 14,
   "id": "179b0648-3f58-438a-8856-5d66ce955f62",
   "metadata": {},
   "outputs": [],
   "source": [
    "baseline_model.fit(baseline_dev)"
   ]
  },
  {
   "cell_type": "code",
   "execution_count": 15,
   "id": "ce79b6ec-bf7b-42ae-aa1f-fb0c18da2d23",
   "metadata": {
    "tags": []
   },
   "outputs": [
    {
     "data": {
      "text/plain": [
       "{0: 0.9064748201438849, 1: 0.972972972972973}"
      ]
     },
     "execution_count": 15,
     "metadata": {},
     "output_type": "execute_result"
    }
   ],
   "source": [
    "baseline_model.evaluate(baseline_test, ['precision_score', 'recall_score'], untransform=False, n_classes=2)"
   ]
  },
  {
   "cell_type": "markdown",
   "id": "efba56d8-f44c-4e87-9a22-f5113f8abdda",
   "metadata": {},
   "source": [
    "> The final precision score is 0.906"
   ]
  },
  {
   "cell_type": "code",
   "execution_count": 15,
   "id": "417ef4c9-5b54-4106-88cf-e6c0a7f12906",
   "metadata": {},
   "outputs": [
    {
     "data": {
      "text/html": [
       "\n",
       "<div id=\"altair-viz-4e569b8af9ec4b97b465089a3559c8a1\"></div>\n",
       "<script type=\"text/javascript\">\n",
       "  (function(spec, embedOpt){\n",
       "    let outputDiv = document.currentScript.previousElementSibling;\n",
       "    if (outputDiv.id !== \"altair-viz-4e569b8af9ec4b97b465089a3559c8a1\") {\n",
       "      outputDiv = document.getElementById(\"altair-viz-4e569b8af9ec4b97b465089a3559c8a1\");\n",
       "    }\n",
       "    const paths = {\n",
       "      \"vega\": \"https://cdn.jsdelivr.net/npm//vega@5?noext\",\n",
       "      \"vega-lib\": \"https://cdn.jsdelivr.net/npm//vega-lib?noext\",\n",
       "      \"vega-lite\": \"https://cdn.jsdelivr.net/npm//vega-lite@4.8.1?noext\",\n",
       "      \"vega-embed\": \"https://cdn.jsdelivr.net/npm//vega-embed@6?noext\",\n",
       "    };\n",
       "\n",
       "    function loadScript(lib) {\n",
       "      return new Promise(function(resolve, reject) {\n",
       "        var s = document.createElement('script');\n",
       "        s.src = paths[lib];\n",
       "        s.async = true;\n",
       "        s.onload = () => resolve(paths[lib]);\n",
       "        s.onerror = () => reject(`Error loading script: ${paths[lib]}`);\n",
       "        document.getElementsByTagName(\"head\")[0].appendChild(s);\n",
       "      });\n",
       "    }\n",
       "\n",
       "    function showError(err) {\n",
       "      outputDiv.innerHTML = `<div class=\"error\" style=\"color:red;\">${err}</div>`;\n",
       "      throw err;\n",
       "    }\n",
       "\n",
       "    function displayChart(vegaEmbed) {\n",
       "      vegaEmbed(outputDiv, spec, embedOpt)\n",
       "        .catch(err => showError(`Javascript Error: ${err.message}<br>This usually means there's a typo in your chart specification. See the javascript console for the full traceback.`));\n",
       "    }\n",
       "\n",
       "    if(typeof define === \"function\" && define.amd) {\n",
       "      requirejs.config({paths});\n",
       "      require([\"vega-embed\"], displayChart, err => showError(`Error loading script: ${err.message}`));\n",
       "    } else if (typeof vegaEmbed === \"function\") {\n",
       "      displayChart(vegaEmbed);\n",
       "    } else {\n",
       "      loadScript(\"vega\")\n",
       "        .then(() => loadScript(\"vega-lite\"))\n",
       "        .then(() => loadScript(\"vega-embed\"))\n",
       "        .catch(showError)\n",
       "        .then(() => displayChart(vegaEmbed));\n",
       "    }\n",
       "  })({\"config\": {\"view\": {\"continuousWidth\": 400, \"continuousHeight\": 300}}, \"layer\": [{\"data\": {\"name\": \"data-28880620c4ce6846c6811bc07c83cec4\"}, \"mark\": {\"type\": \"line\", \"color\": \"black\", \"strokeDash\": [20, 5]}, \"encoding\": {\"x\": {\"type\": \"quantitative\", \"field\": \"line\", \"scale\": {\"domain\": [0.0, 1.0]}, \"title\": \"false positive rate\"}, \"y\": {\"type\": \"quantitative\", \"field\": \"line\", \"scale\": {\"domain\": [0.0, 1.0]}, \"title\": \"true positive rate\"}}}, {\"data\": {\"name\": \"data-bdfd230cdfbe02ab9cdeda076bbf962d\"}, \"mark\": {\"type\": \"area\", \"fill\": \"red\", \"fillOpacity\": 0.5}, \"encoding\": {\"x\": {\"type\": \"quantitative\", \"field\": \"fpr\", \"title\": \"false positive rate\"}, \"y\": {\"type\": \"quantitative\", \"field\": \"tpr\", \"title\": \"true positive rate\"}}}], \"$schema\": \"https://vega.github.io/schema/vega-lite/v4.8.1.json\", \"datasets\": {\"data-28880620c4ce6846c6811bc07c83cec4\": [{\"line\": 0}, {\"line\": 1}], \"data-bdfd230cdfbe02ab9cdeda076bbf962d\": [{\"fpr\": 0.0, \"tpr\": 0.0, \"thresholds\": 2}, {\"fpr\": 0.7666666666666667, \"tpr\": 0.9884169884169884, \"thresholds\": 1}, {\"fpr\": 1.0, \"tpr\": 1.0, \"thresholds\": 0}]}}, {\"mode\": \"vega-lite\"});\n",
       "</script>"
      ],
      "text/plain": [
       "alt.LayerChart(...)"
      ]
     },
     "execution_count": 15,
     "metadata": {},
     "output_type": "execute_result"
    }
   ],
   "source": [
    "baseline_model.visualize('roc', baseline_test)"
   ]
  },
  {
   "cell_type": "markdown",
   "id": "39864dd8-7026-4053-b6b2-d8157b9ca5c2",
   "metadata": {},
   "source": [
    "## Evaluate the multitask model\n",
    "Random forests require imputation for sparse datasets, try a few methods: mean imputation, interpolation, and RFR interpolation. Additionally attempt graphs with weights."
   ]
  },
  {
   "cell_type": "code",
   "execution_count": 16,
   "id": "8aecf0e3-597f-4e23-958a-f40e556a215d",
   "metadata": {},
   "outputs": [],
   "source": [
    "import sklearn.impute"
   ]
  },
  {
   "cell_type": "markdown",
   "id": "395379fd-fc66-4a2c-b004-03b03035a00e",
   "metadata": {},
   "source": [
    "#### Impute by mean"
   ]
  },
  {
   "cell_type": "code",
   "execution_count": 17,
   "id": "f454b319-64e6-46d3-bc54-9ae8b1064c98",
   "metadata": {},
   "outputs": [],
   "source": [
    "mean = data_f.copy()"
   ]
  },
  {
   "cell_type": "markdown",
   "id": "3734a392-c407-41c8-9b56-1b9397559255",
   "metadata": {},
   "source": [
    "First do the imputation and prepare the dataset"
   ]
  },
  {
   "cell_type": "code",
   "execution_count": 18,
   "id": "36e074fd-9ab6-48c4-bcd1-1c748eb63a5a",
   "metadata": {},
   "outputs": [],
   "source": [
    "mean[multitask_names] = sklearn.impute.SimpleImputer().fit_transform(\n",
    "    mean[multitask_names].values\n",
    ")"
   ]
  },
  {
   "cell_type": "code",
   "execution_count": 19,
   "id": "80657c21-f3b6-4fe0-8700-927d4c5de981",
   "metadata": {},
   "outputs": [],
   "source": [
    "mean = dataprep.binarize_targets(mean, target_cols=multitask_names, percentile=.9)"
   ]
  },
  {
   "cell_type": "code",
   "execution_count": 20,
   "id": "5e179393-446d-4894-acf8-68269fd92735",
   "metadata": {},
   "outputs": [],
   "source": [
    "mean_set = dataprep.convert_to_dataset(\n",
    "    mean,\n",
    "    X_col='RDKitDescriptors',\n",
    "    y_col=multitask_names\n",
    ")"
   ]
  },
  {
   "cell_type": "code",
   "execution_count": 21,
   "id": "ad806527-3d27-435d-b526-42fbafc3114a",
   "metadata": {},
   "outputs": [],
   "source": [
    "mean_test = mean_set.select(np.isin(mean_set.ids, test_index))\n",
    "mean_dev = mean_set.select(~np.isin(mean_set.ids, test_index))"
   ]
  },
  {
   "cell_type": "markdown",
   "id": "aaf7b2af-d5aa-4194-b2f0-f65ff7cb983d",
   "metadata": {},
   "source": [
    "retrieve the best paramaters for this model found via hyperparameter optimization"
   ]
  },
  {
   "cell_type": "code",
   "execution_count": 54,
   "id": "8f748e98-0035-4b61-8279-9fb8561cc098",
   "metadata": {
    "tags": []
   },
   "outputs": [],
   "source": [
    "mean_study = optuna.load_study(\n",
    "    study_name='opt',\n",
    "    storage=\"sqlite:///classification/mean_c.db\"\n",
    ")"
   ]
  },
  {
   "cell_type": "code",
   "execution_count": 55,
   "id": "8c0ddfc5-09c8-4785-aaab-e28d2469109e",
   "metadata": {},
   "outputs": [
    {
     "data": {
      "text/html": [
       "<div>\n",
       "<style scoped>\n",
       "    .dataframe tbody tr th:only-of-type {\n",
       "        vertical-align: middle;\n",
       "    }\n",
       "\n",
       "    .dataframe tbody tr th {\n",
       "        vertical-align: top;\n",
       "    }\n",
       "\n",
       "    .dataframe thead th {\n",
       "        text-align: right;\n",
       "    }\n",
       "</style>\n",
       "<table border=\"1\" class=\"dataframe\">\n",
       "  <thead>\n",
       "    <tr style=\"text-align: right;\">\n",
       "      <th></th>\n",
       "      <th>number</th>\n",
       "      <th>value</th>\n",
       "      <th>datetime_start</th>\n",
       "      <th>datetime_complete</th>\n",
       "      <th>duration</th>\n",
       "      <th>params_criterion</th>\n",
       "      <th>params_max_depth</th>\n",
       "      <th>params_max_features</th>\n",
       "      <th>params_min_samples_leaf</th>\n",
       "      <th>params_min_samples_split</th>\n",
       "      <th>params_n_estimators</th>\n",
       "      <th>state</th>\n",
       "    </tr>\n",
       "  </thead>\n",
       "  <tbody>\n",
       "    <tr>\n",
       "      <th>0</th>\n",
       "      <td>0</td>\n",
       "      <td>0.956450</td>\n",
       "      <td>2021-06-01 14:35:50.585763</td>\n",
       "      <td>2021-06-01 14:36:22.931778</td>\n",
       "      <td>0 days 00:00:32.346015</td>\n",
       "      <td>gini</td>\n",
       "      <td>40.0</td>\n",
       "      <td>log2</td>\n",
       "      <td>7</td>\n",
       "      <td>4</td>\n",
       "      <td>135</td>\n",
       "      <td>COMPLETE</td>\n",
       "    </tr>\n",
       "    <tr>\n",
       "      <th>1</th>\n",
       "      <td>1</td>\n",
       "      <td>0.956504</td>\n",
       "      <td>2021-06-01 14:35:50.586888</td>\n",
       "      <td>2021-06-01 14:36:39.383606</td>\n",
       "      <td>0 days 00:00:48.796718</td>\n",
       "      <td>entropy</td>\n",
       "      <td>25.0</td>\n",
       "      <td>log2</td>\n",
       "      <td>3</td>\n",
       "      <td>7</td>\n",
       "      <td>105</td>\n",
       "      <td>COMPLETE</td>\n",
       "    </tr>\n",
       "    <tr>\n",
       "      <th>2</th>\n",
       "      <td>2</td>\n",
       "      <td>0.956450</td>\n",
       "      <td>2021-06-01 14:35:50.643721</td>\n",
       "      <td>2021-06-01 14:38:15.368856</td>\n",
       "      <td>0 days 00:02:24.725135</td>\n",
       "      <td>entropy</td>\n",
       "      <td>10.0</td>\n",
       "      <td>sqrt</td>\n",
       "      <td>6</td>\n",
       "      <td>6</td>\n",
       "      <td>220</td>\n",
       "      <td>COMPLETE</td>\n",
       "    </tr>\n",
       "    <tr>\n",
       "      <th>3</th>\n",
       "      <td>3</td>\n",
       "      <td>0.956450</td>\n",
       "      <td>2021-06-01 14:35:50.719532</td>\n",
       "      <td>2021-06-01 14:36:04.471369</td>\n",
       "      <td>0 days 00:00:13.751837</td>\n",
       "      <td>entropy</td>\n",
       "      <td>NaN</td>\n",
       "      <td>sqrt</td>\n",
       "      <td>8</td>\n",
       "      <td>8</td>\n",
       "      <td>15</td>\n",
       "      <td>COMPLETE</td>\n",
       "    </tr>\n",
       "    <tr>\n",
       "      <th>4</th>\n",
       "      <td>4</td>\n",
       "      <td>0.956513</td>\n",
       "      <td>2021-06-01 14:35:50.727065</td>\n",
       "      <td>2021-06-01 14:36:10.244654</td>\n",
       "      <td>0 days 00:00:19.517589</td>\n",
       "      <td>gini</td>\n",
       "      <td>40.0</td>\n",
       "      <td>log2</td>\n",
       "      <td>4</td>\n",
       "      <td>10</td>\n",
       "      <td>70</td>\n",
       "      <td>COMPLETE</td>\n",
       "    </tr>\n",
       "    <tr>\n",
       "      <th>...</th>\n",
       "      <td>...</td>\n",
       "      <td>...</td>\n",
       "      <td>...</td>\n",
       "      <td>...</td>\n",
       "      <td>...</td>\n",
       "      <td>...</td>\n",
       "      <td>...</td>\n",
       "      <td>...</td>\n",
       "      <td>...</td>\n",
       "      <td>...</td>\n",
       "      <td>...</td>\n",
       "      <td>...</td>\n",
       "    </tr>\n",
       "    <tr>\n",
       "      <th>275</th>\n",
       "      <td>275</td>\n",
       "      <td>0.957969</td>\n",
       "      <td>2021-06-01 14:42:09.000975</td>\n",
       "      <td>2021-06-01 14:42:27.873074</td>\n",
       "      <td>0 days 00:00:18.872099</td>\n",
       "      <td>entropy</td>\n",
       "      <td>25.0</td>\n",
       "      <td>sqrt</td>\n",
       "      <td>1</td>\n",
       "      <td>3</td>\n",
       "      <td>25</td>\n",
       "      <td>COMPLETE</td>\n",
       "    </tr>\n",
       "    <tr>\n",
       "      <th>276</th>\n",
       "      <td>276</td>\n",
       "      <td>0.958027</td>\n",
       "      <td>2021-06-01 14:42:09.589562</td>\n",
       "      <td>2021-06-01 14:42:28.584048</td>\n",
       "      <td>0 days 00:00:18.994486</td>\n",
       "      <td>entropy</td>\n",
       "      <td>40.0</td>\n",
       "      <td>sqrt</td>\n",
       "      <td>1</td>\n",
       "      <td>3</td>\n",
       "      <td>25</td>\n",
       "      <td>COMPLETE</td>\n",
       "    </tr>\n",
       "    <tr>\n",
       "      <th>277</th>\n",
       "      <td>277</td>\n",
       "      <td>0.958191</td>\n",
       "      <td>2021-06-01 14:42:11.716209</td>\n",
       "      <td>2021-06-01 14:42:30.697741</td>\n",
       "      <td>0 days 00:00:18.981532</td>\n",
       "      <td>entropy</td>\n",
       "      <td>40.0</td>\n",
       "      <td>auto</td>\n",
       "      <td>1</td>\n",
       "      <td>3</td>\n",
       "      <td>25</td>\n",
       "      <td>COMPLETE</td>\n",
       "    </tr>\n",
       "    <tr>\n",
       "      <th>278</th>\n",
       "      <td>278</td>\n",
       "      <td>0.957891</td>\n",
       "      <td>2021-06-01 14:43:23.897917</td>\n",
       "      <td>2021-06-01 14:43:34.736957</td>\n",
       "      <td>0 days 00:00:10.839040</td>\n",
       "      <td>entropy</td>\n",
       "      <td>40.0</td>\n",
       "      <td>auto</td>\n",
       "      <td>1</td>\n",
       "      <td>3</td>\n",
       "      <td>15</td>\n",
       "      <td>COMPLETE</td>\n",
       "    </tr>\n",
       "    <tr>\n",
       "      <th>279</th>\n",
       "      <td>279</td>\n",
       "      <td>0.958790</td>\n",
       "      <td>2021-06-01 14:43:43.705849</td>\n",
       "      <td>2021-06-01 14:43:54.824138</td>\n",
       "      <td>0 days 00:00:11.118289</td>\n",
       "      <td>entropy</td>\n",
       "      <td>25.0</td>\n",
       "      <td>auto</td>\n",
       "      <td>1</td>\n",
       "      <td>3</td>\n",
       "      <td>15</td>\n",
       "      <td>COMPLETE</td>\n",
       "    </tr>\n",
       "  </tbody>\n",
       "</table>\n",
       "<p>280 rows × 12 columns</p>\n",
       "</div>"
      ],
      "text/plain": [
       "     number     value             datetime_start          datetime_complete  \\\n",
       "0         0  0.956450 2021-06-01 14:35:50.585763 2021-06-01 14:36:22.931778   \n",
       "1         1  0.956504 2021-06-01 14:35:50.586888 2021-06-01 14:36:39.383606   \n",
       "2         2  0.956450 2021-06-01 14:35:50.643721 2021-06-01 14:38:15.368856   \n",
       "3         3  0.956450 2021-06-01 14:35:50.719532 2021-06-01 14:36:04.471369   \n",
       "4         4  0.956513 2021-06-01 14:35:50.727065 2021-06-01 14:36:10.244654   \n",
       "..      ...       ...                        ...                        ...   \n",
       "275     275  0.957969 2021-06-01 14:42:09.000975 2021-06-01 14:42:27.873074   \n",
       "276     276  0.958027 2021-06-01 14:42:09.589562 2021-06-01 14:42:28.584048   \n",
       "277     277  0.958191 2021-06-01 14:42:11.716209 2021-06-01 14:42:30.697741   \n",
       "278     278  0.957891 2021-06-01 14:43:23.897917 2021-06-01 14:43:34.736957   \n",
       "279     279  0.958790 2021-06-01 14:43:43.705849 2021-06-01 14:43:54.824138   \n",
       "\n",
       "                  duration params_criterion  params_max_depth  \\\n",
       "0   0 days 00:00:32.346015             gini              40.0   \n",
       "1   0 days 00:00:48.796718          entropy              25.0   \n",
       "2   0 days 00:02:24.725135          entropy              10.0   \n",
       "3   0 days 00:00:13.751837          entropy               NaN   \n",
       "4   0 days 00:00:19.517589             gini              40.0   \n",
       "..                     ...              ...               ...   \n",
       "275 0 days 00:00:18.872099          entropy              25.0   \n",
       "276 0 days 00:00:18.994486          entropy              40.0   \n",
       "277 0 days 00:00:18.981532          entropy              40.0   \n",
       "278 0 days 00:00:10.839040          entropy              40.0   \n",
       "279 0 days 00:00:11.118289          entropy              25.0   \n",
       "\n",
       "    params_max_features  params_min_samples_leaf  params_min_samples_split  \\\n",
       "0                  log2                        7                         4   \n",
       "1                  log2                        3                         7   \n",
       "2                  sqrt                        6                         6   \n",
       "3                  sqrt                        8                         8   \n",
       "4                  log2                        4                        10   \n",
       "..                  ...                      ...                       ...   \n",
       "275                sqrt                        1                         3   \n",
       "276                sqrt                        1                         3   \n",
       "277                auto                        1                         3   \n",
       "278                auto                        1                         3   \n",
       "279                auto                        1                         3   \n",
       "\n",
       "     params_n_estimators     state  \n",
       "0                    135  COMPLETE  \n",
       "1                    105  COMPLETE  \n",
       "2                    220  COMPLETE  \n",
       "3                     15  COMPLETE  \n",
       "4                     70  COMPLETE  \n",
       "..                   ...       ...  \n",
       "275                   25  COMPLETE  \n",
       "276                   25  COMPLETE  \n",
       "277                   25  COMPLETE  \n",
       "278                   15  COMPLETE  \n",
       "279                   15  COMPLETE  \n",
       "\n",
       "[280 rows x 12 columns]"
      ]
     },
     "execution_count": 55,
     "metadata": {},
     "output_type": "execute_result"
    }
   ],
   "source": [
    "mean_results = mean_study.trials_dataframe()\n",
    "mean_results"
   ]
  },
  {
   "cell_type": "code",
   "execution_count": 56,
   "id": "bd568db4-0d8d-457c-8bbf-49cd402c02dd",
   "metadata": {},
   "outputs": [],
   "source": [
    "mean_params = mean_study.best_params"
   ]
  },
  {
   "cell_type": "code",
   "execution_count": 57,
   "id": "caa179e5-d286-4408-8ad7-eaff060ac0f9",
   "metadata": {},
   "outputs": [
    {
     "data": {
      "text/plain": [
       "{'criterion': 'entropy',\n",
       " 'max_depth': 25,\n",
       " 'max_features': 'auto',\n",
       " 'min_samples_leaf': 1,\n",
       " 'min_samples_split': 3,\n",
       " 'n_estimators': 10}"
      ]
     },
     "execution_count": 57,
     "metadata": {},
     "output_type": "execute_result"
    }
   ],
   "source": [
    "mean_params"
   ]
  },
  {
   "cell_type": "code",
   "execution_count": 58,
   "id": "1b88daef-4766-4e9d-8525-c314b2e22771",
   "metadata": {},
   "outputs": [
    {
     "data": {
      "text/plain": [
       "0.9598840528678435"
      ]
     },
     "execution_count": 58,
     "metadata": {},
     "output_type": "execute_result"
    }
   ],
   "source": [
    "mean_study.best_value"
   ]
  },
  {
   "cell_type": "markdown",
   "id": "a47ce4a1-afa0-45f6-9f8f-dbc3944150b7",
   "metadata": {},
   "source": [
    "train the multitask model using the best found parameters"
   ]
  },
  {
   "cell_type": "code",
   "execution_count": 59,
   "id": "dbb5958f-3eb3-4e23-a062-35642729c600",
   "metadata": {},
   "outputs": [],
   "source": [
    "mean_model = ToxModel('RFC', transformers=[], tasks=multitask_names, **mean_params)"
   ]
  },
  {
   "cell_type": "code",
   "execution_count": 60,
   "id": "19a7145a-150c-41e8-b1e5-fb16e9a05f43",
   "metadata": {},
   "outputs": [],
   "source": [
    "mean_model.fit(mean_dev)"
   ]
  },
  {
   "cell_type": "code",
   "execution_count": 61,
   "id": "5a772e89-9642-430a-bb5e-bf94ebcf0df2",
   "metadata": {},
   "outputs": [
    {
     "data": {
      "text/plain": [
       "({0: 0.8133695923078992, 1: 0.8001910376515406},\n",
       " {0: [0.7615384615384615,\n",
       "   0.9444444444444444,\n",
       "   0.45454545454545453,\n",
       "   0.9098039215686274,\n",
       "   0.9965156794425087],\n",
       "  1: [0.9166666666666666,\n",
       "   0.19767441860465115,\n",
       "   0.9765625,\n",
       "   0.9169960474308301,\n",
       "   0.9930555555555556]})"
      ]
     },
     "execution_count": 61,
     "metadata": {},
     "output_type": "execute_result"
    }
   ],
   "source": [
    "mean_model.evaluate(\n",
    "    mean_test, ['precision_score', 'recall_score'],\n",
    "    untransform=False,\n",
    "    per_task_metrics=True,\n",
    "    n_classes=2)"
   ]
  },
  {
   "cell_type": "markdown",
   "id": "4672e445-af20-4e21-a756-fa2b3ca36834",
   "metadata": {},
   "source": [
    "> The precision score for the independant algea test set is. 0.4545"
   ]
  },
  {
   "cell_type": "code",
   "execution_count": 62,
   "id": "6f6ee93c-1326-4fa5-9dc3-2e4e4810d66b",
   "metadata": {},
   "outputs": [
    {
     "data": {
      "text/html": [
       "\n",
       "<div id=\"altair-viz-6530f5c14b4d4b7685ca7286029a3add\"></div>\n",
       "<script type=\"text/javascript\">\n",
       "  (function(spec, embedOpt){\n",
       "    let outputDiv = document.currentScript.previousElementSibling;\n",
       "    if (outputDiv.id !== \"altair-viz-6530f5c14b4d4b7685ca7286029a3add\") {\n",
       "      outputDiv = document.getElementById(\"altair-viz-6530f5c14b4d4b7685ca7286029a3add\");\n",
       "    }\n",
       "    const paths = {\n",
       "      \"vega\": \"https://cdn.jsdelivr.net/npm//vega@5?noext\",\n",
       "      \"vega-lib\": \"https://cdn.jsdelivr.net/npm//vega-lib?noext\",\n",
       "      \"vega-lite\": \"https://cdn.jsdelivr.net/npm//vega-lite@4.8.1?noext\",\n",
       "      \"vega-embed\": \"https://cdn.jsdelivr.net/npm//vega-embed@6?noext\",\n",
       "    };\n",
       "\n",
       "    function loadScript(lib) {\n",
       "      return new Promise(function(resolve, reject) {\n",
       "        var s = document.createElement('script');\n",
       "        s.src = paths[lib];\n",
       "        s.async = true;\n",
       "        s.onload = () => resolve(paths[lib]);\n",
       "        s.onerror = () => reject(`Error loading script: ${paths[lib]}`);\n",
       "        document.getElementsByTagName(\"head\")[0].appendChild(s);\n",
       "      });\n",
       "    }\n",
       "\n",
       "    function showError(err) {\n",
       "      outputDiv.innerHTML = `<div class=\"error\" style=\"color:red;\">${err}</div>`;\n",
       "      throw err;\n",
       "    }\n",
       "\n",
       "    function displayChart(vegaEmbed) {\n",
       "      vegaEmbed(outputDiv, spec, embedOpt)\n",
       "        .catch(err => showError(`Javascript Error: ${err.message}<br>This usually means there's a typo in your chart specification. See the javascript console for the full traceback.`));\n",
       "    }\n",
       "\n",
       "    if(typeof define === \"function\" && define.amd) {\n",
       "      requirejs.config({paths});\n",
       "      require([\"vega-embed\"], displayChart, err => showError(`Error loading script: ${err.message}`));\n",
       "    } else if (typeof vegaEmbed === \"function\") {\n",
       "      displayChart(vegaEmbed);\n",
       "    } else {\n",
       "      loadScript(\"vega\")\n",
       "        .then(() => loadScript(\"vega-lite\"))\n",
       "        .then(() => loadScript(\"vega-embed\"))\n",
       "        .catch(showError)\n",
       "        .then(() => displayChart(vegaEmbed));\n",
       "    }\n",
       "  })({\"config\": {\"view\": {\"continuousWidth\": 400, \"continuousHeight\": 300}}, \"layer\": [{\"data\": {\"name\": \"data-28880620c4ce6846c6811bc07c83cec4\"}, \"mark\": {\"type\": \"line\", \"color\": \"black\", \"strokeDash\": [20, 5]}, \"encoding\": {\"x\": {\"type\": \"quantitative\", \"field\": \"line\", \"scale\": {\"domain\": [0.0, 1.0]}, \"title\": \"false positive rate\"}, \"y\": {\"type\": \"quantitative\", \"field\": \"line\", \"scale\": {\"domain\": [0.0, 1.0]}, \"title\": \"true positive rate\"}}}, {\"data\": {\"name\": \"data-23efb1466124a75b8d740d4d2683f857\"}, \"mark\": {\"type\": \"area\", \"fill\": \"red\", \"fillOpacity\": 0.5}, \"encoding\": {\"x\": {\"type\": \"quantitative\", \"field\": \"fpr\", \"title\": \"false positive rate\"}, \"y\": {\"type\": \"quantitative\", \"field\": \"tpr\", \"title\": \"true positive rate\"}}}], \"$schema\": \"https://vega.github.io/schema/vega-lite/v4.8.1.json\", \"datasets\": {\"data-28880620c4ce6846c6811bc07c83cec4\": [{\"line\": 0}, {\"line\": 1}], \"data-23efb1466124a75b8d740d4d2683f857\": [{\"fpr\": 0.0, \"tpr\": 0.0, \"thresholds\": 2}, {\"fpr\": 0.9316770186335404, \"tpr\": 0.9765625, \"thresholds\": 1}, {\"fpr\": 1.0, \"tpr\": 1.0, \"thresholds\": 0}]}}, {\"mode\": \"vega-lite\"});\n",
       "</script>"
      ],
      "text/plain": [
       "alt.LayerChart(...)"
      ]
     },
     "execution_count": 62,
     "metadata": {},
     "output_type": "execute_result"
    }
   ],
   "source": [
    "mean_model.visualize('roc', mean_test, task='algea_EC50')"
   ]
  },
  {
   "cell_type": "markdown",
   "id": "cdcfef2a-792e-4850-993d-ce16b6b8e94a",
   "metadata": {},
   "source": [
    "### Impute by interpolation"
   ]
  },
  {
   "cell_type": "code",
   "execution_count": 28,
   "id": "28d600a8-d130-4cbc-b572-816a6eb05e21",
   "metadata": {},
   "outputs": [],
   "source": [
    "from sklearn.experimental import enable_iterative_imputer"
   ]
  },
  {
   "cell_type": "markdown",
   "id": "a6d67962-2671-4f69-9294-47c6c0376041",
   "metadata": {},
   "source": [
    "First impute and prepare the data. This requires sklearns  experimental imputer."
   ]
  },
  {
   "cell_type": "code",
   "execution_count": 29,
   "id": "a9d39577-dfa1-4279-b801-1ee0fc3c97f9",
   "metadata": {},
   "outputs": [],
   "source": [
    "iterpute = data_f.copy()"
   ]
  },
  {
   "cell_type": "code",
   "execution_count": 30,
   "id": "b2ae14e3-7ef2-4b3c-b732-c8c474553b61",
   "metadata": {},
   "outputs": [],
   "source": [
    "iterpute[multitask_names] = sklearn.impute.IterativeImputer(random_state=0).fit_transform(\n",
    "    iterpute[multitask_names].values\n",
    ")"
   ]
  },
  {
   "cell_type": "code",
   "execution_count": 31,
   "id": "4a176fdb-f058-4ff6-b38d-211085b74ee6",
   "metadata": {},
   "outputs": [],
   "source": [
    "iterpute = dataprep.binarize_targets(iterpute, target_cols=multitask_names, percentile=.9)"
   ]
  },
  {
   "cell_type": "code",
   "execution_count": 32,
   "id": "eb899806-a6bf-4c09-958b-9bae07fcdec4",
   "metadata": {},
   "outputs": [],
   "source": [
    "iterpute_set = dataprep.convert_to_dataset(\n",
    "    iterpute,\n",
    "    X_col='RDKitDescriptors',\n",
    "    y_col=multitask_names\n",
    ")"
   ]
  },
  {
   "cell_type": "code",
   "execution_count": 33,
   "id": "948d6c42-cb45-4e5f-a1a3-8bd0a019afc5",
   "metadata": {},
   "outputs": [],
   "source": [
    "iterpute_test = iterpute_set.select(np.isin(iterpute_set.ids, test_index))\n",
    "iterpute_dev = iterpute_set.select(~np.isin(iterpute_set.ids, test_index))"
   ]
  },
  {
   "cell_type": "markdown",
   "id": "90c15b52-881d-4e2e-8531-6a72661adeaa",
   "metadata": {},
   "source": [
    "Retrieve hyperparameter optimization for this model"
   ]
  },
  {
   "cell_type": "code",
   "execution_count": 63,
   "id": "58303e8a-34e9-4872-b41a-9e16a40a4035",
   "metadata": {
    "tags": []
   },
   "outputs": [],
   "source": [
    "iterpute_study = optuna.load_study(\n",
    "    study_name='opt',\n",
    "    storage=\"sqlite:///classification/inter_c.db\"\n",
    ")"
   ]
  },
  {
   "cell_type": "code",
   "execution_count": 64,
   "id": "a4312fd5-d57d-4d54-ab2b-34abe9464493",
   "metadata": {},
   "outputs": [
    {
     "data": {
      "text/html": [
       "<div>\n",
       "<style scoped>\n",
       "    .dataframe tbody tr th:only-of-type {\n",
       "        vertical-align: middle;\n",
       "    }\n",
       "\n",
       "    .dataframe tbody tr th {\n",
       "        vertical-align: top;\n",
       "    }\n",
       "\n",
       "    .dataframe thead th {\n",
       "        text-align: right;\n",
       "    }\n",
       "</style>\n",
       "<table border=\"1\" class=\"dataframe\">\n",
       "  <thead>\n",
       "    <tr style=\"text-align: right;\">\n",
       "      <th></th>\n",
       "      <th>number</th>\n",
       "      <th>value</th>\n",
       "      <th>datetime_start</th>\n",
       "      <th>datetime_complete</th>\n",
       "      <th>duration</th>\n",
       "      <th>params_criterion</th>\n",
       "      <th>params_max_depth</th>\n",
       "      <th>params_max_features</th>\n",
       "      <th>params_min_samples_leaf</th>\n",
       "      <th>params_min_samples_split</th>\n",
       "      <th>params_n_estimators</th>\n",
       "      <th>state</th>\n",
       "    </tr>\n",
       "  </thead>\n",
       "  <tbody>\n",
       "    <tr>\n",
       "      <th>0</th>\n",
       "      <td>0</td>\n",
       "      <td>0.908367</td>\n",
       "      <td>2021-06-01 14:35:50.106947</td>\n",
       "      <td>2021-06-01 14:36:58.413702</td>\n",
       "      <td>0 days 00:01:08.306755</td>\n",
       "      <td>gini</td>\n",
       "      <td>20.0</td>\n",
       "      <td>auto</td>\n",
       "      <td>8</td>\n",
       "      <td>2</td>\n",
       "      <td>170</td>\n",
       "      <td>COMPLETE</td>\n",
       "    </tr>\n",
       "    <tr>\n",
       "      <th>1</th>\n",
       "      <td>1</td>\n",
       "      <td>0.909630</td>\n",
       "      <td>2021-06-01 14:35:50.192340</td>\n",
       "      <td>2021-06-01 14:37:55.282279</td>\n",
       "      <td>0 days 00:02:05.089939</td>\n",
       "      <td>gini</td>\n",
       "      <td>20.0</td>\n",
       "      <td>sqrt</td>\n",
       "      <td>2</td>\n",
       "      <td>4</td>\n",
       "      <td>265</td>\n",
       "      <td>COMPLETE</td>\n",
       "    </tr>\n",
       "    <tr>\n",
       "      <th>2</th>\n",
       "      <td>2</td>\n",
       "      <td>0.909222</td>\n",
       "      <td>2021-06-01 14:35:50.124678</td>\n",
       "      <td>2021-06-01 14:37:58.144892</td>\n",
       "      <td>0 days 00:02:08.020214</td>\n",
       "      <td>entropy</td>\n",
       "      <td>45.0</td>\n",
       "      <td>auto</td>\n",
       "      <td>4</td>\n",
       "      <td>5</td>\n",
       "      <td>140</td>\n",
       "      <td>COMPLETE</td>\n",
       "    </tr>\n",
       "    <tr>\n",
       "      <th>3</th>\n",
       "      <td>3</td>\n",
       "      <td>0.908374</td>\n",
       "      <td>2021-06-01 14:35:50.165795</td>\n",
       "      <td>2021-06-01 14:36:24.418858</td>\n",
       "      <td>0 days 00:00:34.253063</td>\n",
       "      <td>gini</td>\n",
       "      <td>5.0</td>\n",
       "      <td>sqrt</td>\n",
       "      <td>5</td>\n",
       "      <td>5</td>\n",
       "      <td>170</td>\n",
       "      <td>COMPLETE</td>\n",
       "    </tr>\n",
       "    <tr>\n",
       "      <th>4</th>\n",
       "      <td>4</td>\n",
       "      <td>0.909493</td>\n",
       "      <td>2021-06-01 14:35:51.078229</td>\n",
       "      <td>2021-06-01 14:37:37.457712</td>\n",
       "      <td>0 days 00:01:46.379483</td>\n",
       "      <td>gini</td>\n",
       "      <td>15.0</td>\n",
       "      <td>auto</td>\n",
       "      <td>2</td>\n",
       "      <td>5</td>\n",
       "      <td>260</td>\n",
       "      <td>COMPLETE</td>\n",
       "    </tr>\n",
       "    <tr>\n",
       "      <th>...</th>\n",
       "      <td>...</td>\n",
       "      <td>...</td>\n",
       "      <td>...</td>\n",
       "      <td>...</td>\n",
       "      <td>...</td>\n",
       "      <td>...</td>\n",
       "      <td>...</td>\n",
       "      <td>...</td>\n",
       "      <td>...</td>\n",
       "      <td>...</td>\n",
       "      <td>...</td>\n",
       "      <td>...</td>\n",
       "    </tr>\n",
       "    <tr>\n",
       "      <th>275</th>\n",
       "      <td>275</td>\n",
       "      <td>0.914962</td>\n",
       "      <td>2021-06-01 14:45:12.745411</td>\n",
       "      <td>2021-06-01 14:45:17.802814</td>\n",
       "      <td>0 days 00:00:05.057403</td>\n",
       "      <td>gini</td>\n",
       "      <td>40.0</td>\n",
       "      <td>sqrt</td>\n",
       "      <td>1</td>\n",
       "      <td>3</td>\n",
       "      <td>10</td>\n",
       "      <td>COMPLETE</td>\n",
       "    </tr>\n",
       "    <tr>\n",
       "      <th>276</th>\n",
       "      <td>276</td>\n",
       "      <td>0.912154</td>\n",
       "      <td>2021-06-01 14:45:17.996689</td>\n",
       "      <td>2021-06-01 14:45:27.427344</td>\n",
       "      <td>0 days 00:00:09.430655</td>\n",
       "      <td>gini</td>\n",
       "      <td>40.0</td>\n",
       "      <td>sqrt</td>\n",
       "      <td>1</td>\n",
       "      <td>3</td>\n",
       "      <td>20</td>\n",
       "      <td>COMPLETE</td>\n",
       "    </tr>\n",
       "    <tr>\n",
       "      <th>277</th>\n",
       "      <td>277</td>\n",
       "      <td>0.914276</td>\n",
       "      <td>2021-06-01 14:45:27.624391</td>\n",
       "      <td>2021-06-01 14:45:32.761593</td>\n",
       "      <td>0 days 00:00:05.137202</td>\n",
       "      <td>gini</td>\n",
       "      <td>40.0</td>\n",
       "      <td>sqrt</td>\n",
       "      <td>1</td>\n",
       "      <td>3</td>\n",
       "      <td>10</td>\n",
       "      <td>COMPLETE</td>\n",
       "    </tr>\n",
       "    <tr>\n",
       "      <th>278</th>\n",
       "      <td>278</td>\n",
       "      <td>0.914784</td>\n",
       "      <td>2021-06-01 14:45:29.413000</td>\n",
       "      <td>2021-06-01 14:45:34.651221</td>\n",
       "      <td>0 days 00:00:05.238221</td>\n",
       "      <td>gini</td>\n",
       "      <td>40.0</td>\n",
       "      <td>sqrt</td>\n",
       "      <td>1</td>\n",
       "      <td>3</td>\n",
       "      <td>10</td>\n",
       "      <td>COMPLETE</td>\n",
       "    </tr>\n",
       "    <tr>\n",
       "      <th>279</th>\n",
       "      <td>279</td>\n",
       "      <td>0.911183</td>\n",
       "      <td>2021-06-01 14:45:34.754991</td>\n",
       "      <td>2021-06-01 14:45:43.228162</td>\n",
       "      <td>0 days 00:00:08.473171</td>\n",
       "      <td>gini</td>\n",
       "      <td>40.0</td>\n",
       "      <td>sqrt</td>\n",
       "      <td>2</td>\n",
       "      <td>3</td>\n",
       "      <td>20</td>\n",
       "      <td>COMPLETE</td>\n",
       "    </tr>\n",
       "  </tbody>\n",
       "</table>\n",
       "<p>280 rows × 12 columns</p>\n",
       "</div>"
      ],
      "text/plain": [
       "     number     value             datetime_start          datetime_complete  \\\n",
       "0         0  0.908367 2021-06-01 14:35:50.106947 2021-06-01 14:36:58.413702   \n",
       "1         1  0.909630 2021-06-01 14:35:50.192340 2021-06-01 14:37:55.282279   \n",
       "2         2  0.909222 2021-06-01 14:35:50.124678 2021-06-01 14:37:58.144892   \n",
       "3         3  0.908374 2021-06-01 14:35:50.165795 2021-06-01 14:36:24.418858   \n",
       "4         4  0.909493 2021-06-01 14:35:51.078229 2021-06-01 14:37:37.457712   \n",
       "..      ...       ...                        ...                        ...   \n",
       "275     275  0.914962 2021-06-01 14:45:12.745411 2021-06-01 14:45:17.802814   \n",
       "276     276  0.912154 2021-06-01 14:45:17.996689 2021-06-01 14:45:27.427344   \n",
       "277     277  0.914276 2021-06-01 14:45:27.624391 2021-06-01 14:45:32.761593   \n",
       "278     278  0.914784 2021-06-01 14:45:29.413000 2021-06-01 14:45:34.651221   \n",
       "279     279  0.911183 2021-06-01 14:45:34.754991 2021-06-01 14:45:43.228162   \n",
       "\n",
       "                  duration params_criterion  params_max_depth  \\\n",
       "0   0 days 00:01:08.306755             gini              20.0   \n",
       "1   0 days 00:02:05.089939             gini              20.0   \n",
       "2   0 days 00:02:08.020214          entropy              45.0   \n",
       "3   0 days 00:00:34.253063             gini               5.0   \n",
       "4   0 days 00:01:46.379483             gini              15.0   \n",
       "..                     ...              ...               ...   \n",
       "275 0 days 00:00:05.057403             gini              40.0   \n",
       "276 0 days 00:00:09.430655             gini              40.0   \n",
       "277 0 days 00:00:05.137202             gini              40.0   \n",
       "278 0 days 00:00:05.238221             gini              40.0   \n",
       "279 0 days 00:00:08.473171             gini              40.0   \n",
       "\n",
       "    params_max_features  params_min_samples_leaf  params_min_samples_split  \\\n",
       "0                  auto                        8                         2   \n",
       "1                  sqrt                        2                         4   \n",
       "2                  auto                        4                         5   \n",
       "3                  sqrt                        5                         5   \n",
       "4                  auto                        2                         5   \n",
       "..                  ...                      ...                       ...   \n",
       "275                sqrt                        1                         3   \n",
       "276                sqrt                        1                         3   \n",
       "277                sqrt                        1                         3   \n",
       "278                sqrt                        1                         3   \n",
       "279                sqrt                        2                         3   \n",
       "\n",
       "     params_n_estimators     state  \n",
       "0                    170  COMPLETE  \n",
       "1                    265  COMPLETE  \n",
       "2                    140  COMPLETE  \n",
       "3                    170  COMPLETE  \n",
       "4                    260  COMPLETE  \n",
       "..                   ...       ...  \n",
       "275                   10  COMPLETE  \n",
       "276                   20  COMPLETE  \n",
       "277                   10  COMPLETE  \n",
       "278                   10  COMPLETE  \n",
       "279                   20  COMPLETE  \n",
       "\n",
       "[280 rows x 12 columns]"
      ]
     },
     "execution_count": 64,
     "metadata": {},
     "output_type": "execute_result"
    }
   ],
   "source": [
    "iterpute_results = iterpute_study.trials_dataframe()\n",
    "iterpute_results"
   ]
  },
  {
   "cell_type": "code",
   "execution_count": 36,
   "id": "feecbdd8-0c09-4d39-a673-e1f902be1867",
   "metadata": {},
   "outputs": [],
   "source": [
    "iterpute_params = iterpute_study.best_params"
   ]
  },
  {
   "cell_type": "code",
   "execution_count": 65,
   "id": "4086e725-e922-41eb-8098-b5151a5cd40a",
   "metadata": {},
   "outputs": [
    {
     "data": {
      "text/plain": [
       "{'criterion': 'gini',\n",
       " 'max_depth': 40,\n",
       " 'max_features': 'sqrt',\n",
       " 'min_samples_leaf': 1,\n",
       " 'min_samples_split': 3,\n",
       " 'n_estimators': 10}"
      ]
     },
     "execution_count": 65,
     "metadata": {},
     "output_type": "execute_result"
    }
   ],
   "source": [
    "iterpute_params"
   ]
  },
  {
   "cell_type": "code",
   "execution_count": 66,
   "id": "783c9d1a-f5b8-4de8-b199-c7240aa79da6",
   "metadata": {},
   "outputs": [
    {
     "data": {
      "text/plain": [
       "0.9157152387746089"
      ]
     },
     "execution_count": 66,
     "metadata": {},
     "output_type": "execute_result"
    }
   ],
   "source": [
    "iterpute_study.best_value"
   ]
  },
  {
   "cell_type": "markdown",
   "id": "2402fdba-6cbc-42ae-a3b0-cf6b19116837",
   "metadata": {},
   "source": [
    "train the model using the hyperparameters found best for this model on the development set."
   ]
  },
  {
   "cell_type": "code",
   "execution_count": 37,
   "id": "86ce9f80-cee5-441d-9550-a68dea8f5fa3",
   "metadata": {},
   "outputs": [],
   "source": [
    "iterpute_model = ToxModel('RFC', transformers=[], tasks=multitask_names, **iterpute_params)"
   ]
  },
  {
   "cell_type": "code",
   "execution_count": 38,
   "id": "f7b4914d-6563-473a-abac-84bd10324553",
   "metadata": {},
   "outputs": [],
   "source": [
    "iterpute_model.fit(iterpute_dev)"
   ]
  },
  {
   "cell_type": "code",
   "execution_count": 39,
   "id": "b6ca755f-6f1b-4a5a-9468-ac5b1c4a0b53",
   "metadata": {},
   "outputs": [
    {
     "data": {
      "text/plain": [
       "({0: 0.7739864178508946, 1: 0.9355953128139383},\n",
       " {0: [0.797752808988764,\n",
       "   0.7165354330708661,\n",
       "   0.4770992366412214,\n",
       "   0.9066147859922179,\n",
       "   0.9719298245614035],\n",
       "  1: [0.9508928571428571,\n",
       "   0.914572864321608,\n",
       "   0.9057971014492754,\n",
       "   0.9209486166007905,\n",
       "   0.9857651245551602]})"
      ]
     },
     "execution_count": 39,
     "metadata": {},
     "output_type": "execute_result"
    }
   ],
   "source": [
    "iterpute_model.evaluate(iterpute_test, ['precision_score', 'recall_score'], untransform=False, per_task_metrics=True, n_classes=2)"
   ]
  },
  {
   "cell_type": "markdown",
   "id": "d68e5a67-da3a-4243-8425-592d374f1856",
   "metadata": {},
   "source": [
    "> The final precision score for multitask RFC with interpolated imputation is 0.4771"
   ]
  },
  {
   "cell_type": "code",
   "execution_count": 39,
   "id": "a312d09a-fab9-4681-b104-aec4efa751b7",
   "metadata": {},
   "outputs": [
    {
     "data": {
      "text/html": [
       "\n",
       "<div id=\"altair-viz-b58059f345f34043b25e3f64507c2eb0\"></div>\n",
       "<script type=\"text/javascript\">\n",
       "  (function(spec, embedOpt){\n",
       "    let outputDiv = document.currentScript.previousElementSibling;\n",
       "    if (outputDiv.id !== \"altair-viz-b58059f345f34043b25e3f64507c2eb0\") {\n",
       "      outputDiv = document.getElementById(\"altair-viz-b58059f345f34043b25e3f64507c2eb0\");\n",
       "    }\n",
       "    const paths = {\n",
       "      \"vega\": \"https://cdn.jsdelivr.net/npm//vega@5?noext\",\n",
       "      \"vega-lib\": \"https://cdn.jsdelivr.net/npm//vega-lib?noext\",\n",
       "      \"vega-lite\": \"https://cdn.jsdelivr.net/npm//vega-lite@4.8.1?noext\",\n",
       "      \"vega-embed\": \"https://cdn.jsdelivr.net/npm//vega-embed@6?noext\",\n",
       "    };\n",
       "\n",
       "    function loadScript(lib) {\n",
       "      return new Promise(function(resolve, reject) {\n",
       "        var s = document.createElement('script');\n",
       "        s.src = paths[lib];\n",
       "        s.async = true;\n",
       "        s.onload = () => resolve(paths[lib]);\n",
       "        s.onerror = () => reject(`Error loading script: ${paths[lib]}`);\n",
       "        document.getElementsByTagName(\"head\")[0].appendChild(s);\n",
       "      });\n",
       "    }\n",
       "\n",
       "    function showError(err) {\n",
       "      outputDiv.innerHTML = `<div class=\"error\" style=\"color:red;\">${err}</div>`;\n",
       "      throw err;\n",
       "    }\n",
       "\n",
       "    function displayChart(vegaEmbed) {\n",
       "      vegaEmbed(outputDiv, spec, embedOpt)\n",
       "        .catch(err => showError(`Javascript Error: ${err.message}<br>This usually means there's a typo in your chart specification. See the javascript console for the full traceback.`));\n",
       "    }\n",
       "\n",
       "    if(typeof define === \"function\" && define.amd) {\n",
       "      requirejs.config({paths});\n",
       "      require([\"vega-embed\"], displayChart, err => showError(`Error loading script: ${err.message}`));\n",
       "    } else if (typeof vegaEmbed === \"function\") {\n",
       "      displayChart(vegaEmbed);\n",
       "    } else {\n",
       "      loadScript(\"vega\")\n",
       "        .then(() => loadScript(\"vega-lite\"))\n",
       "        .then(() => loadScript(\"vega-embed\"))\n",
       "        .catch(showError)\n",
       "        .then(() => displayChart(vegaEmbed));\n",
       "    }\n",
       "  })({\"config\": {\"view\": {\"continuousWidth\": 400, \"continuousHeight\": 300}}, \"layer\": [{\"data\": {\"name\": \"data-28880620c4ce6846c6811bc07c83cec4\"}, \"mark\": {\"type\": \"line\", \"color\": \"black\", \"strokeDash\": [20, 5]}, \"encoding\": {\"x\": {\"type\": \"quantitative\", \"field\": \"line\", \"scale\": {\"domain\": [0.0, 1.0]}, \"title\": \"false positive rate\"}, \"y\": {\"type\": \"quantitative\", \"field\": \"line\", \"scale\": {\"domain\": [0.0, 1.0]}, \"title\": \"true positive rate\"}}}, {\"data\": {\"name\": \"data-647408c3e5d3f2831f233a3e55f0d813\"}, \"mark\": {\"type\": \"area\", \"fill\": \"red\", \"fillOpacity\": 0.5}, \"encoding\": {\"x\": {\"type\": \"quantitative\", \"field\": \"fpr\", \"title\": \"false positive rate\"}, \"y\": {\"type\": \"quantitative\", \"field\": \"tpr\", \"title\": \"true positive rate\"}}}], \"$schema\": \"https://vega.github.io/schema/vega-lite/v4.8.1.json\", \"datasets\": {\"data-28880620c4ce6846c6811bc07c83cec4\": [{\"line\": 0}, {\"line\": 1}], \"data-647408c3e5d3f2831f233a3e55f0d813\": [{\"fpr\": 0.0, \"tpr\": 0.0, \"thresholds\": 2}, {\"fpr\": 0.9271523178807947, \"tpr\": 0.9637681159420289, \"thresholds\": 1}, {\"fpr\": 1.0, \"tpr\": 1.0, \"thresholds\": 0}]}}, {\"mode\": \"vega-lite\"});\n",
       "</script>"
      ],
      "text/plain": [
       "alt.LayerChart(...)"
      ]
     },
     "execution_count": 39,
     "metadata": {},
     "output_type": "execute_result"
    }
   ],
   "source": [
    "iterpute_model.visualize('roc', iterpute_test, task='algea_EC50')"
   ]
  },
  {
   "cell_type": "markdown",
   "id": "3363d606-8b6b-4483-bf34-a74835e63776",
   "metadata": {},
   "source": [
    "## Try a Graph multitask"
   ]
  },
  {
   "cell_type": "markdown",
   "id": "5fa55a44-7303-40fd-a137-cc1b365786bd",
   "metadata": {},
   "source": [
    "In this case, instead of imputation, the neural network architectures can accept a weight matrix in the same shape as the targets, thus sparse data can be masked out. "
   ]
  },
  {
   "cell_type": "code",
   "execution_count": 40,
   "id": "31e6cd73-7730-4075-bc42-f7a1b28cd718",
   "metadata": {},
   "outputs": [],
   "source": [
    "graph = data_f.copy()"
   ]
  },
  {
   "cell_type": "markdown",
   "id": "2e30150c-360a-4501-9774-4bd2a5d0d76d",
   "metadata": {},
   "source": [
    "Prepare the data. During binarizing, we weight all targets originally without data as 0.0."
   ]
  },
  {
   "cell_type": "code",
   "execution_count": 41,
   "id": "6eb75d91-908d-4950-bd95-7708bc40d75d",
   "metadata": {},
   "outputs": [],
   "source": [
    "graph = dataprep.binarize_targets(graph, target_cols=multitask_names, percentile = .9)"
   ]
  },
  {
   "cell_type": "code",
   "execution_count": 42,
   "id": "87108641-880e-4c50-a691-19306b3f55d3",
   "metadata": {},
   "outputs": [],
   "source": [
    "graph_set = dataprep.convert_to_dataset(\n",
    "    graph,\n",
    "    X_col='ConvMolFeaturizer',\n",
    "    y_col=multitask_names,\n",
    "    w_label='w'\n",
    ")"
   ]
  },
  {
   "cell_type": "code",
   "execution_count": 43,
   "id": "ab18b600-b555-4895-b782-577f657b60d7",
   "metadata": {},
   "outputs": [],
   "source": [
    "graph_test = graph_set.select(np.isin(graph_set.ids, test_index))\n",
    "graph_dev = graph_set.select(~np.isin(graph_set.ids, test_index))"
   ]
  },
  {
   "cell_type": "markdown",
   "id": "d23501b8-b2bc-4122-b9a7-676b7cd29b3b",
   "metadata": {},
   "source": [
    "Retrieve best hyperparameters for the graph multitask model."
   ]
  },
  {
   "cell_type": "code",
   "execution_count": 44,
   "id": "12b48e58-e07f-45d9-b1f2-8a2a05b1aed8",
   "metadata": {
    "tags": []
   },
   "outputs": [],
   "source": [
    "graph_study = optuna.load_study(\n",
    "    study_name='opt',\n",
    "    storage=\"sqlite:///classification/graph_c.db\"\n",
    ")"
   ]
  },
  {
   "cell_type": "code",
   "execution_count": 45,
   "id": "cad1a220-aa88-4c2a-bfb8-c184b8c5aa9c",
   "metadata": {
    "collapsed": true,
    "jupyter": {
     "outputs_hidden": true
    },
    "tags": []
   },
   "outputs": [
    {
     "name": "stderr",
     "output_type": "stream",
     "text": [
      "/Users/ek/miniconda3/envs/cytoxnet/lib/python3.6/site-packages/optuna/distributions.py:430: UserWarning: Choices for a categorical distribution should be a tuple of None, bool, int, float and str for persistent storage but contains [32] which is of type list.\n",
      "  warnings.warn(message)\n",
      "/Users/ek/miniconda3/envs/cytoxnet/lib/python3.6/site-packages/optuna/distributions.py:430: UserWarning: Choices for a categorical distribution should be a tuple of None, bool, int, float and str for persistent storage but contains [64] which is of type list.\n",
      "  warnings.warn(message)\n",
      "/Users/ek/miniconda3/envs/cytoxnet/lib/python3.6/site-packages/optuna/distributions.py:430: UserWarning: Choices for a categorical distribution should be a tuple of None, bool, int, float and str for persistent storage but contains [128] which is of type list.\n",
      "  warnings.warn(message)\n",
      "/Users/ek/miniconda3/envs/cytoxnet/lib/python3.6/site-packages/optuna/distributions.py:430: UserWarning: Choices for a categorical distribution should be a tuple of None, bool, int, float and str for persistent storage but contains [32, 32] which is of type list.\n",
      "  warnings.warn(message)\n",
      "/Users/ek/miniconda3/envs/cytoxnet/lib/python3.6/site-packages/optuna/distributions.py:430: UserWarning: Choices for a categorical distribution should be a tuple of None, bool, int, float and str for persistent storage but contains [64, 64] which is of type list.\n",
      "  warnings.warn(message)\n",
      "/Users/ek/miniconda3/envs/cytoxnet/lib/python3.6/site-packages/optuna/distributions.py:430: UserWarning: Choices for a categorical distribution should be a tuple of None, bool, int, float and str for persistent storage but contains [128, 128] which is of type list.\n",
      "  warnings.warn(message)\n",
      "/Users/ek/miniconda3/envs/cytoxnet/lib/python3.6/site-packages/optuna/distributions.py:430: UserWarning: Choices for a categorical distribution should be a tuple of None, bool, int, float and str for persistent storage but contains [32, 32, 32] which is of type list.\n",
      "  warnings.warn(message)\n",
      "/Users/ek/miniconda3/envs/cytoxnet/lib/python3.6/site-packages/optuna/distributions.py:430: UserWarning: Choices for a categorical distribution should be a tuple of None, bool, int, float and str for persistent storage but contains [64, 64, 64] which is of type list.\n",
      "  warnings.warn(message)\n",
      "/Users/ek/miniconda3/envs/cytoxnet/lib/python3.6/site-packages/optuna/distributions.py:430: UserWarning: Choices for a categorical distribution should be a tuple of None, bool, int, float and str for persistent storage but contains [128, 128, 128] which is of type list.\n",
      "  warnings.warn(message)\n"
     ]
    },
    {
     "data": {
      "text/html": [
       "<div>\n",
       "<style scoped>\n",
       "    .dataframe tbody tr th:only-of-type {\n",
       "        vertical-align: middle;\n",
       "    }\n",
       "\n",
       "    .dataframe tbody tr th {\n",
       "        vertical-align: top;\n",
       "    }\n",
       "\n",
       "    .dataframe thead th {\n",
       "        text-align: right;\n",
       "    }\n",
       "</style>\n",
       "<table border=\"1\" class=\"dataframe\">\n",
       "  <thead>\n",
       "    <tr style=\"text-align: right;\">\n",
       "      <th></th>\n",
       "      <th>number</th>\n",
       "      <th>value</th>\n",
       "      <th>datetime_start</th>\n",
       "      <th>datetime_complete</th>\n",
       "      <th>duration</th>\n",
       "      <th>params_batch_size</th>\n",
       "      <th>params_dense_layer_size</th>\n",
       "      <th>params_dropout</th>\n",
       "      <th>params_graph_conv_layers</th>\n",
       "      <th>params_number_atom_features</th>\n",
       "      <th>system_attrs_fail_reason</th>\n",
       "      <th>state</th>\n",
       "    </tr>\n",
       "  </thead>\n",
       "  <tbody>\n",
       "    <tr>\n",
       "      <th>0</th>\n",
       "      <td>0</td>\n",
       "      <td>NaN</td>\n",
       "      <td>2021-06-01 16:01:07.242437</td>\n",
       "      <td>NaT</td>\n",
       "      <td>NaT</td>\n",
       "      <td>100</td>\n",
       "      <td>208</td>\n",
       "      <td>0.360900</td>\n",
       "      <td>[128, 128, 128]</td>\n",
       "      <td>25</td>\n",
       "      <td>NaN</td>\n",
       "      <td>RUNNING</td>\n",
       "    </tr>\n",
       "    <tr>\n",
       "      <th>1</th>\n",
       "      <td>1</td>\n",
       "      <td>NaN</td>\n",
       "      <td>2021-06-01 16:07:16.202917</td>\n",
       "      <td>NaT</td>\n",
       "      <td>NaT</td>\n",
       "      <td>150</td>\n",
       "      <td>232</td>\n",
       "      <td>0.358572</td>\n",
       "      <td>[64]</td>\n",
       "      <td>100</td>\n",
       "      <td>NaN</td>\n",
       "      <td>RUNNING</td>\n",
       "    </tr>\n",
       "    <tr>\n",
       "      <th>2</th>\n",
       "      <td>2</td>\n",
       "      <td>NaN</td>\n",
       "      <td>2021-06-01 16:07:30.164426</td>\n",
       "      <td>NaT</td>\n",
       "      <td>NaT</td>\n",
       "      <td>300</td>\n",
       "      <td>316</td>\n",
       "      <td>0.397522</td>\n",
       "      <td>[32, 32]</td>\n",
       "      <td>125</td>\n",
       "      <td>NaN</td>\n",
       "      <td>RUNNING</td>\n",
       "    </tr>\n",
       "    <tr>\n",
       "      <th>3</th>\n",
       "      <td>3</td>\n",
       "      <td>NaN</td>\n",
       "      <td>2021-06-01 16:10:37.815782</td>\n",
       "      <td>NaT</td>\n",
       "      <td>NaT</td>\n",
       "      <td>250</td>\n",
       "      <td>208</td>\n",
       "      <td>0.340126</td>\n",
       "      <td>[32, 32]</td>\n",
       "      <td>75</td>\n",
       "      <td>NaN</td>\n",
       "      <td>RUNNING</td>\n",
       "    </tr>\n",
       "    <tr>\n",
       "      <th>4</th>\n",
       "      <td>4</td>\n",
       "      <td>NaN</td>\n",
       "      <td>2021-06-01 16:22:06.417704</td>\n",
       "      <td>NaT</td>\n",
       "      <td>NaT</td>\n",
       "      <td>275</td>\n",
       "      <td>196</td>\n",
       "      <td>0.206110</td>\n",
       "      <td>[128, 128]</td>\n",
       "      <td>25</td>\n",
       "      <td>NaN</td>\n",
       "      <td>RUNNING</td>\n",
       "    </tr>\n",
       "    <tr>\n",
       "      <th>...</th>\n",
       "      <td>...</td>\n",
       "      <td>...</td>\n",
       "      <td>...</td>\n",
       "      <td>...</td>\n",
       "      <td>...</td>\n",
       "      <td>...</td>\n",
       "      <td>...</td>\n",
       "      <td>...</td>\n",
       "      <td>...</td>\n",
       "      <td>...</td>\n",
       "      <td>...</td>\n",
       "      <td>...</td>\n",
       "    </tr>\n",
       "    <tr>\n",
       "      <th>167</th>\n",
       "      <td>167</td>\n",
       "      <td>-0.206107</td>\n",
       "      <td>2021-06-01 20:42:42.867552</td>\n",
       "      <td>2021-06-01 20:47:38.290639</td>\n",
       "      <td>0 days 00:04:55.423087</td>\n",
       "      <td>100</td>\n",
       "      <td>88</td>\n",
       "      <td>0.000975</td>\n",
       "      <td>[32]</td>\n",
       "      <td>25</td>\n",
       "      <td>NaN</td>\n",
       "      <td>COMPLETE</td>\n",
       "    </tr>\n",
       "    <tr>\n",
       "      <th>168</th>\n",
       "      <td>168</td>\n",
       "      <td>-0.310806</td>\n",
       "      <td>2021-06-01 20:43:41.501866</td>\n",
       "      <td>2021-06-01 20:49:19.633610</td>\n",
       "      <td>0 days 00:05:38.131744</td>\n",
       "      <td>50</td>\n",
       "      <td>76</td>\n",
       "      <td>0.001134</td>\n",
       "      <td>[32]</td>\n",
       "      <td>25</td>\n",
       "      <td>NaN</td>\n",
       "      <td>COMPLETE</td>\n",
       "    </tr>\n",
       "    <tr>\n",
       "      <th>169</th>\n",
       "      <td>169</td>\n",
       "      <td>-0.606919</td>\n",
       "      <td>2021-06-01 20:47:38.368857</td>\n",
       "      <td>2021-06-01 20:54:29.265034</td>\n",
       "      <td>0 days 00:06:50.896177</td>\n",
       "      <td>100</td>\n",
       "      <td>208</td>\n",
       "      <td>0.368068</td>\n",
       "      <td>[32]</td>\n",
       "      <td>25</td>\n",
       "      <td>NaN</td>\n",
       "      <td>COMPLETE</td>\n",
       "    </tr>\n",
       "    <tr>\n",
       "      <th>170</th>\n",
       "      <td>170</td>\n",
       "      <td>-0.455734</td>\n",
       "      <td>2021-06-01 20:49:19.714814</td>\n",
       "      <td>2021-06-01 20:57:58.620988</td>\n",
       "      <td>0 days 00:08:38.906174</td>\n",
       "      <td>100</td>\n",
       "      <td>304</td>\n",
       "      <td>0.056853</td>\n",
       "      <td>[32]</td>\n",
       "      <td>25</td>\n",
       "      <td>NaN</td>\n",
       "      <td>COMPLETE</td>\n",
       "    </tr>\n",
       "    <tr>\n",
       "      <th>171</th>\n",
       "      <td>171</td>\n",
       "      <td>-0.306737</td>\n",
       "      <td>2021-06-01 20:54:29.343555</td>\n",
       "      <td>2021-06-01 20:59:46.017880</td>\n",
       "      <td>0 days 00:05:16.674325</td>\n",
       "      <td>50</td>\n",
       "      <td>88</td>\n",
       "      <td>0.032936</td>\n",
       "      <td>[32]</td>\n",
       "      <td>25</td>\n",
       "      <td>NaN</td>\n",
       "      <td>COMPLETE</td>\n",
       "    </tr>\n",
       "  </tbody>\n",
       "</table>\n",
       "<p>172 rows × 12 columns</p>\n",
       "</div>"
      ],
      "text/plain": [
       "     number     value             datetime_start          datetime_complete  \\\n",
       "0         0       NaN 2021-06-01 16:01:07.242437                        NaT   \n",
       "1         1       NaN 2021-06-01 16:07:16.202917                        NaT   \n",
       "2         2       NaN 2021-06-01 16:07:30.164426                        NaT   \n",
       "3         3       NaN 2021-06-01 16:10:37.815782                        NaT   \n",
       "4         4       NaN 2021-06-01 16:22:06.417704                        NaT   \n",
       "..      ...       ...                        ...                        ...   \n",
       "167     167 -0.206107 2021-06-01 20:42:42.867552 2021-06-01 20:47:38.290639   \n",
       "168     168 -0.310806 2021-06-01 20:43:41.501866 2021-06-01 20:49:19.633610   \n",
       "169     169 -0.606919 2021-06-01 20:47:38.368857 2021-06-01 20:54:29.265034   \n",
       "170     170 -0.455734 2021-06-01 20:49:19.714814 2021-06-01 20:57:58.620988   \n",
       "171     171 -0.306737 2021-06-01 20:54:29.343555 2021-06-01 20:59:46.017880   \n",
       "\n",
       "                  duration  params_batch_size  params_dense_layer_size  \\\n",
       "0                      NaT                100                      208   \n",
       "1                      NaT                150                      232   \n",
       "2                      NaT                300                      316   \n",
       "3                      NaT                250                      208   \n",
       "4                      NaT                275                      196   \n",
       "..                     ...                ...                      ...   \n",
       "167 0 days 00:04:55.423087                100                       88   \n",
       "168 0 days 00:05:38.131744                 50                       76   \n",
       "169 0 days 00:06:50.896177                100                      208   \n",
       "170 0 days 00:08:38.906174                100                      304   \n",
       "171 0 days 00:05:16.674325                 50                       88   \n",
       "\n",
       "     params_dropout params_graph_conv_layers  params_number_atom_features  \\\n",
       "0          0.360900          [128, 128, 128]                           25   \n",
       "1          0.358572                     [64]                          100   \n",
       "2          0.397522                 [32, 32]                          125   \n",
       "3          0.340126                 [32, 32]                           75   \n",
       "4          0.206110               [128, 128]                           25   \n",
       "..              ...                      ...                          ...   \n",
       "167        0.000975                     [32]                           25   \n",
       "168        0.001134                     [32]                           25   \n",
       "169        0.368068                     [32]                           25   \n",
       "170        0.056853                     [32]                           25   \n",
       "171        0.032936                     [32]                           25   \n",
       "\n",
       "    system_attrs_fail_reason     state  \n",
       "0                        NaN   RUNNING  \n",
       "1                        NaN   RUNNING  \n",
       "2                        NaN   RUNNING  \n",
       "3                        NaN   RUNNING  \n",
       "4                        NaN   RUNNING  \n",
       "..                       ...       ...  \n",
       "167                      NaN  COMPLETE  \n",
       "168                      NaN  COMPLETE  \n",
       "169                      NaN  COMPLETE  \n",
       "170                      NaN  COMPLETE  \n",
       "171                      NaN  COMPLETE  \n",
       "\n",
       "[172 rows x 12 columns]"
      ]
     },
     "execution_count": 45,
     "metadata": {},
     "output_type": "execute_result"
    }
   ],
   "source": [
    "graph_results = graph_study.trials_dataframe()\n",
    "graph_results"
   ]
  },
  {
   "cell_type": "code",
   "execution_count": 46,
   "id": "1eebc4cc-e9df-4580-a15a-d40b74f1972e",
   "metadata": {
    "collapsed": true,
    "jupyter": {
     "outputs_hidden": true
    },
    "tags": []
   },
   "outputs": [
    {
     "name": "stderr",
     "output_type": "stream",
     "text": [
      "/Users/ek/miniconda3/envs/cytoxnet/lib/python3.6/site-packages/optuna/distributions.py:430: UserWarning: Choices for a categorical distribution should be a tuple of None, bool, int, float and str for persistent storage but contains [32] which is of type list.\n",
      "  warnings.warn(message)\n",
      "/Users/ek/miniconda3/envs/cytoxnet/lib/python3.6/site-packages/optuna/distributions.py:430: UserWarning: Choices for a categorical distribution should be a tuple of None, bool, int, float and str for persistent storage but contains [64] which is of type list.\n",
      "  warnings.warn(message)\n",
      "/Users/ek/miniconda3/envs/cytoxnet/lib/python3.6/site-packages/optuna/distributions.py:430: UserWarning: Choices for a categorical distribution should be a tuple of None, bool, int, float and str for persistent storage but contains [128] which is of type list.\n",
      "  warnings.warn(message)\n",
      "/Users/ek/miniconda3/envs/cytoxnet/lib/python3.6/site-packages/optuna/distributions.py:430: UserWarning: Choices for a categorical distribution should be a tuple of None, bool, int, float and str for persistent storage but contains [32, 32] which is of type list.\n",
      "  warnings.warn(message)\n",
      "/Users/ek/miniconda3/envs/cytoxnet/lib/python3.6/site-packages/optuna/distributions.py:430: UserWarning: Choices for a categorical distribution should be a tuple of None, bool, int, float and str for persistent storage but contains [64, 64] which is of type list.\n",
      "  warnings.warn(message)\n",
      "/Users/ek/miniconda3/envs/cytoxnet/lib/python3.6/site-packages/optuna/distributions.py:430: UserWarning: Choices for a categorical distribution should be a tuple of None, bool, int, float and str for persistent storage but contains [128, 128] which is of type list.\n",
      "  warnings.warn(message)\n",
      "/Users/ek/miniconda3/envs/cytoxnet/lib/python3.6/site-packages/optuna/distributions.py:430: UserWarning: Choices for a categorical distribution should be a tuple of None, bool, int, float and str for persistent storage but contains [32, 32, 32] which is of type list.\n",
      "  warnings.warn(message)\n",
      "/Users/ek/miniconda3/envs/cytoxnet/lib/python3.6/site-packages/optuna/distributions.py:430: UserWarning: Choices for a categorical distribution should be a tuple of None, bool, int, float and str for persistent storage but contains [64, 64, 64] which is of type list.\n",
      "  warnings.warn(message)\n",
      "/Users/ek/miniconda3/envs/cytoxnet/lib/python3.6/site-packages/optuna/distributions.py:430: UserWarning: Choices for a categorical distribution should be a tuple of None, bool, int, float and str for persistent storage but contains [128, 128, 128] which is of type list.\n",
      "  warnings.warn(message)\n"
     ]
    }
   ],
   "source": [
    "graph_params = graph_study.best_params"
   ]
  },
  {
   "cell_type": "code",
   "execution_count": 67,
   "id": "cb8addf6-41f2-4582-883a-5d59b7b2e630",
   "metadata": {},
   "outputs": [
    {
     "data": {
      "text/plain": [
       "{'batch_size': 275,\n",
       " 'dense_layer_size': 112,\n",
       " 'dropout': 0.013039897074701816,\n",
       " 'graph_conv_layers': [64],\n",
       " 'number_atom_features': 25}"
      ]
     },
     "execution_count": 67,
     "metadata": {},
     "output_type": "execute_result"
    }
   ],
   "source": [
    "graph_params"
   ]
  },
  {
   "cell_type": "code",
   "execution_count": 68,
   "id": "214ec779-3592-4cc2-884f-e4dccfb425cc",
   "metadata": {
    "collapsed": true,
    "jupyter": {
     "outputs_hidden": true
    },
    "tags": []
   },
   "outputs": [
    {
     "name": "stderr",
     "output_type": "stream",
     "text": [
      "/Users/ek/miniconda3/envs/cytoxnet/lib/python3.6/site-packages/optuna/distributions.py:430: UserWarning: Choices for a categorical distribution should be a tuple of None, bool, int, float and str for persistent storage but contains [32] which is of type list.\n",
      "  warnings.warn(message)\n",
      "/Users/ek/miniconda3/envs/cytoxnet/lib/python3.6/site-packages/optuna/distributions.py:430: UserWarning: Choices for a categorical distribution should be a tuple of None, bool, int, float and str for persistent storage but contains [64] which is of type list.\n",
      "  warnings.warn(message)\n",
      "/Users/ek/miniconda3/envs/cytoxnet/lib/python3.6/site-packages/optuna/distributions.py:430: UserWarning: Choices for a categorical distribution should be a tuple of None, bool, int, float and str for persistent storage but contains [128] which is of type list.\n",
      "  warnings.warn(message)\n",
      "/Users/ek/miniconda3/envs/cytoxnet/lib/python3.6/site-packages/optuna/distributions.py:430: UserWarning: Choices for a categorical distribution should be a tuple of None, bool, int, float and str for persistent storage but contains [32, 32] which is of type list.\n",
      "  warnings.warn(message)\n",
      "/Users/ek/miniconda3/envs/cytoxnet/lib/python3.6/site-packages/optuna/distributions.py:430: UserWarning: Choices for a categorical distribution should be a tuple of None, bool, int, float and str for persistent storage but contains [64, 64] which is of type list.\n",
      "  warnings.warn(message)\n",
      "/Users/ek/miniconda3/envs/cytoxnet/lib/python3.6/site-packages/optuna/distributions.py:430: UserWarning: Choices for a categorical distribution should be a tuple of None, bool, int, float and str for persistent storage but contains [128, 128] which is of type list.\n",
      "  warnings.warn(message)\n",
      "/Users/ek/miniconda3/envs/cytoxnet/lib/python3.6/site-packages/optuna/distributions.py:430: UserWarning: Choices for a categorical distribution should be a tuple of None, bool, int, float and str for persistent storage but contains [32, 32, 32] which is of type list.\n",
      "  warnings.warn(message)\n",
      "/Users/ek/miniconda3/envs/cytoxnet/lib/python3.6/site-packages/optuna/distributions.py:430: UserWarning: Choices for a categorical distribution should be a tuple of None, bool, int, float and str for persistent storage but contains [64, 64, 64] which is of type list.\n",
      "  warnings.warn(message)\n",
      "/Users/ek/miniconda3/envs/cytoxnet/lib/python3.6/site-packages/optuna/distributions.py:430: UserWarning: Choices for a categorical distribution should be a tuple of None, bool, int, float and str for persistent storage but contains [128, 128, 128] which is of type list.\n",
      "  warnings.warn(message)\n"
     ]
    },
    {
     "data": {
      "text/plain": [
       "-0.10823066196246194"
      ]
     },
     "execution_count": 68,
     "metadata": {},
     "output_type": "execute_result"
    }
   ],
   "source": [
    "graph_study.best_value"
   ]
  },
  {
   "cell_type": "markdown",
   "id": "ebee9420-57f4-4999-b1c8-79b2ee7c1192",
   "metadata": {},
   "source": [
    "Train the graph model using the best parameters on the entire dev set."
   ]
  },
  {
   "cell_type": "code",
   "execution_count": 47,
   "id": "b35c5e99-6b14-4eca-a7ba-803cb30c9bde",
   "metadata": {},
   "outputs": [],
   "source": [
    "graph_model = ToxModel(\n",
    "    'GraphCNN',\n",
    "    tasks=multitask_names,\n",
    "    transformers=[],\n",
    "    mode='classification',\n",
    "    **graph_params\n",
    ")"
   ]
  },
  {
   "cell_type": "code",
   "execution_count": 48,
   "id": "02f424e7-a908-4045-93eb-5eac82f20256",
   "metadata": {
    "collapsed": true,
    "jupyter": {
     "outputs_hidden": true
    },
    "tags": []
   },
   "outputs": [
    {
     "name": "stderr",
     "output_type": "stream",
     "text": [
      "/Users/ek/miniconda3/envs/cytoxnet/lib/python3.6/site-packages/tensorflow/python/framework/indexed_slices.py:437: UserWarning: Converting sparse IndexedSlices(IndexedSlices(indices=Tensor(\"gradient_tape/private__graph_conv_keras_model/graph_pool/Reshape_14:0\", shape=(1424,), dtype=int32), values=Tensor(\"gradient_tape/private__graph_conv_keras_model/graph_pool/Reshape_13:0\", shape=(1424, 64), dtype=float32), dense_shape=Tensor(\"gradient_tape/private__graph_conv_keras_model/graph_pool/Cast_4:0\", shape=(2,), dtype=int32))) to a dense Tensor of unknown shape. This may consume a large amount of memory.\n",
      "  \"shape. This may consume a large amount of memory.\" % value)\n",
      "/Users/ek/miniconda3/envs/cytoxnet/lib/python3.6/site-packages/tensorflow/python/framework/indexed_slices.py:437: UserWarning: Converting sparse IndexedSlices(IndexedSlices(indices=Tensor(\"gradient_tape/private__graph_conv_keras_model/graph_pool/Reshape_17:0\", shape=(6010,), dtype=int32), values=Tensor(\"gradient_tape/private__graph_conv_keras_model/graph_pool/Reshape_16:0\", shape=(6010, 64), dtype=float32), dense_shape=Tensor(\"gradient_tape/private__graph_conv_keras_model/graph_pool/Cast_5:0\", shape=(2,), dtype=int32))) to a dense Tensor of unknown shape. This may consume a large amount of memory.\n",
      "  \"shape. This may consume a large amount of memory.\" % value)\n",
      "/Users/ek/miniconda3/envs/cytoxnet/lib/python3.6/site-packages/tensorflow/python/framework/indexed_slices.py:437: UserWarning: Converting sparse IndexedSlices(IndexedSlices(indices=Tensor(\"gradient_tape/private__graph_conv_keras_model/graph_pool/Reshape_20:0\", shape=(5610,), dtype=int32), values=Tensor(\"gradient_tape/private__graph_conv_keras_model/graph_pool/Reshape_19:0\", shape=(5610, 64), dtype=float32), dense_shape=Tensor(\"gradient_tape/private__graph_conv_keras_model/graph_pool/Cast_6:0\", shape=(2,), dtype=int32))) to a dense Tensor of unknown shape. This may consume a large amount of memory.\n",
      "  \"shape. This may consume a large amount of memory.\" % value)\n",
      "/Users/ek/miniconda3/envs/cytoxnet/lib/python3.6/site-packages/tensorflow/python/framework/indexed_slices.py:437: UserWarning: Converting sparse IndexedSlices(IndexedSlices(indices=Tensor(\"gradient_tape/private__graph_conv_keras_model/graph_pool/Reshape_23:0\", shape=(616,), dtype=int32), values=Tensor(\"gradient_tape/private__graph_conv_keras_model/graph_pool/Reshape_22:0\", shape=(616, 64), dtype=float32), dense_shape=Tensor(\"gradient_tape/private__graph_conv_keras_model/graph_pool/Cast_7:0\", shape=(2,), dtype=int32))) to a dense Tensor of unknown shape. This may consume a large amount of memory.\n",
      "  \"shape. This may consume a large amount of memory.\" % value)\n",
      "/Users/ek/miniconda3/envs/cytoxnet/lib/python3.6/site-packages/tensorflow/python/framework/indexed_slices.py:437: UserWarning: Converting sparse IndexedSlices(IndexedSlices(indices=Tensor(\"gradient_tape/private__graph_conv_keras_model/graph_pool/Reshape_14:0\", shape=(1372,), dtype=int32), values=Tensor(\"gradient_tape/private__graph_conv_keras_model/graph_pool/Reshape_13:0\", shape=(1372, 64), dtype=float32), dense_shape=Tensor(\"gradient_tape/private__graph_conv_keras_model/graph_pool/Cast_4:0\", shape=(2,), dtype=int32))) to a dense Tensor of unknown shape. This may consume a large amount of memory.\n",
      "  \"shape. This may consume a large amount of memory.\" % value)\n",
      "/Users/ek/miniconda3/envs/cytoxnet/lib/python3.6/site-packages/tensorflow/python/framework/indexed_slices.py:437: UserWarning: Converting sparse IndexedSlices(IndexedSlices(indices=Tensor(\"gradient_tape/private__graph_conv_keras_model/graph_pool/Reshape_17:0\", shape=(5666,), dtype=int32), values=Tensor(\"gradient_tape/private__graph_conv_keras_model/graph_pool/Reshape_16:0\", shape=(5666, 64), dtype=float32), dense_shape=Tensor(\"gradient_tape/private__graph_conv_keras_model/graph_pool/Cast_5:0\", shape=(2,), dtype=int32))) to a dense Tensor of unknown shape. This may consume a large amount of memory.\n",
      "  \"shape. This may consume a large amount of memory.\" % value)\n",
      "/Users/ek/miniconda3/envs/cytoxnet/lib/python3.6/site-packages/tensorflow/python/framework/indexed_slices.py:437: UserWarning: Converting sparse IndexedSlices(IndexedSlices(indices=Tensor(\"gradient_tape/private__graph_conv_keras_model/graph_pool/Reshape_20:0\", shape=(5334,), dtype=int32), values=Tensor(\"gradient_tape/private__graph_conv_keras_model/graph_pool/Reshape_19:0\", shape=(5334, 64), dtype=float32), dense_shape=Tensor(\"gradient_tape/private__graph_conv_keras_model/graph_pool/Cast_6:0\", shape=(2,), dtype=int32))) to a dense Tensor of unknown shape. This may consume a large amount of memory.\n",
      "  \"shape. This may consume a large amount of memory.\" % value)\n",
      "/Users/ek/miniconda3/envs/cytoxnet/lib/python3.6/site-packages/tensorflow/python/framework/indexed_slices.py:437: UserWarning: Converting sparse IndexedSlices(IndexedSlices(indices=Tensor(\"gradient_tape/private__graph_conv_keras_model/graph_pool/Reshape_23:0\", shape=(608,), dtype=int32), values=Tensor(\"gradient_tape/private__graph_conv_keras_model/graph_pool/Reshape_22:0\", shape=(608, 64), dtype=float32), dense_shape=Tensor(\"gradient_tape/private__graph_conv_keras_model/graph_pool/Cast_7:0\", shape=(2,), dtype=int32))) to a dense Tensor of unknown shape. This may consume a large amount of memory.\n",
      "  \"shape. This may consume a large amount of memory.\" % value)\n",
      "/Users/ek/miniconda3/envs/cytoxnet/lib/python3.6/site-packages/tensorflow/python/framework/indexed_slices.py:437: UserWarning: Converting sparse IndexedSlices(IndexedSlices(indices=Tensor(\"gradient_tape/private__graph_conv_keras_model/graph_pool/Reshape_14:0\", shape=(None,), dtype=int32), values=Tensor(\"gradient_tape/private__graph_conv_keras_model/graph_pool/Reshape_13:0\", shape=(None, 64), dtype=float32), dense_shape=Tensor(\"gradient_tape/private__graph_conv_keras_model/graph_pool/Cast_4:0\", shape=(2,), dtype=int32))) to a dense Tensor of unknown shape. This may consume a large amount of memory.\n",
      "  \"shape. This may consume a large amount of memory.\" % value)\n",
      "/Users/ek/miniconda3/envs/cytoxnet/lib/python3.6/site-packages/tensorflow/python/framework/indexed_slices.py:437: UserWarning: Converting sparse IndexedSlices(IndexedSlices(indices=Tensor(\"gradient_tape/private__graph_conv_keras_model/graph_pool/Reshape_17:0\", shape=(None,), dtype=int32), values=Tensor(\"gradient_tape/private__graph_conv_keras_model/graph_pool/Reshape_16:0\", shape=(None, 64), dtype=float32), dense_shape=Tensor(\"gradient_tape/private__graph_conv_keras_model/graph_pool/Cast_5:0\", shape=(2,), dtype=int32))) to a dense Tensor of unknown shape. This may consume a large amount of memory.\n",
      "  \"shape. This may consume a large amount of memory.\" % value)\n",
      "/Users/ek/miniconda3/envs/cytoxnet/lib/python3.6/site-packages/tensorflow/python/framework/indexed_slices.py:437: UserWarning: Converting sparse IndexedSlices(IndexedSlices(indices=Tensor(\"gradient_tape/private__graph_conv_keras_model/graph_pool/Reshape_20:0\", shape=(None,), dtype=int32), values=Tensor(\"gradient_tape/private__graph_conv_keras_model/graph_pool/Reshape_19:0\", shape=(None, 64), dtype=float32), dense_shape=Tensor(\"gradient_tape/private__graph_conv_keras_model/graph_pool/Cast_6:0\", shape=(2,), dtype=int32))) to a dense Tensor of unknown shape. This may consume a large amount of memory.\n",
      "  \"shape. This may consume a large amount of memory.\" % value)\n",
      "/Users/ek/miniconda3/envs/cytoxnet/lib/python3.6/site-packages/tensorflow/python/framework/indexed_slices.py:437: UserWarning: Converting sparse IndexedSlices(IndexedSlices(indices=Tensor(\"gradient_tape/private__graph_conv_keras_model/graph_pool/Reshape_23:0\", shape=(None,), dtype=int32), values=Tensor(\"gradient_tape/private__graph_conv_keras_model/graph_pool/Reshape_22:0\", shape=(None, 64), dtype=float32), dense_shape=Tensor(\"gradient_tape/private__graph_conv_keras_model/graph_pool/Cast_7:0\", shape=(2,), dtype=int32))) to a dense Tensor of unknown shape. This may consume a large amount of memory.\n",
      "  \"shape. This may consume a large amount of memory.\" % value)\n"
     ]
    },
    {
     "data": {
      "text/plain": [
       "0.020670228004455567"
      ]
     },
     "execution_count": 48,
     "metadata": {},
     "output_type": "execute_result"
    }
   ],
   "source": [
    "graph_model.fit(graph_dev, nb_epoch=50)"
   ]
  },
  {
   "cell_type": "code",
   "execution_count": 66,
   "id": "c5783b97-bd09-493f-b908-2d9ef5a50972",
   "metadata": {
    "tags": []
   },
   "outputs": [
    {
     "name": "stderr",
     "output_type": "stream",
     "text": [
      "/Users/ek/miniconda3/envs/cytoxnet/lib/python3.6/site-packages/sklearn/metrics/_classification.py:1245: UndefinedMetricWarning: Precision is ill-defined and being set to 0.0 due to no predicted samples. Use `zero_division` parameter to control this behavior.\n",
      "  _warn_prf(average, modifier, msg_start, len(result))\n",
      "/Users/ek/miniconda3/envs/cytoxnet/lib/python3.6/site-packages/sklearn/metrics/_classification.py:1245: UndefinedMetricWarning: Recall is ill-defined and being set to 0.0 due to no true samples. Use `zero_division` parameter to control this behavior.\n",
      "  _warn_prf(average, modifier, msg_start, len(result))\n"
     ]
    },
    {
     "data": {
      "text/plain": [
       "({0: 0.75514324272219, 1: 0.7678831314208416},\n",
       " {0: [0.9538461538461539, 0.9824561403508771, 0.9194139194139194, 0.92, 0.0],\n",
       "  1: [0.9393939393939394,\n",
       "   0.9824561403508771,\n",
       "   0.9691119691119691,\n",
       "   0.9484536082474226,\n",
       "   0.0]})"
      ]
     },
     "execution_count": 66,
     "metadata": {},
     "output_type": "execute_result"
    }
   ],
   "source": [
    "graph_model.evaluate(\n",
    "    graph_test,\n",
    "    ['precision_score', 'recall_score'],\n",
    "    untransform=False,\n",
    "    use_sample_weights=True,\n",
    "    per_task_metrics=True,\n",
    "    n_classes=2\n",
    ")"
   ]
  },
  {
   "cell_type": "markdown",
   "id": "7c232608-e7bb-46be-90fd-87776fc6bd3d",
   "metadata": {},
   "source": [
    "> The precision score for the test set is 0.919. This is approximately 1% better than the baseline single task model."
   ]
  },
  {
   "cell_type": "code",
   "execution_count": 49,
   "id": "babcbe79-7055-4178-960e-f9ada635ba5c",
   "metadata": {},
   "outputs": [
    {
     "data": {
      "text/html": [
       "\n",
       "<div id=\"altair-viz-a4e38d3a745f4864b2c69911127770a0\"></div>\n",
       "<script type=\"text/javascript\">\n",
       "  (function(spec, embedOpt){\n",
       "    let outputDiv = document.currentScript.previousElementSibling;\n",
       "    if (outputDiv.id !== \"altair-viz-a4e38d3a745f4864b2c69911127770a0\") {\n",
       "      outputDiv = document.getElementById(\"altair-viz-a4e38d3a745f4864b2c69911127770a0\");\n",
       "    }\n",
       "    const paths = {\n",
       "      \"vega\": \"https://cdn.jsdelivr.net/npm//vega@5?noext\",\n",
       "      \"vega-lib\": \"https://cdn.jsdelivr.net/npm//vega-lib?noext\",\n",
       "      \"vega-lite\": \"https://cdn.jsdelivr.net/npm//vega-lite@4.8.1?noext\",\n",
       "      \"vega-embed\": \"https://cdn.jsdelivr.net/npm//vega-embed@6?noext\",\n",
       "    };\n",
       "\n",
       "    function loadScript(lib) {\n",
       "      return new Promise(function(resolve, reject) {\n",
       "        var s = document.createElement('script');\n",
       "        s.src = paths[lib];\n",
       "        s.async = true;\n",
       "        s.onload = () => resolve(paths[lib]);\n",
       "        s.onerror = () => reject(`Error loading script: ${paths[lib]}`);\n",
       "        document.getElementsByTagName(\"head\")[0].appendChild(s);\n",
       "      });\n",
       "    }\n",
       "\n",
       "    function showError(err) {\n",
       "      outputDiv.innerHTML = `<div class=\"error\" style=\"color:red;\">${err}</div>`;\n",
       "      throw err;\n",
       "    }\n",
       "\n",
       "    function displayChart(vegaEmbed) {\n",
       "      vegaEmbed(outputDiv, spec, embedOpt)\n",
       "        .catch(err => showError(`Javascript Error: ${err.message}<br>This usually means there's a typo in your chart specification. See the javascript console for the full traceback.`));\n",
       "    }\n",
       "\n",
       "    if(typeof define === \"function\" && define.amd) {\n",
       "      requirejs.config({paths});\n",
       "      require([\"vega-embed\"], displayChart, err => showError(`Error loading script: ${err.message}`));\n",
       "    } else if (typeof vegaEmbed === \"function\") {\n",
       "      displayChart(vegaEmbed);\n",
       "    } else {\n",
       "      loadScript(\"vega\")\n",
       "        .then(() => loadScript(\"vega-lite\"))\n",
       "        .then(() => loadScript(\"vega-embed\"))\n",
       "        .catch(showError)\n",
       "        .then(() => displayChart(vegaEmbed));\n",
       "    }\n",
       "  })({\"config\": {\"view\": {\"continuousWidth\": 400, \"continuousHeight\": 300}}, \"layer\": [{\"data\": {\"name\": \"data-28880620c4ce6846c6811bc07c83cec4\"}, \"mark\": {\"type\": \"line\", \"color\": \"black\", \"strokeDash\": [20, 5]}, \"encoding\": {\"x\": {\"type\": \"quantitative\", \"field\": \"line\", \"scale\": {\"domain\": [0.0, 1.0]}, \"title\": \"false positive rate\"}, \"y\": {\"type\": \"quantitative\", \"field\": \"line\", \"scale\": {\"domain\": [0.0, 1.0]}, \"title\": \"true positive rate\"}}}, {\"data\": {\"name\": \"data-ad1099d77fdba0d85451f9ec2bd2a9a6\"}, \"mark\": {\"type\": \"area\", \"fill\": \"red\", \"fillOpacity\": 0.5}, \"encoding\": {\"x\": {\"type\": \"quantitative\", \"field\": \"fpr\", \"title\": \"false positive rate\"}, \"y\": {\"type\": \"quantitative\", \"field\": \"tpr\", \"title\": \"true positive rate\"}}}], \"$schema\": \"https://vega.github.io/schema/vega-lite/v4.8.1.json\", \"datasets\": {\"data-28880620c4ce6846c6811bc07c83cec4\": [{\"line\": 0}, {\"line\": 1}], \"data-ad1099d77fdba0d85451f9ec2bd2a9a6\": [{\"fpr\": 0.0, \"tpr\": 0.0, \"thresholds\": 2}, {\"fpr\": 0.6, \"tpr\": 0.9845559845559846, \"thresholds\": 1}, {\"fpr\": 1.0, \"tpr\": 1.0, \"thresholds\": 0}]}}, {\"mode\": \"vega-lite\"});\n",
       "</script>"
      ],
      "text/plain": [
       "alt.LayerChart(...)"
      ]
     },
     "execution_count": 49,
     "metadata": {},
     "output_type": "execute_result"
    }
   ],
   "source": [
    "graph_model.visualize('roc', graph_test, task='algea_EC50')"
   ]
  },
  {
   "cell_type": "code",
   "execution_count": null,
   "id": "c5d95b28-b80a-4ae9-971f-5d995008b6e5",
   "metadata": {},
   "outputs": [],
   "source": []
  }
 ],
 "metadata": {
  "kernelspec": {
   "display_name": "Python 3",
   "language": "python",
   "name": "python3"
  },
  "language_info": {
   "codemirror_mode": {
    "name": "ipython",
    "version": 3
   },
   "file_extension": ".py",
   "mimetype": "text/x-python",
   "name": "python",
   "nbconvert_exporter": "python",
   "pygments_lexer": "ipython3",
   "version": "3.6.13"
  }
 },
 "nbformat": 4,
 "nbformat_minor": 5
}
