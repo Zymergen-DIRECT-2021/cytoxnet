{
 "cells": [
  {
   "cell_type": "markdown",
   "id": "2d9d7d8f-27e0-4dd4-a4dc-05e04aad1183",
   "metadata": {},
   "source": [
    "# Multitask learning capability evaluation\n",
    "\n",
    "Random forests performed well both as classifiers and as regressors, with the descripor based features (Mordred and RDKit) performing the best. Can a multitask model with imputation or a graph neural net do better?"
   ]
  },
  {
   "cell_type": "code",
   "execution_count": 115,
   "id": "0bf726f1-085c-421f-8a18-53acef392c99",
   "metadata": {},
   "outputs": [],
   "source": [
    "import deepchem as dc\n",
    "import numpy as np\n",
    "import pandas as pd\n",
    "import optuna\n",
    "from functools import reduce\n",
    "\n",
    "import cytoxnet.dataprep.io as io\n",
    "import cytoxnet.dataprep.dataprep as dataprep\n",
    "import cytoxnet.dataprep.featurize as feat\n",
    "from cytoxnet.models.models import ToxModel\n",
    "import cytoxnet.models.opt as opt"
   ]
  },
  {
   "cell_type": "markdown",
   "id": "dd59b413-a9f8-4ede-b815-e8806acc68ba",
   "metadata": {},
   "source": [
    "## Contents\n",
    "This notebook contains en evaluation of the optimized models for regression tasks. The overall goal was to leverage all of our datasets (see data report section) in order to produce the best possible regressor of toxicity in a single test microbe, in this case algea. R2 score is used to determine the best regressor. All targets were normalized before training.\n",
    "\n",
    "Models tested:\n",
    "- RFC w/ RDKitDescriptors baseline: train on algea data alone\n",
    "- RFC w/ RDKitDescriptor imputed with mean: train on all species (originally sparse)\n",
    "- RFC w/ RDKitDescriptor imputed with iterative imputer: train on all species (originally sparse)\n",
    "- GCNN w/ 0.0 wighted sparse data: train on all species (sparse)"
   ]
  },
  {
   "cell_type": "markdown",
   "id": "91adbe1f-aa4e-43e3-87e0-6a2151de7785",
   "metadata": {},
   "source": [
    "## Create the datasets to use\n",
    "Multitask learning would have the most benefit for small target datasets, so we will use the smallest in the package (Lunghini algea data) as the ultimate goal"
   ]
  },
  {
   "cell_type": "code",
   "execution_count": 2,
   "id": "422f4b77-b932-477d-bc5d-1af7a4a0b68d",
   "metadata": {},
   "outputs": [],
   "source": [
    "## !!!!!!temporary until database query works\n",
    "fish = io.load_data('../database/fish.csv', cols=['smiles', 'fish_LC50'])\n",
    "daphnia = io.load_data('../database/daphnia.csv', cols=['smiles', 'daphnia_EC50'])\n",
    "algea = io.load_data('../database/algea.csv', cols=['smiles', 'algea_EC50'])\n",
    "rat  = io.load_data('../database/rat.csv', cols=['smiles', 'rat_LD50'])\n",
    "ecoli  = io.load_data('../database/ecoli.csv', cols=['smiles', 'ecoli_MIC'])\n",
    "\n",
    "raw = reduce(\n",
    "    lambda x, y: pd.merge(x, y, how='outer', on = 'smiles'),\n",
    "    [fish, daphnia, algea, rat, ecoli]\n",
    ")\n",
    "multitask_names = [\n",
    "    'fish_LC50',\n",
    "    'daphnia_EC50',\n",
    "    'algea_EC50',\n",
    "    'rat_LD50',\n",
    "    'ecoli_MIC'\n",
    "]"
   ]
  },
  {
   "cell_type": "code",
   "execution_count": 3,
   "id": "d736b477-0548-467f-961e-7aa9783775f1",
   "metadata": {},
   "outputs": [
    {
     "data": {
      "text/html": [
       "<div>\n",
       "<style scoped>\n",
       "    .dataframe tbody tr th:only-of-type {\n",
       "        vertical-align: middle;\n",
       "    }\n",
       "\n",
       "    .dataframe tbody tr th {\n",
       "        vertical-align: top;\n",
       "    }\n",
       "\n",
       "    .dataframe thead th {\n",
       "        text-align: right;\n",
       "    }\n",
       "</style>\n",
       "<table border=\"1\" class=\"dataframe\">\n",
       "  <thead>\n",
       "    <tr style=\"text-align: right;\">\n",
       "      <th></th>\n",
       "      <th>fish_LC50</th>\n",
       "      <th>daphnia_EC50</th>\n",
       "      <th>algea_EC50</th>\n",
       "      <th>rat_LD50</th>\n",
       "      <th>ecoli_MIC</th>\n",
       "    </tr>\n",
       "  </thead>\n",
       "  <tbody>\n",
       "    <tr>\n",
       "      <th>count</th>\n",
       "      <td>2211.000000</td>\n",
       "      <td>2143.000000</td>\n",
       "      <td>1444.000000</td>\n",
       "      <td>7393.000000</td>\n",
       "      <td>5271.000000</td>\n",
       "    </tr>\n",
       "    <tr>\n",
       "      <th>mean</th>\n",
       "      <td>2.156074</td>\n",
       "      <td>1.523104</td>\n",
       "      <td>2.457666</td>\n",
       "      <td>-2.544144</td>\n",
       "      <td>2.840188</td>\n",
       "    </tr>\n",
       "    <tr>\n",
       "      <th>std</th>\n",
       "      <td>2.710465</td>\n",
       "      <td>2.795524</td>\n",
       "      <td>2.350359</td>\n",
       "      <td>0.958268</td>\n",
       "      <td>2.364505</td>\n",
       "    </tr>\n",
       "    <tr>\n",
       "      <th>min</th>\n",
       "      <td>-8.947976</td>\n",
       "      <td>-10.724468</td>\n",
       "      <td>-7.836625</td>\n",
       "      <td>-10.207000</td>\n",
       "      <td>-11.042922</td>\n",
       "    </tr>\n",
       "    <tr>\n",
       "      <th>25%</th>\n",
       "      <td>0.569557</td>\n",
       "      <td>0.066566</td>\n",
       "      <td>1.162368</td>\n",
       "      <td>-3.035000</td>\n",
       "      <td>1.832581</td>\n",
       "    </tr>\n",
       "    <tr>\n",
       "      <th>50%</th>\n",
       "      <td>2.225704</td>\n",
       "      <td>1.916923</td>\n",
       "      <td>2.708050</td>\n",
       "      <td>-2.367000</td>\n",
       "      <td>3.465736</td>\n",
       "    </tr>\n",
       "    <tr>\n",
       "      <th>75%</th>\n",
       "      <td>3.947383</td>\n",
       "      <td>3.502550</td>\n",
       "      <td>4.033795</td>\n",
       "      <td>-1.856000</td>\n",
       "      <td>4.158883</td>\n",
       "    </tr>\n",
       "    <tr>\n",
       "      <th>max</th>\n",
       "      <td>10.537415</td>\n",
       "      <td>10.126631</td>\n",
       "      <td>9.118225</td>\n",
       "      <td>0.343000</td>\n",
       "      <td>9.433484</td>\n",
       "    </tr>\n",
       "  </tbody>\n",
       "</table>\n",
       "</div>"
      ],
      "text/plain": [
       "         fish_LC50  daphnia_EC50   algea_EC50     rat_LD50    ecoli_MIC\n",
       "count  2211.000000   2143.000000  1444.000000  7393.000000  5271.000000\n",
       "mean      2.156074      1.523104     2.457666    -2.544144     2.840188\n",
       "std       2.710465      2.795524     2.350359     0.958268     2.364505\n",
       "min      -8.947976    -10.724468    -7.836625   -10.207000   -11.042922\n",
       "25%       0.569557      0.066566     1.162368    -3.035000     1.832581\n",
       "50%       2.225704      1.916923     2.708050    -2.367000     3.465736\n",
       "75%       3.947383      3.502550     4.033795    -1.856000     4.158883\n",
       "max      10.537415     10.126631     9.118225     0.343000     9.433484"
      ]
     },
     "execution_count": 3,
     "metadata": {},
     "output_type": "execute_result"
    }
   ],
   "source": [
    "raw.describe()"
   ]
  },
  {
   "cell_type": "markdown",
   "id": "2fad8f39-8faa-4e02-b29f-07cc738c3e79",
   "metadata": {},
   "source": [
    "Add features"
   ]
  },
  {
   "cell_type": "code",
   "execution_count": 4,
   "id": "acf1c55a-2233-4992-be78-e21ebdece98f",
   "metadata": {},
   "outputs": [],
   "source": [
    "data_f = feat.add_features(raw, method='RDKitDescriptors', codex='../database/compounds.csv')\n",
    "data_f = feat.add_features(data_f, method='ConvMolFeaturizer')"
   ]
  },
  {
   "cell_type": "markdown",
   "id": "6f32bb5d-6a60-4605-b39d-cfc5aa053e83",
   "metadata": {},
   "source": [
    "identify an independant algea test set by index"
   ]
  },
  {
   "cell_type": "code",
   "execution_count": 5,
   "id": "42a9f5ac-00a8-400f-bc54-3b1270b7ac8c",
   "metadata": {},
   "outputs": [],
   "source": [
    "algea_only = data_f[~data_f.isna()['algea_EC50']]\n",
    "algea_index = algea_only.index\n",
    "test_index = algea_only.sample(frac=.2, random_state=0).index\n",
    "baseline_index = algea_only.drop(index=test_index).index"
   ]
  },
  {
   "cell_type": "markdown",
   "id": "e0f31fb9-9200-4f32-8f60-32f34a827eb9",
   "metadata": {},
   "source": [
    "## Baseline model\n",
    "As a baseline we are using random forest regressor, which we know is capable for single tasks."
   ]
  },
  {
   "cell_type": "code",
   "execution_count": 6,
   "id": "57b0aa92-95ec-4234-a9b1-ac23ed0fe1d0",
   "metadata": {},
   "outputs": [],
   "source": [
    "# create the dataset\n",
    "baseline = dataprep.convert_to_dataset(\n",
    "    data_f,\n",
    "    X_col='RDKitDescriptors',\n",
    "    y_col=[\n",
    "        'algea_EC50'\n",
    "    ]\n",
    ").select(np.isin(data_f.index, algea_index))"
   ]
  },
  {
   "cell_type": "code",
   "execution_count": 7,
   "id": "60b7def6-96af-4651-8d50-cdefc17eb430",
   "metadata": {},
   "outputs": [],
   "source": [
    "# normalize it\n",
    "baseline_normed, baseline_transformations = dataprep.data_transformation(\n",
    "    baseline, transformations = ['NormalizationTransformer'],\n",
    "    to_transform = ['y']\n",
    ")\n",
    "# split out dev and test\n",
    "baseline_test = baseline_normed.select(np.isin(baseline_normed.ids, test_index))\n",
    "baseline_dev = baseline_normed.select(np.isin(baseline_normed.ids, baseline_index))"
   ]
  },
  {
   "cell_type": "markdown",
   "id": "dc7d26e8-8e6d-4db8-8d64-df51a870597d",
   "metadata": {},
   "source": [
    "retrieve hyperparmeter optimization for the single target RFR task"
   ]
  },
  {
   "cell_type": "code",
   "execution_count": 116,
   "id": "a0cbb172-1a93-4828-a6dd-47fed94a09ef",
   "metadata": {
    "tags": []
   },
   "outputs": [],
   "source": [
    "baseline_study = optuna.load_study(\n",
    "    study_name='opt',\n",
    "    storage=\"sqlite:///regression/baseline_r.db\"\n",
    ")"
   ]
  },
  {
   "cell_type": "code",
   "execution_count": 117,
   "id": "c1f7efdb-1982-44de-bded-53fb2b3e875b",
   "metadata": {},
   "outputs": [
    {
     "data": {
      "text/html": [
       "<div>\n",
       "<style scoped>\n",
       "    .dataframe tbody tr th:only-of-type {\n",
       "        vertical-align: middle;\n",
       "    }\n",
       "\n",
       "    .dataframe tbody tr th {\n",
       "        vertical-align: top;\n",
       "    }\n",
       "\n",
       "    .dataframe thead th {\n",
       "        text-align: right;\n",
       "    }\n",
       "</style>\n",
       "<table border=\"1\" class=\"dataframe\">\n",
       "  <thead>\n",
       "    <tr style=\"text-align: right;\">\n",
       "      <th></th>\n",
       "      <th>number</th>\n",
       "      <th>value</th>\n",
       "      <th>datetime_start</th>\n",
       "      <th>datetime_complete</th>\n",
       "      <th>duration</th>\n",
       "      <th>params_criterion</th>\n",
       "      <th>params_max_depth</th>\n",
       "      <th>params_max_features</th>\n",
       "      <th>params_min_samples_leaf</th>\n",
       "      <th>params_min_samples_split</th>\n",
       "      <th>params_n_estimators</th>\n",
       "      <th>state</th>\n",
       "    </tr>\n",
       "  </thead>\n",
       "  <tbody>\n",
       "    <tr>\n",
       "      <th>0</th>\n",
       "      <td>0</td>\n",
       "      <td>0.500253</td>\n",
       "      <td>2021-05-31 13:37:23.411071</td>\n",
       "      <td>2021-05-31 13:37:30.351528</td>\n",
       "      <td>0 days 00:00:06.940457</td>\n",
       "      <td>mse</td>\n",
       "      <td>45.0</td>\n",
       "      <td>sqrt</td>\n",
       "      <td>2</td>\n",
       "      <td>3</td>\n",
       "      <td>240</td>\n",
       "      <td>COMPLETE</td>\n",
       "    </tr>\n",
       "    <tr>\n",
       "      <th>1</th>\n",
       "      <td>1</td>\n",
       "      <td>0.460924</td>\n",
       "      <td>2021-05-31 13:37:23.422516</td>\n",
       "      <td>2021-05-31 13:37:29.048199</td>\n",
       "      <td>0 days 00:00:05.625683</td>\n",
       "      <td>mae</td>\n",
       "      <td>25.0</td>\n",
       "      <td>log2</td>\n",
       "      <td>4</td>\n",
       "      <td>10</td>\n",
       "      <td>45</td>\n",
       "      <td>COMPLETE</td>\n",
       "    </tr>\n",
       "    <tr>\n",
       "      <th>2</th>\n",
       "      <td>2</td>\n",
       "      <td>0.456827</td>\n",
       "      <td>2021-05-31 13:37:23.423541</td>\n",
       "      <td>2021-05-31 13:37:29.626895</td>\n",
       "      <td>0 days 00:00:06.203354</td>\n",
       "      <td>mae</td>\n",
       "      <td>10.0</td>\n",
       "      <td>sqrt</td>\n",
       "      <td>6</td>\n",
       "      <td>9</td>\n",
       "      <td>45</td>\n",
       "      <td>COMPLETE</td>\n",
       "    </tr>\n",
       "    <tr>\n",
       "      <th>3</th>\n",
       "      <td>3</td>\n",
       "      <td>0.442814</td>\n",
       "      <td>2021-05-31 13:37:23.421895</td>\n",
       "      <td>2021-05-31 13:37:26.154383</td>\n",
       "      <td>0 days 00:00:02.732488</td>\n",
       "      <td>mse</td>\n",
       "      <td>25.0</td>\n",
       "      <td>log2</td>\n",
       "      <td>8</td>\n",
       "      <td>9</td>\n",
       "      <td>115</td>\n",
       "      <td>COMPLETE</td>\n",
       "    </tr>\n",
       "    <tr>\n",
       "      <th>4</th>\n",
       "      <td>4</td>\n",
       "      <td>0.469300</td>\n",
       "      <td>2021-05-31 13:37:23.419832</td>\n",
       "      <td>2021-05-31 13:37:28.476418</td>\n",
       "      <td>0 days 00:00:05.056586</td>\n",
       "      <td>mse</td>\n",
       "      <td>NaN</td>\n",
       "      <td>sqrt</td>\n",
       "      <td>5</td>\n",
       "      <td>2</td>\n",
       "      <td>240</td>\n",
       "      <td>COMPLETE</td>\n",
       "    </tr>\n",
       "    <tr>\n",
       "      <th>...</th>\n",
       "      <td>...</td>\n",
       "      <td>...</td>\n",
       "      <td>...</td>\n",
       "      <td>...</td>\n",
       "      <td>...</td>\n",
       "      <td>...</td>\n",
       "      <td>...</td>\n",
       "      <td>...</td>\n",
       "      <td>...</td>\n",
       "      <td>...</td>\n",
       "      <td>...</td>\n",
       "      <td>...</td>\n",
       "    </tr>\n",
       "    <tr>\n",
       "      <th>275</th>\n",
       "      <td>275</td>\n",
       "      <td>0.502344</td>\n",
       "      <td>2021-05-31 13:53:52.347262</td>\n",
       "      <td>2021-05-31 13:54:31.631919</td>\n",
       "      <td>0 days 00:00:39.284657</td>\n",
       "      <td>mse</td>\n",
       "      <td>25.0</td>\n",
       "      <td>auto</td>\n",
       "      <td>1</td>\n",
       "      <td>3</td>\n",
       "      <td>235</td>\n",
       "      <td>COMPLETE</td>\n",
       "    </tr>\n",
       "    <tr>\n",
       "      <th>276</th>\n",
       "      <td>276</td>\n",
       "      <td>0.513555</td>\n",
       "      <td>2021-05-31 13:54:01.507108</td>\n",
       "      <td>2021-05-31 13:54:35.183699</td>\n",
       "      <td>0 days 00:00:33.676591</td>\n",
       "      <td>mse</td>\n",
       "      <td>25.0</td>\n",
       "      <td>auto</td>\n",
       "      <td>1</td>\n",
       "      <td>3</td>\n",
       "      <td>220</td>\n",
       "      <td>COMPLETE</td>\n",
       "    </tr>\n",
       "    <tr>\n",
       "      <th>277</th>\n",
       "      <td>277</td>\n",
       "      <td>0.507484</td>\n",
       "      <td>2021-05-31 13:54:08.009641</td>\n",
       "      <td>2021-05-31 13:54:40.931743</td>\n",
       "      <td>0 days 00:00:32.922102</td>\n",
       "      <td>mse</td>\n",
       "      <td>25.0</td>\n",
       "      <td>auto</td>\n",
       "      <td>1</td>\n",
       "      <td>3</td>\n",
       "      <td>215</td>\n",
       "      <td>COMPLETE</td>\n",
       "    </tr>\n",
       "    <tr>\n",
       "      <th>278</th>\n",
       "      <td>278</td>\n",
       "      <td>0.512268</td>\n",
       "      <td>2021-05-31 13:54:11.530253</td>\n",
       "      <td>2021-05-31 13:54:51.621045</td>\n",
       "      <td>0 days 00:00:40.090792</td>\n",
       "      <td>mse</td>\n",
       "      <td>NaN</td>\n",
       "      <td>auto</td>\n",
       "      <td>1</td>\n",
       "      <td>3</td>\n",
       "      <td>265</td>\n",
       "      <td>COMPLETE</td>\n",
       "    </tr>\n",
       "    <tr>\n",
       "      <th>279</th>\n",
       "      <td>279</td>\n",
       "      <td>0.522480</td>\n",
       "      <td>2021-05-31 13:54:35.281435</td>\n",
       "      <td>2021-05-31 13:55:07.292551</td>\n",
       "      <td>0 days 00:00:32.011116</td>\n",
       "      <td>mse</td>\n",
       "      <td>NaN</td>\n",
       "      <td>auto</td>\n",
       "      <td>1</td>\n",
       "      <td>4</td>\n",
       "      <td>225</td>\n",
       "      <td>COMPLETE</td>\n",
       "    </tr>\n",
       "  </tbody>\n",
       "</table>\n",
       "<p>280 rows × 12 columns</p>\n",
       "</div>"
      ],
      "text/plain": [
       "     number     value             datetime_start          datetime_complete  \\\n",
       "0         0  0.500253 2021-05-31 13:37:23.411071 2021-05-31 13:37:30.351528   \n",
       "1         1  0.460924 2021-05-31 13:37:23.422516 2021-05-31 13:37:29.048199   \n",
       "2         2  0.456827 2021-05-31 13:37:23.423541 2021-05-31 13:37:29.626895   \n",
       "3         3  0.442814 2021-05-31 13:37:23.421895 2021-05-31 13:37:26.154383   \n",
       "4         4  0.469300 2021-05-31 13:37:23.419832 2021-05-31 13:37:28.476418   \n",
       "..      ...       ...                        ...                        ...   \n",
       "275     275  0.502344 2021-05-31 13:53:52.347262 2021-05-31 13:54:31.631919   \n",
       "276     276  0.513555 2021-05-31 13:54:01.507108 2021-05-31 13:54:35.183699   \n",
       "277     277  0.507484 2021-05-31 13:54:08.009641 2021-05-31 13:54:40.931743   \n",
       "278     278  0.512268 2021-05-31 13:54:11.530253 2021-05-31 13:54:51.621045   \n",
       "279     279  0.522480 2021-05-31 13:54:35.281435 2021-05-31 13:55:07.292551   \n",
       "\n",
       "                  duration params_criterion  params_max_depth  \\\n",
       "0   0 days 00:00:06.940457              mse              45.0   \n",
       "1   0 days 00:00:05.625683              mae              25.0   \n",
       "2   0 days 00:00:06.203354              mae              10.0   \n",
       "3   0 days 00:00:02.732488              mse              25.0   \n",
       "4   0 days 00:00:05.056586              mse               NaN   \n",
       "..                     ...              ...               ...   \n",
       "275 0 days 00:00:39.284657              mse              25.0   \n",
       "276 0 days 00:00:33.676591              mse              25.0   \n",
       "277 0 days 00:00:32.922102              mse              25.0   \n",
       "278 0 days 00:00:40.090792              mse               NaN   \n",
       "279 0 days 00:00:32.011116              mse               NaN   \n",
       "\n",
       "    params_max_features  params_min_samples_leaf  params_min_samples_split  \\\n",
       "0                  sqrt                        2                         3   \n",
       "1                  log2                        4                        10   \n",
       "2                  sqrt                        6                         9   \n",
       "3                  log2                        8                         9   \n",
       "4                  sqrt                        5                         2   \n",
       "..                  ...                      ...                       ...   \n",
       "275                auto                        1                         3   \n",
       "276                auto                        1                         3   \n",
       "277                auto                        1                         3   \n",
       "278                auto                        1                         3   \n",
       "279                auto                        1                         4   \n",
       "\n",
       "     params_n_estimators     state  \n",
       "0                    240  COMPLETE  \n",
       "1                     45  COMPLETE  \n",
       "2                     45  COMPLETE  \n",
       "3                    115  COMPLETE  \n",
       "4                    240  COMPLETE  \n",
       "..                   ...       ...  \n",
       "275                  235  COMPLETE  \n",
       "276                  220  COMPLETE  \n",
       "277                  215  COMPLETE  \n",
       "278                  265  COMPLETE  \n",
       "279                  225  COMPLETE  \n",
       "\n",
       "[280 rows x 12 columns]"
      ]
     },
     "execution_count": 117,
     "metadata": {},
     "output_type": "execute_result"
    }
   ],
   "source": [
    "baseline_results = baseline_study.trials_dataframe()\n",
    "baseline_results"
   ]
  },
  {
   "cell_type": "code",
   "execution_count": 118,
   "id": "2cf87049-80d1-4987-9d54-416534e861f2",
   "metadata": {},
   "outputs": [],
   "source": [
    "baseline_params = baseline_study.best_params"
   ]
  },
  {
   "cell_type": "code",
   "execution_count": 119,
   "id": "26d450d7-1626-4100-becc-9ee7060dbad4",
   "metadata": {},
   "outputs": [
    {
     "data": {
      "text/plain": [
       "{'criterion': 'mse',\n",
       " 'max_depth': 30,\n",
       " 'max_features': 'auto',\n",
       " 'min_samples_leaf': 2,\n",
       " 'min_samples_split': 10,\n",
       " 'n_estimators': 295}"
      ]
     },
     "execution_count": 119,
     "metadata": {},
     "output_type": "execute_result"
    }
   ],
   "source": [
    "baseline_params"
   ]
  },
  {
   "cell_type": "code",
   "execution_count": 120,
   "id": "f97015c1-85cb-49ff-b76e-0f78342be035",
   "metadata": {},
   "outputs": [
    {
     "data": {
      "text/plain": [
       "0.5239161864231404"
      ]
     },
     "execution_count": 120,
     "metadata": {},
     "output_type": "execute_result"
    }
   ],
   "source": [
    "baseline_study.best_value"
   ]
  },
  {
   "cell_type": "markdown",
   "id": "d2d26a16-ff49-433c-b0f8-c9c5b7bf8f02",
   "metadata": {},
   "source": [
    "Train the baseline model with the best found hyperparameters"
   ]
  },
  {
   "cell_type": "code",
   "execution_count": 11,
   "id": "b54f466b-f570-4113-839a-cc6f45311653",
   "metadata": {},
   "outputs": [
    {
     "name": "stdout",
     "output_type": "stream",
     "text": [
      "WARNING: No tasks passed, assuming one target\n"
     ]
    }
   ],
   "source": [
    "baseline_model = ToxModel('RFR', **baseline_params, transformers=baseline_transformations)"
   ]
  },
  {
   "cell_type": "code",
   "execution_count": 12,
   "id": "179b0648-3f58-438a-8856-5d66ce955f62",
   "metadata": {},
   "outputs": [],
   "source": [
    "baseline_model.fit(baseline_dev)"
   ]
  },
  {
   "cell_type": "code",
   "execution_count": 13,
   "id": "ce79b6ec-bf7b-42ae-aa1f-fb0c18da2d23",
   "metadata": {},
   "outputs": [
    {
     "data": {
      "text/plain": [
       "{'metric-1': 0.47476547216653187, 'metric-2': 3.1036000934245056}"
      ]
     },
     "execution_count": 13,
     "metadata": {},
     "output_type": "execute_result"
    }
   ],
   "source": [
    "baseline_model.evaluate(baseline_test, ['r2_score', 'mean_squared_error'], untransform=True)"
   ]
  },
  {
   "cell_type": "code",
   "execution_count": 14,
   "id": "16eddb96-37be-4d43-9ca9-1eda5a44ad7f",
   "metadata": {},
   "outputs": [
    {
     "name": "stdout",
     "output_type": "stream",
     "text": [
      "(289, 1)\n"
     ]
    },
    {
     "data": {
      "text/html": [
       "\n",
       "<div id=\"altair-viz-b71bff3d72da4718bfd60aeb311f3f3b\"></div>\n",
       "<script type=\"text/javascript\">\n",
       "  (function(spec, embedOpt){\n",
       "    let outputDiv = document.currentScript.previousElementSibling;\n",
       "    if (outputDiv.id !== \"altair-viz-b71bff3d72da4718bfd60aeb311f3f3b\") {\n",
       "      outputDiv = document.getElementById(\"altair-viz-b71bff3d72da4718bfd60aeb311f3f3b\");\n",
       "    }\n",
       "    const paths = {\n",
       "      \"vega\": \"https://cdn.jsdelivr.net/npm//vega@5?noext\",\n",
       "      \"vega-lib\": \"https://cdn.jsdelivr.net/npm//vega-lib?noext\",\n",
       "      \"vega-lite\": \"https://cdn.jsdelivr.net/npm//vega-lite@4.8.1?noext\",\n",
       "      \"vega-embed\": \"https://cdn.jsdelivr.net/npm//vega-embed@6?noext\",\n",
       "    };\n",
       "\n",
       "    function loadScript(lib) {\n",
       "      return new Promise(function(resolve, reject) {\n",
       "        var s = document.createElement('script');\n",
       "        s.src = paths[lib];\n",
       "        s.async = true;\n",
       "        s.onload = () => resolve(paths[lib]);\n",
       "        s.onerror = () => reject(`Error loading script: ${paths[lib]}`);\n",
       "        document.getElementsByTagName(\"head\")[0].appendChild(s);\n",
       "      });\n",
       "    }\n",
       "\n",
       "    function showError(err) {\n",
       "      outputDiv.innerHTML = `<div class=\"error\" style=\"color:red;\">${err}</div>`;\n",
       "      throw err;\n",
       "    }\n",
       "\n",
       "    function displayChart(vegaEmbed) {\n",
       "      vegaEmbed(outputDiv, spec, embedOpt)\n",
       "        .catch(err => showError(`Javascript Error: ${err.message}<br>This usually means there's a typo in your chart specification. See the javascript console for the full traceback.`));\n",
       "    }\n",
       "\n",
       "    if(typeof define === \"function\" && define.amd) {\n",
       "      requirejs.config({paths});\n",
       "      require([\"vega-embed\"], displayChart, err => showError(`Error loading script: ${err.message}`));\n",
       "    } else if (typeof vegaEmbed === \"function\") {\n",
       "      displayChart(vegaEmbed);\n",
       "    } else {\n",
       "      loadScript(\"vega\")\n",
       "        .then(() => loadScript(\"vega-lite\"))\n",
       "        .then(() => loadScript(\"vega-embed\"))\n",
       "        .catch(showError)\n",
       "        .then(() => displayChart(vegaEmbed));\n",
       "    }\n",
       "  })({\"config\": {\"view\": {\"continuousWidth\": 400, \"continuousHeight\": 300}}, \"layer\": [{\"mark\": \"point\", \"encoding\": {\"x\": {\"type\": \"quantitative\", \"field\": \"target: true\", \"scale\": {\"zero\": false}}, \"y\": {\"type\": \"quantitative\", \"field\": \"target: predicted\", \"scale\": {\"zero\": false}}}}, {\"mark\": \"line\", \"encoding\": {\"x\": {\"type\": \"quantitative\", \"field\": \"target: true\", \"scale\": {\"zero\": false}}, \"y\": {\"type\": \"quantitative\", \"field\": \"target: predicted\", \"scale\": {\"zero\": false}}}, \"transform\": [{\"on\": \"target: true\", \"regression\": \"target: predicted\"}]}, {\"data\": {\"name\": \"data-8360206ef0eb82764d1b40353d07c277\"}, \"mark\": {\"type\": \"line\", \"color\": \"black\"}, \"encoding\": {\"x\": {\"type\": \"quantitative\", \"field\": \"target: true\"}, \"y\": {\"type\": \"quantitative\", \"field\": \"target: predicted\"}}}], \"data\": {\"name\": \"data-b5c1b2ebffc6e1d75dbfb441a35f306c\"}, \"$schema\": \"https://vega.github.io/schema/vega-lite/v4.8.1.json\", \"datasets\": {\"data-b5c1b2ebffc6e1d75dbfb441a35f306c\": [{\"target: true\": 0.8754687373538999, \"target: predicted\": 1.6773101743619976}, {\"target: true\": 3.2557861788882985, \"target: predicted\": 4.186031280630804}, {\"target: true\": -1.220779922642317, \"target: predicted\": -1.0412305939466662}, {\"target: true\": 2.4849066497880004, \"target: predicted\": 2.2626375074309797}, {\"target: true\": 2.021547563260933, \"target: predicted\": 2.098988918849487}, {\"target: true\": 3.6635616461296463, \"target: predicted\": 4.24523250276334}, {\"target: true\": -0.21072103131565267, \"target: predicted\": 0.9727708709239313}, {\"target: true\": 0.8754687373538999, \"target: predicted\": 3.508623219591546}, {\"target: true\": 2.302585092994046, \"target: predicted\": 3.4449677464050965}, {\"target: true\": 0.47062843401457766, \"target: predicted\": 2.5564290484687118}, {\"target: true\": 1.8164520818184269, \"target: predicted\": 2.1401893227209206}, {\"target: true\": 3.2148678034706624, \"target: predicted\": 2.69332951272837}, {\"target: true\": 1.5260563034950492, \"target: predicted\": 3.6361971531685615}, {\"target: true\": -3.863232841258714, \"target: predicted\": -0.20089741213824341}, {\"target: true\": 0.8241754429663493, \"target: predicted\": 1.7698229853132388}, {\"target: true\": 2.9444389791664403, \"target: predicted\": 3.2051056875992097}, {\"target: true\": 6.908397072988297, \"target: predicted\": 5.300323120648784}, {\"target: true\": 4.421487703554795, \"target: predicted\": 4.114467644040273}, {\"target: true\": 6.131887140770233, \"target: predicted\": 3.5752694049029485}, {\"target: true\": 5.700443573390688, \"target: predicted\": 4.418163337648879}, {\"target: true\": 3.218875824868201, \"target: predicted\": 3.4460496556709224}, {\"target: true\": 2.1804174590198384, \"target: predicted\": 2.990699652729154}, {\"target: true\": 1.5686159179138457, \"target: predicted\": 4.5237205613819675}, {\"target: true\": -0.29437106060257756, \"target: predicted\": 1.737014511007785}, {\"target: true\": 0.8544153281560676, \"target: predicted\": 1.3932118961105724}, {\"target: true\": 0.33647223662121295, \"target: predicted\": 0.6292038966523208}, {\"target: true\": -0.3681693233644667, \"target: predicted\": 0.15277430784109836}, {\"target: true\": 0.6931471805599454, \"target: predicted\": 0.15012173494584413}, {\"target: true\": 0.9162907318741553, \"target: predicted\": 0.9739048128935639}, {\"target: true\": 4.378269585796169, \"target: predicted\": 2.8647027789203516}, {\"target: true\": 8.766914796271609, \"target: predicted\": 5.726439809048497}, {\"target: true\": 2.066862759472976, \"target: predicted\": 0.5502809409263263}, {\"target: true\": 2.4849066497880004, \"target: predicted\": 2.4603576676448493}, {\"target: true\": 2.9957322735539917, \"target: predicted\": 2.3931181371962307}, {\"target: true\": 0.029558802241544502, \"target: predicted\": 1.2562480809865735}, {\"target: true\": 4.941642422609304, \"target: predicted\": 4.85062685269163}, {\"target: true\": 3.2068032436339315, \"target: predicted\": 2.7574570654217774}, {\"target: true\": 0.9932517730102834, \"target: predicted\": -0.013173247852027892}, {\"target: true\": 0.5596157879354227, \"target: predicted\": 1.8470272613762677}, {\"target: true\": 2.458733775483977, \"target: predicted\": 3.2091072530533147}, {\"target: true\": 1.3217558399823195, \"target: predicted\": 2.05000190094764}, {\"target: true\": -2.5383074265151158, \"target: predicted\": 1.1781166759786852}, {\"target: true\": 1.4350845252893227, \"target: predicted\": 1.538739544653886}, {\"target: true\": 0.5306282510621703, \"target: predicted\": -0.21305997982098823}, {\"target: true\": 3.5263605246161616, \"target: predicted\": 1.1650390936232373}, {\"target: true\": -2.1541650878757728, \"target: predicted\": 1.5686811409623114}, {\"target: true\": 2.4849066497880004, \"target: predicted\": 2.2997563248286625}, {\"target: true\": 3.5263605246161616, \"target: predicted\": 4.431760769971844}, {\"target: true\": 6.413458957167357, \"target: predicted\": 4.4448876420334855}, {\"target: true\": 1.6639260977181702, \"target: predicted\": 1.672662215602159}, {\"target: true\": 0.40613155265132495, \"target: predicted\": 0.3925669142706152}, {\"target: true\": 3.0204248861443626, \"target: predicted\": 3.2477542391742658}, {\"target: true\": 3.8712010109078916, \"target: predicted\": 3.2015608138025975}, {\"target: true\": 2.776331708518616, \"target: predicted\": 3.412934935453082}, {\"target: true\": 2.0014800002101243, \"target: predicted\": 2.6062902383241977}, {\"target: true\": 1.5040773967762742, \"target: predicted\": 1.9712518174146012}, {\"target: true\": -0.3243460568233725, \"target: predicted\": 1.7960922527511116}, {\"target: true\": -2.5902671654458262, \"target: predicted\": -1.8857184694357456}, {\"target: true\": -5.4943322504739935, \"target: predicted\": -2.0371628782727487}, {\"target: true\": -0.6931471805599458, \"target: predicted\": -1.0768686459929242}, {\"target: true\": 2.9444389791664403, \"target: predicted\": 2.9118228063064793}, {\"target: true\": -2.659260036932778, \"target: predicted\": -0.7446974658787728}, {\"target: true\": 2.4849066497880004, \"target: predicted\": 3.4001833207766734}, {\"target: true\": 2.6390573296152584, \"target: predicted\": 1.7139871999108758}, {\"target: true\": 1.7119945007591926, \"target: predicted\": 1.440532833095002}, {\"target: true\": 6.434546518787452, \"target: predicted\": 4.899191413306651}, {\"target: true\": 4.110873864173311, \"target: predicted\": 2.1512331736693477}, {\"target: true\": -5.991464547107983, \"target: predicted\": 1.3172324167506573}, {\"target: true\": 1.9300710850255671, \"target: predicted\": 3.349845941461708}, {\"target: true\": 2.772588722239781, \"target: predicted\": 3.1174201282514096}, {\"target: true\": 4.030339232246188, \"target: predicted\": 2.5091892427990783}, {\"target: true\": 5.0106352940962555, \"target: predicted\": 4.100940184413276}, {\"target: true\": 4.276666119016055, \"target: predicted\": 2.4551225773492433}, {\"target: true\": 2.7080502011022096, \"target: predicted\": 2.9631299780379585}, {\"target: true\": -3.912023005428147, \"target: predicted\": 0.5928510977282575}, {\"target: true\": 5.132522488751033, \"target: predicted\": 3.9952172734817077}, {\"target: true\": 2.028148247292285, \"target: predicted\": 2.1416713630369144}, {\"target: true\": 3.1822118404966093, \"target: predicted\": 3.613872348584044}, {\"target: true\": -2.040220828526555, \"target: predicted\": 0.24096205765898082}, {\"target: true\": 4.154184562578116, \"target: predicted\": 2.9330668505656825}, {\"target: true\": -1.5606477482646688, \"target: predicted\": 1.9187058172940397}, {\"target: true\": -3.4769990950784373, \"target: predicted\": 0.5741449080714764}, {\"target: true\": 3.6109179126442235, \"target: predicted\": 3.496229639374971}, {\"target: true\": 0.40546510810816416, \"target: predicted\": 3.197927092855572}, {\"target: true\": 4.272490747605575, \"target: predicted\": 2.397120184104254}, {\"target: true\": 3.58351893845611, \"target: predicted\": 3.3817122883160637}, {\"target: true\": 3.0445224377234235, \"target: predicted\": 3.466383952888094}, {\"target: true\": 2.9391619220655967, \"target: predicted\": 2.30455255228923}, {\"target: true\": 2.6741486494265287, \"target: predicted\": 2.965208737717094}, {\"target: true\": 4.043051267834549, \"target: predicted\": 2.905706424115637}, {\"target: true\": -1.0996127890016933, \"target: predicted\": 1.458012108124695}, {\"target: true\": 0.9932517730102834, \"target: predicted\": 0.4622426618208284}, {\"target: true\": 2.066862759472976, \"target: predicted\": 2.7704972274354924}, {\"target: true\": 3.2386784521643803, \"target: predicted\": 2.873993412007604}, {\"target: true\": 3.4216533902295376, \"target: predicted\": 2.2143702036499904}, {\"target: true\": 1.423108334242607, \"target: predicted\": 0.5828082962382297}, {\"target: true\": 0.33647223662121295, \"target: predicted\": 0.7207868158272488}, {\"target: true\": 2.151762203259462, \"target: predicted\": 3.4345464463365225}, {\"target: true\": 1.5789787049493915, \"target: predicted\": 3.778845653753627}, {\"target: true\": -0.2744368457017603, \"target: predicted\": 0.04589628654988687}, {\"target: true\": 0.4382549309311554, \"target: predicted\": 0.39734193623225567}, {\"target: true\": 1.4929040961781486, \"target: predicted\": 0.039808108455509306}, {\"target: true\": 1.0116009116784799, \"target: predicted\": 2.087680646412207}, {\"target: true\": 2.0541237336955462, \"target: predicted\": 1.6964841898557756}, {\"target: true\": 4.062165663857866, \"target: predicted\": 4.309354278512326}, {\"target: true\": 3.258096538021482, \"target: predicted\": 3.6956037661992482}, {\"target: true\": 4.143134726391533, \"target: predicted\": 3.5555834157538873}, {\"target: true\": 4.314323110193153, \"target: predicted\": 3.5725700379725116}, {\"target: true\": 1.673351238177753, \"target: predicted\": 2.5055839262192343}, {\"target: true\": 1.9021075263969205, \"target: predicted\": 1.6426060796199566}, {\"target: true\": 2.9444389791664403, \"target: predicted\": 2.959425963637134}, {\"target: true\": 0.18232155679395445, \"target: predicted\": -1.1072493469497533}, {\"target: true\": 2.4849066497880004, \"target: predicted\": 1.8898411611974804}, {\"target: true\": -0.9675840262617057, \"target: predicted\": 1.6345971108092952}, {\"target: true\": 3.971234865059992, \"target: predicted\": 4.3132964190762575}, {\"target: true\": 0.5007752879124892, \"target: predicted\": 2.512500933529839}, {\"target: true\": 4.465908118654584, \"target: predicted\": 3.8435056194045654}, {\"target: true\": 1.4350845252893227, \"target: predicted\": 3.220493478439157}, {\"target: true\": 0.8285518175661482, \"target: predicted\": 1.8182094721865534}, {\"target: true\": 3.4028626609812167, \"target: predicted\": 3.5047317237399027}, {\"target: true\": 2.9444389791664403, \"target: predicted\": 3.9461940008888003}, {\"target: true\": 0.8960880245566356, \"target: predicted\": 0.8748839120214358}, {\"target: true\": 1.90210752639692, \"target: predicted\": 1.586981395568058}, {\"target: true\": 3.8501476017100575, \"target: predicted\": 3.5654564987648447}, {\"target: true\": 3.1780538303479458, \"target: predicted\": 2.2217063712685823}, {\"target: true\": 4.215086179918228, \"target: predicted\": 3.447152662839207}, {\"target: true\": 2.628285232633348, \"target: predicted\": 2.586962887550308}, {\"target: true\": 3.5263605246161616, \"target: predicted\": 3.4060311655994635}, {\"target: true\": 2.4849066497880004, \"target: predicted\": 4.16218868101101}, {\"target: true\": 5.303304908059076, \"target: predicted\": 2.4918327970368366}, {\"target: true\": 4.168988105217867, \"target: predicted\": 2.32848591181181}, {\"target: true\": 4.1206618705394735, \"target: predicted\": 2.8998222563274654}, {\"target: true\": 3.0910424533583165, \"target: predicted\": 2.4177891079847824}, {\"target: true\": -0.41551544396166573, \"target: predicted\": -1.0138595251174949}, {\"target: true\": 1.824549292051046, \"target: predicted\": 2.3549392482131046}, {\"target: true\": 1.2817668317659563, \"target: predicted\": 0.7190357415164583}, {\"target: true\": -1.4916548767777171, \"target: predicted\": 2.9143205265542376}, {\"target: true\": 4.6913478822291435, \"target: predicted\": 3.895999201304895}, {\"target: true\": -0.6931471805599458, \"target: predicted\": 1.0722239344630575}, {\"target: true\": -0.5191938734365071, \"target: predicted\": 1.4885013530244018}, {\"target: true\": -0.9416085398584451, \"target: predicted\": 0.6542990355342422}, {\"target: true\": 1.8802281172156632, \"target: predicted\": 1.1451097736803664}, {\"target: true\": 1.6695918352538477, \"target: predicted\": -1.8509083122001013}, {\"target: true\": 5.204006687076795, \"target: predicted\": 4.042224047485305}, {\"target: true\": 6.84645736805745, \"target: predicted\": 3.489014430387065}, {\"target: true\": 3.688879454113936, \"target: predicted\": 3.6516560556422846}, {\"target: true\": 2.827313621929028, \"target: predicted\": 1.9383004825425085}, {\"target: true\": 6.908465027051378, \"target: predicted\": 2.2117422674016396}, {\"target: true\": -0.867500567704723, \"target: predicted\": 1.181378785103392}, {\"target: true\": 2.1882959465919183, \"target: predicted\": 2.1005975119535365}, {\"target: true\": 1.0647107369924285, \"target: predicted\": 0.9033454981904143}, {\"target: true\": 2.6741486494265287, \"target: predicted\": 1.2703053877215207}, {\"target: true\": 1.7393251732685229, \"target: predicted\": 0.5637633559062785}, {\"target: true\": 1.8702625307159984, \"target: predicted\": 1.4809143947892145}, {\"target: true\": 4.8865826454262775, \"target: predicted\": 1.3119640146071643}, {\"target: true\": 3.255207754115592, \"target: predicted\": 3.395529601237916}, {\"target: true\": 2.3513752571634776, \"target: predicted\": 2.8997841971025}, {\"target: true\": 2.4849066497880004, \"target: predicted\": 1.724934362302243}, {\"target: true\": 4.219507705176107, \"target: predicted\": 2.876024155937713}, {\"target: true\": 3.4210000089583352, \"target: predicted\": 3.4323707983890186}, {\"target: true\": 1.5432981099295553, \"target: predicted\": 3.203869180227995}, {\"target: true\": -0.18632957819149354, \"target: predicted\": 2.507947662818788}, {\"target: true\": 1.8251942453142924, \"target: predicted\": 0.794543211598224}, {\"target: true\": 3.125443880075648, \"target: predicted\": 2.0404133211476214}, {\"target: true\": -0.8989420935395418, \"target: predicted\": -0.7963700494255397}, {\"target: true\": -4.615220521841593, \"target: predicted\": -1.9942059988692669}, {\"target: true\": -2.1803674602697964, \"target: predicted\": 0.5628272577008895}, {\"target: true\": 5.310739886546594, \"target: predicted\": -1.3597635209207826}, {\"target: true\": 2.772588722239781, \"target: predicted\": 3.122000122199582}, {\"target: true\": 2.1282317058492684, \"target: predicted\": 2.433497786551871}, {\"target: true\": 4.176538799848087, \"target: predicted\": 1.9654004170770365}, {\"target: true\": -0.6443570163905132, \"target: predicted\": 1.7020132284895193}, {\"target: true\": 4.316153890523174, \"target: predicted\": 3.429604249177841}, {\"target: true\": 3.1570004211501135, \"target: predicted\": 3.970358242452793}, {\"target: true\": 0.6931471805599454, \"target: predicted\": 1.8708938079068242}, {\"target: true\": 3.258096538021482, \"target: predicted\": 2.0958322777596914}, {\"target: true\": 3.3068867021909143, \"target: predicted\": 3.952902526452503}, {\"target: true\": 2.3978952727983707, \"target: predicted\": 1.772923975282385}, {\"target: true\": 5.808142489980444, \"target: predicted\": 2.906136350252811}, {\"target: true\": 3.713572066704309, \"target: predicted\": 3.3551978026252396}, {\"target: true\": -1.0498221244986778, \"target: predicted\": -0.05250030454562937}, {\"target: true\": 1.6486586255873816, \"target: predicted\": 0.029851547535952427}, {\"target: true\": 5.135798437050261, \"target: predicted\": 4.446383497437342}, {\"target: true\": 2.046401687601636, \"target: predicted\": 2.3566713262219117}, {\"target: true\": -1.0216512475319814, \"target: predicted\": 2.9986916689509724}, {\"target: true\": 2.8903717578961645, \"target: predicted\": 1.8951393598891282}, {\"target: true\": 1.3660916538023706, \"target: predicted\": 1.8556627966156303}, {\"target: true\": 3.0445224377234235, \"target: predicted\": 1.833685390835436}, {\"target: true\": 2.9806186357439426, \"target: predicted\": 3.0436135055853244}, {\"target: true\": 2.3978952727983707, \"target: predicted\": 3.4947633894416903}, {\"target: true\": 4.606279570393589, \"target: predicted\": 4.260476465654127}, {\"target: true\": 2.9338568698359038, \"target: predicted\": 1.4200754007815501}, {\"target: true\": 2.050270164379556, \"target: predicted\": 0.6879899909738123}, {\"target: true\": 0.8754687373538999, \"target: predicted\": 0.4673912061945056}, {\"target: true\": 3.0204248861443626, \"target: predicted\": 4.158272247920158}, {\"target: true\": 0.4700036292457357, \"target: predicted\": 3.8086577630124387}, {\"target: true\": 2.8507065015037334, \"target: predicted\": 4.221158281779793}, {\"target: true\": 1.791759469228055, \"target: predicted\": 3.5935628005465463}, {\"target: true\": 4.244200317766478, \"target: predicted\": 3.1971551665071107}, {\"target: true\": -4.219907785197448, \"target: predicted\": -0.07878700028944419}, {\"target: true\": 3.817712325956905, \"target: predicted\": 2.963681044926127}, {\"target: true\": 4.02535169073515, \"target: predicted\": 3.2579027349838263}, {\"target: true\": 2.2793164660546914, \"target: predicted\": 1.1983768407920363}, {\"target: true\": 3.4610373820181723, \"target: predicted\": 3.3353266766383984}, {\"target: true\": 4.469350462845557, \"target: predicted\": 3.7332883506809944}, {\"target: true\": -0.843970070294529, \"target: predicted\": 2.654959154870017}, {\"target: true\": 1.9600947840472696, \"target: predicted\": 1.8293776339544658}, {\"target: true\": 3.288401887516811, \"target: predicted\": 4.039711176153875}, {\"target: true\": 4.477336814478207, \"target: predicted\": 3.9455537062916846}, {\"target: true\": 4.279440045898782, \"target: predicted\": 4.064285473723473}, {\"target: true\": 3.7405226872657744, \"target: predicted\": 3.3977936473018744}, {\"target: true\": 1.8548907506681451, \"target: predicted\": 1.2522061737306691}, {\"target: true\": 3.517497837358316, \"target: predicted\": 1.663506831294417}, {\"target: true\": 6.908363094225022, \"target: predicted\": 4.6116510978511664}, {\"target: true\": 1.873339456220478, \"target: predicted\": 2.501631790409997}, {\"target: true\": 1.9021075263969205, \"target: predicted\": 1.4863751921399482}, {\"target: true\": 1.791759469228055, \"target: predicted\": 1.9866159320178998}, {\"target: true\": 3.80666248977032, \"target: predicted\": 3.95729049839919}, {\"target: true\": 4.836281906951479, \"target: predicted\": 4.5455959874668945}, {\"target: true\": 3.1780538303479458, \"target: predicted\": 3.674928458498802}, {\"target: true\": 4.700480365792417, \"target: predicted\": 4.5271101339790665}, {\"target: true\": 3.0910424533583165, \"target: predicted\": 2.9751156293395535}, {\"target: true\": 5.9532433342877855, \"target: predicted\": 4.324445121780718}, {\"target: true\": -0.3051673867928004, \"target: predicted\": 3.736301502026355}, {\"target: true\": 1.4816045409242156, \"target: predicted\": 2.276285571861931}, {\"target: true\": 5.3981627015177525, \"target: predicted\": 4.1818563094862045}, {\"target: true\": 0.9932517730102834, \"target: predicted\": 1.1798370925332962}, {\"target: true\": -0.6733445532637652, \"target: predicted\": 1.2395988400996156}, {\"target: true\": -1.7921595492493947, \"target: predicted\": 0.6902768499910943}, {\"target: true\": 2.772588722239781, \"target: predicted\": 2.6890661707253303}, {\"target: true\": 4.477336814478207, \"target: predicted\": 3.250840179969691}, {\"target: true\": 3.1354942159291497, \"target: predicted\": 3.358154445463864}, {\"target: true\": 3.3843902633457743, \"target: predicted\": 2.403468226587419}, {\"target: true\": 2.4849066497880004, \"target: predicted\": 2.8362299483837328}, {\"target: true\": -2.3025850929940446, \"target: predicted\": -0.04632787733459409}, {\"target: true\": -0.5108256237659909, \"target: predicted\": 0.5183917433565894}, {\"target: true\": -1.2909841813155656, \"target: predicted\": 0.6474090023956647}, {\"target: true\": 3.951243718581428, \"target: predicted\": 3.6662556859776343}, {\"target: true\": 3.9337844972096585, \"target: predicted\": 3.4078703440029177}, {\"target: true\": 3.0549441331858365, \"target: predicted\": 1.375803335362172}, {\"target: true\": 5.187385805840755, \"target: predicted\": 1.5646664219238688}, {\"target: true\": -0.7550225842780329, \"target: predicted\": 2.6248318449455}, {\"target: true\": 4.0306945351456465, \"target: predicted\": 2.0818215674544147}, {\"target: true\": 3.202746442938317, \"target: predicted\": 3.7566845356853356}, {\"target: true\": 3.0404666048941618, \"target: predicted\": 4.449574182386295}, {\"target: true\": 1.8309801823813363, \"target: predicted\": 2.878616569293155}, {\"target: true\": 3.688879454113936, \"target: predicted\": 3.3639182421894445}, {\"target: true\": 4.400603020246816, \"target: predicted\": 4.000627472422425}, {\"target: true\": 6.908316121680464, \"target: predicted\": 4.560273357501149}, {\"target: true\": 3.0445224377234235, \"target: predicted\": 3.7690789190955005}, {\"target: true\": 3.688879454113936, \"target: predicted\": 3.353093787207164}, {\"target: true\": 6.908265148976337, \"target: predicted\": 4.444462746222787}, {\"target: true\": 3.828641396489095, \"target: predicted\": 3.492920429790238}, {\"target: true\": -2.162823150618887, \"target: predicted\": 1.175543458038432}, {\"target: true\": 5.219274159207584, \"target: predicted\": 3.42440093895799}, {\"target: true\": 4.110873864173311, \"target: predicted\": 3.8625873809283013}, {\"target: true\": 2.9957322735539917, \"target: predicted\": 1.5555999913810667}, {\"target: true\": -4.961845129926825, \"target: predicted\": -2.1492368874095225}, {\"target: true\": 6.194405391104672, \"target: predicted\": 3.099871473262483}, {\"target: true\": 1.1314021114911006, \"target: predicted\": 0.9058021927179822}, {\"target: true\": 4.02535169073515, \"target: predicted\": 3.3547760426399975}, {\"target: true\": 2.772588722239781, \"target: predicted\": 2.5610871810267453}, {\"target: true\": 5.579729825986222, \"target: predicted\": 4.666999781661797}, {\"target: true\": -1.0216512475319814, \"target: predicted\": 2.284431402119555}, {\"target: true\": 3.5920931854262443, \"target: predicted\": 3.778470851834906}, {\"target: true\": 4.330733340286331, \"target: predicted\": 2.232356458134683}, {\"target: true\": 0.33647223662121295, \"target: predicted\": 0.4028372143926138}, {\"target: true\": 2.5649493574615367, \"target: predicted\": 3.3466040218337514}, {\"target: true\": 4.543294782270004, \"target: predicted\": 4.352663200035635}, {\"target: true\": 3.8501476017100575, \"target: predicted\": 4.858267163575262}, {\"target: true\": 3.93963817246112, \"target: predicted\": 2.7007079278237027}, {\"target: true\": 6.411818267709898, \"target: predicted\": 2.19021422735702}, {\"target: true\": 4.944495491591711, \"target: predicted\": 3.070037942779188}, {\"target: true\": 4.705920089088233, \"target: predicted\": 3.520244350142544}, {\"target: true\": 6.390240667065351, \"target: predicted\": 3.980651580897238}, {\"target: true\": 0.6936470556015963, \"target: predicted\": 1.5154433382023171}, {\"target: true\": 4.718498871295094, \"target: predicted\": 3.097127332240214}, {\"target: true\": 4.505349850705881, \"target: predicted\": 4.194960290859887}, {\"target: true\": 6.3818160174060985, \"target: predicted\": 4.345830137125432}, {\"target: true\": 3.915217896324665, \"target: predicted\": 3.0538480617467285}, {\"target: true\": 3.813307032488989, \"target: predicted\": 4.37885192616631}, {\"target: true\": 3.937690752176724, \"target: predicted\": 1.0515926139504637}, {\"target: true\": 5.960489742808553, \"target: predicted\": 3.0814869840902137}, {\"target: true\": 6.908275143828986, \"target: predicted\": 3.6989647554810103}, {\"target: true\": 7.3264656138403215, \"target: predicted\": 2.852148662904541}, {\"target: true\": 8.859363449152088, \"target: predicted\": 2.95783757886283}, {\"target: true\": 3.5263605246161616, \"target: predicted\": 1.5520561412655889}, {\"target: true\": 1.9459101490553128, \"target: predicted\": 2.9661215738654123}, {\"target: true\": 0.5025918188388871, \"target: predicted\": -0.07721256069255844}], \"data-8360206ef0eb82764d1b40353d07c277\": [{\"target: true\": -5.991464547107983, \"target: predicted\": -5.991464547107983}, {\"target: true\": 8.859363449152088, \"target: predicted\": 8.859363449152088}]}}, {\"mode\": \"vega-lite\"});\n",
       "</script>"
      ],
      "text/plain": [
       "alt.LayerChart(...)"
      ]
     },
     "execution_count": 14,
     "metadata": {},
     "output_type": "execute_result"
    }
   ],
   "source": [
    "baseline_model.visualize('pair_predict', baseline_test, untransform=True)"
   ]
  },
  {
   "cell_type": "markdown",
   "id": "abfe96a9-70c7-49f9-a03d-392b96bf6dad",
   "metadata": {},
   "source": [
    "> The R2 score for the baseline model is 0.475. We can see that it begins to approximate the general trend of the data."
   ]
  },
  {
   "cell_type": "markdown",
   "id": "39864dd8-7026-4053-b6b2-d8157b9ca5c2",
   "metadata": {},
   "source": [
    "## Evaluate the multitask models\n",
    "Random forests require imputation for sparse datasets, try a few methods: mean imputation, interpolation, and RFR interpolation. Additionally attempt graphs with weights."
   ]
  },
  {
   "cell_type": "code",
   "execution_count": 15,
   "id": "8aecf0e3-597f-4e23-958a-f40e556a215d",
   "metadata": {},
   "outputs": [],
   "source": [
    "import sklearn.impute"
   ]
  },
  {
   "cell_type": "markdown",
   "id": "395379fd-fc66-4a2c-b004-03b03035a00e",
   "metadata": {},
   "source": [
    "#### Impute by mean"
   ]
  },
  {
   "cell_type": "code",
   "execution_count": 16,
   "id": "f454b319-64e6-46d3-bc54-9ae8b1064c98",
   "metadata": {},
   "outputs": [],
   "source": [
    "mean = data_f.copy()"
   ]
  },
  {
   "cell_type": "markdown",
   "id": "b0d6f734-6a9e-4d32-b223-6baff0bf6181",
   "metadata": {},
   "source": [
    "Impute and prepare the dataset."
   ]
  },
  {
   "cell_type": "code",
   "execution_count": 17,
   "id": "36e074fd-9ab6-48c4-bcd1-1c748eb63a5a",
   "metadata": {},
   "outputs": [],
   "source": [
    "mean[multitask_names] = sklearn.impute.SimpleImputer().fit_transform(\n",
    "    mean[multitask_names].values\n",
    ")"
   ]
  },
  {
   "cell_type": "code",
   "execution_count": 18,
   "id": "5e179393-446d-4894-acf8-68269fd92735",
   "metadata": {},
   "outputs": [],
   "source": [
    "mean_set = dataprep.convert_to_dataset(\n",
    "    mean,\n",
    "    X_col='RDKitDescriptors',\n",
    "    y_col=multitask_names\n",
    ")"
   ]
  },
  {
   "cell_type": "code",
   "execution_count": 19,
   "id": "392ecd84-b7cf-4cb1-9fc4-58edb027b3fc",
   "metadata": {},
   "outputs": [],
   "source": [
    "mean_normed, mean_transformations = dataprep.data_transformation(\n",
    "    mean_set, transformations = ['NormalizationTransformer'],\n",
    "    to_transform = ['y']\n",
    ")"
   ]
  },
  {
   "cell_type": "code",
   "execution_count": 20,
   "id": "ad806527-3d27-435d-b526-42fbafc3114a",
   "metadata": {},
   "outputs": [],
   "source": [
    "mean_test = mean_normed.select(np.isin(mean_normed.ids, test_index))\n",
    "mean_dev = mean_normed.select(~np.isin(mean_normed.ids, test_index))"
   ]
  },
  {
   "cell_type": "markdown",
   "id": "aaf7b2af-d5aa-4194-b2f0-f65ff7cb983d",
   "metadata": {},
   "source": [
    "retreieve the best founf hyperparameters for the mean imputation multitask model"
   ]
  },
  {
   "cell_type": "code",
   "execution_count": 121,
   "id": "8f748e98-0035-4b61-8279-9fb8561cc098",
   "metadata": {
    "tags": []
   },
   "outputs": [],
   "source": [
    "mean_study = optuna.load_study(\n",
    "    study_name='opt',\n",
    "    storage=\"sqlite:///regression/mean_r.db\"\n",
    ")"
   ]
  },
  {
   "cell_type": "code",
   "execution_count": 122,
   "id": "8c0ddfc5-09c8-4785-aaab-e28d2469109e",
   "metadata": {},
   "outputs": [
    {
     "data": {
      "text/html": [
       "<div>\n",
       "<style scoped>\n",
       "    .dataframe tbody tr th:only-of-type {\n",
       "        vertical-align: middle;\n",
       "    }\n",
       "\n",
       "    .dataframe tbody tr th {\n",
       "        vertical-align: top;\n",
       "    }\n",
       "\n",
       "    .dataframe thead th {\n",
       "        text-align: right;\n",
       "    }\n",
       "</style>\n",
       "<table border=\"1\" class=\"dataframe\">\n",
       "  <thead>\n",
       "    <tr style=\"text-align: right;\">\n",
       "      <th></th>\n",
       "      <th>number</th>\n",
       "      <th>value</th>\n",
       "      <th>datetime_start</th>\n",
       "      <th>datetime_complete</th>\n",
       "      <th>duration</th>\n",
       "      <th>params_criterion</th>\n",
       "      <th>params_max_depth</th>\n",
       "      <th>params_max_features</th>\n",
       "      <th>params_min_samples_leaf</th>\n",
       "      <th>params_min_samples_split</th>\n",
       "      <th>params_n_estimators</th>\n",
       "      <th>state</th>\n",
       "    </tr>\n",
       "  </thead>\n",
       "  <tbody>\n",
       "    <tr>\n",
       "      <th>0</th>\n",
       "      <td>0</td>\n",
       "      <td>0.091309</td>\n",
       "      <td>2021-05-31 13:53:04.706416</td>\n",
       "      <td>2021-05-31 13:53:37.498294</td>\n",
       "      <td>0 days 00:00:32.791878</td>\n",
       "      <td>mse</td>\n",
       "      <td>10.0</td>\n",
       "      <td>log2</td>\n",
       "      <td>7</td>\n",
       "      <td>9</td>\n",
       "      <td>285</td>\n",
       "      <td>COMPLETE</td>\n",
       "    </tr>\n",
       "    <tr>\n",
       "      <th>1</th>\n",
       "      <td>1</td>\n",
       "      <td>0.107531</td>\n",
       "      <td>2021-05-31 13:53:05.211800</td>\n",
       "      <td>2021-05-31 13:59:27.752639</td>\n",
       "      <td>0 days 00:06:22.540839</td>\n",
       "      <td>mse</td>\n",
       "      <td>40.0</td>\n",
       "      <td>auto</td>\n",
       "      <td>10</td>\n",
       "      <td>4</td>\n",
       "      <td>100</td>\n",
       "      <td>COMPLETE</td>\n",
       "    </tr>\n",
       "    <tr>\n",
       "      <th>2</th>\n",
       "      <td>2</td>\n",
       "      <td>NaN</td>\n",
       "      <td>2021-05-31 13:53:05.281844</td>\n",
       "      <td>NaT</td>\n",
       "      <td>NaT</td>\n",
       "      <td>mae</td>\n",
       "      <td>40.0</td>\n",
       "      <td>auto</td>\n",
       "      <td>1</td>\n",
       "      <td>2</td>\n",
       "      <td>185</td>\n",
       "      <td>RUNNING</td>\n",
       "    </tr>\n",
       "    <tr>\n",
       "      <th>3</th>\n",
       "      <td>3</td>\n",
       "      <td>NaN</td>\n",
       "      <td>2021-05-31 13:53:06.063741</td>\n",
       "      <td>NaT</td>\n",
       "      <td>NaT</td>\n",
       "      <td>mae</td>\n",
       "      <td>30.0</td>\n",
       "      <td>auto</td>\n",
       "      <td>1</td>\n",
       "      <td>6</td>\n",
       "      <td>115</td>\n",
       "      <td>RUNNING</td>\n",
       "    </tr>\n",
       "    <tr>\n",
       "      <th>4</th>\n",
       "      <td>4</td>\n",
       "      <td>0.010081</td>\n",
       "      <td>2021-05-31 13:53:06.571703</td>\n",
       "      <td>2021-05-31 15:52:29.080669</td>\n",
       "      <td>0 days 01:59:22.508966</td>\n",
       "      <td>mae</td>\n",
       "      <td>45.0</td>\n",
       "      <td>log2</td>\n",
       "      <td>7</td>\n",
       "      <td>10</td>\n",
       "      <td>60</td>\n",
       "      <td>COMPLETE</td>\n",
       "    </tr>\n",
       "    <tr>\n",
       "      <th>...</th>\n",
       "      <td>...</td>\n",
       "      <td>...</td>\n",
       "      <td>...</td>\n",
       "      <td>...</td>\n",
       "      <td>...</td>\n",
       "      <td>...</td>\n",
       "      <td>...</td>\n",
       "      <td>...</td>\n",
       "      <td>...</td>\n",
       "      <td>...</td>\n",
       "      <td>...</td>\n",
       "      <td>...</td>\n",
       "    </tr>\n",
       "    <tr>\n",
       "      <th>156</th>\n",
       "      <td>156</td>\n",
       "      <td>0.110644</td>\n",
       "      <td>2021-06-01 10:01:57.375369</td>\n",
       "      <td>2021-06-01 10:02:44.406137</td>\n",
       "      <td>0 days 00:00:47.030768</td>\n",
       "      <td>mse</td>\n",
       "      <td>30.0</td>\n",
       "      <td>log2</td>\n",
       "      <td>2</td>\n",
       "      <td>5</td>\n",
       "      <td>270</td>\n",
       "      <td>COMPLETE</td>\n",
       "    </tr>\n",
       "    <tr>\n",
       "      <th>157</th>\n",
       "      <td>157</td>\n",
       "      <td>0.112760</td>\n",
       "      <td>2021-06-01 10:02:44.478812</td>\n",
       "      <td>2021-06-01 10:03:34.006382</td>\n",
       "      <td>0 days 00:00:49.527570</td>\n",
       "      <td>mse</td>\n",
       "      <td>35.0</td>\n",
       "      <td>log2</td>\n",
       "      <td>2</td>\n",
       "      <td>5</td>\n",
       "      <td>280</td>\n",
       "      <td>COMPLETE</td>\n",
       "    </tr>\n",
       "    <tr>\n",
       "      <th>158</th>\n",
       "      <td>158</td>\n",
       "      <td>0.114479</td>\n",
       "      <td>2021-06-01 10:03:34.078182</td>\n",
       "      <td>2021-06-01 10:03:57.157306</td>\n",
       "      <td>0 days 00:00:23.079124</td>\n",
       "      <td>mse</td>\n",
       "      <td>45.0</td>\n",
       "      <td>log2</td>\n",
       "      <td>1</td>\n",
       "      <td>5</td>\n",
       "      <td>125</td>\n",
       "      <td>COMPLETE</td>\n",
       "    </tr>\n",
       "    <tr>\n",
       "      <th>159</th>\n",
       "      <td>159</td>\n",
       "      <td>0.058624</td>\n",
       "      <td>2021-06-01 12:58:29.869573</td>\n",
       "      <td>2021-06-01 12:58:44.511353</td>\n",
       "      <td>0 days 00:00:14.641780</td>\n",
       "      <td>mse</td>\n",
       "      <td>5.0</td>\n",
       "      <td>log2</td>\n",
       "      <td>2</td>\n",
       "      <td>5</td>\n",
       "      <td>265</td>\n",
       "      <td>COMPLETE</td>\n",
       "    </tr>\n",
       "    <tr>\n",
       "      <th>160</th>\n",
       "      <td>160</td>\n",
       "      <td>0.101500</td>\n",
       "      <td>2021-06-01 12:58:44.593558</td>\n",
       "      <td>2021-06-01 12:59:36.060588</td>\n",
       "      <td>0 days 00:00:51.467030</td>\n",
       "      <td>mse</td>\n",
       "      <td>25.0</td>\n",
       "      <td>log2</td>\n",
       "      <td>1</td>\n",
       "      <td>3</td>\n",
       "      <td>295</td>\n",
       "      <td>COMPLETE</td>\n",
       "    </tr>\n",
       "  </tbody>\n",
       "</table>\n",
       "<p>161 rows × 12 columns</p>\n",
       "</div>"
      ],
      "text/plain": [
       "     number     value             datetime_start          datetime_complete  \\\n",
       "0         0  0.091309 2021-05-31 13:53:04.706416 2021-05-31 13:53:37.498294   \n",
       "1         1  0.107531 2021-05-31 13:53:05.211800 2021-05-31 13:59:27.752639   \n",
       "2         2       NaN 2021-05-31 13:53:05.281844                        NaT   \n",
       "3         3       NaN 2021-05-31 13:53:06.063741                        NaT   \n",
       "4         4  0.010081 2021-05-31 13:53:06.571703 2021-05-31 15:52:29.080669   \n",
       "..      ...       ...                        ...                        ...   \n",
       "156     156  0.110644 2021-06-01 10:01:57.375369 2021-06-01 10:02:44.406137   \n",
       "157     157  0.112760 2021-06-01 10:02:44.478812 2021-06-01 10:03:34.006382   \n",
       "158     158  0.114479 2021-06-01 10:03:34.078182 2021-06-01 10:03:57.157306   \n",
       "159     159  0.058624 2021-06-01 12:58:29.869573 2021-06-01 12:58:44.511353   \n",
       "160     160  0.101500 2021-06-01 12:58:44.593558 2021-06-01 12:59:36.060588   \n",
       "\n",
       "                  duration params_criterion  params_max_depth  \\\n",
       "0   0 days 00:00:32.791878              mse              10.0   \n",
       "1   0 days 00:06:22.540839              mse              40.0   \n",
       "2                      NaT              mae              40.0   \n",
       "3                      NaT              mae              30.0   \n",
       "4   0 days 01:59:22.508966              mae              45.0   \n",
       "..                     ...              ...               ...   \n",
       "156 0 days 00:00:47.030768              mse              30.0   \n",
       "157 0 days 00:00:49.527570              mse              35.0   \n",
       "158 0 days 00:00:23.079124              mse              45.0   \n",
       "159 0 days 00:00:14.641780              mse               5.0   \n",
       "160 0 days 00:00:51.467030              mse              25.0   \n",
       "\n",
       "    params_max_features  params_min_samples_leaf  params_min_samples_split  \\\n",
       "0                  log2                        7                         9   \n",
       "1                  auto                       10                         4   \n",
       "2                  auto                        1                         2   \n",
       "3                  auto                        1                         6   \n",
       "4                  log2                        7                        10   \n",
       "..                  ...                      ...                       ...   \n",
       "156                log2                        2                         5   \n",
       "157                log2                        2                         5   \n",
       "158                log2                        1                         5   \n",
       "159                log2                        2                         5   \n",
       "160                log2                        1                         3   \n",
       "\n",
       "     params_n_estimators     state  \n",
       "0                    285  COMPLETE  \n",
       "1                    100  COMPLETE  \n",
       "2                    185   RUNNING  \n",
       "3                    115   RUNNING  \n",
       "4                     60  COMPLETE  \n",
       "..                   ...       ...  \n",
       "156                  270  COMPLETE  \n",
       "157                  280  COMPLETE  \n",
       "158                  125  COMPLETE  \n",
       "159                  265  COMPLETE  \n",
       "160                  295  COMPLETE  \n",
       "\n",
       "[161 rows x 12 columns]"
      ]
     },
     "execution_count": 122,
     "metadata": {},
     "output_type": "execute_result"
    }
   ],
   "source": [
    "mean_results = mean_study.trials_dataframe()\n",
    "mean_results"
   ]
  },
  {
   "cell_type": "code",
   "execution_count": 123,
   "id": "bd568db4-0d8d-457c-8bbf-49cd402c02dd",
   "metadata": {},
   "outputs": [],
   "source": [
    "mean_params = mean_study.best_params"
   ]
  },
  {
   "cell_type": "code",
   "execution_count": 124,
   "id": "6dc0591e-3bd6-4c69-947d-9f8079f94463",
   "metadata": {},
   "outputs": [
    {
     "data": {
      "text/plain": [
       "{'criterion': 'mse',\n",
       " 'max_depth': 35,\n",
       " 'max_features': 'sqrt',\n",
       " 'min_samples_leaf': 1,\n",
       " 'min_samples_split': 4,\n",
       " 'n_estimators': 290}"
      ]
     },
     "execution_count": 124,
     "metadata": {},
     "output_type": "execute_result"
    }
   ],
   "source": [
    "mean_params"
   ]
  },
  {
   "cell_type": "code",
   "execution_count": 125,
   "id": "3afebf4f-2aaa-42ae-aa7e-db843bcd0ee2",
   "metadata": {},
   "outputs": [
    {
     "data": {
      "text/plain": [
       "0.12062151445354567"
      ]
     },
     "execution_count": 125,
     "metadata": {},
     "output_type": "execute_result"
    }
   ],
   "source": [
    "mean_study.best_value"
   ]
  },
  {
   "cell_type": "markdown",
   "id": "8e8243e5-a4bd-41a1-9879-7c585f9a58f8",
   "metadata": {},
   "source": [
    "Train the mean model on the sparse dev set with the best parameters"
   ]
  },
  {
   "cell_type": "code",
   "execution_count": 61,
   "id": "dbb5958f-3eb3-4e23-a062-35642729c600",
   "metadata": {},
   "outputs": [],
   "source": [
    "mean_model = ToxModel('RFR', transformers=mean_transformations, tasks=multitask_names, **mean_params)"
   ]
  },
  {
   "cell_type": "code",
   "execution_count": 62,
   "id": "19a7145a-150c-41e8-b1e5-fb16e9a05f43",
   "metadata": {},
   "outputs": [],
   "source": [
    "mean_model.fit(mean_dev)"
   ]
  },
  {
   "cell_type": "code",
   "execution_count": 63,
   "id": "5a772e89-9642-430a-bb5e-bf94ebcf0df2",
   "metadata": {},
   "outputs": [
    {
     "data": {
      "text/plain": [
       "({'metric-1': 0.13842907558838624, 'metric-2': 1.775168257153327},\n",
       " {'metric-1': [0.2615655532780672,\n",
       "   0.24723378351391145,\n",
       "   0.17459800099849931,\n",
       "   0.09105566606856175,\n",
       "   -0.0823076259171085],\n",
       "  'metric-2': [1.840111855056604,\n",
       "   1.9263504749483085,\n",
       "   4.877283547562308,\n",
       "   0.18903362546722,\n",
       "   0.04306178273219551]})"
      ]
     },
     "execution_count": 63,
     "metadata": {},
     "output_type": "execute_result"
    }
   ],
   "source": [
    "mean_model.evaluate(mean_test, ['r2_score', 'mean_squared_error'], untransform=True, per_task_metrics=True)"
   ]
  },
  {
   "cell_type": "code",
   "execution_count": 64,
   "id": "aad1fd2c-04ee-436c-bcb8-df9e8f1b3215",
   "metadata": {},
   "outputs": [
    {
     "name": "stdout",
     "output_type": "stream",
     "text": [
      "(289, 5)\n"
     ]
    },
    {
     "data": {
      "text/html": [
       "\n",
       "<div id=\"altair-viz-581ac2b26e694ba6869f0aabf902d011\"></div>\n",
       "<script type=\"text/javascript\">\n",
       "  (function(spec, embedOpt){\n",
       "    let outputDiv = document.currentScript.previousElementSibling;\n",
       "    if (outputDiv.id !== \"altair-viz-581ac2b26e694ba6869f0aabf902d011\") {\n",
       "      outputDiv = document.getElementById(\"altair-viz-581ac2b26e694ba6869f0aabf902d011\");\n",
       "    }\n",
       "    const paths = {\n",
       "      \"vega\": \"https://cdn.jsdelivr.net/npm//vega@5?noext\",\n",
       "      \"vega-lib\": \"https://cdn.jsdelivr.net/npm//vega-lib?noext\",\n",
       "      \"vega-lite\": \"https://cdn.jsdelivr.net/npm//vega-lite@4.8.1?noext\",\n",
       "      \"vega-embed\": \"https://cdn.jsdelivr.net/npm//vega-embed@6?noext\",\n",
       "    };\n",
       "\n",
       "    function loadScript(lib) {\n",
       "      return new Promise(function(resolve, reject) {\n",
       "        var s = document.createElement('script');\n",
       "        s.src = paths[lib];\n",
       "        s.async = true;\n",
       "        s.onload = () => resolve(paths[lib]);\n",
       "        s.onerror = () => reject(`Error loading script: ${paths[lib]}`);\n",
       "        document.getElementsByTagName(\"head\")[0].appendChild(s);\n",
       "      });\n",
       "    }\n",
       "\n",
       "    function showError(err) {\n",
       "      outputDiv.innerHTML = `<div class=\"error\" style=\"color:red;\">${err}</div>`;\n",
       "      throw err;\n",
       "    }\n",
       "\n",
       "    function displayChart(vegaEmbed) {\n",
       "      vegaEmbed(outputDiv, spec, embedOpt)\n",
       "        .catch(err => showError(`Javascript Error: ${err.message}<br>This usually means there's a typo in your chart specification. See the javascript console for the full traceback.`));\n",
       "    }\n",
       "\n",
       "    if(typeof define === \"function\" && define.amd) {\n",
       "      requirejs.config({paths});\n",
       "      require([\"vega-embed\"], displayChart, err => showError(`Error loading script: ${err.message}`));\n",
       "    } else if (typeof vegaEmbed === \"function\") {\n",
       "      displayChart(vegaEmbed);\n",
       "    } else {\n",
       "      loadScript(\"vega\")\n",
       "        .then(() => loadScript(\"vega-lite\"))\n",
       "        .then(() => loadScript(\"vega-embed\"))\n",
       "        .catch(showError)\n",
       "        .then(() => displayChart(vegaEmbed));\n",
       "    }\n",
       "  })({\"config\": {\"view\": {\"continuousWidth\": 400, \"continuousHeight\": 300}}, \"layer\": [{\"mark\": \"point\", \"encoding\": {\"x\": {\"type\": \"quantitative\", \"field\": \"algea_EC50: true\", \"scale\": {\"zero\": false}}, \"y\": {\"type\": \"quantitative\", \"field\": \"algea_EC50: predicted\", \"scale\": {\"zero\": false}}}}, {\"mark\": \"line\", \"encoding\": {\"x\": {\"type\": \"quantitative\", \"field\": \"algea_EC50: true\", \"scale\": {\"zero\": false}}, \"y\": {\"type\": \"quantitative\", \"field\": \"algea_EC50: predicted\", \"scale\": {\"zero\": false}}}, \"transform\": [{\"on\": \"algea_EC50: true\", \"regression\": \"algea_EC50: predicted\"}]}, {\"data\": {\"name\": \"data-c8bb012da4c38593efafab2f9cdac7a5\"}, \"mark\": {\"type\": \"line\", \"color\": \"black\"}, \"encoding\": {\"x\": {\"type\": \"quantitative\", \"field\": \"algea_EC50: true\"}, \"y\": {\"type\": \"quantitative\", \"field\": \"algea_EC50: predicted\"}}}], \"data\": {\"name\": \"data-bc554c86dd0ee6482986ed189c4a6420\"}, \"$schema\": \"https://vega.github.io/schema/vega-lite/v4.8.1.json\", \"datasets\": {\"data-bc554c86dd0ee6482986ed189c4a6420\": [{\"fish_LC50: true\": 0.37156355643248284, \"fish_LC50: predicted\": 1.7690115502372452, \"daphnia_EC50: true\": 1.4350845252893227, \"daphnia_EC50: predicted\": 1.1545638070713469, \"algea_EC50: true\": 0.8754687373539001, \"algea_EC50: predicted\": 2.395012493116778, \"rat_LD50: true\": -2.839, \"rat_LD50: predicted\": -2.9567857221899425, \"ecoli_MIC: true\": 2.841506905503749, \"ecoli_MIC: predicted\": 2.8419854756800675}, {\"fish_LC50: true\": 0.6205764877251099, \"fish_LC50: predicted\": 2.1788000148493323, \"daphnia_EC50: true\": 2.4518667957098, \"daphnia_EC50: predicted\": 1.8680721021770972, \"algea_EC50: true\": 3.2557861788882985, \"algea_EC50: predicted\": 2.718084255130293, \"rat_LD50: true\": -3.24, \"rat_LD50: predicted\": -2.840917271510699, \"ecoli_MIC: true\": 2.841506905503749, \"ecoli_MIC: predicted\": 2.840648634712941}, {\"fish_LC50: true\": -0.4004775665971252, \"fish_LC50: predicted\": 1.47870995431332, \"daphnia_EC50: true\": -1.7719568419318754, \"daphnia_EC50: predicted\": 0.720911886604496, \"algea_EC50: true\": -1.2207799226423175, \"algea_EC50: predicted\": 1.0515531949888155, \"rat_LD50: true\": -2.544144325713513, \"rat_LD50: predicted\": -2.3543018460037164, \"ecoli_MIC: true\": 2.841506905503749, \"ecoli_MIC: predicted\": 2.856919275382038}, {\"fish_LC50: true\": 1.4586150226995167, \"fish_LC50: predicted\": 2.182471797837477, \"daphnia_EC50: true\": 1.5231041560753946, \"daphnia_EC50: predicted\": 1.3495932775477752, \"algea_EC50: true\": 2.4849066497880004, \"algea_EC50: predicted\": 2.4264199068090035, \"rat_LD50: true\": -1.765, \"rat_LD50: predicted\": -2.318601392866823, \"ecoli_MIC: true\": 2.841506905503749, \"ecoli_MIC: predicted\": 2.8317086058295984}, {\"fish_LC50: true\": 1.4816045409242156, \"fish_LC50: predicted\": 1.980243541926144, \"daphnia_EC50: true\": -0.3147107448397002, \"daphnia_EC50: predicted\": 1.460449489467801, \"algea_EC50: true\": 2.021547563260933, \"algea_EC50: predicted\": 2.3576421920145245, \"rat_LD50: true\": -1.508, \"rat_LD50: predicted\": -2.0266174331998767, \"ecoli_MIC: true\": 2.841506905503749, \"ecoli_MIC: predicted\": 2.841506905503749}, {\"fish_LC50: true\": 4.875197323201151, \"fish_LC50: predicted\": 3.445159917040876, \"daphnia_EC50: true\": 4.143134726391533, \"daphnia_EC50: predicted\": 2.303238226718897, \"algea_EC50: true\": 3.6635616461296463, \"algea_EC50: predicted\": 3.0753978853357284, \"rat_LD50: true\": -2.375, \"rat_LD50: predicted\": -2.2110830540513366, \"ecoli_MIC: true\": 2.841506905503749, \"ecoli_MIC: predicted\": 2.841506905503749}, {\"fish_LC50: true\": -0.7139478163190245, \"fish_LC50: predicted\": 1.9250640565448243, \"daphnia_EC50: true\": 1.5231041560753946, \"daphnia_EC50: predicted\": 1.3887618699362643, \"algea_EC50: true\": -0.21072103131565267, \"algea_EC50: predicted\": 2.391882514136019, \"rat_LD50: true\": -2.544144325713513, \"rat_LD50: predicted\": -2.542639114984563, \"ecoli_MIC: true\": 2.841506905503749, \"ecoli_MIC: predicted\": 3.0017800415812514}, {\"fish_LC50: true\": 3.7612001156935615, \"fish_LC50: predicted\": 2.9464282327033864, \"daphnia_EC50: true\": 3.2580965380214826, \"daphnia_EC50: predicted\": 1.8103040325321447, \"algea_EC50: true\": 0.8754687373539001, \"algea_EC50: predicted\": 2.541800808358239, \"rat_LD50: true\": -2.544144325713513, \"rat_LD50: predicted\": -2.4102824693785014, \"ecoli_MIC: true\": 2.841506905503749, \"ecoli_MIC: predicted\": 2.867477074030452}, {\"fish_LC50: true\": 2.2669579153508947, \"fish_LC50: predicted\": 2.52550457629662, \"daphnia_EC50: true\": 0.9162907318741552, \"daphnia_EC50: predicted\": 1.8127687149488312, \"algea_EC50: true\": 2.302585092994046, \"algea_EC50: predicted\": 2.618402272017129, \"rat_LD50: true\": -2.833, \"rat_LD50: predicted\": -2.5595931630334423, \"ecoli_MIC: true\": 2.841506905503749, \"ecoli_MIC: predicted\": 2.8450047404023904}, {\"fish_LC50: true\": -0.9675840262617057, \"fish_LC50: predicted\": 1.5544846011708748, \"daphnia_EC50: true\": 0.9932517730102834, \"daphnia_EC50: predicted\": 1.8137417869063461, \"algea_EC50: true\": 0.4706284340145779, \"algea_EC50: predicted\": 2.4556468648756358, \"rat_LD50: true\": -1.656, \"rat_LD50: predicted\": -2.2047019023106773, \"ecoli_MIC: true\": 2.841506905503749, \"ecoli_MIC: predicted\": 2.8639633418269796}, {\"fish_LC50: true\": 1.5260563034950492, \"fish_LC50: predicted\": 2.240070705166293, \"daphnia_EC50: true\": 0.6418538861723946, \"daphnia_EC50: predicted\": 1.280635266597641, \"algea_EC50: true\": 1.8164520818184269, \"algea_EC50: predicted\": 2.356885087663551, \"rat_LD50: true\": -1.625, \"rat_LD50: predicted\": -2.153163173754911, \"ecoli_MIC: true\": 2.841506905503749, \"ecoli_MIC: predicted\": 2.841506905503749}, {\"fish_LC50: true\": -2.0174061507603827, \"fish_LC50: predicted\": 2.222624356317418, \"daphnia_EC50: true\": 0.7275486072772777, \"daphnia_EC50: predicted\": 1.69171130849145, \"algea_EC50: true\": 3.2148678034706624, \"algea_EC50: predicted\": 2.374926979929794, \"rat_LD50: true\": -2.565, \"rat_LD50: predicted\": -2.042368903018055, \"ecoli_MIC: true\": 2.841506905503749, \"ecoli_MIC: predicted\": 2.9862274655591063}, {\"fish_LC50: true\": 0.0, \"fish_LC50: predicted\": 2.9824702596071027, \"daphnia_EC50: true\": 0.18232155679395468, \"daphnia_EC50: predicted\": 1.8769079431775182, \"algea_EC50: true\": 1.5260563034950492, \"algea_EC50: predicted\": 3.0198395771518496, \"rat_LD50: true\": -3.022, \"rat_LD50: predicted\": -2.493528314067783, \"ecoli_MIC: true\": 2.841506905503749, \"ecoli_MIC: predicted\": 2.8431212908415837}, {\"fish_LC50: true\": -5.744604469176457, \"fish_LC50: predicted\": 0.9682788091833783, \"daphnia_EC50: true\": 1.5231041560753946, \"daphnia_EC50: predicted\": 0.4121206707774654, \"algea_EC50: true\": -3.8632328412587125, \"algea_EC50: predicted\": 1.2387744588655503, \"rat_LD50: true\": -2.544144325713513, \"rat_LD50: predicted\": -2.4066343184672765, \"ecoli_MIC: true\": 2.841506905503749, \"ecoli_MIC: predicted\": 2.903969575461759}, {\"fish_LC50: true\": 1.541159071680806, \"fish_LC50: predicted\": 2.060037748775027, \"daphnia_EC50: true\": 1.5231041560753946, \"daphnia_EC50: predicted\": 1.742858191853993, \"algea_EC50: true\": 0.8241754429663493, \"algea_EC50: predicted\": 2.32747775319334, \"rat_LD50: true\": -2.544144325713513, \"rat_LD50: predicted\": -2.102292448771467, \"ecoli_MIC: true\": 2.841506905503749, \"ecoli_MIC: predicted\": 2.8668124692433854}, {\"fish_LC50: true\": 3.333988631968705, \"fish_LC50: predicted\": 2.345059102967278, \"daphnia_EC50: true\": 3.6375861597263857, \"daphnia_EC50: predicted\": 1.9413013124568836, \"algea_EC50: true\": 2.9444389791664403, \"algea_EC50: predicted\": 2.770576634299844, \"rat_LD50: true\": -4.607, \"rat_LD50: predicted\": -2.2106399665087744, \"ecoli_MIC: true\": 2.841506905503749, \"ecoli_MIC: predicted\": 2.846309054275123}, {\"fish_LC50: true\": 6.040254711277415, \"fish_LC50: predicted\": 3.791541198338237, \"daphnia_EC50: true\": 1.5231041560753946, \"daphnia_EC50: predicted\": 1.8365438916295205, \"algea_EC50: true\": 6.908397072988298, \"algea_EC50: predicted\": 2.7299063072214187, \"rat_LD50: true\": -1.463, \"rat_LD50: predicted\": -1.8497908506015872, \"ecoli_MIC: true\": 2.841506905503749, \"ecoli_MIC: predicted\": 2.842367911017261}, {\"fish_LC50: true\": 4.6443908991413725, \"fish_LC50: predicted\": 2.845869429638546, \"daphnia_EC50: true\": 3.2542429687054915, \"daphnia_EC50: predicted\": 1.8986898863114687, \"algea_EC50: true\": 4.421487703554795, \"algea_EC50: predicted\": 2.6704766981291597, \"rat_LD50: true\": -3.26, \"rat_LD50: predicted\": -1.8721806537845413, \"ecoli_MIC: true\": 2.841506905503749, \"ecoli_MIC: predicted\": 2.8494786723468755}, {\"fish_LC50: true\": 6.699643187101424, \"fish_LC50: predicted\": 3.603451361045784, \"daphnia_EC50: true\": 1.5231041560753946, \"daphnia_EC50: predicted\": 1.7777679542930878, \"algea_EC50: true\": 6.131887140770233, \"algea_EC50: predicted\": 2.618729552500858, \"rat_LD50: true\": -1.7990000000000002, \"rat_LD50: predicted\": -2.3119510371172662, \"ecoli_MIC: true\": 2.841506905503749, \"ecoli_MIC: predicted\": 2.8467670865737076}, {\"fish_LC50: true\": 4.605170185988092, \"fish_LC50: predicted\": 2.966432429378578, \"daphnia_EC50: true\": 1.5231041560753946, \"daphnia_EC50: predicted\": 1.8009693943409597, \"algea_EC50: true\": 5.700443573390688, \"algea_EC50: predicted\": 2.8749602125336002, \"rat_LD50: true\": -2.228, \"rat_LD50: predicted\": -2.1981417778456156, \"ecoli_MIC: true\": 2.841506905503749, \"ecoli_MIC: predicted\": 2.8650356733856284}, {\"fish_LC50: true\": 2.0794415416798357, \"fish_LC50: predicted\": 2.1483879068772818, \"daphnia_EC50: true\": 1.5231041560753946, \"daphnia_EC50: predicted\": 1.83921241582437, \"algea_EC50: true\": 3.218875824868201, \"algea_EC50: predicted\": 2.4705146417130583, \"rat_LD50: true\": -2.544144325713513, \"rat_LD50: predicted\": -2.0548239973475777, \"ecoli_MIC: true\": 2.841506905503749, \"ecoli_MIC: predicted\": 2.8680132319295284}, {\"fish_LC50: true\": 3.068052935133617, \"fish_LC50: predicted\": 2.506250090239826, \"daphnia_EC50: true\": 2.2192034840549946, \"daphnia_EC50: predicted\": 1.6788349536243221, \"algea_EC50: true\": 2.1804174590198384, \"algea_EC50: predicted\": 2.5233506221443367, \"rat_LD50: true\": -1.47, \"rat_LD50: predicted\": -2.2325311110703683, \"ecoli_MIC: true\": 2.841506905503749, \"ecoli_MIC: predicted\": 2.9057601553662495}, {\"fish_LC50: true\": 3.678829118260434, \"fish_LC50: predicted\": 2.8568901413026326, \"daphnia_EC50: true\": 1.4609379041156565, \"daphnia_EC50: predicted\": 2.1068985852543474, \"algea_EC50: true\": 1.5686159179138457, \"algea_EC50: predicted\": 3.0286601592186937, \"rat_LD50: true\": -2.292, \"rat_LD50: predicted\": -2.141001547149313, \"ecoli_MIC: true\": 2.841506905503749, \"ecoli_MIC: predicted\": 2.8368499624456534}, {\"fish_LC50: true\": -0.3856624808119844, \"fish_LC50: predicted\": 1.3045791761472558, \"daphnia_EC50: true\": -1.108662624521611, \"daphnia_EC50: predicted\": 0.10732564018049517, \"algea_EC50: true\": -0.29437106060257756, \"algea_EC50: predicted\": 1.8935658427826678, \"rat_LD50: true\": -2.544144325713513, \"rat_LD50: predicted\": -2.2642970907294746, \"ecoli_MIC: true\": 2.841506905503749, \"ecoli_MIC: predicted\": 2.8874085876184177}, {\"fish_LC50: true\": 4.276666119016055, \"fish_LC50: predicted\": 1.9980620749070854, \"daphnia_EC50: true\": 1.5231041560753946, \"daphnia_EC50: predicted\": 1.4452158970273323, \"algea_EC50: true\": 0.8544153281560676, \"algea_EC50: predicted\": 2.3789016285773577, \"rat_LD50: true\": -1.659, \"rat_LD50: predicted\": -2.4660609775765066, \"ecoli_MIC: true\": 2.841506905503749, \"ecoli_MIC: predicted\": 3.026000578863616}, {\"fish_LC50: true\": -1.5606477482646683, \"fish_LC50: predicted\": 1.8348062772019929, \"daphnia_EC50: true\": -0.4462871026284194, \"daphnia_EC50: predicted\": 1.2582017141079416, \"algea_EC50: true\": 0.33647223662121295, \"algea_EC50: predicted\": 2.3050767326094315, \"rat_LD50: true\": -2.544144325713513, \"rat_LD50: predicted\": -2.4317592542156494, \"ecoli_MIC: true\": 2.841506905503749, \"ecoli_MIC: predicted\": 3.149300058882882}, {\"fish_LC50: true\": 0.007472014838700858, \"fish_LC50: predicted\": 1.8734724260034694, \"daphnia_EC50: true\": -0.4557063245449111, \"daphnia_EC50: predicted\": 0.8992135139402563, \"algea_EC50: true\": -0.3681693233644676, \"algea_EC50: predicted\": 1.9927814971264128, \"rat_LD50: true\": -1.492, \"rat_LD50: predicted\": -1.7652578457796846, \"ecoli_MIC: true\": 2.841506905503749, \"ecoli_MIC: predicted\": 2.841506905503749}, {\"fish_LC50: true\": 0.35767444427181583, \"fish_LC50: predicted\": 1.812191425251418, \"daphnia_EC50: true\": -0.27707189333976534, \"daphnia_EC50: predicted\": 0.8650543853054282, \"algea_EC50: true\": 0.6931471805599454, \"algea_EC50: predicted\": 1.6894810120936081, \"rat_LD50: true\": -2.544144325713513, \"rat_LD50: predicted\": -2.2500236404580196, \"ecoli_MIC: true\": 2.841506905503749, \"ecoli_MIC: predicted\": 2.9019367797649447}, {\"fish_LC50: true\": 0.7178397931503167, \"fish_LC50: predicted\": 2.099364902472874, \"daphnia_EC50: true\": 1.5231041560753946, \"daphnia_EC50: predicted\": 1.4497472453420739, \"algea_EC50: true\": 0.9162907318741551, \"algea_EC50: predicted\": 2.4470544873636664, \"rat_LD50: true\": -2.544144325713513, \"rat_LD50: predicted\": -2.504094283203608, \"ecoli_MIC: true\": 2.841506905503749, \"ecoli_MIC: predicted\": 3.0942635731062738}, {\"fish_LC50: true\": 4.351567427189173, \"fish_LC50: predicted\": 2.3843699580790516, \"daphnia_EC50: true\": 3.502549875922443, \"daphnia_EC50: predicted\": 2.1027809892953613, \"algea_EC50: true\": 4.378269585796169, \"algea_EC50: predicted\": 2.789220088431566, \"rat_LD50: true\": -2.544144325713513, \"rat_LD50: predicted\": -2.219662791296922, \"ecoli_MIC: true\": 2.841506905503749, \"ecoli_MIC: predicted\": 2.841506905503749}, {\"fish_LC50: true\": 8.60363048698599, \"fish_LC50: predicted\": 2.4675261759622646, \"daphnia_EC50: true\": 1.5231041560753946, \"daphnia_EC50: predicted\": 1.6998391567701465, \"algea_EC50: true\": 8.766914796271607, \"algea_EC50: predicted\": 2.548653594427858, \"rat_LD50: true\": -1.265, \"rat_LD50: predicted\": -1.438610667993981, \"ecoli_MIC: true\": 2.841506905503749, \"ecoli_MIC: predicted\": 2.841506905503749}, {\"fish_LC50: true\": 1.2237754316221157, \"fish_LC50: predicted\": 1.895977074961569, \"daphnia_EC50: true\": -0.15082288973458358, \"daphnia_EC50: predicted\": 1.3385923561527564, \"algea_EC50: true\": 2.066862759472976, \"algea_EC50: predicted\": 2.4627399662283764, \"rat_LD50: true\": -2.77, \"rat_LD50: predicted\": -3.2860043307747, \"ecoli_MIC: true\": 2.841506905503749, \"ecoli_MIC: predicted\": 2.8588590623346577}, {\"fish_LC50: true\": 2.766319109226186, \"fish_LC50: predicted\": 2.2009904747376132, \"daphnia_EC50: true\": 0.7884573603642703, \"daphnia_EC50: predicted\": 1.7013957361537337, \"algea_EC50: true\": 2.4849066497880004, \"algea_EC50: predicted\": 2.473023645766741, \"rat_LD50: true\": -2.544144325713513, \"rat_LD50: predicted\": -2.0861674511925474, \"ecoli_MIC: true\": 2.841506905503749, \"ecoli_MIC: predicted\": 2.859538024597362}, {\"fish_LC50: true\": 2.5649493574615367, \"fish_LC50: predicted\": 2.205571165377496, \"daphnia_EC50: true\": 2.1633230256605382, \"daphnia_EC50: predicted\": 1.9390433748430218, \"algea_EC50: true\": 2.9957322735539917, \"algea_EC50: predicted\": 2.585489561514341, \"rat_LD50: true\": -2.544144325713513, \"rat_LD50: predicted\": -2.3038268125919377, \"ecoli_MIC: true\": 2.841506905503749, \"ecoli_MIC: predicted\": 2.84809754167552}, {\"fish_LC50: true\": 0.9707789171582248, \"fish_LC50: predicted\": 1.9051734544049381, \"daphnia_EC50: true\": -0.5798184952529419, \"daphnia_EC50: predicted\": 1.396641122856161, \"algea_EC50: true\": 0.029558802241544502, \"algea_EC50: predicted\": 2.1123726412977204, \"rat_LD50: true\": -2.544144325713513, \"rat_LD50: predicted\": -2.1805976080943306, \"ecoli_MIC: true\": 2.841506905503749, \"ecoli_MIC: predicted\": 2.8451983403310748}, {\"fish_LC50: true\": 4.941642422609304, \"fish_LC50: predicted\": 3.2931488169855268, \"daphnia_EC50: true\": 1.5231041560753946, \"daphnia_EC50: predicted\": 2.446791148631414, \"algea_EC50: true\": 4.941642422609304, \"algea_EC50: predicted\": 3.404852357279842, \"rat_LD50: true\": -1.764, \"rat_LD50: predicted\": -2.2259124017215948, \"ecoli_MIC: true\": 2.841506905503749, \"ecoli_MIC: predicted\": 2.842583162395639}, {\"fish_LC50: true\": 2.519308076505333, \"fish_LC50: predicted\": 2.2684786848482097, \"daphnia_EC50: true\": 2.5014359517392117, \"daphnia_EC50: predicted\": 2.1024004543190133, \"algea_EC50: true\": 3.2068032436339315, \"algea_EC50: predicted\": 2.5232753702133484, \"rat_LD50: true\": -2.544144325713513, \"rat_LD50: predicted\": -2.204746343090266, \"ecoli_MIC: true\": 2.841506905503749, \"ecoli_MIC: predicted\": 2.841506905503749}, {\"fish_LC50: true\": -1.171182981502945, \"fish_LC50: predicted\": 1.9677348098684666, \"daphnia_EC50: true\": -1.3862943611198906, \"daphnia_EC50: predicted\": 0.996941220595181, \"algea_EC50: true\": 0.9932517730102834, \"algea_EC50: predicted\": 2.3035741204759734, \"rat_LD50: true\": -2.544144325713513, \"rat_LD50: predicted\": -2.109841662681223, \"ecoli_MIC: true\": 2.841506905503749, \"ecoli_MIC: predicted\": 2.85877255693911}, {\"fish_LC50: true\": 0.1570037488096645, \"fish_LC50: predicted\": 0.5285893836319564, \"daphnia_EC50: true\": -0.32850406697203605, \"daphnia_EC50: predicted\": 1.2486115606362138, \"algea_EC50: true\": 0.5596157879354227, \"algea_EC50: predicted\": 2.2534534535803736, \"rat_LD50: true\": -2.544144325713513, \"rat_LD50: predicted\": -1.8080290653875974, \"ecoli_MIC: true\": 2.841506905503749, \"ecoli_MIC: predicted\": 2.841506905503749}, {\"fish_LC50: true\": 4.140520575950627, \"fish_LC50: predicted\": 2.3402127392978977, \"daphnia_EC50: true\": 1.5231041560753946, \"daphnia_EC50: predicted\": 2.577232567502378, \"algea_EC50: true\": 2.458733775483977, \"algea_EC50: predicted\": 2.6642565208708096, \"rat_LD50: true\": -1.425, \"rat_LD50: predicted\": -2.150145925370535, \"ecoli_MIC: true\": 2.841506905503749, \"ecoli_MIC: predicted\": 2.8563733764352532}, {\"fish_LC50: true\": 1.9459101490553128, \"fish_LC50: predicted\": 2.0795121506409466, \"daphnia_EC50: true\": 1.1939224684724346, \"daphnia_EC50: predicted\": 1.353468596883048, \"algea_EC50: true\": 1.3217558399823195, \"algea_EC50: predicted\": 2.197820464952853, \"rat_LD50: true\": -1.6769999999999998, \"rat_LD50: predicted\": -1.9516423410679091, \"ecoli_MIC: true\": 2.841506905503749, \"ecoli_MIC: predicted\": 2.841506905503749}, {\"fish_LC50: true\": 2.151762203259462, \"fish_LC50: predicted\": 2.0587155302466225, \"daphnia_EC50: true\": 1.6114359150967734, \"daphnia_EC50: predicted\": 1.5113058144547065, \"algea_EC50: true\": -2.5383074265151153, \"algea_EC50: predicted\": 2.4015905998029674, \"rat_LD50: true\": -2.774, \"rat_LD50: predicted\": -2.2532813522373614, \"ecoli_MIC: true\": 2.841506905503749, \"ecoli_MIC: predicted\": 2.8600279513146765}, {\"fish_LC50: true\": 1.7227665977411035, \"fish_LC50: predicted\": 1.9665866217426156, \"daphnia_EC50: true\": 1.5231041560753946, \"daphnia_EC50: predicted\": 1.4661233380468768, \"algea_EC50: true\": 1.4350845252893227, \"algea_EC50: predicted\": 2.149538615543289, \"rat_LD50: true\": -2.544144325713513, \"rat_LD50: predicted\": -2.340524391144996, \"ecoli_MIC: true\": 2.841506905503749, \"ecoli_MIC: predicted\": 2.849983281084717}, {\"fish_LC50: true\": -1.2378743560016177, \"fish_LC50: predicted\": 1.2721697243861159, \"daphnia_EC50: true\": -2.120263536200091, \"daphnia_EC50: predicted\": 0.4659641424425791, \"algea_EC50: true\": 0.5306282510621703, \"algea_EC50: predicted\": 1.7161949579278133, \"rat_LD50: true\": -2.8510000000000004, \"rat_LD50: predicted\": -2.3093764287219773, \"ecoli_MIC: true\": 2.841506905503749, \"ecoli_MIC: predicted\": 2.873065373274479}, {\"fish_LC50: true\": 6.040254711277415, \"fish_LC50: predicted\": 2.1760879922853618, \"daphnia_EC50: true\": 1.5231041560753946, \"daphnia_EC50: predicted\": 1.504094492208804, \"algea_EC50: true\": 3.5263605246161616, \"algea_EC50: predicted\": 2.385455352254327, \"rat_LD50: true\": -2.544144325713513, \"rat_LD50: predicted\": -2.493209425925061, \"ecoli_MIC: true\": 2.841506905503749, \"ecoli_MIC: predicted\": 3.1768360808635427}, {\"fish_LC50: true\": -1.7808195291897206, \"fish_LC50: predicted\": 0.9887411484479445, \"daphnia_EC50: true\": 1.5231041560753946, \"daphnia_EC50: predicted\": 0.8940067386469089, \"algea_EC50: true\": -2.1541650878757723, \"algea_EC50: predicted\": 2.4111508651342923, \"rat_LD50: true\": -2.352, \"rat_LD50: predicted\": -2.5491481488984933, \"ecoli_MIC: true\": 2.841506905503749, \"ecoli_MIC: predicted\": 2.8865565174468233}, {\"fish_LC50: true\": 1.8946168546677629, \"fish_LC50: predicted\": 2.114793408949824, \"daphnia_EC50: true\": 1.7749523509116738, \"daphnia_EC50: predicted\": 1.796988838905665, \"algea_EC50: true\": 2.4849066497880004, \"algea_EC50: predicted\": 2.5913196326611105, \"rat_LD50: true\": -2.544144325713513, \"rat_LD50: predicted\": -2.3658148598209663, \"ecoli_MIC: true\": 2.841506905503749, \"ecoli_MIC: predicted\": 2.8871903019566445}, {\"fish_LC50: true\": 1.3862943611198906, \"fish_LC50: predicted\": 2.2482918477535265, \"daphnia_EC50: true\": 2.9957322735539917, \"daphnia_EC50: predicted\": 2.0499077329018167, \"algea_EC50: true\": 3.5263605246161616, \"algea_EC50: predicted\": 2.921644307109754, \"rat_LD50: true\": -2.544144325713513, \"rat_LD50: predicted\": -2.20763049690193, \"ecoli_MIC: true\": 2.841506905503749, \"ecoli_MIC: predicted\": 2.9008529123997175}, {\"fish_LC50: true\": 6.0591231955817975, \"fish_LC50: predicted\": 3.9516338491371887, \"daphnia_EC50: true\": 1.5231041560753946, \"daphnia_EC50: predicted\": 1.7719234821093182, \"algea_EC50: true\": 6.413458957167357, \"algea_EC50: predicted\": 2.857705137392475, \"rat_LD50: true\": -1.587, \"rat_LD50: predicted\": -1.7252514483108068, \"ecoli_MIC: true\": 2.841506905503749, \"ecoli_MIC: predicted\": 2.841506905503749}, {\"fish_LC50: true\": 0.9932517730102834, \"fish_LC50: predicted\": 2.081869044877894, \"daphnia_EC50: true\": 0.26236426446749106, \"daphnia_EC50: predicted\": 1.6775448703885416, \"algea_EC50: true\": 1.6639260977181702, \"algea_EC50: predicted\": 2.2941454489715207, \"rat_LD50: true\": -1.513, \"rat_LD50: predicted\": -2.119965724347847, \"ecoli_MIC: true\": 2.841506905503749, \"ecoli_MIC: predicted\": 2.873970991606142}, {\"fish_LC50: true\": -0.09428972939525515, \"fish_LC50: predicted\": 1.8678748910482268, \"daphnia_EC50: true\": 1.5231041560753946, \"daphnia_EC50: predicted\": 1.2657142211909287, \"algea_EC50: true\": 0.40613155265132495, \"algea_EC50: predicted\": 2.229236811540641, \"rat_LD50: true\": -1.734, \"rat_LD50: predicted\": -2.013111084621262, \"ecoli_MIC: true\": 2.841506905503749, \"ecoli_MIC: predicted\": 2.843738635590131}, {\"fish_LC50: true\": 1.8325814637483104, \"fish_LC50: predicted\": 2.3524235652344916, \"daphnia_EC50: true\": 3.40452517175483, \"daphnia_EC50: predicted\": 2.409734031334713, \"algea_EC50: true\": 3.0204248861443626, \"algea_EC50: predicted\": 2.8823592659177883, \"rat_LD50: true\": -2.544144325713513, \"rat_LD50: predicted\": -2.2734904311523856, \"ecoli_MIC: true\": 2.841506905503749, \"ecoli_MIC: predicted\": 2.847301579707175}, {\"fish_LC50: true\": 4.31748811353631, \"fish_LC50: predicted\": 2.50592223883446, \"daphnia_EC50: true\": 3.4011973816621555, \"daphnia_EC50: predicted\": 1.8167154662209053, \"algea_EC50: true\": 3.871201010907892, \"algea_EC50: predicted\": 2.7371906231543126, \"rat_LD50: true\": -2.544144325713513, \"rat_LD50: predicted\": -2.0508202939984277, \"ecoli_MIC: true\": 2.841506905503749, \"ecoli_MIC: predicted\": 2.841506905503749}, {\"fish_LC50: true\": 2.9444389791664403, \"fish_LC50: predicted\": 2.553474294762332, \"daphnia_EC50: true\": 1.5231041560753946, \"daphnia_EC50: predicted\": 2.0266813417795477, \"algea_EC50: true\": 2.776331708518616, \"algea_EC50: predicted\": 2.8449300778528572, \"rat_LD50: true\": -2.544144325713513, \"rat_LD50: predicted\": -2.3131763426030787, \"ecoli_MIC: true\": 2.841506905503749, \"ecoli_MIC: predicted\": 2.855466330117848}, {\"fish_LC50: true\": 2.0675184946526133, \"fish_LC50: predicted\": 2.599921069877529, \"daphnia_EC50: true\": 1.5231041560753946, \"daphnia_EC50: predicted\": 1.902402502850846, \"algea_EC50: true\": 2.0014800002101243, \"algea_EC50: predicted\": 2.674713090854374, \"rat_LD50: true\": -1.357, \"rat_LD50: predicted\": -1.8973172335883448, \"ecoli_MIC: true\": 2.841506905503749, \"ecoli_MIC: predicted\": 2.843778243741432}, {\"fish_LC50: true\": 0.5738004229273792, \"fish_LC50: predicted\": 2.16897882828948, \"daphnia_EC50: true\": 0.4317824164255377, \"daphnia_EC50: predicted\": 1.5333224385385074, \"algea_EC50: true\": 1.5040773967762742, \"algea_EC50: predicted\": 2.336785110508807, \"rat_LD50: true\": -2.544144325713513, \"rat_LD50: predicted\": -2.072616062086593, \"ecoli_MIC: true\": 2.841506905503749, \"ecoli_MIC: predicted\": 2.844913912860273}, {\"fish_LC50: true\": 2.1234584270966104, \"fish_LC50: predicted\": 2.005976962217197, \"daphnia_EC50: true\": 1.8779371654691075, \"daphnia_EC50: predicted\": 1.3875194956183892, \"algea_EC50: true\": -0.3243460568233725, \"algea_EC50: predicted\": 2.428822582244922, \"rat_LD50: true\": -2.544144325713513, \"rat_LD50: predicted\": -2.4177250901539753, \"ecoli_MIC: true\": 2.841506905503749, \"ecoli_MIC: predicted\": 3.2384739822387205}, {\"fish_LC50: true\": -2.7488721956224667, \"fish_LC50: predicted\": 0.31771002688225103, \"daphnia_EC50: true\": -3.296837366337913, \"daphnia_EC50: predicted\": -0.7210247657878097, \"algea_EC50: true\": -2.590267165445826, \"algea_EC50: predicted\": 1.3314449350038216, \"rat_LD50: true\": -2.544144325713513, \"rat_LD50: predicted\": -2.5159943296144496, \"ecoli_MIC: true\": 2.841506905503749, \"ecoli_MIC: predicted\": 2.7993461767332044}, {\"fish_LC50: true\": -1.6094379124341005, \"fish_LC50: predicted\": 0.9438689228443744, \"daphnia_EC50: true\": 1.5231041560753946, \"daphnia_EC50: predicted\": -0.8098631704092367, \"algea_EC50: true\": -5.4943322504739935, \"algea_EC50: predicted\": 0.6806758293484481, \"rat_LD50: true\": -2.544144325713513, \"rat_LD50: predicted\": -2.516073994946402, \"ecoli_MIC: true\": 2.841506905503749, \"ecoli_MIC: predicted\": 2.717048529647467}, {\"fish_LC50: true\": 1.8794650496471603, \"fish_LC50: predicted\": 0.586078063381142, \"daphnia_EC50: true\": 1.5231041560753946, \"daphnia_EC50: predicted\": -0.12332557577468473, \"algea_EC50: true\": -0.6931471805599454, \"algea_EC50: predicted\": 1.8772052269499704, \"rat_LD50: true\": -2.544144325713513, \"rat_LD50: predicted\": -2.5164454777996403, \"ecoli_MIC: true\": 2.841506905503749, \"ecoli_MIC: predicted\": 2.7314376059549432}, {\"fish_LC50: true\": 2.8791984572980396, \"fish_LC50: predicted\": 2.3801613429329835, \"daphnia_EC50: true\": 2.0268315914075385, \"daphnia_EC50: predicted\": 1.550340484450472, \"algea_EC50: true\": 2.9444389791664403, \"algea_EC50: predicted\": 2.582846392764702, \"rat_LD50: true\": -1.983, \"rat_LD50: predicted\": -2.370290357973769, \"ecoli_MIC: true\": 2.841506905503749, \"ecoli_MIC: predicted\": 2.8628973987672115}, {\"fish_LC50: true\": -2.563949857128453, \"fish_LC50: predicted\": 0.875566264633141, \"daphnia_EC50: true\": -2.9565115604007097, \"daphnia_EC50: predicted\": -0.76638165878506, \"algea_EC50: true\": -2.6592600369327783, \"algea_EC50: predicted\": 1.8241277353731702, \"rat_LD50: true\": -2.544144325713513, \"rat_LD50: predicted\": -2.506373602808571, \"ecoli_MIC: true\": 2.841506905503749, \"ecoli_MIC: predicted\": 2.8373068517385978}, {\"fish_LC50: true\": 1.4487449945097102, \"fish_LC50: predicted\": 2.4155689635680133, \"daphnia_EC50: true\": 2.2082744135228043, \"daphnia_EC50: predicted\": 2.1321671226616488, \"algea_EC50: true\": 2.4849066497880004, \"algea_EC50: predicted\": 2.833207245615707, \"rat_LD50: true\": -0.536, \"rat_LD50: predicted\": -1.9040136819361027, \"ecoli_MIC: true\": 2.841506905503749, \"ecoli_MIC: predicted\": 2.844913912860273}, {\"fish_LC50: true\": 2.5563742344226426, \"fish_LC50: predicted\": 2.110062170450055, \"daphnia_EC50: true\": 1.6863989535702288, \"daphnia_EC50: predicted\": 1.671340028586919, \"algea_EC50: true\": 2.6390573296152584, \"algea_EC50: predicted\": 2.449686270834444, \"rat_LD50: true\": -2.544144325713513, \"rat_LD50: predicted\": -2.335849697063049, \"ecoli_MIC: true\": 2.841506905503749, \"ecoli_MIC: predicted\": 2.8827693418801346}, {\"fish_LC50: true\": 0.41210965082683293, \"fish_LC50: predicted\": 0.8847832708734567, \"daphnia_EC50: true\": 1.434369984351454, \"daphnia_EC50: predicted\": 1.5157968735491971, \"algea_EC50: true\": 1.7119945007591926, \"algea_EC50: predicted\": 2.3573973640013857, \"rat_LD50: true\": -1.541, \"rat_LD50: predicted\": -2.0554650861258703, \"ecoli_MIC: true\": 2.841506905503749, \"ecoli_MIC: predicted\": 2.8785128705932537}, {\"fish_LC50: true\": 7.301147805856031, \"fish_LC50: predicted\": 2.4136238968507238, \"daphnia_EC50: true\": 1.5231041560753946, \"daphnia_EC50: predicted\": 1.8058356422076551, \"algea_EC50: true\": 6.434546518787452, \"algea_EC50: predicted\": 2.599235292005016, \"rat_LD50: true\": -2.4, \"rat_LD50: predicted\": -1.6473177047067362, \"ecoli_MIC: true\": 2.841506905503749, \"ecoli_MIC: predicted\": 2.841506905503749}, {\"fish_LC50: true\": 2.8731056045730794, \"fish_LC50: predicted\": 2.072676916274642, \"daphnia_EC50: true\": 3.49650756146648, \"daphnia_EC50: predicted\": 1.4656255740281081, \"algea_EC50: true\": 4.110873864173311, \"algea_EC50: predicted\": 2.487937152060357, \"rat_LD50: true\": -2.123, \"rat_LD50: predicted\": -2.1856749095288506, \"ecoli_MIC: true\": 2.841506905503749, \"ecoli_MIC: predicted\": 2.8521986656288476}, {\"fish_LC50: true\": -0.7021230210755296, \"fish_LC50: predicted\": 1.6889729988150914, \"daphnia_EC50: true\": 0.6418538861723946, \"daphnia_EC50: predicted\": 1.5415282279242413, \"algea_EC50: true\": -5.9914645471079835, \"algea_EC50: predicted\": 2.4298301487060834, \"rat_LD50: true\": -2.253, \"rat_LD50: predicted\": -2.4210076220102574, \"ecoli_MIC: true\": 2.841506905503749, \"ecoli_MIC: predicted\": 2.8923113586136338}, {\"fish_LC50: true\": 4.820281565605037, \"fish_LC50: predicted\": 3.42852998219138, \"daphnia_EC50: true\": 3.3568971227655755, \"daphnia_EC50: predicted\": 2.459350956830881, \"algea_EC50: true\": 1.9300710850255671, \"algea_EC50: predicted\": 2.794033146961545, \"rat_LD50: true\": -2.544144325713513, \"rat_LD50: predicted\": -2.2452666335509015, \"ecoli_MIC: true\": 2.841506905503749, \"ecoli_MIC: predicted\": 2.841506905503749}, {\"fish_LC50: true\": 1.8562979903656265, \"fish_LC50: predicted\": 2.120326277071115, \"daphnia_EC50: true\": 1.5231041560753946, \"daphnia_EC50: predicted\": 1.7149552315367975, \"algea_EC50: true\": 2.772588722239781, \"algea_EC50: predicted\": 2.776701756256673, \"rat_LD50: true\": -2.544144325713513, \"rat_LD50: predicted\": -2.2578663308024147, \"ecoli_MIC: true\": 2.841506905503749, \"ecoli_MIC: predicted\": 2.902980357553304}, {\"fish_LC50: true\": 3.077312260546414, \"fish_LC50: predicted\": 2.055895062435563, \"daphnia_EC50: true\": 1.5231041560753946, \"daphnia_EC50: predicted\": 1.6333519715687719, \"algea_EC50: true\": 4.030339232246188, \"algea_EC50: predicted\": 2.486050209837794, \"rat_LD50: true\": -2.544144325713513, \"rat_LD50: predicted\": -2.1843858523727886, \"ecoli_MIC: true\": 2.841506905503749, \"ecoli_MIC: predicted\": 2.841506905503749}, {\"fish_LC50: true\": 4.244200317766478, \"fish_LC50: predicted\": 2.78697280032966, \"daphnia_EC50: true\": 3.3357695763397004, \"daphnia_EC50: predicted\": 2.072458424382636, \"algea_EC50: true\": 5.0106352940962555, \"algea_EC50: predicted\": 3.051426752295193, \"rat_LD50: true\": -2.544144325713513, \"rat_LD50: predicted\": -2.4003578400733887, \"ecoli_MIC: true\": 2.841506905503749, \"ecoli_MIC: predicted\": 2.841506905503749}, {\"fish_LC50: true\": 4.69951486425827, \"fish_LC50: predicted\": 2.2114294475297784, \"daphnia_EC50: true\": 4.184748788096121, \"daphnia_EC50: predicted\": 1.6183605456928716, \"algea_EC50: true\": 4.276666119016055, \"algea_EC50: predicted\": 2.42098577130689, \"rat_LD50: true\": -1.992, \"rat_LD50: predicted\": -2.141924929817971, \"ecoli_MIC: true\": 2.841506905503749, \"ecoli_MIC: predicted\": 2.8461416996047255}, {\"fish_LC50: true\": 4.294544299005232, \"fish_LC50: predicted\": 3.1089053268661933, \"daphnia_EC50: true\": -0.8675005677047232, \"daphnia_EC50: predicted\": 1.5894539579843079, \"algea_EC50: true\": 2.7080502011022096, \"algea_EC50: predicted\": 2.6873408384518847, \"rat_LD50: true\": -2.544144325713513, \"rat_LD50: predicted\": -2.2620421169640004, \"ecoli_MIC: true\": 2.841506905503749, \"ecoli_MIC: predicted\": 2.8416893486397217}, {\"fish_LC50: true\": 1.9459101490553128, \"fish_LC50: predicted\": 2.116167395127062, \"daphnia_EC50: true\": 3.9120230054281464, \"daphnia_EC50: predicted\": 1.8274559614971615, \"algea_EC50: true\": -3.9120230054281473, \"algea_EC50: predicted\": 1.887755875248112, \"rat_LD50: true\": -2.454, \"rat_LD50: predicted\": -2.3803888433799445, \"ecoli_MIC: true\": 2.841506905503749, \"ecoli_MIC: predicted\": 2.857235593482455}, {\"fish_LC50: true\": 6.479824321126236, \"fish_LC50: predicted\": 2.4146099265205274, \"daphnia_EC50: true\": 1.5231041560753946, \"daphnia_EC50: predicted\": 2.1089855768427848, \"algea_EC50: true\": 5.132522488751033, \"algea_EC50: predicted\": 2.639447511846598, \"rat_LD50: true\": -2.544144325713513, \"rat_LD50: predicted\": -2.03849413535297, \"ecoli_MIC: true\": 2.841506905503749, \"ecoli_MIC: predicted\": 2.883860527558244}, {\"fish_LC50: true\": 1.1662709371419244, \"fish_LC50: predicted\": 1.970121258484196, \"daphnia_EC50: true\": 2.4932054526026954, \"daphnia_EC50: predicted\": 1.9318860233037634, \"algea_EC50: true\": 2.028148247292285, \"algea_EC50: predicted\": 2.3901486767831135, \"rat_LD50: true\": -1.644, \"rat_LD50: predicted\": -1.9672971703621038, \"ecoli_MIC: true\": 2.841506905503749, \"ecoli_MIC: predicted\": 2.8951367358161306}, {\"fish_LC50: true\": 2.379546134130174, \"fish_LC50: predicted\": 2.4541879174327836, \"daphnia_EC50: true\": 3.2995337278856547, \"daphnia_EC50: predicted\": 1.843245789628771, \"algea_EC50: true\": 3.1822118404966093, \"algea_EC50: predicted\": 2.8418637760925125, \"rat_LD50: true\": -1.854, \"rat_LD50: predicted\": -1.9298712029271066, \"ecoli_MIC: true\": 2.841506905503749, \"ecoli_MIC: predicted\": 2.8605843305180394}, {\"fish_LC50: true\": -0.5108256237659909, \"fish_LC50: predicted\": 1.8487712882851117, \"daphnia_EC50: true\": -1.3093333199837625, \"daphnia_EC50: predicted\": 0.9163143415200249, \"algea_EC50: true\": -2.0402208285265546, \"algea_EC50: predicted\": 2.093138814441447, \"rat_LD50: true\": -2.544144325713513, \"rat_LD50: predicted\": -2.093163049018395, \"ecoli_MIC: true\": 2.841506905503749, \"ecoli_MIC: predicted\": 2.841506905503749}, {\"fish_LC50: true\": 3.7635229971097015, \"fish_LC50: predicted\": 2.7925247332133973, \"daphnia_EC50: true\": 1.5231041560753946, \"daphnia_EC50: predicted\": 1.7412411656417726, \"algea_EC50: true\": 4.154184562578116, \"algea_EC50: predicted\": 2.6371616982558037, \"rat_LD50: true\": -2.184, \"rat_LD50: predicted\": -2.3078893343388884, \"ecoli_MIC: true\": 2.841506905503749, \"ecoli_MIC: predicted\": 2.855434084231474}, {\"fish_LC50: true\": 2.1141853652720166, \"fish_LC50: predicted\": 1.8139816822309038, \"daphnia_EC50: true\": 2.5649493574615367, \"daphnia_EC50: predicted\": 1.6412773846706306, \"algea_EC50: true\": -1.5606477482646683, \"algea_EC50: predicted\": 2.4406099266084746, \"rat_LD50: true\": -2.049, \"rat_LD50: predicted\": -2.3928580448782886, \"ecoli_MIC: true\": 2.841506905503749, \"ecoli_MIC: predicted\": 2.9181408270191733}, {\"fish_LC50: true\": 2.670694414558441, \"fish_LC50: predicted\": 2.427179435341403, \"daphnia_EC50: true\": 0.33647223662121295, \"daphnia_EC50: predicted\": 1.4583251519269138, \"algea_EC50: true\": -3.4769990950784377, \"algea_EC50: predicted\": 2.1368135665946713, \"rat_LD50: true\": -2.36, \"rat_LD50: predicted\": -2.2858091797090916, \"ecoli_MIC: true\": 2.841506905503749, \"ecoli_MIC: predicted\": 2.8946186681300317}, {\"fish_LC50: true\": 1.3862943611198906, \"fish_LC50: predicted\": 2.3704226252852023, \"daphnia_EC50: true\": 1.0986122886681098, \"daphnia_EC50: predicted\": 1.7024615699255696, \"algea_EC50: true\": 3.6109179126442235, \"algea_EC50: predicted\": 2.5826035762195527, \"rat_LD50: true\": -3.511, \"rat_LD50: predicted\": -2.46998967056202, \"ecoli_MIC: true\": 2.841506905503749, \"ecoli_MIC: predicted\": 2.8605309395149785}, {\"fish_LC50: true\": 2.602689685444384, \"fish_LC50: predicted\": 1.7223781650200496, \"daphnia_EC50: true\": 2.6390573296152584, \"daphnia_EC50: predicted\": 1.748916511970111, \"algea_EC50: true\": 0.4054651081081646, \"algea_EC50: predicted\": 2.5112910500583285, \"rat_LD50: true\": -2.544144325713513, \"rat_LD50: predicted\": -1.8749175006822711, \"ecoli_MIC: true\": 2.841506905503749, \"ecoli_MIC: predicted\": 2.869527237970157}, {\"fish_LC50: true\": 2.225704048658088, \"fish_LC50: predicted\": 2.051471046481854, \"daphnia_EC50: true\": 1.5231041560753946, \"daphnia_EC50: predicted\": 1.8533397069931745, \"algea_EC50: true\": 4.272490747605575, \"algea_EC50: predicted\": 2.4424148831991217, \"rat_LD50: true\": -2.544144325713513, \"rat_LD50: predicted\": -2.2045484600554417, \"ecoli_MIC: true\": 2.841506905503749, \"ecoli_MIC: predicted\": 2.9908628677561637}, {\"fish_LC50: true\": 5.240105456799623, \"fish_LC50: predicted\": 2.0364397099942932, \"daphnia_EC50: true\": 3.7352858269280915, \"daphnia_EC50: predicted\": 1.7096629992652428, \"algea_EC50: true\": 3.58351893845611, \"algea_EC50: predicted\": 2.4300038812079583, \"rat_LD50: true\": -2.6210000000000004, \"rat_LD50: predicted\": -2.361905528189647, \"ecoli_MIC: true\": 2.841506905503749, \"ecoli_MIC: predicted\": 3.025796437580853}, {\"fish_LC50: true\": 1.6486586255873816, \"fish_LC50: predicted\": 2.218328886628065, \"daphnia_EC50: true\": 2.4849066497880004, \"daphnia_EC50: predicted\": 1.7708537070409986, \"algea_EC50: true\": 3.0445224377234235, \"algea_EC50: predicted\": 2.8401083900138344, \"rat_LD50: true\": -2.544144325713513, \"rat_LD50: predicted\": -2.1410095715401836, \"ecoli_MIC: true\": 2.841506905503749, \"ecoli_MIC: predicted\": 2.8753512007092565}, {\"fish_LC50: true\": 2.6390573296152584, \"fish_LC50: predicted\": 2.264786713654381, \"daphnia_EC50: true\": 3.6375861597263857, \"daphnia_EC50: predicted\": 1.7095820613365973, \"algea_EC50: true\": 2.9391619220655967, \"algea_EC50: predicted\": 2.6618701458428027, \"rat_LD50: true\": -2.1790000000000003, \"rat_LD50: predicted\": -2.1385984821942836, \"ecoli_MIC: true\": 2.841506905503749, \"ecoli_MIC: predicted\": 2.8697021666216904}, {\"fish_LC50: true\": 4.07753744390572, \"fish_LC50: predicted\": 2.5461783370467947, \"daphnia_EC50: true\": 2.9444389791664403, \"daphnia_EC50: predicted\": 1.816885063662127, \"algea_EC50: true\": 2.6741486494265287, \"algea_EC50: predicted\": 2.5450708239065296, \"rat_LD50: true\": -2.544144325713513, \"rat_LD50: predicted\": -2.0923492902937593, \"ecoli_MIC: true\": 2.841506905503749, \"ecoli_MIC: predicted\": 2.8673442542143923}, {\"fish_LC50: true\": 5.128714582161856, \"fish_LC50: predicted\": 2.7378605936925613, \"daphnia_EC50: true\": 3.828641396489095, \"daphnia_EC50: predicted\": 1.8844307518667494, \"algea_EC50: true\": 4.043051267834549, \"algea_EC50: predicted\": 2.6102349334001995, \"rat_LD50: true\": -2.316, \"rat_LD50: predicted\": -2.179458346562284, \"ecoli_MIC: true\": 2.841506905503749, \"ecoli_MIC: predicted\": 2.8654083591703428}, {\"fish_LC50: true\": 2.4849066497880004, \"fish_LC50: predicted\": 2.4406595612696025, \"daphnia_EC50: true\": 2.654297745102963, \"daphnia_EC50: predicted\": 1.617555403004901, \"algea_EC50: true\": -1.0996127890016933, \"algea_EC50: predicted\": 2.2431558577207915, \"rat_LD50: true\": -2.651, \"rat_LD50: predicted\": -2.31655187823187, \"ecoli_MIC: true\": 2.841506905503749, \"ecoli_MIC: predicted\": 2.864607752446777}, {\"fish_LC50: true\": 0.8329091229351038, \"fish_LC50: predicted\": 1.1325270451667093, \"daphnia_EC50: true\": -0.9675840262617055, \"daphnia_EC50: predicted\": 0.13645031974026112, \"algea_EC50: true\": 0.9932517730102834, \"algea_EC50: predicted\": 1.181506336677194, \"rat_LD50: true\": -2.544144325713513, \"rat_LD50: predicted\": -2.196928024310115, \"ecoli_MIC: true\": 2.841506905503749, \"ecoli_MIC: predicted\": 2.841506905503749}, {\"fish_LC50: true\": 2.483113120996334, \"fish_LC50: predicted\": 2.4214575693879095, \"daphnia_EC50: true\": 1.5040773967762742, \"daphnia_EC50: predicted\": 1.6861929884693918, \"algea_EC50: true\": 2.066862759472976, \"algea_EC50: predicted\": 2.661389898579903, \"rat_LD50: true\": -2.544144325713513, \"rat_LD50: predicted\": -2.251525524205861, \"ecoli_MIC: true\": 2.841506905503749, \"ecoli_MIC: predicted\": 2.850571314911036}, {\"fish_LC50: true\": 3.5263605246161616, \"fish_LC50: predicted\": 2.6402804298312232, \"daphnia_EC50: true\": 0.7884573603642703, \"daphnia_EC50: predicted\": 1.3868479568590002, \"algea_EC50: true\": 3.2386784521643803, \"algea_EC50: predicted\": 2.670958190628752, \"rat_LD50: true\": -2.234, \"rat_LD50: predicted\": -2.2844964257453406, \"ecoli_MIC: true\": 2.841506905503749, \"ecoli_MIC: predicted\": 2.841506905503749}, {\"fish_LC50: true\": 1.900521261895136, \"fish_LC50: predicted\": 1.9463195122110324, \"daphnia_EC50: true\": 0.4054651081081644, \"daphnia_EC50: predicted\": 0.7043475940565981, \"algea_EC50: true\": 3.4216533902295376, \"algea_EC50: predicted\": 2.452458812229066, \"rat_LD50: true\": -1.892, \"rat_LD50: predicted\": -2.4642500873754525, \"ecoli_MIC: true\": 2.841506905503749, \"ecoli_MIC: predicted\": 2.834347984788208}, {\"fish_LC50: true\": 2.5649493574615367, \"fish_LC50: predicted\": 1.8952186901280847, \"daphnia_EC50: true\": 1.5040773967762742, \"daphnia_EC50: predicted\": 0.9615643945474969, \"algea_EC50: true\": 1.423108334242607, \"algea_EC50: predicted\": 2.0427916967080506, \"rat_LD50: true\": -2.544144325713513, \"rat_LD50: predicted\": -2.4526982579247, \"ecoli_MIC: true\": 2.841506905503749, \"ecoli_MIC: predicted\": 2.8827006836346305}, {\"fish_LC50: true\": 1.175663299721839, \"fish_LC50: predicted\": 1.2752613112507523, \"daphnia_EC50: true\": 0.33647223662121295, \"daphnia_EC50: predicted\": 0.09351260066633693, \"algea_EC50: true\": 0.33647223662121295, \"algea_EC50: predicted\": 1.257196511477849, \"rat_LD50: true\": -2.544144325713513, \"rat_LD50: predicted\": -2.19639876418902, \"ecoli_MIC: true\": 2.841506905503749, \"ecoli_MIC: predicted\": 2.841506905503749}, {\"fish_LC50: true\": 2.772588722239781, \"fish_LC50: predicted\": 2.2358059650016973, \"daphnia_EC50: true\": 0.8616233305318469, \"daphnia_EC50: predicted\": 1.7520386507594328, \"algea_EC50: true\": 2.151762203259462, \"algea_EC50: predicted\": 3.0509902619656235, \"rat_LD50: true\": -1.582, \"rat_LD50: predicted\": -2.3930560897931086, \"ecoli_MIC: true\": 2.841506905503749, \"ecoli_MIC: predicted\": 2.8439675219279055}, {\"fish_LC50: true\": 4.30406509320417, \"fish_LC50: predicted\": 2.2896843506684, \"daphnia_EC50: true\": 1.5231041560753946, \"daphnia_EC50: predicted\": 1.9881509511070186, \"algea_EC50: true\": 1.5789787049493915, \"algea_EC50: predicted\": 2.773293865161379, \"rat_LD50: true\": -2.818, \"rat_LD50: predicted\": -2.392489844168769, \"ecoli_MIC: true\": 2.841506905503749, \"ecoli_MIC: predicted\": 3.2926746929254334}, {\"fish_LC50: true\": 0.5877866649021191, \"fish_LC50: predicted\": 1.2766017452027527, \"daphnia_EC50: true\": 0.4054651081081644, \"daphnia_EC50: predicted\": 0.3374892065400248, \"algea_EC50: true\": -0.2744368457017603, \"algea_EC50: predicted\": 1.1033921203119055, \"rat_LD50: true\": -2.544144325713513, \"rat_LD50: predicted\": -2.3130888074045393, \"ecoli_MIC: true\": 2.841506905503749, \"ecoli_MIC: predicted\": 2.841506905503749}, {\"fish_LC50: true\": 0.6405688491442199, \"fish_LC50: predicted\": 1.4178216684887637, \"daphnia_EC50: true\": 0.33647223662121295, \"daphnia_EC50: predicted\": 0.5174289869035817, \"algea_EC50: true\": 0.438254930931155, \"algea_EC50: predicted\": 1.0446997876922415, \"rat_LD50: true\": -1.941, \"rat_LD50: predicted\": -2.1718369935865156, \"ecoli_MIC: true\": 2.841506905503749, \"ecoli_MIC: predicted\": 2.841506905503749}, {\"fish_LC50: true\": 0.8329091229351038, \"fish_LC50: predicted\": 1.5011642777535292, \"daphnia_EC50: true\": 0.09531017980432499, \"daphnia_EC50: predicted\": 0.2687463415990181, \"algea_EC50: true\": 1.4929040961781486, \"algea_EC50: predicted\": 1.4038044788752937, \"rat_LD50: true\": -2.544144325713513, \"rat_LD50: predicted\": -2.3795358796311414, \"ecoli_MIC: true\": 2.841506905503749, \"ecoli_MIC: predicted\": 2.841506905503749}, {\"fish_LC50: true\": 2.028148247292285, \"fish_LC50: predicted\": 2.306574461397735, \"daphnia_EC50: true\": 0.09531017980432499, \"daphnia_EC50: predicted\": 1.300573367910689, \"algea_EC50: true\": 1.0116009116784799, \"algea_EC50: predicted\": 2.258591432399841, \"rat_LD50: true\": -2.544144325713513, \"rat_LD50: predicted\": -1.6996917317247653, \"ecoli_MIC: true\": 2.841506905503749, \"ecoli_MIC: predicted\": 2.841506905503749}, {\"fish_LC50: true\": 2.0399769489091644, \"fish_LC50: predicted\": 2.2141947106839406, \"daphnia_EC50: true\": -0.35667494393873245, \"daphnia_EC50: predicted\": 0.8105527489163459, \"algea_EC50: true\": 2.0541237336955462, \"algea_EC50: predicted\": 1.8915005150187092, \"rat_LD50: true\": -1.511, \"rat_LD50: predicted\": -2.2281280741270217, \"ecoli_MIC: true\": 2.841506905503749, \"ecoli_MIC: predicted\": 2.841506905503749}, {\"fish_LC50: true\": 4.143610803525019, \"fish_LC50: predicted\": 3.328006046305779, \"daphnia_EC50: true\": 1.5231041560753946, \"daphnia_EC50: predicted\": 1.8809409133362762, \"algea_EC50: true\": 4.062165663857866, \"algea_EC50: predicted\": 2.8036655647165736, \"rat_LD50: true\": -2.544144325713513, \"rat_LD50: predicted\": -2.3446696586549254, \"ecoli_MIC: true\": 2.841506905503749, \"ecoli_MIC: predicted\": 2.8450944284767146}, {\"fish_LC50: true\": 3.013080911888604, \"fish_LC50: predicted\": 2.6021367789912864, \"daphnia_EC50: true\": 3.1354942159291497, \"daphnia_EC50: predicted\": 2.005753340507168, \"algea_EC50: true\": 3.258096538021482, \"algea_EC50: predicted\": 2.9019098389077826, \"rat_LD50: true\": -2.322, \"rat_LD50: predicted\": -2.3632041078633166, \"ecoli_MIC: true\": 2.841506905503749, \"ecoli_MIC: predicted\": 2.842367911017261}, {\"fish_LC50: true\": 3.1045866784660734, \"fish_LC50: predicted\": 3.4094991327848643, \"daphnia_EC50: true\": 4.155753190350744, \"daphnia_EC50: predicted\": 2.5293851754068934, \"algea_EC50: true\": 4.143134726391533, \"algea_EC50: predicted\": 3.1253696331469216, \"rat_LD50: true\": -2.119, \"rat_LD50: predicted\": -2.070252797205651, \"ecoli_MIC: true\": 2.841506905503749, \"ecoli_MIC: predicted\": 2.841506905503749}, {\"fish_LC50: true\": 4.639571612705423, \"fish_LC50: predicted\": 3.831376364059852, \"daphnia_EC50: true\": 3.688879454113936, \"daphnia_EC50: predicted\": 2.9500236861968574, \"algea_EC50: true\": 4.314323110193153, \"algea_EC50: predicted\": 3.6991678731425877, \"rat_LD50: true\": -1.895, \"rat_LD50: predicted\": -2.1793359105654466, \"ecoli_MIC: true\": 2.841506905503749, \"ecoli_MIC: predicted\": 2.841506905503749}, {\"fish_LC50: true\": 2.424802725718295, \"fish_LC50: predicted\": 2.125512456379305, \"daphnia_EC50: true\": 2.028148247292285, \"daphnia_EC50: predicted\": 1.771470776155908, \"algea_EC50: true\": 1.673351238177753, \"algea_EC50: predicted\": 2.336311646525442, \"rat_LD50: true\": -2.544144325713513, \"rat_LD50: predicted\": -2.4489584576944896, \"ecoli_MIC: true\": 2.841506905503749, \"ecoli_MIC: predicted\": 2.903315458234945}, {\"fish_LC50: true\": 2.0541237336955462, \"fish_LC50: predicted\": 1.622926138075698, \"daphnia_EC50: true\": 0.5306282510621704, \"daphnia_EC50: predicted\": 0.4459099621520499, \"algea_EC50: true\": 1.9021075263969205, \"algea_EC50: predicted\": 1.7168366558891455, \"rat_LD50: true\": -2.544144325713513, \"rat_LD50: predicted\": -2.385863548833454, \"ecoli_MIC: true\": 2.841506905503749, \"ecoli_MIC: predicted\": 2.8422244100983423}, {\"fish_LC50: true\": 3.6109179126442235, \"fish_LC50: predicted\": 2.342509866640097, \"daphnia_EC50: true\": 2.8903717578961645, \"daphnia_EC50: predicted\": 1.670494949014601, \"algea_EC50: true\": 2.9444389791664403, \"algea_EC50: predicted\": 2.903578088936133, \"rat_LD50: true\": -2.544144325713513, \"rat_LD50: predicted\": -2.421481377066695, \"ecoli_MIC: true\": 2.841506905503749, \"ecoli_MIC: predicted\": 2.8544314504473034}, {\"fish_LC50: true\": -2.3025850929940446, \"fish_LC50: predicted\": 1.2534525840726736, \"daphnia_EC50: true\": -1.469675970058942, \"daphnia_EC50: predicted\": 0.7775334627701653, \"algea_EC50: true\": 0.18232155679395445, \"algea_EC50: predicted\": 1.2029839212343125, \"rat_LD50: true\": -2.544144325713513, \"rat_LD50: predicted\": -2.4680682591665697, \"ecoli_MIC: true\": 2.841506905503749, \"ecoli_MIC: predicted\": 2.8655535224609774}, {\"fish_LC50: true\": 2.0541237336955462, \"fish_LC50: predicted\": 2.112442598704028, \"daphnia_EC50: true\": 1.840549633397487, \"daphnia_EC50: predicted\": 1.5265030967576314, \"algea_EC50: true\": 2.4849066497880004, \"algea_EC50: predicted\": 2.3441785677440916, \"rat_LD50: true\": -2.544144325713513, \"rat_LD50: predicted\": -2.395528519343716, \"ecoli_MIC: true\": 2.841506905503749, \"ecoli_MIC: predicted\": 2.8461767900077977}, {\"fish_LC50: true\": -1.0216512475319814, \"fish_LC50: predicted\": 0.70084941250755, \"daphnia_EC50: true\": -1.108662624521611, \"daphnia_EC50: predicted\": 0.27442564904530986, \"algea_EC50: true\": -0.9675840262617061, \"algea_EC50: predicted\": 0.824734542914449, \"rat_LD50: true\": -3.29, \"rat_LD50: predicted\": -2.653459155696253, \"ecoli_MIC: true\": 2.841506905503749, \"ecoli_MIC: predicted\": 2.8561483611914036}, {\"fish_LC50: true\": 6.030685260261262, \"fish_LC50: predicted\": 2.936550549440778, \"daphnia_EC50: true\": 4.390738575275903, \"daphnia_EC50: predicted\": 2.1822194008973628, \"algea_EC50: true\": 3.971234865059992, \"algea_EC50: predicted\": 2.8472678101788427, \"rat_LD50: true\": -2.544144325713513, \"rat_LD50: predicted\": -2.452394905467763, \"ecoli_MIC: true\": 2.841506905503749, \"ecoli_MIC: predicted\": 2.818133870342286}, {\"fish_LC50: true\": 4.890349128221754, \"fish_LC50: predicted\": 2.546670966335374, \"daphnia_EC50: true\": 1.5231041560753946, \"daphnia_EC50: predicted\": 1.7679378338275609, \"algea_EC50: true\": 0.5007752879124892, \"algea_EC50: predicted\": 2.5530398823127016, \"rat_LD50: true\": -2.543, \"rat_LD50: predicted\": -2.23994723143477, \"ecoli_MIC: true\": 2.841506905503749, \"ecoli_MIC: predicted\": 2.8578806094371796}, {\"fish_LC50: true\": 4.61512051684126, \"fish_LC50: predicted\": 3.1489787149175075, \"daphnia_EC50: true\": 3.610917912644224, \"daphnia_EC50: predicted\": 2.1827411081857253, \"algea_EC50: true\": 4.465908118654584, \"algea_EC50: predicted\": 2.9210646960806526, \"rat_LD50: true\": -2.146, \"rat_LD50: predicted\": -2.2370801501023507, \"ecoli_MIC: true\": 2.841506905503749, \"ecoli_MIC: predicted\": 2.8452924692332204}, {\"fish_LC50: true\": 4.787491742782046, \"fish_LC50: predicted\": 2.5868052606734318, \"daphnia_EC50: true\": 0.7419373447293773, \"daphnia_EC50: predicted\": 2.6829782638067643, \"algea_EC50: true\": 1.4350845252893227, \"algea_EC50: predicted\": 2.5099868877751104, \"rat_LD50: true\": -2.544144325713513, \"rat_LD50: predicted\": -2.346146254398179, \"ecoli_MIC: true\": 2.841506905503749, \"ecoli_MIC: predicted\": 2.840889408267792}, {\"fish_LC50: true\": 2.3978952727983707, \"fish_LC50: predicted\": 1.980302906193141, \"daphnia_EC50: true\": 1.7047480922384253, \"daphnia_EC50: predicted\": 1.355131828925505, \"algea_EC50: true\": 0.8285518175661484, \"algea_EC50: predicted\": 2.258768481200063, \"rat_LD50: true\": -2.544144325713513, \"rat_LD50: predicted\": -2.600545564152017, \"ecoli_MIC: true\": 2.841506905503749, \"ecoli_MIC: predicted\": 2.920828436092368}, {\"fish_LC50: true\": 4.474251310319367, \"fish_LC50: predicted\": 2.4099020271088047, \"daphnia_EC50: true\": 2.7212954278522306, \"daphnia_EC50: predicted\": 2.321380583748385, \"algea_EC50: true\": 3.4028626609812167, \"algea_EC50: predicted\": 2.6296000264840482, \"rat_LD50: true\": -2.166, \"rat_LD50: predicted\": -2.4332228520932575, \"ecoli_MIC: true\": 2.841506905503749, \"ecoli_MIC: predicted\": 2.843240115295487}, {\"fish_LC50: true\": 3.0349529867072724, \"fish_LC50: predicted\": 2.58068133061306, \"daphnia_EC50: true\": 2.4849066497880004, \"daphnia_EC50: predicted\": 2.15618541941333, \"algea_EC50: true\": 2.9444389791664403, \"algea_EC50: predicted\": 2.8865323675511125, \"rat_LD50: true\": -3.998, \"rat_LD50: predicted\": -2.9162952159800564, \"ecoli_MIC: true\": 2.841506905503749, \"ecoli_MIC: predicted\": 2.825807228495679}, {\"fish_LC50: true\": 1.6677068205580758, \"fish_LC50: predicted\": 1.3697779979175073, \"daphnia_EC50: true\": 0.8329091229351039, \"daphnia_EC50: predicted\": 1.0170122224664644, \"algea_EC50: true\": 0.8960880245566356, \"algea_EC50: predicted\": 1.9338767377909314, \"rat_LD50: true\": -1.7080000000000002, \"rat_LD50: predicted\": -2.4861320875843664, \"ecoli_MIC: true\": 2.841506905503749, \"ecoli_MIC: predicted\": 2.857311366582221}, {\"fish_LC50: true\": 0.6418261777466989, \"fish_LC50: predicted\": 1.9874575977142355, \"daphnia_EC50: true\": 0.5877866649021191, \"daphnia_EC50: predicted\": -0.5882270671111345, \"algea_EC50: true\": 1.90210752639692, \"algea_EC50: predicted\": 1.8784696135291021, \"rat_LD50: true\": -1.747, \"rat_LD50: predicted\": -2.3335469337742047, \"ecoli_MIC: true\": 2.841506905503749, \"ecoli_MIC: predicted\": 2.8465831915526962}, {\"fish_LC50: true\": 2.7080502011022096, \"fish_LC50: predicted\": 2.430608688295189, \"daphnia_EC50: true\": -1.07880966137193, \"daphnia_EC50: predicted\": 1.497619635176769, \"algea_EC50: true\": 3.8501476017100575, \"algea_EC50: predicted\": 2.5859995068862616, \"rat_LD50: true\": -2.544144325713513, \"rat_LD50: predicted\": -2.4637342458016565, \"ecoli_MIC: true\": 2.841506905503749, \"ecoli_MIC: predicted\": 2.8399528984104094}, {\"fish_LC50: true\": 6.970730078143525, \"fish_LC50: predicted\": 1.7213103421730227, \"daphnia_EC50: true\": 0.6931471805599454, \"daphnia_EC50: predicted\": 0.3915592313049425, \"algea_EC50: true\": 3.1780538303479458, \"algea_EC50: predicted\": 2.066804666231067, \"rat_LD50: true\": -2.587, \"rat_LD50: predicted\": -2.5208655163593954, \"ecoli_MIC: true\": 2.841506905503749, \"ecoli_MIC: predicted\": 2.841553362635773}, {\"fish_LC50: true\": 4.787491742782046, \"fish_LC50: predicted\": 2.2013248767521034, \"daphnia_EC50: true\": -1.3205066205818874, \"daphnia_EC50: predicted\": 1.2908537081978362, \"algea_EC50: true\": 4.215086179918228, \"algea_EC50: predicted\": 2.4571147139183234, \"rat_LD50: true\": -2.072, \"rat_LD50: predicted\": -2.3988886144394224, \"ecoli_MIC: true\": 2.841506905503749, \"ecoli_MIC: predicted\": 2.841506905503749}, {\"fish_LC50: true\": 3.309206324314117, \"fish_LC50: predicted\": 2.5661668108325015, \"daphnia_EC50: true\": 1.5231041560753946, \"daphnia_EC50: predicted\": 1.6284579417368177, \"algea_EC50: true\": 2.628285232633348, \"algea_EC50: predicted\": 2.41877394663366, \"rat_LD50: true\": -2.526, \"rat_LD50: predicted\": -2.4382431578653514, \"ecoli_MIC: true\": 2.841506905503749, \"ecoli_MIC: predicted\": 2.8674432668629626}, {\"fish_LC50: true\": 4.31748811353631, \"fish_LC50: predicted\": 2.5387215613482406, \"daphnia_EC50: true\": -1.347073647966609, \"daphnia_EC50: predicted\": 1.4441257898761672, \"algea_EC50: true\": 3.5263605246161616, \"algea_EC50: predicted\": 2.640763411880725, \"rat_LD50: true\": -2.544144325713513, \"rat_LD50: predicted\": -2.446905151522397, \"ecoli_MIC: true\": 2.841506905503749, \"ecoli_MIC: predicted\": 2.8429883718249593}, {\"fish_LC50: true\": 2.3978952727983707, \"fish_LC50: predicted\": 2.635794241532791, \"daphnia_EC50: true\": 3.555348061489413, \"daphnia_EC50: predicted\": 1.9654261578510348, \"algea_EC50: true\": 2.4849066497880004, \"algea_EC50: predicted\": 3.0692674727505755, \"rat_LD50: true\": -2.673, \"rat_LD50: predicted\": -2.6445037168857737, \"ecoli_MIC: true\": 2.841506905503749, \"ecoli_MIC: predicted\": 2.8495927654793554}, {\"fish_LC50: true\": 4.762173934797756, \"fish_LC50: predicted\": 2.4992575766224268, \"daphnia_EC50: true\": 4.695056592782616, \"daphnia_EC50: predicted\": 1.8212437838138955, \"algea_EC50: true\": 5.303304908059076, \"algea_EC50: predicted\": 2.4214127738848332, \"rat_LD50: true\": -2.61, \"rat_LD50: predicted\": -2.5105191723665072, \"ecoli_MIC: true\": 2.841506905503749, \"ecoli_MIC: predicted\": 2.908404208716043}, {\"fish_LC50: true\": 4.219507705176107, \"fish_LC50: predicted\": 2.196616717494584, \"daphnia_EC50: true\": 3.4934726577713264, \"daphnia_EC50: predicted\": 1.6472918560771836, \"algea_EC50: true\": 4.168988105217867, \"algea_EC50: predicted\": 2.492172371063866, \"rat_LD50: true\": -2.354, \"rat_LD50: predicted\": -2.074887812966873, \"ecoli_MIC: true\": 2.841506905503749, \"ecoli_MIC: predicted\": 2.8941020177717354}, {\"fish_LC50: true\": 4.2021520815229785, \"fish_LC50: predicted\": 2.0734679004635326, \"daphnia_EC50: true\": 1.5231041560753946, \"daphnia_EC50: predicted\": 2.3645481547488374, \"algea_EC50: true\": 4.1206618705394735, \"algea_EC50: predicted\": 2.4951483967329557, \"rat_LD50: true\": -2.544144325713513, \"rat_LD50: predicted\": -2.2650373227706977, \"ecoli_MIC: true\": 2.841506905503749, \"ecoli_MIC: predicted\": 2.9542960547865964}, {\"fish_LC50: true\": 2.5649493574615367, \"fish_LC50: predicted\": 2.198710284662309, \"daphnia_EC50: true\": 3.610917912644224, \"daphnia_EC50: predicted\": 1.6269306656594416, \"algea_EC50: true\": 3.0910424533583165, \"algea_EC50: predicted\": 2.4117801418377813, \"rat_LD50: true\": -2.544144325713513, \"rat_LD50: predicted\": -2.1327035689558325, \"ecoli_MIC: true\": 2.841506905503749, \"ecoli_MIC: predicted\": 2.9212918110301755}, {\"fish_LC50: true\": -1.5987414753339686, \"fish_LC50: predicted\": -0.32400354260461217, \"daphnia_EC50: true\": -3.270169119255751, \"daphnia_EC50: predicted\": -0.1956162044633214, \"algea_EC50: true\": -0.41551544396166573, \"algea_EC50: predicted\": 2.092795479439175, \"rat_LD50: true\": -3.994, \"rat_LD50: predicted\": -2.5980862428636136, \"ecoli_MIC: true\": 2.841506905503749, \"ecoli_MIC: predicted\": 2.8048041211873787}, {\"fish_LC50: true\": 2.3978952727983707, \"fish_LC50: predicted\": 2.150695590662322, \"daphnia_EC50: true\": 2.066862759472976, \"daphnia_EC50: predicted\": 1.549464638507866, \"algea_EC50: true\": 1.824549292051046, \"algea_EC50: predicted\": 2.4740115856249805, \"rat_LD50: true\": -2.544144325713513, \"rat_LD50: predicted\": -2.3602068185513687, \"ecoli_MIC: true\": 2.841506905503749, \"ecoli_MIC: predicted\": 2.8656304701313102}, {\"fish_LC50: true\": 0.5877866649021191, \"fish_LC50: predicted\": 1.6804083948811752, \"daphnia_EC50: true\": 0.5877866649021191, \"daphnia_EC50: predicted\": 1.304047113240105, \"algea_EC50: true\": 1.2817668317659563, \"algea_EC50: predicted\": 2.2409496999929766, \"rat_LD50: true\": -2.544144325713513, \"rat_LD50: predicted\": -2.514505571155082, \"ecoli_MIC: true\": 2.841506905503749, \"ecoli_MIC: predicted\": 2.9545639890248045}, {\"fish_LC50: true\": 0.9157680726479569, \"fish_LC50: predicted\": 2.591345317954612, \"daphnia_EC50: true\": 0.5306282510621704, \"daphnia_EC50: predicted\": 1.793368176741153, \"algea_EC50: true\": -1.4916548767777167, \"algea_EC50: predicted\": 2.712185336327297, \"rat_LD50: true\": -2.544144325713513, \"rat_LD50: predicted\": -2.371735555772972, \"ecoli_MIC: true\": 2.841506905503749, \"ecoli_MIC: predicted\": 2.936605382542572}, {\"fish_LC50: true\": 3.7841896339182615, \"fish_LC50: predicted\": 3.172162946692729, \"daphnia_EC50: true\": 2.1162555148025524, \"daphnia_EC50: predicted\": 1.588452790189367, \"algea_EC50: true\": 4.6913478822291435, \"algea_EC50: predicted\": 2.9950395129659046, \"rat_LD50: true\": -2.4730000000000003, \"rat_LD50: predicted\": -2.398218086563829, \"ecoli_MIC: true\": 2.841506905503749, \"ecoli_MIC: predicted\": 2.841737531980583}, {\"fish_LC50: true\": 0.4054651081081644, \"fish_LC50: predicted\": 1.998746449209363, \"daphnia_EC50: true\": -0.3424903089467761, \"daphnia_EC50: predicted\": 1.178397974728457, \"algea_EC50: true\": -0.6931471805599454, \"algea_EC50: predicted\": 1.827665788885144, \"rat_LD50: true\": -3.2230000000000003, \"rat_LD50: predicted\": -2.525861064345094, \"ecoli_MIC: true\": 2.841506905503749, \"ecoli_MIC: predicted\": 3.034973671655413}, {\"fish_LC50: true\": 0.6931471805599454, \"fish_LC50: predicted\": 2.17945552113274, \"daphnia_EC50: true\": 2.1041341542702074, \"daphnia_EC50: predicted\": 1.63018721059236, \"algea_EC50: true\": -0.5191938734365076, \"algea_EC50: predicted\": 2.2961246588707405, \"rat_LD50: true\": -2.544144325713513, \"rat_LD50: predicted\": -2.341165671073288, \"ecoli_MIC: true\": 2.841506905503749, \"ecoli_MIC: predicted\": 2.895458780009633}, {\"fish_LC50: true\": 2.4849066497880004, \"fish_LC50: predicted\": 1.178132004690358, \"daphnia_EC50: true\": 3.555348061489413, \"daphnia_EC50: predicted\": 0.9681631284770184, \"algea_EC50: true\": -0.9416085398584446, \"algea_EC50: predicted\": 0.4343167780364272, \"rat_LD50: true\": -3.307, \"rat_LD50: predicted\": -2.5426381456369214, \"ecoli_MIC: true\": 2.841506905503749, \"ecoli_MIC: predicted\": 2.855127469086702}, {\"fish_LC50: true\": 2.156073806316561, \"fish_LC50: predicted\": 1.6131053585502952, \"daphnia_EC50: true\": 0.18232155679395468, \"daphnia_EC50: predicted\": 1.4136160247657925, \"algea_EC50: true\": 1.8802281172156632, \"algea_EC50: predicted\": 2.1243127590172146, \"rat_LD50: true\": -2.544144325713513, \"rat_LD50: predicted\": -2.4705393169374696, \"ecoli_MIC: true\": 2.841506905503749, \"ecoli_MIC: predicted\": 2.8489126887637792}, {\"fish_LC50: true\": 2.156073806316561, \"fish_LC50: predicted\": 1.635949587647737, \"daphnia_EC50: true\": 0.8241754429663494, \"daphnia_EC50: predicted\": 0.5372635542893586, \"algea_EC50: true\": 1.6695918352538475, \"algea_EC50: predicted\": 1.9378513966981887, \"rat_LD50: true\": -2.544144325713513, \"rat_LD50: predicted\": -2.4310960225284055, \"ecoli_MIC: true\": 2.841506905503749, \"ecoli_MIC: predicted\": 3.0609020957155764}, {\"fish_LC50: true\": 2.156073806316561, \"fish_LC50: predicted\": 2.8351888793949613, \"daphnia_EC50: true\": 2.509599262378372, \"daphnia_EC50: predicted\": 1.7812231095461726, \"algea_EC50: true\": 5.204006687076795, \"algea_EC50: predicted\": 2.8970725252059846, \"rat_LD50: true\": -2.544144325713513, \"rat_LD50: predicted\": -2.308870595106004, \"ecoli_MIC: true\": 2.841506905503749, \"ecoli_MIC: predicted\": 2.8479784060716566}, {\"fish_LC50: true\": 2.156073806316561, \"fish_LC50: predicted\": 2.3092628916147824, \"daphnia_EC50: true\": 5.940171252720432, \"daphnia_EC50: predicted\": 1.89155233260018, \"algea_EC50: true\": 6.846457368057451, \"algea_EC50: predicted\": 2.50751864973173, \"rat_LD50: true\": -1.862, \"rat_LD50: predicted\": -1.982572235184032, \"ecoli_MIC: true\": 2.841506905503749, \"ecoli_MIC: predicted\": 2.851377065298564}, {\"fish_LC50: true\": 2.156073806316561, \"fish_LC50: predicted\": 2.127131826358009, \"daphnia_EC50: true\": 3.60004824040732, \"daphnia_EC50: predicted\": 1.8366934673220532, \"algea_EC50: true\": 3.688879454113936, \"algea_EC50: predicted\": 2.8675272246773256, \"rat_LD50: true\": -1.651, \"rat_LD50: predicted\": -1.8526205377906662, \"ecoli_MIC: true\": 2.841506905503749, \"ecoli_MIC: predicted\": 2.8585638351158544}, {\"fish_LC50: true\": 2.156073806316561, \"fish_LC50: predicted\": 2.3415638385994706, \"daphnia_EC50: true\": 3.5723456378579845, \"daphnia_EC50: predicted\": 1.736488186132614, \"algea_EC50: true\": 2.827313621929028, \"algea_EC50: predicted\": 2.5167972234808054, \"rat_LD50: true\": -1.706, \"rat_LD50: predicted\": -2.1934682550430478, \"ecoli_MIC: true\": 2.841506905503749, \"ecoli_MIC: predicted\": 2.864419334460818}, {\"fish_LC50: true\": 2.156073806316561, \"fish_LC50: predicted\": 2.0615924880464935, \"daphnia_EC50: true\": -0.9416085398584448, \"daphnia_EC50: predicted\": 1.2310800908860386, \"algea_EC50: true\": 6.9084650270513785, \"algea_EC50: predicted\": 2.420492726605167, \"rat_LD50: true\": -2.544144325713513, \"rat_LD50: predicted\": -1.4233267070117746, \"ecoli_MIC: true\": 2.841506905503749, \"ecoli_MIC: predicted\": 2.8530575942068928}, {\"fish_LC50: true\": 2.156073806316561, \"fish_LC50: predicted\": 1.824543586958368, \"daphnia_EC50: true\": -0.5108256237659907, \"daphnia_EC50: predicted\": 1.1197687936137768, \"algea_EC50: true\": -0.8675005677047234, \"algea_EC50: predicted\": 1.878830610974189, \"rat_LD50: true\": -2.544144325713513, \"rat_LD50: predicted\": -1.991992731573625, \"ecoli_MIC: true\": 2.841506905503749, \"ecoli_MIC: predicted\": 2.841506905503749}, {\"fish_LC50: true\": 2.156073806316561, \"fish_LC50: predicted\": 2.19534791619539, \"daphnia_EC50: true\": 1.81319474994812, \"daphnia_EC50: predicted\": 1.6005399342162472, \"algea_EC50: true\": 2.1882959465919183, \"algea_EC50: predicted\": 2.4182307692752567, \"rat_LD50: true\": -1.5709999999999997, \"rat_LD50: predicted\": -2.2234962502456397, \"ecoli_MIC: true\": 2.841506905503749, \"ecoli_MIC: predicted\": 2.8460495819791145}, {\"fish_LC50: true\": 2.156073806316561, \"fish_LC50: predicted\": 2.055022372078044, \"daphnia_EC50: true\": -0.7133498878774647, \"daphnia_EC50: predicted\": 0.8450137943500383, \"algea_EC50: true\": 1.0647107369924282, \"algea_EC50: predicted\": 2.1697751160269774, \"rat_LD50: true\": -2.544144325713513, \"rat_LD50: predicted\": -2.442665077406844, \"ecoli_MIC: true\": 2.841506905503749, \"ecoli_MIC: predicted\": 2.864634243149822}, {\"fish_LC50: true\": 2.156073806316561, \"fish_LC50: predicted\": 2.203633677540071, \"daphnia_EC50: true\": 2.4336133554004498, \"daphnia_EC50: predicted\": 1.5958712825119032, \"algea_EC50: true\": 2.6741486494265287, \"algea_EC50: predicted\": 2.3760030262675884, \"rat_LD50: true\": -1.455, \"rat_LD50: predicted\": -2.1383463000411416, \"ecoli_MIC: true\": 2.841506905503749, \"ecoli_MIC: predicted\": 2.853639374045914}, {\"fish_LC50: true\": 2.156073806316561, \"fish_LC50: predicted\": 1.9526111793715157, \"daphnia_EC50: true\": 1.1512047387872804, \"daphnia_EC50: predicted\": 1.466964347688054, \"algea_EC50: true\": 1.7393251732685229, \"algea_EC50: predicted\": 2.3393338732715394, \"rat_LD50: true\": -1.7919999999999998, \"rat_LD50: predicted\": -2.4371767324446787, \"ecoli_MIC: true\": 2.841506905503749, \"ecoli_MIC: predicted\": 3.3476180856955677}, {\"fish_LC50: true\": 2.156073806316561, \"fish_LC50: predicted\": 1.9608407998000974, \"daphnia_EC50: true\": 0.29266961396282, \"daphnia_EC50: predicted\": 1.3253451113884767, \"algea_EC50: true\": 1.8702625307159984, \"algea_EC50: predicted\": 2.311584547895287, \"rat_LD50: true\": -2.544144325713513, \"rat_LD50: predicted\": -2.332599967899543, \"ecoli_MIC: true\": 2.841506905503749, \"ecoli_MIC: predicted\": 2.860669762730686}, {\"fish_LC50: true\": 2.156073806316561, \"fish_LC50: predicted\": 1.7991480500139545, \"daphnia_EC50: true\": 0.8329091229351039, \"daphnia_EC50: predicted\": 0.6252434609795338, \"algea_EC50: true\": 4.8865826454262775, \"algea_EC50: predicted\": 1.7483356398893124, \"rat_LD50: true\": -2.544144325713513, \"rat_LD50: predicted\": -2.4104956806179216, \"ecoli_MIC: true\": 2.841506905503749, \"ecoli_MIC: predicted\": 2.8668493022428607}, {\"fish_LC50: true\": 2.156073806316561, \"fish_LC50: predicted\": 2.386510914547952, \"daphnia_EC50: true\": 1.5706970841176695, \"daphnia_EC50: predicted\": 1.5936814839495692, \"algea_EC50: true\": 3.255207754115592, \"algea_EC50: predicted\": 2.484391304065985, \"rat_LD50: true\": -1.697, \"rat_LD50: predicted\": -2.1922372610283674, \"ecoli_MIC: true\": 2.841506905503749, \"ecoli_MIC: predicted\": 2.892763820819803}, {\"fish_LC50: true\": 2.156073806316561, \"fish_LC50: predicted\": 2.2185823259326765, \"daphnia_EC50: true\": 2.8094026953624978, \"daphnia_EC50: predicted\": 1.9901905546599763, \"algea_EC50: true\": 2.3513752571634776, \"algea_EC50: predicted\": 2.484565396054266, \"rat_LD50: true\": -2.544144325713513, \"rat_LD50: predicted\": -2.1484479939846417, \"ecoli_MIC: true\": 2.841506905503749, \"ecoli_MIC: predicted\": 2.846689836563997}, {\"fish_LC50: true\": 2.156073806316561, \"fish_LC50: predicted\": 2.1670436082103723, \"daphnia_EC50: true\": 3.0445224377234235, \"daphnia_EC50: predicted\": 1.6809322946359972, \"algea_EC50: true\": 2.4849066497880004, \"algea_EC50: predicted\": 2.431863965041164, \"rat_LD50: true\": -2.544144325713513, \"rat_LD50: predicted\": -2.2797067134663545, \"ecoli_MIC: true\": 2.841506905503749, \"ecoli_MIC: predicted\": 2.8471032874428173}, {\"fish_LC50: true\": 2.156073806316561, \"fish_LC50: predicted\": 2.1734055264323664, \"daphnia_EC50: true\": 4.290459441148391, \"daphnia_EC50: predicted\": 1.5640155923436563, \"algea_EC50: true\": 4.219507705176107, \"algea_EC50: predicted\": 2.433950204873119, \"rat_LD50: true\": -2.544144325713513, \"rat_LD50: predicted\": -2.4864367211717955, \"ecoli_MIC: true\": 2.841506905503749, \"ecoli_MIC: predicted\": 2.9153958806797986}, {\"fish_LC50: true\": 2.156073806316561, \"fish_LC50: predicted\": 2.383160910827685, \"daphnia_EC50: true\": 3.218875824868201, \"daphnia_EC50: predicted\": 2.1218672935102507, \"algea_EC50: true\": 3.4210000089583352, \"algea_EC50: predicted\": 2.7683680731653855, \"rat_LD50: true\": -1.808, \"rat_LD50: predicted\": -2.135442338497392, \"ecoli_MIC: true\": 2.841506905503749, \"ecoli_MIC: predicted\": 2.841506905503749}, {\"fish_LC50: true\": 2.156073806316561, \"fish_LC50: predicted\": 2.1649692561286358, \"daphnia_EC50: true\": 2.0943301541735866, \"daphnia_EC50: predicted\": 2.0157859075949145, \"algea_EC50: true\": 1.5432981099295553, \"algea_EC50: predicted\": 2.61506769474232, \"rat_LD50: true\": -2.544144325713513, \"rat_LD50: predicted\": -2.047089760965417, \"ecoli_MIC: true\": 2.841506905503749, \"ecoli_MIC: predicted\": 2.8416224528231986}, {\"fish_LC50: true\": 2.156073806316561, \"fish_LC50: predicted\": 2.09990690250663, \"daphnia_EC50: true\": 0.09531017980432499, \"daphnia_EC50: predicted\": 1.2981827178278207, \"algea_EC50: true\": -0.18632957819149354, \"algea_EC50: predicted\": 2.361363371313412, \"rat_LD50: true\": -1.88, \"rat_LD50: predicted\": -2.101422629860343, \"ecoli_MIC: true\": 2.841506905503749, \"ecoli_MIC: predicted\": 2.8896153953198236}, {\"fish_LC50: true\": 2.156073806316561, \"fish_LC50: predicted\": 2.099093558612478, \"daphnia_EC50: true\": 1.2809338454620642, \"daphnia_EC50: predicted\": 1.5002578990123772, \"algea_EC50: true\": 1.8251942453142924, \"algea_EC50: predicted\": 2.0807715692252398, \"rat_LD50: true\": -1.223, \"rat_LD50: predicted\": -2.2402231603198515, \"ecoli_MIC: true\": 2.841506905503749, \"ecoli_MIC: predicted\": 2.9405713534056517}, {\"fish_LC50: true\": 2.156073806316561, \"fish_LC50: predicted\": 2.073383487150292, \"daphnia_EC50: true\": 3.545009083694234, \"daphnia_EC50: predicted\": 1.8437786917404366, \"algea_EC50: true\": 3.125443880075648, \"algea_EC50: predicted\": 2.4511774292765987, \"rat_LD50: true\": -2.544144325713513, \"rat_LD50: predicted\": -2.3299706246338223, \"ecoli_MIC: true\": 2.841506905503749, \"ecoli_MIC: predicted\": 2.956633658232808}, {\"fish_LC50: true\": 2.156073806316561, \"fish_LC50: predicted\": 1.2575657257080022, \"daphnia_EC50: true\": -2.7903454438290405, \"daphnia_EC50: predicted\": 0.24537631604697885, \"algea_EC50: true\": -0.8989420935395418, \"algea_EC50: predicted\": 1.589124448327186, \"rat_LD50: true\": -2.544144325713513, \"rat_LD50: predicted\": -2.457339333737861, \"ecoli_MIC: true\": 2.841506905503749, \"ecoli_MIC: predicted\": 2.9125282766184175}, {\"fish_LC50: true\": 2.156073806316561, \"fish_LC50: predicted\": 0.950992452534575, \"daphnia_EC50: true\": -2.7105533313203285, \"daphnia_EC50: predicted\": -0.3540393156614732, \"algea_EC50: true\": -4.615220521841592, \"algea_EC50: predicted\": 0.9972358657670111, \"rat_LD50: true\": -2.544144325713513, \"rat_LD50: predicted\": -2.4354109589064525, \"ecoli_MIC: true\": 2.841506905503749, \"ecoli_MIC: predicted\": 2.827532663825615}, {\"fish_LC50: true\": 2.156073806316561, \"fish_LC50: predicted\": 2.0160519142946436, \"daphnia_EC50: true\": -1.210661792476733, \"daphnia_EC50: predicted\": 1.2025564783586213, \"algea_EC50: true\": -2.180367460269797, \"algea_EC50: predicted\": 1.91549737137038, \"rat_LD50: true\": -2.544144325713513, \"rat_LD50: predicted\": -2.1038353072910545, \"ecoli_MIC: true\": 2.841506905503749, \"ecoli_MIC: predicted\": 2.848758691463426}, {\"fish_LC50: true\": 2.156073806316561, \"fish_LC50: predicted\": 1.3232354796503172, \"daphnia_EC50: true\": 3.0445224377234235, \"daphnia_EC50: predicted\": 0.3494105868740127, \"algea_EC50: true\": 5.310739886546594, \"algea_EC50: predicted\": 1.9257754959442446, \"rat_LD50: true\": -2.544144325713513, \"rat_LD50: predicted\": -2.4111539195305953, \"ecoli_MIC: true\": 2.841506905503749, \"ecoli_MIC: predicted\": 2.917586692198675}, {\"fish_LC50: true\": 2.156073806316561, \"fish_LC50: predicted\": 1.7679739390452107, \"daphnia_EC50: true\": 2.5649493574615367, \"daphnia_EC50: predicted\": 1.8757885136016905, \"algea_EC50: true\": 2.772588722239781, \"algea_EC50: predicted\": 2.542176804605905, \"rat_LD50: true\": -2.544144325713513, \"rat_LD50: predicted\": -2.186907703696551, \"ecoli_MIC: true\": 2.841506905503749, \"ecoli_MIC: predicted\": 2.881771837802411}, {\"fish_LC50: true\": 2.156073806316561, \"fish_LC50: predicted\": 2.088111828755158, \"daphnia_EC50: true\": 2.7472709142554907, \"daphnia_EC50: predicted\": 1.7193244503870653, \"algea_EC50: true\": 2.1282317058492684, \"algea_EC50: predicted\": 2.4337309784314436, \"rat_LD50: true\": -2.544144325713513, \"rat_LD50: predicted\": -2.267132240065136, \"ecoli_MIC: true\": 2.841506905503749, \"ecoli_MIC: predicted\": 2.873289069590847}, {\"fish_LC50: true\": 2.156073806316561, \"fish_LC50: predicted\": 2.1391194634136994, \"daphnia_EC50: true\": 4.437697832044343, \"daphnia_EC50: predicted\": 1.455453324088826, \"algea_EC50: true\": 4.176538799848087, \"algea_EC50: predicted\": 2.3981915673722196, \"rat_LD50: true\": -2.544144325713513, \"rat_LD50: predicted\": -2.4752869170289182, \"ecoli_MIC: true\": 2.841506905503749, \"ecoli_MIC: predicted\": 2.8595870132877685}, {\"fish_LC50: true\": 2.156073806316561, \"fish_LC50: predicted\": 1.7670545023735758, \"daphnia_EC50: true\": -8.568486485803787, \"daphnia_EC50: predicted\": 0.9563956760005431, \"algea_EC50: true\": -0.6443570163905132, \"algea_EC50: predicted\": 2.4277759462924324, \"rat_LD50: true\": -3.447, \"rat_LD50: predicted\": -3.488059323372001, \"ecoli_MIC: true\": 2.841506905503749, \"ecoli_MIC: predicted\": 2.8554466102683547}, {\"fish_LC50: true\": 2.156073806316561, \"fish_LC50: predicted\": 2.703481293808623, \"daphnia_EC50: true\": 3.8712010109078916, \"daphnia_EC50: predicted\": 2.126367235872078, \"algea_EC50: true\": 4.316153890523174, \"algea_EC50: predicted\": 2.2776341436634446, \"rat_LD50: true\": -2.544144325713513, \"rat_LD50: predicted\": -2.4696243963225837, \"ecoli_MIC: true\": 2.841506905503749, \"ecoli_MIC: predicted\": 2.8499424394333546}, {\"fish_LC50: true\": 2.156073806316561, \"fish_LC50: predicted\": 3.3275894457672948, \"daphnia_EC50: true\": 4.624972813284272, \"daphnia_EC50: predicted\": 2.607234596897194, \"algea_EC50: true\": 3.1570004211501135, \"algea_EC50: predicted\": 2.9553571060880293, \"rat_LD50: true\": -2.544144325713513, \"rat_LD50: predicted\": -1.966129828264359, \"ecoli_MIC: true\": 2.841506905503749, \"ecoli_MIC: predicted\": 2.841506905503749}, {\"fish_LC50: true\": 2.156073806316561, \"fish_LC50: predicted\": 2.4582886543597366, \"daphnia_EC50: true\": 1.9110228900548727, \"daphnia_EC50: predicted\": 3.1178725930516236, \"algea_EC50: true\": 0.6931471805599454, \"algea_EC50: predicted\": 2.0386294708501773, \"rat_LD50: true\": -2.544144325713513, \"rat_LD50: predicted\": -2.458436351466035, \"ecoli_MIC: true\": 2.841506905503749, \"ecoli_MIC: predicted\": 2.8935492649658343}, {\"fish_LC50: true\": 2.156073806316561, \"fish_LC50: predicted\": 2.2992245017605137, \"daphnia_EC50: true\": 2.7080502011022096, \"daphnia_EC50: predicted\": 1.9276158575919895, \"algea_EC50: true\": 3.258096538021482, \"algea_EC50: predicted\": 2.6143413414461008, \"rat_LD50: true\": -2.544144325713513, \"rat_LD50: predicted\": -2.2387813200145597, \"ecoli_MIC: true\": 2.841506905503749, \"ecoli_MIC: predicted\": 2.845236243243654}, {\"fish_LC50: true\": 2.156073806316561, \"fish_LC50: predicted\": 2.6700500916613397, \"daphnia_EC50: true\": 0.47623417899637177, \"daphnia_EC50: predicted\": 2.2307237902345545, \"algea_EC50: true\": 3.3068867021909143, \"algea_EC50: predicted\": 2.6630961809150486, \"rat_LD50: true\": -2.544144325713513, \"rat_LD50: predicted\": -2.320665758273981, \"ecoli_MIC: true\": 2.841506905503749, \"ecoli_MIC: predicted\": 2.8317086058295984}, {\"fish_LC50: true\": 2.156073806316561, \"fish_LC50: predicted\": 2.0228537218779836, \"daphnia_EC50: true\": 1.916922612182061, \"daphnia_EC50: predicted\": 1.561250032847593, \"algea_EC50: true\": 2.3978952727983707, \"algea_EC50: predicted\": 2.459673047472947, \"rat_LD50: true\": -2.544144325713513, \"rat_LD50: predicted\": -2.2243448387948663, \"ecoli_MIC: true\": 2.841506905503749, \"ecoli_MIC: predicted\": 2.8664237061091544}, {\"fish_LC50: true\": 2.156073806316561, \"fish_LC50: predicted\": 2.4166435645442332, \"daphnia_EC50: true\": 0.924258901523332, \"daphnia_EC50: predicted\": 1.739970152742298, \"algea_EC50: true\": 5.808142489980444, \"algea_EC50: predicted\": 2.3478178371662564, \"rat_LD50: true\": -2.544144325713513, \"rat_LD50: predicted\": -2.4303063594538643, \"ecoli_MIC: true\": 2.841506905503749, \"ecoli_MIC: predicted\": 2.8431823378458163}, {\"fish_LC50: true\": 2.156073806316561, \"fish_LC50: predicted\": 2.295980486099237, \"daphnia_EC50: true\": 0.8329091229351039, \"daphnia_EC50: predicted\": 1.6040618031046046, \"algea_EC50: true\": 3.713572066704309, \"algea_EC50: predicted\": 2.5729278268148663, \"rat_LD50: true\": -1.534, \"rat_LD50: predicted\": -2.407007933080116, \"ecoli_MIC: true\": 2.841506905503749, \"ecoli_MIC: predicted\": 2.841506905503749}, {\"fish_LC50: true\": 2.156073806316561, \"fish_LC50: predicted\": 2.03634590024647, \"daphnia_EC50: true\": -0.544727175441672, \"daphnia_EC50: predicted\": 1.4722392725882363, \"algea_EC50: true\": -1.0498221244986783, \"algea_EC50: predicted\": 2.347576551842567, \"rat_LD50: true\": -2.544144325713513, \"rat_LD50: predicted\": -2.5579896387736722, \"ecoli_MIC: true\": 2.841506905503749, \"ecoli_MIC: predicted\": 3.1061963045550547}, {\"fish_LC50: true\": 2.156073806316561, \"fish_LC50: predicted\": 1.2846534691509595, \"daphnia_EC50: true\": 0.9162907318741552, \"daphnia_EC50: predicted\": 0.3318132736147712, \"algea_EC50: true\": 1.6486586255873816, \"algea_EC50: predicted\": 1.1194620612281818, \"rat_LD50: true\": -2.544144325713513, \"rat_LD50: predicted\": -2.3148645865276927, \"ecoli_MIC: true\": 2.841506905503749, \"ecoli_MIC: predicted\": 2.841506905503749}, {\"fish_LC50: true\": 2.156073806316561, \"fish_LC50: predicted\": 2.2759885756680984, \"daphnia_EC50: true\": 5.3471075307174685, \"daphnia_EC50: predicted\": 2.888201096393128, \"algea_EC50: true\": 5.135798437050261, \"algea_EC50: predicted\": 3.446859899624185, \"rat_LD50: true\": -1.546, \"rat_LD50: predicted\": -2.343267870326106, \"ecoli_MIC: true\": 2.841506905503749, \"ecoli_MIC: predicted\": 2.9252700598919286}, {\"fish_LC50: true\": 2.156073806316561, \"fish_LC50: predicted\": 2.106471821885159, \"daphnia_EC50: true\": 0.959350221334602, \"daphnia_EC50: predicted\": 1.2424990253714965, \"algea_EC50: true\": 2.046401687601636, \"algea_EC50: predicted\": 2.286160512322721, \"rat_LD50: true\": -2.544144325713513, \"rat_LD50: predicted\": -2.4780428390407305, \"ecoli_MIC: true\": 2.841506905503749, \"ecoli_MIC: predicted\": 2.842583162395639}, {\"fish_LC50: true\": 2.156073806316561, \"fish_LC50: predicted\": 2.7766031986523894, \"daphnia_EC50: true\": -0.9942522733438668, \"daphnia_EC50: predicted\": 2.274929494975568, \"algea_EC50: true\": -1.021651247531981, \"algea_EC50: predicted\": 2.5055307331351853, \"rat_LD50: true\": -2.544144325713513, \"rat_LD50: predicted\": -2.5649722078072807, \"ecoli_MIC: true\": 2.841506905503749, \"ecoli_MIC: predicted\": 2.8579430533388632}, {\"fish_LC50: true\": 2.156073806316561, \"fish_LC50: predicted\": 1.9870066983871377, \"daphnia_EC50: true\": 2.1065702090680887, \"daphnia_EC50: predicted\": 1.4735980658063825, \"algea_EC50: true\": 2.8903717578961645, \"algea_EC50: predicted\": 2.437565842947383, \"rat_LD50: true\": -2.544144325713513, \"rat_LD50: predicted\": -2.3750560679055863, \"ecoli_MIC: true\": 2.841506905503749, \"ecoli_MIC: predicted\": 2.8702485136598073}, {\"fish_LC50: true\": 2.156073806316561, \"fish_LC50: predicted\": 2.274464126338246, \"daphnia_EC50: true\": 2.1621729392773013, \"daphnia_EC50: predicted\": 1.5651854223760067, \"algea_EC50: true\": 1.3660916538023706, \"algea_EC50: predicted\": 2.341552594258928, \"rat_LD50: true\": -2.544144325713513, \"rat_LD50: predicted\": -2.4438766112066066, \"ecoli_MIC: true\": 2.841506905503749, \"ecoli_MIC: predicted\": 3.029771091385543}, {\"fish_LC50: true\": 2.156073806316561, \"fish_LC50: predicted\": 2.023509130421914, \"daphnia_EC50: true\": 1.6863989535702288, \"daphnia_EC50: predicted\": 1.4948908319357608, \"algea_EC50: true\": 3.0445224377234235, \"algea_EC50: predicted\": 2.355812739560754, \"rat_LD50: true\": -2.544144325713513, \"rat_LD50: predicted\": -2.7056831542415614, \"ecoli_MIC: true\": 2.841506905503749, \"ecoli_MIC: predicted\": 2.9276164627273875}, {\"fish_LC50: true\": 2.156073806316561, \"fish_LC50: predicted\": 2.9001947091367763, \"daphnia_EC50: true\": 1.01160091167848, \"daphnia_EC50: predicted\": 2.05882477053231, \"algea_EC50: true\": 2.9806186357439426, \"algea_EC50: predicted\": 2.5800779849290354, \"rat_LD50: true\": -2.544144325713513, \"rat_LD50: predicted\": -2.4800686699562915, \"ecoli_MIC: true\": 2.841506905503749, \"ecoli_MIC: predicted\": 2.8373252602612666}, {\"fish_LC50: true\": 2.156073806316561, \"fish_LC50: predicted\": 2.5040095640347837, \"daphnia_EC50: true\": 1.9315214116032136, \"daphnia_EC50: predicted\": 1.6984879956765724, \"algea_EC50: true\": 2.3978952727983707, \"algea_EC50: predicted\": 2.6861521923129126, \"rat_LD50: true\": -2.544144325713513, \"rat_LD50: predicted\": -2.3240442402408084, \"ecoli_MIC: true\": 2.841506905503749, \"ecoli_MIC: predicted\": 2.8571624974797576}, {\"fish_LC50: true\": 2.156073806316561, \"fish_LC50: predicted\": 2.599794923657956, \"daphnia_EC50: true\": -0.6348782724359696, \"daphnia_EC50: predicted\": 1.893897202545672, \"algea_EC50: true\": 4.606279570393589, \"algea_EC50: predicted\": 2.7583274236041166, \"rat_LD50: true\": -2.544144325713513, \"rat_LD50: predicted\": -2.6070601819388464, \"ecoli_MIC: true\": 2.841506905503749, \"ecoli_MIC: predicted\": 2.80578114865175}, {\"fish_LC50: true\": 2.156073806316561, \"fish_LC50: predicted\": 1.8211222197126031, \"daphnia_EC50: true\": 1.2237754316221157, \"daphnia_EC50: predicted\": 1.608640883458061, \"algea_EC50: true\": 2.9338568698359038, \"algea_EC50: predicted\": 2.022128487339797, \"rat_LD50: true\": -2.544144325713513, \"rat_LD50: predicted\": -1.9551773864884616, \"ecoli_MIC: true\": 2.841506905503749, \"ecoli_MIC: predicted\": 2.8549710103711146}, {\"fish_LC50: true\": 2.156073806316561, \"fish_LC50: predicted\": 1.5372616437124162, \"daphnia_EC50: true\": 0.9162907318741552, \"daphnia_EC50: predicted\": 0.7980113061961339, \"algea_EC50: true\": 2.050270164379556, \"algea_EC50: predicted\": 1.6850602819840825, \"rat_LD50: true\": -2.544144325713513, \"rat_LD50: predicted\": -2.3220200877505395, \"ecoli_MIC: true\": 2.841506905503749, \"ecoli_MIC: predicted\": 2.84326723272687}, {\"fish_LC50: true\": 2.156073806316561, \"fish_LC50: predicted\": 1.954515351950546, \"daphnia_EC50: true\": 2.5877640352277083, \"daphnia_EC50: predicted\": 1.6428860588653018, \"algea_EC50: true\": 0.8754687373539001, \"algea_EC50: predicted\": 1.2511059101031878, \"rat_LD50: true\": -2.544144325713513, \"rat_LD50: predicted\": -2.3730134035201194, \"ecoli_MIC: true\": 2.841506905503749, \"ecoli_MIC: predicted\": 2.883702678709827}, {\"fish_LC50: true\": 2.156073806316561, \"fish_LC50: predicted\": 2.1177591474544335, \"daphnia_EC50: true\": -2.407945608651872, \"daphnia_EC50: predicted\": 1.4481279474224296, \"algea_EC50: true\": 3.0204248861443626, \"algea_EC50: predicted\": 2.552682627295082, \"rat_LD50: true\": -2.909, \"rat_LD50: predicted\": -2.4768205382989725, \"ecoli_MIC: true\": 2.841506905503749, \"ecoli_MIC: predicted\": 2.852065571418162}, {\"fish_LC50: true\": 2.156073806316561, \"fish_LC50: predicted\": 2.645168552780201, \"daphnia_EC50: true\": 2.9957322735539917, \"daphnia_EC50: predicted\": 1.9296583377436818, \"algea_EC50: true\": 0.4700036292457357, \"algea_EC50: predicted\": 2.800186274498927, \"rat_LD50: true\": -1.889, \"rat_LD50: predicted\": -2.028353169112225, \"ecoli_MIC: true\": 2.841506905503749, \"ecoli_MIC: predicted\": 2.862943711296594}, {\"fish_LC50: true\": 2.156073806316561, \"fish_LC50: predicted\": 3.143531535514631, \"daphnia_EC50: true\": 1.9315214116032136, \"daphnia_EC50: predicted\": 1.8744247093840345, \"algea_EC50: true\": 2.8507065015037334, \"algea_EC50: predicted\": 2.636834491645213, \"rat_LD50: true\": -2.544144325713513, \"rat_LD50: predicted\": -2.4439420404260797, \"ecoli_MIC: true\": 2.841506905503749, \"ecoli_MIC: predicted\": 2.842006596203555}, {\"fish_LC50: true\": 2.156073806316561, \"fish_LC50: predicted\": 2.2909545786534826, \"daphnia_EC50: true\": 4.043051267834549, \"daphnia_EC50: predicted\": 1.7721701533139658, \"algea_EC50: true\": 1.791759469228055, \"algea_EC50: predicted\": 2.529989266549355, \"rat_LD50: true\": -2.544144325713513, \"rat_LD50: predicted\": -2.278507714874133, \"ecoli_MIC: true\": 2.841506905503749, \"ecoli_MIC: predicted\": 2.8594655953617725}, {\"fish_LC50: true\": 2.156073806316561, \"fish_LC50: predicted\": 2.337612379278881, \"daphnia_EC50: true\": 4.258445572902527, \"daphnia_EC50: predicted\": 1.7662171554715758, \"algea_EC50: true\": 4.244200317766478, \"algea_EC50: predicted\": 2.5814282633050523, \"rat_LD50: true\": -2.544144325713513, \"rat_LD50: predicted\": -2.1821125198979368, \"ecoli_MIC: true\": 2.841506905503749, \"ecoli_MIC: predicted\": 2.9150013383966615}, {\"fish_LC50: true\": 2.156073806316561, \"fish_LC50: predicted\": 2.116369333420706, \"daphnia_EC50: true\": -2.441847160327554, \"daphnia_EC50: predicted\": 0.5798481367718945, \"algea_EC50: true\": -4.219907785197447, \"algea_EC50: predicted\": 2.347754645691588, \"rat_LD50: true\": -2.544144325713513, \"rat_LD50: predicted\": -2.4723784846890395, \"ecoli_MIC: true\": 2.841506905503749, \"ecoli_MIC: predicted\": 3.1305349589245917}, {\"fish_LC50: true\": 2.156073806316561, \"fish_LC50: predicted\": 2.267592743216376, \"daphnia_EC50: true\": 3.8712010109078916, \"daphnia_EC50: predicted\": 1.6691399545999301, \"algea_EC50: true\": 3.817712325956905, \"algea_EC50: predicted\": 2.528013535582979, \"rat_LD50: true\": -2.544144325713513, \"rat_LD50: predicted\": -2.2023927483101637, \"ecoli_MIC: true\": 2.841506905503749, \"ecoli_MIC: predicted\": 2.9645329331454735}, {\"fish_LC50: true\": 2.156073806316561, \"fish_LC50: predicted\": 2.26040721464905, \"daphnia_EC50: true\": 4.0943445622221, \"daphnia_EC50: predicted\": 1.755870047124678, \"algea_EC50: true\": 4.02535169073515, \"algea_EC50: predicted\": 2.569785130240091, \"rat_LD50: true\": -2.544144325713513, \"rat_LD50: predicted\": -2.4253115403392225, \"ecoli_MIC: true\": 2.841506905503749, \"ecoli_MIC: predicted\": 2.8702798434342753}, {\"fish_LC50: true\": 2.156073806316561, \"fish_LC50: predicted\": 2.170225018309792, \"daphnia_EC50: true\": 3.9759363311717983, \"daphnia_EC50: predicted\": 1.5621453626103032, \"algea_EC50: true\": 2.2793164660546914, \"algea_EC50: predicted\": 2.4248773441605516, \"rat_LD50: true\": -2.544144325713513, \"rat_LD50: predicted\": -2.829008635511837, \"ecoli_MIC: true\": 2.841506905503749, \"ecoli_MIC: predicted\": 4.105544290385523}, {\"fish_LC50: true\": 2.156073806316561, \"fish_LC50: predicted\": 2.205472736167861, \"daphnia_EC50: true\": -0.7339691750802004, \"daphnia_EC50: predicted\": 1.8992506127143831, \"algea_EC50: true\": 3.4610373820181723, \"algea_EC50: predicted\": 2.5519042327682184, \"rat_LD50: true\": -2.544144325713513, \"rat_LD50: predicted\": -2.352869578086506, \"ecoli_MIC: true\": 2.841506905503749, \"ecoli_MIC: predicted\": 3.024981278634226}, {\"fish_LC50: true\": 2.156073806316561, \"fish_LC50: predicted\": 2.8390532608292283, \"daphnia_EC50: true\": 4.324132656254979, \"daphnia_EC50: predicted\": 1.8311501306593128, \"algea_EC50: true\": 4.469350462845557, \"algea_EC50: predicted\": 2.666091518866689, \"rat_LD50: true\": -2.544144325713513, \"rat_LD50: predicted\": -2.324441269285582, \"ecoli_MIC: true\": 2.841506905503749, \"ecoli_MIC: predicted\": 2.8465294376659007}, {\"fish_LC50: true\": 2.156073806316561, \"fish_LC50: predicted\": 2.26398340421358, \"daphnia_EC50: true\": -0.3424903089467761, \"daphnia_EC50: predicted\": 1.8023381999028962, \"algea_EC50: true\": -0.843970070294529, \"algea_EC50: predicted\": 2.4113814762360564, \"rat_LD50: true\": -2.544144325713513, \"rat_LD50: predicted\": -2.298006052064183, \"ecoli_MIC: true\": 2.841506905503749, \"ecoli_MIC: predicted\": 2.839037526509561}, {\"fish_LC50: true\": 2.156073806316561, \"fish_LC50: predicted\": 2.2246794126047127, \"daphnia_EC50: true\": -0.9416085398584448, \"daphnia_EC50: predicted\": 1.4032157755330068, \"algea_EC50: true\": 1.9600947840472696, \"algea_EC50: predicted\": 2.074999524637625, \"rat_LD50: true\": -2.804, \"rat_LD50: predicted\": -2.590963678393021, \"ecoli_MIC: true\": 2.841506905503749, \"ecoli_MIC: predicted\": 2.8438707770789704}, {\"fish_LC50: true\": 2.156073806316561, \"fish_LC50: predicted\": 3.2461842380213746, \"daphnia_EC50: true\": 4.0163830207523885, \"daphnia_EC50: predicted\": 1.9144515208333956, \"algea_EC50: true\": 3.288401887516811, \"algea_EC50: predicted\": 2.7796905907369602, \"rat_LD50: true\": -2.544144325713513, \"rat_LD50: predicted\": -2.3061678826505125, \"ecoli_MIC: true\": 2.841506905503749, \"ecoli_MIC: predicted\": 2.854876254185516}, {\"fish_LC50: true\": 2.156073806316561, \"fish_LC50: predicted\": 3.2301863404450013, \"daphnia_EC50: true\": 1.5231041560753946, \"daphnia_EC50: predicted\": 2.4163760924069764, \"algea_EC50: true\": 4.477336814478207, \"algea_EC50: predicted\": 3.006272897388548, \"rat_LD50: true\": -2.384, \"rat_LD50: predicted\": -2.290637142952834, \"ecoli_MIC: true\": 2.841506905503749, \"ecoli_MIC: predicted\": 2.841506905503749}, {\"fish_LC50: true\": 2.156073806316561, \"fish_LC50: predicted\": 2.381454905056222, \"daphnia_EC50: true\": 1.5231041560753946, \"daphnia_EC50: predicted\": 1.785409958975317, \"algea_EC50: true\": 4.279440045898782, \"algea_EC50: predicted\": 3.3682166614791216, \"rat_LD50: true\": -2.544144325713513, \"rat_LD50: predicted\": -2.076415822288328, \"ecoli_MIC: true\": 2.841506905503749, \"ecoli_MIC: predicted\": 2.8425831623956386}, {\"fish_LC50: true\": 2.156073806316561, \"fish_LC50: predicted\": 2.6206899131514785, \"daphnia_EC50: true\": 1.5231041560753946, \"daphnia_EC50: predicted\": 2.171694554867472, \"algea_EC50: true\": 3.7405226872657744, \"algea_EC50: predicted\": 2.719082890977883, \"rat_LD50: true\": -2.544144325713513, \"rat_LD50: predicted\": -2.167253278487742, \"ecoli_MIC: true\": 2.841506905503749, \"ecoli_MIC: predicted\": 2.841506905503749}, {\"fish_LC50: true\": 2.156073806316561, \"fish_LC50: predicted\": 1.769294728210816, \"daphnia_EC50: true\": 1.5231041560753946, \"daphnia_EC50: predicted\": 0.9163495449171803, \"algea_EC50: true\": 1.8548907506681451, \"algea_EC50: predicted\": 2.216836047176711, \"rat_LD50: true\": -2.75, \"rat_LD50: predicted\": -2.4523728264695275, \"ecoli_MIC: true\": 2.841506905503749, \"ecoli_MIC: predicted\": 2.843982296355095}, {\"fish_LC50: true\": 2.156073806316561, \"fish_LC50: predicted\": 1.9461642124793606, \"daphnia_EC50: true\": 1.5231041560753946, \"daphnia_EC50: predicted\": 1.4716027815313864, \"algea_EC50: true\": 3.517497837358316, \"algea_EC50: predicted\": 2.3838255968098814, \"rat_LD50: true\": -2.544144325713513, \"rat_LD50: predicted\": -2.446423927920585, \"ecoli_MIC: true\": 2.841506905503749, \"ecoli_MIC: predicted\": 2.9412791934316886}, {\"fish_LC50: true\": 2.156073806316561, \"fish_LC50: predicted\": 3.135361509260682, \"daphnia_EC50: true\": 1.5231041560753946, \"daphnia_EC50: predicted\": 2.0266789754930308, \"algea_EC50: true\": 6.908363094225023, \"algea_EC50: predicted\": 2.818917684819979, \"rat_LD50: true\": -2.268, \"rat_LD50: predicted\": -2.11367801878194, \"ecoli_MIC: true\": 2.841506905503749, \"ecoli_MIC: predicted\": 2.8738735458242055}, {\"fish_LC50: true\": 2.156073806316561, \"fish_LC50: predicted\": 2.110976778309357, \"daphnia_EC50: true\": 1.5231041560753946, \"daphnia_EC50: predicted\": 1.7857152967944254, \"algea_EC50: true\": 1.873339456220478, \"algea_EC50: predicted\": 2.2610696701334216, \"rat_LD50: true\": -2.544144325713513, \"rat_LD50: predicted\": -2.100438348425996, \"ecoli_MIC: true\": 2.841506905503749, \"ecoli_MIC: predicted\": 2.8458560923732144}, {\"fish_LC50: true\": 2.156073806316561, \"fish_LC50: predicted\": 1.8745702783282838, \"daphnia_EC50: true\": 1.5231041560753946, \"daphnia_EC50: predicted\": 1.2971306700631893, \"algea_EC50: true\": 1.9021075263969205, \"algea_EC50: predicted\": 2.397481552089966, \"rat_LD50: true\": -2.544144325713513, \"rat_LD50: predicted\": -2.467689694162381, \"ecoli_MIC: true\": 2.841506905503749, \"ecoli_MIC: predicted\": 2.854236075574126}, {\"fish_LC50: true\": 2.156073806316561, \"fish_LC50: predicted\": 2.1244564303326117, \"daphnia_EC50: true\": 1.5231041560753946, \"daphnia_EC50: predicted\": 1.8276566045557003, \"algea_EC50: true\": 1.791759469228055, \"algea_EC50: predicted\": 2.3891416581735143, \"rat_LD50: true\": -2.544144325713513, \"rat_LD50: predicted\": -2.0783567413372177, \"ecoli_MIC: true\": 2.841506905503749, \"ecoli_MIC: predicted\": 2.879244859187909}, {\"fish_LC50: true\": 2.156073806316561, \"fish_LC50: predicted\": 3.590548223861271, \"daphnia_EC50: true\": 1.5231041560753946, \"daphnia_EC50: predicted\": 2.537117769729184, \"algea_EC50: true\": 3.80666248977032, \"algea_EC50: predicted\": 3.394285033277563, \"rat_LD50: true\": -2.544144325713513, \"rat_LD50: predicted\": -1.868177239157871, \"ecoli_MIC: true\": 2.841506905503749, \"ecoli_MIC: predicted\": 2.841506905503749}, {\"fish_LC50: true\": 2.156073806316561, \"fish_LC50: predicted\": 4.087281209214362, \"daphnia_EC50: true\": 1.5231041560753946, \"daphnia_EC50: predicted\": 1.8982551800141674, \"algea_EC50: true\": 4.836281906951479, \"algea_EC50: predicted\": 2.748426838613806, \"rat_LD50: true\": -1.7519999999999998, \"rat_LD50: predicted\": -2.2892244350789377, \"ecoli_MIC: true\": 2.841506905503749, \"ecoli_MIC: predicted\": 2.841506905503749}, {\"fish_LC50: true\": 2.156073806316561, \"fish_LC50: predicted\": 2.4973343055950177, \"daphnia_EC50: true\": 1.5231041560753946, \"daphnia_EC50: predicted\": 1.908979891371095, \"algea_EC50: true\": 3.1780538303479458, \"algea_EC50: predicted\": 2.899436989731026, \"rat_LD50: true\": -1.384, \"rat_LD50: predicted\": -2.038223869739019, \"ecoli_MIC: true\": 2.841506905503749, \"ecoli_MIC: predicted\": 2.8469437549546526}, {\"fish_LC50: true\": 2.156073806316561, \"fish_LC50: predicted\": 2.5197117620988174, \"daphnia_EC50: true\": 1.5231041560753946, \"daphnia_EC50: predicted\": 1.909884188326715, \"algea_EC50: true\": 4.700480365792417, \"algea_EC50: predicted\": 2.850972745649488, \"rat_LD50: true\": -2.544144325713513, \"rat_LD50: predicted\": -1.99437758979395, \"ecoli_MIC: true\": 2.841506905503749, \"ecoli_MIC: predicted\": 2.8425831623956386}, {\"fish_LC50: true\": 2.156073806316561, \"fish_LC50: predicted\": 2.3880803171877845, \"daphnia_EC50: true\": 1.5231041560753946, \"daphnia_EC50: predicted\": 1.7974894262526564, \"algea_EC50: true\": 3.0910424533583165, \"algea_EC50: predicted\": 2.618727288691037, \"rat_LD50: true\": -2.381, \"rat_LD50: predicted\": -2.5089216203953937, \"ecoli_MIC: true\": 2.841506905503749, \"ecoli_MIC: predicted\": 2.841506905503749}, {\"fish_LC50: true\": 2.156073806316561, \"fish_LC50: predicted\": 3.7750825122895, \"daphnia_EC50: true\": 1.5231041560753946, \"daphnia_EC50: predicted\": 1.939197221599507, \"algea_EC50: true\": 5.9532433342877855, \"algea_EC50: predicted\": 2.7206257566745693, \"rat_LD50: true\": -2.544144325713513, \"rat_LD50: predicted\": -2.2201436351997126, \"ecoli_MIC: true\": 2.841506905503749, \"ecoli_MIC: predicted\": 2.841506905503749}, {\"fish_LC50: true\": 2.156073806316561, \"fish_LC50: predicted\": 2.6587751620436113, \"daphnia_EC50: true\": 1.5231041560753946, \"daphnia_EC50: predicted\": 1.4944349744606598, \"algea_EC50: true\": -0.3051673867928004, \"algea_EC50: predicted\": 2.2089674723794066, \"rat_LD50: true\": -2.544144325713513, \"rat_LD50: predicted\": -2.45508483900139, \"ecoli_MIC: true\": 2.841506905503749, \"ecoli_MIC: predicted\": 2.8389583102069587}, {\"fish_LC50: true\": 2.156073806316561, \"fish_LC50: predicted\": 2.388885414879168, \"daphnia_EC50: true\": 1.5231041560753946, \"daphnia_EC50: predicted\": 1.7456562598016916, \"algea_EC50: true\": 1.4816045409242156, \"algea_EC50: predicted\": 2.445233048336427, \"rat_LD50: true\": -2.544144325713513, \"rat_LD50: predicted\": -2.5021726062197023, \"ecoli_MIC: true\": 2.841506905503749, \"ecoli_MIC: predicted\": 2.8456054774744364}, {\"fish_LC50: true\": 2.156073806316561, \"fish_LC50: predicted\": 2.384231146185624, \"daphnia_EC50: true\": 1.5231041560753946, \"daphnia_EC50: predicted\": 1.6121557422445492, \"algea_EC50: true\": 5.3981627015177525, \"algea_EC50: predicted\": 2.5203017702993935, \"rat_LD50: true\": -2.853, \"rat_LD50: predicted\": -2.5748360520903533, \"ecoli_MIC: true\": 2.841506905503749, \"ecoli_MIC: predicted\": 2.8477322970831316}, {\"fish_LC50: true\": 2.156073806316561, \"fish_LC50: predicted\": 1.8423924531886406, \"daphnia_EC50: true\": 1.5231041560753946, \"daphnia_EC50: predicted\": 1.4005006547614351, \"algea_EC50: true\": 0.9932517730102834, \"algea_EC50: predicted\": 2.164564174334455, \"rat_LD50: true\": -2.544144325713513, \"rat_LD50: predicted\": -2.483091115256292, \"ecoli_MIC: true\": 2.841506905503749, \"ecoli_MIC: predicted\": 3.1073957756892634}, {\"fish_LC50: true\": 2.156073806316561, \"fish_LC50: predicted\": 1.8975163310706578, \"daphnia_EC50: true\": 1.5231041560753946, \"daphnia_EC50: predicted\": 1.5774002449945919, \"algea_EC50: true\": -0.6733445532637656, \"algea_EC50: predicted\": 2.1800297810076357, \"rat_LD50: true\": -2.544144325713513, \"rat_LD50: predicted\": -2.2552051689063295, \"ecoli_MIC: true\": 2.841506905503749, \"ecoli_MIC: predicted\": 2.872050211618407}, {\"fish_LC50: true\": 2.156073806316561, \"fish_LC50: predicted\": 2.1330172732800894, \"daphnia_EC50: true\": 1.5231041560753946, \"daphnia_EC50: predicted\": 1.6871238561425326, \"algea_EC50: true\": -1.7921595492493951, \"algea_EC50: predicted\": 1.2501818588630564, \"rat_LD50: true\": -2.544144325713513, \"rat_LD50: predicted\": -2.503308728506625, \"ecoli_MIC: true\": 2.841506905503749, \"ecoli_MIC: predicted\": 2.8542165280620027}, {\"fish_LC50: true\": 2.156073806316561, \"fish_LC50: predicted\": 2.314058507511067, \"daphnia_EC50: true\": 1.5231041560753946, \"daphnia_EC50: predicted\": 2.002305288110722, \"algea_EC50: true\": 2.772588722239781, \"algea_EC50: predicted\": 2.602760632351557, \"rat_LD50: true\": -2.544144325713513, \"rat_LD50: predicted\": -2.080702614926184, \"ecoli_MIC: true\": 2.841506905503749, \"ecoli_MIC: predicted\": 2.8545818965236593}, {\"fish_LC50: true\": 2.156073806316561, \"fish_LC50: predicted\": 3.3334427755766125, \"daphnia_EC50: true\": 1.5231041560753946, \"daphnia_EC50: predicted\": 2.2865877039827267, \"algea_EC50: true\": 4.477336814478207, \"algea_EC50: predicted\": 2.689028368370652, \"rat_LD50: true\": -2.544144325713513, \"rat_LD50: predicted\": -2.0246847267561128, \"ecoli_MIC: true\": 2.841506905503749, \"ecoli_MIC: predicted\": 2.845411293687124}, {\"fish_LC50: true\": 2.156073806316561, \"fish_LC50: predicted\": 2.383156806426822, \"daphnia_EC50: true\": 1.5231041560753946, \"daphnia_EC50: predicted\": 2.190501338863167, \"algea_EC50: true\": 3.1354942159291497, \"algea_EC50: predicted\": 3.005544453783911, \"rat_LD50: true\": -2.544144325713513, \"rat_LD50: predicted\": -2.2201464433079954, \"ecoli_MIC: true\": 2.841506905503749, \"ecoli_MIC: predicted\": 2.8460495819791145}, {\"fish_LC50: true\": 2.156073806316561, \"fish_LC50: predicted\": 2.1755795164755773, \"daphnia_EC50: true\": 1.5231041560753946, \"daphnia_EC50: predicted\": 1.977373377275022, \"algea_EC50: true\": 3.3843902633457743, \"algea_EC50: predicted\": 2.4294755046488175, \"rat_LD50: true\": -2.544144325713513, \"rat_LD50: predicted\": -2.1760349168622697, \"ecoli_MIC: true\": 2.841506905503749, \"ecoli_MIC: predicted\": 2.851701777691386}, {\"fish_LC50: true\": 2.156073806316561, \"fish_LC50: predicted\": 2.318355876957009, \"daphnia_EC50: true\": 1.5231041560753946, \"daphnia_EC50: predicted\": 1.8691749986465016, \"algea_EC50: true\": 2.4849066497880004, \"algea_EC50: predicted\": 2.6694979014908085, \"rat_LD50: true\": -2.544144325713513, \"rat_LD50: predicted\": -2.4322403319865424, \"ecoli_MIC: true\": 2.841506905503749, \"ecoli_MIC: predicted\": 2.9200577369568803}, {\"fish_LC50: true\": 2.156073806316561, \"fish_LC50: predicted\": 1.8967708868128972, \"daphnia_EC50: true\": 1.5231041560753946, \"daphnia_EC50: predicted\": 1.1423081079056818, \"algea_EC50: true\": -2.302585092994045, \"algea_EC50: predicted\": 2.015538232849228, \"rat_LD50: true\": -2.544144325713513, \"rat_LD50: predicted\": -2.3879927356328263, \"ecoli_MIC: true\": 2.841506905503749, \"ecoli_MIC: predicted\": 3.0828390421981626}, {\"fish_LC50: true\": 2.156073806316561, \"fish_LC50: predicted\": 2.059353702771335, \"daphnia_EC50: true\": 1.5231041560753946, \"daphnia_EC50: predicted\": 1.020227809146498, \"algea_EC50: true\": -0.5108256237659909, \"algea_EC50: predicted\": 1.862735520043254, \"rat_LD50: true\": -2.544144325713513, \"rat_LD50: predicted\": -2.2979888972468494, \"ecoli_MIC: true\": 6.238324625039509, \"ecoli_MIC: predicted\": 3.3587095134841145}, {\"fish_LC50: true\": 2.156073806316561, \"fish_LC50: predicted\": 1.87438040067051, \"daphnia_EC50: true\": 1.5231041560753946, \"daphnia_EC50: predicted\": 1.4160818360670064, \"algea_EC50: true\": -1.2909841813155651, \"algea_EC50: predicted\": 2.4065351764317655, \"rat_LD50: true\": -2.544144325713513, \"rat_LD50: predicted\": -2.2859808829770007, \"ecoli_MIC: true\": 2.841506905503749, \"ecoli_MIC: predicted\": 3.07274779055069}, {\"fish_LC50: true\": 2.156073806316561, \"fish_LC50: predicted\": 2.2447524527602805, \"daphnia_EC50: true\": 1.5231041560753946, \"daphnia_EC50: predicted\": 1.5741264955630325, \"algea_EC50: true\": 3.951243718581428, \"algea_EC50: predicted\": 2.4848510134957356, \"rat_LD50: true\": -2.535, \"rat_LD50: predicted\": -2.5114795485377526, \"ecoli_MIC: true\": 2.841506905503749, \"ecoli_MIC: predicted\": 2.8431212908415837}, {\"fish_LC50: true\": 2.156073806316561, \"fish_LC50: predicted\": 2.6389559889265044, \"daphnia_EC50: true\": 1.5231041560753946, \"daphnia_EC50: predicted\": 1.7265888733239227, \"algea_EC50: true\": 3.9337844972096585, \"algea_EC50: predicted\": 2.53239823945014, \"rat_LD50: true\": -2.218, \"rat_LD50: predicted\": -2.222329646671273, \"ecoli_MIC: true\": 2.841506905503749, \"ecoli_MIC: predicted\": 2.8439464211253656}, {\"fish_LC50: true\": 2.156073806316561, \"fish_LC50: predicted\": 2.0655372772771354, \"daphnia_EC50: true\": 1.5231041560753946, \"daphnia_EC50: predicted\": 1.6750081223360402, \"algea_EC50: true\": 3.0549441331858365, \"algea_EC50: predicted\": 2.5501994278409192, \"rat_LD50: true\": -2.544144325713513, \"rat_LD50: predicted\": -1.8851165768003433, \"ecoli_MIC: true\": 2.841506905503749, \"ecoli_MIC: predicted\": 2.8272352202882933}, {\"fish_LC50: true\": 2.156073806316561, \"fish_LC50: predicted\": 2.0675851162631913, \"daphnia_EC50: true\": 1.5231041560753946, \"daphnia_EC50: predicted\": 1.1313694887797294, \"algea_EC50: true\": 5.187385805840755, \"algea_EC50: predicted\": 1.5488250248737443, \"rat_LD50: true\": -2.544144325713513, \"rat_LD50: predicted\": -2.411843633533541, \"ecoli_MIC: true\": 2.841506905503749, \"ecoli_MIC: predicted\": 2.8372698088494452}, {\"fish_LC50: true\": 2.156073806316561, \"fish_LC50: predicted\": 2.3800482846213264, \"daphnia_EC50: true\": 1.5231041560753946, \"daphnia_EC50: predicted\": 1.4298096332671444, \"algea_EC50: true\": -0.7550225842780329, \"algea_EC50: predicted\": 2.1854565286828236, \"rat_LD50: true\": -2.544144325713513, \"rat_LD50: predicted\": -2.5510842862484155, \"ecoli_MIC: true\": 2.841506905503749, \"ecoli_MIC: predicted\": 2.8937121337601237}, {\"fish_LC50: true\": 2.156073806316561, \"fish_LC50: predicted\": 2.0951567575896335, \"daphnia_EC50: true\": 1.5231041560753946, \"daphnia_EC50: predicted\": 1.6166036722916401, \"algea_EC50: true\": 4.0306945351456465, \"algea_EC50: predicted\": 2.541551625554073, \"rat_LD50: true\": -2.544144325713513, \"rat_LD50: predicted\": -2.5349500292588005, \"ecoli_MIC: true\": 2.841506905503749, \"ecoli_MIC: predicted\": 2.809546233149855}, {\"fish_LC50: true\": 2.156073806316561, \"fish_LC50: predicted\": 2.866265495775314, \"daphnia_EC50: true\": 1.5231041560753946, \"daphnia_EC50: predicted\": 2.1836401860762558, \"algea_EC50: true\": 3.202746442938317, \"algea_EC50: predicted\": 2.869567675455716, \"rat_LD50: true\": -2.544144325713513, \"rat_LD50: predicted\": -2.371173996684697, \"ecoli_MIC: true\": 2.841506905503749, \"ecoli_MIC: predicted\": 2.841506905503749}, {\"fish_LC50: true\": 2.156073806316561, \"fish_LC50: predicted\": 2.267623236585222, \"daphnia_EC50: true\": 1.5231041560753946, \"daphnia_EC50: predicted\": 2.002105203115369, \"algea_EC50: true\": 3.0404666048941618, \"algea_EC50: predicted\": 2.5565069782630943, \"rat_LD50: true\": -2.544144325713513, \"rat_LD50: predicted\": -2.3723267547324407, \"ecoli_MIC: true\": 2.841506905503749, \"ecoli_MIC: predicted\": 2.8435304163252484}, {\"fish_LC50: true\": 2.156073806316561, \"fish_LC50: predicted\": 1.8196045538316579, \"daphnia_EC50: true\": 1.5231041560753946, \"daphnia_EC50: predicted\": 1.6252106531410857, \"algea_EC50: true\": 1.8309801823813363, \"algea_EC50: predicted\": 2.3793381642125984, \"rat_LD50: true\": -2.544144325713513, \"rat_LD50: predicted\": -2.3240364106716505, \"ecoli_MIC: true\": 2.841506905503749, \"ecoli_MIC: predicted\": 2.8844284854418736}, {\"fish_LC50: true\": 2.156073806316561, \"fish_LC50: predicted\": 2.287525107324204, \"daphnia_EC50: true\": 1.5231041560753946, \"daphnia_EC50: predicted\": 1.41843814129621, \"algea_EC50: true\": 3.688879454113936, \"algea_EC50: predicted\": 2.248004882610201, \"rat_LD50: true\": -2.544144325713513, \"rat_LD50: predicted\": -2.681532286971744, \"ecoli_MIC: true\": 2.841506905503749, \"ecoli_MIC: predicted\": 2.8532200700538723}, {\"fish_LC50: true\": 2.156073806316561, \"fish_LC50: predicted\": 3.1142212935007954, \"daphnia_EC50: true\": 1.5231041560753946, \"daphnia_EC50: predicted\": 1.9244653572206676, \"algea_EC50: true\": 4.400603020246816, \"algea_EC50: predicted\": 2.8588771357216363, \"rat_LD50: true\": -2.544144325713513, \"rat_LD50: predicted\": -2.295303334430272, \"ecoli_MIC: true\": 2.841506905503749, \"ecoli_MIC: predicted\": 2.85167730177483}, {\"fish_LC50: true\": 2.156073806316561, \"fish_LC50: predicted\": 3.0509959202544943, \"daphnia_EC50: true\": 1.5231041560753946, \"daphnia_EC50: predicted\": 1.9459546335148563, \"algea_EC50: true\": 6.908316121680465, \"algea_EC50: predicted\": 2.694772502088692, \"rat_LD50: true\": -1.4169999999999998, \"rat_LD50: predicted\": -1.9391619209046125, \"ecoli_MIC: true\": 2.841506905503749, \"ecoli_MIC: predicted\": 2.8373252602612666}, {\"fish_LC50: true\": 2.156073806316561, \"fish_LC50: predicted\": 2.726412768279109, \"daphnia_EC50: true\": 1.5231041560753946, \"daphnia_EC50: predicted\": 2.7171529261358027, \"algea_EC50: true\": 3.0445224377234235, \"algea_EC50: predicted\": 3.0124214558967157, \"rat_LD50: true\": -2.544144325713513, \"rat_LD50: predicted\": -2.2964823494248656, \"ecoli_MIC: true\": 2.841506905503749, \"ecoli_MIC: predicted\": 2.849315681870498}, {\"fish_LC50: true\": 2.156073806316561, \"fish_LC50: predicted\": 2.5254816923651626, \"daphnia_EC50: true\": 1.5231041560753946, \"daphnia_EC50: predicted\": 1.6697749361511345, \"algea_EC50: true\": 3.688879454113936, \"algea_EC50: predicted\": 2.61254293167802, \"rat_LD50: true\": -2.782, \"rat_LD50: predicted\": -2.582613590281304, \"ecoli_MIC: true\": 2.841506905503749, \"ecoli_MIC: predicted\": 2.864730560524221}, {\"fish_LC50: true\": 2.156073806316561, \"fish_LC50: predicted\": 2.9185431305353142, \"daphnia_EC50: true\": 1.5231041560753946, \"daphnia_EC50: predicted\": 2.1093625168415135, \"algea_EC50: true\": 6.908265148976338, \"algea_EC50: predicted\": 2.8469705365618907, \"rat_LD50: true\": -1.169, \"rat_LD50: predicted\": -2.013082029254289, \"ecoli_MIC: true\": 2.841506905503749, \"ecoli_MIC: predicted\": 2.8429419146929353}, {\"fish_LC50: true\": 2.156073806316561, \"fish_LC50: predicted\": 2.428102354851681, \"daphnia_EC50: true\": 1.5231041560753946, \"daphnia_EC50: predicted\": 1.7242000838160871, \"algea_EC50: true\": 3.828641396489095, \"algea_EC50: predicted\": 2.734852121501563, \"rat_LD50: true\": -2.544144325713513, \"rat_LD50: predicted\": -2.426902056811885, \"ecoli_MIC: true\": 2.841506905503749, \"ecoli_MIC: predicted\": 2.867781259481815}, {\"fish_LC50: true\": 2.156073806316561, \"fish_LC50: predicted\": 1.518172075140003, \"daphnia_EC50: true\": 1.5231041560753946, \"daphnia_EC50: predicted\": 0.9441402031911134, \"algea_EC50: true\": -2.1628231506188866, \"algea_EC50: predicted\": 2.3478924394077376, \"rat_LD50: true\": -2.544144325713513, \"rat_LD50: predicted\": -2.5402995978373064, \"ecoli_MIC: true\": 2.841506905503749, \"ecoli_MIC: predicted\": 2.9069755167852565}, {\"fish_LC50: true\": 2.156073806316561, \"fish_LC50: predicted\": 2.392979866198041, \"daphnia_EC50: true\": 1.5231041560753946, \"daphnia_EC50: predicted\": 1.563533690208538, \"algea_EC50: true\": 5.219274159207584, \"algea_EC50: predicted\": 2.4858129586002184, \"rat_LD50: true\": -1.211, \"rat_LD50: predicted\": -2.8054916536864765, \"ecoli_MIC: true\": 2.841506905503749, \"ecoli_MIC: predicted\": 2.918645017041802}, {\"fish_LC50: true\": 2.156073806316561, \"fish_LC50: predicted\": 2.6492845624403323, \"daphnia_EC50: true\": 1.5231041560753946, \"daphnia_EC50: predicted\": 2.3430247243841995, \"algea_EC50: true\": 4.110873864173311, \"algea_EC50: predicted\": 2.5963978807340666, \"rat_LD50: true\": -2.544144325713513, \"rat_LD50: predicted\": -2.2855279799977417, \"ecoli_MIC: true\": 2.841506905503749, \"ecoli_MIC: predicted\": 2.8698725604465416}, {\"fish_LC50: true\": 2.156073806316561, \"fish_LC50: predicted\": 2.0862580512481794, \"daphnia_EC50: true\": 1.5231041560753946, \"daphnia_EC50: predicted\": 1.5165342007434628, \"algea_EC50: true\": 2.9957322735539917, \"algea_EC50: predicted\": 2.426705518250501, \"rat_LD50: true\": -2.544144325713513, \"rat_LD50: predicted\": -2.3971569072884353, \"ecoli_MIC: true\": 2.841506905503749, \"ecoli_MIC: predicted\": 3.121229189808044}, {\"fish_LC50: true\": 2.156073806316561, \"fish_LC50: predicted\": 0.6422311511513508, \"daphnia_EC50: true\": 1.5231041560753946, \"daphnia_EC50: predicted\": 0.5080379338627243, \"algea_EC50: true\": -4.961845129926824, \"algea_EC50: predicted\": 2.061133952213681, \"rat_LD50: true\": -2.544144325713513, \"rat_LD50: predicted\": -2.5887743863259236, \"ecoli_MIC: true\": 2.841506905503749, \"ecoli_MIC: predicted\": 2.84644159798567}, {\"fish_LC50: true\": 2.156073806316561, \"fish_LC50: predicted\": 2.2361170185571275, \"daphnia_EC50: true\": 1.5231041560753946, \"daphnia_EC50: predicted\": 1.6596260504823839, \"algea_EC50: true\": 6.194405391104673, \"algea_EC50: predicted\": 2.4332512478385575, \"rat_LD50: true\": -2.043, \"rat_LD50: predicted\": -2.3114993670465798, \"ecoli_MIC: true\": 2.841506905503749, \"ecoli_MIC: predicted\": 2.8714082761936113}, {\"fish_LC50: true\": 2.156073806316561, \"fish_LC50: predicted\": 2.07253542216704, \"daphnia_EC50: true\": 1.5231041560753946, \"daphnia_EC50: predicted\": 1.6185044757921632, \"algea_EC50: true\": 1.1314021114911006, \"algea_EC50: predicted\": 2.4684532132856716, \"rat_LD50: true\": -2.544144325713513, \"rat_LD50: predicted\": -2.50614888183653, \"ecoli_MIC: true\": 2.841506905503749, \"ecoli_MIC: predicted\": 3.234422767829311}, {\"fish_LC50: true\": 2.156073806316561, \"fish_LC50: predicted\": 2.701948487466104, \"daphnia_EC50: true\": 1.5231041560753946, \"daphnia_EC50: predicted\": 1.8592566758470888, \"algea_EC50: true\": 4.02535169073515, \"algea_EC50: predicted\": 3.0139623293191473, \"rat_LD50: true\": -2.1590000000000003, \"rat_LD50: predicted\": -2.242446519345842, \"ecoli_MIC: true\": 2.841506905503749, \"ecoli_MIC: predicted\": 2.853402513189845}, {\"fish_LC50: true\": 2.156073806316561, \"fish_LC50: predicted\": 2.2398373011437056, \"daphnia_EC50: true\": 1.5231041560753946, \"daphnia_EC50: predicted\": 1.9111872968529795, \"algea_EC50: true\": 2.772588722239781, \"algea_EC50: predicted\": 2.6206984514913296, \"rat_LD50: true\": -2.544144325713513, \"rat_LD50: predicted\": -2.568903609449937, \"ecoli_MIC: true\": 2.841506905503749, \"ecoli_MIC: predicted\": 2.8483518744421064}, {\"fish_LC50: true\": 2.156073806316561, \"fish_LC50: predicted\": 2.7422176301920036, \"daphnia_EC50: true\": 1.5231041560753946, \"daphnia_EC50: predicted\": 1.920375786779184, \"algea_EC50: true\": 5.579729825986222, \"algea_EC50: predicted\": 2.749701723291246, \"rat_LD50: true\": -3.28, \"rat_LD50: predicted\": -2.6938419136889356, \"ecoli_MIC: true\": 2.841506905503749, \"ecoli_MIC: predicted\": 2.8436594192875284}, {\"fish_LC50: true\": 2.156073806316561, \"fish_LC50: predicted\": 2.1010841110652088, \"daphnia_EC50: true\": 1.5231041560753946, \"daphnia_EC50: predicted\": 1.4378709825509497, \"algea_EC50: true\": -1.021651247531981, \"algea_EC50: predicted\": 2.4574270674506935, \"rat_LD50: true\": -2.544144325713513, \"rat_LD50: predicted\": -2.737953125126218, \"ecoli_MIC: true\": 2.841506905503749, \"ecoli_MIC: predicted\": 2.8706266770883913}, {\"fish_LC50: true\": 2.156073806316561, \"fish_LC50: predicted\": 2.653044625126805, \"daphnia_EC50: true\": 1.5231041560753946, \"daphnia_EC50: predicted\": 1.9734572461782747, \"algea_EC50: true\": 3.5920931854262443, \"algea_EC50: predicted\": 2.725738811727826, \"rat_LD50: true\": -2.544144325713513, \"rat_LD50: predicted\": -2.604739895475394, \"ecoli_MIC: true\": 2.841506905503749, \"ecoli_MIC: predicted\": 2.843916251437539}, {\"fish_LC50: true\": 2.156073806316561, \"fish_LC50: predicted\": 2.2806719029925175, \"daphnia_EC50: true\": 1.5231041560753946, \"daphnia_EC50: predicted\": 1.761408838379948, \"algea_EC50: true\": 4.330733340286331, \"algea_EC50: predicted\": 2.483221520178642, \"rat_LD50: true\": -2.544144325713513, \"rat_LD50: predicted\": -2.338607517255247, \"ecoli_MIC: true\": 2.841506905503749, \"ecoli_MIC: predicted\": 2.853111055424047}, {\"fish_LC50: true\": 2.156073806316561, \"fish_LC50: predicted\": 1.90843289592674, \"daphnia_EC50: true\": 1.5231041560753946, \"daphnia_EC50: predicted\": 1.325972492827288, \"algea_EC50: true\": 0.33647223662121295, \"algea_EC50: predicted\": 2.1391301645982495, \"rat_LD50: true\": -2.544144325713513, \"rat_LD50: predicted\": -2.32316699462076, \"ecoli_MIC: true\": 2.841506905503749, \"ecoli_MIC: predicted\": 2.869841262012195}, {\"fish_LC50: true\": 2.156073806316561, \"fish_LC50: predicted\": 2.6547545422523378, \"daphnia_EC50: true\": 1.5231041560753946, \"daphnia_EC50: predicted\": 1.8931555048252553, \"algea_EC50: true\": 2.5649493574615367, \"algea_EC50: predicted\": 2.595277644113369, \"rat_LD50: true\": -2.544144325713513, \"rat_LD50: predicted\": -2.35510032350218, \"ecoli_MIC: true\": 2.841506905503749, \"ecoli_MIC: predicted\": 2.841506905503749}, {\"fish_LC50: true\": 2.156073806316561, \"fish_LC50: predicted\": 3.302923579491936, \"daphnia_EC50: true\": 1.5231041560753946, \"daphnia_EC50: predicted\": 2.371554938349033, \"algea_EC50: true\": 4.543294782270004, \"algea_EC50: predicted\": 2.9986579597768808, \"rat_LD50: true\": -2.544144325713513, \"rat_LD50: predicted\": -1.906841868417261, \"ecoli_MIC: true\": 2.841506905503749, \"ecoli_MIC: predicted\": 2.890506977205098}, {\"fish_LC50: true\": 2.156073806316561, \"fish_LC50: predicted\": 2.895806971279939, \"daphnia_EC50: true\": 1.5231041560753946, \"daphnia_EC50: predicted\": 2.29422366578265, \"algea_EC50: true\": 3.8501476017100575, \"algea_EC50: predicted\": 3.070925948783307, \"rat_LD50: true\": -2.544144325713513, \"rat_LD50: predicted\": -2.1179235300439525, \"ecoli_MIC: true\": 2.841506905503749, \"ecoli_MIC: predicted\": 2.8701383304482038}, {\"fish_LC50: true\": 2.156073806316561, \"fish_LC50: predicted\": 2.1667340825044237, \"daphnia_EC50: true\": 1.5231041560753946, \"daphnia_EC50: predicted\": 1.6903950606220548, \"algea_EC50: true\": 3.9396381724611196, \"algea_EC50: predicted\": 2.512490178681592, \"rat_LD50: true\": -2.544144325713513, \"rat_LD50: predicted\": -2.456152213610479, \"ecoli_MIC: true\": 2.841506905503749, \"ecoli_MIC: predicted\": 2.779678879280192}, {\"fish_LC50: true\": 2.156073806316561, \"fish_LC50: predicted\": 1.8830612981842638, \"daphnia_EC50: true\": 1.5231041560753946, \"daphnia_EC50: predicted\": 1.385683613342944, \"algea_EC50: true\": 6.411818267709899, \"algea_EC50: predicted\": 2.394618945243915, \"rat_LD50: true\": -1.832, \"rat_LD50: predicted\": -2.4709392072641023, \"ecoli_MIC: true\": 2.841506905503749, \"ecoli_MIC: predicted\": 2.9582614519553045}, {\"fish_LC50: true\": 2.156073806316561, \"fish_LC50: predicted\": 2.309587780357137, \"daphnia_EC50: true\": 1.5231041560753946, \"daphnia_EC50: predicted\": 1.7567999812548045, \"algea_EC50: true\": 4.944495491591711, \"algea_EC50: predicted\": 2.483982173568182, \"rat_LD50: true\": -2.544144325713513, \"rat_LD50: predicted\": -2.8114966567557023, \"ecoli_MIC: true\": 2.841506905503749, \"ecoli_MIC: predicted\": 3.005824311421451}, {\"fish_LC50: true\": 2.156073806316561, \"fish_LC50: predicted\": 2.1709133247042587, \"daphnia_EC50: true\": 1.5231041560753946, \"daphnia_EC50: predicted\": 1.5915498285168617, \"algea_EC50: true\": 4.705920089088233, \"algea_EC50: predicted\": 2.7684355580779276, \"rat_LD50: true\": -2.544144325713513, \"rat_LD50: predicted\": -1.5227120630212378, \"ecoli_MIC: true\": 2.841506905503749, \"ecoli_MIC: predicted\": 2.845209402577227}, {\"fish_LC50: true\": 2.156073806316561, \"fish_LC50: predicted\": 3.0929980156530146, \"daphnia_EC50: true\": 1.5231041560753946, \"daphnia_EC50: predicted\": 1.8921850879581765, \"algea_EC50: true\": 6.39024066706535, \"algea_EC50: predicted\": 2.726267419124197, \"rat_LD50: true\": -2.544144325713513, \"rat_LD50: predicted\": -2.182394228818093, \"ecoli_MIC: true\": 2.841506905503749, \"ecoli_MIC: predicted\": 2.8424154407988222}, {\"fish_LC50: true\": 2.156073806316561, \"fish_LC50: predicted\": 1.8062483844228139, \"daphnia_EC50: true\": 1.5231041560753946, \"daphnia_EC50: predicted\": 1.390949922941882, \"algea_EC50: true\": 0.6936470556015961, \"algea_EC50: predicted\": 2.4011292180943857, \"rat_LD50: true\": -1.0420000000000003, \"rat_LD50: predicted\": -1.9758975584145695, \"ecoli_MIC: true\": 2.841506905503749, \"ecoli_MIC: predicted\": 3.034225979384388}, {\"fish_LC50: true\": 2.156073806316561, \"fish_LC50: predicted\": 2.3132445998418314, \"daphnia_EC50: true\": 1.5231041560753946, \"daphnia_EC50: predicted\": 1.7628712278301317, \"algea_EC50: true\": 4.718498871295094, \"algea_EC50: predicted\": 2.5596429989738825, \"rat_LD50: true\": -2.544144325713513, \"rat_LD50: predicted\": -2.3835238668271033, \"ecoli_MIC: true\": 2.841506905503749, \"ecoli_MIC: predicted\": 2.8793059361527433}, {\"fish_LC50: true\": 2.156073806316561, \"fish_LC50: predicted\": 2.585832086662598, \"daphnia_EC50: true\": 1.5231041560753946, \"daphnia_EC50: predicted\": 1.8769624138946195, \"algea_EC50: true\": 4.505349850705881, \"algea_EC50: predicted\": 3.289054045739519, \"rat_LD50: true\": -2.544144325713513, \"rat_LD50: predicted\": -2.292604628729283, \"ecoli_MIC: true\": 2.841506905503749, \"ecoli_MIC: predicted\": 2.841506905503749}, {\"fish_LC50: true\": 2.156073806316561, \"fish_LC50: predicted\": 2.6989850730642297, \"daphnia_EC50: true\": 1.5231041560753946, \"daphnia_EC50: predicted\": 2.5429020548518144, \"algea_EC50: true\": 6.3818160174060985, \"algea_EC50: predicted\": 3.0748658781271496, \"rat_LD50: true\": -2.544144325713513, \"rat_LD50: predicted\": -1.9195474895354345, \"ecoli_MIC: true\": 2.841506905503749, \"ecoli_MIC: predicted\": 2.8590766523289344}, {\"fish_LC50: true\": 2.156073806316561, \"fish_LC50: predicted\": 2.3306218930863505, \"daphnia_EC50: true\": 1.5231041560753946, \"daphnia_EC50: predicted\": 2.2879926356394984, \"algea_EC50: true\": 3.915217896324665, \"algea_EC50: predicted\": 2.5928803947091907, \"rat_LD50: true\": -2.544144325713513, \"rat_LD50: predicted\": -2.2494408810852877, \"ecoli_MIC: true\": 2.841506905503749, \"ecoli_MIC: predicted\": 2.8703675955409405}, {\"fish_LC50: true\": 2.156073806316561, \"fish_LC50: predicted\": 3.751253363777536, \"daphnia_EC50: true\": 1.5231041560753946, \"daphnia_EC50: predicted\": 2.2381486686177587, \"algea_EC50: true\": 3.813307032488989, \"algea_EC50: predicted\": 2.938839926535697, \"rat_LD50: true\": -2.544144325713513, \"rat_LD50: predicted\": -2.6028583243126477, \"ecoli_MIC: true\": 2.841506905503749, \"ecoli_MIC: predicted\": 2.8607860972298913}, {\"fish_LC50: true\": 2.156073806316561, \"fish_LC50: predicted\": 1.8857106873739415, \"daphnia_EC50: true\": 1.5231041560753946, \"daphnia_EC50: predicted\": 1.2468474554711633, \"algea_EC50: true\": 3.937690752176724, \"algea_EC50: predicted\": 2.4475214626752875, \"rat_LD50: true\": -2.544144325713513, \"rat_LD50: predicted\": -2.7058575550269364, \"ecoli_MIC: true\": 2.841506905503749, \"ecoli_MIC: predicted\": 2.956896994081215}, {\"fish_LC50: true\": 2.156073806316561, \"fish_LC50: predicted\": 2.6431000539611906, \"daphnia_EC50: true\": 1.5231041560753946, \"daphnia_EC50: predicted\": 1.7036186437496572, \"algea_EC50: true\": 5.960489742808553, \"algea_EC50: predicted\": 2.4616038051490414, \"rat_LD50: true\": -1.741, \"rat_LD50: predicted\": -2.213511237112812, \"ecoli_MIC: true\": 2.841506905503749, \"ecoli_MIC: predicted\": 2.8612590698871254}, {\"fish_LC50: true\": 2.156073806316561, \"fish_LC50: predicted\": 2.4494042045473083, \"daphnia_EC50: true\": 1.5231041560753946, \"daphnia_EC50: predicted\": 2.315360233585558, \"algea_EC50: true\": 6.908275143828987, \"algea_EC50: predicted\": 2.5490096310545, \"rat_LD50: true\": -2.544144325713513, \"rat_LD50: predicted\": -2.462262550047178, \"ecoli_MIC: true\": 2.841506905503749, \"ecoli_MIC: predicted\": 2.96600803897013}, {\"fish_LC50: true\": 2.156073806316561, \"fish_LC50: predicted\": 2.1110105204142373, \"daphnia_EC50: true\": 1.5231041560753946, \"daphnia_EC50: predicted\": 1.6560510884549906, \"algea_EC50: true\": 7.326465613840322, \"algea_EC50: predicted\": 2.443642589633429, \"rat_LD50: true\": -2.544144325713513, \"rat_LD50: predicted\": -2.7329952500421144, \"ecoli_MIC: true\": 2.841506905503749, \"ecoli_MIC: predicted\": 2.929440484829361}, {\"fish_LC50: true\": 2.156073806316561, \"fish_LC50: predicted\": 2.227358317390025, \"daphnia_EC50: true\": 1.5231041560753946, \"daphnia_EC50: predicted\": 1.7350696363332196, \"algea_EC50: true\": 8.859363449152088, \"algea_EC50: predicted\": 2.654030349141068, \"rat_LD50: true\": -2.544144325713513, \"rat_LD50: predicted\": -1.8592790249220972, \"ecoli_MIC: true\": 2.841506905503749, \"ecoli_MIC: predicted\": 2.895891057634412}, {\"fish_LC50: true\": 2.156073806316561, \"fish_LC50: predicted\": 2.2196275708740942, \"daphnia_EC50: true\": 1.5231041560753946, \"daphnia_EC50: predicted\": 1.6851615772073703, \"algea_EC50: true\": 3.5263605246161616, \"algea_EC50: predicted\": 2.2241874109771587, \"rat_LD50: true\": -2.544144325713513, \"rat_LD50: predicted\": -2.387429478063903, \"ecoli_MIC: true\": 2.841506905503749, \"ecoli_MIC: predicted\": 3.4624594185952855}, {\"fish_LC50: true\": 2.156073806316561, \"fish_LC50: predicted\": 2.0199714970733753, \"daphnia_EC50: true\": 1.5231041560753946, \"daphnia_EC50: predicted\": 1.5862805975919538, \"algea_EC50: true\": 1.9459101490553128, \"algea_EC50: predicted\": 2.3903302386462193, \"rat_LD50: true\": -2.544144325713513, \"rat_LD50: predicted\": -2.5046516605189444, \"ecoli_MIC: true\": 2.841506905503749, \"ecoli_MIC: predicted\": 2.8558211268968376}, {\"fish_LC50: true\": 2.156073806316561, \"fish_LC50: predicted\": 1.1748506399079988, \"daphnia_EC50: true\": 1.5231041560753946, \"daphnia_EC50: predicted\": 0.731523556400513, \"algea_EC50: true\": 0.5025918188388871, \"algea_EC50: predicted\": 1.2986217226828094, \"rat_LD50: true\": -2.261, \"rat_LD50: predicted\": -2.377493495187302, \"ecoli_MIC: true\": 2.841506905503749, \"ecoli_MIC: predicted\": 2.841357862002501}], \"data-c8bb012da4c38593efafab2f9cdac7a5\": [{\"algea_EC50: true\": -5.9914645471079835, \"algea_EC50: predicted\": -5.9914645471079835}, {\"algea_EC50: true\": 8.859363449152088, \"algea_EC50: predicted\": 8.859363449152088}]}}, {\"mode\": \"vega-lite\"});\n",
       "</script>"
      ],
      "text/plain": [
       "alt.LayerChart(...)"
      ]
     },
     "execution_count": 64,
     "metadata": {},
     "output_type": "execute_result"
    }
   ],
   "source": [
    "mean_model.visualize('pair_predict', mean_test, untransform=True, task='algea_EC50')"
   ]
  },
  {
   "cell_type": "markdown",
   "id": "048a59dd-f03c-4905-ad3a-ab1a752ca1e9",
   "metadata": {},
   "source": [
    "> The R2 score for imputing the mean is 0.174, very close to no predicitve power. We can see that imputing by mean heavily imbalances the model to predict that mean."
   ]
  },
  {
   "cell_type": "markdown",
   "id": "cdcfef2a-792e-4850-993d-ce16b6b8e94a",
   "metadata": {},
   "source": [
    "#### Impute by interpolation"
   ]
  },
  {
   "cell_type": "markdown",
   "id": "421f5e93-00a1-4e54-be48-c54048f26e4c",
   "metadata": {},
   "source": [
    "Retrieve best hyperparameters for this model type."
   ]
  },
  {
   "cell_type": "code",
   "execution_count": 126,
   "id": "510800b1-7ff9-4bab-b464-1f032035014e",
   "metadata": {
    "tags": []
   },
   "outputs": [],
   "source": [
    "inter_study = optuna.load_study(\n",
    "    study_name='opt',\n",
    "    storage=\"sqlite:///regression/inter_r.db\"\n",
    ")"
   ]
  },
  {
   "cell_type": "code",
   "execution_count": 127,
   "id": "f87df1bd-f0eb-4ff0-9495-be4b7d8135f0",
   "metadata": {},
   "outputs": [
    {
     "data": {
      "text/html": [
       "<div>\n",
       "<style scoped>\n",
       "    .dataframe tbody tr th:only-of-type {\n",
       "        vertical-align: middle;\n",
       "    }\n",
       "\n",
       "    .dataframe tbody tr th {\n",
       "        vertical-align: top;\n",
       "    }\n",
       "\n",
       "    .dataframe thead th {\n",
       "        text-align: right;\n",
       "    }\n",
       "</style>\n",
       "<table border=\"1\" class=\"dataframe\">\n",
       "  <thead>\n",
       "    <tr style=\"text-align: right;\">\n",
       "      <th></th>\n",
       "      <th>number</th>\n",
       "      <th>value</th>\n",
       "      <th>datetime_start</th>\n",
       "      <th>datetime_complete</th>\n",
       "      <th>duration</th>\n",
       "      <th>params_criterion</th>\n",
       "      <th>params_max_depth</th>\n",
       "      <th>params_max_features</th>\n",
       "      <th>params_min_samples_leaf</th>\n",
       "      <th>params_min_samples_split</th>\n",
       "      <th>params_n_estimators</th>\n",
       "      <th>state</th>\n",
       "    </tr>\n",
       "  </thead>\n",
       "  <tbody>\n",
       "    <tr>\n",
       "      <th>0</th>\n",
       "      <td>0</td>\n",
       "      <td>-0.085670</td>\n",
       "      <td>2021-05-31 14:07:30.882501</td>\n",
       "      <td>2021-05-31 14:14:59.106237</td>\n",
       "      <td>0 days 00:07:28.223736</td>\n",
       "      <td>mae</td>\n",
       "      <td>20.0</td>\n",
       "      <td>log2</td>\n",
       "      <td>1</td>\n",
       "      <td>4</td>\n",
       "      <td>10</td>\n",
       "      <td>COMPLETE</td>\n",
       "    </tr>\n",
       "    <tr>\n",
       "      <th>1</th>\n",
       "      <td>1</td>\n",
       "      <td>0.042944</td>\n",
       "      <td>2021-05-31 14:07:30.897549</td>\n",
       "      <td>2021-05-31 14:08:56.449587</td>\n",
       "      <td>0 days 00:01:25.552038</td>\n",
       "      <td>mse</td>\n",
       "      <td>40.0</td>\n",
       "      <td>sqrt</td>\n",
       "      <td>8</td>\n",
       "      <td>6</td>\n",
       "      <td>250</td>\n",
       "      <td>COMPLETE</td>\n",
       "    </tr>\n",
       "    <tr>\n",
       "      <th>2</th>\n",
       "      <td>2</td>\n",
       "      <td>0.029570</td>\n",
       "      <td>2021-05-31 14:07:30.889808</td>\n",
       "      <td>2021-05-31 14:07:51.467335</td>\n",
       "      <td>0 days 00:00:20.577527</td>\n",
       "      <td>mse</td>\n",
       "      <td>35.0</td>\n",
       "      <td>sqrt</td>\n",
       "      <td>8</td>\n",
       "      <td>4</td>\n",
       "      <td>55</td>\n",
       "      <td>COMPLETE</td>\n",
       "    </tr>\n",
       "    <tr>\n",
       "      <th>3</th>\n",
       "      <td>3</td>\n",
       "      <td>0.039443</td>\n",
       "      <td>2021-05-31 14:07:30.887960</td>\n",
       "      <td>2021-05-31 14:07:56.905302</td>\n",
       "      <td>0 days 00:00:26.017342</td>\n",
       "      <td>mse</td>\n",
       "      <td>30.0</td>\n",
       "      <td>sqrt</td>\n",
       "      <td>8</td>\n",
       "      <td>6</td>\n",
       "      <td>70</td>\n",
       "      <td>COMPLETE</td>\n",
       "    </tr>\n",
       "    <tr>\n",
       "      <th>4</th>\n",
       "      <td>4</td>\n",
       "      <td>0.007352</td>\n",
       "      <td>2021-05-31 14:07:30.891874</td>\n",
       "      <td>2021-05-31 15:32:21.428170</td>\n",
       "      <td>0 days 01:24:50.536296</td>\n",
       "      <td>mae</td>\n",
       "      <td>40.0</td>\n",
       "      <td>sqrt</td>\n",
       "      <td>2</td>\n",
       "      <td>10</td>\n",
       "      <td>50</td>\n",
       "      <td>COMPLETE</td>\n",
       "    </tr>\n",
       "    <tr>\n",
       "      <th>...</th>\n",
       "      <td>...</td>\n",
       "      <td>...</td>\n",
       "      <td>...</td>\n",
       "      <td>...</td>\n",
       "      <td>...</td>\n",
       "      <td>...</td>\n",
       "      <td>...</td>\n",
       "      <td>...</td>\n",
       "      <td>...</td>\n",
       "      <td>...</td>\n",
       "      <td>...</td>\n",
       "      <td>...</td>\n",
       "    </tr>\n",
       "    <tr>\n",
       "      <th>177</th>\n",
       "      <td>177</td>\n",
       "      <td>0.037795</td>\n",
       "      <td>2021-05-31 22:11:46.865662</td>\n",
       "      <td>2021-05-31 22:12:48.968330</td>\n",
       "      <td>0 days 00:01:02.102668</td>\n",
       "      <td>mse</td>\n",
       "      <td>NaN</td>\n",
       "      <td>sqrt</td>\n",
       "      <td>6</td>\n",
       "      <td>5</td>\n",
       "      <td>200</td>\n",
       "      <td>COMPLETE</td>\n",
       "    </tr>\n",
       "    <tr>\n",
       "      <th>178</th>\n",
       "      <td>178</td>\n",
       "      <td>0.038936</td>\n",
       "      <td>2021-05-31 22:12:49.164093</td>\n",
       "      <td>2021-05-31 22:13:19.289493</td>\n",
       "      <td>0 days 00:00:30.125400</td>\n",
       "      <td>mse</td>\n",
       "      <td>NaN</td>\n",
       "      <td>log2</td>\n",
       "      <td>6</td>\n",
       "      <td>5</td>\n",
       "      <td>180</td>\n",
       "      <td>COMPLETE</td>\n",
       "    </tr>\n",
       "    <tr>\n",
       "      <th>179</th>\n",
       "      <td>179</td>\n",
       "      <td>0.039864</td>\n",
       "      <td>2021-05-31 22:13:19.371942</td>\n",
       "      <td>2021-05-31 22:14:20.728808</td>\n",
       "      <td>0 days 00:01:01.356866</td>\n",
       "      <td>mse</td>\n",
       "      <td>NaN</td>\n",
       "      <td>sqrt</td>\n",
       "      <td>6</td>\n",
       "      <td>4</td>\n",
       "      <td>195</td>\n",
       "      <td>COMPLETE</td>\n",
       "    </tr>\n",
       "    <tr>\n",
       "      <th>180</th>\n",
       "      <td>180</td>\n",
       "      <td>0.037274</td>\n",
       "      <td>2021-05-31 22:14:20.813608</td>\n",
       "      <td>2021-05-31 22:15:28.090393</td>\n",
       "      <td>0 days 00:01:07.276785</td>\n",
       "      <td>mse</td>\n",
       "      <td>NaN</td>\n",
       "      <td>sqrt</td>\n",
       "      <td>5</td>\n",
       "      <td>5</td>\n",
       "      <td>205</td>\n",
       "      <td>COMPLETE</td>\n",
       "    </tr>\n",
       "    <tr>\n",
       "      <th>181</th>\n",
       "      <td>181</td>\n",
       "      <td>0.038596</td>\n",
       "      <td>2021-05-31 22:15:28.172589</td>\n",
       "      <td>2021-05-31 22:16:28.158493</td>\n",
       "      <td>0 days 00:00:59.985904</td>\n",
       "      <td>mse</td>\n",
       "      <td>NaN</td>\n",
       "      <td>sqrt</td>\n",
       "      <td>6</td>\n",
       "      <td>5</td>\n",
       "      <td>190</td>\n",
       "      <td>COMPLETE</td>\n",
       "    </tr>\n",
       "  </tbody>\n",
       "</table>\n",
       "<p>182 rows × 12 columns</p>\n",
       "</div>"
      ],
      "text/plain": [
       "     number     value             datetime_start          datetime_complete  \\\n",
       "0         0 -0.085670 2021-05-31 14:07:30.882501 2021-05-31 14:14:59.106237   \n",
       "1         1  0.042944 2021-05-31 14:07:30.897549 2021-05-31 14:08:56.449587   \n",
       "2         2  0.029570 2021-05-31 14:07:30.889808 2021-05-31 14:07:51.467335   \n",
       "3         3  0.039443 2021-05-31 14:07:30.887960 2021-05-31 14:07:56.905302   \n",
       "4         4  0.007352 2021-05-31 14:07:30.891874 2021-05-31 15:32:21.428170   \n",
       "..      ...       ...                        ...                        ...   \n",
       "177     177  0.037795 2021-05-31 22:11:46.865662 2021-05-31 22:12:48.968330   \n",
       "178     178  0.038936 2021-05-31 22:12:49.164093 2021-05-31 22:13:19.289493   \n",
       "179     179  0.039864 2021-05-31 22:13:19.371942 2021-05-31 22:14:20.728808   \n",
       "180     180  0.037274 2021-05-31 22:14:20.813608 2021-05-31 22:15:28.090393   \n",
       "181     181  0.038596 2021-05-31 22:15:28.172589 2021-05-31 22:16:28.158493   \n",
       "\n",
       "                  duration params_criterion  params_max_depth  \\\n",
       "0   0 days 00:07:28.223736              mae              20.0   \n",
       "1   0 days 00:01:25.552038              mse              40.0   \n",
       "2   0 days 00:00:20.577527              mse              35.0   \n",
       "3   0 days 00:00:26.017342              mse              30.0   \n",
       "4   0 days 01:24:50.536296              mae              40.0   \n",
       "..                     ...              ...               ...   \n",
       "177 0 days 00:01:02.102668              mse               NaN   \n",
       "178 0 days 00:00:30.125400              mse               NaN   \n",
       "179 0 days 00:01:01.356866              mse               NaN   \n",
       "180 0 days 00:01:07.276785              mse               NaN   \n",
       "181 0 days 00:00:59.985904              mse               NaN   \n",
       "\n",
       "    params_max_features  params_min_samples_leaf  params_min_samples_split  \\\n",
       "0                  log2                        1                         4   \n",
       "1                  sqrt                        8                         6   \n",
       "2                  sqrt                        8                         4   \n",
       "3                  sqrt                        8                         6   \n",
       "4                  sqrt                        2                        10   \n",
       "..                  ...                      ...                       ...   \n",
       "177                sqrt                        6                         5   \n",
       "178                log2                        6                         5   \n",
       "179                sqrt                        6                         4   \n",
       "180                sqrt                        5                         5   \n",
       "181                sqrt                        6                         5   \n",
       "\n",
       "     params_n_estimators     state  \n",
       "0                     10  COMPLETE  \n",
       "1                    250  COMPLETE  \n",
       "2                     55  COMPLETE  \n",
       "3                     70  COMPLETE  \n",
       "4                     50  COMPLETE  \n",
       "..                   ...       ...  \n",
       "177                  200  COMPLETE  \n",
       "178                  180  COMPLETE  \n",
       "179                  195  COMPLETE  \n",
       "180                  205  COMPLETE  \n",
       "181                  190  COMPLETE  \n",
       "\n",
       "[182 rows x 12 columns]"
      ]
     },
     "execution_count": 127,
     "metadata": {},
     "output_type": "execute_result"
    }
   ],
   "source": [
    "inter_results = inter_study.trials_dataframe()\n",
    "inter_results"
   ]
  },
  {
   "cell_type": "code",
   "execution_count": 128,
   "id": "03db0496-da8a-4974-9a53-5d43c2233d34",
   "metadata": {},
   "outputs": [],
   "source": [
    "inter_params = inter_study.best_params"
   ]
  },
  {
   "cell_type": "code",
   "execution_count": 129,
   "id": "964d69a6-6ac5-4f61-a801-ad1bb90026b0",
   "metadata": {},
   "outputs": [
    {
     "data": {
      "text/plain": [
       "{'criterion': 'mse',\n",
       " 'max_depth': None,\n",
       " 'max_features': 'sqrt',\n",
       " 'min_samples_leaf': 6,\n",
       " 'min_samples_split': 5,\n",
       " 'n_estimators': 195}"
      ]
     },
     "execution_count": 129,
     "metadata": {},
     "output_type": "execute_result"
    }
   ],
   "source": [
    "inter_params"
   ]
  },
  {
   "cell_type": "code",
   "execution_count": 130,
   "id": "a0e8da7c-50c6-4004-8d54-f4eb70c3796b",
   "metadata": {},
   "outputs": [
    {
     "data": {
      "text/plain": [
       "0.05035201551830746"
      ]
     },
     "execution_count": 130,
     "metadata": {},
     "output_type": "execute_result"
    }
   ],
   "source": [
    "inter_study.best_value"
   ]
  },
  {
   "cell_type": "markdown",
   "id": "dcad470f-5d96-41ac-a58c-61a9ac189f08",
   "metadata": {},
   "source": [
    "Impute and prepare the data, requiring sklearns experimental imputer."
   ]
  },
  {
   "cell_type": "code",
   "execution_count": 68,
   "id": "28d600a8-d130-4cbc-b572-816a6eb05e21",
   "metadata": {},
   "outputs": [],
   "source": [
    "from sklearn.experimental import enable_iterative_imputer"
   ]
  },
  {
   "cell_type": "code",
   "execution_count": 69,
   "id": "a9d39577-dfa1-4279-b801-1ee0fc3c97f9",
   "metadata": {},
   "outputs": [],
   "source": [
    "iterpute = data_f.copy()"
   ]
  },
  {
   "cell_type": "code",
   "execution_count": 70,
   "id": "b2ae14e3-7ef2-4b3c-b732-c8c474553b61",
   "metadata": {},
   "outputs": [],
   "source": [
    "iterpute[multitask_names] = sklearn.impute.IterativeImputer(random_state=0).fit_transform(\n",
    "    iterpute[multitask_names].values\n",
    ")"
   ]
  },
  {
   "cell_type": "code",
   "execution_count": 71,
   "id": "eb899806-a6bf-4c09-958b-9bae07fcdec4",
   "metadata": {},
   "outputs": [],
   "source": [
    "iterpute_set = dataprep.convert_to_dataset(\n",
    "    iterpute,\n",
    "    X_col='RDKitDescriptors',\n",
    "    y_col=multitask_names\n",
    ")"
   ]
  },
  {
   "cell_type": "code",
   "execution_count": 72,
   "id": "0be5add5-65b4-4fc8-afd8-8814ea91f895",
   "metadata": {},
   "outputs": [],
   "source": [
    "iterpute_normed, iterpute_transformations = dataprep.data_transformation(\n",
    "    iterpute_set, transformations = ['NormalizationTransformer'],\n",
    "    to_transform = ['y']\n",
    ")"
   ]
  },
  {
   "cell_type": "code",
   "execution_count": 73,
   "id": "948d6c42-cb45-4e5f-a1a3-8bd0a019afc5",
   "metadata": {},
   "outputs": [],
   "source": [
    "iterpute_test = iterpute_normed.select(np.isin(iterpute_normed.ids, test_index))\n",
    "iterpute_dev = iterpute_normed.select(~np.isin(iterpute_normed.ids, test_index))"
   ]
  },
  {
   "cell_type": "markdown",
   "id": "172f0f5a-c1e3-4667-ba88-c32251f2ccc7",
   "metadata": {},
   "source": [
    "Train the multitask model on dev data with interpolated targets, and the best identified hyperparameters."
   ]
  },
  {
   "cell_type": "code",
   "execution_count": 74,
   "id": "86ce9f80-cee5-441d-9550-a68dea8f5fa3",
   "metadata": {},
   "outputs": [],
   "source": [
    "iterpute_model = ToxModel('RFR', transformers=iterpute_transformations, tasks=multitask_names, **inter_params)"
   ]
  },
  {
   "cell_type": "code",
   "execution_count": 75,
   "id": "f7b4914d-6563-473a-abac-84bd10324553",
   "metadata": {},
   "outputs": [],
   "source": [
    "iterpute_model.fit(iterpute_dev)"
   ]
  },
  {
   "cell_type": "code",
   "execution_count": 76,
   "id": "b6ca755f-6f1b-4a5a-9468-ac5b1c4a0b53",
   "metadata": {},
   "outputs": [
    {
     "data": {
      "text/plain": [
       "({'metric-1': 0.15226522035710457, 'metric-2': 19.770376451814908},\n",
       " {'metric-1': [0.2603352147912059,\n",
       "   0.2187505546101537,\n",
       "   0.13451231431425736,\n",
       "   0.11682170407590065,\n",
       "   0.03090631399400523],\n",
       "  'metric-2': [1.8529771454203363,\n",
       "   1.9992343983708825,\n",
       "   5.114149051152437,\n",
       "   0.20859387205720248,\n",
       "   89.67692779207368]})"
      ]
     },
     "execution_count": 76,
     "metadata": {},
     "output_type": "execute_result"
    }
   ],
   "source": [
    "iterpute_model.evaluate(iterpute_test, ['r2_score', 'mean_squared_error'], untransform=True, per_task_metrics=True)"
   ]
  },
  {
   "cell_type": "code",
   "execution_count": 77,
   "id": "15686623-c9e6-4692-a3ba-c8bcd4d118f1",
   "metadata": {},
   "outputs": [
    {
     "name": "stdout",
     "output_type": "stream",
     "text": [
      "(289, 5)\n"
     ]
    },
    {
     "data": {
      "text/html": [
       "\n",
       "<div id=\"altair-viz-700cd97a19c045a494641d17ef76cb69\"></div>\n",
       "<script type=\"text/javascript\">\n",
       "  (function(spec, embedOpt){\n",
       "    let outputDiv = document.currentScript.previousElementSibling;\n",
       "    if (outputDiv.id !== \"altair-viz-700cd97a19c045a494641d17ef76cb69\") {\n",
       "      outputDiv = document.getElementById(\"altair-viz-700cd97a19c045a494641d17ef76cb69\");\n",
       "    }\n",
       "    const paths = {\n",
       "      \"vega\": \"https://cdn.jsdelivr.net/npm//vega@5?noext\",\n",
       "      \"vega-lib\": \"https://cdn.jsdelivr.net/npm//vega-lib?noext\",\n",
       "      \"vega-lite\": \"https://cdn.jsdelivr.net/npm//vega-lite@4.8.1?noext\",\n",
       "      \"vega-embed\": \"https://cdn.jsdelivr.net/npm//vega-embed@6?noext\",\n",
       "    };\n",
       "\n",
       "    function loadScript(lib) {\n",
       "      return new Promise(function(resolve, reject) {\n",
       "        var s = document.createElement('script');\n",
       "        s.src = paths[lib];\n",
       "        s.async = true;\n",
       "        s.onload = () => resolve(paths[lib]);\n",
       "        s.onerror = () => reject(`Error loading script: ${paths[lib]}`);\n",
       "        document.getElementsByTagName(\"head\")[0].appendChild(s);\n",
       "      });\n",
       "    }\n",
       "\n",
       "    function showError(err) {\n",
       "      outputDiv.innerHTML = `<div class=\"error\" style=\"color:red;\">${err}</div>`;\n",
       "      throw err;\n",
       "    }\n",
       "\n",
       "    function displayChart(vegaEmbed) {\n",
       "      vegaEmbed(outputDiv, spec, embedOpt)\n",
       "        .catch(err => showError(`Javascript Error: ${err.message}<br>This usually means there's a typo in your chart specification. See the javascript console for the full traceback.`));\n",
       "    }\n",
       "\n",
       "    if(typeof define === \"function\" && define.amd) {\n",
       "      requirejs.config({paths});\n",
       "      require([\"vega-embed\"], displayChart, err => showError(`Error loading script: ${err.message}`));\n",
       "    } else if (typeof vegaEmbed === \"function\") {\n",
       "      displayChart(vegaEmbed);\n",
       "    } else {\n",
       "      loadScript(\"vega\")\n",
       "        .then(() => loadScript(\"vega-lite\"))\n",
       "        .then(() => loadScript(\"vega-embed\"))\n",
       "        .catch(showError)\n",
       "        .then(() => displayChart(vegaEmbed));\n",
       "    }\n",
       "  })({\"config\": {\"view\": {\"continuousWidth\": 400, \"continuousHeight\": 300}}, \"layer\": [{\"mark\": \"point\", \"encoding\": {\"x\": {\"type\": \"quantitative\", \"field\": \"algea_EC50: true\", \"scale\": {\"zero\": false}}, \"y\": {\"type\": \"quantitative\", \"field\": \"algea_EC50: predicted\", \"scale\": {\"zero\": false}}}}, {\"mark\": \"line\", \"encoding\": {\"x\": {\"type\": \"quantitative\", \"field\": \"algea_EC50: true\", \"scale\": {\"zero\": false}}, \"y\": {\"type\": \"quantitative\", \"field\": \"algea_EC50: predicted\", \"scale\": {\"zero\": false}}}, \"transform\": [{\"on\": \"algea_EC50: true\", \"regression\": \"algea_EC50: predicted\"}]}, {\"data\": {\"name\": \"data-8dd6c8e74c1e7ee495d701928b16d9fe\"}, \"mark\": {\"type\": \"line\", \"color\": \"black\"}, \"encoding\": {\"x\": {\"type\": \"quantitative\", \"field\": \"algea_EC50: true\"}, \"y\": {\"type\": \"quantitative\", \"field\": \"algea_EC50: predicted\"}}}], \"data\": {\"name\": \"data-520905a3b9d5beab1b5350bf824a546d\"}, \"$schema\": \"https://vega.github.io/schema/vega-lite/v4.8.1.json\", \"datasets\": {\"data-520905a3b9d5beab1b5350bf824a546d\": [{\"fish_LC50: true\": 0.37156355643248284, \"fish_LC50: predicted\": 1.808672481787158, \"daphnia_EC50: true\": 1.4350845252893227, \"daphnia_EC50: predicted\": 1.3501211897800836, \"algea_EC50: true\": 0.8754687373538999, \"algea_EC50: predicted\": 2.5672734994993562, \"rat_LD50: true\": -2.839, \"rat_LD50: predicted\": -3.0743533056257033, \"ecoli_MIC: true\": 6.921489272487442, \"ecoli_MIC: predicted\": 13.607924397639268}, {\"fish_LC50: true\": 0.6205764877251099, \"fish_LC50: predicted\": 2.229199307466506, \"daphnia_EC50: true\": 2.4518667957098, \"daphnia_EC50: predicted\": 1.8399228817822477, \"algea_EC50: true\": 3.2557861788882985, \"algea_EC50: predicted\": 2.6826318965522686, \"rat_LD50: true\": -3.24, \"rat_LD50: predicted\": -2.7514849304764435, \"ecoli_MIC: true\": 17.26758785918385, \"ecoli_MIC: predicted\": 7.712898415187416}, {\"fish_LC50: true\": -0.4004775665971252, \"fish_LC50: predicted\": 1.5819559413240452, \"daphnia_EC50: true\": -1.771956841931875, \"daphnia_EC50: predicted\": 0.9066478942224562, \"algea_EC50: true\": -1.220779922642317, \"algea_EC50: predicted\": 1.6825758107687596, \"rat_LD50: true\": -3.0221878184938564, \"rat_LD50: predicted\": -2.4661372273209974, \"ecoli_MIC: true\": 6.109913985890955, \"ecoli_MIC: predicted\": -0.25297218249936027}, {\"fish_LC50: true\": 1.4586150226995167, \"fish_LC50: predicted\": 2.214302374352652, \"daphnia_EC50: true\": 1.549309166786223, \"daphnia_EC50: predicted\": 1.3420048097482367, \"algea_EC50: true\": 2.4849066497880004, \"algea_EC50: predicted\": 2.41093512408664, \"rat_LD50: true\": -1.765, \"rat_LD50: predicted\": -2.3758432025426437, \"ecoli_MIC: true\": -14.500239688611714, \"ecoli_MIC: predicted\": -0.9242774139080763}, {\"fish_LC50: true\": 1.4816045409242156, \"fish_LC50: predicted\": 1.9935909064547979, \"daphnia_EC50: true\": -0.3147107448397002, \"daphnia_EC50: predicted\": 1.284734535913977, \"algea_EC50: true\": 2.021547563260933, \"algea_EC50: predicted\": 2.3031544823044396, \"rat_LD50: true\": -1.508, \"rat_LD50: predicted\": -2.1196672022167906, \"ecoli_MIC: true\": -22.12353339367155, \"ecoli_MIC: predicted\": -6.7028410094720705}, {\"fish_LC50: true\": 4.875197323201151, \"fish_LC50: predicted\": 3.0690100186849048, \"daphnia_EC50: true\": 4.143134726391533, \"daphnia_EC50: predicted\": 2.2643153026062297, \"algea_EC50: true\": 3.6635616461296463, \"algea_EC50: predicted\": 2.9566925867746194, \"rat_LD50: true\": -2.375, \"rat_LD50: predicted\": -2.2152248741490412, \"ecoli_MIC: true\": 5.130731557851696, \"ecoli_MIC: predicted\": -2.3542783102309333}, {\"fish_LC50: true\": -0.7139478163190249, \"fish_LC50: predicted\": 1.9405594197857678, \"daphnia_EC50: true\": 1.4801439630367597, \"daphnia_EC50: predicted\": 1.3662428615853293, \"algea_EC50: true\": -0.21072103131565267, \"algea_EC50: predicted\": 2.515806552639021, \"rat_LD50: true\": -2.838532497098591, \"rat_LD50: predicted\": -2.6025011516076657, \"ecoli_MIC: true\": 5.666908107971032, \"ecoli_MIC: predicted\": 3.678141727742652}, {\"fish_LC50: true\": 3.761200115693562, \"fish_LC50: predicted\": 2.6509271624314583, \"daphnia_EC50: true\": 3.258096538021482, \"daphnia_EC50: predicted\": 1.7976304016040516, \"algea_EC50: true\": 0.8754687373538999, \"algea_EC50: predicted\": 2.5349407572570186, \"rat_LD50: true\": -2.3272155891821473, \"rat_LD50: predicted\": -2.337856615135744, \"ecoli_MIC: true\": 1.517123571416505, \"ecoli_MIC: predicted\": -0.7567408423623494}, {\"fish_LC50: true\": 2.2669579153508947, \"fish_LC50: predicted\": 2.667300654295515, \"daphnia_EC50: true\": 0.9162907318741552, \"daphnia_EC50: predicted\": 1.8546263053926753, \"algea_EC50: true\": 2.302585092994046, \"algea_EC50: predicted\": 2.6776133519123073, \"rat_LD50: true\": -2.833, \"rat_LD50: predicted\": -2.513868787920725, \"ecoli_MIC: true\": 8.397451685474053, \"ecoli_MIC: predicted\": 3.1054666986392627}, {\"fish_LC50: true\": -0.9675840262617053, \"fish_LC50: predicted\": 1.8927073680316502, \"daphnia_EC50: true\": 0.9932517730102834, \"daphnia_EC50: predicted\": 1.8288157508048108, \"algea_EC50: true\": 0.47062843401457766, \"algea_EC50: predicted\": 2.5158998160490897, \"rat_LD50: true\": -1.656, \"rat_LD50: predicted\": -2.136900351417564, \"ecoli_MIC: true\": -20.275392072171705, \"ecoli_MIC: predicted\": -5.795555216170419}, {\"fish_LC50: true\": 1.5260563034950492, \"fish_LC50: predicted\": 2.1245167538111045, \"daphnia_EC50: true\": 0.6418538861723947, \"daphnia_EC50: predicted\": 1.2967771771172114, \"algea_EC50: true\": 1.8164520818184269, \"algea_EC50: predicted\": 2.3193386221178245, \"rat_LD50: true\": -1.625, \"rat_LD50: predicted\": -2.0544029063552465, \"ecoli_MIC: true\": -18.544297586554435, \"ecoli_MIC: predicted\": -7.945600138467933}, {\"fish_LC50: true\": -2.017406150760383, \"fish_LC50: predicted\": 2.203976197420894, \"daphnia_EC50: true\": 0.7275486072772777, \"daphnia_EC50: predicted\": 1.6462485428754619, \"algea_EC50: true\": 3.2148678034706624, \"algea_EC50: predicted\": 2.488992948248363, \"rat_LD50: true\": -2.565, \"rat_LD50: predicted\": -2.029671074108052, \"ecoli_MIC: true\": -1.7916596086261194, \"ecoli_MIC: predicted\": -7.973477810658734}, {\"fish_LC50: true\": 0.0, \"fish_LC50: predicted\": 3.1392690808222197, \"daphnia_EC50: true\": 0.18232155679395468, \"daphnia_EC50: predicted\": 1.8161585755707732, \"algea_EC50: true\": 1.5260563034950492, \"algea_EC50: predicted\": 2.763352519265492, \"rat_LD50: true\": -3.022, \"rat_LD50: predicted\": -2.3649553414025157, \"ecoli_MIC: true\": 9.153683294770218, \"ecoli_MIC: predicted\": 0.3823406525627071}, {\"fish_LC50: true\": -5.744604469176456, \"fish_LC50: predicted\": 1.2603919400736485, \"daphnia_EC50: true\": 1.4504007733812898, \"daphnia_EC50: predicted\": 0.6825555790097476, \"algea_EC50: true\": -3.8632328412587147, \"algea_EC50: predicted\": 1.7805231683161145, \"rat_LD50: true\": -3.3337059881938984, \"rat_LD50: predicted\": -2.4939593831328306, \"ecoli_MIC: true\": 10.432467213382267, \"ecoli_MIC: predicted\": -0.22394110894437613}, {\"fish_LC50: true\": 1.541159071680806, \"fish_LC50: predicted\": 2.1512311394020998, \"daphnia_EC50: true\": 1.476307146336886, \"daphnia_EC50: predicted\": 1.8101633953932619, \"algea_EC50: true\": 0.8241754429663493, \"algea_EC50: predicted\": 2.3567262579477246, \"rat_LD50: true\": -2.6269039290249374, \"rat_LD50: predicted\": -2.064772023090071, \"ecoli_MIC: true\": 3.633232236373388, \"ecoli_MIC: predicted\": -7.116805358983759}, {\"fish_LC50: true\": 3.3339886319687055, \"fish_LC50: predicted\": 2.4707104416005836, \"daphnia_EC50: true\": 3.6375861597263857, \"daphnia_EC50: predicted\": 1.8558777601227907, \"algea_EC50: true\": 2.9444389791664403, \"algea_EC50: predicted\": 2.7426391072963687, \"rat_LD50: true\": -4.607, \"rat_LD50: predicted\": -2.128965239902344, \"ecoli_MIC: true\": 50.520063278108495, \"ecoli_MIC: predicted\": -5.303047405020738}, {\"fish_LC50: true\": 6.040254711277415, \"fish_LC50: predicted\": 3.3494092167313343, \"daphnia_EC50: true\": 1.6028873443335385, \"daphnia_EC50: predicted\": 1.8331659647241891, \"algea_EC50: true\": 6.908397072988299, \"algea_EC50: predicted\": 2.747140946498289, \"rat_LD50: true\": -1.463, \"rat_LD50: predicted\": -1.8487338847356933, \"ecoli_MIC: true\": -15.449474316070614, \"ecoli_MIC: predicted\": -10.407551516600181}, {\"fish_LC50: true\": 4.6443908991413725, \"fish_LC50: predicted\": 2.8739363689645714, \"daphnia_EC50: true\": 3.2542429687054915, \"daphnia_EC50: predicted\": 1.8362071554852541, \"algea_EC50: true\": 4.421487703554795, \"algea_EC50: predicted\": 2.682747786091963, \"rat_LD50: true\": -3.26, \"rat_LD50: predicted\": -1.8682334508240497, \"ecoli_MIC: true\": 22.92107007130913, \"ecoli_MIC: predicted\": -10.487350554347008}, {\"fish_LC50: true\": 6.699643187101424, \"fish_LC50: predicted\": 3.1140562723817484, \"daphnia_EC50: true\": 1.5599657274978185, \"daphnia_EC50: predicted\": 1.8880128442162212, \"algea_EC50: true\": 6.131887140770233, \"algea_EC50: predicted\": 2.6986766504681228, \"rat_LD50: true\": -1.799, \"rat_LD50: predicted\": -2.1895547682933527, \"ecoli_MIC: true\": -7.772815319474297, \"ecoli_MIC: predicted\": -3.3190634017246348}, {\"fish_LC50: true\": 4.605170185988092, \"fish_LC50: predicted\": 2.9440674301646266, \"daphnia_EC50: true\": 1.571560165415434, \"daphnia_EC50: predicted\": 1.8142794663140505, \"algea_EC50: true\": 5.700443573390688, \"algea_EC50: predicted\": 2.8314166306199082, \"rat_LD50: true\": -2.228, \"rat_LD50: predicted\": -2.155104793125964, \"ecoli_MIC: true\": -0.8247199371721265, \"ecoli_MIC: predicted\": -4.290021664995515}, {\"fish_LC50: true\": 2.0794415416798357, \"fish_LC50: predicted\": 2.1589172817143942, \"daphnia_EC50: true\": 1.5366027748269389, \"daphnia_EC50: predicted\": 1.7307304192663746, \"algea_EC50: true\": 3.218875824868201, \"algea_EC50: predicted\": 2.4968959436389926, \"rat_LD50: true\": -2.5395114399445142, \"rat_LD50: predicted\": -2.0423236694887175, \"ecoli_MIC: true\": 2.782048165380772, \"ecoli_MIC: predicted\": -7.6539385519782375}, {\"fish_LC50: true\": 3.068052935133617, \"fish_LC50: predicted\": 2.6329808324825947, \"daphnia_EC50: true\": 2.2192034840549946, \"daphnia_EC50: predicted\": 1.798154874861338, \"algea_EC50: true\": 2.1804174590198384, \"algea_EC50: predicted\": 2.5939240759481224, \"rat_LD50: true\": -1.47, \"rat_LD50: predicted\": -2.189437185233796, \"ecoli_MIC: true\": -18.44536518763151, \"ecoli_MIC: predicted\": -3.933952832863711}, {\"fish_LC50: true\": 3.678829118260434, \"fish_LC50: predicted\": 2.8546249953547953, \"daphnia_EC50: true\": 1.4609379041156565, \"daphnia_EC50: predicted\": 1.9300101671724348, \"algea_EC50: true\": 1.5686159179138457, \"algea_EC50: predicted\": 2.7190358062971645, \"rat_LD50: true\": -2.292, \"rat_LD50: predicted\": -2.061442864465912, \"ecoli_MIC: true\": -1.2140437988168102, \"ecoli_MIC: predicted\": -6.27100700493515}, {\"fish_LC50: true\": -0.38566248081198484, \"fish_LC50: predicted\": 1.319434482724792, \"daphnia_EC50: true\": -1.1086626245216114, \"daphnia_EC50: predicted\": 0.3601648057546627, \"algea_EC50: true\": -0.29437106060257756, \"algea_EC50: predicted\": 2.086456761526751, \"rat_LD50: true\": -2.9666705448261252, \"rat_LD50: predicted\": -2.3619209910542165, \"ecoli_MIC: true\": 5.833434444424007, \"ecoli_MIC: predicted\": -3.2924927525335885}, {\"fish_LC50: true\": 4.276666119016055, \"fish_LC50: predicted\": 2.094492507731134, \"daphnia_EC50: true\": 1.458056556548648, \"daphnia_EC50: predicted\": 1.5141625946537045, \"algea_EC50: true\": 0.8544153281560676, \"algea_EC50: predicted\": 2.427013357037931, \"rat_LD50: true\": -1.6590000000000003, \"rat_LD50: predicted\": -2.5086495250760317, \"ecoli_MIC: true\": -14.23572320028616, \"ecoli_MIC: predicted\": 1.9832400965511163}, {\"fish_LC50: true\": -1.560647748264668, \"fish_LC50: predicted\": 1.8745692843219488, \"daphnia_EC50: true\": -0.4462871026284194, \"daphnia_EC50: predicted\": 1.2073049176006205, \"algea_EC50: true\": 0.33647223662121295, \"algea_EC50: predicted\": 2.3841470650093397, \"rat_LD50: true\": -3.019043864528605, \"rat_LD50: predicted\": -2.5092897376823506, \"ecoli_MIC: true\": 6.587437595172801, \"ecoli_MIC: predicted\": 1.4207463858496345}, {\"fish_LC50: true\": 0.007472014838700858, \"fish_LC50: predicted\": 1.7670873514541843, \"daphnia_EC50: true\": -0.4557063245449111, \"daphnia_EC50: predicted\": 0.8963218124911592, \"algea_EC50: true\": -0.36816932336446717, \"algea_EC50: predicted\": 2.086917475809867, \"rat_LD50: true\": -1.492, \"rat_LD50: predicted\": -1.8963890732817084, \"ecoli_MIC: true\": -24.531749918762983, \"ecoli_MIC: predicted\": -12.17285845606103}, {\"fish_LC50: true\": 0.35767444427181583, \"fish_LC50: predicted\": 1.913404843313585, \"daphnia_EC50: true\": -0.27707189333976534, \"daphnia_EC50: predicted\": 0.9455661319329917, \"algea_EC50: true\": 0.6931471805599454, \"algea_EC50: predicted\": 1.9790315668765537, \"rat_LD50: true\": -2.836928801505379, \"rat_LD50: predicted\": -2.3265699800218473, \"ecoli_MIC: true\": 4.9194485219273645, \"ecoli_MIC: predicted\": -2.79989756798191}, {\"fish_LC50: true\": 0.7178397931503167, \"fish_LC50: predicted\": 2.1434513326461513, \"daphnia_EC50: true\": 1.4911020041406715, \"daphnia_EC50: predicted\": 1.5189667235181918, \"algea_EC50: true\": 0.9162907318741551, \"algea_EC50: predicted\": 2.511813875681514, \"rat_LD50: true\": -2.696098144637502, \"rat_LD50: predicted\": -2.503931098054284, \"ecoli_MIC: true\": 4.295675617546614, \"ecoli_MIC: predicted\": 1.9521571578661199}, {\"fish_LC50: true\": 4.351567427189173, \"fish_LC50: predicted\": 2.405217862271269, \"daphnia_EC50: true\": 3.502549875922443, \"daphnia_EC50: predicted\": 2.0114349623569114, \"algea_EC50: true\": 4.378269585796169, \"algea_EC50: predicted\": 2.7567324266260176, \"rat_LD50: true\": -2.2064596375015144, \"rat_LD50: predicted\": -2.2380293210251487, \"ecoli_MIC: true\": 0.3952042529467832, \"ecoli_MIC: predicted\": -2.8654946328884296}, {\"fish_LC50: true\": 8.60363048698599, \"fish_LC50: predicted\": 2.709809655696157, \"daphnia_EC50: true\": 1.616443579333179, \"daphnia_EC50: predicted\": 1.7581869301898254, \"algea_EC50: true\": 8.766914796271609, \"algea_EC50: predicted\": 2.7507661788130955, \"rat_LD50: true\": -1.265, \"rat_LD50: predicted\": -1.5089902962832862, \"ecoli_MIC: true\": -16.720233472606104, \"ecoli_MIC: predicted\": -18.402684476758033}, {\"fish_LC50: true\": 1.2237754316221157, \"fish_LC50: predicted\": 1.7908501610600416, \"daphnia_EC50: true\": -0.15082288973458358, \"daphnia_EC50: predicted\": 1.3623302978778697, \"algea_EC50: true\": 2.066862759472976, \"algea_EC50: predicted\": 2.5031936508073396, \"rat_LD50: true\": -2.77, \"rat_LD50: predicted\": -3.3806865454538015, \"ecoli_MIC: true\": 4.748102746164598, \"ecoli_MIC: predicted\": 20.13351393785021}, {\"fish_LC50: true\": 2.766319109226186, \"fish_LC50: predicted\": 2.2492201668801113, \"daphnia_EC50: true\": 0.7884573603642703, \"daphnia_EC50: predicted\": 1.6526807214187553, \"algea_EC50: true\": 2.4849066497880004, \"algea_EC50: predicted\": 2.551182424200073, \"rat_LD50: true\": -2.5361269321940103, \"rat_LD50: predicted\": -2.103332577910062, \"ecoli_MIC: true\": 2.4592776177830586, \"ecoli_MIC: predicted\": -6.336716109752054}, {\"fish_LC50: true\": 2.5649493574615367, \"fish_LC50: predicted\": 2.345298343796989, \"daphnia_EC50: true\": 2.1633230256605382, \"daphnia_EC50: predicted\": 1.9342147028318468, \"algea_EC50: true\": 2.9957322735539917, \"algea_EC50: predicted\": 2.5822045480714846, \"rat_LD50: true\": -2.4632774029335445, \"rat_LD50: predicted\": -2.197833686114165, \"ecoli_MIC: true\": 2.3173175913569395, \"ecoli_MIC: predicted\": -3.900378254664398}, {\"fish_LC50: true\": 0.9707789171582248, \"fish_LC50: predicted\": 1.9893178878065085, \"daphnia_EC50: true\": -0.5798184952529419, \"daphnia_EC50: predicted\": 1.4364767141327042, \"algea_EC50: true\": 0.029558802241544502, \"algea_EC50: predicted\": 2.260244204022889, \"rat_LD50: true\": -2.8122761712753523, \"rat_LD50: predicted\": -2.123901841956109, \"ecoli_MIC: true\": 4.576060429645331, \"ecoli_MIC: predicted\": -6.454284677134279}, {\"fish_LC50: true\": 4.941642422609304, \"fish_LC50: predicted\": 2.956063462533936, \"daphnia_EC50: true\": 1.5580043678747941, \"daphnia_EC50: predicted\": 2.2178023098859394, \"algea_EC50: true\": 4.941642422609304, \"algea_EC50: predicted\": 3.0764702636126318, \"rat_LD50: true\": -1.764, \"rat_LD50: predicted\": -2.2296743709404563, \"ecoli_MIC: true\": -10.525964518235092, \"ecoli_MIC: predicted\": -2.194186997436179}, {\"fish_LC50: true\": 2.519308076505333, \"fish_LC50: predicted\": 2.412857302026673, \"daphnia_EC50: true\": 2.5014359517392117, \"daphnia_EC50: predicted\": 2.12708802782877, \"algea_EC50: true\": 3.2068032436339315, \"algea_EC50: predicted\": 2.7192382461156663, \"rat_LD50: true\": -2.4436857943715324, \"rat_LD50: predicted\": -2.1111146931733407, \"ecoli_MIC: true\": 2.264662005579119, \"ecoli_MIC: predicted\": -5.444423717561358}, {\"fish_LC50: true\": -1.171182981502945, \"fish_LC50: predicted\": 1.7960090481829856, \"daphnia_EC50: true\": -1.3862943611198906, \"daphnia_EC50: predicted\": 0.7533437407106122, \"algea_EC50: true\": 0.9932517730102834, \"algea_EC50: predicted\": 2.3490306125861404, \"rat_LD50: true\": -3.03124032118743, \"rat_LD50: predicted\": -2.2582216591904825, \"ecoli_MIC: true\": 6.305820486352275, \"ecoli_MIC: predicted\": -4.533968745103136}, {\"fish_LC50: true\": 0.15700374880966472, \"fish_LC50: predicted\": 1.4908251566694444, \"daphnia_EC50: true\": -0.32850406697203605, \"daphnia_EC50: predicted\": 1.228903081860142, \"algea_EC50: true\": 0.5596157879354229, \"algea_EC50: predicted\": 2.471487124236259, \"rat_LD50: true\": -2.8595071858413244, \"rat_LD50: predicted\": -1.9996691742082222, \"ecoli_MIC: true\": 5.115733198880399, \"ecoli_MIC: predicted\": -9.816771855585381}, {\"fish_LC50: true\": 4.140520575950627, \"fish_LC50: predicted\": 2.4964480621046703, \"daphnia_EC50: true\": 1.5121601680812873, \"daphnia_EC50: predicted\": 2.5310258397070893, \"algea_EC50: true\": 2.458733775483977, \"algea_EC50: predicted\": 2.835023522484256, \"rat_LD50: true\": -1.425, \"rat_LD50: predicted\": -2.0475993264774424, \"ecoli_MIC: true\": -19.047743861803568, \"ecoli_MIC: predicted\": -6.24414431449472}, {\"fish_LC50: true\": 1.9459101490553128, \"fish_LC50: predicted\": 2.0593698909735276, \"daphnia_EC50: true\": 1.1939224684724346, \"daphnia_EC50: predicted\": 1.4001098250422364, \"algea_EC50: true\": 1.3217558399823195, \"algea_EC50: predicted\": 2.3993707367810484, \"rat_LD50: true\": -1.6769999999999998, \"rat_LD50: predicted\": -2.058250074695702, \"ecoli_MIC: true\": -16.466594747397906, \"ecoli_MIC: predicted\": -7.801799948557592}, {\"fish_LC50: true\": 2.151762203259462, \"fish_LC50: predicted\": 2.1048277240501148, \"daphnia_EC50: true\": 1.6114359150967734, \"daphnia_EC50: predicted\": 1.4472576992983324, \"algea_EC50: true\": -2.5383074265151158, \"algea_EC50: predicted\": 2.468018534913331, \"rat_LD50: true\": -2.774, \"rat_LD50: predicted\": -2.3445533966197623, \"ecoli_MIC: true\": 6.999911412214246, \"ecoli_MIC: predicted\": -1.5779338125330744}, {\"fish_LC50: true\": 1.7227665977411035, \"fish_LC50: predicted\": 2.004780215275482, \"daphnia_EC50: true\": 1.4910344863561278, \"daphnia_EC50: predicted\": 1.493494024499555, \"algea_EC50: true\": 1.4350845252893227, \"algea_EC50: predicted\": 2.311463150214831, \"rat_LD50: true\": -2.60080224920723, \"rat_LD50: predicted\": -2.3521466254748438, \"ecoli_MIC: true\": 3.3796105542736754, \"ecoli_MIC: predicted\": -1.4927642811393955}, {\"fish_LC50: true\": -1.2378743560016172, \"fish_LC50: predicted\": 1.4946631018312677, \"daphnia_EC50: true\": -2.120263536200091, \"daphnia_EC50: predicted\": 0.48171438494956376, \"algea_EC50: true\": 0.5306282510621703, \"algea_EC50: predicted\": 2.0370593033135114, \"rat_LD50: true\": -2.8510000000000004, \"rat_LD50: predicted\": -2.449971259430547, \"ecoli_MIC: true\": 1.4923625252895505, \"ecoli_MIC: predicted\": -1.1045267701254442}, {\"fish_LC50: true\": 6.040254711277415, \"fish_LC50: predicted\": 2.1921599552306503, \"daphnia_EC50: true\": 1.4868218188440636, \"daphnia_EC50: predicted\": 1.6409333871003846, \"algea_EC50: true\": 3.5263605246161616, \"algea_EC50: predicted\": 2.5015308756271466, \"rat_LD50: true\": -2.1937437219099793, \"rat_LD50: predicted\": -2.4600532020004273, \"ecoli_MIC: true\": -0.5326603962952632, \"ecoli_MIC: predicted\": 1.1999902652076269}, {\"fish_LC50: true\": -1.7808195291897206, \"fish_LC50: predicted\": 1.3776077477885371, \"daphnia_EC50: true\": 1.4582147277203106, \"daphnia_EC50: predicted\": 1.165945187785207, \"algea_EC50: true\": -2.154165087875772, \"algea_EC50: predicted\": 2.5155325528445798, \"rat_LD50: true\": -2.352, \"rat_LD50: predicted\": -2.610698884928165, \"ecoli_MIC: true\": -6.16280784185021, \"ecoli_MIC: predicted\": 3.0503562320159103}, {\"fish_LC50: true\": 1.8946168546677629, \"fish_LC50: predicted\": 2.1468389250790807, \"daphnia_EC50: true\": 1.7749523509116738, \"daphnia_EC50: predicted\": 1.738725151470151, \"algea_EC50: true\": 2.4849066497880004, \"algea_EC50: predicted\": 2.5529207422176445, \"rat_LD50: true\": -2.552679812466319, \"rat_LD50: predicted\": -2.391657374763498, \"ecoli_MIC: true\": 3.018813991640414, \"ecoli_MIC: predicted\": -0.18925379160940636}, {\"fish_LC50: true\": 1.3862943611198906, \"fish_LC50: predicted\": 2.370031565618784, \"daphnia_EC50: true\": 2.9957322735539917, \"daphnia_EC50: predicted\": 2.1087812920719684, \"algea_EC50: true\": 3.5263605246161616, \"algea_EC50: predicted\": 2.7551286898744483, \"rat_LD50: true\": -2.507360849846229, \"rat_LD50: predicted\": -2.179321719565301, \"ecoli_MIC: true\": 3.0640923800573674, \"ecoli_MIC: predicted\": -4.046668091131205}, {\"fish_LC50: true\": 6.0591231955817975, \"fish_LC50: predicted\": 3.4090053435468572, \"daphnia_EC50: true\": 1.5850871523667749, \"daphnia_EC50: predicted\": 1.7915183407468902, \"algea_EC50: true\": 6.413458957167357, \"algea_EC50: predicted\": 2.835982313488686, \"rat_LD50: true\": -1.5870000000000002, \"rat_LD50: predicted\": -1.736167156219358, \"ecoli_MIC: true\": -12.88372933594396, \"ecoli_MIC: predicted\": -12.781717853243471}, {\"fish_LC50: true\": 0.9932517730102834, \"fish_LC50: predicted\": 2.1370564052810574, \"daphnia_EC50: true\": 0.26236426446749106, \"daphnia_EC50: predicted\": 1.7122403073360386, \"algea_EC50: true\": 1.6639260977181702, \"algea_EC50: predicted\": 2.3694630656677864, \"rat_LD50: true\": -1.513, \"rat_LD50: predicted\": -2.1344178994217917, \"ecoli_MIC: true\": -21.932847956615674, \"ecoli_MIC: predicted\": -5.751653092874646}, {\"fish_LC50: true\": -0.09428972939525515, \"fish_LC50: predicted\": 1.8524082544932705, \"daphnia_EC50: true\": 1.5188004439068763, \"daphnia_EC50: predicted\": 1.1774390005626985, \"algea_EC50: true\": 0.40613155265132495, \"algea_EC50: predicted\": 2.0829510859081424, \"rat_LD50: true\": -1.734, \"rat_LD50: predicted\": -2.1891384196809693, \"ecoli_MIC: true\": -17.13511642033481, \"ecoli_MIC: predicted\": -5.520817241435283}, {\"fish_LC50: true\": 1.8325814637483104, \"fish_LC50: predicted\": 2.358802339642573, \"daphnia_EC50: true\": 3.40452517175483, \"daphnia_EC50: predicted\": 2.255419684405905, \"algea_EC50: true\": 3.0204248861443626, \"algea_EC50: predicted\": 2.69716381040314, \"rat_LD50: true\": -2.452109134779345, \"rat_LD50: predicted\": -2.1225891574611158, \"ecoli_MIC: true\": 2.716968199688125, \"ecoli_MIC: predicted\": -5.115214198771211}, {\"fish_LC50: true\": 4.31748811353631, \"fish_LC50: predicted\": 2.6285621248930786, \"daphnia_EC50: true\": 3.4011973816621555, \"daphnia_EC50: predicted\": 1.8808786926031262, \"algea_EC50: true\": 3.871201010907892, \"algea_EC50: predicted\": 2.7217649715930357, \"rat_LD50: true\": -2.223432570998498, \"rat_LD50: predicted\": -1.9993335796761753, \"ecoli_MIC: true\": 0.5258877470199508, \"ecoli_MIC: predicted\": -7.884098438281299}, {\"fish_LC50: true\": 2.9444389791664403, \"fish_LC50: predicted\": 2.466604411926098, \"daphnia_EC50: true\": 1.511204212290366, \"daphnia_EC50: predicted\": 1.9297064777303063, \"algea_EC50: true\": 2.776331708518616, \"algea_EC50: predicted\": 2.6623469042442816, \"rat_LD50: true\": -2.472751625535709, \"rat_LD50: predicted\": -2.245123229901911, \"ecoli_MIC: true\": 2.1449555133469005, \"ecoli_MIC: predicted\": -2.757763982443443}, {\"fish_LC50: true\": 2.0675184946526133, \"fish_LC50: predicted\": 2.5181980752963087, \"daphnia_EC50: true\": 1.5371316930493535, \"daphnia_EC50: predicted\": 1.781418187611891, \"algea_EC50: true\": 2.0014800002101243, \"algea_EC50: predicted\": 2.687613416695094, \"rat_LD50: true\": -1.357, \"rat_LD50: predicted\": -1.8781101015523094, \"ecoli_MIC: true\": -22.678782278333387, \"ecoli_MIC: predicted\": -10.70272732223073}, {\"fish_LC50: true\": 0.5738004229273792, \"fish_LC50: predicted\": 2.198463407385241, \"daphnia_EC50: true\": 0.4317824164255377, \"daphnia_EC50: predicted\": 1.5478287810423168, \"algea_EC50: true\": 1.5040773967762742, \"algea_EC50: predicted\": 2.3958720070005857, \"rat_LD50: true\": -2.7630329003082146, \"rat_LD50: predicted\": -2.0331045522263924, \"ecoli_MIC: true\": 4.489496118429308, \"ecoli_MIC: predicted\": -8.031148104176042}, {\"fish_LC50: true\": 2.1234584270966104, \"fish_LC50: predicted\": 2.103445116405974, \"daphnia_EC50: true\": 1.8779371654691075, \"daphnia_EC50: predicted\": 1.5078154678269267, \"algea_EC50: true\": -0.3243460568233725, \"algea_EC50: predicted\": 2.5111269305465034, \"rat_LD50: true\": -2.5707058961570697, \"rat_LD50: predicted\": -2.4358927576721494, \"ecoli_MIC: true\": 3.2920759534351234, \"ecoli_MIC: predicted\": 0.44568897675279473}, {\"fish_LC50: true\": -2.7488721956224653, \"fish_LC50: predicted\": 0.5985781519945756, \"daphnia_EC50: true\": -3.296837366337912, \"daphnia_EC50: predicted\": -0.35287916197127944, \"algea_EC50: true\": -2.5902671654458262, \"algea_EC50: predicted\": 1.3393096099132238, \"rat_LD50: true\": -3.338643251733007, \"rat_LD50: predicted\": -2.7568863449408947, \"ecoli_MIC: true\": 8.522351183089526, \"ecoli_MIC: predicted\": 3.4796791545641192}, {\"fish_LC50: true\": -1.6094379124341005, \"fish_LC50: predicted\": 0.7628451485532262, \"daphnia_EC50: true\": 1.3427906265230831, \"daphnia_EC50: predicted\": -0.3372427141972669, \"algea_EC50: true\": -5.4943322504739935, \"algea_EC50: predicted\": 1.1622594241335507, \"rat_LD50: true\": -3.0062376411574796, \"rat_LD50: predicted\": -2.736382553014336, \"ecoli_MIC: true\": 7.304298694500446, \"ecoli_MIC: predicted\": 3.199164644296007}, {\"fish_LC50: true\": 1.8794650496471603, \"fish_LC50: predicted\": 1.0830521263053343, \"daphnia_EC50: true\": 1.4280610581170308, \"daphnia_EC50: predicted\": 0.3109755005638388, \"algea_EC50: true\": -0.6931471805599454, \"algea_EC50: predicted\": 1.7875980616094536, \"rat_LD50: true\": -2.6238757583521046, \"rat_LD50: predicted\": -2.6787179534032792, \"ecoli_MIC: true\": 3.612989760271958, \"ecoli_MIC: predicted\": 3.1245214829969883}, {\"fish_LC50: true\": 2.8791984572980396, \"fish_LC50: predicted\": 2.274733997452218, \"daphnia_EC50: true\": 2.0268315914075385, \"daphnia_EC50: predicted\": 1.625856418388931, \"algea_EC50: true\": 2.9444389791664403, \"algea_EC50: predicted\": 2.4211003333341314, \"rat_LD50: true\": -1.983, \"rat_LD50: predicted\": -2.3923061089325888, \"ecoli_MIC: true\": -7.775360787514607, \"ecoli_MIC: predicted\": -0.19170533044090687}, {\"fish_LC50: true\": -2.5639498571284536, \"fish_LC50: predicted\": 0.9444375919416186, \"daphnia_EC50: true\": -2.9565115604007097, \"daphnia_EC50: predicted\": -0.23557462161198317, \"algea_EC50: true\": -2.6592600369327797, \"algea_EC50: predicted\": 1.6853539669809352, \"rat_LD50: true\": -3.303310909144168, \"rat_LD50: predicted\": -2.681313591182368, \"ecoli_MIC: true\": 8.32711288099783, \"ecoli_MIC: predicted\": 2.4097428880101965}, {\"fish_LC50: true\": 1.4487449945097102, \"fish_LC50: predicted\": 2.471476596184962, \"daphnia_EC50: true\": 2.2082744135228043, \"daphnia_EC50: predicted\": 2.011637123425979, \"algea_EC50: true\": 2.4849066497880004, \"algea_EC50: predicted\": 2.729411964748414, \"rat_LD50: true\": -0.536, \"rat_LD50: predicted\": -1.7487546942661631, \"ecoli_MIC: true\": -40.01546129471467, \"ecoli_MIC: predicted\": -13.248591355236591}, {\"fish_LC50: true\": 2.5563742344226426, \"fish_LC50: predicted\": 2.1259977835312913, \"daphnia_EC50: true\": 1.6863989535702288, \"daphnia_EC50: predicted\": 1.6435089391174653, \"algea_EC50: true\": 2.6390573296152584, \"algea_EC50: predicted\": 2.4396589988775617, \"rat_LD50: true\": -2.4981644122252775, \"rat_LD50: predicted\": -2.251826049467683, \"ecoli_MIC: true\": 2.461718219028718, \"ecoli_MIC: predicted\": -3.3214025198985846}, {\"fish_LC50: true\": 0.41210965082683293, \"fish_LC50: predicted\": 1.343609271078499, \"daphnia_EC50: true\": 1.434369984351454, \"daphnia_EC50: predicted\": 1.4859817181057149, \"algea_EC50: true\": 1.7119945007591926, \"algea_EC50: predicted\": 2.4275289029755154, \"rat_LD50: true\": -1.541, \"rat_LD50: predicted\": -2.1426463626329437, \"ecoli_MIC: true\": -20.614853628406614, \"ecoli_MIC: predicted\": -6.635235164410981}, {\"fish_LC50: true\": 7.301147805856032, \"fish_LC50: predicted\": 2.77996636880141, \"daphnia_EC50: true\": 1.5405569227654041, \"daphnia_EC50: predicted\": 1.835174850842783, \"algea_EC50: true\": 6.434546518787452, \"algea_EC50: predicted\": 2.745531419707517, \"rat_LD50: true\": -2.4, \"rat_LD50: predicted\": -1.6278717223818882, \"ecoli_MIC: true\": 5.706363055614958, \"ecoli_MIC: predicted\": -15.707004929196088}, {\"fish_LC50: true\": 2.8731056045730794, \"fish_LC50: predicted\": 2.21041615162474, \"daphnia_EC50: true\": 3.49650756146648, \"daphnia_EC50: predicted\": 1.5080121400982403, \"algea_EC50: true\": 4.110873864173311, \"algea_EC50: predicted\": 2.534191485168795, \"rat_LD50: true\": -2.123, \"rat_LD50: predicted\": -2.3132927096246667, \"ecoli_MIC: true\": -2.9579563570350302, \"ecoli_MIC: predicted\": -2.0580422352480428}, {\"fish_LC50: true\": -0.7021230210755296, \"fish_LC50: predicted\": 1.786893065200985, \"daphnia_EC50: true\": 0.6418538861723947, \"daphnia_EC50: predicted\": 1.4408652331908132, \"algea_EC50: true\": -5.991464547107983, \"algea_EC50: predicted\": 2.528983438189464, \"rat_LD50: true\": -2.253, \"rat_LD50: predicted\": -2.447491110321761, \"ecoli_MIC: true\": -8.710891688269257, \"ecoli_MIC: predicted\": 0.29591673456758105}, {\"fish_LC50: true\": 4.820281565605037, \"fish_LC50: predicted\": 3.3488973860470588, \"daphnia_EC50: true\": 3.3568971227655755, \"daphnia_EC50: predicted\": 2.3541089420292933, \"algea_EC50: true\": 1.9300710850255671, \"algea_EC50: predicted\": 2.8018930273779796, \"rat_LD50: true\": -2.212904129034554, \"rat_LD50: predicted\": -2.1372661995552464, \"ecoli_MIC: true\": 0.44935609410988775, \"ecoli_MIC: predicted\": -3.6561269270840526}, {\"fish_LC50: true\": 1.8562979903656265, \"fish_LC50: predicted\": 2.2872950002982133, \"daphnia_EC50: true\": 1.5271813104254477, \"daphnia_EC50: predicted\": 1.7616202137840866, \"algea_EC50: true\": 2.772588722239781, \"algea_EC50: predicted\": 2.670590476134384, \"rat_LD50: true\": -2.566356997370169, \"rat_LD50: predicted\": -2.221949384840947, \"ecoli_MIC: true\": 3.0418455477534607, \"ecoli_MIC: predicted\": -3.6234677689214045}, {\"fish_LC50: true\": 3.077312260546414, \"fish_LC50: predicted\": 2.1196817558188688, \"daphnia_EC50: true\": 1.544981003954426, \"daphnia_EC50: predicted\": 1.6075139977287072, \"algea_EC50: true\": 4.030339232246188, \"algea_EC50: predicted\": 2.5449014060981634, \"rat_LD50: true\": -2.439796672558262, \"rat_LD50: predicted\": -2.1611073832579453, \"ecoli_MIC: true\": 1.8219523129759239, \"ecoli_MIC: predicted\": -5.287836807263464}, {\"fish_LC50: true\": 4.244200317766478, \"fish_LC50: predicted\": 2.735673457985746, \"daphnia_EC50: true\": 3.3357695763397004, \"daphnia_EC50: predicted\": 2.1045648872791345, \"algea_EC50: true\": 5.0106352940962555, \"algea_EC50: predicted\": 2.826810076563795, \"rat_LD50: true\": -2.2158433913643387, \"rat_LD50: predicted\": -2.294093291304505, \"ecoli_MIC: true\": 0.402765911588304, \"ecoli_MIC: predicted\": -1.2129796264494868}, {\"fish_LC50: true\": 4.69951486425827, \"fish_LC50: predicted\": 2.289661751463373, \"daphnia_EC50: true\": 4.184748788096121, \"daphnia_EC50: predicted\": 1.6367018712752166, \"algea_EC50: true\": 4.276666119016055, \"algea_EC50: predicted\": 2.5040130388427393, \"rat_LD50: true\": -1.992, \"rat_LD50: predicted\": -2.1807145052637056, \"ecoli_MIC: true\": -3.0803799620920316, \"ecoli_MIC: predicted\": -4.668488973162995}, {\"fish_LC50: true\": 4.294544299005232, \"fish_LC50: predicted\": 2.9733644385484066, \"daphnia_EC50: true\": -0.8675005677047232, \"daphnia_EC50: predicted\": 1.4865446242437659, \"algea_EC50: true\": 2.7080502011022096, \"algea_EC50: predicted\": 2.5735722315863288, \"rat_LD50: true\": -2.4992078760290903, \"rat_LD50: predicted\": -2.213677558266025, \"ecoli_MIC: true\": 1.4285249819670085, \"ecoli_MIC: predicted\": -3.4179447055515135}, {\"fish_LC50: true\": 1.9459101490553128, \"fish_LC50: predicted\": 2.2440567104514937, \"daphnia_EC50: true\": 3.9120230054281473, \"daphnia_EC50: predicted\": 1.6657725639136283, \"algea_EC50: true\": -3.912023005428147, \"algea_EC50: predicted\": 1.9836945743692915, \"rat_LD50: true\": -2.454, \"rat_LD50: predicted\": -2.41063829147986, \"ecoli_MIC: true\": 2.3008388514763425, \"ecoli_MIC: predicted\": 0.14084242824349857}, {\"fish_LC50: true\": 6.4798243211262365, \"fish_LC50: predicted\": 2.4855894516803247, \"daphnia_EC50: true\": 1.526102184966895, \"daphnia_EC50: predicted\": 2.026285749296427, \"algea_EC50: true\": 5.132522488751033, \"algea_EC50: predicted\": 2.679604860398404, \"rat_LD50: true\": -2.128377025048268, \"rat_LD50: predicted\": -2.012444024242929, \"ecoli_MIC: true\": -1.1682485358573587, \"ecoli_MIC: predicted\": -7.595617358181672}, {\"fish_LC50: true\": 1.1662709371419244, \"fish_LC50: predicted\": 2.1027078315025447, \"daphnia_EC50: true\": 2.4932054526026954, \"daphnia_EC50: predicted\": 1.850079494016192, \"algea_EC50: true\": 2.028148247292285, \"algea_EC50: predicted\": 2.390360738489804, \"rat_LD50: true\": -1.644, \"rat_LD50: predicted\": -1.9886049555870546, \"ecoli_MIC: true\": -16.404669069220198, \"ecoli_MIC: predicted\": -8.742877214447718}, {\"fish_LC50: true\": 2.379546134130174, \"fish_LC50: predicted\": 2.4256421177498897, \"daphnia_EC50: true\": 3.2995337278856547, \"daphnia_EC50: predicted\": 1.8240639965746812, \"algea_EC50: true\": 3.1822118404966093, \"algea_EC50: predicted\": 2.7257439569382194, \"rat_LD50: true\": -1.854, \"rat_LD50: predicted\": -1.939838000226618, \"ecoli_MIC: true\": -9.58207828181552, \"ecoli_MIC: predicted\": -9.42596418976125}, {\"fish_LC50: true\": -0.5108256237659905, \"fish_LC50: predicted\": 1.5906950680860088, \"daphnia_EC50: true\": -1.309333319983762, \"daphnia_EC50: predicted\": 0.8500690776507444, \"algea_EC50: true\": -2.040220828526554, \"algea_EC50: predicted\": 2.002479459559889, \"rat_LD50: true\": -3.016910247286381, \"rat_LD50: predicted\": -2.261054166078301, \"ecoli_MIC: true\": 6.266007722867236, \"ecoli_MIC: predicted\": -4.633524958904005}, {\"fish_LC50: true\": 3.7635229971097015, \"fish_LC50: predicted\": 2.6866798739472664, \"daphnia_EC50: true\": 1.5440633362860723, \"daphnia_EC50: predicted\": 1.7446093383451282, \"algea_EC50: true\": 4.154184562578116, \"algea_EC50: predicted\": 2.623824321378569, \"rat_LD50: true\": -2.184, \"rat_LD50: predicted\": -2.274269195656963, \"ecoli_MIC: true\": -2.9147849097978593, \"ecoli_MIC: predicted\": -2.122327484749664}, {\"fish_LC50: true\": 2.1141853652720166, \"fish_LC50: predicted\": 1.9504720709983994, \"daphnia_EC50: true\": 2.5649493574615367, \"daphnia_EC50: predicted\": 1.575450863831743, \"algea_EC50: true\": -1.560647748264668, \"algea_EC50: predicted\": 2.534850251048116, \"rat_LD50: true\": -2.049, \"rat_LD50: predicted\": -2.373635652533391, \"ecoli_MIC: true\": -7.29242249802693, \"ecoli_MIC: predicted\": -0.9614411390744726}, {\"fish_LC50: true\": 2.670694414558441, \"fish_LC50: predicted\": 2.280669537749468, \"daphnia_EC50: true\": 0.33647223662121295, \"daphnia_EC50: predicted\": 1.4763319336461442, \"algea_EC50: true\": -3.4769990950784364, \"algea_EC50: predicted\": 2.2764407492847973, \"rat_LD50: true\": -2.36, \"rat_LD50: predicted\": -2.3872179620469884, \"ecoli_MIC: true\": -2.8854666278009944, \"ecoli_MIC: predicted\": -0.4851486617550056}, {\"fish_LC50: true\": 1.3862943611198906, \"fish_LC50: predicted\": 2.3199647552535603, \"daphnia_EC50: true\": 1.0986122886681098, \"daphnia_EC50: predicted\": 1.78973753666496, \"algea_EC50: true\": 3.6109179126442235, \"algea_EC50: predicted\": 2.565880290733066, \"rat_LD50: true\": -3.511, \"rat_LD50: predicted\": -2.446978131031268, \"ecoli_MIC: true\": 22.38738795778825, \"ecoli_MIC: predicted\": 1.2291332324521493}, {\"fish_LC50: true\": 2.602689685444384, \"fish_LC50: predicted\": 2.000368930495611, \"daphnia_EC50: true\": 2.6390573296152584, \"daphnia_EC50: predicted\": 1.6181396971528073, \"algea_EC50: true\": 0.40546510810816416, \"algea_EC50: predicted\": 2.481313499249201, \"rat_LD50: true\": -2.472131283569908, \"rat_LD50: predicted\": -2.0067014794703852, \"ecoli_MIC: true\": 2.650824821703061, \"ecoli_MIC: predicted\": -8.705984563619635}, {\"fish_LC50: true\": 2.225704048658088, \"fish_LC50: predicted\": 2.0755729121923507, \"daphnia_EC50: true\": 1.564470220260624, \"daphnia_EC50: predicted\": 1.7916586708234141, \"algea_EC50: true\": 4.272490747605575, \"algea_EC50: predicted\": 2.480580401757039, \"rat_LD50: true\": -2.508846443541917, \"rat_LD50: predicted\": -2.2209969618279786, \"ecoli_MIC: true\": 2.4821443633441334, \"ecoli_MIC: predicted\": -3.8592126667285758}, {\"fish_LC50: true\": 5.240105456799624, \"fish_LC50: predicted\": 2.1135460560150916, \"daphnia_EC50: true\": 3.7352858269280924, \"daphnia_EC50: predicted\": 1.6691487641298763, \"algea_EC50: true\": 3.58351893845611, \"algea_EC50: predicted\": 2.5021351378720653, \"rat_LD50: true\": -2.6210000000000004, \"rat_LD50: predicted\": -2.3848286449295553, \"ecoli_MIC: true\": 10.28958392304638, \"ecoli_MIC: predicted\": -0.4554110750818019}, {\"fish_LC50: true\": 1.6486586255873816, \"fish_LC50: predicted\": 2.3063523011884595, \"daphnia_EC50: true\": 2.4849066497880004, \"daphnia_EC50: predicted\": 1.7554022891068386, \"algea_EC50: true\": 3.0445224377234235, \"algea_EC50: predicted\": 2.6862529612581403, \"rat_LD50: true\": -2.522738616399911, \"rat_LD50: predicted\": -2.1314344144125243, \"ecoli_MIC: true\": 3.01208186560622, \"ecoli_MIC: predicted\": -5.540914147579251}, {\"fish_LC50: true\": 2.6390573296152584, \"fish_LC50: predicted\": 2.3110914354734886, \"daphnia_EC50: true\": 3.6375861597263857, \"daphnia_EC50: predicted\": 1.6870834122113532, \"algea_EC50: true\": 2.9391619220655967, \"algea_EC50: predicted\": 2.601283356510717, \"rat_LD50: true\": -2.1790000000000003, \"rat_LD50: predicted\": -2.152997526502616, \"ecoli_MIC: true\": -2.0379831660818155, \"ecoli_MIC: predicted\": -5.165956505475471}, {\"fish_LC50: true\": 4.07753744390572, \"fish_LC50: predicted\": 2.6806916711428563, \"daphnia_EC50: true\": 2.9444389791664403, \"daphnia_EC50: predicted\": 1.7918114228073265, \"algea_EC50: true\": 2.6741486494265287, \"algea_EC50: predicted\": 2.5926409526879164, \"rat_LD50: true\": -2.290356260493424, \"rat_LD50: predicted\": -2.166532360506466, \"ecoli_MIC: true\": 1.000708787405131, \"ecoli_MIC: predicted\": -4.381251907299733}, {\"fish_LC50: true\": 5.128714582161857, \"fish_LC50: predicted\": 2.7044157337634895, \"daphnia_EC50: true\": 3.828641396489095, \"daphnia_EC50: predicted\": 1.7964262627996992, \"algea_EC50: true\": 4.043051267834549, \"algea_EC50: predicted\": 2.5685174977358445, \"rat_LD50: true\": -2.316, \"rat_LD50: predicted\": -2.150599857266609, \"ecoli_MIC: true\": 3.842608021472195, \"ecoli_MIC: predicted\": -4.695855018832469}, {\"fish_LC50: true\": 2.4849066497880004, \"fish_LC50: predicted\": 2.2703600943025624, \"daphnia_EC50: true\": 2.654297745102963, \"daphnia_EC50: predicted\": 1.681136842970553, \"algea_EC50: true\": -1.0996127890016933, \"algea_EC50: predicted\": 2.286027375511705, \"rat_LD50: true\": -2.651, \"rat_LD50: predicted\": -2.3616457637734447, \"ecoli_MIC: true\": 6.118376828538352, \"ecoli_MIC: predicted\": -0.8112953641232328}, {\"fish_LC50: true\": 0.8329091229351038, \"fish_LC50: predicted\": 1.209717410559267, \"daphnia_EC50: true\": -0.9675840262617055, \"daphnia_EC50: predicted\": 0.4105419593468127, \"algea_EC50: true\": 0.9932517730102834, \"algea_EC50: predicted\": 1.6718961024185317, \"rat_LD50: true\": -2.8323409823088324, \"rat_LD50: predicted\": -2.382968825401592, \"ecoli_MIC: true\": 4.587833511849013, \"ecoli_MIC: predicted\": -2.9677934398995554}, {\"fish_LC50: true\": 2.483113120996334, \"fish_LC50: predicted\": 2.4436907542446527, \"daphnia_EC50: true\": 1.5040773967762742, \"daphnia_EC50: predicted\": 1.6646182455459038, \"algea_EC50: true\": 2.066862759472976, \"algea_EC50: predicted\": 2.6244789448542467, \"rat_LD50: true\": -2.524404221051466, \"rat_LD50: predicted\": -2.199341829212485, \"ecoli_MIC: true\": 2.6487696035235118, \"ecoli_MIC: predicted\": -4.061346976337136}, {\"fish_LC50: true\": 3.5263605246161616, \"fish_LC50: predicted\": 2.7339921196449986, \"daphnia_EC50: true\": 0.7884573603642703, \"daphnia_EC50: predicted\": 1.5613700118097584, \"algea_EC50: true\": 3.2386784521643803, \"algea_EC50: predicted\": 2.6805936062397686, \"rat_LD50: true\": -2.234, \"rat_LD50: predicted\": -2.3201162454358624, \"ecoli_MIC: true\": -3.08614112807323, \"ecoli_MIC: predicted\": -1.2902044164107282}, {\"fish_LC50: true\": 1.900521261895136, \"fish_LC50: predicted\": 2.0470940441284684, \"daphnia_EC50: true\": 0.4054651081081644, \"daphnia_EC50: predicted\": 1.1665369479149517, \"algea_EC50: true\": 3.4216533902295376, \"algea_EC50: predicted\": 2.3981415102791206, \"rat_LD50: true\": -1.892, \"rat_LD50: predicted\": -2.4640888079482517, \"ecoli_MIC: true\": -12.458412367680486, \"ecoli_MIC: predicted\": 0.5897756675303056}, {\"fish_LC50: true\": 2.5649493574615367, \"fish_LC50: predicted\": 1.8331682253909747, \"daphnia_EC50: true\": 1.5040773967762742, \"daphnia_EC50: predicted\": 1.080887836257806, \"algea_EC50: true\": 1.423108334242607, \"algea_EC50: predicted\": 2.0502834264944707, \"rat_LD50: true\": -2.527398018638915, \"rat_LD50: predicted\": -2.472608372001595, \"ecoli_MIC: true\": 2.690966992204771, \"ecoli_MIC: predicted\": 0.39875223688208017}, {\"fish_LC50: true\": 1.175663299721839, \"fish_LC50: predicted\": 1.3722791321587087, \"daphnia_EC50: true\": 0.33647223662121295, \"daphnia_EC50: predicted\": 0.3915609124696129, \"algea_EC50: true\": 0.33647223662121295, \"algea_EC50: predicted\": 1.7483004472969714, \"rat_LD50: true\": -2.7348384471037868, \"rat_LD50: predicted\": -2.3570490826030888, \"ecoli_MIC: true\": 4.207858595437202, \"ecoli_MIC: predicted\": -3.362704231975078}, {\"fish_LC50: true\": 2.772588722239781, \"fish_LC50: predicted\": 2.4530503265494716, \"daphnia_EC50: true\": 0.8616233305318469, \"daphnia_EC50: predicted\": 1.8113431719708413, \"algea_EC50: true\": 2.151762203259462, \"algea_EC50: predicted\": 2.8188495289590483, \"rat_LD50: true\": -1.582, \"rat_LD50: predicted\": -2.380925632479317, \"ecoli_MIC: true\": -17.87976844562288, \"ecoli_MIC: predicted\": 0.021399283400728386}, {\"fish_LC50: true\": 4.30406509320417, \"fish_LC50: predicted\": 2.401991942433079, \"daphnia_EC50: true\": 1.4441334828296775, \"daphnia_EC50: predicted\": 1.9792299617281335, \"algea_EC50: true\": 1.5789787049493915, \"algea_EC50: predicted\": 2.8670011751157642, \"rat_LD50: true\": -2.818, \"rat_LD50: predicted\": -2.338382198233216, \"ecoli_MIC: true\": 10.642977181506609, \"ecoli_MIC: predicted\": -0.7439386849422212}, {\"fish_LC50: true\": 0.5877866649021191, \"fish_LC50: predicted\": 1.2930753966911892, \"daphnia_EC50: true\": 0.4054651081081644, \"daphnia_EC50: predicted\": 0.5867972056084012, \"algea_EC50: true\": -0.2744368457017603, \"algea_EC50: predicted\": 1.661623065972083, \"rat_LD50: true\": -2.791277158466139, \"rat_LD50: predicted\": -2.368357947686744, \"ecoli_MIC: true\": 4.785009127390801, \"ecoli_MIC: predicted\": -2.998744357865866}, {\"fish_LC50: true\": 0.6405688491442199, \"fish_LC50: predicted\": 1.4893467552938382, \"daphnia_EC50: true\": 0.33647223662121295, \"daphnia_EC50: predicted\": 0.7410207673563562, \"algea_EC50: true\": 0.4382549309311554, \"algea_EC50: predicted\": 1.6178816121803743, \"rat_LD50: true\": -1.941, \"rat_LD50: predicted\": -2.2406673286140246, \"ecoli_MIC: true\": -13.275672361953148, \"ecoli_MIC: predicted\": -5.358179859446759}, {\"fish_LC50: true\": 0.8329091229351038, \"fish_LC50: predicted\": 1.4084338115767383, \"daphnia_EC50: true\": 0.09531017980432499, \"daphnia_EC50: predicted\": 0.5737183033376378, \"algea_EC50: true\": 1.4929040961781486, \"algea_EC50: predicted\": 1.6895729667441093, \"rat_LD50: true\": -2.7608765447452033, \"rat_LD50: predicted\": -2.370613938346463, \"ecoli_MIC: true\": 4.332025545305342, \"ecoli_MIC: predicted\": -2.841963938296278}, {\"fish_LC50: true\": 2.028148247292285, \"fish_LC50: predicted\": 2.4331152079731946, \"daphnia_EC50: true\": 0.09531017980432499, \"daphnia_EC50: predicted\": 1.3016921163311521, \"algea_EC50: true\": 1.0116009116784799, \"algea_EC50: predicted\": 2.27653690019163, \"rat_LD50: true\": -2.664748223725613, \"rat_LD50: predicted\": -1.8361222075549353, \"ecoli_MIC: true\": 3.4294784905497337, \"ecoli_MIC: predicted\": -12.290513241108645}, {\"fish_LC50: true\": 2.0399769489091644, \"fish_LC50: predicted\": 2.325705712549351, \"daphnia_EC50: true\": -0.35667494393873245, \"daphnia_EC50: predicted\": 0.9772539957890347, \"algea_EC50: true\": 2.0541237336955462, \"algea_EC50: predicted\": 2.1794175325494995, \"rat_LD50: true\": -1.511, \"rat_LD50: predicted\": -2.229788353180872, \"ecoli_MIC: true\": -21.52680808810512, \"ecoli_MIC: predicted\": -4.374003327533767}, {\"fish_LC50: true\": 4.143610803525019, \"fish_LC50: predicted\": 3.1574592152034584, \"daphnia_EC50: true\": 1.5301271717487452, \"daphnia_EC50: predicted\": 1.833406821431929, \"algea_EC50: true\": 4.062165663857866, \"algea_EC50: predicted\": 2.7847958093130716, \"rat_LD50: true\": -2.3475867457020474, \"rat_LD50: predicted\": -2.2016761497423127, \"ecoli_MIC: true\": 0.9382702145156117, \"ecoli_MIC: predicted\": -3.062478341448397}, {\"fish_LC50: true\": 3.013080911888604, \"fish_LC50: predicted\": 2.520714327950884, \"daphnia_EC50: true\": 3.1354942159291497, \"daphnia_EC50: predicted\": 1.8586150602013787, \"algea_EC50: true\": 3.258096538021482, \"algea_EC50: predicted\": 2.7389569371219658, \"rat_LD50: true\": -2.322, \"rat_LD50: predicted\": -2.2981085256393547, \"ecoli_MIC: true\": 0.8912873204422811, \"ecoli_MIC: predicted\": -1.6376324800111366}, {\"fish_LC50: true\": 3.1045866784660734, \"fish_LC50: predicted\": 3.4167385470937695, \"daphnia_EC50: true\": 4.155753190350744, \"daphnia_EC50: predicted\": 2.4738315119083194, \"algea_EC50: true\": 4.143134726391533, \"algea_EC50: predicted\": 3.099661493509141, \"rat_LD50: true\": -2.119, \"rat_LD50: predicted\": -2.1010413600773834, \"ecoli_MIC: true\": -2.0632223894656505, \"ecoli_MIC: predicted\": -4.177051116827658}, {\"fish_LC50: true\": 4.639571612705423, \"fish_LC50: predicted\": 3.3798885754860066, \"daphnia_EC50: true\": 3.688879454113936, \"daphnia_EC50: predicted\": 2.363698720436457, \"algea_EC50: true\": 4.314323110193153, \"algea_EC50: predicted\": 3.1541770822868447, \"rat_LD50: true\": -1.895, \"rat_LD50: predicted\": -2.177917097257464, \"ecoli_MIC: true\": -5.76116400364991, \"ecoli_MIC: predicted\": -2.687619820982012}, {\"fish_LC50: true\": 2.424802725718295, \"fish_LC50: predicted\": 2.2377408783454, \"daphnia_EC50: true\": 2.028148247292285, \"daphnia_EC50: predicted\": 1.6894600940948103, \"algea_EC50: true\": 1.673351238177753, \"algea_EC50: predicted\": 2.3861937840867475, \"rat_LD50: true\": -2.5042570210175676, \"rat_LD50: predicted\": -2.4485038994342445, \"ecoli_MIC: true\": 2.6796126908659588, \"ecoli_MIC: predicted\": 1.0355281460466874}, {\"fish_LC50: true\": 2.0541237336955462, \"fish_LC50: predicted\": 1.5621348098999404, \"daphnia_EC50: true\": 0.5306282510621704, \"daphnia_EC50: predicted\": 0.5794490930449459, \"algea_EC50: true\": 1.9021075263969205, \"algea_EC50: predicted\": 1.8806240234411904, \"rat_LD50: true\": -2.6224737985125888, \"rat_LD50: predicted\": -2.4297084345417352, \"ecoli_MIC: true\": 3.186540017601537, \"ecoli_MIC: predicted\": -1.3842916141891717}, {\"fish_LC50: true\": 3.6109179126442235, \"fish_LC50: predicted\": 2.2954175047917604, \"daphnia_EC50: true\": 2.8903717578961645, \"daphnia_EC50: predicted\": 1.4853967520401257, \"algea_EC50: true\": 2.9444389791664403, \"algea_EC50: predicted\": 2.540041746320494, \"rat_LD50: true\": -2.3298297665787286, \"rat_LD50: predicted\": -2.438496973450004, \"ecoli_MIC: true\": 1.3477193049615863, \"ecoli_MIC: predicted\": 0.6784122497692402}, {\"fish_LC50: true\": -2.302585092994045, \"fish_LC50: predicted\": 1.3961393998346128, \"daphnia_EC50: true\": -1.4696759700589415, \"daphnia_EC50: predicted\": 0.8433463695507414, \"algea_EC50: true\": 0.18232155679395445, \"algea_EC50: predicted\": 1.7090439588321642, \"rat_LD50: true\": -3.147081657459381, \"rat_LD50: predicted\": -2.5365016508394063, \"ecoli_MIC: true\": 7.389193047861895, \"ecoli_MIC: predicted\": 0.9919641296448136}, {\"fish_LC50: true\": 2.0541237336955462, \"fish_LC50: predicted\": 2.205079307609989, \"daphnia_EC50: true\": 1.840549633397487, \"daphnia_EC50: predicted\": 1.5558835746845618, \"algea_EC50: true\": 2.4849066497880004, \"algea_EC50: predicted\": 2.4267347943191884, \"rat_LD50: true\": -2.5349173039650914, \"rat_LD50: predicted\": -2.4395398151090073, \"ecoli_MIC: true\": 2.876894386715769, \"ecoli_MIC: predicted\": 0.6679193188405499}, {\"fish_LC50: true\": -1.0216512475319814, \"fish_LC50: predicted\": 1.9915419268240664, \"daphnia_EC50: true\": -1.1086626245216114, \"daphnia_EC50: predicted\": 1.3740151229854898, \"algea_EC50: true\": -0.9675840262617057, \"algea_EC50: predicted\": 2.2560231743724177, \"rat_LD50: true\": -3.29, \"rat_LD50: predicted\": -2.570848970734789, \"ecoli_MIC: true\": 11.97239018633826, \"ecoli_MIC: predicted\": 3.0206923665444387}, {\"fish_LC50: true\": 6.030685260261262, \"fish_LC50: predicted\": 2.8770538003167565, \"daphnia_EC50: true\": 4.390738575275903, \"daphnia_EC50: predicted\": 2.0086740237763276, \"algea_EC50: true\": 3.971234865059992, \"algea_EC50: predicted\": 2.7388036045073796, \"rat_LD50: true\": -2.0140234784870508, \"rat_LD50: predicted\": -2.460782059479434, \"ecoli_MIC: true\": -1.0612224591516082, \"ecoli_MIC: predicted\": 2.3698964268116773}, {\"fish_LC50: true\": 4.890349128221754, \"fish_LC50: predicted\": 2.5429840151136998, \"daphnia_EC50: true\": 1.4118136298482042, \"daphnia_EC50: predicted\": 1.7086086950302766, \"algea_EC50: true\": 0.5007752879124889, \"algea_EC50: predicted\": 2.527488558429954, \"rat_LD50: true\": -2.543, \"rat_LD50: predicted\": -2.2377028437328623, \"ecoli_MIC: true\": 5.160643343584297, \"ecoli_MIC: predicted\": -3.106942719396322}, {\"fish_LC50: true\": 4.615120516841259, \"fish_LC50: predicted\": 2.96845564657906, \"daphnia_EC50: true\": 3.610917912644224, \"daphnia_EC50: predicted\": 2.0471823881327826, \"algea_EC50: true\": 4.465908118654584, \"algea_EC50: predicted\": 2.8533244649498855, \"rat_LD50: true\": -2.146, \"rat_LD50: predicted\": -2.175131762909264, \"ecoli_MIC: true\": -0.4891684358747881, \"ecoli_MIC: predicted\": -3.573425745547717}, {\"fish_LC50: true\": 4.787491742782046, \"fish_LC50: predicted\": 2.5460105018891586, \"daphnia_EC50: true\": 0.7419373447293773, \"daphnia_EC50: predicted\": 2.2919856971513766, \"algea_EC50: true\": 1.4350845252893227, \"algea_EC50: predicted\": 2.368877771192666, \"rat_LD50: true\": -2.3800557191446248, \"rat_LD50: predicted\": -2.2667942253490954, \"ecoli_MIC: true\": 0.9806944624814731, \"ecoli_MIC: predicted\": -1.8567651235108427}, {\"fish_LC50: true\": 2.3978952727983707, \"fish_LC50: predicted\": 2.016964395451486, \"daphnia_EC50: true\": 1.7047480922384253, \"daphnia_EC50: predicted\": 1.3373629689633284, \"algea_EC50: true\": 0.8285518175661482, \"algea_EC50: predicted\": 2.4453379595061224, \"rat_LD50: true\": -2.5391956376123948, \"rat_LD50: predicted\": -2.666121363179139, \"ecoli_MIC: true\": 2.897558836401487, \"ecoli_MIC: predicted\": 5.071262231191097}, {\"fish_LC50: true\": 4.474251310319367, \"fish_LC50: predicted\": 2.5170423551557257, \"daphnia_EC50: true\": 2.7212954278522306, \"daphnia_EC50: predicted\": 1.9886618115673107, \"algea_EC50: true\": 3.4028626609812167, \"algea_EC50: predicted\": 2.6300329934109232, \"rat_LD50: true\": -2.166, \"rat_LD50: predicted\": -2.4143934641778575, \"ecoli_MIC: true\": -1.3761052562572829, \"ecoli_MIC: predicted\": 0.968929175723289}, {\"fish_LC50: true\": 3.0349529867072724, \"fish_LC50: predicted\": 2.6716579272588414, \"daphnia_EC50: true\": 2.4849066497880004, \"daphnia_EC50: predicted\": 2.027550852891786, \"algea_EC50: true\": 2.9444389791664403, \"algea_EC50: predicted\": 2.737573874127334, \"rat_LD50: true\": -3.998, \"rat_LD50: predicted\": -2.8334856462138243, \"ecoli_MIC: true\": 35.92094626976507, \"ecoli_MIC: predicted\": 10.137517384641951}, {\"fish_LC50: true\": 1.6677068205580758, \"fish_LC50: predicted\": 1.267474915346644, \"daphnia_EC50: true\": 0.8329091229351039, \"daphnia_EC50: predicted\": 0.7546238325267796, \"algea_EC50: true\": 0.8960880245566356, \"algea_EC50: predicted\": 1.8924444015549842, \"rat_LD50: true\": -1.7080000000000002, \"rat_LD50: predicted\": -2.5551591039140984, \"ecoli_MIC: true\": -16.564269319430053, \"ecoli_MIC: predicted\": 1.1890299128427402}, {\"fish_LC50: true\": 0.6418261777466989, \"fish_LC50: predicted\": 1.973753160792655, \"daphnia_EC50: true\": 0.5877866649021191, \"daphnia_EC50: predicted\": 0.38864018530885347, \"algea_EC50: true\": 1.90210752639692, \"algea_EC50: predicted\": 1.9965374889760232, \"rat_LD50: true\": -1.7469999999999999, \"rat_LD50: predicted\": -2.4583859188271417, \"ecoli_MIC: true\": -16.895010741920593, \"ecoli_MIC: predicted\": -0.5428640193418572}, {\"fish_LC50: true\": 2.7080502011022096, \"fish_LC50: predicted\": 2.5973741722512522, \"daphnia_EC50: true\": -1.0788096613719296, \"daphnia_EC50: predicted\": 1.5034603008998064, \"algea_EC50: true\": 3.8501476017100575, \"algea_EC50: predicted\": 2.5719928935087175, \"rat_LD50: true\": -2.631564166755179, \"rat_LD50: predicted\": -2.39905245916719, \"ecoli_MIC: true\": 2.5747787128417414, \"ecoli_MIC: predicted\": 0.17216062971812063}, {\"fish_LC50: true\": 6.970730078143526, \"fish_LC50: predicted\": 2.320146873088632, \"daphnia_EC50: true\": 0.6931471805599453, \"daphnia_EC50: predicted\": 0.8409711709001265, \"algea_EC50: true\": 3.1780538303479458, \"algea_EC50: predicted\": 2.4314390397508787, \"rat_LD50: true\": -2.587, \"rat_LD50: predicted\": -2.4712791823072187, \"ecoli_MIC: true\": 7.876679517856751, \"ecoli_MIC: predicted\": 0.6657194801847082}, {\"fish_LC50: true\": 4.787491742782046, \"fish_LC50: predicted\": 2.398762409367221, \"daphnia_EC50: true\": -1.3205066205818874, \"daphnia_EC50: predicted\": 1.4209239232319755, \"algea_EC50: true\": 4.215086179918228, \"algea_EC50: predicted\": 2.5171935886809655, \"rat_LD50: true\": -2.072, \"rat_LD50: predicted\": -2.4174594942965286, \"ecoli_MIC: true\": -7.444680695744488, \"ecoli_MIC: predicted\": 0.25968314973630635}, {\"fish_LC50: true\": 3.309206324314117, \"fish_LC50: predicted\": 2.6679550366404277, \"daphnia_EC50: true\": 1.4992088276213806, \"daphnia_EC50: predicted\": 1.6927450238332158, \"algea_EC50: true\": 2.628285232633348, \"algea_EC50: predicted\": 2.526237154953211, \"rat_LD50: true\": -2.526, \"rat_LD50: predicted\": -2.371378601363195, \"ecoli_MIC: true\": 3.6192699472756473, \"ecoli_MIC: predicted\": -0.14212404411907098}, {\"fish_LC50: true\": 4.31748811353631, \"fish_LC50: predicted\": 2.649731670768953, \"daphnia_EC50: true\": -1.3470736479666094, \"daphnia_EC50: predicted\": 1.4799637461973143, \"algea_EC50: true\": 3.5263605246161616, \"algea_EC50: predicted\": 2.6110415962082842, \"rat_LD50: true\": -2.51309922496599, \"rat_LD50: predicted\": -2.4131767809476146, \"ecoli_MIC: true\": 1.3473394166413115, \"ecoli_MIC: predicted\": 0.5077475197926136}, {\"fish_LC50: true\": 2.3978952727983707, \"fish_LC50: predicted\": 2.877800043709043, \"daphnia_EC50: true\": 3.555348061489413, \"daphnia_EC50: predicted\": 1.8452514930375223, \"algea_EC50: true\": 2.4849066497880004, \"algea_EC50: predicted\": 2.925529577304126, \"rat_LD50: true\": -2.673, \"rat_LD50: predicted\": -2.4725193953165596, \"ecoli_MIC: true\": 8.095250707522439, \"ecoli_MIC: predicted\": 2.4693464420640066}, {\"fish_LC50: true\": 4.762173934797756, \"fish_LC50: predicted\": 2.2023950006219306, \"daphnia_EC50: true\": 4.695056592782615, \"daphnia_EC50: predicted\": 1.557715246377139, \"algea_EC50: true\": 5.303304908059076, \"algea_EC50: predicted\": 2.5199055847381095, \"rat_LD50: true\": -2.61, \"rat_LD50: predicted\": -2.487606089677691, \"ecoli_MIC: true\": 10.918753236914057, \"ecoli_MIC: predicted\": 1.7088392541624646}, {\"fish_LC50: true\": 4.219507705176107, \"fish_LC50: predicted\": 2.377952825535317, \"daphnia_EC50: true\": 3.493472657771327, \"daphnia_EC50: predicted\": 1.6894372225248833, \"algea_EC50: true\": 4.168988105217867, \"algea_EC50: predicted\": 2.4873363579291543, \"rat_LD50: true\": -2.354, \"rat_LD50: predicted\": -2.1705338874226663, \"ecoli_MIC: true\": 3.365105685610928, \"ecoli_MIC: predicted\": -4.738874127773485}, {\"fish_LC50: true\": 4.2021520815229785, \"fish_LC50: predicted\": 2.1379300422349776, \"daphnia_EC50: true\": 1.5309290902181232, \"daphnia_EC50: predicted\": 2.131472437005334, \"algea_EC50: true\": 4.1206618705394735, \"algea_EC50: predicted\": 2.4924357103473995, \"rat_LD50: true\": -2.3415498544396005, \"rat_LD50: predicted\": -2.210449735038525, \"ecoli_MIC: true\": 0.8800903170751866, \"ecoli_MIC: predicted\": -3.638556891254619}, {\"fish_LC50: true\": 2.5649493574615367, \"fish_LC50: predicted\": 2.3067205168956586, \"daphnia_EC50: true\": 3.610917912644224, \"daphnia_EC50: predicted\": 1.6339239665108811, \"algea_EC50: true\": 3.0910424533583165, \"algea_EC50: predicted\": 2.445436781653454, \"rat_LD50: true\": -2.3751213286767063, \"rat_LD50: predicted\": -2.1757169173612168, \"ecoli_MIC: true\": 2.0685554661079593, \"ecoli_MIC: predicted\": -4.770393732386469}, {\"fish_LC50: true\": -1.598741475333969, \"fish_LC50: predicted\": 0.3756470006445962, \"daphnia_EC50: true\": -3.270169119255751, \"daphnia_EC50: predicted\": 0.13205284376933735, \"algea_EC50: true\": -0.41551544396166573, \"algea_EC50: predicted\": 2.499172849565503, \"rat_LD50: true\": -3.994, \"rat_LD50: predicted\": -2.6945255125374734, \"ecoli_MIC: true\": 24.08575633321911, \"ecoli_MIC: predicted\": 2.651642437495651}, {\"fish_LC50: true\": 2.3978952727983707, \"fish_LC50: predicted\": 2.2983525661813786, \"daphnia_EC50: true\": 2.066862759472976, \"daphnia_EC50: predicted\": 1.5807691649192188, \"algea_EC50: true\": 1.824549292051046, \"algea_EC50: predicted\": 2.498726206991426, \"rat_LD50: true\": -2.501902913992864, \"rat_LD50: predicted\": -2.314762958185794, \"ecoli_MIC: true\": 2.669814232703402, \"ecoli_MIC: predicted\": -1.860737028520048}, {\"fish_LC50: true\": 0.5877866649021191, \"fish_LC50: predicted\": 1.7814364636811164, \"daphnia_EC50: true\": 0.5877866649021191, \"daphnia_EC50: predicted\": 1.2803726442016792, \"algea_EC50: true\": 1.2817668317659563, \"algea_EC50: predicted\": 2.4062225386328358, \"rat_LD50: true\": -2.7559655582915634, \"rat_LD50: predicted\": -2.597586303613775, \"ecoli_MIC: true\": 4.490766242574971, \"ecoli_MIC: predicted\": 3.2955686643573094}, {\"fish_LC50: true\": 0.9157680726479569, \"fish_LC50: predicted\": 2.6072614989508196, \"daphnia_EC50: true\": 0.5306282510621704, \"daphnia_EC50: predicted\": 1.698885005199429, \"algea_EC50: true\": -1.4916548767777171, \"algea_EC50: predicted\": 2.59091596753047, \"rat_LD50: true\": -2.7744177888725003, \"rat_LD50: predicted\": -2.3236947059242308, \"ecoli_MIC: true\": 4.701993019685446, \"ecoli_MIC: predicted\": -1.2051829489540573}, {\"fish_LC50: true\": 3.7841896339182615, \"fish_LC50: predicted\": 3.097883125168785, \"daphnia_EC50: true\": 2.1162555148025524, \"daphnia_EC50: predicted\": 1.8381740552741643, \"algea_EC50: true\": 4.6913478822291435, \"algea_EC50: predicted\": 2.769279002405501, \"rat_LD50: true\": -2.4730000000000003, \"rat_LD50: predicted\": -2.3272339861185443, \"ecoli_MIC: true\": 4.005028341790748, \"ecoli_MIC: predicted\": -0.44006398745542485}, {\"fish_LC50: true\": 0.4054651081081644, \"fish_LC50: predicted\": 1.9659595990527088, \"daphnia_EC50: true\": -0.3424903089467761, \"daphnia_EC50: predicted\": 1.1680681475776553, \"algea_EC50: true\": -0.6931471805599454, \"algea_EC50: predicted\": 2.216358099880173, \"rat_LD50: true\": -3.2230000000000003, \"rat_LD50: predicted\": -2.5833852870055862, \"ecoli_MIC: true\": 12.910839156312448, \"ecoli_MIC: predicted\": 3.025364016978048}, {\"fish_LC50: true\": 0.6931471805599454, \"fish_LC50: predicted\": 2.2556625677622395, \"daphnia_EC50: true\": 2.1041341542702074, \"daphnia_EC50: predicted\": 1.6891551811272105, \"algea_EC50: true\": -0.5191938734365067, \"algea_EC50: predicted\": 2.412273743113352, \"rat_LD50: true\": -2.684282649348768, \"rat_LD50: predicted\": -2.410274713093988, \"ecoli_MIC: true\": 4.46703150135874, \"ecoli_MIC: predicted\": 0.24163935715430407}, {\"fish_LC50: true\": 2.4849066497880004, \"fish_LC50: predicted\": 1.7353181758704297, \"daphnia_EC50: true\": 3.555348061489413, \"daphnia_EC50: predicted\": 1.3932766618740884, \"algea_EC50: true\": -0.9416085398584451, \"algea_EC50: predicted\": 1.919456316045875, \"rat_LD50: true\": -3.307, \"rat_LD50: predicted\": -2.6195840803284045, \"ecoli_MIC: true\": 21.15827889106501, \"ecoli_MIC: predicted\": 3.7639591991957344}, {\"fish_LC50: true\": 2.047926757716141, \"fish_LC50: predicted\": 1.7354099895376525, \"daphnia_EC50: true\": 0.18232155679395468, \"daphnia_EC50: predicted\": 1.361495723154825, \"algea_EC50: true\": 1.8802281172156632, \"algea_EC50: predicted\": 2.2619475905420603, \"rat_LD50: true\": -2.640029919372786, \"rat_LD50: predicted\": -2.5161255036603207, \"ecoli_MIC: true\": 3.162150476895441, \"ecoli_MIC: predicted\": 1.5758245664518142}, {\"fish_LC50: true\": 2.078517959646831, \"fish_LC50: predicted\": 1.7674516920479069, \"daphnia_EC50: true\": 0.8241754429663494, \"daphnia_EC50: predicted\": 0.7965445056454371, \"algea_EC50: true\": 1.669591835253848, \"algea_EC50: predicted\": 2.090389393436446, \"rat_LD50: true\": -2.6034346304224423, \"rat_LD50: predicted\": -2.511622854629927, \"ecoli_MIC: true\": 3.094934235108468, \"ecoli_MIC: predicted\": 0.8530147320771633}, {\"fish_LC50: true\": 2.330687621169055, \"fish_LC50: predicted\": 2.681045626553198, \"daphnia_EC50: true\": 2.509599262378372, \"daphnia_EC50: predicted\": 1.7322047923531874, \"algea_EC50: true\": 5.204006687076795, \"algea_EC50: predicted\": 2.7321824068658693, \"rat_LD50: true\": -2.43499035504051, \"rat_LD50: predicted\": -2.271357193651748, \"ecoli_MIC: true\": 2.222646675467871, \"ecoli_MIC: predicted\": -2.1863395160930716}, {\"fish_LC50: true\": 2.633870577327272, \"fish_LC50: predicted\": 2.216677298495117, \"daphnia_EC50: true\": 5.940171252720432, \"daphnia_EC50: predicted\": 1.7896974770548084, \"algea_EC50: true\": 6.846457368057452, \"algea_EC50: predicted\": 2.5098046938485936, \"rat_LD50: true\": -1.862, \"rat_LD50: predicted\": -2.028272195617358, \"ecoli_MIC: true\": -5.5957975801773046, \"ecoli_MIC: predicted\": -7.826540288170493}, {\"fish_LC50: true\": 2.3854701560422313, \"fish_LC50: predicted\": 2.197307787594915, \"daphnia_EC50: true\": 3.600048240407321, \"daphnia_EC50: predicted\": 1.7639010708296565, \"algea_EC50: true\": 3.688879454113936, \"algea_EC50: predicted\": 2.733022717713799, \"rat_LD50: true\": -1.6510000000000002, \"rat_LD50: predicted\": -1.8509257664349117, \"ecoli_MIC: true\": -13.491234374824195, \"ecoli_MIC: predicted\": -11.625267432464293}, {\"fish_LC50: true\": 2.3448702349479262, \"fish_LC50: predicted\": 2.454335393098361, \"daphnia_EC50: true\": 3.5723456378579854, \"daphnia_EC50: predicted\": 1.7100517984931944, \"algea_EC50: true\": 2.827313621929028, \"algea_EC50: predicted\": 2.4979078969874067, \"rat_LD50: true\": -1.706, \"rat_LD50: predicted\": -2.2480039023522895, \"ecoli_MIC: true\": -12.531298757071971, \"ecoli_MIC: predicted\": -2.9814108519417717}, {\"fish_LC50: true\": 2.1902427816718486, \"fish_LC50: predicted\": 2.014402916030633, \"daphnia_EC50: true\": -0.9416085398584448, \"daphnia_EC50: predicted\": 1.2083987787176178, \"algea_EC50: true\": 6.908465027051379, \"algea_EC50: predicted\": 2.5166288508056986, \"rat_LD50: true\": -2.621638518594229, \"rat_LD50: predicted\": -1.5596240800421555, \"ecoli_MIC: true\": 2.486717394351132, \"ecoli_MIC: predicted\": -18.68965399783042}, {\"fish_LC50: true\": 1.8898121571409021, \"fish_LC50: predicted\": 1.8936698183229996, \"daphnia_EC50: true\": -0.5108256237659907, \"daphnia_EC50: predicted\": 1.0417910305958, \"algea_EC50: true\": -0.8675005677047225, \"algea_EC50: predicted\": 1.9972921575173135, \"rat_LD50: true\": -2.7322112745819083, \"rat_LD50: predicted\": -1.9783508207228468, \"ecoli_MIC: true\": 3.7411831554760298, \"ecoli_MIC: predicted\": -10.144803826146655}, {\"fish_LC50: true\": 2.227421552042422, \"fish_LC50: predicted\": 2.2019518643728624, \"daphnia_EC50: true\": 1.81319474994812, \"daphnia_EC50: predicted\": 1.5742304139742558, \"algea_EC50: true\": 2.1882959465919183, \"algea_EC50: predicted\": 2.492720240457211, \"rat_LD50: true\": -1.5710000000000002, \"rat_LD50: predicted\": -2.2200884574932718, \"ecoli_MIC: true\": -17.605764422048466, \"ecoli_MIC: predicted\": -3.989653202693484}, {\"fish_LC50: true\": 1.958596689848477, \"fish_LC50: predicted\": 1.7757359888151094, \"daphnia_EC50: true\": -0.7133498878774651, \"daphnia_EC50: predicted\": 0.7660665170472801, \"algea_EC50: true\": 1.0647107369924282, \"algea_EC50: predicted\": 2.2357978449620615, \"rat_LD50: true\": -2.710734068495679, \"rat_LD50: predicted\": -2.5172913121171385, \"ecoli_MIC: true\": 3.4447998596694376, \"ecoli_MIC: predicted\": 0.9724202949231229}, {\"fish_LC50: true\": 2.290779629996571, \"fish_LC50: predicted\": 2.1364209739581947, \"daphnia_EC50: true\": 2.4336133554004498, \"daphnia_EC50: predicted\": 1.5592826814736633, \"algea_EC50: true\": 2.6741486494265287, \"algea_EC50: predicted\": 2.459748155306921, \"rat_LD50: true\": -1.455, \"rat_LD50: predicted\": -2.1953602873199847, \"ecoli_MIC: true\": -19.244128894022765, \"ecoli_MIC: predicted\": -4.607166759709763}, {\"fish_LC50: true\": 2.155948913477488, \"fish_LC50: predicted\": 2.009579328702188, \"daphnia_EC50: true\": 1.1512047387872804, \"daphnia_EC50: predicted\": 1.4136169481383096, \"algea_EC50: true\": 1.7393251732685229, \"algea_EC50: predicted\": 2.4797104755178134, \"rat_LD50: true\": -1.7919999999999998, \"rat_LD50: predicted\": -2.4696012928113635, \"ecoli_MIC: true\": -13.774184833961456, \"ecoli_MIC: predicted\": 0.958457720764377}, {\"fish_LC50: true\": 2.054289466593744, \"fish_LC50: predicted\": 2.058867901223114, \"daphnia_EC50: true\": 0.29266961396282, \"daphnia_EC50: predicted\": 1.3842997193143847, \"algea_EC50: true\": 1.8702625307159984, \"algea_EC50: predicted\": 2.353410628288834, \"rat_LD50: true\": -2.63327384649746, \"rat_LD50: predicted\": -2.2781920367703425, \"ecoli_MIC: true\": 3.14612675015384, \"ecoli_MIC: predicted\": -3.1313556032568703}, {\"fish_LC50: true\": 2.214298522524743, \"fish_LC50: predicted\": 1.6744164343479202, \"daphnia_EC50: true\": 0.8329091229351039, \"daphnia_EC50: predicted\": 0.8477306988936453, \"algea_EC50: true\": 4.8865826454262775, \"algea_EC50: predicted\": 2.082987982395999, \"rat_LD50: true\": -2.545944585980896, \"rat_LD50: predicted\": -2.5047002168745323, \"ecoli_MIC: true\": 2.54592829982883, \"ecoli_MIC: predicted\": 0.6655180623752806}, {\"fish_LC50: true\": 2.248470724830483, \"fish_LC50: predicted\": 2.2219748171123626, \"daphnia_EC50: true\": 1.5706970841176695, \"daphnia_EC50: predicted\": 1.5493508319888154, \"algea_EC50: true\": 3.255207754115592, \"algea_EC50: predicted\": 2.5217661845075603, \"rat_LD50: true\": -1.6969999999999998, \"rat_LD50: predicted\": -2.3038309047692405, \"ecoli_MIC: true\": -14.989309511055225, \"ecoli_MIC: predicted\": -2.2040262912642126}, {\"fish_LC50: true\": 2.2291866821004263, \"fish_LC50: predicted\": 2.2036304838725025, \"daphnia_EC50: true\": 2.8094026953624978, \"daphnia_EC50: predicted\": 1.9154953702004571, \"algea_EC50: true\": 2.3513752571634776, \"algea_EC50: predicted\": 2.500897688356608, \"rat_LD50: true\": -2.4666477456669433, \"rat_LD50: predicted\": -2.0619429158176845, \"ecoli_MIC: true\": 2.6600845241349518, \"ecoli_MIC: predicted\": -6.981892055392766}, {\"fish_LC50: true\": 2.2492501724960974, \"fish_LC50: predicted\": 2.218220105373904, \"daphnia_EC50: true\": 3.0445224377234235, \"daphnia_EC50: predicted\": 1.6296583452732782, \"algea_EC50: true\": 2.4849066497880004, \"algea_EC50: predicted\": 2.453046962034207, \"rat_LD50: true\": -2.4495131379672164, \"rat_LD50: predicted\": -2.255449742208112, \"ecoli_MIC: true\": 2.599598127232703, \"ecoli_MIC: predicted\": -3.1624689685652347}, {\"fish_LC50: true\": 2.398745243618748, \"fish_LC50: predicted\": 2.2156173951446902, \"daphnia_EC50: true\": 4.290459441148391, \"daphnia_EC50: predicted\": 1.5509170045216498, \"algea_EC50: true\": 4.219507705176107, \"algea_EC50: predicted\": 2.488591099354152, \"rat_LD50: true\": -2.3405360746247488, \"rat_LD50: predicted\": -2.529514632310914, \"ecoli_MIC: true\": 2.104253328912179, \"ecoli_MIC: predicted\": 2.6045173972796962}, {\"fish_LC50: true\": 2.341881225558346, \"fish_LC50: predicted\": 2.42750362243381, \"daphnia_EC50: true\": 3.218875824868201, \"daphnia_EC50: predicted\": 2.1219178185043823, \"algea_EC50: true\": 3.4210000089583352, \"algea_EC50: predicted\": 2.729265393138253, \"rat_LD50: true\": -1.808, \"rat_LD50: predicted\": -2.171059834733354, \"ecoli_MIC: true\": -10.653871086938047, \"ecoli_MIC: predicted\": -4.1535453635071145}, {\"fish_LC50: true\": 2.1512684822759454, \"fish_LC50: predicted\": 2.3452350205457906, \"daphnia_EC50: true\": 2.0943301541735866, \"daphnia_EC50: predicted\": 2.0977576233968476, \"algea_EC50: true\": 1.5432981099295553, \"algea_EC50: predicted\": 2.662068039637666, \"rat_LD50: true\": -2.525874322234323, \"rat_LD50: predicted\": -2.028507116381149, \"ecoli_MIC: true\": 2.912466186420218, \"ecoli_MIC: predicted\": -7.31998064784289}, {\"fish_LC50: true\": 2.0107506194758216, \"fish_LC50: predicted\": 2.247991984598968, \"daphnia_EC50: true\": 0.09531017980432499, \"daphnia_EC50: predicted\": 1.5943929427548345, \"algea_EC50: true\": -0.1863295781914931, \"algea_EC50: predicted\": 2.510719047589405, \"rat_LD50: true\": -1.88, \"rat_LD50: predicted\": -1.995443643258663, \"ecoli_MIC: true\": -13.541350971573458, \"ecoli_MIC: predicted\": -8.713417372884285}, {\"fish_LC50: true\": 2.206136598277375, \"fish_LC50: predicted\": 1.8554277937501884, \"daphnia_EC50: true\": 1.2809338454620642, \"daphnia_EC50: predicted\": 1.313210727231336, \"algea_EC50: true\": 1.8251942453142924, \"algea_EC50: predicted\": 2.056501849399343, \"rat_LD50: true\": -1.223, \"rat_LD50: predicted\": -2.217969600692081, \"ecoli_MIC: true\": -25.71272114327157, \"ecoli_MIC: predicted\": -4.7547188333505295}, {\"fish_LC50: true\": 2.306937097279132, \"fish_LC50: predicted\": 2.043956176358549, \"daphnia_EC50: true\": 3.545009083694235, \"daphnia_EC50: predicted\": 1.5763870888389262, \"algea_EC50: true\": 3.125443880075648, \"algea_EC50: predicted\": 2.488387447977048, \"rat_LD50: true\": -2.4067331157449035, \"rat_LD50: predicted\": -2.3507710463877576, \"ecoli_MIC: true\": 2.41019447007303, \"ecoli_MIC: predicted\": -1.3601049091886992}, {\"fish_LC50: true\": 1.748397760736161, \"fish_LC50: predicted\": 1.2936277617264478, \"daphnia_EC50: true\": -2.7903454438290396, \"daphnia_EC50: predicted\": 0.570877381851419, \"algea_EC50: true\": -0.8989420935395418, \"algea_EC50: predicted\": 1.9377303849953456, \"rat_LD50: true\": -2.8759755091666475, \"rat_LD50: predicted\": -2.5593892932895574, \"ecoli_MIC: true\": 4.11258876681778, \"ecoli_MIC: predicted\": 1.1083367268859843}, {\"fish_LC50: true\": 1.5970674447095732, \"fish_LC50: predicted\": 1.0068147167473518, \"daphnia_EC50: true\": -2.7105533313203285, \"daphnia_EC50: predicted\": -0.154902498944947, \"algea_EC50: true\": -4.615220521841593, \"algea_EC50: predicted\": 1.1688297814668083, \"rat_LD50: true\": -2.936741529769451, \"rat_LD50: predicted\": -2.665551490943836, \"ecoli_MIC: true\": 4.7323687763715725, \"ecoli_MIC: predicted\": 2.1425418312267674}, {\"fish_LC50: true\": 1.7916087400647527, \"fish_LC50: predicted\": 1.7977189359232777, \"daphnia_EC50: true\": -1.210661792476733, \"daphnia_EC50: predicted\": 1.153620685339066, \"algea_EC50: true\": -2.1803674602697964, \"algea_EC50: predicted\": 2.0486240748652507, \"rat_LD50: true\": -2.7994155235562324, \"rat_LD50: predicted\": -2.1441024712661423, \"ecoli_MIC: true\": 4.077044557555055, \"ecoli_MIC: predicted\": -6.570929176833255}, {\"fish_LC50: true\": 2.368049539541879, \"fish_LC50: predicted\": 1.4503144771877094, \"daphnia_EC50: true\": 3.0445224377234235, \"daphnia_EC50: predicted\": 0.4825247651430895, \"algea_EC50: true\": 5.310739886546594, \"algea_EC50: predicted\": 2.0687375001514496, \"rat_LD50: true\": -2.3994953401366392, \"rat_LD50: predicted\": -2.540043945578692, \"ecoli_MIC: true\": 2.118578404517919, \"ecoli_MIC: predicted\": 0.7792101393351998}, {\"fish_LC50: true\": 2.2318713128290284, \"fish_LC50: predicted\": 1.9452388777012408, \"daphnia_EC50: true\": 2.5649493574615367, \"daphnia_EC50: predicted\": 1.7670454743238109, \"algea_EC50: true\": 2.772588722239781, \"algea_EC50: predicted\": 2.6242224009689092, \"rat_LD50: true\": -2.4745496318720686, \"rat_LD50: predicted\": -2.1901026898369107, \"ecoli_MIC: true\": 2.62763981972995, \"ecoli_MIC: predicted\": -4.656779061154012}, {\"fish_LC50: true\": 2.21598718514511, \"fish_LC50: predicted\": 2.107690955821709, \"daphnia_EC50: true\": 2.7472709142554907, \"daphnia_EC50: predicted\": 1.6208286550797593, \"algea_EC50: true\": 2.1282317058492684, \"algea_EC50: predicted\": 2.411435198534119, \"rat_LD50: true\": -2.474500774048566, \"rat_LD50: predicted\": -2.2373653299437155, \"ecoli_MIC: true\": 2.7080458708122563, \"ecoli_MIC: predicted\": -3.678983425052631}, {\"fish_LC50: true\": 2.4059876486955716, \"fish_LC50: predicted\": 2.2002908649490847, \"daphnia_EC50: true\": 4.437697832044343, \"daphnia_EC50: predicted\": 1.6341594182572317, \"algea_EC50: true\": 4.176538799848087, \"algea_EC50: predicted\": 2.4694558780446365, \"rat_LD50: true\": -2.332046582174159, \"rat_LD50: predicted\": -2.4435021292115082, \"ecoli_MIC: true\": 2.0879235180784477, \"ecoli_MIC: predicted\": 0.8421077596302449}, {\"fish_LC50: true\": 1.3882696921601294, \"fish_LC50: predicted\": 1.7337737613662443, \"daphnia_EC50: true\": -8.568486485803787, \"daphnia_EC50: predicted\": 1.0778304038790205, \"algea_EC50: true\": -0.6443570163905132, \"algea_EC50: predicted\": 2.653155214457491, \"rat_LD50: true\": -3.447, \"rat_LD50: predicted\": -3.4803473346036777, \"ecoli_MIC: true\": 9.518821699371202, \"ecoli_MIC: predicted\": 21.909472435224938}, {\"fish_LC50: true\": 2.377041905711039, \"fish_LC50: predicted\": 2.5155027424249994, \"daphnia_EC50: true\": 3.8712010109078916, \"daphnia_EC50: predicted\": 1.726382277348522, \"algea_EC50: true\": 4.316153890523174, \"algea_EC50: predicted\": 2.3175989048501826, \"rat_LD50: true\": -2.3651647555274327, \"rat_LD50: predicted\": -2.3447247208207127, \"ecoli_MIC: true\": 2.155128036694414, \"ecoli_MIC: predicted\": -0.8647359338191198}, {\"fish_LC50: true\": 2.3746351418154177, \"fish_LC50: predicted\": 2.970242341919479, \"daphnia_EC50: true\": 4.624972813284272, \"daphnia_EC50: predicted\": 2.199353162996759, \"algea_EC50: true\": 3.1570004211501135, \"algea_EC50: predicted\": 2.7827717224642012, \"rat_LD50: true\": -2.3383273153123523, \"rat_LD50: predicted\": -1.9457448428885025, \"ecoli_MIC: true\": 2.231398350059898, \"ecoli_MIC: predicted\": -8.31098122140141}, {\"fish_LC50: true\": 2.104262209736511, \"fish_LC50: predicted\": 2.3411579470858825, \"daphnia_EC50: true\": 1.9110228900548727, \"daphnia_EC50: predicted\": 2.41353389032134, \"algea_EC50: true\": 0.6931471805599454, \"algea_EC50: predicted\": 2.277594292665284, \"rat_LD50: true\": -2.552438187048688, \"rat_LD50: predicted\": -2.440214919777675, \"ecoli_MIC: true\": 3.0866169453772088, \"ecoli_MIC: predicted\": 1.7562722200804957}, {\"fish_LC50: true\": 2.261076847968532, \"fish_LC50: predicted\": 2.220719642566802, \"daphnia_EC50: true\": 2.7080502011022096, \"daphnia_EC50: predicted\": 1.9090023871508508, \"algea_EC50: true\": 3.258096538021482, \"algea_EC50: predicted\": 2.641054675012637, \"rat_LD50: true\": -2.4569659344295456, \"rat_LD50: predicted\": -2.26135038640047, \"ecoli_MIC: true\": 2.5220159289043593, \"ecoli_MIC: predicted\": -2.6907837261431764}, {\"fish_LC50: true\": 2.1259671648294685, \"fish_LC50: predicted\": 2.523273213336619, \"daphnia_EC50: true\": 0.47623417899637177, \"daphnia_EC50: predicted\": 1.9271721586551505, \"algea_EC50: true\": 3.3068867021909143, \"algea_EC50: predicted\": 2.6663306782641905, \"rat_LD50: true\": -2.596313126668456, \"rat_LD50: predicted\": -2.4067405457158455, \"ecoli_MIC: true\": 2.872103871606633, \"ecoli_MIC: predicted\": 0.7491799833404356}, {\"fish_LC50: true\": 2.1762932061355684, \"fish_LC50: predicted\": 2.0453943292735004, \"daphnia_EC50: true\": 1.916922612182061, \"daphnia_EC50: predicted\": 1.4893866656595138, \"algea_EC50: true\": 2.3978952727983707, \"algea_EC50: predicted\": 2.5956698070546076, \"rat_LD50: true\": -2.5218931723239866, \"rat_LD50: predicted\": -2.2452242758979413, \"ecoli_MIC: true\": 2.795483471928492, \"ecoli_MIC: predicted\": -3.691843365294077}, {\"fish_LC50: true\": 2.258655423223793, \"fish_LC50: predicted\": 2.2493618565463924, \"daphnia_EC50: true\": 0.924258901523332, \"daphnia_EC50: predicted\": 1.6551601197138255, \"algea_EC50: true\": 5.808142489980444, \"algea_EC50: predicted\": 2.4506946208846028, \"rat_LD50: true\": -2.523893872677218, \"rat_LD50: predicted\": -2.3823352581486135, \"ecoli_MIC: true\": 2.374389020560379, \"ecoli_MIC: predicted\": -0.3930761947024095}, {\"fish_LC50: true\": 2.236245790667887, \"fish_LC50: predicted\": 2.4477590311032618, \"daphnia_EC50: true\": 0.8329091229351039, \"daphnia_EC50: predicted\": 1.7064577716605185, \"algea_EC50: true\": 3.713572066704309, \"algea_EC50: predicted\": 2.5948862775103145, \"rat_LD50: true\": -1.534, \"rat_LD50: predicted\": -2.4002652470583112, \"ecoli_MIC: true\": -19.23142684619218, \"ecoli_MIC: predicted\": 0.27483691401621346}, {\"fish_LC50: true\": 1.880063782983214, \"fish_LC50: predicted\": 2.134682635134136, \"daphnia_EC50: true\": -0.544727175441672, \"daphnia_EC50: predicted\": 1.4601778060602342, \"algea_EC50: true\": -1.0498221244986778, \"algea_EC50: predicted\": 2.4812240547284015, \"rat_LD50: true\": -2.737568220187316, \"rat_LD50: predicted\": -2.5445829927326935, \"ecoli_MIC: true\": 3.777662377275618, \"ecoli_MIC: predicted\": 2.740401727085302}, {\"fish_LC50: true\": 2.0832990521739845, \"fish_LC50: predicted\": 1.2904433155050663, \"daphnia_EC50: true\": 0.9162907318741552, \"daphnia_EC50: predicted\": 0.5742684074690036, \"algea_EC50: true\": 1.6486586255873816, \"algea_EC50: predicted\": 1.6594205635365635, \"rat_LD50: true\": -2.5980181353268237, \"rat_LD50: predicted\": -2.3799563745269587, \"ecoli_MIC: true\": 3.083705326063132, \"ecoli_MIC: predicted\": -2.768166811411821}, {\"fish_LC50: true\": 2.5518116474459234, \"fish_LC50: predicted\": 2.418484340438174, \"daphnia_EC50: true\": 5.3471075307174685, \"daphnia_EC50: predicted\": 2.229342157965518, \"algea_EC50: true\": 5.135798437050261, \"algea_EC50: predicted\": 2.973276834443071, \"rat_LD50: true\": -1.546, \"rat_LD50: predicted\": -2.247452594149593, \"ecoli_MIC: true\": -13.371588498458912, \"ecoli_MIC: predicted\": -2.3714916025677546}, {\"fish_LC50: true\": 2.10266666829893, \"fish_LC50: predicted\": 2.012110105013303, \"daphnia_EC50: true\": 0.959350221334602, \"daphnia_EC50: predicted\": 1.3000584045536723, \"algea_EC50: true\": 2.046401687601636, \"algea_EC50: predicted\": 2.3853058030824372, \"rat_LD50: true\": -2.588272852276128, \"rat_LD50: predicted\": -2.4093789806535657, \"ecoli_MIC: true\": 3.0090859537029715, \"ecoli_MIC: predicted\": -0.46724667818384846}, {\"fish_LC50: true\": 1.8536216103712846, \"fish_LC50: predicted\": 2.8227144904072823, \"daphnia_EC50: true\": -0.9942522733438668, \"daphnia_EC50: predicted\": 2.010834248603714, \"algea_EC50: true\": -1.0216512475319814, \"algea_EC50: predicted\": 2.580083196205699, \"rat_LD50: true\": -2.7653103893444975, \"rat_LD50: predicted\": -2.406758723045773, \"ecoli_MIC: true\": 3.8450534381845145, \"ecoli_MIC: predicted\": 1.1368203619241786}, {\"fish_LC50: true\": 2.2086523339048085, \"fish_LC50: predicted\": 2.1071243517859983, \"daphnia_EC50: true\": 2.1065702090680887, \"daphnia_EC50: predicted\": 1.5352200524970243, \"algea_EC50: true\": 2.8903717578961645, \"algea_EC50: predicted\": 2.6735196544805957, \"rat_LD50: true\": -2.501261892000034, \"rat_LD50: predicted\": -2.42684621348793, \"ecoli_MIC: true\": 2.681198711929312, \"ecoli_MIC: predicted\": 0.31364930847979533}, {\"fish_LC50: true\": 2.147988056888252, \"fish_LC50: predicted\": 2.186628983403203, \"daphnia_EC50: true\": 2.1621729392773013, \"daphnia_EC50: predicted\": 1.5688554772795649, \"algea_EC50: true\": 1.3660916538023706, \"algea_EC50: predicted\": 2.3928925705934647, \"rat_LD50: true\": -2.5247487808291904, \"rat_LD50: predicted\": -2.490614737201344, \"ecoli_MIC: true\": 2.9317362294494913, \"ecoli_MIC: predicted\": 1.748426182802151}, {\"fish_LC50: true\": 2.1893104126141694, \"fish_LC50: predicted\": 2.065293218871139, \"daphnia_EC50: true\": 1.6863989535702288, \"daphnia_EC50: predicted\": 1.49722264372984, \"algea_EC50: true\": 3.0445224377234235, \"algea_EC50: predicted\": 2.4908630739009427, \"rat_LD50: true\": -2.5249300791652245, \"rat_LD50: predicted\": -2.765136539836373, \"ecoli_MIC: true\": 2.722431459436514, \"ecoli_MIC: predicted\": 7.421279828046663}, {\"fish_LC50: true\": 2.145152764725438, \"fish_LC50: predicted\": 2.983306573336981, \"daphnia_EC50: true\": 1.01160091167848, \"daphnia_EC50: predicted\": 2.186423495871591, \"algea_EC50: true\": 2.9806186357439426, \"algea_EC50: predicted\": 2.715193256386706, \"rat_LD50: true\": -2.5684544524943442, \"rat_LD50: predicted\": -2.4243708487905917, \"ecoli_MIC: true\": 2.841670827101858, \"ecoli_MIC: predicted\": 1.896486402917965}, {\"fish_LC50: true\": 2.177190405385396, \"fish_LC50: predicted\": 2.688405759574752, \"daphnia_EC50: true\": 1.9315214116032136, \"daphnia_EC50: predicted\": 1.759712011056507, \"algea_EC50: true\": 2.3978952727983707, \"algea_EC50: predicted\": 2.691097822062115, \"rat_LD50: true\": -2.5209760227269498, \"rat_LD50: predicted\": -2.27656109001509, \"ecoli_MIC: true\": 2.793139143747098, \"ecoli_MIC: predicted\": -2.0436720889523805}, {\"fish_LC50: true\": 2.1123085547641622, \"fish_LC50: predicted\": 2.6380375103255584, \"daphnia_EC50: true\": -0.6348782724359696, \"daphnia_EC50: predicted\": 1.8016235117392674, \"algea_EC50: true\": 4.606279570393589, \"algea_EC50: predicted\": 2.613749907397294, \"rat_LD50: true\": -2.6431177395536816, \"rat_LD50: predicted\": -2.490213129091286, \"ecoli_MIC: true\": 2.829344748695604, \"ecoli_MIC: predicted\": 2.5005377129707145}, {\"fish_LC50: true\": 2.1562264995395637, \"fish_LC50: predicted\": 1.99396983504911, \"daphnia_EC50: true\": 1.2237754316221157, \"daphnia_EC50: predicted\": 1.5411806429226624, \"algea_EC50: true\": 2.9338568698359038, \"algea_EC50: predicted\": 2.330806461990386, \"rat_LD50: true\": -2.5559525709630178, \"rat_LD50: predicted\": -2.002138831643022, \"ecoli_MIC: true\": 2.815558966354658, \"ecoli_MIC: predicted\": -8.920752976758155}, {\"fish_LC50: true\": 2.100182991390973, \"fish_LC50: predicted\": 1.8265814820449355, \"daphnia_EC50: true\": 0.9162907318741552, \"daphnia_EC50: predicted\": 1.1427875353078143, \"algea_EC50: true\": 2.050270164379556, \"algea_EC50: predicted\": 2.0426564742221283, \"rat_LD50: true\": -2.5909095329887832, \"rat_LD50: predicted\": -2.3332074149201856, \"ecoli_MIC: true\": 3.0153421018940776, \"ecoli_MIC: predicted\": -2.5165775343175243}, {\"fish_LC50: true\": 2.1535176135068923, \"fish_LC50: predicted\": 1.924629597931324, \"daphnia_EC50: true\": 2.5877640352277083, \"daphnia_EC50: predicted\": 1.421382834082151, \"algea_EC50: true\": 0.8754687373538999, \"algea_EC50: predicted\": 2.1417651179403947, \"rat_LD50: true\": -2.5066957236258998, \"rat_LD50: predicted\": -2.3300804195749425, \"ecoli_MIC: true\": 2.946908209171866, \"ecoli_MIC: predicted\": -2.154849815240911}, {\"fish_LC50: true\": 1.9276413796300957, \"fish_LC50: predicted\": 2.302456489237453, \"daphnia_EC50: true\": -2.407945608651872, \"daphnia_EC50: predicted\": 1.6366154541159563, \"algea_EC50: true\": 3.0204248861443626, \"algea_EC50: predicted\": 2.562027498171383, \"rat_LD50: true\": -2.909, \"rat_LD50: predicted\": -2.4322188762156047, \"ecoli_MIC: true\": 6.074084204678549, \"ecoli_MIC: predicted\": 0.7242229783199732}, {\"fish_LC50: true\": 2.202891145501603, \"fish_LC50: predicted\": 2.5632750393582944, \"daphnia_EC50: true\": 2.9957322735539917, \"daphnia_EC50: predicted\": 1.7867918501841482, \"algea_EC50: true\": 0.4700036292457357, \"algea_EC50: predicted\": 2.6845147783331464, \"rat_LD50: true\": -1.889, \"rat_LD50: predicted\": -2.0404842633344633, \"ecoli_MIC: true\": -9.802061392501976, \"ecoli_MIC: predicted\": -7.183870638753753}, {\"fish_LC50: true\": 2.1962268038046986, \"fish_LC50: predicted\": 2.9251327697886698, \"daphnia_EC50: true\": 1.9315214116032136, \"daphnia_EC50: predicted\": 1.8315205133668109, \"algea_EC50: true\": 2.8507065015037334, \"algea_EC50: predicted\": 2.799328079845897, \"rat_LD50: true\": -2.512961175920639, \"rat_LD50: predicted\": -2.3177858886082676, \"ecoli_MIC: true\": 2.71606059259954, \"ecoli_MIC: predicted\": -0.8219437197649779}, {\"fish_LC50: true\": 2.281476580225899, \"fish_LC50: predicted\": 2.331001450916161, \"daphnia_EC50: true\": 4.043051267834549, \"daphnia_EC50: predicted\": 1.8070011420319305, \"algea_EC50: true\": 1.791759469228055, \"algea_EC50: predicted\": 2.6691680005497824, \"rat_LD50: true\": -2.3990507704672464, \"rat_LD50: predicted\": -2.200365150860182, \"ecoli_MIC: true\": 2.5572398248941965, \"ecoli_MIC: predicted\": -3.9889021928231534}, {\"fish_LC50: true\": 2.397815854612489, \"fish_LC50: predicted\": 2.3057929847823786, \"daphnia_EC50: true\": 4.258445572902527, \"daphnia_EC50: predicted\": 1.8237155998508277, \"algea_EC50: true\": 4.244200317766478, \"algea_EC50: predicted\": 2.5058730198353616, \"rat_LD50: true\": -2.342110238045572, \"rat_LD50: predicted\": -2.2702350180751214, \"ecoli_MIC: true\": 2.1051909996896967, \"ecoli_MIC: predicted\": -2.531145864564424}, {\"fish_LC50: true\": 1.6302004697999308, \"fish_LC50: predicted\": 2.117549598329228, \"daphnia_EC50: true\": -2.441847160327553, \"daphnia_EC50: predicted\": 0.7559179817463181, \"algea_EC50: true\": -4.219907785197446, \"algea_EC50: predicted\": 2.4556383139991937, \"rat_LD50: true\": -2.9128633199518963, \"rat_LD50: predicted\": -2.510995572069846, \"ecoli_MIC: true\": 4.621927936632957, \"ecoli_MIC: predicted\": 1.2143204482518575}, {\"fish_LC50: true\": 2.3560871863703596, \"fish_LC50: predicted\": 2.2626386316735143, \"daphnia_EC50: true\": 3.8712010109078916, \"daphnia_EC50: predicted\": 1.5216233664041838, \"algea_EC50: true\": 3.817712325956905, \"algea_EC50: predicted\": 2.4921743631175386, \"rat_LD50: true\": -2.3739872681522156, \"rat_LD50: predicted\": -2.2881030132101605, \"ecoli_MIC: true\": 2.239973886781513, \"ecoli_MIC: predicted\": -2.5338862037785717}, {\"fish_LC50: true\": 2.3785301895415287, \"fish_LC50: predicted\": 2.2510649899370083, \"daphnia_EC50: true\": 4.0943445622221, \"daphnia_EC50: predicted\": 1.5528854276631057, \"algea_EC50: true\": 4.02535169073515, \"algea_EC50: predicted\": 2.5213770848086563, \"rat_LD50: true\": -2.3562933227482046, \"rat_LD50: predicted\": -2.400919762484929, \"ecoli_MIC: true\": 2.1687958435153263, \"ecoli_MIC: predicted\": -0.09718815430573846}, {\"fish_LC50: true\": 2.297849020690272, \"fish_LC50: predicted\": 0.9997182756485234, \"daphnia_EC50: true\": 3.9759363311717992, \"daphnia_EC50: predicted\": 1.3622022049447347, \"algea_EC50: true\": 2.2793164660546914, \"algea_EC50: predicted\": 2.560085702761997, \"rat_LD50: true\": -2.394637320865776, \"rat_LD50: predicted\": -2.5970757812880767, \"ecoli_MIC: true\": 2.485024330586981, \"ecoli_MIC: predicted\": 2.597536872551854}, {\"fish_LC50: true\": 2.058072195734617, \"fish_LC50: predicted\": 2.359803424148201, \"daphnia_EC50: true\": -0.7339691750802004, \"daphnia_EC50: predicted\": 1.6937903263323841, \"algea_EC50: true\": 3.4610373820181723, \"algea_EC50: predicted\": 2.58777785645998, \"rat_LD50: true\": -2.669613999368589, \"rat_LD50: predicted\": -2.3516290508159168, \"ecoli_MIC: true\": 3.040202840059557, \"ecoli_MIC: predicted\": -0.8694179287405013}, {\"fish_LC50: true\": 2.411318208132762, \"fish_LC50: predicted\": 2.6790536971051773, \"daphnia_EC50: true\": 4.324132656254979, \"daphnia_EC50: predicted\": 1.7795671351488243, \"algea_EC50: true\": 4.469350462845557, \"algea_EC50: predicted\": 2.6882706082491143, \"rat_LD50: true\": -2.3339983355654974, \"rat_LD50: predicted\": -2.329018843749887, \"ecoli_MIC: true\": 2.0563171627502186, \"ecoli_MIC: predicted\": -0.9114885818846132}, {\"fish_LC50: true\": 1.9011467834487163, \"fish_LC50: predicted\": 2.1798749010633234, \"daphnia_EC50: true\": -0.3424903089467761, \"daphnia_EC50: predicted\": 1.5097178026717601, \"algea_EC50: true\": -0.843970070294529, \"algea_EC50: predicted\": 2.4772533558918868, \"rat_LD50: true\": -2.721219344393683, \"rat_LD50: predicted\": -2.2871348056470797, \"ecoli_MIC: true\": 3.7101458453626037, \"ecoli_MIC: predicted\": -2.655430897946908}, {\"fish_LC50: true\": 1.9754272838113636, \"fish_LC50: predicted\": 2.2153320325983183, \"daphnia_EC50: true\": -0.9416085398584448, \"daphnia_EC50: predicted\": 1.5333516485687224, \"algea_EC50: true\": 1.9600947840472696, \"algea_EC50: predicted\": 2.3840486138094024, \"rat_LD50: true\": -2.804, \"rat_LD50: predicted\": -2.4808953812989483, \"ecoli_MIC: true\": 5.3456815752117635, \"ecoli_MIC: predicted\": 1.5292817062878958}, {\"fish_LC50: true\": 2.3427571840294092, \"fish_LC50: predicted\": 2.99209954262442, \"daphnia_EC50: true\": 4.0163830207523885, \"daphnia_EC50: predicted\": 1.7492041782585752, \"algea_EC50: true\": 3.288401887516811, \"algea_EC50: predicted\": 2.6929043202139855, \"rat_LD50: true\": -2.3742353047422378, \"rat_LD50: predicted\": -2.30049629467075, \"ecoli_MIC: true\": 2.3067604524534744, \"ecoli_MIC: predicted\": -1.231746909051779}, {\"fish_LC50: true\": 2.248309046092011, \"fish_LC50: predicted\": 3.154979235937005, \"daphnia_EC50: true\": 1.4924220896387155, \"daphnia_EC50: predicted\": 2.1456944189173015, \"algea_EC50: true\": 4.477336814478207, \"algea_EC50: predicted\": 2.78407666844636, \"rat_LD50: true\": -2.384, \"rat_LD50: predicted\": -2.216527500383374, \"ecoli_MIC: true\": -0.2071543181979365, \"ecoli_MIC: predicted\": -2.399021843208005}, {\"fish_LC50: true\": 2.2311891588644173, \"fish_LC50: predicted\": 2.8540646701529293, \"daphnia_EC50: true\": 1.4984046863370537, \"daphnia_EC50: predicted\": 1.8724462240938307, \"algea_EC50: true\": 4.279440045898782, \"algea_EC50: predicted\": 2.985215154524732, \"rat_LD50: true\": -2.5146253623959476, \"rat_LD50: predicted\": -2.1942939230245306, \"ecoli_MIC: true\": 2.538482900169278, \"ecoli_MIC: predicted\": -3.4555081221589656}, {\"fish_LC50: true\": 2.2085332490212934, \"fish_LC50: predicted\": 2.7167220681434143, \"daphnia_EC50: true\": 1.5033414103663674, \"daphnia_EC50: predicted\": 1.9625000039199318, \"algea_EC50: true\": 3.7405226872657744, \"algea_EC50: predicted\": 2.655424370207922, \"rat_LD50: true\": -2.5239055121481777, \"rat_LD50: predicted\": -2.1348412619947785, \"ecoli_MIC: true\": 2.6302107502940615, \"ecoli_MIC: predicted\": -4.81977418738771}, {\"fish_LC50: true\": 2.115856540188325, \"fish_LC50: predicted\": 1.967847300774439, \"daphnia_EC50: true\": 1.5269663404888902, \"daphnia_EC50: predicted\": 1.0896149874859644, \"algea_EC50: true\": 1.8548907506681451, \"algea_EC50: predicted\": 2.3743412140221554, \"rat_LD50: true\": -2.75, \"rat_LD50: predicted\": -2.5546600953941856, \"ecoli_MIC: true\": 7.078721359676464, \"ecoli_MIC: predicted\": 2.3522701591079906}, {\"fish_LC50: true\": 2.1991573571311207, \"fish_LC50: predicted\": 2.0334533730927147, \"daphnia_EC50: true\": 1.505384417736657, \"daphnia_EC50: predicted\": 1.5310979313159445, \"algea_EC50: true\": 3.517497837358316, \"algea_EC50: predicted\": 2.480853474765294, \"rat_LD50: true\": -2.5277459970990797, \"rat_LD50: predicted\": -2.460973445050221, \"ecoli_MIC: true\": 2.668171282978143, \"ecoli_MIC: predicted\": 0.930275073697215}, {\"fish_LC50: true\": 2.3556895487227933, \"fish_LC50: predicted\": 3.028000481823227, \"daphnia_EC50: true\": 1.4676979761359448, \"daphnia_EC50: predicted\": 2.0197245814191964, \"algea_EC50: true\": 6.908363094225024, \"algea_EC50: predicted\": 2.707897165898356, \"rat_LD50: true\": -2.268, \"rat_LD50: predicted\": -2.1440597091358624, \"ecoli_MIC: true\": -2.2013349404212335, \"ecoli_MIC: predicted\": -4.230247876705535}, {\"fish_LC50: true\": 2.13003747547544, \"fish_LC50: predicted\": 2.179823913033629, \"daphnia_EC50: true\": 1.520445643837725, \"daphnia_EC50: predicted\": 1.8264579806762722, \"algea_EC50: true\": 1.873339456220478, \"algea_EC50: predicted\": 2.4731737735042856, \"rat_LD50: true\": -2.556058382567691, \"rat_LD50: predicted\": -2.0584546429704416, \"ecoli_MIC: true\": 2.948019595804709, \"ecoli_MIC: predicted\": -7.18492558602348}, {\"fish_LC50: true\": 2.131246875755167, \"fish_LC50: predicted\": 1.8500083062494874, \"daphnia_EC50: true\": 1.5201821154487334, \"daphnia_EC50: predicted\": 1.3520362814630558, \"algea_EC50: true\": 1.9021075263969205, \"algea_EC50: predicted\": 2.458942098196139, \"rat_LD50: true\": -2.555562996781645, \"rat_LD50: predicted\": -2.460852385329579, \"ecoli_MIC: true\": 2.943123050560331, \"ecoli_MIC: predicted\": 0.5353140485467698}, {\"fish_LC50: true\": 2.126607879451683, \"fish_LC50: predicted\": 2.182163023290853, \"daphnia_EC50: true\": 1.521192953004224, \"daphnia_EC50: predicted\": 1.819183062484678, \"algea_EC50: true\": 1.791759469228055, \"algea_EC50: predicted\": 2.449281840825261, \"rat_LD50: true\": -2.557463188859318, \"rat_LD50: predicted\": -2.1184078018637207, \"ecoli_MIC: true\": 2.9619051326131753, \"ecoli_MIC: predicted\": -5.9144636032644105}, {\"fish_LC50: true\": 2.2113137447291678, \"fish_LC50: predicted\": 3.2082639293145307, \"daphnia_EC50: true\": 1.5027355401951894, \"daphnia_EC50: predicted\": 2.264885210364457, \"algea_EC50: true\": 3.80666248977032, \"algea_EC50: predicted\": 3.0418874893333503, \"rat_LD50: true\": -2.522766585628197, \"rat_LD50: predicted\": -1.9469501986397026, \"ecoli_MIC: true\": 2.61895325080134, \"ecoli_MIC: predicted\": -7.924611998495882}, {\"fish_LC50: true\": 2.306582662425619, \"fish_LC50: predicted\": 3.5427445071674946, \"daphnia_EC50: true\": 1.4686727855721813, \"daphnia_EC50: predicted\": 1.9037553175502462, \"algea_EC50: true\": 4.836281906951479, \"algea_EC50: predicted\": 2.677652422584017, \"rat_LD50: true\": -1.7519999999999998, \"rat_LD50: predicted\": -2.3238105900524944, \"ecoli_MIC: true\": -13.609164066241277, \"ecoli_MIC: predicted\": 0.0025449847651168866}, {\"fish_LC50: true\": 2.2641834790807067, \"fish_LC50: predicted\": 2.654560029718243, \"daphnia_EC50: true\": 1.4709218896177774, \"daphnia_EC50: predicted\": 1.9438804444582622, \"algea_EC50: true\": 3.1780538303479458, \"algea_EC50: predicted\": 2.7467212970559403, \"rat_LD50: true\": -1.384, \"rat_LD50: predicted\": -2.099876801390685, \"ecoli_MIC: true\": -21.780512557851985, \"ecoli_MIC: predicted\": -5.6360522404844176}, {\"fish_LC50: true\": 2.2488895564764775, \"fish_LC50: predicted\": 2.560975258090947, \"daphnia_EC50: true\": 1.4945477687016577, \"daphnia_EC50: predicted\": 1.942547650621171, \"algea_EC50: true\": 4.700480365792417, \"algea_EC50: predicted\": 2.7889663157332016, \"rat_LD50: true\": -2.507375053683957, \"rat_LD50: predicted\": -1.9893387801568627, \"ecoli_MIC: true\": 2.466818622259119, \"ecoli_MIC: predicted\": -8.087035161375246}, {\"fish_LC50: true\": 2.19184568666558, \"fish_LC50: predicted\": 2.4745591747289963, \"daphnia_EC50: true\": 1.5042607095412635, \"daphnia_EC50: predicted\": 1.9549123092268208, \"algea_EC50: true\": 3.0910424533583165, \"algea_EC50: predicted\": 2.5607791015965407, \"rat_LD50: true\": -2.381, \"rat_LD50: predicted\": -2.460095146086713, \"ecoli_MIC: true\": -0.5440595468939193, \"ecoli_MIC: predicted\": 1.851950924321609}, {\"fish_LC50: true\": 2.3015553027442124, \"fish_LC50: predicted\": 3.6681350670712956, \"daphnia_EC50: true\": 1.4830718996272623, \"daphnia_EC50: predicted\": 2.018728521670917, \"algea_EC50: true\": 5.9532433342877855, \"algea_EC50: predicted\": 2.795138723738856, \"rat_LD50: true\": -2.4858024920185193, \"rat_LD50: predicted\": -2.161571959471621, \"ecoli_MIC: true\": 2.2535887977318794, \"ecoli_MIC: predicted\": -3.184797997874882}, {\"fish_LC50: true\": 2.0384537589049643, \"fish_LC50: predicted\": 2.548499424127932, \"daphnia_EC50: true\": 1.5404017408303616, \"daphnia_EC50: predicted\": 1.574086087450334, \"algea_EC50: true\": -0.3051673867928004, \"algea_EC50: predicted\": 2.433727722598137, \"rat_LD50: true\": -2.5935722414470987, \"rat_LD50: predicted\": -2.442351068951567, \"ecoli_MIC: true\": 3.3188180976354644, \"ecoli_MIC: predicted\": 1.1026005992302992}, {\"fish_LC50: true\": 2.113569067506795, \"fish_LC50: predicted\": 2.3954097801386003, \"daphnia_EC50: true\": 1.524034110860491, \"daphnia_EC50: predicted\": 1.7475794958882889, \"algea_EC50: true\": 1.4816045409242156, \"algea_EC50: predicted\": 2.40161358134664, \"rat_LD50: true\": -2.56280405260205, \"rat_LD50: predicted\": -2.4914946391683324, \"ecoli_MIC: true\": 3.014695870048463, \"ecoli_MIC: predicted\": 2.1830975112074547}, {\"fish_LC50: true\": 2.2535961979970054, \"fish_LC50: predicted\": 2.476819573752667, \"daphnia_EC50: true\": 1.4998238395065826, \"daphnia_EC50: predicted\": 1.6176177233822475, \"algea_EC50: true\": 5.3981627015177525, \"algea_EC50: predicted\": 2.551962016381577, \"rat_LD50: true\": -2.853, \"rat_LD50: predicted\": -2.4115055817491537, \"ecoli_MIC: true\": 9.972075632473917, \"ecoli_MIC: predicted\": 0.43837507760107464}, {\"fish_LC50: true\": 2.093038876552143, \"fish_LC50: predicted\": 1.9617932446324073, \"daphnia_EC50: true\": 1.5285076406244187, \"daphnia_EC50: predicted\": 1.2470202936117634, \"algea_EC50: true\": 0.9932517730102834, \"algea_EC50: predicted\": 2.39480755340097, \"rat_LD50: true\": -2.5712134807742157, \"rat_LD50: predicted\": -2.6026776065892205, \"ecoli_MIC: true\": 3.0978172406735354, \"ecoli_MIC: predicted\": 3.5505979358650768}, {\"fish_LC50: true\": 2.0229757110071773, \"fish_LC50: predicted\": 1.957948464777286, \"daphnia_EC50: true\": 1.5437744083380025, \"daphnia_EC50: predicted\": 1.6314661770935344, \"algea_EC50: true\": -0.6733445532637652, \"algea_EC50: predicted\": 2.169376410799413, \"rat_LD50: true\": -2.5999122473598213, \"rat_LD50: predicted\": -2.412811663330079, \"ecoli_MIC: true\": 3.381484663119778, \"ecoli_MIC: predicted\": -0.11477698584587959}, {\"fish_LC50: true\": 1.9759410937803565, \"fish_LC50: predicted\": 2.08911155391349, \"daphnia_EC50: true\": 1.5540232540776202, \"daphnia_EC50: predicted\": 1.6522428624147067, \"algea_EC50: true\": -1.7921595492493947, \"algea_EC50: predicted\": 1.7268506293685242, \"rat_LD50: true\": -2.619178226719113, \"rat_LD50: predicted\": -2.460950979064115, \"ecoli_MIC: true\": 3.5719155197717853, \"ecoli_MIC: predicted\": 0.9984095981348846}, {\"fish_LC50: true\": 2.1678416210853086, \"fish_LC50: predicted\": 2.310540421000802, \"daphnia_EC50: true\": 1.5122081183826808, \"daphnia_EC50: predicted\": 1.9566069747275772, \"algea_EC50: true\": 2.772588722239781, \"algea_EC50: predicted\": 2.654180596041297, \"rat_LD50: true\": -2.540573322159894, \"rat_LD50: predicted\": -2.0860856662314595, \"ecoli_MIC: true\": 2.7949605032056866, \"ecoli_MIC: predicted\": -6.285295642171802}, {\"fish_LC50: true\": 2.239508674417891, \"fish_LC50: predicted\": 3.1206077691701566, \"daphnia_EC50: true\": 1.4965918634299413, \"daphnia_EC50: predicted\": 1.9820413720498231, \"algea_EC50: true\": 4.477336814478207, \"algea_EC50: predicted\": 2.7405773672057037, \"rat_LD50: true\": -2.5112175826715055, \"rat_LD50: predicted\": -1.948961330849291, \"ecoli_MIC: true\": 2.504799358829146, \"ecoli_MIC: predicted\": -8.337484867375014}, {\"fish_LC50: true\": 2.1830980495801313, \"fish_LC50: predicted\": 2.457093588874152, \"daphnia_EC50: true\": 1.508883741755433, \"daphnia_EC50: predicted\": 2.0047411528708126, \"algea_EC50: true\": 3.1354942159291497, \"algea_EC50: predicted\": 2.7822677487433367, \"rat_LD50: true\": -2.5343240943823977, \"rat_LD50: predicted\": -2.145827192729725, \"ecoli_MIC: true\": 2.7331912166883114, \"ecoli_MIC: predicted\": -4.784123738562323}, {\"fish_LC50: true\": 2.193561558168689, \"fish_LC50: predicted\": 2.170756036769892, \"daphnia_EC50: true\": 1.5066037426453605, \"daphnia_EC50: predicted\": 1.9223932616034873, \"algea_EC50: true\": 3.3843902633457743, \"algea_EC50: predicted\": 2.4773810050156704, \"rat_LD50: true\": -2.530038107754275, \"rat_LD50: predicted\": -2.143601549419917, \"ecoli_MIC: true\": 2.6908272086110827, \"ecoli_MIC: predicted\": -5.268286728971484}, {\"fish_LC50: true\": 2.155747560664821, \"fish_LC50: predicted\": 2.187541223346661, \"daphnia_EC50: true\": 1.514843414828654, \"daphnia_EC50: predicted\": 1.7494023298300467, \"algea_EC50: true\": 2.4849066497880004, \"algea_EC50: predicted\": 2.614813248073004, \"rat_LD50: true\": -2.545527203623569, \"rat_LD50: predicted\": -2.3771324054493332, \"ecoli_MIC: true\": 2.84392618895086, \"ecoli_MIC: predicted\": -0.4354202822996278}, {\"fish_LC50: true\": 1.9544829705347908, \"fish_LC50: predicted\": 1.9069131671475366, \"daphnia_EC50: true\": 1.5586989803399334, \"daphnia_EC50: predicted\": 1.1992984367291364, \"algea_EC50: true\": -2.3025850929940455, \"algea_EC50: predicted\": 2.2617876057820516, \"rat_LD50: true\": -2.6279677477976864, \"rat_LD50: predicted\": -2.4429957005093095, \"ecoli_MIC: true\": 3.6587938454119495, \"ecoli_MIC: predicted\": 0.00942708285081073}, {\"fish_LC50: true\": 2.0200552075467755, \"fish_LC50: predicted\": 2.003000365138962, \"daphnia_EC50: true\": 1.5466773030342793, \"daphnia_EC50: predicted\": 0.8975776515664455, \"algea_EC50: true\": -0.5108256237659909, \"algea_EC50: predicted\": 2.0378084768636153, \"rat_LD50: true\": -2.7324466590473753, \"rat_LD50: predicted\": -2.3698173390302335, \"ecoli_MIC: true\": 6.238324625039509, \"ecoli_MIC: predicted\": -1.8283105844766698}, {\"fish_LC50: true\": 1.9970103426542494, \"fish_LC50: predicted\": 1.9612065689187423, \"daphnia_EC50: true\": 1.5494322635627569, \"daphnia_EC50: predicted\": 1.4824575196689898, \"algea_EC50: true\": -1.2909841813155656, \"algea_EC50: predicted\": 2.426034918443933, \"rat_LD50: true\": -2.610547993545047, \"rat_LD50: predicted\": -2.3532662829596016, \"ecoli_MIC: true\": 3.4866116446977387, \"ecoli_MIC: predicted\": -1.5071571736539644}, {\"fish_LC50: true\": 2.2163857275325185, \"fish_LC50: predicted\": 2.2843620385835206, \"daphnia_EC50: true\": 1.501887850902861, \"daphnia_EC50: predicted\": 1.6320051286054773, \"algea_EC50: true\": 3.951243718581428, \"algea_EC50: predicted\": 2.553693091563158, \"rat_LD50: true\": -2.535, \"rat_LD50: predicted\": -2.4771543261383133, \"ecoli_MIC: true\": 2.9082094493603634, \"ecoli_MIC: predicted\": 1.658551288216436}, {\"fish_LC50: true\": 2.2375411504012703, \"fish_LC50: predicted\": 2.5430711902556284, \"daphnia_EC50: true\": 1.4916761915181809, \"daphnia_EC50: predicted\": 1.7499683268323885, \"algea_EC50: true\": 3.9337844972096585, \"algea_EC50: predicted\": 2.604712592274911, \"rat_LD50: true\": -2.218, \"rat_LD50: predicted\": -2.1435192125300664, \"ecoli_MIC: true\": -3.8528875851994826, \"ecoli_MIC: predicted\": -5.058931082095866}, {\"fish_LC50: true\": 2.179711750394823, \"fish_LC50: predicted\": 2.1162990955280483, \"daphnia_EC50: true\": 1.5096216165383822, \"daphnia_EC50: predicted\": 1.540726982181753, \"algea_EC50: true\": 3.0549441331858365, \"algea_EC50: predicted\": 2.531069737695708, \"rat_LD50: true\": -2.5357111657365454, \"rat_LD50: predicted\": -1.8639184197749836, \"ecoli_MIC: true\": 2.7469014559282385, \"ecoli_MIC: predicted\": -11.713796994740811}, {\"fish_LC50: true\": 2.2693589022400715, \"fish_LC50: predicted\": 1.7777906839952689, \"daphnia_EC50: true\": 1.4900874971082914, \"daphnia_EC50: predicted\": 1.0181896049398311, \"algea_EC50: true\": 5.187385805840755, \"algea_EC50: predicted\": 1.8982836115230008, \"rat_LD50: true\": -2.4989905484783983, \"rat_LD50: predicted\": -2.3786927449248747, \"ecoli_MIC: true\": 2.3839435978899246, \"ecoli_MIC: predicted\": -1.758551611174064}, {\"fish_LC50: true\": 2.019541993244758, \"fish_LC50: predicted\": 2.390230462558159, \"daphnia_EC50: true\": 1.5445226156315996, \"daphnia_EC50: predicted\": 1.594119055476618, \"algea_EC50: true\": -0.7550225842780329, \"algea_EC50: predicted\": 2.434435500684516, \"rat_LD50: true\": -2.601318741968201, \"rat_LD50: predicted\": -2.553281197456194, \"ecoli_MIC: true\": 3.395386887769533, \"ecoli_MIC: predicted\": 3.3309223440035023}, {\"fish_LC50: true\": 2.220731978788038, \"fish_LC50: predicted\": 2.1893368517121004, \"daphnia_EC50: true\": 1.5006833064639764, \"daphnia_EC50: predicted\": 1.6398135465358317, \"algea_EC50: true\": 4.0306945351456465, \"algea_EC50: predicted\": 2.5136075061693295, \"rat_LD50: true\": -2.5189087567847253, \"rat_LD50: predicted\": -2.4775570461608654, \"ecoli_MIC: true\": 2.58082128575672, \"ecoli_MIC: predicted\": 1.5715630700738252}, {\"fish_LC50: true\": 2.1859253112510686, \"fish_LC50: predicted\": 2.8552172724932783, \"daphnia_EC50: true\": 1.5082676812782836, \"daphnia_EC50: predicted\": 2.079655927825453, \"algea_EC50: true\": 3.202746442938317, \"algea_EC50: predicted\": 2.7189902189785977, \"rat_LD50: true\": -2.533166011927234, \"rat_LD50: predicted\": -2.279815091532008, \"ecoli_MIC: true\": 2.721744374049372, \"ecoli_MIC: predicted\": -1.4404850228632462}, {\"fish_LC50: true\": 2.179103119831204, \"fish_LC50: predicted\": 2.2982364039595464, \"daphnia_EC50: true\": 1.5097542371724444, \"daphnia_EC50: predicted\": 1.9124754142026394, \"algea_EC50: true\": 3.0404666048941618, \"algea_EC50: predicted\": 2.607360390938624, \"rat_LD50: true\": -2.535960468581288, \"rat_LD50: predicted\": -2.3617080368826047, \"ecoli_MIC: true\": 2.7493656418076498, \"ecoli_MIC: predicted\": -0.4698969921097036}, {\"fish_LC50: true\": 2.128256705430182, \"fish_LC50: predicted\": 1.9396753643005433, \"daphnia_EC50: true\": 1.520833673730749, \"daphnia_EC50: predicted\": 1.4616596171012832, \"algea_EC50: true\": 1.8309801823813363, \"algea_EC50: predicted\": 2.444078160488786, \"rat_LD50: true\": -2.5567878087001503, \"rat_LD50: predicted\": -2.3094229359647978, \"ecoli_MIC: true\": 2.9552294677078095, \"ecoli_MIC: predicted\": -2.485716585528535}, {\"fish_LC50: true\": 2.206362184357012, \"fish_LC50: predicted\": 2.354626312793652, \"daphnia_EC50: true\": 1.5038144854788342, \"daphnia_EC50: predicted\": 1.5868829478564745, \"algea_EC50: true\": 3.688879454113936, \"algea_EC50: predicted\": 2.508214918940249, \"rat_LD50: true\": -2.5247948079365967, \"rat_LD50: predicted\": -2.6835512420381193, \"ecoli_MIC: true\": 2.6390008229733297, \"ecoli_MIC: predicted\": 6.0798755673930485}, {\"fish_LC50: true\": 2.2362828107559096, \"fish_LC50: predicted\": 2.840686179934661, \"daphnia_EC50: true\": 1.4972947793033526, \"daphnia_EC50: predicted\": 1.76518398963229, \"algea_EC50: true\": 4.400603020246816, \"algea_EC50: predicted\": 2.688916270722524, \"rat_LD50: true\": -2.512538937588204, \"rat_LD50: predicted\": -2.2340328412187005, \"ecoli_MIC: true\": 2.5178600366195525, \"ecoli_MIC: predicted\": -2.7893762311043355}, {\"fish_LC50: true\": 2.4143962617011354, \"fish_LC50: predicted\": 3.278411196066597, \"daphnia_EC50: true\": 1.4398811719158644, \"daphnia_EC50: predicted\": 1.984170847337289, \"algea_EC50: true\": 6.908316121680466, \"algea_EC50: predicted\": 2.7980655235725678, \"rat_LD50: true\": -1.4169999999999998, \"rat_LD50: predicted\": -1.9366242068677435, \"ecoli_MIC: true\": -20.34256869948679, \"ecoli_MIC: predicted\": -8.426791227300026}, {\"fish_LC50: true\": 2.179273625719432, \"fish_LC50: predicted\": 2.598210320150326, \"daphnia_EC50: true\": 1.5097170839298073, \"daphnia_EC50: predicted\": 2.4329926302096623, \"algea_EC50: true\": 3.0445224377234235, \"algea_EC50: predicted\": 2.7521481474347445, \"rat_LD50: true\": -2.53589062719388, \"rat_LD50: predicted\": -2.276350488471197, \"ecoli_MIC: true\": 2.7486753080859216, \"ecoli_MIC: predicted\": -1.3784074324751403}, {\"fish_LC50: true\": 2.1886205485198573, \"fish_LC50: predicted\": 2.4377050324124654, \"daphnia_EC50: true\": 1.512220792444019, \"daphnia_EC50: predicted\": 1.580166538629415, \"algea_EC50: true\": 3.688879454113936, \"algea_EC50: predicted\": 2.6001407650354236, \"rat_LD50: true\": -2.782, \"rat_LD50: predicted\": -2.589635588842803, \"ecoli_MIC: true\": 8.121983371446738, \"ecoli_MIC: predicted\": 4.16764202776851}, {\"fish_LC50: true\": 2.431503156866931, \"fish_LC50: predicted\": 3.1249755292294106, \"daphnia_EC50: true\": 1.4317750682169574, \"daphnia_EC50: predicted\": 2.0706051199973254, \"algea_EC50: true\": 6.908265148976339, \"algea_EC50: predicted\": 2.854804369052646, \"rat_LD50: true\": -1.169, \"rat_LD50: predicted\": -1.9474266028353031, \"ecoli_MIC: true\": -25.62932806424071, \"ecoli_MIC: predicted\": -8.247993881412757}, {\"fish_LC50: true\": 2.2122377307932624, \"fish_LC50: predicted\": 2.375861843287865, \"daphnia_EC50: true\": 1.502534203579863, \"daphnia_EC50: predicted\": 1.637257035543895, \"algea_EC50: true\": 3.828641396489095, \"algea_EC50: predicted\": 2.7113628627777633, \"rat_LD50: true\": -2.5223881091466493, \"rat_LD50: predicted\": -2.438845132911041, \"ecoli_MIC: true\": 2.615212273025996, \"ecoli_MIC: predicted\": 0.9664735814962933}, {\"fish_LC50: true\": 1.9603585169710485, \"fish_LC50: predicted\": 1.7695291553773536, \"daphnia_EC50: true\": 1.557418698440955, \"daphnia_EC50: predicted\": 1.22954389638419, \"algea_EC50: true\": -2.162823150618887, \"algea_EC50: predicted\": 2.451596388589117, \"rat_LD50: true\": -2.6255610490077386, \"rat_LD50: predicted\": -2.6996745530363655, \"ecoli_MIC: true\": 3.635005295464609, \"ecoli_MIC: predicted\": 5.41376240878092}, {\"fish_LC50: true\": 2.359561411085828, \"fish_LC50: predicted\": 2.365117150441158, \"daphnia_EC50: true\": 1.4476910016486286, \"daphnia_EC50: predicted\": 1.6806017742071888, \"algea_EC50: true\": 5.219274159207584, \"algea_EC50: predicted\": 2.5469092453578797, \"rat_LD50: true\": -1.211, \"rat_LD50: predicted\": -2.704667684206619, \"ecoli_MIC: true\": -25.066543157221417, \"ecoli_MIC: predicted\": 6.6526479100529405}, {\"fish_LC50: true\": 2.2241026916081807, \"fish_LC50: predicted\": 2.5522846909309322, \"daphnia_EC50: true\": 1.49994882795081, \"daphnia_EC50: predicted\": 2.1196473581872652, \"algea_EC50: true\": 4.110873864173311, \"algea_EC50: predicted\": 2.6814654822542403, \"rat_LD50: true\": -2.517528069804635, \"rat_LD50: predicted\": -2.2483308490225227, \"ecoli_MIC: true\": 2.567174151630617, \"ecoli_MIC: predicted\": -2.385737421041637}, {\"fish_LC50: true\": 2.1772225031438737, \"fish_LC50: predicted\": 2.1207782649547267, \"daphnia_EC50: true\": 1.5101640236544114, \"daphnia_EC50: predicted\": 1.4957947886485243, \"algea_EC50: true\": 2.9957322735539917, \"algea_EC50: predicted\": 2.419743566121794, \"rat_LD50: true\": -2.536730793172346, \"rat_LD50: predicted\": -2.426623080901845, \"ecoli_MIC: true\": 2.756979766635652, \"ecoli_MIC: predicted\": 0.23712295938043493}, {\"fish_LC50: true\": 1.8426885466197405, \"fish_LC50: predicted\": 1.1696474976571867, \"daphnia_EC50: true\": 1.5830589915999127, \"daphnia_EC50: predicted\": 0.24744403895610678, \"algea_EC50: true\": -4.961845129926823, \"algea_EC50: predicted\": 2.348075745848557, \"rat_LD50: true\": -2.673760170286091, \"rat_LD50: predicted\": -2.726996117847384, \"ecoli_MIC: true\": 4.111420212336377, \"ecoli_MIC: predicted\": 4.265588457854368}, {\"fish_LC50: true\": 2.3420259330588635, \"fish_LC50: predicted\": 2.2578470931082832, \"daphnia_EC50: true\": 1.4664907803807026, \"daphnia_EC50: predicted\": 1.6314533696047926, \"algea_EC50: true\": 6.194405391104673, \"algea_EC50: predicted\": 2.5011669042081497, \"rat_LD50: true\": -2.043, \"rat_LD50: predicted\": -2.365116643221703, \"ecoli_MIC: true\": -7.138354672381439, \"ecoli_MIC: predicted\": -0.7701948693143832}, {\"fish_LC50: true\": 2.0988466716867578, \"fish_LC50: predicted\": 2.1948892526194697, \"daphnia_EC50: true\": 1.5272421217378707, \"daphnia_EC50: predicted\": 1.7114009715915517, \"algea_EC50: true\": 1.1314021114911006, \"algea_EC50: predicted\": 2.461460561240299, \"rat_LD50: true\": -2.568834533781907, \"rat_LD50: predicted\": -2.520278683674011, \"ecoli_MIC: true\": 3.074302998016769, \"ecoli_MIC: predicted\": 2.5608939472285766}, {\"fish_LC50: true\": 2.2453546066863908, \"fish_LC50: predicted\": 2.762269400225692, \"daphnia_EC50: true\": 1.4889591798728645, \"daphnia_EC50: predicted\": 1.6525125687027282, \"algea_EC50: true\": 4.02535169073515, \"algea_EC50: predicted\": 2.7197334417775485, \"rat_LD50: true\": -2.1590000000000003, \"rat_LD50: predicted\": -2.322600015197768, \"ecoli_MIC: true\": -5.092593301633465, \"ecoli_MIC: predicted\": -1.0997909998325404}, {\"fish_LC50: true\": 2.1678416210853086, \"fish_LC50: predicted\": 2.1651286190372656, \"daphnia_EC50: true\": 1.5122081183826808, \"daphnia_EC50: predicted\": 1.5758915234245443, \"algea_EC50: true\": 2.772588722239781, \"algea_EC50: predicted\": 2.5090660499071307, \"rat_LD50: true\": -2.540573322159894, \"rat_LD50: predicted\": -2.6030050155468234, \"ecoli_MIC: true\": 2.7949605032056866, \"ecoli_MIC: predicted\": 4.153039189896491}, {\"fish_LC50: true\": 2.2315606816024527, \"fish_LC50: predicted\": 2.643540337513924, \"daphnia_EC50: true\": 1.512218092240282, \"daphnia_EC50: predicted\": 1.8265252627467312, \"algea_EC50: true\": 5.579729825986222, \"algea_EC50: predicted\": 2.7554533927355624, \"rat_LD50: true\": -3.28, \"rat_LD50: predicted\": -2.5589471957908687, \"ecoli_MIC: true\": 19.1104136157296, \"ecoli_MIC: predicted\": 4.024940918698186}, {\"fish_LC50: true\": 2.008333011274658, \"fish_LC50: predicted\": 1.9787332209371438, \"daphnia_EC50: true\": 1.546965053433432, \"daphnia_EC50: predicted\": 1.1657392735932592, \"algea_EC50: true\": -1.0216512475319814, \"algea_EC50: predicted\": 2.405807470421798, \"rat_LD50: true\": -2.6059100840053366, \"rat_LD50: predicted\": -2.752673065657836, \"ecoli_MIC: true\": 3.4407691224853636, \"ecoli_MIC: predicted\": 6.681681674300957}, {\"fish_LC50: true\": 2.2022933212144196, \"fish_LC50: predicted\": 2.4728981285163094, \"daphnia_EC50: true\": 1.504701090986515, \"daphnia_EC50: predicted\": 1.763739241535972, \"algea_EC50: true\": 3.5920931854262443, \"algea_EC50: predicted\": 2.5684112829158727, \"rat_LD50: true\": -2.5264614661968903, \"rat_LD50: predicted\": -2.4634132815118397, \"ecoli_MIC: true\": 2.65547458505597, \"ecoli_MIC: predicted\": 1.7086873255314519}, {\"fish_LC50: true\": 2.233345512217298, \"fish_LC50: predicted\": 2.364863888475239, \"daphnia_EC50: true\": 1.4979348168201483, \"daphnia_EC50: predicted\": 1.7662096036215593, \"algea_EC50: true\": 4.330733340286331, \"algea_EC50: predicted\": 2.3596933401440263, \"rat_LD50: true\": -2.513742092548398, \"rat_LD50: predicted\": -2.334726602039652, \"ecoli_MIC: true\": 2.5297523897401533, \"ecoli_MIC: predicted\": -1.181691675531484}, {\"fish_LC50: true\": 2.065428079228816, \"fish_LC50: predicted\": 1.9182527941257788, \"daphnia_EC50: true\": 1.5345240349143907, \"daphnia_EC50: predicted\": 1.3872214405547256, \"algea_EC50: true\": 0.33647223662121295, \"algea_EC50: predicted\": 2.2084980129456007, \"rat_LD50: true\": -2.5825232156607507, \"rat_LD50: predicted\": -2.385029108391813, \"ecoli_MIC: true\": 3.2096061335600794, \"ecoli_MIC: predicted\": -1.0153492999717204}, {\"fish_LC50: true\": 2.159112529967821, \"fish_LC50: predicted\": 2.6006539204742585, \"daphnia_EC50: true\": 1.51411018782823, \"daphnia_EC50: predicted\": 1.9006518627784075, \"algea_EC50: true\": 2.5649493574615367, \"algea_EC50: predicted\": 2.646625760108867, \"rat_LD50: true\": -2.5441488692613787, \"rat_LD50: predicted\": -2.3124737457958555, \"ecoli_MIC: true\": 2.8303023088225814, \"ecoli_MIC: predicted\": -1.2169049930333298}, {\"fish_LC50: true\": 2.242281525853798, \"fish_LC50: predicted\": 3.528542108764242, \"daphnia_EC50: true\": 1.4959876589460848, \"daphnia_EC50: predicted\": 2.325641900064754, \"algea_EC50: true\": 4.543294782270004, \"algea_EC50: predicted\": 2.921461818135564, \"rat_LD50: true\": -2.510081787342861, \"rat_LD50: predicted\": -1.869957190694406, \"ecoli_MIC: true\": 2.493572808993221, \"ecoli_MIC: predicted\": -9.191103788510222}, {\"fish_LC50: true\": 2.213141844640667, \"fish_LC50: predicted\": 2.7052368957739112, \"daphnia_EC50: true\": 1.5023371971216477, \"daphnia_EC50: predicted\": 1.9850105761304075, \"algea_EC50: true\": 3.8501476017100575, \"algea_EC50: predicted\": 2.815752860137628, \"rat_LD50: true\": -2.52201777257861, \"rat_LD50: predicted\": -1.9854565344025674, \"ecoli_MIC: true\": 2.6115517526555294, \"ecoli_MIC: predicted\": -7.9697114689009325}, {\"fish_LC50: true\": 2.216903999023458, \"fish_LC50: predicted\": 2.1940179951492844, \"daphnia_EC50: true\": 1.5015174234700055, \"daphnia_EC50: predicted\": 1.7756000473546723, \"algea_EC50: true\": 3.93963817246112, \"algea_EC50: predicted\": 2.5839770032290263, \"rat_LD50: true\": -2.5204767461398085, \"rat_LD50: predicted\": -2.3882984772276403, \"ecoli_MIC: true\": 2.5963197740786015, \"ecoli_MIC: predicted\": -0.16613510696895695}, {\"fish_LC50: true\": 2.3654699829766344, \"fish_LC50: predicted\": 2.063855658507423, \"daphnia_EC50: true\": 1.4577216487967561, \"daphnia_EC50: predicted\": 1.5252030320432866, \"algea_EC50: true\": 6.411818267709897, \"algea_EC50: predicted\": 2.612420606669848, \"rat_LD50: true\": -1.832, \"rat_LD50: predicted\": -2.5001409165113184, \"ecoli_MIC: true\": -11.593547885069093, \"ecoli_MIC: predicted\": 1.8128933278953543}, {\"fish_LC50: true\": 2.2591478727134557, \"fish_LC50: predicted\": 2.3055331969091224, \"daphnia_EC50: true\": 1.4923124810165547, \"daphnia_EC50: predicted\": 1.7600144418560757, \"algea_EC50: true\": 4.944495491591711, \"algea_EC50: predicted\": 2.9196938251433253, \"rat_LD50: true\": -2.5031731164612063, \"rat_LD50: predicted\": -2.6648356359460537, \"ecoli_MIC: true\": 2.425285384316524, \"ecoli_MIC: predicted\": 5.890950291018584}, {\"fish_LC50: true\": 2.2491182406681673, \"fish_LC50: predicted\": 2.2822044235734307, \"daphnia_EC50: true\": 1.494497938403427, \"daphnia_EC50: predicted\": 1.6032631147440128, \"algea_EC50: true\": 4.705920089088233, \"algea_EC50: predicted\": 2.79411060950506, \"rat_LD50: true\": -2.507281381721109, \"rat_LD50: predicted\": -1.7327766247048175, \"ecoli_MIC: true\": 2.4658927398112453, \"ecoli_MIC: predicted\": -14.230162168575973}, {\"fish_LC50: true\": 2.31992652796918, \"fish_LC50: predicted\": 3.162663566481088, \"daphnia_EC50: true\": 1.479068808617285, \"daphnia_EC50: predicted\": 1.9135815786601424, \"algea_EC50: true\": 6.390240667065349, \"algea_EC50: predicted\": 2.7412676767058883, \"rat_LD50: true\": -2.4782774037567723, \"rat_LD50: predicted\": -2.111018350401735, \"ecoli_MIC: true\": 2.179208514365932, \"ecoli_MIC: predicted\": -4.91040142801704}, {\"fish_LC50: true\": 2.186217256032023, \"fish_LC50: predicted\": 1.831357255170225, \"daphnia_EC50: true\": 1.4811346820215405, \"daphnia_EC50: predicted\": 1.334515642428324, \"algea_EC50: true\": 0.6936470556015963, \"algea_EC50: predicted\": 2.4596579569247847, \"rat_LD50: true\": -1.042, \"rat_LD50: predicted\": -2.1713066041615523, \"ecoli_MIC: true\": -29.560274446129604, \"ecoli_MIC: predicted\": -5.685696809676749}, {\"fish_LC50: true\": 2.249647048566189, \"fish_LC50: predicted\": 2.3318125158088847, \"daphnia_EC50: true\": 1.4943827111327082, \"daphnia_EC50: predicted\": 1.6944795202470782, \"algea_EC50: true\": 4.718498871295094, \"algea_EC50: predicted\": 2.490655765833091, \"rat_LD50: true\": -2.507064775258707, \"rat_LD50: predicted\": -2.350760812622044, \"ecoli_MIC: true\": 2.4637517350161247, \"ecoli_MIC: predicted\": -0.9319456490302587}, {\"fish_LC50: true\": 2.240686333316873, \"fish_LC50: predicted\": 2.518465295897144, \"daphnia_EC50: true\": 1.4963352514896044, \"daphnia_EC50: predicted\": 1.9342986156107536, \"algea_EC50: true\": 4.505349850705881, \"algea_EC50: predicted\": 2.832058286915553, \"rat_LD50: true\": -2.5107351985600217, \"rat_LD50: predicted\": -2.1007571386000783, \"ecoli_MIC: true\": 2.500031326129026, \"ecoli_MIC: predicted\": -5.753883392603834}, {\"fish_LC50: true\": 2.3195723584474877, \"fish_LC50: predicted\": 2.7028820914042306, \"daphnia_EC50: true\": 1.479145982176, \"daphnia_EC50: predicted\": 2.3073724002316993, \"algea_EC50: true\": 6.3818160174060985, \"algea_EC50: predicted\": 3.0135363931603494, \"rat_LD50: true\": -2.478422476111921, \"rat_LD50: predicted\": -1.8818499823544357, \"ecoli_MIC: true\": 2.180642454076569, \"ecoli_MIC: predicted\": -9.79152485855977}, {\"fish_LC50: true\": 2.2158773785859793, \"fish_LC50: predicted\": 2.3898367348426257, \"daphnia_EC50: true\": 1.5017411241210894, \"daphnia_EC50: predicted\": 2.1234762258573285, \"algea_EC50: true\": 3.915217896324665, \"algea_EC50: predicted\": 2.7058187911565947, \"rat_LD50: true\": -2.5208972629702777, \"rat_LD50: predicted\": -2.175988043497467, \"ecoli_MIC: true\": 2.600476291573486, \"ecoli_MIC: predicted\": -4.089168614121291}, {\"fish_LC50: true\": 2.2115930791361436, \"fish_LC50: predicted\": 3.3403214297351562, \"daphnia_EC50: true\": 1.502674673212205, \"daphnia_EC50: predicted\": 2.147135623506994, \"algea_EC50: true\": 3.813307032488989, \"algea_EC50: predicted\": 2.7533372790675763, \"rat_LD50: true\": -2.5226521666909023, \"rat_LD50: predicted\": -2.597245089714605, \"ecoli_MIC: true\": 2.6178222988865727, \"ecoli_MIC: predicted\": 5.917195536875711}, {\"fish_LC50: true\": 2.216822130110394, \"fish_LC50: predicted\": 1.963433809392302, \"daphnia_EC50: true\": 1.5015352627107532, \"daphnia_EC50: predicted\": 1.2751204299068013, \"algea_EC50: true\": 3.937690752176724, \"algea_EC50: predicted\": 2.501848333798244, \"rat_LD50: true\": -2.5205102806912203, \"rat_LD50: predicted\": -2.7787878996280937, \"ecoli_MIC: true\": 2.596651239883357, \"ecoli_MIC: predicted\": 7.361594443137467}, {\"fish_LC50: true\": 2.353298017053042, \"fish_LC50: predicted\": 2.7809515503891595, \"daphnia_EC50: true\": 1.458633233406097, \"daphnia_EC50: predicted\": 1.7743136239287822, \"algea_EC50: true\": 5.960489742808553, \"algea_EC50: predicted\": 2.5739482162960052, \"rat_LD50: true\": -1.741, \"rat_LD50: predicted\": -2.2641723924123567, \"ecoli_MIC: true\": -13.622307547907873, \"ecoli_MIC: predicted\": -2.2159734132483457}, {\"fish_LC50: true\": 2.3417045282751516, \"fish_LC50: predicted\": 2.2655195593972017, \"daphnia_EC50: true\": 1.4743233811255152, \"daphnia_EC50: predicted\": 1.9236605776972664, \"algea_EC50: true\": 6.9082751438289876, \"algea_EC50: predicted\": 2.548942829965328, \"rat_LD50: true\": -2.4693568569527518, \"rat_LD50: predicted\": -2.4188460872997135, \"ecoli_MIC: true\": 2.0910350902168773, \"ecoli_MIC: predicted\": 0.7193592574805523}, {\"fish_LC50: true\": 2.35928511912838, \"fish_LC50: predicted\": 2.098297895716058, \"daphnia_EC50: true\": 1.47049256938962, \"daphnia_EC50: predicted\": 1.636324109071658, \"algea_EC50: true\": 7.326465613840323, \"algea_EC50: predicted\": 2.4973623924745008, \"rat_LD50: true\": -2.4621556226178534, \"rat_LD50: predicted\": -2.596405979399884, \"ecoli_MIC: true\": 2.0198558785208434, \"ecoli_MIC: predicted\": 4.009026265822578}, {\"fish_LC50: true\": 2.4237276437552637, \"fish_LC50: predicted\": 2.27855158748839, \"daphnia_EC50: true\": 1.4564505396482446, \"daphnia_EC50: predicted\": 1.6983542600608355, \"algea_EC50: true\": 8.859363449152088, \"algea_EC50: predicted\": 2.9761551719762185, \"rat_LD50: true\": -2.435759142269463, \"rat_LD50: predicted\": -1.9732758779827662, \"ecoli_MIC: true\": 1.7589449602851914, \"ecoli_MIC: predicted\": -8.96257216788078}, {\"fish_LC50: true\": 2.1995299416104572, \"fish_LC50: predicted\": 2.1044389526960243, \"daphnia_EC50: true\": 1.5053032315576544, \"daphnia_EC50: predicted\": 1.563443122251187, \"algea_EC50: true\": 3.5263605246161616, \"algea_EC50: predicted\": 2.435099830013214, \"rat_LD50: true\": -2.5275933817423044, \"rat_LD50: predicted\": -2.450944314216409, \"ecoli_MIC: true\": 2.666662785922938, \"ecoli_MIC: predicted\": 0.8177570211257241}, {\"fish_LC50: true\": 2.1330883237136433, \"fish_LC50: predicted\": 2.1092637774137706, \"daphnia_EC50: true\": 1.5197808638349954, \"daphnia_EC50: predicted\": 1.5203405203714322, \"algea_EC50: true\": 1.9459101490553128, \"algea_EC50: predicted\": 2.5186201449587684, \"rat_LD50: true\": -2.5548087162017032, \"rat_LD50: predicted\": -2.5379768256151416, \"ecoli_MIC: true\": 2.935667509665393, \"ecoli_MIC: predicted\": 2.6465973585583895}, {\"fish_LC50: true\": 2.0943109593872578, \"fish_LC50: predicted\": 1.5107326556790677, \"daphnia_EC50: true\": 1.5226260343816023, \"daphnia_EC50: predicted\": 0.9208593654691183, \"algea_EC50: true\": 0.5025918188388871, \"algea_EC50: predicted\": 1.7796845670599954, \"rat_LD50: true\": -2.261, \"rat_LD50: predicted\": -2.4172360102665276, \"ecoli_MIC: true\": -3.611813664362245, \"ecoli_MIC: predicted\": -1.3384968078460338}], \"data-8dd6c8e74c1e7ee495d701928b16d9fe\": [{\"algea_EC50: true\": -5.991464547107983, \"algea_EC50: predicted\": -5.991464547107983}, {\"algea_EC50: true\": 8.859363449152088, \"algea_EC50: predicted\": 8.859363449152088}]}}, {\"mode\": \"vega-lite\"});\n",
       "</script>"
      ],
      "text/plain": [
       "alt.LayerChart(...)"
      ]
     },
     "execution_count": 77,
     "metadata": {},
     "output_type": "execute_result"
    }
   ],
   "source": [
    "iterpute_model.visualize('pair_predict', iterpute_test, untransform=True, task='algea_EC50')"
   ]
  },
  {
   "cell_type": "markdown",
   "id": "7e9544c6-b717-41db-b9bc-04e1dbda3a1f",
   "metadata": {},
   "source": [
    "> Interpolating sparse targets does not produce a good model in this case, with an R2 of about 0.134. It seems to be predicting about the same thing. This likely comes about from the interpolation algorithm between targets landing on the same few datapoints due to limited data overlap."
   ]
  },
  {
   "cell_type": "markdown",
   "id": "3363d606-8b6b-4483-bf34-a74835e63776",
   "metadata": {},
   "source": [
    "### Try a Graph multitask"
   ]
  },
  {
   "cell_type": "markdown",
   "id": "df256f57-b651-48b4-aee2-56d9b755e1b8",
   "metadata": {},
   "source": [
    "In this case, instead of imputation, the neural network architectures can accept a weight matrix in the same shape as the targets, thus sparse data can be masked out. \n",
    "\n",
    "First retrieve the hyperparameters found best for this task."
   ]
  },
  {
   "cell_type": "code",
   "execution_count": 131,
   "id": "d6a98f69-6ce6-4d8b-9648-1bf7919badf7",
   "metadata": {
    "tags": []
   },
   "outputs": [],
   "source": [
    "graph_study = optuna.load_study(\n",
    "    study_name='opt',\n",
    "    storage=\"sqlite:///regression/graph_r.db\"\n",
    ")"
   ]
  },
  {
   "cell_type": "code",
   "execution_count": 132,
   "id": "70fddd1f-1ac0-497d-8879-f6c0f66dd2f4",
   "metadata": {
    "collapsed": true,
    "jupyter": {
     "outputs_hidden": true
    },
    "tags": []
   },
   "outputs": [
    {
     "name": "stderr",
     "output_type": "stream",
     "text": [
      "/Users/ek/miniconda3/envs/cytoxnet/lib/python3.6/site-packages/optuna/distributions.py:430: UserWarning: Choices for a categorical distribution should be a tuple of None, bool, int, float and str for persistent storage but contains [32] which is of type list.\n",
      "  warnings.warn(message)\n",
      "/Users/ek/miniconda3/envs/cytoxnet/lib/python3.6/site-packages/optuna/distributions.py:430: UserWarning: Choices for a categorical distribution should be a tuple of None, bool, int, float and str for persistent storage but contains [64] which is of type list.\n",
      "  warnings.warn(message)\n",
      "/Users/ek/miniconda3/envs/cytoxnet/lib/python3.6/site-packages/optuna/distributions.py:430: UserWarning: Choices for a categorical distribution should be a tuple of None, bool, int, float and str for persistent storage but contains [128] which is of type list.\n",
      "  warnings.warn(message)\n",
      "/Users/ek/miniconda3/envs/cytoxnet/lib/python3.6/site-packages/optuna/distributions.py:430: UserWarning: Choices for a categorical distribution should be a tuple of None, bool, int, float and str for persistent storage but contains [32, 32] which is of type list.\n",
      "  warnings.warn(message)\n",
      "/Users/ek/miniconda3/envs/cytoxnet/lib/python3.6/site-packages/optuna/distributions.py:430: UserWarning: Choices for a categorical distribution should be a tuple of None, bool, int, float and str for persistent storage but contains [64, 64] which is of type list.\n",
      "  warnings.warn(message)\n",
      "/Users/ek/miniconda3/envs/cytoxnet/lib/python3.6/site-packages/optuna/distributions.py:430: UserWarning: Choices for a categorical distribution should be a tuple of None, bool, int, float and str for persistent storage but contains [128, 128] which is of type list.\n",
      "  warnings.warn(message)\n",
      "/Users/ek/miniconda3/envs/cytoxnet/lib/python3.6/site-packages/optuna/distributions.py:430: UserWarning: Choices for a categorical distribution should be a tuple of None, bool, int, float and str for persistent storage but contains [32, 32, 32] which is of type list.\n",
      "  warnings.warn(message)\n",
      "/Users/ek/miniconda3/envs/cytoxnet/lib/python3.6/site-packages/optuna/distributions.py:430: UserWarning: Choices for a categorical distribution should be a tuple of None, bool, int, float and str for persistent storage but contains [64, 64, 64] which is of type list.\n",
      "  warnings.warn(message)\n",
      "/Users/ek/miniconda3/envs/cytoxnet/lib/python3.6/site-packages/optuna/distributions.py:430: UserWarning: Choices for a categorical distribution should be a tuple of None, bool, int, float and str for persistent storage but contains [128, 128, 128] which is of type list.\n",
      "  warnings.warn(message)\n"
     ]
    },
    {
     "data": {
      "text/html": [
       "<div>\n",
       "<style scoped>\n",
       "    .dataframe tbody tr th:only-of-type {\n",
       "        vertical-align: middle;\n",
       "    }\n",
       "\n",
       "    .dataframe tbody tr th {\n",
       "        vertical-align: top;\n",
       "    }\n",
       "\n",
       "    .dataframe thead th {\n",
       "        text-align: right;\n",
       "    }\n",
       "</style>\n",
       "<table border=\"1\" class=\"dataframe\">\n",
       "  <thead>\n",
       "    <tr style=\"text-align: right;\">\n",
       "      <th></th>\n",
       "      <th>number</th>\n",
       "      <th>value</th>\n",
       "      <th>datetime_start</th>\n",
       "      <th>datetime_complete</th>\n",
       "      <th>duration</th>\n",
       "      <th>params_batch_size</th>\n",
       "      <th>params_dense_layer_size</th>\n",
       "      <th>params_dropout</th>\n",
       "      <th>params_graph_conv_layers</th>\n",
       "      <th>params_number_atom_features</th>\n",
       "      <th>system_attrs_fail_reason</th>\n",
       "      <th>state</th>\n",
       "    </tr>\n",
       "  </thead>\n",
       "  <tbody>\n",
       "    <tr>\n",
       "      <th>0</th>\n",
       "      <td>0</td>\n",
       "      <td>NaN</td>\n",
       "      <td>2021-05-31 14:45:26.986072</td>\n",
       "      <td>2021-05-31 14:45:27.304583</td>\n",
       "      <td>0 days 00:00:00.318511</td>\n",
       "      <td>100</td>\n",
       "      <td>244</td>\n",
       "      <td>0.147496</td>\n",
       "      <td>[64, 64, 64]</td>\n",
       "      <td>125</td>\n",
       "      <td>Trial 0 failed because of the following error:...</td>\n",
       "      <td>FAIL</td>\n",
       "    </tr>\n",
       "    <tr>\n",
       "      <th>1</th>\n",
       "      <td>1</td>\n",
       "      <td>NaN</td>\n",
       "      <td>2021-05-31 15:14:44.429585</td>\n",
       "      <td>NaT</td>\n",
       "      <td>NaT</td>\n",
       "      <td>300</td>\n",
       "      <td>316</td>\n",
       "      <td>0.186952</td>\n",
       "      <td>[64, 64]</td>\n",
       "      <td>125</td>\n",
       "      <td>NaN</td>\n",
       "      <td>RUNNING</td>\n",
       "    </tr>\n",
       "    <tr>\n",
       "      <th>2</th>\n",
       "      <td>2</td>\n",
       "      <td>NaN</td>\n",
       "      <td>2021-05-31 15:15:00.287964</td>\n",
       "      <td>NaT</td>\n",
       "      <td>NaT</td>\n",
       "      <td>225</td>\n",
       "      <td>232</td>\n",
       "      <td>0.282771</td>\n",
       "      <td>[32]</td>\n",
       "      <td>50</td>\n",
       "      <td>NaN</td>\n",
       "      <td>RUNNING</td>\n",
       "    </tr>\n",
       "    <tr>\n",
       "      <th>3</th>\n",
       "      <td>3</td>\n",
       "      <td>NaN</td>\n",
       "      <td>2021-05-31 15:15:12.146448</td>\n",
       "      <td>NaT</td>\n",
       "      <td>NaT</td>\n",
       "      <td>275</td>\n",
       "      <td>232</td>\n",
       "      <td>0.097572</td>\n",
       "      <td>[128, 128]</td>\n",
       "      <td>125</td>\n",
       "      <td>NaN</td>\n",
       "      <td>RUNNING</td>\n",
       "    </tr>\n",
       "    <tr>\n",
       "      <th>4</th>\n",
       "      <td>4</td>\n",
       "      <td>NaN</td>\n",
       "      <td>2021-05-31 15:15:12.608466</td>\n",
       "      <td>NaT</td>\n",
       "      <td>NaT</td>\n",
       "      <td>75</td>\n",
       "      <td>232</td>\n",
       "      <td>0.211999</td>\n",
       "      <td>[128, 128]</td>\n",
       "      <td>75</td>\n",
       "      <td>NaN</td>\n",
       "      <td>RUNNING</td>\n",
       "    </tr>\n",
       "    <tr>\n",
       "      <th>...</th>\n",
       "      <td>...</td>\n",
       "      <td>...</td>\n",
       "      <td>...</td>\n",
       "      <td>...</td>\n",
       "      <td>...</td>\n",
       "      <td>...</td>\n",
       "      <td>...</td>\n",
       "      <td>...</td>\n",
       "      <td>...</td>\n",
       "      <td>...</td>\n",
       "      <td>...</td>\n",
       "      <td>...</td>\n",
       "    </tr>\n",
       "    <tr>\n",
       "      <th>305</th>\n",
       "      <td>305</td>\n",
       "      <td>0.399048</td>\n",
       "      <td>2021-06-01 12:20:35.679742</td>\n",
       "      <td>2021-06-01 12:43:48.598872</td>\n",
       "      <td>0 days 00:23:12.919130</td>\n",
       "      <td>175</td>\n",
       "      <td>124</td>\n",
       "      <td>0.012163</td>\n",
       "      <td>[128, 128, 128]</td>\n",
       "      <td>25</td>\n",
       "      <td>NaN</td>\n",
       "      <td>COMPLETE</td>\n",
       "    </tr>\n",
       "    <tr>\n",
       "      <th>306</th>\n",
       "      <td>306</td>\n",
       "      <td>0.421521</td>\n",
       "      <td>2021-06-01 12:21:40.520381</td>\n",
       "      <td>2021-06-01 12:44:57.102188</td>\n",
       "      <td>0 days 00:23:16.581807</td>\n",
       "      <td>200</td>\n",
       "      <td>124</td>\n",
       "      <td>0.038449</td>\n",
       "      <td>[128, 128, 128]</td>\n",
       "      <td>25</td>\n",
       "      <td>NaN</td>\n",
       "      <td>COMPLETE</td>\n",
       "    </tr>\n",
       "    <tr>\n",
       "      <th>307</th>\n",
       "      <td>307</td>\n",
       "      <td>0.398852</td>\n",
       "      <td>2021-06-01 12:22:57.766000</td>\n",
       "      <td>2021-06-01 12:49:31.085121</td>\n",
       "      <td>0 days 00:26:33.319121</td>\n",
       "      <td>175</td>\n",
       "      <td>304</td>\n",
       "      <td>0.039311</td>\n",
       "      <td>[128, 128, 128]</td>\n",
       "      <td>50</td>\n",
       "      <td>NaN</td>\n",
       "      <td>COMPLETE</td>\n",
       "    </tr>\n",
       "    <tr>\n",
       "      <th>308</th>\n",
       "      <td>308</td>\n",
       "      <td>0.383483</td>\n",
       "      <td>2021-06-01 12:49:31.200158</td>\n",
       "      <td>2021-06-01 12:56:53.597258</td>\n",
       "      <td>0 days 00:07:22.397100</td>\n",
       "      <td>200</td>\n",
       "      <td>88</td>\n",
       "      <td>0.035785</td>\n",
       "      <td>[32, 32, 32]</td>\n",
       "      <td>25</td>\n",
       "      <td>NaN</td>\n",
       "      <td>COMPLETE</td>\n",
       "    </tr>\n",
       "    <tr>\n",
       "      <th>309</th>\n",
       "      <td>309</td>\n",
       "      <td>0.387754</td>\n",
       "      <td>2021-06-01 12:56:53.712423</td>\n",
       "      <td>2021-06-01 13:04:41.932863</td>\n",
       "      <td>0 days 00:07:48.220440</td>\n",
       "      <td>200</td>\n",
       "      <td>124</td>\n",
       "      <td>0.040358</td>\n",
       "      <td>[128]</td>\n",
       "      <td>25</td>\n",
       "      <td>NaN</td>\n",
       "      <td>COMPLETE</td>\n",
       "    </tr>\n",
       "  </tbody>\n",
       "</table>\n",
       "<p>310 rows × 12 columns</p>\n",
       "</div>"
      ],
      "text/plain": [
       "     number     value             datetime_start          datetime_complete  \\\n",
       "0         0       NaN 2021-05-31 14:45:26.986072 2021-05-31 14:45:27.304583   \n",
       "1         1       NaN 2021-05-31 15:14:44.429585                        NaT   \n",
       "2         2       NaN 2021-05-31 15:15:00.287964                        NaT   \n",
       "3         3       NaN 2021-05-31 15:15:12.146448                        NaT   \n",
       "4         4       NaN 2021-05-31 15:15:12.608466                        NaT   \n",
       "..      ...       ...                        ...                        ...   \n",
       "305     305  0.399048 2021-06-01 12:20:35.679742 2021-06-01 12:43:48.598872   \n",
       "306     306  0.421521 2021-06-01 12:21:40.520381 2021-06-01 12:44:57.102188   \n",
       "307     307  0.398852 2021-06-01 12:22:57.766000 2021-06-01 12:49:31.085121   \n",
       "308     308  0.383483 2021-06-01 12:49:31.200158 2021-06-01 12:56:53.597258   \n",
       "309     309  0.387754 2021-06-01 12:56:53.712423 2021-06-01 13:04:41.932863   \n",
       "\n",
       "                  duration  params_batch_size  params_dense_layer_size  \\\n",
       "0   0 days 00:00:00.318511                100                      244   \n",
       "1                      NaT                300                      316   \n",
       "2                      NaT                225                      232   \n",
       "3                      NaT                275                      232   \n",
       "4                      NaT                 75                      232   \n",
       "..                     ...                ...                      ...   \n",
       "305 0 days 00:23:12.919130                175                      124   \n",
       "306 0 days 00:23:16.581807                200                      124   \n",
       "307 0 days 00:26:33.319121                175                      304   \n",
       "308 0 days 00:07:22.397100                200                       88   \n",
       "309 0 days 00:07:48.220440                200                      124   \n",
       "\n",
       "     params_dropout params_graph_conv_layers  params_number_atom_features  \\\n",
       "0          0.147496             [64, 64, 64]                          125   \n",
       "1          0.186952                 [64, 64]                          125   \n",
       "2          0.282771                     [32]                           50   \n",
       "3          0.097572               [128, 128]                          125   \n",
       "4          0.211999               [128, 128]                           75   \n",
       "..              ...                      ...                          ...   \n",
       "305        0.012163          [128, 128, 128]                           25   \n",
       "306        0.038449          [128, 128, 128]                           25   \n",
       "307        0.039311          [128, 128, 128]                           50   \n",
       "308        0.035785             [32, 32, 32]                           25   \n",
       "309        0.040358                    [128]                           25   \n",
       "\n",
       "                              system_attrs_fail_reason     state  \n",
       "0    Trial 0 failed because of the following error:...      FAIL  \n",
       "1                                                  NaN   RUNNING  \n",
       "2                                                  NaN   RUNNING  \n",
       "3                                                  NaN   RUNNING  \n",
       "4                                                  NaN   RUNNING  \n",
       "..                                                 ...       ...  \n",
       "305                                                NaN  COMPLETE  \n",
       "306                                                NaN  COMPLETE  \n",
       "307                                                NaN  COMPLETE  \n",
       "308                                                NaN  COMPLETE  \n",
       "309                                                NaN  COMPLETE  \n",
       "\n",
       "[310 rows x 12 columns]"
      ]
     },
     "execution_count": 132,
     "metadata": {},
     "output_type": "execute_result"
    }
   ],
   "source": [
    "graph_results = graph_study.trials_dataframe()\n",
    "graph_results"
   ]
  },
  {
   "cell_type": "code",
   "execution_count": 133,
   "id": "7b0e6a24-3a9d-428b-bf6b-f9e07159a4b4",
   "metadata": {
    "collapsed": true,
    "jupyter": {
     "outputs_hidden": true
    },
    "tags": []
   },
   "outputs": [
    {
     "name": "stderr",
     "output_type": "stream",
     "text": [
      "/Users/ek/miniconda3/envs/cytoxnet/lib/python3.6/site-packages/optuna/distributions.py:430: UserWarning: Choices for a categorical distribution should be a tuple of None, bool, int, float and str for persistent storage but contains [32] which is of type list.\n",
      "  warnings.warn(message)\n",
      "/Users/ek/miniconda3/envs/cytoxnet/lib/python3.6/site-packages/optuna/distributions.py:430: UserWarning: Choices for a categorical distribution should be a tuple of None, bool, int, float and str for persistent storage but contains [64] which is of type list.\n",
      "  warnings.warn(message)\n",
      "/Users/ek/miniconda3/envs/cytoxnet/lib/python3.6/site-packages/optuna/distributions.py:430: UserWarning: Choices for a categorical distribution should be a tuple of None, bool, int, float and str for persistent storage but contains [128] which is of type list.\n",
      "  warnings.warn(message)\n",
      "/Users/ek/miniconda3/envs/cytoxnet/lib/python3.6/site-packages/optuna/distributions.py:430: UserWarning: Choices for a categorical distribution should be a tuple of None, bool, int, float and str for persistent storage but contains [32, 32] which is of type list.\n",
      "  warnings.warn(message)\n",
      "/Users/ek/miniconda3/envs/cytoxnet/lib/python3.6/site-packages/optuna/distributions.py:430: UserWarning: Choices for a categorical distribution should be a tuple of None, bool, int, float and str for persistent storage but contains [64, 64] which is of type list.\n",
      "  warnings.warn(message)\n",
      "/Users/ek/miniconda3/envs/cytoxnet/lib/python3.6/site-packages/optuna/distributions.py:430: UserWarning: Choices for a categorical distribution should be a tuple of None, bool, int, float and str for persistent storage but contains [128, 128] which is of type list.\n",
      "  warnings.warn(message)\n",
      "/Users/ek/miniconda3/envs/cytoxnet/lib/python3.6/site-packages/optuna/distributions.py:430: UserWarning: Choices for a categorical distribution should be a tuple of None, bool, int, float and str for persistent storage but contains [32, 32, 32] which is of type list.\n",
      "  warnings.warn(message)\n",
      "/Users/ek/miniconda3/envs/cytoxnet/lib/python3.6/site-packages/optuna/distributions.py:430: UserWarning: Choices for a categorical distribution should be a tuple of None, bool, int, float and str for persistent storage but contains [64, 64, 64] which is of type list.\n",
      "  warnings.warn(message)\n",
      "/Users/ek/miniconda3/envs/cytoxnet/lib/python3.6/site-packages/optuna/distributions.py:430: UserWarning: Choices for a categorical distribution should be a tuple of None, bool, int, float and str for persistent storage but contains [128, 128, 128] which is of type list.\n",
      "  warnings.warn(message)\n"
     ]
    }
   ],
   "source": [
    "graph_params = graph_study.best_params"
   ]
  },
  {
   "cell_type": "code",
   "execution_count": 134,
   "id": "d68af6de-4e6c-45d1-b789-64ad0442f1bd",
   "metadata": {},
   "outputs": [
    {
     "data": {
      "text/plain": [
       "{'batch_size': 275,\n",
       " 'dense_layer_size': 88,\n",
       " 'dropout': 0.05190727030105664,\n",
       " 'graph_conv_layers': [128],\n",
       " 'number_atom_features': 50}"
      ]
     },
     "execution_count": 134,
     "metadata": {},
     "output_type": "execute_result"
    }
   ],
   "source": [
    "graph_params"
   ]
  },
  {
   "cell_type": "code",
   "execution_count": 135,
   "id": "dc9d7298-c39f-49b4-9871-8eeef8cc9b19",
   "metadata": {},
   "outputs": [
    {
     "data": {
      "text/plain": [
       "0.4424701576497789"
      ]
     },
     "execution_count": 135,
     "metadata": {},
     "output_type": "execute_result"
    }
   ],
   "source": [
    "graph_study.best_value"
   ]
  },
  {
   "cell_type": "markdown",
   "id": "9d2c59b8-7511-422b-95d1-6c0c21c0f7d6",
   "metadata": {},
   "source": [
    "Prepare data - instead of imputing we use target weights."
   ]
  },
  {
   "cell_type": "code",
   "execution_count": 84,
   "id": "31e6cd73-7730-4075-bc42-f7a1b28cd718",
   "metadata": {},
   "outputs": [],
   "source": [
    "graph = data_f.copy()"
   ]
  },
  {
   "cell_type": "code",
   "execution_count": 85,
   "id": "87108641-880e-4c50-a691-19306b3f55d3",
   "metadata": {},
   "outputs": [],
   "source": [
    "graph_set = dataprep.convert_to_dataset(\n",
    "    graph,\n",
    "    X_col='ConvMolFeaturizer',\n",
    "    y_col=multitask_names\n",
    ")"
   ]
  },
  {
   "cell_type": "code",
   "execution_count": 86,
   "id": "9915fddb-905d-4dda-87ac-8cf6c05c70c7",
   "metadata": {},
   "outputs": [],
   "source": [
    "graph_set = dataprep.handle_sparsity(graph_set)"
   ]
  },
  {
   "cell_type": "code",
   "execution_count": 101,
   "id": "66c9ebb7-7847-46da-8744-6d9a8c99681b",
   "metadata": {},
   "outputs": [],
   "source": [
    "graph_normed, graph_transformations = dataprep.data_transformation(\n",
    "    graph_set, transformations = ['NormalizationTransformer'],\n",
    "    to_transform = ['y']\n",
    ")"
   ]
  },
  {
   "cell_type": "code",
   "execution_count": 102,
   "id": "ab18b600-b555-4895-b782-577f657b60d7",
   "metadata": {},
   "outputs": [],
   "source": [
    "graph_test = graph_normed.select(np.isin(graph_normed.ids, test_index))\n",
    "graph_dev = graph_normed.select(~np.isin(graph_normed.ids, test_index))"
   ]
  },
  {
   "cell_type": "markdown",
   "id": "46887289-33be-4eb8-8f28-cf1ebe3a386d",
   "metadata": {},
   "source": [
    "Train the model on the masked dev set with the best found parameters."
   ]
  },
  {
   "cell_type": "code",
   "execution_count": 110,
   "id": "b35c5e99-6b14-4eca-a7ba-803cb30c9bde",
   "metadata": {},
   "outputs": [],
   "source": [
    "graph_model = ToxModel(\n",
    "    'GraphCNN',\n",
    "    tasks=multitask_names,\n",
    "    transformers=graph_transformations,\n",
    "    mode='regression',\n",
    "    **graph_params\n",
    ")"
   ]
  },
  {
   "cell_type": "code",
   "execution_count": 111,
   "id": "02f424e7-a908-4045-93eb-5eac82f20256",
   "metadata": {
    "collapsed": true,
    "jupyter": {
     "outputs_hidden": true
    },
    "tags": []
   },
   "outputs": [
    {
     "name": "stderr",
     "output_type": "stream",
     "text": [
      "/Users/ek/miniconda3/envs/cytoxnet/lib/python3.6/site-packages/tensorflow/python/framework/indexed_slices.py:437: UserWarning: Converting sparse IndexedSlices(IndexedSlices(indices=Tensor(\"gradient_tape/private__graph_conv_keras_model_4/graph_pool_4/Reshape_14:0\", shape=(1385,), dtype=int32), values=Tensor(\"gradient_tape/private__graph_conv_keras_model_4/graph_pool_4/Reshape_13:0\", shape=(1385, 128), dtype=float32), dense_shape=Tensor(\"gradient_tape/private__graph_conv_keras_model_4/graph_pool_4/Cast_4:0\", shape=(2,), dtype=int32))) to a dense Tensor of unknown shape. This may consume a large amount of memory.\n",
      "  \"shape. This may consume a large amount of memory.\" % value)\n",
      "/Users/ek/miniconda3/envs/cytoxnet/lib/python3.6/site-packages/tensorflow/python/framework/indexed_slices.py:437: UserWarning: Converting sparse IndexedSlices(IndexedSlices(indices=Tensor(\"gradient_tape/private__graph_conv_keras_model_4/graph_pool_4/Reshape_17:0\", shape=(5470,), dtype=int32), values=Tensor(\"gradient_tape/private__graph_conv_keras_model_4/graph_pool_4/Reshape_16:0\", shape=(5470, 128), dtype=float32), dense_shape=Tensor(\"gradient_tape/private__graph_conv_keras_model_4/graph_pool_4/Cast_5:0\", shape=(2,), dtype=int32))) to a dense Tensor of unknown shape. This may consume a large amount of memory.\n",
      "  \"shape. This may consume a large amount of memory.\" % value)\n",
      "/Users/ek/miniconda3/envs/cytoxnet/lib/python3.6/site-packages/tensorflow/python/framework/indexed_slices.py:437: UserWarning: Converting sparse IndexedSlices(IndexedSlices(indices=Tensor(\"gradient_tape/private__graph_conv_keras_model_4/graph_pool_4/Reshape_20:0\", shape=(5211,), dtype=int32), values=Tensor(\"gradient_tape/private__graph_conv_keras_model_4/graph_pool_4/Reshape_19:0\", shape=(5211, 128), dtype=float32), dense_shape=Tensor(\"gradient_tape/private__graph_conv_keras_model_4/graph_pool_4/Cast_6:0\", shape=(2,), dtype=int32))) to a dense Tensor of unknown shape. This may consume a large amount of memory.\n",
      "  \"shape. This may consume a large amount of memory.\" % value)\n",
      "/Users/ek/miniconda3/envs/cytoxnet/lib/python3.6/site-packages/tensorflow/python/framework/indexed_slices.py:437: UserWarning: Converting sparse IndexedSlices(IndexedSlices(indices=Tensor(\"gradient_tape/private__graph_conv_keras_model_4/graph_pool_4/Reshape_23:0\", shape=(528,), dtype=int32), values=Tensor(\"gradient_tape/private__graph_conv_keras_model_4/graph_pool_4/Reshape_22:0\", shape=(528, 128), dtype=float32), dense_shape=Tensor(\"gradient_tape/private__graph_conv_keras_model_4/graph_pool_4/Cast_7:0\", shape=(2,), dtype=int32))) to a dense Tensor of unknown shape. This may consume a large amount of memory.\n",
      "  \"shape. This may consume a large amount of memory.\" % value)\n",
      "/Users/ek/miniconda3/envs/cytoxnet/lib/python3.6/site-packages/tensorflow/python/framework/indexed_slices.py:437: UserWarning: Converting sparse IndexedSlices(IndexedSlices(indices=Tensor(\"gradient_tape/private__graph_conv_keras_model_4/graph_pool_4/Reshape_14:0\", shape=(1505,), dtype=int32), values=Tensor(\"gradient_tape/private__graph_conv_keras_model_4/graph_pool_4/Reshape_13:0\", shape=(1505, 128), dtype=float32), dense_shape=Tensor(\"gradient_tape/private__graph_conv_keras_model_4/graph_pool_4/Cast_4:0\", shape=(2,), dtype=int32))) to a dense Tensor of unknown shape. This may consume a large amount of memory.\n",
      "  \"shape. This may consume a large amount of memory.\" % value)\n",
      "/Users/ek/miniconda3/envs/cytoxnet/lib/python3.6/site-packages/tensorflow/python/framework/indexed_slices.py:437: UserWarning: Converting sparse IndexedSlices(IndexedSlices(indices=Tensor(\"gradient_tape/private__graph_conv_keras_model_4/graph_pool_4/Reshape_17:0\", shape=(6284,), dtype=int32), values=Tensor(\"gradient_tape/private__graph_conv_keras_model_4/graph_pool_4/Reshape_16:0\", shape=(6284, 128), dtype=float32), dense_shape=Tensor(\"gradient_tape/private__graph_conv_keras_model_4/graph_pool_4/Cast_5:0\", shape=(2,), dtype=int32))) to a dense Tensor of unknown shape. This may consume a large amount of memory.\n",
      "  \"shape. This may consume a large amount of memory.\" % value)\n",
      "/Users/ek/miniconda3/envs/cytoxnet/lib/python3.6/site-packages/tensorflow/python/framework/indexed_slices.py:437: UserWarning: Converting sparse IndexedSlices(IndexedSlices(indices=Tensor(\"gradient_tape/private__graph_conv_keras_model_4/graph_pool_4/Reshape_20:0\", shape=(5895,), dtype=int32), values=Tensor(\"gradient_tape/private__graph_conv_keras_model_4/graph_pool_4/Reshape_19:0\", shape=(5895, 128), dtype=float32), dense_shape=Tensor(\"gradient_tape/private__graph_conv_keras_model_4/graph_pool_4/Cast_6:0\", shape=(2,), dtype=int32))) to a dense Tensor of unknown shape. This may consume a large amount of memory.\n",
      "  \"shape. This may consume a large amount of memory.\" % value)\n",
      "/Users/ek/miniconda3/envs/cytoxnet/lib/python3.6/site-packages/tensorflow/python/framework/indexed_slices.py:437: UserWarning: Converting sparse IndexedSlices(IndexedSlices(indices=Tensor(\"gradient_tape/private__graph_conv_keras_model_4/graph_pool_4/Reshape_23:0\", shape=(540,), dtype=int32), values=Tensor(\"gradient_tape/private__graph_conv_keras_model_4/graph_pool_4/Reshape_22:0\", shape=(540, 128), dtype=float32), dense_shape=Tensor(\"gradient_tape/private__graph_conv_keras_model_4/graph_pool_4/Cast_7:0\", shape=(2,), dtype=int32))) to a dense Tensor of unknown shape. This may consume a large amount of memory.\n",
      "  \"shape. This may consume a large amount of memory.\" % value)\n",
      "/Users/ek/miniconda3/envs/cytoxnet/lib/python3.6/site-packages/tensorflow/python/framework/indexed_slices.py:437: UserWarning: Converting sparse IndexedSlices(IndexedSlices(indices=Tensor(\"gradient_tape/private__graph_conv_keras_model_4/graph_pool_4/Reshape_14:0\", shape=(None,), dtype=int32), values=Tensor(\"gradient_tape/private__graph_conv_keras_model_4/graph_pool_4/Reshape_13:0\", shape=(None, 128), dtype=float32), dense_shape=Tensor(\"gradient_tape/private__graph_conv_keras_model_4/graph_pool_4/Cast_4:0\", shape=(2,), dtype=int32))) to a dense Tensor of unknown shape. This may consume a large amount of memory.\n",
      "  \"shape. This may consume a large amount of memory.\" % value)\n",
      "/Users/ek/miniconda3/envs/cytoxnet/lib/python3.6/site-packages/tensorflow/python/framework/indexed_slices.py:437: UserWarning: Converting sparse IndexedSlices(IndexedSlices(indices=Tensor(\"gradient_tape/private__graph_conv_keras_model_4/graph_pool_4/Reshape_17:0\", shape=(None,), dtype=int32), values=Tensor(\"gradient_tape/private__graph_conv_keras_model_4/graph_pool_4/Reshape_16:0\", shape=(None, 128), dtype=float32), dense_shape=Tensor(\"gradient_tape/private__graph_conv_keras_model_4/graph_pool_4/Cast_5:0\", shape=(2,), dtype=int32))) to a dense Tensor of unknown shape. This may consume a large amount of memory.\n",
      "  \"shape. This may consume a large amount of memory.\" % value)\n",
      "/Users/ek/miniconda3/envs/cytoxnet/lib/python3.6/site-packages/tensorflow/python/framework/indexed_slices.py:437: UserWarning: Converting sparse IndexedSlices(IndexedSlices(indices=Tensor(\"gradient_tape/private__graph_conv_keras_model_4/graph_pool_4/Reshape_20:0\", shape=(None,), dtype=int32), values=Tensor(\"gradient_tape/private__graph_conv_keras_model_4/graph_pool_4/Reshape_19:0\", shape=(None, 128), dtype=float32), dense_shape=Tensor(\"gradient_tape/private__graph_conv_keras_model_4/graph_pool_4/Cast_6:0\", shape=(2,), dtype=int32))) to a dense Tensor of unknown shape. This may consume a large amount of memory.\n",
      "  \"shape. This may consume a large amount of memory.\" % value)\n",
      "/Users/ek/miniconda3/envs/cytoxnet/lib/python3.6/site-packages/tensorflow/python/framework/indexed_slices.py:437: UserWarning: Converting sparse IndexedSlices(IndexedSlices(indices=Tensor(\"gradient_tape/private__graph_conv_keras_model_4/graph_pool_4/Reshape_23:0\", shape=(None,), dtype=int32), values=Tensor(\"gradient_tape/private__graph_conv_keras_model_4/graph_pool_4/Reshape_22:0\", shape=(None, 128), dtype=float32), dense_shape=Tensor(\"gradient_tape/private__graph_conv_keras_model_4/graph_pool_4/Cast_7:0\", shape=(2,), dtype=int32))) to a dense Tensor of unknown shape. This may consume a large amount of memory.\n",
      "  \"shape. This may consume a large amount of memory.\" % value)\n"
     ]
    },
    {
     "data": {
      "text/plain": [
       "0.1273652172088623"
      ]
     },
     "execution_count": 111,
     "metadata": {},
     "output_type": "execute_result"
    }
   ],
   "source": [
    "graph_model.fit(graph_dev, nb_epoch=50)"
   ]
  },
  {
   "cell_type": "code",
   "execution_count": 112,
   "id": "c5783b97-bd09-493f-b908-2d9ef5a50972",
   "metadata": {
    "tags": []
   },
   "outputs": [
    {
     "name": "stdout",
     "output_type": "stream",
     "text": [
      "WARNING:tensorflow:9 out of the last 9 calls to <function KerasModel._compute_model at 0x1df5d7840> triggered tf.function retracing. Tracing is expensive and the excessive number of tracings could be due to (1) creating @tf.function repeatedly in a loop, (2) passing tensors with different shapes, (3) passing Python objects instead of tensors. For (1), please define your @tf.function outside of the loop. For (2), @tf.function has experimental_relax_shapes=True option that relaxes argument shapes that can avoid unnecessary retracing. For (3), please refer to https://www.tensorflow.org/guide/function#controlling_retracing and https://www.tensorflow.org/api_docs/python/tf/function for  more details.\n",
      "WARNING:tensorflow:10 out of the last 10 calls to <function KerasModel._compute_model at 0x1df5d7840> triggered tf.function retracing. Tracing is expensive and the excessive number of tracings could be due to (1) creating @tf.function repeatedly in a loop, (2) passing tensors with different shapes, (3) passing Python objects instead of tensors. For (1), please define your @tf.function outside of the loop. For (2), @tf.function has experimental_relax_shapes=True option that relaxes argument shapes that can avoid unnecessary retracing. For (3), please refer to https://www.tensorflow.org/guide/function#controlling_retracing and https://www.tensorflow.org/api_docs/python/tf/function for  more details.\n"
     ]
    },
    {
     "data": {
      "text/plain": [
       "({'metric-1': 0.3054362290319699, 'metric-2': 2.1853971249374617},\n",
       " {'metric-1': [0.6140133929584416,\n",
       "   0.3729284076043322,\n",
       "   0.40590122560194764,\n",
       "   0.13433811899512782,\n",
       "   0.0],\n",
       "  'metric-2': [1.9683428198423218,\n",
       "   2.6484041358684483,\n",
       "   3.5105175193466955,\n",
       "   0.3959358819891938,\n",
       "   2.403785267640648]})"
      ]
     },
     "execution_count": 112,
     "metadata": {},
     "output_type": "execute_result"
    }
   ],
   "source": [
    "graph_model.evaluate(\n",
    "    graph_test,\n",
    "    ['r2_score', 'mean_squared_error'],\n",
    "    untransform=True,\n",
    "    use_sample_weights=True,\n",
    "    per_task_metrics=True\n",
    ")"
   ]
  },
  {
   "cell_type": "code",
   "execution_count": 114,
   "id": "cad5e27a-df13-490c-b3de-c3884b3a3c91",
   "metadata": {},
   "outputs": [
    {
     "name": "stdout",
     "output_type": "stream",
     "text": [
      "(289, 5)\n"
     ]
    },
    {
     "data": {
      "text/html": [
       "\n",
       "<div id=\"altair-viz-fdf1f9ce339a4fb790d807d903b154c8\"></div>\n",
       "<script type=\"text/javascript\">\n",
       "  (function(spec, embedOpt){\n",
       "    let outputDiv = document.currentScript.previousElementSibling;\n",
       "    if (outputDiv.id !== \"altair-viz-fdf1f9ce339a4fb790d807d903b154c8\") {\n",
       "      outputDiv = document.getElementById(\"altair-viz-fdf1f9ce339a4fb790d807d903b154c8\");\n",
       "    }\n",
       "    const paths = {\n",
       "      \"vega\": \"https://cdn.jsdelivr.net/npm//vega@5?noext\",\n",
       "      \"vega-lib\": \"https://cdn.jsdelivr.net/npm//vega-lib?noext\",\n",
       "      \"vega-lite\": \"https://cdn.jsdelivr.net/npm//vega-lite@4.8.1?noext\",\n",
       "      \"vega-embed\": \"https://cdn.jsdelivr.net/npm//vega-embed@6?noext\",\n",
       "    };\n",
       "\n",
       "    function loadScript(lib) {\n",
       "      return new Promise(function(resolve, reject) {\n",
       "        var s = document.createElement('script');\n",
       "        s.src = paths[lib];\n",
       "        s.async = true;\n",
       "        s.onload = () => resolve(paths[lib]);\n",
       "        s.onerror = () => reject(`Error loading script: ${paths[lib]}`);\n",
       "        document.getElementsByTagName(\"head\")[0].appendChild(s);\n",
       "      });\n",
       "    }\n",
       "\n",
       "    function showError(err) {\n",
       "      outputDiv.innerHTML = `<div class=\"error\" style=\"color:red;\">${err}</div>`;\n",
       "      throw err;\n",
       "    }\n",
       "\n",
       "    function displayChart(vegaEmbed) {\n",
       "      vegaEmbed(outputDiv, spec, embedOpt)\n",
       "        .catch(err => showError(`Javascript Error: ${err.message}<br>This usually means there's a typo in your chart specification. See the javascript console for the full traceback.`));\n",
       "    }\n",
       "\n",
       "    if(typeof define === \"function\" && define.amd) {\n",
       "      requirejs.config({paths});\n",
       "      require([\"vega-embed\"], displayChart, err => showError(`Error loading script: ${err.message}`));\n",
       "    } else if (typeof vegaEmbed === \"function\") {\n",
       "      displayChart(vegaEmbed);\n",
       "    } else {\n",
       "      loadScript(\"vega\")\n",
       "        .then(() => loadScript(\"vega-lite\"))\n",
       "        .then(() => loadScript(\"vega-embed\"))\n",
       "        .catch(showError)\n",
       "        .then(() => displayChart(vegaEmbed));\n",
       "    }\n",
       "  })({\"config\": {\"view\": {\"continuousWidth\": 400, \"continuousHeight\": 300}}, \"layer\": [{\"mark\": \"point\", \"encoding\": {\"x\": {\"type\": \"quantitative\", \"field\": \"algea_EC50: true\", \"scale\": {\"zero\": false}}, \"y\": {\"type\": \"quantitative\", \"field\": \"algea_EC50: predicted\", \"scale\": {\"zero\": false}}}}, {\"mark\": \"line\", \"encoding\": {\"x\": {\"type\": \"quantitative\", \"field\": \"algea_EC50: true\", \"scale\": {\"zero\": false}}, \"y\": {\"type\": \"quantitative\", \"field\": \"algea_EC50: predicted\", \"scale\": {\"zero\": false}}}, \"transform\": [{\"on\": \"algea_EC50: true\", \"regression\": \"algea_EC50: predicted\"}]}, {\"data\": {\"name\": \"data-c8bb012da4c38593efafab2f9cdac7a5\"}, \"mark\": {\"type\": \"line\", \"color\": \"black\"}, \"encoding\": {\"x\": {\"type\": \"quantitative\", \"field\": \"algea_EC50: true\"}, \"y\": {\"type\": \"quantitative\", \"field\": \"algea_EC50: predicted\"}}}], \"data\": {\"name\": \"data-2fc6e0126d7cbdb54ee11956805e07c3\"}, \"$schema\": \"https://vega.github.io/schema/vega-lite/v4.8.1.json\", \"datasets\": {\"data-2fc6e0126d7cbdb54ee11956805e07c3\": [{\"fish_LC50: true\": 0.37156355643248296, \"fish_LC50: predicted\": 2.1441124025978726, \"daphnia_EC50: true\": 1.4350845252893227, \"daphnia_EC50: predicted\": 1.068709473368949, \"algea_EC50: true\": 0.8754687373538999, \"algea_EC50: predicted\": 3.957236240523615, \"rat_LD50: true\": -2.839, \"rat_LD50: predicted\": -3.1219342560556327, \"ecoli_MIC: true\": 0.0, \"ecoli_MIC: predicted\": 1.4290907656362477}, {\"fish_LC50: true\": 0.62057648772511, \"fish_LC50: predicted\": 0.7514297965364916, \"daphnia_EC50: true\": 2.4518667957098, \"daphnia_EC50: predicted\": 1.6745347713537928, \"algea_EC50: true\": 3.2557861788882985, \"algea_EC50: predicted\": 3.3139463260421613, \"rat_LD50: true\": -3.24, \"rat_LD50: predicted\": -2.7236210064737367, \"ecoli_MIC: true\": 0.0, \"ecoli_MIC: predicted\": 1.0051404640807424}, {\"fish_LC50: true\": -0.40047756659712536, \"fish_LC50: predicted\": -1.234338475254118, \"daphnia_EC50: true\": -1.771956841931875, \"daphnia_EC50: predicted\": -1.5132426122155338, \"algea_EC50: true\": -1.2207799226423175, \"algea_EC50: predicted\": -1.087120978183015, \"rat_LD50: true\": 0.0, \"rat_LD50: predicted\": -1.7575143387679613, \"ecoli_MIC: true\": 0.0, \"ecoli_MIC: predicted\": 3.794684550386296}, {\"fish_LC50: true\": 1.4586150226995167, \"fish_LC50: predicted\": 1.4371944053366599, \"daphnia_EC50: true\": 0.0, \"daphnia_EC50: predicted\": 1.0128301662723636, \"algea_EC50: true\": 2.4849066497880004, \"algea_EC50: predicted\": 0.5452278658772858, \"rat_LD50: true\": -1.765, \"rat_LD50: predicted\": -2.013067369646657, \"ecoli_MIC: true\": 0.0, \"ecoli_MIC: predicted\": 2.7848586207695005}, {\"fish_LC50: true\": 1.4816045409242156, \"fish_LC50: predicted\": 1.4774813677660974, \"daphnia_EC50: true\": -0.3147107448397002, \"daphnia_EC50: predicted\": 0.9471574332525635, \"algea_EC50: true\": 2.021547563260933, \"algea_EC50: predicted\": 1.8889860513897496, \"rat_LD50: true\": -1.508, \"rat_LD50: predicted\": -1.6303995871191408, \"ecoli_MIC: true\": 0.0, \"ecoli_MIC: predicted\": 3.119185561444591}, {\"fish_LC50: true\": 4.875197323201151, \"fish_LC50: predicted\": 6.1054850498936615, \"daphnia_EC50: true\": 4.1431347263915335, \"daphnia_EC50: predicted\": 4.035678421364184, \"algea_EC50: true\": 3.6635616461296463, \"algea_EC50: predicted\": 4.089988011139026, \"rat_LD50: true\": -2.375, \"rat_LD50: predicted\": -1.7809287534688494, \"ecoli_MIC: true\": 0.0, \"ecoli_MIC: predicted\": 0.8339843563489567}, {\"fish_LC50: true\": -0.7139478163190247, \"fish_LC50: predicted\": -1.4881879447910906, \"daphnia_EC50: true\": 0.0, \"daphnia_EC50: predicted\": -2.4018229748215316, \"algea_EC50: true\": -0.2107210313156525, \"algea_EC50: predicted\": -3.5058063071645558, \"rat_LD50: true\": 0.0, \"rat_LD50: predicted\": -2.214932433326271, \"ecoli_MIC: true\": 0.0, \"ecoli_MIC: predicted\": 4.080934821769599}, {\"fish_LC50: true\": 3.7612001156935615, \"fish_LC50: predicted\": 4.13937404201985, \"daphnia_EC50: true\": 3.258096538021482, \"daphnia_EC50: predicted\": 2.469213716004483, \"algea_EC50: true\": 0.8754687373538999, \"algea_EC50: predicted\": 2.863436717702528, \"rat_LD50: true\": 0.0, \"rat_LD50: predicted\": -1.8938663110471052, \"ecoli_MIC: true\": 0.0, \"ecoli_MIC: predicted\": 2.604625894607713}, {\"fish_LC50: true\": 2.2669579153508947, \"fish_LC50: predicted\": 2.5544849014141793, \"daphnia_EC50: true\": 0.9162907318741552, \"daphnia_EC50: predicted\": 2.1809378756752285, \"algea_EC50: true\": 2.302585092994046, \"algea_EC50: predicted\": 2.6481444186005594, \"rat_LD50: true\": -2.833, \"rat_LD50: predicted\": -2.479704913602567, \"ecoli_MIC: true\": 0.0, \"ecoli_MIC: predicted\": 0.19845326575080924}, {\"fish_LC50: true\": -0.9675840262617057, \"fish_LC50: predicted\": -0.545775045778828, \"daphnia_EC50: true\": 0.9932517730102834, \"daphnia_EC50: predicted\": 1.4154744021198247, \"algea_EC50: true\": 0.4706284340145776, \"algea_EC50: predicted\": 0.8045812313935263, \"rat_LD50: true\": -1.656, \"rat_LD50: predicted\": -2.092907508676718, \"ecoli_MIC: true\": 0.0, \"ecoli_MIC: predicted\": 2.971971967855729}, {\"fish_LC50: true\": 1.5260563034950492, \"fish_LC50: predicted\": 0.16798921438359096, \"daphnia_EC50: true\": 0.6418538861723947, \"daphnia_EC50: predicted\": 0.18065630443817254, \"algea_EC50: true\": 1.8164520818184269, \"algea_EC50: predicted\": 1.578584046190918, \"rat_LD50: true\": -1.625, \"rat_LD50: predicted\": -1.9839457707749408, \"ecoli_MIC: true\": 0.0, \"ecoli_MIC: predicted\": 3.308547542908711}, {\"fish_LC50: true\": -2.017406150760383, \"fish_LC50: predicted\": 0.9335165134491683, \"daphnia_EC50: true\": 0.7275486072772777, \"daphnia_EC50: predicted\": 2.2484042180753785, \"algea_EC50: true\": 3.2148678034706624, \"algea_EC50: predicted\": 2.3541441946218096, \"rat_LD50: true\": -2.565, \"rat_LD50: predicted\": -2.24306661271409, \"ecoli_MIC: true\": 0.0, \"ecoli_MIC: predicted\": 6.802221852850238}, {\"fish_LC50: true\": 0.0, \"fish_LC50: predicted\": 2.82614276519838, \"daphnia_EC50: true\": 0.1823215567939546, \"daphnia_EC50: predicted\": 2.7469281893834308, \"algea_EC50: true\": 1.5260563034950492, \"algea_EC50: predicted\": 3.3334704042949697, \"rat_LD50: true\": -3.022, \"rat_LD50: predicted\": -2.665449065363929, \"ecoli_MIC: true\": 0.0, \"ecoli_MIC: predicted\": 3.771088094751592}, {\"fish_LC50: true\": -5.744604469176456, \"fish_LC50: predicted\": -0.8948456107218505, \"daphnia_EC50: true\": 0.0, \"daphnia_EC50: predicted\": -0.23757174103699677, \"algea_EC50: true\": -3.8632328412587142, \"algea_EC50: predicted\": -0.4364050865557754, \"rat_LD50: true\": 0.0, \"rat_LD50: predicted\": -1.9035213702748401, \"ecoli_MIC: true\": 0.0, \"ecoli_MIC: predicted\": 2.520179962858953}, {\"fish_LC50: true\": 1.541159071680806, \"fish_LC50: predicted\": 0.21171230296755575, \"daphnia_EC50: true\": 0.0, \"daphnia_EC50: predicted\": 2.820068640731897, \"algea_EC50: true\": 0.8241754429663493, \"algea_EC50: predicted\": 1.569539820346553, \"rat_LD50: true\": 0.0, \"rat_LD50: predicted\": -1.7917263226728224, \"ecoli_MIC: true\": 0.0, \"ecoli_MIC: predicted\": 5.457139814044704}, {\"fish_LC50: true\": 3.333988631968705, \"fish_LC50: predicted\": 1.8257240575546272, \"daphnia_EC50: true\": 3.6375861597263857, \"daphnia_EC50: predicted\": 1.6743438307461156, \"algea_EC50: true\": 2.9444389791664403, \"algea_EC50: predicted\": 2.986882635345575, \"rat_LD50: true\": -4.607, \"rat_LD50: predicted\": -2.1156891988115647, \"ecoli_MIC: true\": 0.0, \"ecoli_MIC: predicted\": 4.753872891878073}, {\"fish_LC50: true\": 6.040254711277415, \"fish_LC50: predicted\": 7.278462763327713, \"daphnia_EC50: true\": 0.0, \"daphnia_EC50: predicted\": 6.58109746369989, \"algea_EC50: true\": 6.908397072988298, \"algea_EC50: predicted\": 7.053372529422517, \"rat_LD50: true\": -1.463, \"rat_LD50: predicted\": -1.0123108760703745, \"ecoli_MIC: true\": 0.0, \"ecoli_MIC: predicted\": 4.441133167254789}, {\"fish_LC50: true\": 4.6443908991413725, \"fish_LC50: predicted\": 6.050711624366545, \"daphnia_EC50: true\": 3.2542429687054915, \"daphnia_EC50: predicted\": 6.486449847583423, \"algea_EC50: true\": 4.421487703554795, \"algea_EC50: predicted\": 5.813524769416885, \"rat_LD50: true\": -3.26, \"rat_LD50: predicted\": -1.4728492385191545, \"ecoli_MIC: true\": 0.0, \"ecoli_MIC: predicted\": 3.969127438911345}, {\"fish_LC50: true\": 6.699643187101424, \"fish_LC50: predicted\": 5.0212190847923175, \"daphnia_EC50: true\": 0.0, \"daphnia_EC50: predicted\": 5.014564059382679, \"algea_EC50: true\": 6.131887140770233, \"algea_EC50: predicted\": 4.394669907135776, \"rat_LD50: true\": -1.7990000000000002, \"rat_LD50: predicted\": -1.9949583976502754, \"ecoli_MIC: true\": 0.0, \"ecoli_MIC: predicted\": 4.561501708525891}, {\"fish_LC50: true\": 4.605170185988092, \"fish_LC50: predicted\": 6.071140631725307, \"daphnia_EC50: true\": 0.0, \"daphnia_EC50: predicted\": 5.510338230974979, \"algea_EC50: true\": 5.700443573390687, \"algea_EC50: predicted\": 4.79402169015344, \"rat_LD50: true\": -2.228, \"rat_LD50: predicted\": -1.9784429557804306, \"ecoli_MIC: true\": 0.0, \"ecoli_MIC: predicted\": 4.821813041547975}, {\"fish_LC50: true\": 2.0794415416798357, \"fish_LC50: predicted\": 2.522271711268366, \"daphnia_EC50: true\": 0.0, \"daphnia_EC50: predicted\": 2.9543160357251184, \"algea_EC50: true\": 3.218875824868201, \"algea_EC50: predicted\": 2.9624422806282604, \"rat_LD50: true\": 0.0, \"rat_LD50: predicted\": -1.8519748366189128, \"ecoli_MIC: true\": 0.0, \"ecoli_MIC: predicted\": 3.29306535987791}, {\"fish_LC50: true\": 3.0680529351336165, \"fish_LC50: predicted\": 2.8162822814870703, \"daphnia_EC50: true\": 2.2192034840549946, \"daphnia_EC50: predicted\": 3.2988414492848372, \"algea_EC50: true\": 2.1804174590198384, \"algea_EC50: predicted\": 3.660615807321279, \"rat_LD50: true\": -1.47, \"rat_LD50: predicted\": -2.077228559589671, \"ecoli_MIC: true\": 0.0, \"ecoli_MIC: predicted\": 5.967869979221758}, {\"fish_LC50: true\": 3.678829118260434, \"fish_LC50: predicted\": 4.964115092194728, \"daphnia_EC50: true\": 1.4609379041156565, \"daphnia_EC50: predicted\": 4.654064509257545, \"algea_EC50: true\": 1.5686159179138457, \"algea_EC50: predicted\": 5.04068463246772, \"rat_LD50: true\": -2.292, \"rat_LD50: predicted\": -1.9758966042704194, \"ecoli_MIC: true\": 0.0, \"ecoli_MIC: predicted\": 4.141255323878955}, {\"fish_LC50: true\": -0.38566248081198456, \"fish_LC50: predicted\": -0.48279449169028416, \"daphnia_EC50: true\": -1.1086626245216111, \"daphnia_EC50: predicted\": -1.0445760577253147, \"algea_EC50: true\": -0.2943710606025776, \"algea_EC50: predicted\": 0.5102278846284212, \"rat_LD50: true\": 0.0, \"rat_LD50: predicted\": -2.153132327645844, \"ecoli_MIC: true\": 0.0, \"ecoli_MIC: predicted\": 4.3425910039561755}, {\"fish_LC50: true\": 4.276666119016055, \"fish_LC50: predicted\": 2.1886073505185974, \"daphnia_EC50: true\": 0.0, \"daphnia_EC50: predicted\": 0.0484351745731571, \"algea_EC50: true\": 0.8544153281560676, \"algea_EC50: predicted\": -0.27258380235280094, \"rat_LD50: true\": -1.659, \"rat_LD50: predicted\": -2.1868673642879317, \"ecoli_MIC: true\": 0.0, \"ecoli_MIC: predicted\": 3.0640423210884764}, {\"fish_LC50: true\": -1.5606477482646686, \"fish_LC50: predicted\": -0.24200771769061596, \"daphnia_EC50: true\": -0.44628710262841953, \"daphnia_EC50: predicted\": -0.8966083477386765, \"algea_EC50: true\": 0.3364722366212129, \"algea_EC50: predicted\": -0.17394717551819722, \"rat_LD50: true\": 0.0, \"rat_LD50: predicted\": -2.1918453698832274, \"ecoli_MIC: true\": 0.0, \"ecoli_MIC: predicted\": 4.20048783719238}, {\"fish_LC50: true\": 0.00747201483870108, \"fish_LC50: predicted\": 2.324884795268545, \"daphnia_EC50: true\": -0.4557063245449111, \"daphnia_EC50: predicted\": 1.6660393307855113, \"algea_EC50: true\": -0.3681693233644672, \"algea_EC50: predicted\": 1.271445365630028, \"rat_LD50: true\": -1.492, \"rat_LD50: predicted\": -1.7389333988880233, \"ecoli_MIC: true\": 0.0, \"ecoli_MIC: predicted\": 4.416857650119885}, {\"fish_LC50: true\": 0.3576744442718159, \"fish_LC50: predicted\": -0.3939855462559108, \"daphnia_EC50: true\": -0.27707189333976534, \"daphnia_EC50: predicted\": 0.7915554984948818, \"algea_EC50: true\": 0.6931471805599453, \"algea_EC50: predicted\": 1.1489187732267332, \"rat_LD50: true\": 0.0, \"rat_LD50: predicted\": -1.847252367613959, \"ecoli_MIC: true\": 0.0, \"ecoli_MIC: predicted\": 3.117737781833224}, {\"fish_LC50: true\": 0.7178397931503168, \"fish_LC50: predicted\": 0.8476570132922199, \"daphnia_EC50: true\": 0.0, \"daphnia_EC50: predicted\": 1.1224649203234642, \"algea_EC50: true\": 0.9162907318741551, \"algea_EC50: predicted\": -0.1731045786482981, \"rat_LD50: true\": 0.0, \"rat_LD50: predicted\": -2.2664394753539243, \"ecoli_MIC: true\": 0.0, \"ecoli_MIC: predicted\": 1.375233631898868}, {\"fish_LC50: true\": 4.351567427189173, \"fish_LC50: predicted\": 3.157977533446199, \"daphnia_EC50: true\": 3.502549875922443, \"daphnia_EC50: predicted\": 3.068446959486076, \"algea_EC50: true\": 4.378269585796169, \"algea_EC50: predicted\": 4.08822233567688, \"rat_LD50: true\": 0.0, \"rat_LD50: predicted\": -1.5814503148331516, \"ecoli_MIC: true\": 0.0, \"ecoli_MIC: predicted\": 3.9650938229151276}, {\"fish_LC50: true\": 8.60363048698599, \"fish_LC50: predicted\": 5.636069715817437, \"daphnia_EC50: true\": 0.0, \"daphnia_EC50: predicted\": 5.507725120937569, \"algea_EC50: true\": 8.766914796271609, \"algea_EC50: predicted\": 6.958196370527385, \"rat_LD50: true\": -1.265, \"rat_LD50: predicted\": -1.2766406530474355, \"ecoli_MIC: true\": 0.0, \"ecoli_MIC: predicted\": 4.243742843808706}, {\"fish_LC50: true\": 1.2237754316221157, \"fish_LC50: predicted\": -1.8898514905822805, \"daphnia_EC50: true\": -0.1508228897345836, \"daphnia_EC50: predicted\": -1.995862704036366, \"algea_EC50: true\": 2.066862759472976, \"algea_EC50: predicted\": 0.5048711122539102, \"rat_LD50: true\": -2.77, \"rat_LD50: predicted\": -3.915212723655453, \"ecoli_MIC: true\": 0.0, \"ecoli_MIC: predicted\": 4.311776376078602}, {\"fish_LC50: true\": 2.766319109226186, \"fish_LC50: predicted\": 3.6144865140639912, \"daphnia_EC50: true\": 0.7884573603642703, \"daphnia_EC50: predicted\": 2.7565936369394075, \"algea_EC50: true\": 2.4849066497880004, \"algea_EC50: predicted\": 2.4838913142695764, \"rat_LD50: true\": 0.0, \"rat_LD50: predicted\": -1.4692690219363416, \"ecoli_MIC: true\": 0.0, \"ecoli_MIC: predicted\": 3.7310616576273032}, {\"fish_LC50: true\": 2.5649493574615367, \"fish_LC50: predicted\": 2.8632511969716643, \"daphnia_EC50: true\": 2.1633230256605382, \"daphnia_EC50: predicted\": 3.161845812696548, \"algea_EC50: true\": 2.9957322735539917, \"algea_EC50: predicted\": 3.772615599644761, \"rat_LD50: true\": 0.0, \"rat_LD50: predicted\": -2.3707826244033807, \"ecoli_MIC: true\": 0.0, \"ecoli_MIC: predicted\": 4.142704267861893}, {\"fish_LC50: true\": 0.9707789171582248, \"fish_LC50: predicted\": 1.9117518369543645, \"daphnia_EC50: true\": -0.579818495252942, \"daphnia_EC50: predicted\": 0.3908262460880103, \"algea_EC50: true\": 0.029558802241544446, \"algea_EC50: predicted\": 1.61400769479393, \"rat_LD50: true\": 0.0, \"rat_LD50: predicted\": -1.6807629172514345, \"ecoli_MIC: true\": 0.0, \"ecoli_MIC: predicted\": 2.595159437298422}, {\"fish_LC50: true\": 4.941642422609304, \"fish_LC50: predicted\": 3.6197410295569217, \"daphnia_EC50: true\": 0.0, \"daphnia_EC50: predicted\": 3.760963330305387, \"algea_EC50: true\": 4.941642422609303, \"algea_EC50: predicted\": 5.058196667661838, \"rat_LD50: true\": -1.764, \"rat_LD50: predicted\": -2.055604145865982, \"ecoli_MIC: true\": 0.0, \"ecoli_MIC: predicted\": 1.3034467478698915}, {\"fish_LC50: true\": 2.519308076505333, \"fish_LC50: predicted\": 3.4335357979349364, \"daphnia_EC50: true\": 2.5014359517392117, \"daphnia_EC50: predicted\": 2.1482326391857716, \"algea_EC50: true\": 3.2068032436339315, \"algea_EC50: predicted\": 3.8600133354418085, \"rat_LD50: true\": 0.0, \"rat_LD50: predicted\": -2.033810261546179, \"ecoli_MIC: true\": 0.0, \"ecoli_MIC: predicted\": 3.1554061336519483}, {\"fish_LC50: true\": -1.171182981502945, \"fish_LC50: predicted\": -0.6256858206189433, \"daphnia_EC50: true\": -1.3862943611198906, \"daphnia_EC50: predicted\": -0.9667802958860378, \"algea_EC50: true\": 0.9932517730102834, \"algea_EC50: predicted\": 0.4838379401767153, \"rat_LD50: true\": 0.0, \"rat_LD50: predicted\": -1.8354580211272147, \"ecoli_MIC: true\": 0.0, \"ecoli_MIC: predicted\": 6.0294065509998545}, {\"fish_LC50: true\": 0.1570037488096647, \"fish_LC50: predicted\": 0.055968579265580576, \"daphnia_EC50: true\": -0.32850406697203605, \"daphnia_EC50: predicted\": -0.32782092410480623, \"algea_EC50: true\": 0.5596157879354227, \"algea_EC50: predicted\": 0.02664748745706816, \"rat_LD50: true\": 0.0, \"rat_LD50: predicted\": -2.0782062349435484, \"ecoli_MIC: true\": 0.0, \"ecoli_MIC: predicted\": 5.326358064939941}, {\"fish_LC50: true\": 4.140520575950627, \"fish_LC50: predicted\": 3.6662704719777026, \"daphnia_EC50: true\": 0.0, \"daphnia_EC50: predicted\": 2.7988158745776857, \"algea_EC50: true\": 2.458733775483977, \"algea_EC50: predicted\": 3.3107440395300367, \"rat_LD50: true\": -1.425, \"rat_LD50: predicted\": -2.1621680121949214, \"ecoli_MIC: true\": 0.0, \"ecoli_MIC: predicted\": 4.696477524029353}, {\"fish_LC50: true\": 1.945910149055313, \"fish_LC50: predicted\": 3.0741840511736314, \"daphnia_EC50: true\": 1.1939224684724346, \"daphnia_EC50: predicted\": 2.991921986713398, \"algea_EC50: true\": 1.3217558399823195, \"algea_EC50: predicted\": 2.4948021253808657, \"rat_LD50: true\": -1.6769999999999998, \"rat_LD50: predicted\": -1.671265094800186, \"ecoli_MIC: true\": 0.0, \"ecoli_MIC: predicted\": 3.2341630623420166}, {\"fish_LC50: true\": 2.1517622032594623, \"fish_LC50: predicted\": 3.8615439304902632, \"daphnia_EC50: true\": 1.6114359150967734, \"daphnia_EC50: predicted\": 1.0384495656485084, \"algea_EC50: true\": -2.5383074265151158, \"algea_EC50: predicted\": 1.9438345912911172, \"rat_LD50: true\": -2.774, \"rat_LD50: predicted\": -2.3588488552985565, \"ecoli_MIC: true\": 0.0, \"ecoli_MIC: predicted\": 6.506862702667095}, {\"fish_LC50: true\": 1.7227665977411035, \"fish_LC50: predicted\": 0.8480082517852039, \"daphnia_EC50: true\": 0.0, \"daphnia_EC50: predicted\": 2.3610216400610913, \"algea_EC50: true\": 1.4350845252893227, \"algea_EC50: predicted\": 1.379747551972809, \"rat_LD50: true\": 0.0, \"rat_LD50: predicted\": -1.8604635191907137, \"ecoli_MIC: true\": 0.0, \"ecoli_MIC: predicted\": 4.8010627757813955}, {\"fish_LC50: true\": -1.2378743560016174, \"fish_LC50: predicted\": 0.17108959331610715, \"daphnia_EC50: true\": -2.120263536200091, \"daphnia_EC50: predicted\": -0.24382150475504602, \"algea_EC50: true\": 0.5306282510621704, \"algea_EC50: predicted\": -0.2857770824935128, \"rat_LD50: true\": -2.851000000000001, \"rat_LD50: predicted\": -2.4466808121207757, \"ecoli_MIC: true\": 0.0, \"ecoli_MIC: predicted\": 5.213320407079781}, {\"fish_LC50: true\": 6.040254711277415, \"fish_LC50: predicted\": 3.1070304904810144, \"daphnia_EC50: true\": 0.0, \"daphnia_EC50: predicted\": 5.355918272404805, \"algea_EC50: true\": 3.5263605246161616, \"algea_EC50: predicted\": 2.7101881967648356, \"rat_LD50: true\": 0.0, \"rat_LD50: predicted\": -1.9238923540576605, \"ecoli_MIC: true\": 0.0, \"ecoli_MIC: predicted\": 3.1619841344050883}, {\"fish_LC50: true\": -1.7808195291897209, \"fish_LC50: predicted\": 0.8535979350261689, \"daphnia_EC50: true\": 0.0, \"daphnia_EC50: predicted\": -0.2513436864840475, \"algea_EC50: true\": -2.1541650878757723, \"algea_EC50: predicted\": 0.6539905762651055, \"rat_LD50: true\": -2.352, \"rat_LD50: predicted\": -2.136111092454312, \"ecoli_MIC: true\": 0.0, \"ecoli_MIC: predicted\": 5.183524138578194}, {\"fish_LC50: true\": 1.8946168546677626, \"fish_LC50: predicted\": 3.7012246512957776, \"daphnia_EC50: true\": 1.7749523509116738, \"daphnia_EC50: predicted\": 3.329273246046388, \"algea_EC50: true\": 2.4849066497880004, \"algea_EC50: predicted\": 3.244970290411088, \"rat_LD50: true\": 0.0, \"rat_LD50: predicted\": -1.6137470835437755, \"ecoli_MIC: true\": 0.0, \"ecoli_MIC: predicted\": 4.095440795675284}, {\"fish_LC50: true\": 1.3862943611198906, \"fish_LC50: predicted\": 2.6992966843643105, \"daphnia_EC50: true\": 2.9957322735539917, \"daphnia_EC50: predicted\": 3.562133532654083, \"algea_EC50: true\": 3.5263605246161616, \"algea_EC50: predicted\": 3.1013170613004406, \"rat_LD50: true\": 0.0, \"rat_LD50: predicted\": -2.5357256770392, \"ecoli_MIC: true\": 0.0, \"ecoli_MIC: predicted\": 3.3351192007816035}, {\"fish_LC50: true\": 6.0591231955817975, \"fish_LC50: predicted\": 6.039751994416521, \"daphnia_EC50: true\": 0.0, \"daphnia_EC50: predicted\": 4.889210983853303, \"algea_EC50: true\": 6.413458957167357, \"algea_EC50: predicted\": 4.866155956552601, \"rat_LD50: true\": -1.587, \"rat_LD50: predicted\": -1.2132067100242228, \"ecoli_MIC: true\": 0.0, \"ecoli_MIC: predicted\": 5.353921534517001}, {\"fish_LC50: true\": 0.9932517730102834, \"fish_LC50: predicted\": 0.04250774647479033, \"daphnia_EC50: true\": 0.262364264467491, \"daphnia_EC50: predicted\": 2.1561862786974024, \"algea_EC50: true\": 1.6639260977181702, \"algea_EC50: predicted\": 0.7794651501664096, \"rat_LD50: true\": -1.513, \"rat_LD50: predicted\": -1.5063633366713227, \"ecoli_MIC: true\": 0.0, \"ecoli_MIC: predicted\": 4.674116699505782}, {\"fish_LC50: true\": -0.0942897293952551, \"fish_LC50: predicted\": 2.7193724443869702, \"daphnia_EC50: true\": 0.0, \"daphnia_EC50: predicted\": 0.9657898653552768, \"algea_EC50: true\": 0.4061315526513248, \"algea_EC50: predicted\": 2.521632811864052, \"rat_LD50: true\": -1.734, \"rat_LD50: predicted\": -1.802315916943114, \"ecoli_MIC: true\": 0.0, \"ecoli_MIC: predicted\": 5.0313547467088915}, {\"fish_LC50: true\": 1.8325814637483104, \"fish_LC50: predicted\": 2.350623020463624, \"daphnia_EC50: true\": 3.40452517175483, \"daphnia_EC50: predicted\": 2.888235570851313, \"algea_EC50: true\": 3.0204248861443626, \"algea_EC50: predicted\": 3.0798395169000083, \"rat_LD50: true\": 0.0, \"rat_LD50: predicted\": -1.4237899262450346, \"ecoli_MIC: true\": 0.0, \"ecoli_MIC: predicted\": 6.382136617228727}, {\"fish_LC50: true\": 4.31748811353631, \"fish_LC50: predicted\": 3.956937709141324, \"daphnia_EC50: true\": 3.4011973816621555, \"daphnia_EC50: predicted\": 3.9621490064336093, \"algea_EC50: true\": 3.871201010907892, \"algea_EC50: predicted\": 4.738184603347458, \"rat_LD50: true\": 0.0, \"rat_LD50: predicted\": -1.6323348056816127, \"ecoli_MIC: true\": 0.0, \"ecoli_MIC: predicted\": 2.5714651744517556}, {\"fish_LC50: true\": 2.9444389791664403, \"fish_LC50: predicted\": 3.6098553580434314, \"daphnia_EC50: true\": 0.0, \"daphnia_EC50: predicted\": 3.252382539854554, \"algea_EC50: true\": 2.776331708518616, \"algea_EC50: predicted\": 2.715839145832423, \"rat_LD50: true\": 0.0, \"rat_LD50: predicted\": -1.7940889522599939, \"ecoli_MIC: true\": 0.0, \"ecoli_MIC: predicted\": 4.651847860336319}, {\"fish_LC50: true\": 2.0675184946526133, \"fish_LC50: predicted\": 1.4200607505877223, \"daphnia_EC50: true\": 0.0, \"daphnia_EC50: predicted\": 0.17772788743289286, \"algea_EC50: true\": 2.0014800002101243, \"algea_EC50: predicted\": 1.427296498105839, \"rat_LD50: true\": -1.357, \"rat_LD50: predicted\": -1.2827647421820718, \"ecoli_MIC: true\": 0.0, \"ecoli_MIC: predicted\": 3.696964666291114}, {\"fish_LC50: true\": 0.5738004229273791, \"fish_LC50: predicted\": 1.3540435983356809, \"daphnia_EC50: true\": 0.4317824164255378, \"daphnia_EC50: predicted\": 0.057501772608283014, \"algea_EC50: true\": 1.5040773967762742, \"algea_EC50: predicted\": 1.3912217351405316, \"rat_LD50: true\": 0.0, \"rat_LD50: predicted\": -1.2719656705791968, \"ecoli_MIC: true\": 0.0, \"ecoli_MIC: predicted\": 3.5363824569471083}, {\"fish_LC50: true\": 2.1234584270966104, \"fish_LC50: predicted\": 1.9772453765211986, \"daphnia_EC50: true\": 1.8779371654691075, \"daphnia_EC50: predicted\": 2.646273309786558, \"algea_EC50: true\": -0.3243460568233724, \"algea_EC50: predicted\": 3.621528763622601, \"rat_LD50: true\": 0.0, \"rat_LD50: predicted\": -2.191733591404939, \"ecoli_MIC: true\": 0.0, \"ecoli_MIC: predicted\": 4.762211888195176}, {\"fish_LC50: true\": -2.7488721956224653, \"fish_LC50: predicted\": -0.35029614442578255, \"daphnia_EC50: true\": -3.2968373663379125, \"daphnia_EC50: predicted\": -3.5257736148127017, \"algea_EC50: true\": -2.5902671654458262, \"algea_EC50: predicted\": -2.7623636575620725, \"rat_LD50: true\": 0.0, \"rat_LD50: predicted\": -2.474752234160186, \"ecoli_MIC: true\": 0.0, \"ecoli_MIC: predicted\": 2.325213162400724}, {\"fish_LC50: true\": -1.6094379124341005, \"fish_LC50: predicted\": -0.11026786322981541, \"daphnia_EC50: true\": 0.0, \"daphnia_EC50: predicted\": -3.244352938911594, \"algea_EC50: true\": -5.4943322504739935, \"algea_EC50: predicted\": -2.495310781645691, \"rat_LD50: true\": 0.0, \"rat_LD50: predicted\": -2.4494559575206782, \"ecoli_MIC: true\": 0.0, \"ecoli_MIC: predicted\": 2.098972622354481}, {\"fish_LC50: true\": 1.8794650496471603, \"fish_LC50: predicted\": -1.1098413501313773, \"daphnia_EC50: true\": 0.0, \"daphnia_EC50: predicted\": -3.3015254861773875, \"algea_EC50: true\": -0.6931471805599454, \"algea_EC50: predicted\": -2.548555470954771, \"rat_LD50: true\": 0.0, \"rat_LD50: predicted\": -2.3542410407926457, \"ecoli_MIC: true\": 0.0, \"ecoli_MIC: predicted\": 3.7226663057261646}, {\"fish_LC50: true\": 2.8791984572980396, \"fish_LC50: predicted\": 3.0375081387764413, \"daphnia_EC50: true\": 2.0268315914075385, \"daphnia_EC50: predicted\": 0.6988963276681563, \"algea_EC50: true\": 2.9444389791664403, \"algea_EC50: predicted\": 1.915487181217818, \"rat_LD50: true\": -1.983, \"rat_LD50: predicted\": -1.9602419511198974, \"ecoli_MIC: true\": 0.0, \"ecoli_MIC: predicted\": 3.5948886352745513}, {\"fish_LC50: true\": -2.563949857128453, \"fish_LC50: predicted\": 0.7432078334412647, \"daphnia_EC50: true\": -2.9565115604007097, \"daphnia_EC50: predicted\": -2.182610408948029, \"algea_EC50: true\": -2.6592600369327783, \"algea_EC50: predicted\": -1.325083772475076, \"rat_LD50: true\": 0.0, \"rat_LD50: predicted\": -2.2275831471869987, \"ecoli_MIC: true\": 0.0, \"ecoli_MIC: predicted\": 3.5577444835370855}, {\"fish_LC50: true\": 1.4487449945097102, \"fish_LC50: predicted\": 2.6071624854629225, \"daphnia_EC50: true\": 2.2082744135228043, \"daphnia_EC50: predicted\": 3.7362671174355744, \"algea_EC50: true\": 2.4849066497880004, \"algea_EC50: predicted\": 3.8623778244527975, \"rat_LD50: true\": -0.536, \"rat_LD50: predicted\": -1.7099668046572822, \"ecoli_MIC: true\": 0.0, \"ecoli_MIC: predicted\": 5.180905234040727}, {\"fish_LC50: true\": 2.5563742344226426, \"fish_LC50: predicted\": 2.6154948576664805, \"daphnia_EC50: true\": 1.6863989535702286, \"daphnia_EC50: predicted\": 1.4998759582538546, \"algea_EC50: true\": 2.639057329615258, \"algea_EC50: predicted\": 1.8108189784544326, \"rat_LD50: true\": 0.0, \"rat_LD50: predicted\": -1.9924558303368292, \"ecoli_MIC: true\": 0.0, \"ecoli_MIC: predicted\": 5.10863595086989}, {\"fish_LC50: true\": 0.4121096508268329, \"fish_LC50: predicted\": 0.6737707803060393, \"daphnia_EC50: true\": 1.434369984351454, \"daphnia_EC50: predicted\": 1.172742712730958, \"algea_EC50: true\": 1.7119945007591926, \"algea_EC50: predicted\": 0.578732536104368, \"rat_LD50: true\": -1.541, \"rat_LD50: predicted\": -1.0353792239156707, \"ecoli_MIC: true\": 0.0, \"ecoli_MIC: predicted\": 4.313546220866503}, {\"fish_LC50: true\": 7.301147805856032, \"fish_LC50: predicted\": 7.505649321729432, \"daphnia_EC50: true\": 0.0, \"daphnia_EC50: predicted\": 6.364531719929544, \"algea_EC50: true\": 6.434546518787452, \"algea_EC50: predicted\": 6.481062325500674, \"rat_LD50: true\": -2.4, \"rat_LD50: predicted\": -1.2643951039762409, \"ecoli_MIC: true\": 0.0, \"ecoli_MIC: predicted\": 3.2427626450167075}, {\"fish_LC50: true\": 2.8731056045730794, \"fish_LC50: predicted\": 2.8221555206605586, \"daphnia_EC50: true\": 3.49650756146648, \"daphnia_EC50: predicted\": -0.6166385654907118, \"algea_EC50: true\": 4.110873864173311, \"algea_EC50: predicted\": 3.2185043559539546, \"rat_LD50: true\": -2.123, \"rat_LD50: predicted\": -2.5616877310205863, \"ecoli_MIC: true\": 0.0, \"ecoli_MIC: predicted\": 6.3867759393161725}, {\"fish_LC50: true\": -0.7021230210755296, \"fish_LC50: predicted\": 0.9211398764684966, \"daphnia_EC50: true\": 0.6418538861723947, \"daphnia_EC50: predicted\": 1.5068246099231493, \"algea_EC50: true\": -5.9914645471079835, \"algea_EC50: predicted\": 0.32650207990254987, \"rat_LD50: true\": -2.253, \"rat_LD50: predicted\": -2.2175937398151055, \"ecoli_MIC: true\": 0.0, \"ecoli_MIC: predicted\": 4.792797600621893}, {\"fish_LC50: true\": 4.820281565605037, \"fish_LC50: predicted\": 4.802857528737418, \"daphnia_EC50: true\": 3.3568971227655755, \"daphnia_EC50: predicted\": 3.887745627445641, \"algea_EC50: true\": 1.9300710850255671, \"algea_EC50: predicted\": 3.3042880271174986, \"rat_LD50: true\": 0.0, \"rat_LD50: predicted\": -1.9484662773052177, \"ecoli_MIC: true\": 0.0, \"ecoli_MIC: predicted\": 3.9163217909211463}, {\"fish_LC50: true\": 1.8562979903656265, \"fish_LC50: predicted\": 1.3304755418143672, \"daphnia_EC50: true\": 0.0, \"daphnia_EC50: predicted\": 2.0007913615199286, \"algea_EC50: true\": 2.772588722239781, \"algea_EC50: predicted\": 2.5590637041569897, \"rat_LD50: true\": 0.0, \"rat_LD50: predicted\": -1.4595712516541146, \"ecoli_MIC: true\": 0.0, \"ecoli_MIC: predicted\": 5.138571478211368}, {\"fish_LC50: true\": 3.0773122605464143, \"fish_LC50: predicted\": 2.94921330265406, \"daphnia_EC50: true\": 0.0, \"daphnia_EC50: predicted\": 1.542887029901149, \"algea_EC50: true\": 4.030339232246188, \"algea_EC50: predicted\": 1.4451458427815398, \"rat_LD50: true\": 0.0, \"rat_LD50: predicted\": -1.6244242032815133, \"ecoli_MIC: true\": 0.0, \"ecoli_MIC: predicted\": 3.9562264347791105}, {\"fish_LC50: true\": 4.244200317766478, \"fish_LC50: predicted\": 3.9562581020616303, \"daphnia_EC50: true\": 3.3357695763397004, \"daphnia_EC50: predicted\": 2.1537340800326352, \"algea_EC50: true\": 5.0106352940962555, \"algea_EC50: predicted\": 3.1256378009808716, \"rat_LD50: true\": 0.0, \"rat_LD50: predicted\": -1.5149088528472916, \"ecoli_MIC: true\": 0.0, \"ecoli_MIC: predicted\": 4.346019379609793}, {\"fish_LC50: true\": 4.69951486425827, \"fish_LC50: predicted\": 4.639325336764171, \"daphnia_EC50: true\": 4.184748788096121, \"daphnia_EC50: predicted\": 3.284689180743118, \"algea_EC50: true\": 4.276666119016055, \"algea_EC50: predicted\": 1.7668860490331184, \"rat_LD50: true\": -1.992, \"rat_LD50: predicted\": -1.4645603106127592, \"ecoli_MIC: true\": 0.0, \"ecoli_MIC: predicted\": 2.849502550959093}, {\"fish_LC50: true\": 4.294544299005232, \"fish_LC50: predicted\": 3.4986699091099176, \"daphnia_EC50: true\": -0.8675005677047231, \"daphnia_EC50: predicted\": 1.9003114163818697, \"algea_EC50: true\": 2.7080502011022096, \"algea_EC50: predicted\": 3.1788231750144598, \"rat_LD50: true\": 0.0, \"rat_LD50: predicted\": -1.667797643986368, \"ecoli_MIC: true\": 0.0, \"ecoli_MIC: predicted\": 2.966361094129451}, {\"fish_LC50: true\": 1.945910149055313, \"fish_LC50: predicted\": 2.092679683177145, \"daphnia_EC50: true\": 3.912023005428147, \"daphnia_EC50: predicted\": 2.4448770040710834, \"algea_EC50: true\": -3.9120230054281473, \"algea_EC50: predicted\": -1.1932324372762058, \"rat_LD50: true\": -2.454, \"rat_LD50: predicted\": -2.1561309441509575, \"ecoli_MIC: true\": 0.0, \"ecoli_MIC: predicted\": 3.3659710885494487}, {\"fish_LC50: true\": 6.4798243211262365, \"fish_LC50: predicted\": 6.65970694127985, \"daphnia_EC50: true\": 0.0, \"daphnia_EC50: predicted\": 7.376897688655011, \"algea_EC50: true\": 5.132522488751033, \"algea_EC50: predicted\": 6.692079986823642, \"rat_LD50: true\": 0.0, \"rat_LD50: predicted\": -1.4290434503360658, \"ecoli_MIC: true\": 0.0, \"ecoli_MIC: predicted\": 5.415435750360935}, {\"fish_LC50: true\": 1.1662709371419244, \"fish_LC50: predicted\": 0.4363418358687673, \"daphnia_EC50: true\": 2.4932054526026954, \"daphnia_EC50: predicted\": 0.6696800066888592, \"algea_EC50: true\": 2.028148247292285, \"algea_EC50: predicted\": 1.6850739170520275, \"rat_LD50: true\": -1.644, \"rat_LD50: predicted\": -1.5798504531683863, \"ecoli_MIC: true\": 0.0, \"ecoli_MIC: predicted\": 5.8439650086152515}, {\"fish_LC50: true\": 2.379546134130174, \"fish_LC50: predicted\": 2.339525398443986, \"daphnia_EC50: true\": 3.2995337278856547, \"daphnia_EC50: predicted\": 3.7430324774532857, \"algea_EC50: true\": 3.1822118404966093, \"algea_EC50: predicted\": 2.300439135093613, \"rat_LD50: true\": -1.854, \"rat_LD50: predicted\": -1.1334060626224358, \"ecoli_MIC: true\": 0.0, \"ecoli_MIC: predicted\": 5.194415670253217}, {\"fish_LC50: true\": -0.5108256237659907, \"fish_LC50: predicted\": -0.2744068030881051, \"daphnia_EC50: true\": -1.3093333199837622, \"daphnia_EC50: predicted\": -1.5423967500147344, \"algea_EC50: true\": -2.0402208285265546, \"algea_EC50: predicted\": -0.314330496241445, \"rat_LD50: true\": 0.0, \"rat_LD50: predicted\": -1.72515897650017, \"ecoli_MIC: true\": 0.0, \"ecoli_MIC: predicted\": 4.971322543000513}, {\"fish_LC50: true\": 3.763522997109701, \"fish_LC50: predicted\": 4.168486505548761, \"daphnia_EC50: true\": 0.0, \"daphnia_EC50: predicted\": 2.005480596547489, \"algea_EC50: true\": 4.154184562578116, \"algea_EC50: predicted\": 2.5237974502372844, \"rat_LD50: true\": -2.184, \"rat_LD50: predicted\": -1.8029892062795017, \"ecoli_MIC: true\": 0.0, \"ecoli_MIC: predicted\": 3.9079255075227506}, {\"fish_LC50: true\": 2.1141853652720166, \"fish_LC50: predicted\": 2.4690127989263515, \"daphnia_EC50: true\": 2.5649493574615367, \"daphnia_EC50: predicted\": 2.246406707356192, \"algea_EC50: true\": -1.5606477482646683, \"algea_EC50: predicted\": 1.388879889305249, \"rat_LD50: true\": -2.049, \"rat_LD50: predicted\": -2.1814564102548406, \"ecoli_MIC: true\": 0.0, \"ecoli_MIC: predicted\": 4.040280089745604}, {\"fish_LC50: true\": 2.670694414558441, \"fish_LC50: predicted\": 2.569330715640514, \"daphnia_EC50: true\": 0.3364722366212129, \"daphnia_EC50: predicted\": 0.6334016453485419, \"algea_EC50: true\": -3.4769990950784373, \"algea_EC50: predicted\": 0.3297331626272574, \"rat_LD50: true\": -2.36, \"rat_LD50: predicted\": -2.626708121432656, \"ecoli_MIC: true\": 0.0, \"ecoli_MIC: predicted\": 5.025881268827991}, {\"fish_LC50: true\": 1.3862943611198906, \"fish_LC50: predicted\": 2.1840659743328037, \"daphnia_EC50: true\": 1.0986122886681098, \"daphnia_EC50: predicted\": 2.3409885991091857, \"algea_EC50: true\": 3.6109179126442235, \"algea_EC50: predicted\": 2.2712251313065956, \"rat_LD50: true\": -3.511, \"rat_LD50: predicted\": -2.354448371841084, \"ecoli_MIC: true\": 0.0, \"ecoli_MIC: predicted\": 4.398428209768599}, {\"fish_LC50: true\": 2.602689685444384, \"fish_LC50: predicted\": 2.8739917084953563, \"daphnia_EC50: true\": 2.6390573296152584, \"daphnia_EC50: predicted\": 2.418837124580777, \"algea_EC50: true\": 0.4054651081081644, \"algea_EC50: predicted\": 3.3390285655664558, \"rat_LD50: true\": 0.0, \"rat_LD50: predicted\": -1.6298270443605345, \"ecoli_MIC: true\": 0.0, \"ecoli_MIC: predicted\": 3.9454343404362495}, {\"fish_LC50: true\": 2.2257040486580886, \"fish_LC50: predicted\": 0.9757367169591604, \"daphnia_EC50: true\": 0.0, \"daphnia_EC50: predicted\": 1.2404673490466116, \"algea_EC50: true\": 4.272490747605575, \"algea_EC50: predicted\": 1.5516192235038195, \"rat_LD50: true\": 0.0, \"rat_LD50: predicted\": -1.2325291910763698, \"ecoli_MIC: true\": 0.0, \"ecoli_MIC: predicted\": 4.056701920634193}, {\"fish_LC50: true\": 5.240105456799623, \"fish_LC50: predicted\": 3.131509325567065, \"daphnia_EC50: true\": 3.735285826928092, \"daphnia_EC50: predicted\": 3.020301596884425, \"algea_EC50: true\": 3.58351893845611, \"algea_EC50: predicted\": 3.928908889350534, \"rat_LD50: true\": -2.6210000000000004, \"rat_LD50: predicted\": -1.693803396312953, \"ecoli_MIC: true\": 0.0, \"ecoli_MIC: predicted\": 5.19682964539419}, {\"fish_LC50: true\": 1.6486586255873816, \"fish_LC50: predicted\": 2.6075962410501665, \"daphnia_EC50: true\": 2.4849066497880004, \"daphnia_EC50: predicted\": 2.8188198778259017, \"algea_EC50: true\": 3.0445224377234235, \"algea_EC50: predicted\": 2.042867350639845, \"rat_LD50: true\": 0.0, \"rat_LD50: predicted\": -1.7513047524043959, \"ecoli_MIC: true\": 0.0, \"ecoli_MIC: predicted\": 2.878955213410082}, {\"fish_LC50: true\": 2.6390573296152584, \"fish_LC50: predicted\": 3.5528131760033395, \"daphnia_EC50: true\": 3.6375861597263857, \"daphnia_EC50: predicted\": 2.1812798123420927, \"algea_EC50: true\": 2.9391619220655967, \"algea_EC50: predicted\": 2.3755090153866605, \"rat_LD50: true\": -2.1790000000000003, \"rat_LD50: predicted\": -2.022693969146625, \"ecoli_MIC: true\": 0.0, \"ecoli_MIC: predicted\": 3.367231404337886}, {\"fish_LC50: true\": 4.07753744390572, \"fish_LC50: predicted\": 2.8653754713064874, \"daphnia_EC50: true\": 2.9444389791664403, \"daphnia_EC50: predicted\": 2.8785641741072636, \"algea_EC50: true\": 2.6741486494265287, \"algea_EC50: predicted\": 2.2561152417091517, \"rat_LD50: true\": 0.0, \"rat_LD50: predicted\": -1.9593774278661615, \"ecoli_MIC: true\": 0.0, \"ecoli_MIC: predicted\": 3.7542484873433333}, {\"fish_LC50: true\": 5.128714582161856, \"fish_LC50: predicted\": 4.10187759447187, \"daphnia_EC50: true\": 3.828641396489095, \"daphnia_EC50: predicted\": 3.8470560139728422, \"algea_EC50: true\": 4.043051267834549, \"algea_EC50: predicted\": 4.150124101750041, \"rat_LD50: true\": -2.316, \"rat_LD50: predicted\": -1.9535062675866306, \"ecoli_MIC: true\": 0.0, \"ecoli_MIC: predicted\": 3.823064710183248}, {\"fish_LC50: true\": 2.4849066497880004, \"fish_LC50: predicted\": 2.363171799846928, \"daphnia_EC50: true\": 2.654297745102963, \"daphnia_EC50: predicted\": 2.9757894884273717, \"algea_EC50: true\": -1.0996127890016931, \"algea_EC50: predicted\": -2.851995191866847, \"rat_LD50: true\": -2.651, \"rat_LD50: predicted\": -1.940692994164736, \"ecoli_MIC: true\": 0.0, \"ecoli_MIC: predicted\": 2.622117666532883}, {\"fish_LC50: true\": 0.8329091229351038, \"fish_LC50: predicted\": 2.0382343171839508, \"daphnia_EC50: true\": -0.9675840262617056, \"daphnia_EC50: predicted\": 1.2844377272706817, \"algea_EC50: true\": 0.9932517730102834, \"algea_EC50: predicted\": 1.8507814762399317, \"rat_LD50: true\": 0.0, \"rat_LD50: predicted\": -1.4188931360417976, \"ecoli_MIC: true\": 0.0, \"ecoli_MIC: predicted\": 3.904170874954942}, {\"fish_LC50: true\": 2.483113120996334, \"fish_LC50: predicted\": 0.5842556878838463, \"daphnia_EC50: true\": 1.5040773967762742, \"daphnia_EC50: predicted\": 0.4417680103786542, \"algea_EC50: true\": 2.066862759472976, \"algea_EC50: predicted\": 1.4220347901510735, \"rat_LD50: true\": 0.0, \"rat_LD50: predicted\": -1.5710710564091017, \"ecoli_MIC: true\": 0.0, \"ecoli_MIC: predicted\": 4.924880418520078}, {\"fish_LC50: true\": 3.5263605246161616, \"fish_LC50: predicted\": 3.6279677057071575, \"daphnia_EC50: true\": 0.7884573603642703, \"daphnia_EC50: predicted\": 1.07447083707567, \"algea_EC50: true\": 3.2386784521643803, \"algea_EC50: predicted\": 2.544900643874137, \"rat_LD50: true\": -2.234, \"rat_LD50: predicted\": -1.9206800964287214, \"ecoli_MIC: true\": 0.0, \"ecoli_MIC: predicted\": 5.1661978238532615}, {\"fish_LC50: true\": 1.900521261895136, \"fish_LC50: predicted\": 1.6250359942052157, \"daphnia_EC50: true\": 0.4054651081081644, \"daphnia_EC50: predicted\": 0.917789407977404, \"algea_EC50: true\": 3.4216533902295376, \"algea_EC50: predicted\": 2.343553587549585, \"rat_LD50: true\": -1.892, \"rat_LD50: predicted\": -2.0721993865803503, \"ecoli_MIC: true\": 0.0, \"ecoli_MIC: predicted\": 6.010628032051586}, {\"fish_LC50: true\": 2.5649493574615367, \"fish_LC50: predicted\": 2.179780648381447, \"daphnia_EC50: true\": 1.5040773967762742, \"daphnia_EC50: predicted\": 1.1338349519096982, \"algea_EC50: true\": 1.423108334242607, \"algea_EC50: predicted\": 1.8059173462176934, \"rat_LD50: true\": 0.0, \"rat_LD50: predicted\": -1.7834120900763537, \"ecoli_MIC: true\": 0.0, \"ecoli_MIC: predicted\": 5.080316105520316}, {\"fish_LC50: true\": 1.1756632997218393, \"fish_LC50: predicted\": 0.8715399946039872, \"daphnia_EC50: true\": 0.3364722366212129, \"daphnia_EC50: predicted\": 0.3122467849556134, \"algea_EC50: true\": 0.3364722366212129, \"algea_EC50: predicted\": -0.056111104656400956, \"rat_LD50: true\": 0.0, \"rat_LD50: predicted\": -1.2108013693825594, \"ecoli_MIC: true\": 0.0, \"ecoli_MIC: predicted\": 3.662132257870689}, {\"fish_LC50: true\": 2.772588722239781, \"fish_LC50: predicted\": 1.4434590598655062, \"daphnia_EC50: true\": 0.8616233305318469, \"daphnia_EC50: predicted\": 1.2757199712100045, \"algea_EC50: true\": 2.151762203259462, \"algea_EC50: predicted\": 2.4162559023132046, \"rat_LD50: true\": -1.582, \"rat_LD50: predicted\": -1.8373882173847864, \"ecoli_MIC: true\": 0.0, \"ecoli_MIC: predicted\": 5.289828002769015}, {\"fish_LC50: true\": 4.30406509320417, \"fish_LC50: predicted\": 4.356521020619908, \"daphnia_EC50: true\": 0.0, \"daphnia_EC50: predicted\": 3.3403361862101852, \"algea_EC50: true\": 1.5789787049493915, \"algea_EC50: predicted\": 1.294762668056602, \"rat_LD50: true\": -2.8180000000000005, \"rat_LD50: predicted\": -2.256224708146772, \"ecoli_MIC: true\": 0.0, \"ecoli_MIC: predicted\": 3.07579711784623}, {\"fish_LC50: true\": 0.5877866649021191, \"fish_LC50: predicted\": -0.1236877078946646, \"daphnia_EC50: true\": 0.4054651081081644, \"daphnia_EC50: predicted\": -0.8747823348194287, \"algea_EC50: true\": -0.27443684570176025, \"algea_EC50: predicted\": -0.31463882491933787, \"rat_LD50: true\": 0.0, \"rat_LD50: predicted\": -1.1982171903303365, \"ecoli_MIC: true\": 0.0, \"ecoli_MIC: predicted\": 3.717622480954958}, {\"fish_LC50: true\": 0.64056884914422, \"fish_LC50: predicted\": -0.3162765793686803, \"daphnia_EC50: true\": 0.3364722366212129, \"daphnia_EC50: predicted\": -1.0276394275180842, \"algea_EC50: true\": 0.4382549309311552, \"algea_EC50: predicted\": -0.6576964735518163, \"rat_LD50: true\": -1.941, \"rat_LD50: predicted\": -1.265325142553513, \"ecoli_MIC: true\": 0.0, \"ecoli_MIC: predicted\": 3.665643536780161}, {\"fish_LC50: true\": 0.8329091229351038, \"fish_LC50: predicted\": 0.2862651068941279, \"daphnia_EC50: true\": 0.0953101798043249, \"daphnia_EC50: predicted\": -0.04656227504910401, \"algea_EC50: true\": 1.4929040961781486, \"algea_EC50: predicted\": 0.8519519855786062, \"rat_LD50: true\": 0.0, \"rat_LD50: predicted\": -1.4804148472057348, \"ecoli_MIC: true\": 0.0, \"ecoli_MIC: predicted\": 5.191453974725252}, {\"fish_LC50: true\": 2.028148247292285, \"fish_LC50: predicted\": 3.2583631327208225, \"daphnia_EC50: true\": 0.0953101798043249, \"daphnia_EC50: predicted\": 2.197815438943734, \"algea_EC50: true\": 1.0116009116784799, \"algea_EC50: predicted\": 2.953930661655945, \"rat_LD50: true\": 0.0, \"rat_LD50: predicted\": -1.3243752143585379, \"ecoli_MIC: true\": 0.0, \"ecoli_MIC: predicted\": 4.176495029474912}, {\"fish_LC50: true\": 2.0399769489091644, \"fish_LC50: predicted\": 2.6695914575889907, \"daphnia_EC50: true\": -0.35667494393873234, \"daphnia_EC50: predicted\": 1.0145421159640444, \"algea_EC50: true\": 2.0541237336955462, \"algea_EC50: predicted\": 1.5392983824618591, \"rat_LD50: true\": -1.511, \"rat_LD50: predicted\": -1.4754953922419232, \"ecoli_MIC: true\": 0.0, \"ecoli_MIC: predicted\": 4.090402792761932}, {\"fish_LC50: true\": 4.143610803525019, \"fish_LC50: predicted\": 5.3376610153799415, \"daphnia_EC50: true\": 0.0, \"daphnia_EC50: predicted\": 3.0485389931310394, \"algea_EC50: true\": 4.062165663857866, \"algea_EC50: predicted\": 4.585963393446703, \"rat_LD50: true\": 0.0, \"rat_LD50: predicted\": -2.3617828257252134, \"ecoli_MIC: true\": 0.0, \"ecoli_MIC: predicted\": 3.415448496841135}, {\"fish_LC50: true\": 3.013080911888604, \"fish_LC50: predicted\": 5.38221715575259, \"daphnia_EC50: true\": 3.1354942159291497, \"daphnia_EC50: predicted\": 2.6202954718290132, \"algea_EC50: true\": 3.258096538021482, \"algea_EC50: predicted\": 2.3229830007847827, \"rat_LD50: true\": -2.322, \"rat_LD50: predicted\": -2.3663088238795043, \"ecoli_MIC: true\": 0.0, \"ecoli_MIC: predicted\": -2.622941018675588}, {\"fish_LC50: true\": 3.1045866784660734, \"fish_LC50: predicted\": 5.240907404463918, \"daphnia_EC50: true\": 4.155753190350744, \"daphnia_EC50: predicted\": 3.9349481853850525, \"algea_EC50: true\": 4.143134726391533, \"algea_EC50: predicted\": 1.7924143837309758, \"rat_LD50: true\": -2.119, \"rat_LD50: predicted\": -2.388734917657154, \"ecoli_MIC: true\": 0.0, \"ecoli_MIC: predicted\": -2.2762880405500168}, {\"fish_LC50: true\": 4.639571612705423, \"fish_LC50: predicted\": 4.659261713979672, \"daphnia_EC50: true\": 3.688879454113936, \"daphnia_EC50: predicted\": 3.806821371740295, \"algea_EC50: true\": 4.314323110193153, \"algea_EC50: predicted\": 4.102985193994476, \"rat_LD50: true\": -1.895, \"rat_LD50: predicted\": -1.6079190635755656, \"ecoli_MIC: true\": 0.0, \"ecoli_MIC: predicted\": 0.4028815167205738}, {\"fish_LC50: true\": 2.424802725718295, \"fish_LC50: predicted\": 3.2025515988805218, \"daphnia_EC50: true\": 2.028148247292285, \"daphnia_EC50: predicted\": 2.7507492678943346, \"algea_EC50: true\": 1.673351238177753, \"algea_EC50: predicted\": 3.6876205016873387, \"rat_LD50: true\": 0.0, \"rat_LD50: predicted\": -1.8371568479539206, \"ecoli_MIC: true\": 0.0, \"ecoli_MIC: predicted\": 1.3006933001973973}, {\"fish_LC50: true\": 2.0541237336955462, \"fish_LC50: predicted\": 1.0843992907251838, \"daphnia_EC50: true\": 0.5306282510621704, \"daphnia_EC50: predicted\": -0.6105391604188415, \"algea_EC50: true\": 1.9021075263969205, \"algea_EC50: predicted\": 0.7548478341085205, \"rat_LD50: true\": 0.0, \"rat_LD50: predicted\": -1.996433925074502, \"ecoli_MIC: true\": 0.0, \"ecoli_MIC: predicted\": 2.8250969735197096}, {\"fish_LC50: true\": 3.610917912644224, \"fish_LC50: predicted\": 2.6435372259187018, \"daphnia_EC50: true\": 2.8903717578961645, \"daphnia_EC50: predicted\": 3.3053586431715023, \"algea_EC50: true\": 2.9444389791664403, \"algea_EC50: predicted\": 3.2402445119682857, \"rat_LD50: true\": 0.0, \"rat_LD50: predicted\": -1.804815093127611, \"ecoli_MIC: true\": 0.0, \"ecoli_MIC: predicted\": 4.202416968011193}, {\"fish_LC50: true\": -2.302585092994045, \"fish_LC50: predicted\": -0.2768539603226596, \"daphnia_EC50: true\": -1.4696759700589417, \"daphnia_EC50: predicted\": -1.2072496648628013, \"algea_EC50: true\": 0.1823215567939546, \"algea_EC50: predicted\": -0.9051723550982491, \"rat_LD50: true\": 0.0, \"rat_LD50: predicted\": -2.4209779434127787, \"ecoli_MIC: true\": 0.0, \"ecoli_MIC: predicted\": 3.5684741675637417}, {\"fish_LC50: true\": 2.0541237336955462, \"fish_LC50: predicted\": 1.6144521724447822, \"daphnia_EC50: true\": 1.8405496333974867, \"daphnia_EC50: predicted\": 0.7607498235924086, \"algea_EC50: true\": 2.4849066497880004, \"algea_EC50: predicted\": 1.233833081809964, \"rat_LD50: true\": 0.0, \"rat_LD50: predicted\": -1.6771212740163823, \"ecoli_MIC: true\": 0.0, \"ecoli_MIC: predicted\": 3.848845294010811}, {\"fish_LC50: true\": -1.0216512475319814, \"fish_LC50: predicted\": -1.5429806861174256, \"daphnia_EC50: true\": -1.1086626245216111, \"daphnia_EC50: predicted\": -1.6314126097360715, \"algea_EC50: true\": -0.9675840262617057, \"algea_EC50: predicted\": -1.2456500353683155, \"rat_LD50: true\": -3.29, \"rat_LD50: predicted\": -2.797263621257129, \"ecoli_MIC: true\": 0.0, \"ecoli_MIC: predicted\": -0.3126180020779663}, {\"fish_LC50: true\": 6.030685260261262, \"fish_LC50: predicted\": 4.454490136149135, \"daphnia_EC50: true\": 4.390738575275903, \"daphnia_EC50: predicted\": 4.785637885859275, \"algea_EC50: true\": 3.971234865059992, \"algea_EC50: predicted\": 5.302073514878336, \"rat_LD50: true\": 0.0, \"rat_LD50: predicted\": -2.179968691936669, \"ecoli_MIC: true\": 0.0, \"ecoli_MIC: predicted\": 5.8895846210179394}, {\"fish_LC50: true\": 4.890349128221754, \"fish_LC50: predicted\": 5.249513906489981, \"daphnia_EC50: true\": 0.0, \"daphnia_EC50: predicted\": 4.132116459795962, \"algea_EC50: true\": 0.5007752879124892, \"algea_EC50: predicted\": 4.403417064359733, \"rat_LD50: true\": -2.543, \"rat_LD50: predicted\": -1.9383180449065704, \"ecoli_MIC: true\": 0.0, \"ecoli_MIC: predicted\": 4.345244839640771}, {\"fish_LC50: true\": 4.61512051684126, \"fish_LC50: predicted\": 6.282310838468067, \"daphnia_EC50: true\": 3.610917912644224, \"daphnia_EC50: predicted\": 4.8560541756596365, \"algea_EC50: true\": 4.465908118654584, \"algea_EC50: predicted\": 4.183458548211928, \"rat_LD50: true\": -2.146, \"rat_LD50: predicted\": -1.8650313269601555, \"ecoli_MIC: true\": 0.0, \"ecoli_MIC: predicted\": 4.281631261854346}, {\"fish_LC50: true\": 4.787491742782046, \"fish_LC50: predicted\": 5.690480313372039, \"daphnia_EC50: true\": 0.7419373447293773, \"daphnia_EC50: predicted\": 3.4765802420385823, \"algea_EC50: true\": 1.4350845252893227, \"algea_EC50: predicted\": 3.20413922994007, \"rat_LD50: true\": 0.0, \"rat_LD50: predicted\": -2.2071549005431814, \"ecoli_MIC: true\": 0.0, \"ecoli_MIC: predicted\": 1.7883053626903993}, {\"fish_LC50: true\": 2.3978952727983707, \"fish_LC50: predicted\": 3.880037031188179, \"daphnia_EC50: true\": 1.7047480922384253, \"daphnia_EC50: predicted\": 3.557903376639491, \"algea_EC50: true\": 0.8285518175661482, \"algea_EC50: predicted\": 3.0588576611503653, \"rat_LD50: true\": 0.0, \"rat_LD50: predicted\": -2.628357412021288, \"ecoli_MIC: true\": 0.0, \"ecoli_MIC: predicted\": 3.5967625748808993}, {\"fish_LC50: true\": 4.474251310319367, \"fish_LC50: predicted\": 2.14275875138866, \"daphnia_EC50: true\": 2.7212954278522306, \"daphnia_EC50: predicted\": 2.898346924218097, \"algea_EC50: true\": 3.4028626609812167, \"algea_EC50: predicted\": 2.701252756612451, \"rat_LD50: true\": -2.166, \"rat_LD50: predicted\": -2.25132740283534, \"ecoli_MIC: true\": 0.0, \"ecoli_MIC: predicted\": 3.1697747117122566}, {\"fish_LC50: true\": 3.0349529867072724, \"fish_LC50: predicted\": 3.2611486254944833, \"daphnia_EC50: true\": 2.4849066497880004, \"daphnia_EC50: predicted\": 2.3174320806973627, \"algea_EC50: true\": 2.9444389791664403, \"algea_EC50: predicted\": 2.4086844673756533, \"rat_LD50: true\": -3.998, \"rat_LD50: predicted\": -3.122419144569744, \"ecoli_MIC: true\": 0.0, \"ecoli_MIC: predicted\": 3.5785564609969285}, {\"fish_LC50: true\": 1.6677068205580758, \"fish_LC50: predicted\": 0.676995746143513, \"daphnia_EC50: true\": 0.8329091229351039, \"daphnia_EC50: predicted\": -0.22513751302236654, \"algea_EC50: true\": 0.8960880245566356, \"algea_EC50: predicted\": 1.0230027804598925, \"rat_LD50: true\": -1.7080000000000002, \"rat_LD50: predicted\": -2.19610540050623, \"ecoli_MIC: true\": 0.0, \"ecoli_MIC: predicted\": 4.452911018569649}, {\"fish_LC50: true\": 0.6418261777466989, \"fish_LC50: predicted\": 1.6947586121160834, \"daphnia_EC50: true\": 0.5877866649021191, \"daphnia_EC50: predicted\": -0.002373724517189202, \"algea_EC50: true\": 1.90210752639692, \"algea_EC50: predicted\": 1.44350962721528, \"rat_LD50: true\": -1.747, \"rat_LD50: predicted\": -2.0959252700364077, \"ecoli_MIC: true\": 0.0, \"ecoli_MIC: predicted\": 4.755283877347797}, {\"fish_LC50: true\": 2.7080502011022096, \"fish_LC50: predicted\": 3.670472971782012, \"daphnia_EC50: true\": -1.0788096613719298, \"daphnia_EC50: predicted\": 0.9336120527179605, \"algea_EC50: true\": 3.8501476017100575, \"algea_EC50: predicted\": 3.6970649210501665, \"rat_LD50: true\": 0.0, \"rat_LD50: predicted\": -2.2746201661508714, \"ecoli_MIC: true\": 0.0, \"ecoli_MIC: predicted\": 4.0388185705497}, {\"fish_LC50: true\": 6.970730078143525, \"fish_LC50: predicted\": 3.0698171352863763, \"daphnia_EC50: true\": 0.6931471805599453, \"daphnia_EC50: predicted\": -0.006222495082099572, \"algea_EC50: true\": 3.1780538303479458, \"algea_EC50: predicted\": 2.1530836236942386, \"rat_LD50: true\": -2.587, \"rat_LD50: predicted\": -2.217899628231497, \"ecoli_MIC: true\": 0.0, \"ecoli_MIC: predicted\": 3.137587522626802}, {\"fish_LC50: true\": 4.787491742782046, \"fish_LC50: predicted\": 2.346264603528025, \"daphnia_EC50: true\": -1.3205066205818874, \"daphnia_EC50: predicted\": 0.5588164620060082, \"algea_EC50: true\": 4.215086179918228, \"algea_EC50: predicted\": 2.227401479820212, \"rat_LD50: true\": -2.072, \"rat_LD50: predicted\": -1.9128357712830297, \"ecoli_MIC: true\": 0.0, \"ecoli_MIC: predicted\": 4.370831439164608}, {\"fish_LC50: true\": 3.3092063243141165, \"fish_LC50: predicted\": 1.7023396769932495, \"daphnia_EC50: true\": 0.0, \"daphnia_EC50: predicted\": 1.1308752308433676, \"algea_EC50: true\": 2.628285232633348, \"algea_EC50: predicted\": 1.699828038057259, \"rat_LD50: true\": -2.526, \"rat_LD50: predicted\": -2.2695119240336368, \"ecoli_MIC: true\": 0.0, \"ecoli_MIC: predicted\": 4.406604426940078}, {\"fish_LC50: true\": 4.31748811353631, \"fish_LC50: predicted\": 3.451751369229685, \"daphnia_EC50: true\": -1.3470736479666092, \"daphnia_EC50: predicted\": 1.6059281679063129, \"algea_EC50: true\": 3.5263605246161616, \"algea_EC50: predicted\": 3.0603530952328852, \"rat_LD50: true\": 0.0, \"rat_LD50: predicted\": -2.305841732356054, \"ecoli_MIC: true\": 0.0, \"ecoli_MIC: predicted\": 3.8312108865681953}, {\"fish_LC50: true\": 2.3978952727983707, \"fish_LC50: predicted\": 5.820393125016387, \"daphnia_EC50: true\": 3.555348061489413, \"daphnia_EC50: predicted\": 2.4106659147624754, \"algea_EC50: true\": 2.4849066497880004, \"algea_EC50: predicted\": 5.554117657123526, \"rat_LD50: true\": -2.673, \"rat_LD50: predicted\": -2.6303500222218057, \"ecoli_MIC: true\": 0.0, \"ecoli_MIC: predicted\": 3.282471208702117}, {\"fish_LC50: true\": 4.762173934797756, \"fish_LC50: predicted\": 3.0339561950898015, \"daphnia_EC50: true\": 4.695056592782615, \"daphnia_EC50: predicted\": 1.192828658962513, \"algea_EC50: true\": 5.303304908059076, \"algea_EC50: predicted\": 2.455385771148545, \"rat_LD50: true\": -2.61, \"rat_LD50: predicted\": -3.19698517664382, \"ecoli_MIC: true\": 0.0, \"ecoli_MIC: predicted\": 3.6378907403856573}, {\"fish_LC50: true\": 4.219507705176107, \"fish_LC50: predicted\": 3.437978740807914, \"daphnia_EC50: true\": 3.4934726577713264, \"daphnia_EC50: predicted\": 4.207607973611954, \"algea_EC50: true\": 4.168988105217867, \"algea_EC50: predicted\": 3.0746766267174834, \"rat_LD50: true\": -2.354, \"rat_LD50: predicted\": -1.7067300364634037, \"ecoli_MIC: true\": 0.0, \"ecoli_MIC: predicted\": 3.790253650810058}, {\"fish_LC50: true\": 4.2021520815229785, \"fish_LC50: predicted\": 4.348944900587342, \"daphnia_EC50: true\": 0.0, \"daphnia_EC50: predicted\": 5.4250557700641355, \"algea_EC50: true\": 4.1206618705394735, \"algea_EC50: predicted\": 5.626332651366509, \"rat_LD50: true\": 0.0, \"rat_LD50: predicted\": -2.049468778008162, \"ecoli_MIC: true\": 0.0, \"ecoli_MIC: predicted\": 3.324507584032246}, {\"fish_LC50: true\": 2.5649493574615367, \"fish_LC50: predicted\": 1.6788839611601891, \"daphnia_EC50: true\": 3.610917912644224, \"daphnia_EC50: predicted\": 1.2435247359504744, \"algea_EC50: true\": 3.0910424533583165, \"algea_EC50: predicted\": 1.9902906350141027, \"rat_LD50: true\": 0.0, \"rat_LD50: predicted\": -1.4628078910709443, \"ecoli_MIC: true\": 0.0, \"ecoli_MIC: predicted\": 5.43298189843847}, {\"fish_LC50: true\": -1.5987414753339686, \"fish_LC50: predicted\": -1.898010947751237, \"daphnia_EC50: true\": -3.270169119255751, \"daphnia_EC50: predicted\": -2.1444448093388795, \"algea_EC50: true\": -0.4155154439616658, \"algea_EC50: predicted\": -0.9975838314639294, \"rat_LD50: true\": -3.994, \"rat_LD50: predicted\": -2.0577070750715696, \"ecoli_MIC: true\": 0.0, \"ecoli_MIC: predicted\": 1.3122346094276105}, {\"fish_LC50: true\": 2.3978952727983707, \"fish_LC50: predicted\": 2.1937088848817194, \"daphnia_EC50: true\": 2.066862759472976, \"daphnia_EC50: predicted\": 2.496026565002278, \"algea_EC50: true\": 1.824549292051046, \"algea_EC50: predicted\": 2.058613956493293, \"rat_LD50: true\": 0.0, \"rat_LD50: predicted\": -2.1361401102159565, \"ecoli_MIC: true\": 0.0, \"ecoli_MIC: predicted\": 3.0612685551320684}, {\"fish_LC50: true\": 0.5877866649021191, \"fish_LC50: predicted\": -0.4518539809233611, \"daphnia_EC50: true\": 0.5877866649021191, \"daphnia_EC50: predicted\": 0.4251876940427973, \"algea_EC50: true\": 1.2817668317659563, \"algea_EC50: predicted\": -0.6947405859466833, \"rat_LD50: true\": 0.0, \"rat_LD50: predicted\": -2.0412183759021754, \"ecoli_MIC: true\": 0.0, \"ecoli_MIC: predicted\": 5.012784417397516}, {\"fish_LC50: true\": 0.9157680726479567, \"fish_LC50: predicted\": 2.6900298910577716, \"daphnia_EC50: true\": 0.5306282510621704, \"daphnia_EC50: predicted\": 3.1567473585179644, \"algea_EC50: true\": -1.491654876777717, \"algea_EC50: predicted\": 2.2304504326533685, \"rat_LD50: true\": 0.0, \"rat_LD50: predicted\": -1.9184680501371858, \"ecoli_MIC: true\": 0.0, \"ecoli_MIC: predicted\": 2.9078799497907846}, {\"fish_LC50: true\": 3.7841896339182615, \"fish_LC50: predicted\": 2.7245923459677015, \"daphnia_EC50: true\": 2.1162555148025524, \"daphnia_EC50: predicted\": 1.7913300814874562, \"algea_EC50: true\": 4.6913478822291435, \"algea_EC50: predicted\": 3.2654089560652535, \"rat_LD50: true\": -2.4730000000000003, \"rat_LD50: predicted\": -1.7284734831057922, \"ecoli_MIC: true\": 0.0, \"ecoli_MIC: predicted\": 4.073850319383078}, {\"fish_LC50: true\": 0.4054651081081644, \"fish_LC50: predicted\": 0.9427565736895889, \"daphnia_EC50: true\": -0.342490308946776, \"daphnia_EC50: predicted\": 0.319952054718154, \"algea_EC50: true\": -0.6931471805599454, \"algea_EC50: predicted\": 0.619663029651314, \"rat_LD50: true\": -3.2230000000000003, \"rat_LD50: predicted\": -1.862536486269632, \"ecoli_MIC: true\": 0.0, \"ecoli_MIC: predicted\": 5.71676160622245}, {\"fish_LC50: true\": 0.6931471805599453, \"fish_LC50: predicted\": 2.0250733042286253, \"daphnia_EC50: true\": 2.104134154270208, \"daphnia_EC50: predicted\": 2.665274733197134, \"algea_EC50: true\": -0.5191938734365074, \"algea_EC50: predicted\": 1.5746221057459928, \"rat_LD50: true\": 0.0, \"rat_LD50: predicted\": -2.2177070636179783, \"ecoli_MIC: true\": 0.0, \"ecoli_MIC: predicted\": 4.767484395542924}, {\"fish_LC50: true\": 2.4849066497880004, \"fish_LC50: predicted\": 2.0275273378877015, \"daphnia_EC50: true\": 3.555348061489413, \"daphnia_EC50: predicted\": 1.767488285342798, \"algea_EC50: true\": -0.9416085398584451, \"algea_EC50: predicted\": 1.7746641029489905, \"rat_LD50: true\": -3.307, \"rat_LD50: predicted\": -2.4792261205354285, \"ecoli_MIC: true\": 0.0, \"ecoli_MIC: predicted\": 3.5997643247909066}, {\"fish_LC50: true\": 0.0, \"fish_LC50: predicted\": 0.7841419524077096, \"daphnia_EC50: true\": 0.1823215567939546, \"daphnia_EC50: predicted\": 0.8328293364011852, \"algea_EC50: true\": 1.8802281172156632, \"algea_EC50: predicted\": 1.298384960865932, \"rat_LD50: true\": 0.0, \"rat_LD50: predicted\": -2.2014784940869974, \"ecoli_MIC: true\": 0.0, \"ecoli_MIC: predicted\": 2.219604660912097}, {\"fish_LC50: true\": 0.0, \"fish_LC50: predicted\": 1.5679557214090656, \"daphnia_EC50: true\": 0.8241754429663495, \"daphnia_EC50: predicted\": -0.8721083164279383, \"algea_EC50: true\": 1.6695918352538477, \"algea_EC50: predicted\": 0.9793570132696152, \"rat_LD50: true\": 0.0, \"rat_LD50: predicted\": -1.98049806577526, \"ecoli_MIC: true\": 0.0, \"ecoli_MIC: predicted\": 3.252890814689791}, {\"fish_LC50: true\": 0.0, \"fish_LC50: predicted\": 4.311519844233272, \"daphnia_EC50: true\": 2.509599262378372, \"daphnia_EC50: predicted\": 5.257005938323989, \"algea_EC50: true\": 5.204006687076795, \"algea_EC50: predicted\": 3.4720109520040063, \"rat_LD50: true\": 0.0, \"rat_LD50: predicted\": -2.122474719062686, \"ecoli_MIC: true\": 0.0, \"ecoli_MIC: predicted\": 1.362040865360233}, {\"fish_LC50: true\": 0.0, \"fish_LC50: predicted\": 4.123294334539455, \"daphnia_EC50: true\": 5.940171252720432, \"daphnia_EC50: predicted\": 5.451316619397154, \"algea_EC50: true\": 6.846457368057451, \"algea_EC50: predicted\": 5.571013404144072, \"rat_LD50: true\": -1.862, \"rat_LD50: predicted\": -1.7957218023120727, \"ecoli_MIC: true\": 0.0, \"ecoli_MIC: predicted\": 3.3027142742123745}, {\"fish_LC50: true\": 0.0, \"fish_LC50: predicted\": 3.0294928547328492, \"daphnia_EC50: true\": 3.6000482404073204, \"daphnia_EC50: predicted\": 3.8790144857117994, \"algea_EC50: true\": 3.688879454113936, \"algea_EC50: predicted\": 2.837676413514418, \"rat_LD50: true\": -1.651, \"rat_LD50: predicted\": -1.9074343896772272, \"ecoli_MIC: true\": 0.0, \"ecoli_MIC: predicted\": 4.59568579485559}, {\"fish_LC50: true\": 0.0, \"fish_LC50: predicted\": 3.694401692906328, \"daphnia_EC50: true\": 3.572345637857985, \"daphnia_EC50: predicted\": 3.8225850203657936, \"algea_EC50: true\": 2.827313621929028, \"algea_EC50: predicted\": 2.9537743745192757, \"rat_LD50: true\": -1.706, \"rat_LD50: predicted\": -2.199588647971358, \"ecoli_MIC: true\": 0.0, \"ecoli_MIC: predicted\": 4.725966631310514}, {\"fish_LC50: true\": 0.0, \"fish_LC50: predicted\": -0.6664839563588918, \"daphnia_EC50: true\": -0.941608539858445, \"daphnia_EC50: predicted\": 0.3740104233516793, \"algea_EC50: true\": 6.9084650270513785, \"algea_EC50: predicted\": 0.44091127840622113, \"rat_LD50: true\": 0.0, \"rat_LD50: predicted\": -1.5404177403942345, \"ecoli_MIC: true\": 0.0, \"ecoli_MIC: predicted\": 3.365924746560924}, {\"fish_LC50: true\": 0.0, \"fish_LC50: predicted\": 1.1969130485393358, \"daphnia_EC50: true\": -0.5108256237659907, \"daphnia_EC50: predicted\": 1.310751340236015, \"algea_EC50: true\": -0.8675005677047232, \"algea_EC50: predicted\": 1.0005201990160155, \"rat_LD50: true\": 0.0, \"rat_LD50: predicted\": -1.4246753435749253, \"ecoli_MIC: true\": 0.0, \"ecoli_MIC: predicted\": 5.096148298645356}, {\"fish_LC50: true\": 0.0, \"fish_LC50: predicted\": 1.9202633052482738, \"daphnia_EC50: true\": 1.81319474994812, \"daphnia_EC50: predicted\": 2.060735663838412, \"algea_EC50: true\": 2.1882959465919183, \"algea_EC50: predicted\": 2.470567035973759, \"rat_LD50: true\": -1.571, \"rat_LD50: predicted\": -2.1016434002563766, \"ecoli_MIC: true\": 0.0, \"ecoli_MIC: predicted\": 4.54838902164205}, {\"fish_LC50: true\": 0.0, \"fish_LC50: predicted\": 3.216868469261065, \"daphnia_EC50: true\": -0.7133498878774648, \"daphnia_EC50: predicted\": 3.1013884637304336, \"algea_EC50: true\": 1.0647107369924282, \"algea_EC50: predicted\": 3.317883039035892, \"rat_LD50: true\": 0.0, \"rat_LD50: predicted\": -1.9805808264919036, \"ecoli_MIC: true\": 0.0, \"ecoli_MIC: predicted\": 4.880513204179145}, {\"fish_LC50: true\": 0.0, \"fish_LC50: predicted\": 2.2799817431419376, \"daphnia_EC50: true\": 2.4336133554004498, \"daphnia_EC50: predicted\": 2.0914064196542292, \"algea_EC50: true\": 2.6741486494265287, \"algea_EC50: predicted\": 3.117556156225502, \"rat_LD50: true\": -1.455, \"rat_LD50: predicted\": -1.5045291007778883, \"ecoli_MIC: true\": 0.0, \"ecoli_MIC: predicted\": 3.812953307460786}, {\"fish_LC50: true\": 0.0, \"fish_LC50: predicted\": -0.34544061608150384, \"daphnia_EC50: true\": 1.1512047387872804, \"daphnia_EC50: predicted\": 0.3856734701564266, \"algea_EC50: true\": 1.7393251732685229, \"algea_EC50: predicted\": 0.09092352586985242, \"rat_LD50: true\": -1.7919999999999998, \"rat_LD50: predicted\": -2.1043423096434375, \"ecoli_MIC: true\": 0.0, \"ecoli_MIC: predicted\": 3.5416028004484765}, {\"fish_LC50: true\": 0.0, \"fish_LC50: predicted\": 1.5542433582808557, \"daphnia_EC50: true\": 0.29266961396282004, \"daphnia_EC50: predicted\": 1.7978352353506404, \"algea_EC50: true\": 1.8702625307159984, \"algea_EC50: predicted\": 1.9440915421110896, \"rat_LD50: true\": 0.0, \"rat_LD50: predicted\": -1.5664085975088509, \"ecoli_MIC: true\": 0.0, \"ecoli_MIC: predicted\": 4.029508255468079}, {\"fish_LC50: true\": 0.0, \"fish_LC50: predicted\": 1.8723477610755932, \"daphnia_EC50: true\": 0.8329091229351039, \"daphnia_EC50: predicted\": 0.976296627257914, \"algea_EC50: true\": 4.8865826454262775, \"algea_EC50: predicted\": 2.2056460642744264, \"rat_LD50: true\": 0.0, \"rat_LD50: predicted\": -2.2861588472702246, \"ecoli_MIC: true\": 0.0, \"ecoli_MIC: predicted\": 4.224322523250508}, {\"fish_LC50: true\": 0.0, \"fish_LC50: predicted\": 3.188429431756098, \"daphnia_EC50: true\": 1.5706970841176695, \"daphnia_EC50: predicted\": 4.232286338917548, \"algea_EC50: true\": 3.255207754115592, \"algea_EC50: predicted\": 1.562059450354777, \"rat_LD50: true\": -1.6969999999999998, \"rat_LD50: predicted\": -2.673069490147581, \"ecoli_MIC: true\": 0.0, \"ecoli_MIC: predicted\": 3.2639036738825107}, {\"fish_LC50: true\": 0.0, \"fish_LC50: predicted\": 2.5643742815611192, \"daphnia_EC50: true\": 2.8094026953624978, \"daphnia_EC50: predicted\": 1.8834698315364724, \"algea_EC50: true\": 2.3513752571634776, \"algea_EC50: predicted\": 2.312770190176789, \"rat_LD50: true\": 0.0, \"rat_LD50: predicted\": -1.7883227882008526, \"ecoli_MIC: true\": 0.0, \"ecoli_MIC: predicted\": 2.761980582394097}, {\"fish_LC50: true\": 0.0, \"fish_LC50: predicted\": 3.26580481479083, \"daphnia_EC50: true\": 3.0445224377234235, \"daphnia_EC50: predicted\": 2.64270011411203, \"algea_EC50: true\": 2.4849066497880004, \"algea_EC50: predicted\": 3.1951368447464668, \"rat_LD50: true\": 0.0, \"rat_LD50: predicted\": -1.679865169519129, \"ecoli_MIC: true\": 0.0, \"ecoli_MIC: predicted\": 4.982378018192731}, {\"fish_LC50: true\": 0.0, \"fish_LC50: predicted\": 3.865081657748678, \"daphnia_EC50: true\": 4.290459441148391, \"daphnia_EC50: predicted\": 2.9046839426945508, \"algea_EC50: true\": 4.219507705176107, \"algea_EC50: predicted\": 2.986323939597168, \"rat_LD50: true\": 0.0, \"rat_LD50: predicted\": -2.387805404919497, \"ecoli_MIC: true\": 0.0, \"ecoli_MIC: predicted\": 3.0441897858031277}, {\"fish_LC50: true\": 0.0, \"fish_LC50: predicted\": 2.6761779905960092, \"daphnia_EC50: true\": 3.218875824868201, \"daphnia_EC50: predicted\": 2.1842381169350724, \"algea_EC50: true\": 3.4210000089583352, \"algea_EC50: predicted\": 2.8231559848497647, \"rat_LD50: true\": -1.808, \"rat_LD50: predicted\": -1.8092411602920957, \"ecoli_MIC: true\": 0.0, \"ecoli_MIC: predicted\": 5.045838131806099}, {\"fish_LC50: true\": 0.0, \"fish_LC50: predicted\": 1.771760968436313, \"daphnia_EC50: true\": 2.0943301541735866, \"daphnia_EC50: predicted\": 3.034432051736543, \"algea_EC50: true\": 1.5432981099295553, \"algea_EC50: predicted\": 2.8727022067529804, \"rat_LD50: true\": 0.0, \"rat_LD50: predicted\": -1.331415498537709, \"ecoli_MIC: true\": 0.0, \"ecoli_MIC: predicted\": 6.642354567650819}, {\"fish_LC50: true\": 0.0, \"fish_LC50: predicted\": -0.6741803751889892, \"daphnia_EC50: true\": 0.0953101798043249, \"daphnia_EC50: predicted\": -1.1049591834878514, \"algea_EC50: true\": -0.18632957819149348, \"algea_EC50: predicted\": -0.04659469476211564, \"rat_LD50: true\": -1.88, \"rat_LD50: predicted\": -2.1417028494638046, \"ecoli_MIC: true\": 0.0, \"ecoli_MIC: predicted\": 4.750124546916748}, {\"fish_LC50: true\": 0.0, \"fish_LC50: predicted\": 2.8610835007201993, \"daphnia_EC50: true\": 1.2809338454620642, \"daphnia_EC50: predicted\": 1.621316734388541, \"algea_EC50: true\": 1.8251942453142924, \"algea_EC50: predicted\": 2.7937929545095925, \"rat_LD50: true\": -1.223, \"rat_LD50: predicted\": -1.5295093800026796, \"ecoli_MIC: true\": 0.0, \"ecoli_MIC: predicted\": 4.490264291441264}, {\"fish_LC50: true\": 0.0, \"fish_LC50: predicted\": 3.4602784446893624, \"daphnia_EC50: true\": 3.5450090836942345, \"daphnia_EC50: predicted\": 3.9006842616204627, \"algea_EC50: true\": 3.125443880075648, \"algea_EC50: predicted\": 4.304092281880835, \"rat_LD50: true\": 0.0, \"rat_LD50: predicted\": -1.6782803533062225, \"ecoli_MIC: true\": 0.0, \"ecoli_MIC: predicted\": 5.148897125302891}, {\"fish_LC50: true\": 0.0, \"fish_LC50: predicted\": 0.48413892590274216, \"daphnia_EC50: true\": -2.79034544382904, \"daphnia_EC50: predicted\": -1.1230641209147565, \"algea_EC50: true\": -0.898942093539542, \"algea_EC50: predicted\": -0.9209512028649309, \"rat_LD50: true\": 0.0, \"rat_LD50: predicted\": -2.5221796192844095, \"ecoli_MIC: true\": 0.0, \"ecoli_MIC: predicted\": 1.8231471443019711}, {\"fish_LC50: true\": 0.0, \"fish_LC50: predicted\": -1.0142364884264599, \"daphnia_EC50: true\": -2.7105533313203285, \"daphnia_EC50: predicted\": -1.4059310161069498, \"algea_EC50: true\": -4.615220521841593, \"algea_EC50: predicted\": -1.1663088399361812, \"rat_LD50: true\": 0.0, \"rat_LD50: predicted\": -1.9634621500001743, \"ecoli_MIC: true\": 0.0, \"ecoli_MIC: predicted\": 3.440516252392939}, {\"fish_LC50: true\": 0.0, \"fish_LC50: predicted\": 0.6592054314843528, \"daphnia_EC50: true\": -1.210661792476733, \"daphnia_EC50: predicted\": 0.7774416872046347, \"algea_EC50: true\": -2.1803674602697964, \"algea_EC50: predicted\": 1.734786270950915, \"rat_LD50: true\": 0.0, \"rat_LD50: predicted\": -1.6790195764915545, \"ecoli_MIC: true\": 0.0, \"ecoli_MIC: predicted\": 5.262073110505684}, {\"fish_LC50: true\": 0.0, \"fish_LC50: predicted\": -3.2184385187294464, \"daphnia_EC50: true\": 3.0445224377234235, \"daphnia_EC50: predicted\": -3.1322736351518197, \"algea_EC50: true\": 5.310739886546594, \"algea_EC50: predicted\": -2.45957812753073, \"rat_LD50: true\": 0.0, \"rat_LD50: predicted\": -2.3928362091047686, \"ecoli_MIC: true\": 0.0, \"ecoli_MIC: predicted\": 1.5802189473374826}, {\"fish_LC50: true\": 0.0, \"fish_LC50: predicted\": 2.5400127320079213, \"daphnia_EC50: true\": 2.5649493574615367, \"daphnia_EC50: predicted\": 2.2857015195205364, \"algea_EC50: true\": 2.772588722239781, \"algea_EC50: predicted\": 3.3930778259775365, \"rat_LD50: true\": 0.0, \"rat_LD50: predicted\": -1.161331794894061, \"ecoli_MIC: true\": 0.0, \"ecoli_MIC: predicted\": 5.796025036545898}, {\"fish_LC50: true\": 0.0, \"fish_LC50: predicted\": 3.3244290380500905, \"daphnia_EC50: true\": 2.7472709142554907, \"daphnia_EC50: predicted\": 2.8834937846624413, \"algea_EC50: true\": 2.1282317058492684, \"algea_EC50: predicted\": 3.029903930823233, \"rat_LD50: true\": 0.0, \"rat_LD50: predicted\": -1.8672016065622232, \"ecoli_MIC: true\": 0.0, \"ecoli_MIC: predicted\": 5.86866738436808}, {\"fish_LC50: true\": 0.0, \"fish_LC50: predicted\": 2.13412227124221, \"daphnia_EC50: true\": 4.437697832044343, \"daphnia_EC50: predicted\": 3.658139263419221, \"algea_EC50: true\": 4.176538799848087, \"algea_EC50: predicted\": 3.024758761386913, \"rat_LD50: true\": 0.0, \"rat_LD50: predicted\": -1.7740275055766124, \"ecoli_MIC: true\": 0.0, \"ecoli_MIC: predicted\": 5.069173069585959}, {\"fish_LC50: true\": 0.0, \"fish_LC50: predicted\": -3.1640013426351206, \"daphnia_EC50: true\": -8.568486485803787, \"daphnia_EC50: predicted\": -8.032895496617659, \"algea_EC50: true\": -0.6443570163905132, \"algea_EC50: predicted\": -1.3296399732215556, \"rat_LD50: true\": -3.447, \"rat_LD50: predicted\": -3.7299954417260848, \"ecoli_MIC: true\": 0.0, \"ecoli_MIC: predicted\": 2.605496378794184}, {\"fish_LC50: true\": 0.0, \"fish_LC50: predicted\": 4.524904105145621, \"daphnia_EC50: true\": 3.871201010907892, \"daphnia_EC50: predicted\": 4.480792706862632, \"algea_EC50: true\": 4.316153890523174, \"algea_EC50: predicted\": 2.283441247660914, \"rat_LD50: true\": 0.0, \"rat_LD50: predicted\": -2.3886044235811186, \"ecoli_MIC: true\": 0.0, \"ecoli_MIC: predicted\": 4.200559795355467}, {\"fish_LC50: true\": 0.0, \"fish_LC50: predicted\": 6.863066147871551, \"daphnia_EC50: true\": 4.624972813284272, \"daphnia_EC50: predicted\": 5.156478824623351, \"algea_EC50: true\": 3.1570004211501135, \"algea_EC50: predicted\": 4.17762251579509, \"rat_LD50: true\": 0.0, \"rat_LD50: predicted\": -2.385494543705911, \"ecoli_MIC: true\": 0.0, \"ecoli_MIC: predicted\": 0.5284185578488454}, {\"fish_LC50: true\": 0.0, \"fish_LC50: predicted\": 4.334683968761334, \"daphnia_EC50: true\": 1.9110228900548727, \"daphnia_EC50: predicted\": 3.520741348399327, \"algea_EC50: true\": 0.6931471805599453, \"algea_EC50: predicted\": 1.103245518855205, \"rat_LD50: true\": 0.0, \"rat_LD50: predicted\": -2.189228105145055, \"ecoli_MIC: true\": 0.0, \"ecoli_MIC: predicted\": 2.952473750839432}, {\"fish_LC50: true\": 0.0, \"fish_LC50: predicted\": 0.20969911379403697, \"daphnia_EC50: true\": 2.7080502011022096, \"daphnia_EC50: predicted\": 0.1190554365360214, \"algea_EC50: true\": 3.258096538021482, \"algea_EC50: predicted\": 1.049220932122, \"rat_LD50: true\": 0.0, \"rat_LD50: predicted\": -1.487008103323118, \"ecoli_MIC: true\": 0.0, \"ecoli_MIC: predicted\": 3.756835488099755}, {\"fish_LC50: true\": 0.0, \"fish_LC50: predicted\": 1.8669799777360474, \"daphnia_EC50: true\": 0.47623417899637177, \"daphnia_EC50: predicted\": 0.9706732988792209, \"algea_EC50: true\": 3.3068867021909143, \"algea_EC50: predicted\": 0.7146114646516382, \"rat_LD50: true\": 0.0, \"rat_LD50: predicted\": -2.26065111871672, \"ecoli_MIC: true\": 0.0, \"ecoli_MIC: predicted\": 2.103476993776849}, {\"fish_LC50: true\": 0.0, \"fish_LC50: predicted\": -0.2180477049715664, \"daphnia_EC50: true\": 1.916922612182061, \"daphnia_EC50: predicted\": -0.9443407375349252, \"algea_EC50: true\": 2.3978952727983707, \"algea_EC50: predicted\": 0.35892169284160547, \"rat_LD50: true\": 0.0, \"rat_LD50: predicted\": -3.1229090124630723, \"ecoli_MIC: true\": 0.0, \"ecoli_MIC: predicted\": 6.043967250369376}, {\"fish_LC50: true\": 0.0, \"fish_LC50: predicted\": 3.3270043749282574, \"daphnia_EC50: true\": 0.924258901523332, \"daphnia_EC50: predicted\": 2.653226494170575, \"algea_EC50: true\": 5.808142489980444, \"algea_EC50: predicted\": 3.2906767711817504, \"rat_LD50: true\": 0.0, \"rat_LD50: predicted\": -2.184715499803831, \"ecoli_MIC: true\": 0.0, \"ecoli_MIC: predicted\": 3.257806325713874}, {\"fish_LC50: true\": 0.0, \"fish_LC50: predicted\": 2.6768574431493093, \"daphnia_EC50: true\": 0.8329091229351039, \"daphnia_EC50: predicted\": 1.3943653371870441, \"algea_EC50: true\": 3.713572066704309, \"algea_EC50: predicted\": 2.256068601689626, \"rat_LD50: true\": -1.534, \"rat_LD50: predicted\": -2.256672594722218, \"ecoli_MIC: true\": 0.0, \"ecoli_MIC: predicted\": 6.302342699217537}, {\"fish_LC50: true\": 0.0, \"fish_LC50: predicted\": 1.0892448521170661, \"daphnia_EC50: true\": -0.5447271754416722, \"daphnia_EC50: predicted\": -1.7555568669079433, \"algea_EC50: true\": -1.0498221244986778, \"algea_EC50: predicted\": -1.330907621878899, \"rat_LD50: true\": 0.0, \"rat_LD50: predicted\": -2.068161796846169, \"ecoli_MIC: true\": 0.0, \"ecoli_MIC: predicted\": 2.2113304036543413}, {\"fish_LC50: true\": 0.0, \"fish_LC50: predicted\": -0.05620100963810104, \"daphnia_EC50: true\": 0.9162907318741552, \"daphnia_EC50: predicted\": -0.5261596304454155, \"algea_EC50: true\": 1.6486586255873816, \"algea_EC50: predicted\": -0.4116842764176197, \"rat_LD50: true\": 0.0, \"rat_LD50: predicted\": -1.1085121069459696, \"ecoli_MIC: true\": 0.0, \"ecoli_MIC: predicted\": 3.6218920421259657}, {\"fish_LC50: true\": 0.0, \"fish_LC50: predicted\": 4.053481782267428, \"daphnia_EC50: true\": 5.3471075307174685, \"daphnia_EC50: predicted\": 5.444358902298415, \"algea_EC50: true\": 5.135798437050261, \"algea_EC50: predicted\": 4.312716132245782, \"rat_LD50: true\": -1.546, \"rat_LD50: predicted\": -1.5046444206250165, \"ecoli_MIC: true\": 0.0, \"ecoli_MIC: predicted\": 5.0137797222163965}, {\"fish_LC50: true\": 0.0, \"fish_LC50: predicted\": 2.7890836273447004, \"daphnia_EC50: true\": 0.959350221334602, \"daphnia_EC50: predicted\": 1.7366539268549726, \"algea_EC50: true\": 2.046401687601636, \"algea_EC50: predicted\": 2.022326667634263, \"rat_LD50: true\": 0.0, \"rat_LD50: predicted\": -2.2446999349486805, \"ecoli_MIC: true\": 0.0, \"ecoli_MIC: predicted\": 1.740565662531256}, {\"fish_LC50: true\": 0.0, \"fish_LC50: predicted\": 2.613702042446242, \"daphnia_EC50: true\": -0.9942522733438669, \"daphnia_EC50: predicted\": 2.0688690538182493, \"algea_EC50: true\": -1.0216512475319814, \"algea_EC50: predicted\": 0.6767289702171326, \"rat_LD50: true\": 0.0, \"rat_LD50: predicted\": -2.033788627001994, \"ecoli_MIC: true\": 0.0, \"ecoli_MIC: predicted\": 1.5248625687652988}, {\"fish_LC50: true\": 0.0, \"fish_LC50: predicted\": 0.9208092672490775, \"daphnia_EC50: true\": 2.1065702090680887, \"daphnia_EC50: predicted\": -0.10588851692691745, \"algea_EC50: true\": 2.8903717578961645, \"algea_EC50: predicted\": 0.4634635583753194, \"rat_LD50: true\": 0.0, \"rat_LD50: predicted\": -2.269625677093339, \"ecoli_MIC: true\": 0.0, \"ecoli_MIC: predicted\": 2.905664965751294}, {\"fish_LC50: true\": 0.0, \"fish_LC50: predicted\": 2.651044272653264, \"daphnia_EC50: true\": 2.1621729392773013, \"daphnia_EC50: predicted\": 2.917497360625169, \"algea_EC50: true\": 1.3660916538023706, \"algea_EC50: predicted\": 2.959179694354744, \"rat_LD50: true\": 0.0, \"rat_LD50: predicted\": -2.336540635446168, \"ecoli_MIC: true\": 0.0, \"ecoli_MIC: predicted\": 3.4589093643512108}, {\"fish_LC50: true\": 0.0, \"fish_LC50: predicted\": 2.7875386724600304, \"daphnia_EC50: true\": 1.6863989535702286, \"daphnia_EC50: predicted\": 1.4466647203606862, \"algea_EC50: true\": 3.0445224377234235, \"algea_EC50: predicted\": 0.7169389123806293, \"rat_LD50: true\": 0.0, \"rat_LD50: predicted\": -2.909855627087988, \"ecoli_MIC: true\": 0.0, \"ecoli_MIC: predicted\": 2.693361371223993}, {\"fish_LC50: true\": 0.0, \"fish_LC50: predicted\": 1.6674695600333722, \"daphnia_EC50: true\": 1.01160091167848, \"daphnia_EC50: predicted\": -0.4079494050817173, \"algea_EC50: true\": 2.9806186357439426, \"algea_EC50: predicted\": 1.4132697891201742, \"rat_LD50: true\": 0.0, \"rat_LD50: predicted\": -2.315063285112117, \"ecoli_MIC: true\": 0.0, \"ecoli_MIC: predicted\": 1.509399714302576}, {\"fish_LC50: true\": 0.0, \"fish_LC50: predicted\": 4.062909128497068, \"daphnia_EC50: true\": 1.9315214116032136, \"daphnia_EC50: predicted\": 4.339111093135489, \"algea_EC50: true\": 2.3978952727983707, \"algea_EC50: predicted\": 4.338859155327625, \"rat_LD50: true\": 0.0, \"rat_LD50: predicted\": -1.9459192819099629, \"ecoli_MIC: true\": 0.0, \"ecoli_MIC: predicted\": 3.902548672482242}, {\"fish_LC50: true\": 0.0, \"fish_LC50: predicted\": 4.683323018749822, \"daphnia_EC50: true\": -0.6348782724359695, \"daphnia_EC50: predicted\": 5.083935558439548, \"algea_EC50: true\": 4.606279570393589, \"algea_EC50: predicted\": 4.981983676177832, \"rat_LD50: true\": 0.0, \"rat_LD50: predicted\": -2.242864003490771, \"ecoli_MIC: true\": 0.0, \"ecoli_MIC: predicted\": 3.483805724407766}, {\"fish_LC50: true\": 0.0, \"fish_LC50: predicted\": 1.8967901279327202, \"daphnia_EC50: true\": 1.2237754316221157, \"daphnia_EC50: predicted\": 3.2089415685453155, \"algea_EC50: true\": 2.9338568698359038, \"algea_EC50: predicted\": 2.6981956817706174, \"rat_LD50: true\": 0.0, \"rat_LD50: predicted\": -1.7342104577005573, \"ecoli_MIC: true\": 0.0, \"ecoli_MIC: predicted\": 5.85015341064074}, {\"fish_LC50: true\": 0.0, \"fish_LC50: predicted\": 1.6235290528134072, \"daphnia_EC50: true\": 0.9162907318741552, \"daphnia_EC50: predicted\": -0.5537788777217753, \"algea_EC50: true\": 2.050270164379556, \"algea_EC50: predicted\": 0.3407826631897483, \"rat_LD50: true\": 0.0, \"rat_LD50: predicted\": -1.3840335860160302, \"ecoli_MIC: true\": 0.0, \"ecoli_MIC: predicted\": 2.8469152008912006}, {\"fish_LC50: true\": 0.0, \"fish_LC50: predicted\": 1.1162364408918166, \"daphnia_EC50: true\": 2.5877640352277083, \"daphnia_EC50: predicted\": 1.3482822181367067, \"algea_EC50: true\": 0.8754687373538999, \"algea_EC50: predicted\": 2.1410960311295217, \"rat_LD50: true\": 0.0, \"rat_LD50: predicted\": -1.2764729638671615, \"ecoli_MIC: true\": 0.0, \"ecoli_MIC: predicted\": 4.152906025818263}, {\"fish_LC50: true\": 0.0, \"fish_LC50: predicted\": 3.6296396812874865, \"daphnia_EC50: true\": -2.407945608651872, \"daphnia_EC50: predicted\": 2.9349219659017227, \"algea_EC50: true\": 3.0204248861443626, \"algea_EC50: predicted\": 3.124674727648926, \"rat_LD50: true\": -2.909, \"rat_LD50: predicted\": -2.3080052726259055, \"ecoli_MIC: true\": 0.0, \"ecoli_MIC: predicted\": 3.553675703519424}, {\"fish_LC50: true\": 0.0, \"fish_LC50: predicted\": 4.0706156688059565, \"daphnia_EC50: true\": 2.9957322735539917, \"daphnia_EC50: predicted\": 2.5493458798121065, \"algea_EC50: true\": 0.4700036292457356, \"algea_EC50: predicted\": 3.159573029963403, \"rat_LD50: true\": -1.889, \"rat_LD50: predicted\": -1.4905477122099016, \"ecoli_MIC: true\": 0.0, \"ecoli_MIC: predicted\": 4.2095133469877375}, {\"fish_LC50: true\": 0.0, \"fish_LC50: predicted\": 3.799181713766293, \"daphnia_EC50: true\": 1.9315214116032136, \"daphnia_EC50: predicted\": 2.067183450530892, \"algea_EC50: true\": 2.8507065015037334, \"algea_EC50: predicted\": 3.412196049917956, \"rat_LD50: true\": 0.0, \"rat_LD50: predicted\": -2.0360108896060614, \"ecoli_MIC: true\": 0.0, \"ecoli_MIC: predicted\": 3.599697256988418}, {\"fish_LC50: true\": 0.0, \"fish_LC50: predicted\": 7.784420498996931, \"daphnia_EC50: true\": 4.043051267834549, \"daphnia_EC50: predicted\": 6.2226764465696025, \"algea_EC50: true\": 1.791759469228055, \"algea_EC50: predicted\": 5.717563975259233, \"rat_LD50: true\": 0.0, \"rat_LD50: predicted\": -1.888859931575408, \"ecoli_MIC: true\": 0.0, \"ecoli_MIC: predicted\": 3.888859155922134}, {\"fish_LC50: true\": 0.0, \"fish_LC50: predicted\": 5.667704359145066, \"daphnia_EC50: true\": 4.258445572902527, \"daphnia_EC50: predicted\": 4.2914209850687595, \"algea_EC50: true\": 4.244200317766478, \"algea_EC50: predicted\": 4.899638322021004, \"rat_LD50: true\": 0.0, \"rat_LD50: predicted\": -1.3008215058166184, \"ecoli_MIC: true\": 0.0, \"ecoli_MIC: predicted\": 1.6448652062702172}, {\"fish_LC50: true\": 0.0, \"fish_LC50: predicted\": 3.3056339927787954, \"daphnia_EC50: true\": -2.441847160327553, \"daphnia_EC50: predicted\": 2.6693788230835116, \"algea_EC50: true\": -4.219907785197447, \"algea_EC50: predicted\": 1.2064671426488716, \"rat_LD50: true\": 0.0, \"rat_LD50: predicted\": -1.8180369331994093, \"ecoli_MIC: true\": 0.0, \"ecoli_MIC: predicted\": 3.2853327682749773}, {\"fish_LC50: true\": 0.0, \"fish_LC50: predicted\": 2.8198102735826795, \"daphnia_EC50: true\": 3.871201010907892, \"daphnia_EC50: predicted\": 2.569477507309222, \"algea_EC50: true\": 3.817712325956905, \"algea_EC50: predicted\": 3.2409183925670253, \"rat_LD50: true\": 0.0, \"rat_LD50: predicted\": -1.819853333471596, \"ecoli_MIC: true\": 0.0, \"ecoli_MIC: predicted\": 3.8805250499656285}, {\"fish_LC50: true\": 0.0, \"fish_LC50: predicted\": 3.444676223765642, \"daphnia_EC50: true\": 4.0943445622221, \"daphnia_EC50: predicted\": 2.6650514969970605, \"algea_EC50: true\": 4.02535169073515, \"algea_EC50: predicted\": 2.912731157336748, \"rat_LD50: true\": 0.0, \"rat_LD50: predicted\": -1.7912044751457288, \"ecoli_MIC: true\": 0.0, \"ecoli_MIC: predicted\": 4.572473348964998}, {\"fish_LC50: true\": 0.0, \"fish_LC50: predicted\": 0.06912190453281686, \"daphnia_EC50: true\": 3.975936331171799, \"daphnia_EC50: predicted\": 0.5824669634246517, \"algea_EC50: true\": 2.2793164660546914, \"algea_EC50: predicted\": 1.1717493089059892, \"rat_LD50: true\": 0.0, \"rat_LD50: predicted\": -2.5270024914616815, \"ecoli_MIC: true\": 0.0, \"ecoli_MIC: predicted\": 4.2623248168357915}, {\"fish_LC50: true\": 0.0, \"fish_LC50: predicted\": 2.750814393301598, \"daphnia_EC50: true\": -0.7339691750802004, \"daphnia_EC50: predicted\": 1.212910993187024, \"algea_EC50: true\": 3.4610373820181723, \"algea_EC50: predicted\": 2.7975379388742443, \"rat_LD50: true\": 0.0, \"rat_LD50: predicted\": -2.8434063265433283, \"ecoli_MIC: true\": 0.0, \"ecoli_MIC: predicted\": 4.817500442123349}, {\"fish_LC50: true\": 0.0, \"fish_LC50: predicted\": 3.0085288769989393, \"daphnia_EC50: true\": 4.324132656254979, \"daphnia_EC50: predicted\": 2.871505887400623, \"algea_EC50: true\": 4.469350462845557, \"algea_EC50: predicted\": 3.002870194123115, \"rat_LD50: true\": 0.0, \"rat_LD50: predicted\": -2.1680946753824504, \"ecoli_MIC: true\": 0.0, \"ecoli_MIC: predicted\": 1.0747658087253367}, {\"fish_LC50: true\": 0.0, \"fish_LC50: predicted\": 1.402968895228293, \"daphnia_EC50: true\": -0.342490308946776, \"daphnia_EC50: predicted\": -0.9381342470777406, \"algea_EC50: true\": -0.8439700702945292, \"algea_EC50: predicted\": 1.4624602424311777, \"rat_LD50: true\": 0.0, \"rat_LD50: predicted\": -1.8328219549399292, \"ecoli_MIC: true\": 0.0, \"ecoli_MIC: predicted\": 3.19856775766828}, {\"fish_LC50: true\": 0.0, \"fish_LC50: predicted\": 1.5490756093580136, \"daphnia_EC50: true\": -0.941608539858445, \"daphnia_EC50: predicted\": -0.7850151776328694, \"algea_EC50: true\": 1.9600947840472696, \"algea_EC50: predicted\": 1.568855479585123, \"rat_LD50: true\": -2.804, \"rat_LD50: predicted\": -2.3469728641629244, \"ecoli_MIC: true\": 0.0, \"ecoli_MIC: predicted\": 3.003400219551213}, {\"fish_LC50: true\": 0.0, \"fish_LC50: predicted\": 4.480851720816585, \"daphnia_EC50: true\": 4.0163830207523885, \"daphnia_EC50: predicted\": 2.6638313468527497, \"algea_EC50: true\": 3.288401887516811, \"algea_EC50: predicted\": 4.1690023572522685, \"rat_LD50: true\": 0.0, \"rat_LD50: predicted\": -2.0522485593818187, \"ecoli_MIC: true\": 0.0, \"ecoli_MIC: predicted\": 3.9668951057354462}, {\"fish_LC50: true\": 0.0, \"fish_LC50: predicted\": 3.3111926162146177, \"daphnia_EC50: true\": 0.0, \"daphnia_EC50: predicted\": 1.1590524269725762, \"algea_EC50: true\": 4.477336814478207, \"algea_EC50: predicted\": 1.848154621736519, \"rat_LD50: true\": -2.384, \"rat_LD50: predicted\": -1.9830281484514496, \"ecoli_MIC: true\": 0.0, \"ecoli_MIC: predicted\": 0.05449211127118836}, {\"fish_LC50: true\": 0.0, \"fish_LC50: predicted\": -0.3270149275228596, \"daphnia_EC50: true\": 0.0, \"daphnia_EC50: predicted\": 0.5103579171465126, \"algea_EC50: true\": 4.279440045898782, \"algea_EC50: predicted\": 2.307874341794714, \"rat_LD50: true\": 0.0, \"rat_LD50: predicted\": -1.22122982063922, \"ecoli_MIC: true\": 0.0, \"ecoli_MIC: predicted\": 0.913243165572733}, {\"fish_LC50: true\": 0.0, \"fish_LC50: predicted\": 2.2141831684738493, \"daphnia_EC50: true\": 0.0, \"daphnia_EC50: predicted\": 4.0724611180410255, \"algea_EC50: true\": 3.7405226872657744, \"algea_EC50: predicted\": 3.5030695131859297, \"rat_LD50: true\": 0.0, \"rat_LD50: predicted\": -1.9781100671094909, \"ecoli_MIC: true\": 0.0, \"ecoli_MIC: predicted\": 4.334296952381712}, {\"fish_LC50: true\": 0.0, \"fish_LC50: predicted\": -1.0569118880608286, \"daphnia_EC50: true\": 0.0, \"daphnia_EC50: predicted\": -2.379000472900052, \"algea_EC50: true\": 1.8548907506681451, \"algea_EC50: predicted\": -1.3353304247858913, \"rat_LD50: true\": -2.75, \"rat_LD50: predicted\": -3.1470286102827476, \"ecoli_MIC: true\": 0.0, \"ecoli_MIC: predicted\": 0.8988543565563789}, {\"fish_LC50: true\": 0.0, \"fish_LC50: predicted\": 2.206934798922418, \"daphnia_EC50: true\": 0.0, \"daphnia_EC50: predicted\": 2.1793075148485492, \"algea_EC50: true\": 3.517497837358316, \"algea_EC50: predicted\": 2.888843591452439, \"rat_LD50: true\": 0.0, \"rat_LD50: predicted\": -2.364927131998111, \"ecoli_MIC: true\": 0.0, \"ecoli_MIC: predicted\": 2.966468449188296}, {\"fish_LC50: true\": 0.0, \"fish_LC50: predicted\": 4.589297107736199, \"daphnia_EC50: true\": 0.0, \"daphnia_EC50: predicted\": 4.864019855194749, \"algea_EC50: true\": 6.908363094225023, \"algea_EC50: predicted\": 5.64595640881672, \"rat_LD50: true\": -2.268, \"rat_LD50: predicted\": -1.9134098164405375, \"ecoli_MIC: true\": 0.0, \"ecoli_MIC: predicted\": 3.4268714477011573}, {\"fish_LC50: true\": 0.0, \"fish_LC50: predicted\": 4.008778223715146, \"daphnia_EC50: true\": 0.0, \"daphnia_EC50: predicted\": 4.073418937320782, \"algea_EC50: true\": 1.873339456220478, \"algea_EC50: predicted\": 3.8845705978597804, \"rat_LD50: true\": 0.0, \"rat_LD50: predicted\": -1.7061918342511226, \"ecoli_MIC: true\": 0.0, \"ecoli_MIC: predicted\": 4.197310732923782}, {\"fish_LC50: true\": 0.0, \"fish_LC50: predicted\": -0.09368733570729071, \"daphnia_EC50: true\": 0.0, \"daphnia_EC50: predicted\": -1.1839625596822851, \"algea_EC50: true\": 1.9021075263969205, \"algea_EC50: predicted\": -0.5933980996151695, \"rat_LD50: true\": 0.0, \"rat_LD50: predicted\": -2.356506658336449, \"ecoli_MIC: true\": 0.0, \"ecoli_MIC: predicted\": 4.309721726004436}, {\"fish_LC50: true\": 0.0, \"fish_LC50: predicted\": 1.8643660092594443, \"daphnia_EC50: true\": 0.0, \"daphnia_EC50: predicted\": 2.180071843868598, \"algea_EC50: true\": 1.791759469228055, \"algea_EC50: predicted\": 1.9246125040882185, \"rat_LD50: true\": 0.0, \"rat_LD50: predicted\": -1.4938201945719582, \"ecoli_MIC: true\": 0.0, \"ecoli_MIC: predicted\": 4.100520483090877}, {\"fish_LC50: true\": 0.0, \"fish_LC50: predicted\": 3.2810330818416857, \"daphnia_EC50: true\": 0.0, \"daphnia_EC50: predicted\": 2.4481208696915684, \"algea_EC50: true\": 3.80666248977032, \"algea_EC50: predicted\": 4.659111680323148, \"rat_LD50: true\": 0.0, \"rat_LD50: predicted\": -1.5649816619576744, \"ecoli_MIC: true\": 0.0, \"ecoli_MIC: predicted\": 1.363496009621786}, {\"fish_LC50: true\": 0.0, \"fish_LC50: predicted\": 3.8626305600910835, \"daphnia_EC50: true\": 0.0, \"daphnia_EC50: predicted\": 1.4926013760665588, \"algea_EC50: true\": 4.836281906951479, \"algea_EC50: predicted\": 2.371647861685776, \"rat_LD50: true\": -1.7519999999999998, \"rat_LD50: predicted\": -2.245681301911288, \"ecoli_MIC: true\": 0.0, \"ecoli_MIC: predicted\": 3.678312598095454}, {\"fish_LC50: true\": 0.0, \"fish_LC50: predicted\": 2.4955851575948698, \"daphnia_EC50: true\": 0.0, \"daphnia_EC50: predicted\": 2.4771710383468264, \"algea_EC50: true\": 3.1780538303479458, \"algea_EC50: predicted\": 4.247275877725553, \"rat_LD50: true\": -1.384, \"rat_LD50: predicted\": -2.275725674188444, \"ecoli_MIC: true\": 0.0, \"ecoli_MIC: predicted\": 2.3018367729929374}, {\"fish_LC50: true\": 0.0, \"fish_LC50: predicted\": 6.038391544045984, \"daphnia_EC50: true\": 0.0, \"daphnia_EC50: predicted\": 5.729482522832976, \"algea_EC50: true\": 4.700480365792417, \"algea_EC50: predicted\": 4.792149197971114, \"rat_LD50: true\": 0.0, \"rat_LD50: predicted\": -2.0686666887285146, \"ecoli_MIC: true\": 0.0, \"ecoli_MIC: predicted\": 4.856224180334017}, {\"fish_LC50: true\": 0.0, \"fish_LC50: predicted\": 2.4675435619746167, \"daphnia_EC50: true\": 0.0, \"daphnia_EC50: predicted\": 2.0567111797543447, \"algea_EC50: true\": 3.0910424533583165, \"algea_EC50: predicted\": 3.2276711502929043, \"rat_LD50: true\": -2.381, \"rat_LD50: predicted\": -2.2077792975267387, \"ecoli_MIC: true\": 0.0, \"ecoli_MIC: predicted\": 4.171004551769075}, {\"fish_LC50: true\": 0.0, \"fish_LC50: predicted\": 3.6460982874853456, \"daphnia_EC50: true\": 0.0, \"daphnia_EC50: predicted\": 2.847078804467447, \"algea_EC50: true\": 5.9532433342877855, \"algea_EC50: predicted\": 4.928128359489106, \"rat_LD50: true\": 0.0, \"rat_LD50: predicted\": -1.6191958121778236, \"ecoli_MIC: true\": 0.0, \"ecoli_MIC: predicted\": 3.862671973541981}, {\"fish_LC50: true\": 0.0, \"fish_LC50: predicted\": -0.44384487793551913, \"daphnia_EC50: true\": 0.0, \"daphnia_EC50: predicted\": 0.3814431016708321, \"algea_EC50: true\": -0.3051673867928005, \"algea_EC50: predicted\": -1.120442872449674, \"rat_LD50: true\": 0.0, \"rat_LD50: predicted\": -2.251510008690424, \"ecoli_MIC: true\": 0.0, \"ecoli_MIC: predicted\": 2.765377985763926}, {\"fish_LC50: true\": 0.0, \"fish_LC50: predicted\": 2.175650312403017, \"daphnia_EC50: true\": 0.0, \"daphnia_EC50: predicted\": 0.4735239972521259, \"algea_EC50: true\": 1.4816045409242156, \"algea_EC50: predicted\": -0.13019748353507188, \"rat_LD50: true\": 0.0, \"rat_LD50: predicted\": -2.3268610656534934, \"ecoli_MIC: true\": 0.0, \"ecoli_MIC: predicted\": 3.336773307035349}, {\"fish_LC50: true\": 0.0, \"fish_LC50: predicted\": 4.442041798921766, \"daphnia_EC50: true\": 0.0, \"daphnia_EC50: predicted\": 5.372077966979166, \"algea_EC50: true\": 5.3981627015177525, \"algea_EC50: predicted\": 5.160997669854612, \"rat_LD50: true\": -2.853, \"rat_LD50: predicted\": -2.287100293347729, \"ecoli_MIC: true\": 0.0, \"ecoli_MIC: predicted\": 3.745239511624283}, {\"fish_LC50: true\": 0.0, \"fish_LC50: predicted\": 2.1092215791012334, \"daphnia_EC50: true\": 0.0, \"daphnia_EC50: predicted\": 1.1428425184179327, \"algea_EC50: true\": 0.9932517730102834, \"algea_EC50: predicted\": 2.284598264715214, \"rat_LD50: true\": 0.0, \"rat_LD50: predicted\": -1.7303694675940875, \"ecoli_MIC: true\": 0.0, \"ecoli_MIC: predicted\": 4.266294858144232}, {\"fish_LC50: true\": 0.0, \"fish_LC50: predicted\": 1.6741651886743754, \"daphnia_EC50: true\": 0.0, \"daphnia_EC50: predicted\": 2.2926790672461856, \"algea_EC50: true\": -0.6733445532637656, \"algea_EC50: predicted\": 1.4322874724380281, \"rat_LD50: true\": 0.0, \"rat_LD50: predicted\": -2.587518432412279, \"ecoli_MIC: true\": 0.0, \"ecoli_MIC: predicted\": 4.4970383723669585}, {\"fish_LC50: true\": 0.0, \"fish_LC50: predicted\": 1.1666380056870786, \"daphnia_EC50: true\": 0.0, \"daphnia_EC50: predicted\": 2.8079410791976978, \"algea_EC50: true\": -1.7921595492493947, \"algea_EC50: predicted\": 0.7934129772193146, \"rat_LD50: true\": 0.0, \"rat_LD50: predicted\": -2.550560277943477, \"ecoli_MIC: true\": 0.0, \"ecoli_MIC: predicted\": 6.261731747564611}, {\"fish_LC50: true\": 0.0, \"fish_LC50: predicted\": 0.6961564008624104, \"daphnia_EC50: true\": 0.0, \"daphnia_EC50: predicted\": 0.9284307348483598, \"algea_EC50: true\": 2.772588722239781, \"algea_EC50: predicted\": 1.7331559623000572, \"rat_LD50: true\": 0.0, \"rat_LD50: predicted\": -1.0923932769233387, \"ecoli_MIC: true\": 0.0, \"ecoli_MIC: predicted\": 5.085263753199759}, {\"fish_LC50: true\": 0.0, \"fish_LC50: predicted\": 5.495920766798584, \"daphnia_EC50: true\": 0.0, \"daphnia_EC50: predicted\": 5.298313134177702, \"algea_EC50: true\": 4.477336814478207, \"algea_EC50: predicted\": 3.699352374039459, \"rat_LD50: true\": 0.0, \"rat_LD50: predicted\": -1.6382597518418252, \"ecoli_MIC: true\": 0.0, \"ecoli_MIC: predicted\": 5.4242188379952125}, {\"fish_LC50: true\": 0.0, \"fish_LC50: predicted\": 3.051698297514113, \"daphnia_EC50: true\": 0.0, \"daphnia_EC50: predicted\": 2.9162488810138436, \"algea_EC50: true\": 3.1354942159291497, \"algea_EC50: predicted\": 2.9588176496649172, \"rat_LD50: true\": 0.0, \"rat_LD50: predicted\": -1.6184314345423083, \"ecoli_MIC: true\": 0.0, \"ecoli_MIC: predicted\": 5.8233258238965435}, {\"fish_LC50: true\": 0.0, \"fish_LC50: predicted\": 1.005781592747933, \"daphnia_EC50: true\": 0.0, \"daphnia_EC50: predicted\": 0.7115020197818913, \"algea_EC50: true\": 3.3843902633457743, \"algea_EC50: predicted\": 0.7829000214724744, \"rat_LD50: true\": 0.0, \"rat_LD50: predicted\": -2.1185046943533994, \"ecoli_MIC: true\": 0.0, \"ecoli_MIC: predicted\": 5.963407641613103}, {\"fish_LC50: true\": 0.0, \"fish_LC50: predicted\": 3.3064916142640843, \"daphnia_EC50: true\": 0.0, \"daphnia_EC50: predicted\": 2.8522319345173686, \"algea_EC50: true\": 2.4849066497880004, \"algea_EC50: predicted\": 4.212124562534705, \"rat_LD50: true\": 0.0, \"rat_LD50: predicted\": -1.862584691811536, \"ecoli_MIC: true\": 0.0, \"ecoli_MIC: predicted\": 3.0168503413163252}, {\"fish_LC50: true\": 0.0, \"fish_LC50: predicted\": 3.187732517720305, \"daphnia_EC50: true\": 0.0, \"daphnia_EC50: predicted\": 1.6772291869615334, \"algea_EC50: true\": -2.3025850929940446, \"algea_EC50: predicted\": 2.5186884606577995, \"rat_LD50: true\": 0.0, \"rat_LD50: predicted\": -1.9943962429069324, \"ecoli_MIC: true\": 0.0, \"ecoli_MIC: predicted\": 4.303474406777456}, {\"fish_LC50: true\": 0.0, \"fish_LC50: predicted\": 2.396784381014503, \"daphnia_EC50: true\": 0.0, \"daphnia_EC50: predicted\": 0.9342248190894823, \"algea_EC50: true\": -0.5108256237659907, \"algea_EC50: predicted\": 2.419792914031423, \"rat_LD50: true\": 0.0, \"rat_LD50: predicted\": -1.6013726823039163, \"ecoli_MIC: true\": 6.238324625039509, \"ecoli_MIC: predicted\": 4.687910078010022}, {\"fish_LC50: true\": 0.0, \"fish_LC50: predicted\": -0.6060209462772534, \"daphnia_EC50: true\": 0.0, \"daphnia_EC50: predicted\": -1.3163546578807326, \"algea_EC50: true\": -1.2909841813155656, \"algea_EC50: predicted\": 0.03667103065073343, \"rat_LD50: true\": 0.0, \"rat_LD50: predicted\": -1.514432807023859, \"ecoli_MIC: true\": 0.0, \"ecoli_MIC: predicted\": 4.242578472237717}, {\"fish_LC50: true\": 0.0, \"fish_LC50: predicted\": 5.73222716390639, \"daphnia_EC50: true\": 0.0, \"daphnia_EC50: predicted\": 3.881654225448202, \"algea_EC50: true\": 3.951243718581428, \"algea_EC50: predicted\": 3.1472600648086444, \"rat_LD50: true\": -2.535, \"rat_LD50: predicted\": -2.231110007145959, \"ecoli_MIC: true\": 0.0, \"ecoli_MIC: predicted\": 2.619884285422571}, {\"fish_LC50: true\": 0.0, \"fish_LC50: predicted\": 4.726118176339344, \"daphnia_EC50: true\": 0.0, \"daphnia_EC50: predicted\": 5.329741278294149, \"algea_EC50: true\": 3.9337844972096585, \"algea_EC50: predicted\": 4.728068026236216, \"rat_LD50: true\": -2.218, \"rat_LD50: predicted\": -1.319252962371545, \"ecoli_MIC: true\": 0.0, \"ecoli_MIC: predicted\": 3.4744779437525795}, {\"fish_LC50: true\": 0.0, \"fish_LC50: predicted\": 2.9386087743568643, \"daphnia_EC50: true\": 0.0, \"daphnia_EC50: predicted\": 4.1000324885181305, \"algea_EC50: true\": 3.0549441331858365, \"algea_EC50: predicted\": 3.6536522924271484, \"rat_LD50: true\": 0.0, \"rat_LD50: predicted\": -1.2776473032372748, \"ecoli_MIC: true\": 0.0, \"ecoli_MIC: predicted\": 5.399460572406977}, {\"fish_LC50: true\": 0.0, \"fish_LC50: predicted\": 5.38438547010963, \"daphnia_EC50: true\": 0.0, \"daphnia_EC50: predicted\": 1.57747745077308, \"algea_EC50: true\": 5.187385805840755, \"algea_EC50: predicted\": 2.377006910683931, \"rat_LD50: true\": 0.0, \"rat_LD50: predicted\": -2.2461973544711893, \"ecoli_MIC: true\": 0.0, \"ecoli_MIC: predicted\": 3.6046234802309547}, {\"fish_LC50: true\": 0.0, \"fish_LC50: predicted\": 1.4082057174491394, \"daphnia_EC50: true\": 0.0, \"daphnia_EC50: predicted\": -1.0120961821459573, \"algea_EC50: true\": -0.7550225842780329, \"algea_EC50: predicted\": -1.175225205674248, \"rat_LD50: true\": 0.0, \"rat_LD50: predicted\": -2.843662335316182, \"ecoli_MIC: true\": 0.0, \"ecoli_MIC: predicted\": 1.5557956714502204}, {\"fish_LC50: true\": 0.0, \"fish_LC50: predicted\": 3.842091529939974, \"daphnia_EC50: true\": 0.0, \"daphnia_EC50: predicted\": 4.264109112509506, \"algea_EC50: true\": 4.0306945351456465, \"algea_EC50: predicted\": 4.22622363123404, \"rat_LD50: true\": 0.0, \"rat_LD50: predicted\": -2.0084446170030947, \"ecoli_MIC: true\": 0.0, \"ecoli_MIC: predicted\": 4.36816642551293}, {\"fish_LC50: true\": 0.0, \"fish_LC50: predicted\": 3.7723927090937432, \"daphnia_EC50: true\": 0.0, \"daphnia_EC50: predicted\": 1.2681735677867056, \"algea_EC50: true\": 3.202746442938317, \"algea_EC50: predicted\": 1.47883753456449, \"rat_LD50: true\": 0.0, \"rat_LD50: predicted\": -2.058582844854227, \"ecoli_MIC: true\": 0.0, \"ecoli_MIC: predicted\": 3.688842475960529}, {\"fish_LC50: true\": 0.0, \"fish_LC50: predicted\": 4.227538148813123, \"daphnia_EC50: true\": 0.0, \"daphnia_EC50: predicted\": 5.179431358798427, \"algea_EC50: true\": 3.0404666048941618, \"algea_EC50: predicted\": 5.32203002856284, \"rat_LD50: true\": 0.0, \"rat_LD50: predicted\": -1.556322650276101, \"ecoli_MIC: true\": 0.0, \"ecoli_MIC: predicted\": 3.781901380657046}, {\"fish_LC50: true\": 0.0, \"fish_LC50: predicted\": 0.5634820480354323, \"daphnia_EC50: true\": 0.0, \"daphnia_EC50: predicted\": 0.9703317163306947, \"algea_EC50: true\": 1.8309801823813363, \"algea_EC50: predicted\": -0.060318274386048254, \"rat_LD50: true\": 0.0, \"rat_LD50: predicted\": -2.449958188010684, \"ecoli_MIC: true\": 0.0, \"ecoli_MIC: predicted\": 6.19310042693017}, {\"fish_LC50: true\": 0.0, \"fish_LC50: predicted\": 0.6400342689706807, \"daphnia_EC50: true\": 0.0, \"daphnia_EC50: predicted\": 0.31741694809757726, \"algea_EC50: true\": 3.688879454113936, \"algea_EC50: predicted\": 1.1004808363257534, \"rat_LD50: true\": 0.0, \"rat_LD50: predicted\": -2.8562464285170392, \"ecoli_MIC: true\": 0.0, \"ecoli_MIC: predicted\": 3.8787074659433163}, {\"fish_LC50: true\": 0.0, \"fish_LC50: predicted\": 5.840872817032298, \"daphnia_EC50: true\": 0.0, \"daphnia_EC50: predicted\": 2.397097658183258, \"algea_EC50: true\": 4.400603020246816, \"algea_EC50: predicted\": 4.859086363302715, \"rat_LD50: true\": 0.0, \"rat_LD50: predicted\": -2.3671997893539105, \"ecoli_MIC: true\": 0.0, \"ecoli_MIC: predicted\": 5.829645101286611}, {\"fish_LC50: true\": 0.0, \"fish_LC50: predicted\": 4.868617780859857, \"daphnia_EC50: true\": 0.0, \"daphnia_EC50: predicted\": 4.661139510349724, \"algea_EC50: true\": 6.908316121680465, \"algea_EC50: predicted\": 4.175194773565008, \"rat_LD50: true\": -1.4169999999999998, \"rat_LD50: predicted\": -1.7966291653973494, \"ecoli_MIC: true\": 0.0, \"ecoli_MIC: predicted\": 2.851580255590364}, {\"fish_LC50: true\": 0.0, \"fish_LC50: predicted\": 5.688395443267622, \"daphnia_EC50: true\": 0.0, \"daphnia_EC50: predicted\": 4.118603020735417, \"algea_EC50: true\": 3.0445224377234235, \"algea_EC50: predicted\": 2.9936674660488056, \"rat_LD50: true\": 0.0, \"rat_LD50: predicted\": -2.177528281012071, \"ecoli_MIC: true\": 0.0, \"ecoli_MIC: predicted\": 0.9321515992790348}, {\"fish_LC50: true\": 0.0, \"fish_LC50: predicted\": 2.832796517186678, \"daphnia_EC50: true\": 0.0, \"daphnia_EC50: predicted\": 2.0620008578352755, \"algea_EC50: true\": 3.688879454113936, \"algea_EC50: predicted\": 0.42879647180407787, \"rat_LD50: true\": -2.782, \"rat_LD50: predicted\": -2.254068722797112, \"ecoli_MIC: true\": 0.0, \"ecoli_MIC: predicted\": 2.9646103450353127}, {\"fish_LC50: true\": 0.0, \"fish_LC50: predicted\": 6.401288744385392, \"daphnia_EC50: true\": 0.0, \"daphnia_EC50: predicted\": 3.836409516974156, \"algea_EC50: true\": 6.908265148976338, \"algea_EC50: predicted\": 5.007256413723831, \"rat_LD50: true\": -1.169, \"rat_LD50: predicted\": -2.101122711722722, \"ecoli_MIC: true\": 0.0, \"ecoli_MIC: predicted\": 0.24526269124331157}, {\"fish_LC50: true\": 0.0, \"fish_LC50: predicted\": 3.69704533045053, \"daphnia_EC50: true\": 0.0, \"daphnia_EC50: predicted\": 2.506616686361605, \"algea_EC50: true\": 3.828641396489095, \"algea_EC50: predicted\": 1.5625256044285578, \"rat_LD50: true\": 0.0, \"rat_LD50: predicted\": -2.8641315330614923, \"ecoli_MIC: true\": 0.0, \"ecoli_MIC: predicted\": 2.127781038015242}, {\"fish_LC50: true\": 0.0, \"fish_LC50: predicted\": 1.0809045990674269, \"daphnia_EC50: true\": 0.0, \"daphnia_EC50: predicted\": 0.11315511679359493, \"algea_EC50: true\": -2.162823150618887, \"algea_EC50: predicted\": -0.08698959721412686, \"rat_LD50: true\": 0.0, \"rat_LD50: predicted\": -2.7959609126322835, \"ecoli_MIC: true\": 0.0, \"ecoli_MIC: predicted\": 4.966306430272695}, {\"fish_LC50: true\": 0.0, \"fish_LC50: predicted\": 3.0979455747399145, \"daphnia_EC50: true\": 0.0, \"daphnia_EC50: predicted\": 0.6928945884338183, \"algea_EC50: true\": 5.219274159207584, \"algea_EC50: predicted\": 2.546061844993513, \"rat_LD50: true\": -1.211, \"rat_LD50: predicted\": -2.357844737724009, \"ecoli_MIC: true\": 0.0, \"ecoli_MIC: predicted\": 2.8081819148336504}, {\"fish_LC50: true\": 0.0, \"fish_LC50: predicted\": 2.6524946573849615, \"daphnia_EC50: true\": 0.0, \"daphnia_EC50: predicted\": 1.696915900179188, \"algea_EC50: true\": 4.110873864173311, \"algea_EC50: predicted\": 3.329738464368497, \"rat_LD50: true\": 0.0, \"rat_LD50: predicted\": -1.663441846164801, \"ecoli_MIC: true\": 0.0, \"ecoli_MIC: predicted\": 2.69125968053836}, {\"fish_LC50: true\": 0.0, \"fish_LC50: predicted\": 3.8050809133739305, \"daphnia_EC50: true\": 0.0, \"daphnia_EC50: predicted\": 2.6994771820183026, \"algea_EC50: true\": 2.9957322735539917, \"algea_EC50: predicted\": 3.4646841618126736, \"rat_LD50: true\": 0.0, \"rat_LD50: predicted\": -2.0350475514302744, \"ecoli_MIC: true\": 0.0, \"ecoli_MIC: predicted\": 4.281848533589493}, {\"fish_LC50: true\": 0.0, \"fish_LC50: predicted\": -2.8831091360870675, \"daphnia_EC50: true\": 0.0, \"daphnia_EC50: predicted\": -1.5277790283299686, \"algea_EC50: true\": -4.961845129926824, \"algea_EC50: predicted\": -1.9008897627680632, \"rat_LD50: true\": 0.0, \"rat_LD50: predicted\": -1.6998128631428084, \"ecoli_MIC: true\": 0.0, \"ecoli_MIC: predicted\": 2.58972694529682}, {\"fish_LC50: true\": 0.0, \"fish_LC50: predicted\": 2.5741225791105697, \"daphnia_EC50: true\": 0.0, \"daphnia_EC50: predicted\": 2.1357812718435976, \"algea_EC50: true\": 6.194405391104673, \"algea_EC50: predicted\": 2.33801683884643, \"rat_LD50: true\": -2.043, \"rat_LD50: predicted\": -1.9229625408402238, \"ecoli_MIC: true\": 0.0, \"ecoli_MIC: predicted\": 3.5370556965894533}, {\"fish_LC50: true\": 0.0, \"fish_LC50: predicted\": 2.703096642912912, \"daphnia_EC50: true\": 0.0, \"daphnia_EC50: predicted\": 2.0421138552858293, \"algea_EC50: true\": 1.1314021114911006, \"algea_EC50: predicted\": 0.7563214864404968, \"rat_LD50: true\": 0.0, \"rat_LD50: predicted\": -1.7741573986930872, \"ecoli_MIC: true\": 0.0, \"ecoli_MIC: predicted\": 4.076945451893079}, {\"fish_LC50: true\": 0.0, \"fish_LC50: predicted\": 3.0839136510294383, \"daphnia_EC50: true\": 0.0, \"daphnia_EC50: predicted\": 1.8849524541926717, \"algea_EC50: true\": 4.02535169073515, \"algea_EC50: predicted\": 3.5053520437457206, \"rat_LD50: true\": -2.1590000000000003, \"rat_LD50: predicted\": -1.9795388055393492, \"ecoli_MIC: true\": 0.0, \"ecoli_MIC: predicted\": 4.189247692669003}, {\"fish_LC50: true\": 0.0, \"fish_LC50: predicted\": 2.033522034806674, \"daphnia_EC50: true\": 0.0, \"daphnia_EC50: predicted\": 1.610480996550199, \"algea_EC50: true\": 2.772588722239781, \"algea_EC50: predicted\": 1.777619406560883, \"rat_LD50: true\": 0.0, \"rat_LD50: predicted\": -2.6657379552098894, \"ecoli_MIC: true\": 0.0, \"ecoli_MIC: predicted\": 1.5942067176754993}, {\"fish_LC50: true\": 0.0, \"fish_LC50: predicted\": 6.138290385180309, \"daphnia_EC50: true\": 0.0, \"daphnia_EC50: predicted\": 4.841575551657911, \"algea_EC50: true\": 5.579729825986222, \"algea_EC50: predicted\": 5.912458710993372, \"rat_LD50: true\": -3.28, \"rat_LD50: predicted\": -2.068456267030907, \"ecoli_MIC: true\": 0.0, \"ecoli_MIC: predicted\": 1.8706061726939278}, {\"fish_LC50: true\": 0.0, \"fish_LC50: predicted\": 1.6072812978798139, \"daphnia_EC50: true\": 0.0, \"daphnia_EC50: predicted\": 2.2543022714604435, \"algea_EC50: true\": -1.0216512475319814, \"algea_EC50: predicted\": 1.5934049891766309, \"rat_LD50: true\": 0.0, \"rat_LD50: predicted\": -2.686291287293696, \"ecoli_MIC: true\": 0.0, \"ecoli_MIC: predicted\": 3.497094697147454}, {\"fish_LC50: true\": 0.0, \"fish_LC50: predicted\": 4.366442851309535, \"daphnia_EC50: true\": 0.0, \"daphnia_EC50: predicted\": 4.325710122058992, \"algea_EC50: true\": 3.592093185426245, \"algea_EC50: predicted\": 3.1377706052158794, \"rat_LD50: true\": 0.0, \"rat_LD50: predicted\": -2.479197360327881, \"ecoli_MIC: true\": 0.0, \"ecoli_MIC: predicted\": -2.941708462047563}, {\"fish_LC50: true\": 0.0, \"fish_LC50: predicted\": 6.262396094947691, \"daphnia_EC50: true\": 0.0, \"daphnia_EC50: predicted\": 3.4290878736516133, \"algea_EC50: true\": 4.330733340286331, \"algea_EC50: predicted\": 4.718496854313728, \"rat_LD50: true\": 0.0, \"rat_LD50: predicted\": -1.8006988635423449, \"ecoli_MIC: true\": 0.0, \"ecoli_MIC: predicted\": 1.6805516812379624}, {\"fish_LC50: true\": 0.0, \"fish_LC50: predicted\": -0.733777651149667, \"daphnia_EC50: true\": 0.0, \"daphnia_EC50: predicted\": -1.1892811338195708, \"algea_EC50: true\": 0.3364722366212129, \"algea_EC50: predicted\": -0.3957207144838985, \"rat_LD50: true\": 0.0, \"rat_LD50: predicted\": -2.235000447639137, \"ecoli_MIC: true\": 0.0, \"ecoli_MIC: predicted\": 3.134159612721813}, {\"fish_LC50: true\": 0.0, \"fish_LC50: predicted\": 1.9550297349979477, \"daphnia_EC50: true\": 0.0, \"daphnia_EC50: predicted\": 1.4382633336228923, \"algea_EC50: true\": 2.5649493574615367, \"algea_EC50: predicted\": 2.2666382884364698, \"rat_LD50: true\": 0.0, \"rat_LD50: predicted\": -2.394627583703821, \"ecoli_MIC: true\": 0.0, \"ecoli_MIC: predicted\": 3.184927377588468}, {\"fish_LC50: true\": 0.0, \"fish_LC50: predicted\": 7.104560614122977, \"daphnia_EC50: true\": 0.0, \"daphnia_EC50: predicted\": 4.869701613099158, \"algea_EC50: true\": 4.543294782270004, \"algea_EC50: predicted\": 6.226310847029723, \"rat_LD50: true\": 0.0, \"rat_LD50: predicted\": -1.6397942591543653, \"ecoli_MIC: true\": 0.0, \"ecoli_MIC: predicted\": 5.3200262123369075}, {\"fish_LC50: true\": 0.0, \"fish_LC50: predicted\": 4.5871553719188825, \"daphnia_EC50: true\": 0.0, \"daphnia_EC50: predicted\": 4.491145427288378, \"algea_EC50: true\": 3.8501476017100575, \"algea_EC50: predicted\": 3.6312741895494383, \"rat_LD50: true\": 0.0, \"rat_LD50: predicted\": -1.9937927078052677, \"ecoli_MIC: true\": 0.0, \"ecoli_MIC: predicted\": 3.192093618859272}, {\"fish_LC50: true\": 0.0, \"fish_LC50: predicted\": 3.4745078531310454, \"daphnia_EC50: true\": 0.0, \"daphnia_EC50: predicted\": 3.111371484611642, \"algea_EC50: true\": 3.93963817246112, \"algea_EC50: predicted\": 2.6614091354994103, \"rat_LD50: true\": 0.0, \"rat_LD50: predicted\": -2.138076917028696, \"ecoli_MIC: true\": 0.0, \"ecoli_MIC: predicted\": 5.064843936085025}, {\"fish_LC50: true\": 0.0, \"fish_LC50: predicted\": 3.2913069236562653, \"daphnia_EC50: true\": 0.0, \"daphnia_EC50: predicted\": 1.4741576182141616, \"algea_EC50: true\": 6.411818267709899, \"algea_EC50: predicted\": 1.4265148163010193, \"rat_LD50: true\": -1.832, \"rat_LD50: predicted\": -2.6232089914648533, \"ecoli_MIC: true\": 0.0, \"ecoli_MIC: predicted\": 2.9891250240908978}, {\"fish_LC50: true\": 0.0, \"fish_LC50: predicted\": 4.68758609290048, \"daphnia_EC50: true\": 0.0, \"daphnia_EC50: predicted\": 5.786133524611034, \"algea_EC50: true\": 4.944495491591711, \"algea_EC50: predicted\": 3.28905360005367, \"rat_LD50: true\": 0.0, \"rat_LD50: predicted\": -1.7776652425745199, \"ecoli_MIC: true\": 0.0, \"ecoli_MIC: predicted\": 3.590409996463902}, {\"fish_LC50: true\": 0.0, \"fish_LC50: predicted\": 3.6867869412753254, \"daphnia_EC50: true\": 0.0, \"daphnia_EC50: predicted\": 5.804875166809088, \"algea_EC50: true\": 4.705920089088233, \"algea_EC50: predicted\": 3.9248498539836936, \"rat_LD50: true\": 0.0, \"rat_LD50: predicted\": -1.7918011850638114, \"ecoli_MIC: true\": 0.0, \"ecoli_MIC: predicted\": 3.804206548219523}, {\"fish_LC50: true\": 0.0, \"fish_LC50: predicted\": 3.6175659160385565, \"daphnia_EC50: true\": 0.0, \"daphnia_EC50: predicted\": 3.915945912090466, \"algea_EC50: true\": 6.39024066706535, \"algea_EC50: predicted\": 4.54304768408185, \"rat_LD50: true\": 0.0, \"rat_LD50: predicted\": -1.6468676390350572, \"ecoli_MIC: true\": 0.0, \"ecoli_MIC: predicted\": 3.6358155973718427}, {\"fish_LC50: true\": 0.0, \"fish_LC50: predicted\": 0.30437606382031046, \"daphnia_EC50: true\": 0.0, \"daphnia_EC50: predicted\": 0.9576092359891928, \"algea_EC50: true\": 0.6936470556015963, \"algea_EC50: predicted\": 1.2742581649078555, \"rat_LD50: true\": -1.042, \"rat_LD50: predicted\": -2.04583082638184, \"ecoli_MIC: true\": 0.0, \"ecoli_MIC: predicted\": 3.5791442357659626}, {\"fish_LC50: true\": 0.0, \"fish_LC50: predicted\": 4.916101269235625, \"daphnia_EC50: true\": 0.0, \"daphnia_EC50: predicted\": 4.0092535444171515, \"algea_EC50: true\": 4.718498871295094, \"algea_EC50: predicted\": 3.235313468215276, \"rat_LD50: true\": 0.0, \"rat_LD50: predicted\": -2.0679796202479137, \"ecoli_MIC: true\": 0.0, \"ecoli_MIC: predicted\": 3.340910552101384}, {\"fish_LC50: true\": 0.0, \"fish_LC50: predicted\": 2.7924362319834084, \"daphnia_EC50: true\": 0.0, \"daphnia_EC50: predicted\": 3.4552730833077034, \"algea_EC50: true\": 4.505349850705881, \"algea_EC50: predicted\": 4.699069009557671, \"rat_LD50: true\": 0.0, \"rat_LD50: predicted\": -1.9813457621612969, \"ecoli_MIC: true\": 0.0, \"ecoli_MIC: predicted\": 3.8880771639750575}, {\"fish_LC50: true\": 0.0, \"fish_LC50: predicted\": 5.967941724926149, \"daphnia_EC50: true\": 0.0, \"daphnia_EC50: predicted\": 4.353555721776797, \"algea_EC50: true\": 6.3818160174060985, \"algea_EC50: predicted\": 3.7728698431285075, \"rat_LD50: true\": 0.0, \"rat_LD50: predicted\": -1.5707979632144506, \"ecoli_MIC: true\": 0.0, \"ecoli_MIC: predicted\": 5.029935610638171}, {\"fish_LC50: true\": 0.0, \"fish_LC50: predicted\": 4.197490491549263, \"daphnia_EC50: true\": 0.0, \"daphnia_EC50: predicted\": 3.3648533568484673, \"algea_EC50: true\": 3.915217896324665, \"algea_EC50: predicted\": 4.080190653580949, \"rat_LD50: true\": 0.0, \"rat_LD50: predicted\": -2.1163152269710723, \"ecoli_MIC: true\": 0.0, \"ecoli_MIC: predicted\": 4.32575884852597}, {\"fish_LC50: true\": 0.0, \"fish_LC50: predicted\": 6.155274690169691, \"daphnia_EC50: true\": 0.0, \"daphnia_EC50: predicted\": 5.3788305787367205, \"algea_EC50: true\": 3.813307032488989, \"algea_EC50: predicted\": 5.335954597136351, \"rat_LD50: true\": 0.0, \"rat_LD50: predicted\": -2.615661712044874, \"ecoli_MIC: true\": 0.0, \"ecoli_MIC: predicted\": 3.395410127853057}, {\"fish_LC50: true\": 0.0, \"fish_LC50: predicted\": 0.28931806553956335, \"daphnia_EC50: true\": 0.0, \"daphnia_EC50: predicted\": 0.8618472802877141, \"algea_EC50: true\": 3.937690752176724, \"algea_EC50: predicted\": 0.7271747353465418, \"rat_LD50: true\": 0.0, \"rat_LD50: predicted\": -3.193363279222905, \"ecoli_MIC: true\": 0.0, \"ecoli_MIC: predicted\": 3.1132605402684606}, {\"fish_LC50: true\": 0.0, \"fish_LC50: predicted\": 4.001020380643535, \"daphnia_EC50: true\": 0.0, \"daphnia_EC50: predicted\": 2.6405516073336575, \"algea_EC50: true\": 5.960489742808554, \"algea_EC50: predicted\": 3.0678725985391972, \"rat_LD50: true\": -1.741, \"rat_LD50: predicted\": -1.7723692005945701, \"ecoli_MIC: true\": 0.0, \"ecoli_MIC: predicted\": 3.572549933810828}, {\"fish_LC50: true\": 0.0, \"fish_LC50: predicted\": 5.93776210212203, \"daphnia_EC50: true\": 0.0, \"daphnia_EC50: predicted\": 6.814490910876796, \"algea_EC50: true\": 6.908275143828987, \"algea_EC50: predicted\": 4.081679442383642, \"rat_LD50: true\": 0.0, \"rat_LD50: predicted\": -1.2717906518385664, \"ecoli_MIC: true\": 0.0, \"ecoli_MIC: predicted\": 3.8727256234345218}, {\"fish_LC50: true\": 0.0, \"fish_LC50: predicted\": 3.9138168099137864, \"daphnia_EC50: true\": 0.0, \"daphnia_EC50: predicted\": 3.022167092287324, \"algea_EC50: true\": 7.326465613840322, \"algea_EC50: predicted\": 2.5190689644582567, \"rat_LD50: true\": 0.0, \"rat_LD50: predicted\": -2.2714041739875195, \"ecoli_MIC: true\": 0.0, \"ecoli_MIC: predicted\": 4.298277816456136}, {\"fish_LC50: true\": 0.0, \"fish_LC50: predicted\": 4.749083888977836, \"daphnia_EC50: true\": 0.0, \"daphnia_EC50: predicted\": 7.457156201885518, \"algea_EC50: true\": 8.859363449152088, \"algea_EC50: predicted\": 4.948597790327655, \"rat_LD50: true\": 0.0, \"rat_LD50: predicted\": -1.28019962141721, \"ecoli_MIC: true\": 0.0, \"ecoli_MIC: predicted\": 3.4815848020732627}, {\"fish_LC50: true\": 0.0, \"fish_LC50: predicted\": 1.1135372511090629, \"daphnia_EC50: true\": 0.0, \"daphnia_EC50: predicted\": 0.17055068778845936, \"algea_EC50: true\": 3.5263605246161616, \"algea_EC50: predicted\": -0.09391594776552226, \"rat_LD50: true\": 0.0, \"rat_LD50: predicted\": -2.4334694888412898, \"ecoli_MIC: true\": 0.0, \"ecoli_MIC: predicted\": 4.095290358868312}, {\"fish_LC50: true\": 0.0, \"fish_LC50: predicted\": 2.158910777221328, \"daphnia_EC50: true\": 0.0, \"daphnia_EC50: predicted\": 1.161383517165857, \"algea_EC50: true\": 1.9459101490553128, \"algea_EC50: predicted\": 2.105891799821534, \"rat_LD50: true\": 0.0, \"rat_LD50: predicted\": -3.0048338516004742, \"ecoli_MIC: true\": 0.0, \"ecoli_MIC: predicted\": 3.9103681262043697}, {\"fish_LC50: true\": 0.0, \"fish_LC50: predicted\": 0.6379637698208815, \"daphnia_EC50: true\": 0.0, \"daphnia_EC50: predicted\": 0.2776765134170964, \"algea_EC50: true\": 0.5025918188388871, \"algea_EC50: predicted\": 0.748814104616832, \"rat_LD50: true\": -2.261, \"rat_LD50: predicted\": -2.2602231496581426, \"ecoli_MIC: true\": 0.0, \"ecoli_MIC: predicted\": 1.6809111809605048}], \"data-c8bb012da4c38593efafab2f9cdac7a5\": [{\"algea_EC50: true\": -5.9914645471079835, \"algea_EC50: predicted\": -5.9914645471079835}, {\"algea_EC50: true\": 8.859363449152088, \"algea_EC50: predicted\": 8.859363449152088}]}}, {\"mode\": \"vega-lite\"});\n",
       "</script>"
      ],
      "text/plain": [
       "alt.LayerChart(...)"
      ]
     },
     "execution_count": 114,
     "metadata": {},
     "output_type": "execute_result"
    }
   ],
   "source": [
    "graph_model.visualize('pair_predict', graph_test, untransform=True, task='algea_EC50')"
   ]
  },
  {
   "cell_type": "markdown",
   "id": "df36c304-538a-4d9b-a688-ada2914043d1",
   "metadata": {},
   "source": [
    "> The graph multitask model did nominally better than the RFR multask models, but still has a poorer fit than the baseline with R2 of 0.405."
   ]
  },
  {
   "cell_type": "code",
   "execution_count": null,
   "id": "91051917-75d6-4b66-94eb-0b20ab63fe85",
   "metadata": {},
   "outputs": [],
   "source": []
  }
 ],
 "metadata": {
  "kernelspec": {
   "display_name": "Python 3",
   "language": "python",
   "name": "python3"
  },
  "language_info": {
   "codemirror_mode": {
    "name": "ipython",
    "version": 3
   },
   "file_extension": ".py",
   "mimetype": "text/x-python",
   "name": "python",
   "nbconvert_exporter": "python",
   "pygments_lexer": "ipython3",
   "version": "3.6.13"
  }
 },
 "nbformat": 4,
 "nbformat_minor": 5
}
