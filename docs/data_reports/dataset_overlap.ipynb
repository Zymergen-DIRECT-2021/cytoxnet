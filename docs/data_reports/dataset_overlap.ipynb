{
 "cells": [
  {
   "cell_type": "markdown",
   "id": "33270b37-b3a7-4407-b9d3-83c40ab5d2bb",
   "metadata": {},
   "source": [
    "# Dataset report: Overlap"
   ]
  },
  {
   "cell_type": "code",
   "execution_count": 1,
   "id": "b1db35c5-0d4e-45ee-9e54-c9837c89a0dc",
   "metadata": {},
   "outputs": [],
   "source": [
    "import altair as alt\n",
    "alt.data_transformers.disable_max_rows()\n",
    "import numpy as np\n",
    "import pandas as pd\n",
    "\n",
    "import cytoxnet.dataprep.io\n",
    "import cytoxnet.dataprep.featurize"
   ]
  },
  {
   "cell_type": "markdown",
   "id": "43e72333-18ab-45f1-965d-4a2f439a2857",
   "metadata": {},
   "source": [
    "### load all of the datasets and concat and label sources"
   ]
  },
  {
   "cell_type": "code",
   "execution_count": 2,
   "id": "042b898a-1a2a-4fd4-bdd4-838cf01b8dbc",
   "metadata": {},
   "outputs": [],
   "source": [
    "lunghini_fish = cytoxnet.dataprep.io.load_data('lunghini_fish_LC50')\n",
    "lunghini_daphnia = cytoxnet.dataprep.io.load_data('lunghini_daphnia_EC50')\n",
    "lunghini_algea = cytoxnet.dataprep.io.load_data('lunghini_algea_EC50')\n",
    "zhu_rat = cytoxnet.dataprep.io.load_data('zhu_rat_LD50')\n",
    "chembl_ecoli = cytoxnet.dataprep.io.load_data('chembl_ecoli_MIC')"
   ]
  },
  {
   "cell_type": "code",
   "execution_count": 3,
   "id": "a473b885-1e87-4099-91be-4dffc8577b1d",
   "metadata": {},
   "outputs": [],
   "source": [
    "sets_cleaned = []\n",
    "locals_ = locals()\n",
    "for set_name in ['lunghini_fish',\n",
    "                 'lunghini_daphnia',\n",
    "                 'lunghini_algea',\n",
    "                 'zhu_rat',\n",
    "                 'chembl_ecoli']:\n",
    "    set_ = locals_[set_name]\n",
    "    set_['source'] = set_name\n",
    "    set_ = set_[['smiles', 'source']]\n",
    "    sets_cleaned.append(set_)\n",
    "dataframe = pd.concat(sets_cleaned, ignore_index=True)"
   ]
  },
  {
   "cell_type": "code",
   "execution_count": 4,
   "id": "3622f0dc-ea6c-45b2-b63e-a9ed7156071f",
   "metadata": {},
   "outputs": [
    {
     "data": {
      "text/html": [
       "<div>\n",
       "<style scoped>\n",
       "    .dataframe tbody tr th:only-of-type {\n",
       "        vertical-align: middle;\n",
       "    }\n",
       "\n",
       "    .dataframe tbody tr th {\n",
       "        vertical-align: top;\n",
       "    }\n",
       "\n",
       "    .dataframe thead th {\n",
       "        text-align: right;\n",
       "    }\n",
       "</style>\n",
       "<table border=\"1\" class=\"dataframe\">\n",
       "  <thead>\n",
       "    <tr style=\"text-align: right;\">\n",
       "      <th></th>\n",
       "      <th>smiles</th>\n",
       "      <th>source</th>\n",
       "    </tr>\n",
       "  </thead>\n",
       "  <tbody>\n",
       "    <tr>\n",
       "      <th>0</th>\n",
       "      <td>C=C(Br)c1ccccc1</td>\n",
       "      <td>lunghini_fish</td>\n",
       "    </tr>\n",
       "    <tr>\n",
       "      <th>1</th>\n",
       "      <td>BrC(Br)Br</td>\n",
       "      <td>lunghini_fish</td>\n",
       "    </tr>\n",
       "    <tr>\n",
       "      <th>2</th>\n",
       "      <td>N#CC(Br)Br</td>\n",
       "      <td>lunghini_fish</td>\n",
       "    </tr>\n",
       "    <tr>\n",
       "      <th>3</th>\n",
       "      <td>BrC(Br)c1ccccc1C(Br)Br</td>\n",
       "      <td>lunghini_fish</td>\n",
       "    </tr>\n",
       "    <tr>\n",
       "      <th>4</th>\n",
       "      <td>BrC(Br)c1ccccc1OCC1CO1</td>\n",
       "      <td>lunghini_fish</td>\n",
       "    </tr>\n",
       "    <tr>\n",
       "      <th>...</th>\n",
       "      <td>...</td>\n",
       "      <td>...</td>\n",
       "    </tr>\n",
       "    <tr>\n",
       "      <th>18397</th>\n",
       "      <td>C#CCN(C)Cc1cc2cc(OCc3ccccc3)ccc2[nH]1.O=C(O)C(...</td>\n",
       "      <td>chembl_ecoli</td>\n",
       "    </tr>\n",
       "    <tr>\n",
       "      <th>18398</th>\n",
       "      <td>CC1CC(=O)Nc2c1c(Br)nc1nc3c(c(N)c21)CCCC3</td>\n",
       "      <td>chembl_ecoli</td>\n",
       "    </tr>\n",
       "    <tr>\n",
       "      <th>18399</th>\n",
       "      <td>COc1ccc(C(=N)Nc2cc(C(=O)Nc3nc(C(=O)NCCN4CCOCC4...</td>\n",
       "      <td>chembl_ecoli</td>\n",
       "    </tr>\n",
       "    <tr>\n",
       "      <th>18400</th>\n",
       "      <td>Cc1ccc2nc(Cl)c(/C=N/O)cc2c1</td>\n",
       "      <td>chembl_ecoli</td>\n",
       "    </tr>\n",
       "    <tr>\n",
       "      <th>18401</th>\n",
       "      <td>Cc1ccc2nc(Cl)c(/C=N/Cc3ccccc3)cc2c1</td>\n",
       "      <td>chembl_ecoli</td>\n",
       "    </tr>\n",
       "  </tbody>\n",
       "</table>\n",
       "<p>18402 rows × 2 columns</p>\n",
       "</div>"
      ],
      "text/plain": [
       "                                                  smiles         source\n",
       "0                                        C=C(Br)c1ccccc1  lunghini_fish\n",
       "1                                              BrC(Br)Br  lunghini_fish\n",
       "2                                             N#CC(Br)Br  lunghini_fish\n",
       "3                                 BrC(Br)c1ccccc1C(Br)Br  lunghini_fish\n",
       "4                                 BrC(Br)c1ccccc1OCC1CO1  lunghini_fish\n",
       "...                                                  ...            ...\n",
       "18397  C#CCN(C)Cc1cc2cc(OCc3ccccc3)ccc2[nH]1.O=C(O)C(...   chembl_ecoli\n",
       "18398           CC1CC(=O)Nc2c1c(Br)nc1nc3c(c(N)c21)CCCC3   chembl_ecoli\n",
       "18399  COc1ccc(C(=N)Nc2cc(C(=O)Nc3nc(C(=O)NCCN4CCOCC4...   chembl_ecoli\n",
       "18400                        Cc1ccc2nc(Cl)c(/C=N/O)cc2c1   chembl_ecoli\n",
       "18401                Cc1ccc2nc(Cl)c(/C=N/Cc3ccccc3)cc2c1   chembl_ecoli\n",
       "\n",
       "[18402 rows x 2 columns]"
      ]
     },
     "execution_count": 4,
     "metadata": {},
     "output_type": "execute_result"
    }
   ],
   "source": [
    "dataframe"
   ]
  },
  {
   "cell_type": "markdown",
   "id": "7213e88d-2df3-452f-ab35-e0fb9706b0ac",
   "metadata": {},
   "source": [
    "### featurize the dataset\n"
   ]
  },
  {
   "cell_type": "code",
   "execution_count": 5,
   "id": "24b55156-fca4-416a-875d-6ef38406c4fc",
   "metadata": {},
   "outputs": [],
   "source": [
    "cytoxnet.dataprep.featurize.molstr_to_Mol(dataframe, 'smiles')\n",
    "dataframe = cytoxnet.dataprep.featurize.add_features(dataframe)"
   ]
  },
  {
   "cell_type": "markdown",
   "id": "d36f866b-0cf2-4191-a6ad-0db79ad86a48",
   "metadata": {},
   "source": [
    "## apply UMAP"
   ]
  },
  {
   "cell_type": "code",
   "execution_count": 6,
   "id": "8efae5f5-7865-4381-9b62-9674829104b8",
   "metadata": {},
   "outputs": [],
   "source": [
    "import umap.umap_ as umap"
   ]
  },
  {
   "cell_type": "code",
   "execution_count": 7,
   "id": "f628c5ed",
   "metadata": {},
   "outputs": [
    {
     "data": {
      "text/plain": [
       "0        [0.0, 0.0, 0.0, 0.0, 0.0, 0.0, 0.0, 0.0, 0.0, ...\n",
       "1        [0.0, 1.0, 0.0, 0.0, 0.0, 0.0, 0.0, 0.0, 0.0, ...\n",
       "2        [0.0, 1.0, 0.0, 0.0, 0.0, 0.0, 0.0, 0.0, 0.0, ...\n",
       "3        [0.0, 1.0, 0.0, 0.0, 0.0, 0.0, 0.0, 0.0, 0.0, ...\n",
       "4        [0.0, 1.0, 0.0, 0.0, 0.0, 0.0, 0.0, 0.0, 0.0, ...\n",
       "                               ...                        \n",
       "18397    [0.0, 0.0, 0.0, 0.0, 0.0, 0.0, 0.0, 0.0, 0.0, ...\n",
       "18398    [0.0, 0.0, 0.0, 0.0, 0.0, 0.0, 0.0, 0.0, 0.0, ...\n",
       "18399    [0.0, 0.0, 0.0, 0.0, 0.0, 0.0, 0.0, 0.0, 1.0, ...\n",
       "18400    [0.0, 0.0, 0.0, 0.0, 0.0, 0.0, 0.0, 0.0, 0.0, ...\n",
       "18401    [0.0, 0.0, 0.0, 0.0, 0.0, 0.0, 0.0, 0.0, 0.0, ...\n",
       "Name: CircularFingerprint, Length: 18402, dtype: object"
      ]
     },
     "execution_count": 7,
     "metadata": {},
     "output_type": "execute_result"
    }
   ],
   "source": [
    "dataframe['CircularFingerprint']"
   ]
  },
  {
   "cell_type": "code",
   "execution_count": 8,
   "id": "d050c2d2-335a-48a9-b7f3-3aec9b7abeeb",
   "metadata": {},
   "outputs": [
    {
     "name": "stderr",
     "output_type": "stream",
     "text": [
      "/opt/anaconda3/envs/cytoxnet/lib/python3.7/site-packages/umap/umap_.py:1762: UserWarning: gradient function is not yet implemented for jaccard distance metric; inverse_transform will be unavailable\n",
      "  \"inverse_transform will be unavailable\".format(self.metric)\n",
      "/opt/anaconda3/envs/cytoxnet/lib/python3.7/site-packages/pynndescent/pynndescent_.py:924: UserWarning: Failed to correctly find n_neighbors for some samples.Results may be less than ideal. Try re-running withdifferent parameters.\n",
      "  \"Failed to correctly find n_neighbors for some samples.\"\n",
      "/opt/anaconda3/envs/cytoxnet/lib/python3.7/site-packages/umap/umap_.py:126: UserWarning: A few of your vertices were disconnected from the manifold.  This shouldn't cause problems.\n",
      "Disconnection_distance = 1 has removed 25 edges.\n",
      "It has only fully disconnected 1 vertices.\n",
      "Use umap.utils.disconnected_vertices() to identify them.\n",
      "  f\"A few of your vertices were disconnected from the manifold.  This shouldn't cause problems.\\n\"\n"
     ]
    },
    {
     "name": "stdout",
     "output_type": "stream",
     "text": [
      "CPU times: user 1min 5s, sys: 1 s, total: 1min 6s\n",
      "Wall time: 24.7 s\n"
     ]
    }
   ],
   "source": [
    "%%time\n",
    "umap_model = umap.UMAP(metric = \"jaccard\",\n",
    "                      n_neighbors = 25,\n",
    "                      n_components = 2,\n",
    "                      low_memory = False,\n",
    "                      min_dist = 0.001)\n",
    "X_umap = umap_model.fit_transform(np.vstack(dataframe['CircularFingerprint'].values))\n",
    "dataframe[\"UMAP_0\"], dataframe[\"UMAP_1\"] = X_umap[:,0], X_umap[:,1]"
   ]
  },
  {
   "cell_type": "code",
   "execution_count": 9,
   "id": "f8073748-d8de-4ee4-800f-10fe8c9bcf3d",
   "metadata": {},
   "outputs": [],
   "source": [
    "## remove non bitwise columns\n",
    "dataset_ = dataframe[['UMAP_0', 'UMAP_1', 'source']]"
   ]
  },
  {
   "cell_type": "code",
   "execution_count": 11,
   "id": "bd242452-e13a-4a7f-9b32-013d490304c8",
   "metadata": {},
   "outputs": [],
   "source": [
    "selection = alt.selection_multi(fields=['source'], bind='legend')\n",
    "alt.Chart(dataset_).mark_circle(size=60).encode(\n",
    "    x='UMAP_0',\n",
    "    y='UMAP_1',\n",
    "    color=alt.Color('source:N', scale=alt.Scale(scheme='category20b')),\n",
    "    opacity=alt.condition(selection, alt.value(1), alt.value(0.01))\n",
    ").add_selection(selection)\n",
    "\n"
   ]
  },
  {
   "cell_type": "code",
   "execution_count": null,
   "id": "78776c6e",
   "metadata": {},
   "outputs": [],
   "source": []
  }
 ],
 "metadata": {
  "kernelspec": {
   "display_name": "Python 3",
   "language": "python",
   "name": "python3"
  },
  "language_info": {
   "codemirror_mode": {
    "name": "ipython",
    "version": 3
   },
   "file_extension": ".py",
   "mimetype": "text/x-python",
   "name": "python",
   "nbconvert_exporter": "python",
   "pygments_lexer": "ipython3",
   "version": "3.7.10"
  }
 },
 "nbformat": 4,
 "nbformat_minor": 5
}
