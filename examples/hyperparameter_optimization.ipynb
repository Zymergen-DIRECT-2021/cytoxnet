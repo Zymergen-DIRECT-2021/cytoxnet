{
 "cells": [
  {
   "cell_type": "markdown",
   "id": "c523849c-fbc8-4cb3-9d94-9c990fbe313c",
   "metadata": {},
   "source": [
    "# Hyperparemeter optimization\n",
    "Searching for the best hyperparameters for a model class on a development dataset.\n",
    "***\n",
    "***\n",
    "Hyperparameter optimization relies on the package [Optuna](https://optuna.org/). It is interacted with through the `hypopt_model` function, which involves a large number of options."
   ]
  },
  {
   "cell_type": "code",
   "execution_count": 1,
   "id": "07162ad1-25c6-4c41-b90a-5d09e09e9bf4",
   "metadata": {},
   "outputs": [],
   "source": [
    "from cytoxnet.models.opt import hypopt_model"
   ]
  },
  {
   "cell_type": "code",
   "execution_count": 2,
   "id": "8342aeb6-48c8-413b-b2eb-239e6ab0728b",
   "metadata": {
    "tags": []
   },
   "outputs": [
    {
     "name": "stdout",
     "output_type": "stream",
     "text": [
      "Help on function hypopt_model in module cytoxnet.models.opt:\n",
      "\n",
      "hypopt_model(model_name:str, dev_set:Type[deepchem.data.datasets.NumpyDataset], search_space:dict, study_name:str, target_index:int=None, study_db:str='sqlite:///optimization.db', transformations:list=[], metric:str='r2_score', cv:int=5, trials_per_cpu:int=10, model_kwargs:dict={}, fit_kwargs:dict={}, eval_kwargs:dict={})\n",
      "    Optimize a specified ToxModel by name over hyperperameter space.\n",
      "    \n",
      "    For a ToxModel and a development dataset, search for the best\n",
      "    hyperparameter set over a specified search window. Optimizing for\n",
      "    a specified metric. Uses cross validation. Can be run multiple times,\n",
      "    on multiple cpus by simply executing the function again on each worker.\n",
      "    `mpirun` is a quick solution to scatter to many workers.\n",
      "    \n",
      "    Parameters\n",
      "    ----------\n",
      "    model_name : str\n",
      "        Name of ToxModel type under investigation\n",
      "    dev_set : deepchem.data.NumpyDataset\n",
      "        Dataset used for searching for the best parameters.\n",
      "    search_space : dict of hyperparameter name: search space\n",
      "        The form of values in the dict determines how the hyperparameter is\n",
      "        sampled.\n",
      "        Options -\n",
      "            list -> options to choose from uniformly\n",
      "            tuple of int -> sample integers in\n",
      "                (low, high, step[optional, d=1])\n",
      "            tuple of float -> sample floats in\n",
      "                (low, high, distribution[optional, d='uniform'])\n",
      "                distribution options :\n",
      "                    'uniform' -> uniform continuous\n",
      "                    'loguniform' -> loguniform continuous\n",
      "                    float -> uniform discrete    study_name : str\n",
      "        The name of the study stored in the study database to commit trials to.\n",
      "    target_index : int\n",
      "        If the target is multindex, and per_task_metric is passed to evaluate\n",
      "        keywords, must be specified to determine which target is to be\n",
      "        optimized to.\n",
      "    study_db : str\n",
      "        The storage database containing the study to save optimization to.\n",
      "    transformations : list of :obj:deepchem.transformations\n",
      "        The transformations applied to the data to be reveresed for eval\n",
      "    metric : str\n",
      "        Metric name in deepchem to use for evaluation\n",
      "    cv : int\n",
      "        Number of folds to conduct cross validation for.\n",
      "    trials_per_cpu : int\n",
      "        Number of trials to run whenever the function is executed, on each cpu.\n",
      "    model_kwargs : dict\n",
      "        Keyword arguments passed to model init NOT searched over in\n",
      "        search_space\n",
      "    fit_kwargs : dict\n",
      "        Keyword arguments passed to the fit method\n",
      "    eval_kwargs : dict\n",
      "        Keyword arguments passed to the evaluate method.\n",
      "\n"
     ]
    }
   ],
   "source": [
    "help(hypopt_model)"
   ]
  },
  {
   "cell_type": "markdown",
   "id": "10cf58b0-3e9d-469c-b691-6bc1709e7343",
   "metadata": {},
   "source": [
    "***\n",
    "### Minimally prepare a dataset to use for demonstration\n",
    "See the dataprep example notebook for functionality and options in preparing data"
   ]
  },
  {
   "cell_type": "markdown",
   "id": "8a8618cc-727d-4326-adba-741c95289b9f",
   "metadata": {},
   "source": [
    "### <span style='color:red'>NEED TO UPDATE WITH DATABASE CALL</span>"
   ]
  },
  {
   "cell_type": "code",
   "execution_count": 3,
   "id": "04dfe331-f54a-489b-85f6-5df1bedbb320",
   "metadata": {},
   "outputs": [],
   "source": [
    "import cytoxnet.dataprep.io\n",
    "import cytoxnet.dataprep.dataprep\n",
    "import cytoxnet.dataprep.featurize\n",
    "import pandas as pd"
   ]
  },
  {
   "cell_type": "code",
   "execution_count": 4,
   "id": "86cff7c7-20f3-41c6-b31b-56315a8a1949",
   "metadata": {},
   "outputs": [],
   "source": [
    "df = cytoxnet.dataprep.io.load_data('lunghini_algea_EC50')"
   ]
  },
  {
   "cell_type": "code",
   "execution_count": 5,
   "id": "b56888fc-d406-492a-afd1-df550aef4e26",
   "metadata": {},
   "outputs": [],
   "source": [
    "df = cytoxnet.dataprep.featurize.add_features(df, method='RDKitDescriptors')"
   ]
  },
  {
   "cell_type": "code",
   "execution_count": 6,
   "id": "c47fa642-7195-492f-96c8-18a12d81a226",
   "metadata": {},
   "outputs": [],
   "source": [
    "data = cytoxnet.dataprep.dataprep.convert_to_dataset(\n",
    "    df,\n",
    "    X_col='RDKitDescriptors',\n",
    "    y_col='algea_EC50'\n",
    ")"
   ]
  },
  {
   "cell_type": "code",
   "execution_count": 7,
   "id": "0b93195a-861f-4c9f-86fc-12e9a5c717c1",
   "metadata": {},
   "outputs": [],
   "source": [
    "data, transformers = cytoxnet.dataprep.dataprep.data_transformation(\n",
    "    data, ['MinMaxTransformer'], to_transform='y'\n",
    ")"
   ]
  },
  {
   "cell_type": "markdown",
   "id": "0ab9909a-b857-48bc-bf2f-40e13f502025",
   "metadata": {},
   "source": [
    "***\n",
    "### Create a study\n",
    "We first must create an optuna study to store out search on, and save it to disk. We will specifiy `direction` as maximize, as we will choose to optimize the R2 score"
   ]
  },
  {
   "cell_type": "code",
   "execution_count": 8,
   "id": "ca5a38ab-edf5-456a-a8af-567f646b4080",
   "metadata": {},
   "outputs": [],
   "source": [
    "from optuna import create_study"
   ]
  },
  {
   "cell_type": "code",
   "execution_count": 9,
   "id": "1e49efb4-7cf1-492e-999e-95560675fadc",
   "metadata": {},
   "outputs": [
    {
     "name": "stderr",
     "output_type": "stream",
     "text": [
      "\u001b[32m[I 2021-06-04 18:33:06,933]\u001b[0m A new study created in RDB with name: opt\u001b[0m\n"
     ]
    }
   ],
   "source": [
    "mystudy = create_study(storage=\"sqlite:///optimization.db\", study_name='opt', direction='maximize')"
   ]
  },
  {
   "cell_type": "markdown",
   "id": "4b537878-b73a-45c8-99fe-d89e17614a1a",
   "metadata": {},
   "source": [
    "***\n",
    "### Defining space to search over\n",
    "For the model we are searching over, we must define the search space of inititialization hyperparameters. This is a dictionary, and the form of the values in the dictionary determines how they will be sampled. See the `search_space` parameter docs for full details on options for determinging sample space. Here we will search over `n_estimators` choosing uniformly from 5 to 50 in steps of 5, for `min_weight_fraction_leaf` from 0.1 to 0.2 on the logarithmic scale, and for `criterion` choosing from the two available options."
   ]
  },
  {
   "cell_type": "code",
   "execution_count": 10,
   "id": "d3a7eec2-9924-4fa1-b04c-ec3969e76f9c",
   "metadata": {},
   "outputs": [],
   "source": [
    "search_space = {\n",
    "    'n_estimators': (5, 50, 5), # uniform integer sampling from 50 to 50 in steps of 5\n",
    "    'min_weight_fraction_leaf': (0.1, 0.2, 'loguniform'), # logscale from 0.0 to 0.1,\n",
    "    'criterion': ['mse', 'mae'] # a choice\n",
    "}"
   ]
  },
  {
   "cell_type": "markdown",
   "id": "2412fa72-328a-4083-9342-29c6317f1f10",
   "metadata": {},
   "source": [
    "***\n",
    "### Running the optimization\n",
    "Now we wimply have to execture the function with the options we want. This will run 10 trials per cpu. In this case that means 10, since we are only executing it on one CPU once."
   ]
  },
  {
   "cell_type": "code",
   "execution_count": 11,
   "id": "b2fd9faa-ea1e-4c1f-9972-e7faf8c16ba3",
   "metadata": {},
   "outputs": [
    {
     "name": "stdout",
     "output_type": "stream",
     "text": [
      "WARNING: No tasks passed, assuming one target\n",
      "WARNING: No tasks passed, assuming one target\n",
      "WARNING: No tasks passed, assuming one target\n",
      "WARNING: No tasks passed, assuming one target\n",
      "WARNING: No tasks passed, assuming one target\n"
     ]
    },
    {
     "name": "stderr",
     "output_type": "stream",
     "text": [
      "\u001b[32m[I 2021-06-04 18:33:31,348]\u001b[0m Trial 0 finished with value: 0.3622328067498319 and parameters: {'criterion': 'mae', 'min_weight_fraction_leaf': 0.10126466612092125, 'n_estimators': 15}. Best is trial 0 with value: 0.3622328067498319.\u001b[0m\n"
     ]
    },
    {
     "name": "stdout",
     "output_type": "stream",
     "text": [
      "WARNING: No tasks passed, assuming one target\n",
      "WARNING: No tasks passed, assuming one target\n",
      "WARNING: No tasks passed, assuming one target\n",
      "WARNING: No tasks passed, assuming one target\n",
      "WARNING: No tasks passed, assuming one target\n"
     ]
    },
    {
     "name": "stderr",
     "output_type": "stream",
     "text": [
      "\u001b[32m[I 2021-06-04 18:33:32,925]\u001b[0m Trial 1 finished with value: 0.3542675939566397 and parameters: {'criterion': 'mse', 'min_weight_fraction_leaf': 0.13953434994985955, 'n_estimators': 40}. Best is trial 0 with value: 0.3622328067498319.\u001b[0m\n"
     ]
    },
    {
     "name": "stdout",
     "output_type": "stream",
     "text": [
      "WARNING: No tasks passed, assuming one target\n",
      "WARNING: No tasks passed, assuming one target\n",
      "WARNING: No tasks passed, assuming one target\n",
      "WARNING: No tasks passed, assuming one target\n",
      "WARNING: No tasks passed, assuming one target\n"
     ]
    },
    {
     "name": "stderr",
     "output_type": "stream",
     "text": [
      "\u001b[32m[I 2021-06-04 18:34:14,344]\u001b[0m Trial 2 finished with value: 0.356363415738973 and parameters: {'criterion': 'mae', 'min_weight_fraction_leaf': 0.1059605982762334, 'n_estimators': 35}. Best is trial 0 with value: 0.3622328067498319.\u001b[0m\n"
     ]
    },
    {
     "name": "stdout",
     "output_type": "stream",
     "text": [
      "WARNING: No tasks passed, assuming one target\n",
      "WARNING: No tasks passed, assuming one target\n",
      "WARNING: No tasks passed, assuming one target\n",
      "WARNING: No tasks passed, assuming one target\n",
      "WARNING: No tasks passed, assuming one target\n"
     ]
    },
    {
     "name": "stderr",
     "output_type": "stream",
     "text": [
      "\u001b[32m[I 2021-06-04 18:34:33,523]\u001b[0m Trial 3 finished with value: 0.31456192323792564 and parameters: {'criterion': 'mae', 'min_weight_fraction_leaf': 0.19635900963030725, 'n_estimators': 15}. Best is trial 0 with value: 0.3622328067498319.\u001b[0m\n"
     ]
    },
    {
     "name": "stdout",
     "output_type": "stream",
     "text": [
      "WARNING: No tasks passed, assuming one target\n",
      "WARNING: No tasks passed, assuming one target\n",
      "WARNING: No tasks passed, assuming one target\n",
      "WARNING: No tasks passed, assuming one target\n"
     ]
    },
    {
     "name": "stderr",
     "output_type": "stream",
     "text": [
      "\u001b[32m[I 2021-06-04 18:34:33,945]\u001b[0m Trial 4 finished with value: 0.33827500767525265 and parameters: {'criterion': 'mse', 'min_weight_fraction_leaf': 0.15837090338772292, 'n_estimators': 10}. Best is trial 0 with value: 0.3622328067498319.\u001b[0m\n"
     ]
    },
    {
     "name": "stdout",
     "output_type": "stream",
     "text": [
      "WARNING: No tasks passed, assuming one target\n",
      "WARNING: No tasks passed, assuming one target\n",
      "WARNING: No tasks passed, assuming one target\n",
      "WARNING: No tasks passed, assuming one target\n",
      "WARNING: No tasks passed, assuming one target\n",
      "WARNING: No tasks passed, assuming one target\n"
     ]
    },
    {
     "name": "stderr",
     "output_type": "stream",
     "text": [
      "\u001b[32m[I 2021-06-04 18:35:06,473]\u001b[0m Trial 5 finished with value: 0.31257000712928534 and parameters: {'criterion': 'mae', 'min_weight_fraction_leaf': 0.19897961222850935, 'n_estimators': 35}. Best is trial 0 with value: 0.3622328067498319.\u001b[0m\n"
     ]
    },
    {
     "name": "stdout",
     "output_type": "stream",
     "text": [
      "WARNING: No tasks passed, assuming one target\n",
      "WARNING: No tasks passed, assuming one target\n",
      "WARNING: No tasks passed, assuming one target\n",
      "WARNING: No tasks passed, assuming one target\n",
      "WARNING: No tasks passed, assuming one target\n"
     ]
    },
    {
     "name": "stderr",
     "output_type": "stream",
     "text": [
      "\u001b[32m[I 2021-06-04 18:35:25,901]\u001b[0m Trial 6 finished with value: 0.3164445076622703 and parameters: {'criterion': 'mae', 'min_weight_fraction_leaf': 0.19062598001732028, 'n_estimators': 15}. Best is trial 0 with value: 0.3622328067498319.\u001b[0m\n"
     ]
    },
    {
     "name": "stdout",
     "output_type": "stream",
     "text": [
      "WARNING: No tasks passed, assuming one target\n",
      "WARNING: No tasks passed, assuming one target\n",
      "WARNING: No tasks passed, assuming one target\n",
      "WARNING: No tasks passed, assuming one target\n",
      "WARNING: No tasks passed, assuming one target\n"
     ]
    },
    {
     "name": "stderr",
     "output_type": "stream",
     "text": [
      "\u001b[32m[I 2021-06-04 18:35:41,920]\u001b[0m Trial 7 finished with value: 0.3220757858280128 and parameters: {'criterion': 'mae', 'min_weight_fraction_leaf': 0.1674855490592344, 'n_estimators': 15}. Best is trial 0 with value: 0.3622328067498319.\u001b[0m\n"
     ]
    },
    {
     "name": "stdout",
     "output_type": "stream",
     "text": [
      "WARNING: No tasks passed, assuming one target\n",
      "WARNING: No tasks passed, assuming one target\n",
      "WARNING: No tasks passed, assuming one target\n",
      "WARNING: No tasks passed, assuming one target\n",
      "WARNING: No tasks passed, assuming one target\n"
     ]
    },
    {
     "name": "stderr",
     "output_type": "stream",
     "text": [
      "\u001b[32m[I 2021-06-04 18:35:42,210]\u001b[0m Trial 8 finished with value: 0.3616331423373108 and parameters: {'criterion': 'mse', 'min_weight_fraction_leaf': 0.12156915517845218, 'n_estimators': 5}. Best is trial 0 with value: 0.3622328067498319.\u001b[0m\n"
     ]
    },
    {
     "name": "stdout",
     "output_type": "stream",
     "text": [
      "WARNING: No tasks passed, assuming one target\n",
      "WARNING: No tasks passed, assuming one target\n",
      "WARNING: No tasks passed, assuming one target\n",
      "WARNING: No tasks passed, assuming one target\n",
      "WARNING: No tasks passed, assuming one target\n"
     ]
    },
    {
     "name": "stderr",
     "output_type": "stream",
     "text": [
      "\u001b[32m[I 2021-06-04 18:35:44,072]\u001b[0m Trial 9 finished with value: 0.3835943224691388 and parameters: {'criterion': 'mse', 'min_weight_fraction_leaf': 0.10221979337192384, 'n_estimators': 40}. Best is trial 9 with value: 0.3835943224691388.\u001b[0m\n"
     ]
    }
   ],
   "source": [
    "hypopt_model(\n",
    "    model_name = 'RFR',\n",
    "    dev_set = data,\n",
    "    search_space = search_space,\n",
    "    study_name = 'opt',\n",
    "    study_db = \"sqlite:///optimization.db\",\n",
    "    transformations = transformers,\n",
    "    metric = 'r2_score',\n",
    "    trials_per_cpu=10\n",
    ")"
   ]
  },
  {
   "cell_type": "markdown",
   "id": "95136a56-bcbe-460a-bf9a-9df7ea46e8b6",
   "metadata": {},
   "source": [
    "***\n",
    "### Retrieving results\n",
    "We can access the results from the study. If you want to retrieve these results later and do not have the `study` object in memory, use the `optuna.load_study` function.\n",
    "\n",
    "We can see the results for all trails as a dataframe."
   ]
  },
  {
   "cell_type": "code",
   "execution_count": 13,
   "id": "69ea83ee-35d9-451e-8c1e-383c61ce4b71",
   "metadata": {},
   "outputs": [
    {
     "data": {
      "text/html": [
       "<div>\n",
       "<style scoped>\n",
       "    .dataframe tbody tr th:only-of-type {\n",
       "        vertical-align: middle;\n",
       "    }\n",
       "\n",
       "    .dataframe tbody tr th {\n",
       "        vertical-align: top;\n",
       "    }\n",
       "\n",
       "    .dataframe thead th {\n",
       "        text-align: right;\n",
       "    }\n",
       "</style>\n",
       "<table border=\"1\" class=\"dataframe\">\n",
       "  <thead>\n",
       "    <tr style=\"text-align: right;\">\n",
       "      <th></th>\n",
       "      <th>number</th>\n",
       "      <th>value</th>\n",
       "      <th>datetime_start</th>\n",
       "      <th>datetime_complete</th>\n",
       "      <th>duration</th>\n",
       "      <th>params_criterion</th>\n",
       "      <th>params_min_weight_fraction_leaf</th>\n",
       "      <th>params_n_estimators</th>\n",
       "      <th>state</th>\n",
       "    </tr>\n",
       "  </thead>\n",
       "  <tbody>\n",
       "    <tr>\n",
       "      <th>0</th>\n",
       "      <td>0</td>\n",
       "      <td>0.362233</td>\n",
       "      <td>2021-06-04 18:33:07.196852</td>\n",
       "      <td>2021-06-04 18:33:31.334337</td>\n",
       "      <td>0 days 00:00:24.137485</td>\n",
       "      <td>mae</td>\n",
       "      <td>0.101265</td>\n",
       "      <td>15</td>\n",
       "      <td>COMPLETE</td>\n",
       "    </tr>\n",
       "    <tr>\n",
       "      <th>1</th>\n",
       "      <td>1</td>\n",
       "      <td>0.354268</td>\n",
       "      <td>2021-06-04 18:33:31.353982</td>\n",
       "      <td>2021-06-04 18:33:32.911684</td>\n",
       "      <td>0 days 00:00:01.557702</td>\n",
       "      <td>mse</td>\n",
       "      <td>0.139534</td>\n",
       "      <td>40</td>\n",
       "      <td>COMPLETE</td>\n",
       "    </tr>\n",
       "    <tr>\n",
       "      <th>2</th>\n",
       "      <td>2</td>\n",
       "      <td>0.356363</td>\n",
       "      <td>2021-06-04 18:33:32.930842</td>\n",
       "      <td>2021-06-04 18:34:14.329328</td>\n",
       "      <td>0 days 00:00:41.398486</td>\n",
       "      <td>mae</td>\n",
       "      <td>0.105961</td>\n",
       "      <td>35</td>\n",
       "      <td>COMPLETE</td>\n",
       "    </tr>\n",
       "    <tr>\n",
       "      <th>3</th>\n",
       "      <td>3</td>\n",
       "      <td>0.314562</td>\n",
       "      <td>2021-06-04 18:34:14.350075</td>\n",
       "      <td>2021-06-04 18:34:33.510318</td>\n",
       "      <td>0 days 00:00:19.160243</td>\n",
       "      <td>mae</td>\n",
       "      <td>0.196359</td>\n",
       "      <td>15</td>\n",
       "      <td>COMPLETE</td>\n",
       "    </tr>\n",
       "    <tr>\n",
       "      <th>4</th>\n",
       "      <td>4</td>\n",
       "      <td>0.338275</td>\n",
       "      <td>2021-06-04 18:34:33.530223</td>\n",
       "      <td>2021-06-04 18:34:33.932495</td>\n",
       "      <td>0 days 00:00:00.402272</td>\n",
       "      <td>mse</td>\n",
       "      <td>0.158371</td>\n",
       "      <td>10</td>\n",
       "      <td>COMPLETE</td>\n",
       "    </tr>\n",
       "    <tr>\n",
       "      <th>5</th>\n",
       "      <td>5</td>\n",
       "      <td>0.312570</td>\n",
       "      <td>2021-06-04 18:34:33.952254</td>\n",
       "      <td>2021-06-04 18:35:06.460572</td>\n",
       "      <td>0 days 00:00:32.508318</td>\n",
       "      <td>mae</td>\n",
       "      <td>0.198980</td>\n",
       "      <td>35</td>\n",
       "      <td>COMPLETE</td>\n",
       "    </tr>\n",
       "    <tr>\n",
       "      <th>6</th>\n",
       "      <td>6</td>\n",
       "      <td>0.316445</td>\n",
       "      <td>2021-06-04 18:35:06.480159</td>\n",
       "      <td>2021-06-04 18:35:25.887704</td>\n",
       "      <td>0 days 00:00:19.407545</td>\n",
       "      <td>mae</td>\n",
       "      <td>0.190626</td>\n",
       "      <td>15</td>\n",
       "      <td>COMPLETE</td>\n",
       "    </tr>\n",
       "    <tr>\n",
       "      <th>7</th>\n",
       "      <td>7</td>\n",
       "      <td>0.322076</td>\n",
       "      <td>2021-06-04 18:35:25.907520</td>\n",
       "      <td>2021-06-04 18:35:41.907756</td>\n",
       "      <td>0 days 00:00:16.000236</td>\n",
       "      <td>mae</td>\n",
       "      <td>0.167486</td>\n",
       "      <td>15</td>\n",
       "      <td>COMPLETE</td>\n",
       "    </tr>\n",
       "    <tr>\n",
       "      <th>8</th>\n",
       "      <td>8</td>\n",
       "      <td>0.361633</td>\n",
       "      <td>2021-06-04 18:35:41.927529</td>\n",
       "      <td>2021-06-04 18:35:42.196855</td>\n",
       "      <td>0 days 00:00:00.269326</td>\n",
       "      <td>mse</td>\n",
       "      <td>0.121569</td>\n",
       "      <td>5</td>\n",
       "      <td>COMPLETE</td>\n",
       "    </tr>\n",
       "    <tr>\n",
       "      <th>9</th>\n",
       "      <td>9</td>\n",
       "      <td>0.383594</td>\n",
       "      <td>2021-06-04 18:35:42.217148</td>\n",
       "      <td>2021-06-04 18:35:44.059149</td>\n",
       "      <td>0 days 00:00:01.842001</td>\n",
       "      <td>mse</td>\n",
       "      <td>0.102220</td>\n",
       "      <td>40</td>\n",
       "      <td>COMPLETE</td>\n",
       "    </tr>\n",
       "  </tbody>\n",
       "</table>\n",
       "</div>"
      ],
      "text/plain": [
       "   number     value             datetime_start          datetime_complete  \\\n",
       "0       0  0.362233 2021-06-04 18:33:07.196852 2021-06-04 18:33:31.334337   \n",
       "1       1  0.354268 2021-06-04 18:33:31.353982 2021-06-04 18:33:32.911684   \n",
       "2       2  0.356363 2021-06-04 18:33:32.930842 2021-06-04 18:34:14.329328   \n",
       "3       3  0.314562 2021-06-04 18:34:14.350075 2021-06-04 18:34:33.510318   \n",
       "4       4  0.338275 2021-06-04 18:34:33.530223 2021-06-04 18:34:33.932495   \n",
       "5       5  0.312570 2021-06-04 18:34:33.952254 2021-06-04 18:35:06.460572   \n",
       "6       6  0.316445 2021-06-04 18:35:06.480159 2021-06-04 18:35:25.887704   \n",
       "7       7  0.322076 2021-06-04 18:35:25.907520 2021-06-04 18:35:41.907756   \n",
       "8       8  0.361633 2021-06-04 18:35:41.927529 2021-06-04 18:35:42.196855   \n",
       "9       9  0.383594 2021-06-04 18:35:42.217148 2021-06-04 18:35:44.059149   \n",
       "\n",
       "                duration params_criterion  params_min_weight_fraction_leaf  \\\n",
       "0 0 days 00:00:24.137485              mae                         0.101265   \n",
       "1 0 days 00:00:01.557702              mse                         0.139534   \n",
       "2 0 days 00:00:41.398486              mae                         0.105961   \n",
       "3 0 days 00:00:19.160243              mae                         0.196359   \n",
       "4 0 days 00:00:00.402272              mse                         0.158371   \n",
       "5 0 days 00:00:32.508318              mae                         0.198980   \n",
       "6 0 days 00:00:19.407545              mae                         0.190626   \n",
       "7 0 days 00:00:16.000236              mae                         0.167486   \n",
       "8 0 days 00:00:00.269326              mse                         0.121569   \n",
       "9 0 days 00:00:01.842001              mse                         0.102220   \n",
       "\n",
       "   params_n_estimators     state  \n",
       "0                   15  COMPLETE  \n",
       "1                   40  COMPLETE  \n",
       "2                   35  COMPLETE  \n",
       "3                   15  COMPLETE  \n",
       "4                   10  COMPLETE  \n",
       "5                   35  COMPLETE  \n",
       "6                   15  COMPLETE  \n",
       "7                   15  COMPLETE  \n",
       "8                    5  COMPLETE  \n",
       "9                   40  COMPLETE  "
      ]
     },
     "execution_count": 13,
     "metadata": {},
     "output_type": "execute_result"
    }
   ],
   "source": [
    "mystudy.trials_dataframe()"
   ]
  },
  {
   "cell_type": "markdown",
   "id": "b8ffa311-7751-4748-b3c0-187bce107eb5",
   "metadata": {},
   "source": [
    "We can also get the best set of parameters searched for."
   ]
  },
  {
   "cell_type": "code",
   "execution_count": 14,
   "id": "428ff061-3aeb-4060-b449-6a81e3c7a501",
   "metadata": {},
   "outputs": [
    {
     "data": {
      "text/plain": [
       "{'criterion': 'mse',\n",
       " 'min_weight_fraction_leaf': 0.10221979337192384,\n",
       " 'n_estimators': 40}"
      ]
     },
     "execution_count": 14,
     "metadata": {},
     "output_type": "execute_result"
    }
   ],
   "source": [
    "mystudy.best_params"
   ]
  },
  {
   "cell_type": "code",
   "execution_count": 15,
   "id": "9cd6c8b7-2e24-49f0-b76d-cd87d8462603",
   "metadata": {},
   "outputs": [
    {
     "data": {
      "text/plain": [
       "0.3835943224691388"
      ]
     },
     "execution_count": 15,
     "metadata": {},
     "output_type": "execute_result"
    }
   ],
   "source": [
    "mystudy.best_value"
   ]
  },
  {
   "cell_type": "code",
   "execution_count": null,
   "id": "e08a74c4-8971-4b06-a94a-e7d61eba5293",
   "metadata": {},
   "outputs": [],
   "source": []
  }
 ],
 "metadata": {
  "kernelspec": {
   "display_name": "Python 3",
   "language": "python",
   "name": "python3"
  },
  "language_info": {
   "codemirror_mode": {
    "name": "ipython",
    "version": 3
   },
   "file_extension": ".py",
   "mimetype": "text/x-python",
   "name": "python",
   "nbconvert_exporter": "python",
   "pygments_lexer": "ipython3",
   "version": "3.6.13"
  }
 },
 "nbformat": 4,
 "nbformat_minor": 5
}
